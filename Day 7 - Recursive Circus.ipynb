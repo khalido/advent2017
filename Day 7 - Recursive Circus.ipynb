{
 "cells": [
  {
   "cell_type": "markdown",
   "metadata": {},
   "source": [
    "# --- Day 7: Recursive Circus ---\n",
    "\n",
    "Wandering further through the circuits of the computer, you come upon a tower of programs that have gotten themselves into a bit of trouble. A recursive algorithm has gotten out of hand, and now they're balanced precariously in a large tower.\n",
    "\n",
    "One program at the bottom supports the entire tower. It's holding a large disc, and on the disc are balanced several more sub-towers. At the bottom of these sub-towers, standing on the bottom disc, are other programs, each holding their own disc, and so on. At the very tops of these sub-sub-sub-...-towers, many programs stand simply keeping the disc below them balanced but with no disc of their own.\n",
    "\n",
    "You offer to help, but first you need to understand the structure of these towers. You ask each program to yell out their name, their weight, and (if they're holding a disc) the names of the programs immediately above them balancing on that disc. You write this information down (your puzzle input). Unfortunately, in their panic, they don't do this in an orderly fashion; by the time you're done, you're not sure which program gave which information.\n",
    "\n",
    "For example, if your list is the following:\n",
    "\n",
    "```\n",
    "pbga (66)\n",
    "xhth (57)\n",
    "ebii (61)\n",
    "havc (66)\n",
    "ktlj (57)\n",
    "fwft (72) -> ktlj, cntj, xhth\n",
    "qoyq (66)\n",
    "padx (45) -> pbga, havc, qoyq\n",
    "tknk (41) -> ugml, padx, fwft\n",
    "jptl (61)\n",
    "ugml (68) -> gyxo, ebii, jptl\n",
    "gyxo (61)\n",
    "cntj (57)\n",
    "```\n",
    "\n",
    "...then you would be able to recreate the structure of the towers that looks like this:\n",
    "\n",
    "```\n",
    "                gyxo\n",
    "              /     \n",
    "         ugml - ebii\n",
    "       /      \\     \n",
    "      |         jptl\n",
    "      |        \n",
    "      |         pbga\n",
    "     /        /\n",
    "tknk --- padx - havc\n",
    "     \\        \\\n",
    "      |         qoyq\n",
    "      |             \n",
    "      |         ktlj\n",
    "       \\      /     \n",
    "         fwft - cntj\n",
    "              \\     \n",
    "                xhth\n",
    "```\n",
    "\n",
    "In this example, tknk is at the bottom of the tower (the bottom program), and is holding up ugml, padx, and fwft. Those programs are, in turn, holding up other programs; in this example, none of those programs are holding up any other programs, and are all the tops of their own towers. (The actual tower balancing in front of you is much larger.)\n",
    "\n",
    "Before you're ready to help them, you need to make sure your information is correct. What is the name of the bottom program?"
   ]
  },
  {
   "cell_type": "markdown",
   "metadata": {},
   "source": [
    "## Graphs!\n",
    "\n",
    "We get to build a graph! now there are many libraries, but how would I do this without using a library?\n",
    "\n",
    "First, the test input:"
   ]
  },
  {
   "cell_type": "code",
   "execution_count": 15,
   "metadata": {},
   "outputs": [
    {
     "name": "stdout",
     "output_type": "stream",
     "text": [
      "the test case answer is: tknk\n"
     ]
    },
    {
     "data": {
      "text/plain": [
       "['pbga (66)',\n",
       " 'xhth (57)',\n",
       " 'ebii (61)',\n",
       " 'havc (66)',\n",
       " 'ktlj (57)',\n",
       " 'fwft (72) -> ktlj, cntj, xhth',\n",
       " 'qoyq (66)',\n",
       " 'padx (45) -> pbga, havc, qoyq',\n",
       " 'tknk (41) -> ugml, padx, fwft',\n",
       " 'jptl (61)',\n",
       " 'ugml (68) -> gyxo, ebii, jptl',\n",
       " 'gyxo (61)',\n",
       " 'cntj (57)']"
      ]
     },
     "execution_count": 15,
     "metadata": {},
     "output_type": "execute_result"
    }
   ],
   "source": [
    "test_case = \"\"\"pbga (66)\n",
    "xhth (57)\n",
    "ebii (61)\n",
    "havc (66)\n",
    "ktlj (57)\n",
    "fwft (72) -> ktlj, cntj, xhth\n",
    "qoyq (66)\n",
    "padx (45) -> pbga, havc, qoyq\n",
    "tknk (41) -> ugml, padx, fwft\n",
    "jptl (61)\n",
    "ugml (68) -> gyxo, ebii, jptl\n",
    "gyxo (61)\n",
    "cntj (57)\"\"\".split(\"\\n\")\n",
    "\n",
    "print(f\"the test case answer is: tknk\")\n",
    "test_case"
   ]
  },
  {
   "cell_type": "code",
   "execution_count": 18,
   "metadata": {},
   "outputs": [
    {
     "data": {
      "text/plain": [
       "['pbga',\n",
       " 'xhth',\n",
       " 'ebii',\n",
       " 'havc',\n",
       " 'ktlj',\n",
       " 'fwft',\n",
       " 'qoyq',\n",
       " 'padx',\n",
       " 'tknk',\n",
       " 'jptl',\n",
       " 'ugml',\n",
       " 'gyxo',\n",
       " 'cntj']"
      ]
     },
     "execution_count": 18,
     "metadata": {},
     "output_type": "execute_result"
    }
   ],
   "source": [
    "all_progs = [line.split()[0] for line in test_case]\n",
    "all_progs"
   ]
  },
  {
   "cell_type": "code",
   "execution_count": 20,
   "metadata": {},
   "outputs": [
    {
     "data": {
      "text/plain": [
       "['fwft', 'padx', 'tknk', 'ugml']"
      ]
     },
     "execution_count": 20,
     "metadata": {},
     "output_type": "execute_result"
    }
   ],
   "source": [
    "progs_with_children = [line.split()[0] for line in test_case if \"->\" in line]\n",
    "progs_with_children"
   ]
  },
  {
   "cell_type": "code",
   "execution_count": 11,
   "metadata": {},
   "outputs": [
    {
     "data": {
      "text/plain": [
       "['tqefb (40)',\n",
       " 'lhrml (164) -> ecblhee, sdjshz',\n",
       " 'ykntwjm (16)',\n",
       " 'fbebcq (233) -> ilzfg, vqbvnf, idyiyg, tifpswp',\n",
       " 'rqjpza (1043) -> xszbzi, zafhcbb, qoouyiw']"
      ]
     },
     "execution_count": 11,
     "metadata": {},
     "output_type": "execute_result"
    }
   ],
   "source": [
    "with open('puzzle_inputs/day7_input.txt') as f:\n",
    "    data = f.read().split(\"\\n\")\n",
    "data = [line for line in data if len(line)>0]\n",
    "data[:5]"
   ]
  },
  {
   "cell_type": "code",
   "execution_count": null,
   "metadata": {},
   "outputs": [],
   "source": []
  }
 ],
 "metadata": {
  "kernelspec": {
   "display_name": "Python 3",
   "language": "python",
   "name": "python3"
  },
  "language_info": {
   "codemirror_mode": {
    "name": "ipython",
    "version": 3
   },
   "file_extension": ".py",
   "mimetype": "text/x-python",
   "name": "python",
   "nbconvert_exporter": "python",
   "pygments_lexer": "ipython3",
   "version": "3.6.3"
  }
 },
 "nbformat": 4,
 "nbformat_minor": 2
}

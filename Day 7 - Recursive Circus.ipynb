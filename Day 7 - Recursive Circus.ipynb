{
 "cells": [
  {
   "cell_type": "markdown",
   "metadata": {},
   "source": [
    "# --- Day 7: Recursive Circus ---\n",
    "\n",
    "Wandering further through the circuits of the computer, you come upon a tower of programs that have gotten themselves into a bit of trouble. A recursive algorithm has gotten out of hand, and now they're balanced precariously in a large tower.\n",
    "\n",
    "One program at the bottom supports the entire tower. It's holding a large disc, and on the disc are balanced several more sub-towers. At the bottom of these sub-towers, standing on the bottom disc, are other programs, each holding their own disc, and so on. At the very tops of these sub-sub-sub-...-towers, many programs stand simply keeping the disc below them balanced but with no disc of their own.\n",
    "\n",
    "You offer to help, but first you need to understand the structure of these towers. You ask each program to yell out their name, their weight, and (if they're holding a disc) the names of the programs immediately above them balancing on that disc. You write this information down (your puzzle input). Unfortunately, in their panic, they don't do this in an orderly fashion; by the time you're done, you're not sure which program gave which information.\n",
    "\n",
    "For example, if your list is the following:\n",
    "\n",
    "```\n",
    "pbga (66)\n",
    "xhth (57)\n",
    "ebii (61)\n",
    "havc (66)\n",
    "ktlj (57)\n",
    "fwft (72) -> ktlj, cntj, xhth\n",
    "qoyq (66)\n",
    "padx (45) -> pbga, havc, qoyq\n",
    "tknk (41) -> ugml, padx, fwft\n",
    "jptl (61)\n",
    "ugml (68) -> gyxo, ebii, jptl\n",
    "gyxo (61)\n",
    "cntj (57)\n",
    "```\n",
    "\n",
    "...then you would be able to recreate the structure of the towers that looks like this:\n",
    "\n",
    "```\n",
    "                gyxo\n",
    "              /     \n",
    "         ugml - ebii\n",
    "       /      \\     \n",
    "      |         jptl\n",
    "      |        \n",
    "      |         pbga\n",
    "     /        /\n",
    "tknk --- padx - havc\n",
    "     \\        \\\n",
    "      |         qoyq\n",
    "      |             \n",
    "      |         ktlj\n",
    "       \\      /     \n",
    "         fwft - cntj\n",
    "              \\     \n",
    "                xhth\n",
    "```\n",
    "\n",
    "In this example, tknk is at the bottom of the tower (the bottom program), and is holding up ugml, padx, and fwft. Those programs are, in turn, holding up other programs; in this example, none of those programs are holding up any other programs, and are all the tops of their own towers. (The actual tower balancing in front of you is much larger.)\n",
    "\n",
    "Before you're ready to help them, you need to make sure your information is correct. What is the name of the bottom program?"
   ]
  },
  {
   "cell_type": "markdown",
   "metadata": {},
   "source": [
    "## a non graph hacky way to answe this\n",
    "\n",
    "The obvious way to answer this is to build a graph, but since the problem is so well defined - there is only one parent node, we can figure this out without lists.\n",
    "\n",
    "First, the test input:"
   ]
  },
  {
   "cell_type": "code",
   "execution_count": 2,
   "metadata": {},
   "outputs": [
    {
     "name": "stdout",
     "output_type": "stream",
     "text": [
      "the test case answer is: tknk\n"
     ]
    },
    {
     "data": {
      "text/plain": [
       "['pbga (66)',\n",
       " 'xhth (57)',\n",
       " 'ebii (61)',\n",
       " 'havc (66)',\n",
       " 'ktlj (57)',\n",
       " 'fwft (72) -> ktlj, cntj, xhth',\n",
       " 'qoyq (66)',\n",
       " 'padx (45) -> pbga, havc, qoyq',\n",
       " 'tknk (41) -> ugml, padx, fwft',\n",
       " 'jptl (61)',\n",
       " 'ugml (68) -> gyxo, ebii, jptl',\n",
       " 'gyxo (61)',\n",
       " 'cntj (57)']"
      ]
     },
     "execution_count": 2,
     "metadata": {},
     "output_type": "execute_result"
    }
   ],
   "source": [
    "test_case = \"\"\"pbga (66)\n",
    "xhth (57)\n",
    "ebii (61)\n",
    "havc (66)\n",
    "ktlj (57)\n",
    "fwft (72) -> ktlj, cntj, xhth\n",
    "qoyq (66)\n",
    "padx (45) -> pbga, havc, qoyq\n",
    "tknk (41) -> ugml, padx, fwft\n",
    "jptl (61)\n",
    "ugml (68) -> gyxo, ebii, jptl\n",
    "gyxo (61)\n",
    "cntj (57)\"\"\".split(\"\\n\")\n",
    "\n",
    "print(f\"the test case answer is: tknk\")\n",
    "test_case"
   ]
  },
  {
   "cell_type": "markdown",
   "metadata": {},
   "source": [
    "Now a list of all the nodes:"
   ]
  },
  {
   "cell_type": "code",
   "execution_count": 3,
   "metadata": {},
   "outputs": [
    {
     "data": {
      "text/plain": [
       "['pbga', 'xhth', 'ebii', 'havc', 'ktlj']"
      ]
     },
     "execution_count": 3,
     "metadata": {},
     "output_type": "execute_result"
    }
   ],
   "source": [
    "nodes = [line.split()[0] for line in test_case]\n",
    "nodes[:5]"
   ]
  },
  {
   "cell_type": "markdown",
   "metadata": {},
   "source": [
    "Now a list of just the parent nodes (the ones which have children):"
   ]
  },
  {
   "cell_type": "code",
   "execution_count": 4,
   "metadata": {},
   "outputs": [
    {
     "data": {
      "text/plain": [
       "['fwft', 'padx', 'tknk', 'ugml']"
      ]
     },
     "execution_count": 4,
     "metadata": {},
     "output_type": "execute_result"
    }
   ],
   "source": [
    "parents = [line.split()[0] for line in test_case if \"->\" in line]\n",
    "parents"
   ]
  },
  {
   "cell_type": "code",
   "execution_count": 5,
   "metadata": {},
   "outputs": [
    {
     "data": {
      "text/plain": [
       "[['ktlj,', 'cntj,', 'xhth'],\n",
       " ['pbga,', 'havc,', 'qoyq'],\n",
       " ['ugml,', 'padx,', 'fwft'],\n",
       " ['gyxo,', 'ebii,', 'jptl']]"
      ]
     },
     "execution_count": 5,
     "metadata": {},
     "output_type": "execute_result"
    }
   ],
   "source": [
    "children_nodes = [line.split()[3:] for line in test_case if \"->\" in line]\n",
    "children_nodes"
   ]
  },
  {
   "cell_type": "markdown",
   "metadata": {},
   "source": [
    "I want a nice flat list of all the children nodes, so I use chain to flatten out the list, and also here I strip the punctuation characters from the nodes:"
   ]
  },
  {
   "cell_type": "code",
   "execution_count": 7,
   "metadata": {},
   "outputs": [
    {
     "data": {
      "text/plain": [
       "['ktlj',\n",
       " 'cntj',\n",
       " 'xhth',\n",
       " 'pbga',\n",
       " 'havc',\n",
       " 'qoyq',\n",
       " 'ugml',\n",
       " 'padx',\n",
       " 'fwft',\n",
       " 'gyxo',\n",
       " 'ebii',\n",
       " 'jptl']"
      ]
     },
     "execution_count": 7,
     "metadata": {},
     "output_type": "execute_result"
    }
   ],
   "source": [
    "import re\n",
    "from itertools import chain\n",
    "childs = [re.sub('[\\W_]+', \"\", node) for node in chain(*children_nodes)]\n",
    "childs"
   ]
  },
  {
   "cell_type": "markdown",
   "metadata": {},
   "source": [
    "the answer should just be:"
   ]
  },
  {
   "cell_type": "code",
   "execution_count": 8,
   "metadata": {},
   "outputs": [
    {
     "data": {
      "text/plain": [
       "['tknk']"
      ]
     },
     "execution_count": 8,
     "metadata": {},
     "output_type": "execute_result"
    }
   ],
   "source": [
    "[node for node in parents if node not in childs]"
   ]
  },
  {
   "cell_type": "markdown",
   "metadata": {},
   "source": [
    "Now to make it into a function:"
   ]
  },
  {
   "cell_type": "code",
   "execution_count": 9,
   "metadata": {},
   "outputs": [
    {
     "data": {
      "text/plain": [
       "['tknk']"
      ]
     },
     "execution_count": 9,
     "metadata": {},
     "output_type": "execute_result"
    }
   ],
   "source": [
    "from itertools import chain\n",
    "    \n",
    "def top_node(test_case):\n",
    "    \"\"\"takes in a tree in text form and returns the name of the parent node\"\"\"\n",
    "    parents = [line.split()[0] for line in test_case if \"->\" in line]\n",
    "    children_nodes = [line.split()[3:] for line in test_case if \"->\" in line]\n",
    "    childs = [re.sub('[\\W_]+', \"\", node) for node in chain(*children_nodes)]\n",
    "    return [node for node in parents if node not in childs]\n",
    "\n",
    "top_node(test_case)"
   ]
  },
  {
   "cell_type": "markdown",
   "metadata": {},
   "source": [
    "Now to read in the puzzle data and get the parent node:"
   ]
  },
  {
   "cell_type": "code",
   "execution_count": 10,
   "metadata": {},
   "outputs": [
    {
     "data": {
      "text/plain": [
       "['tqefb (40)',\n",
       " 'lhrml (164) -> ecblhee, sdjshz',\n",
       " 'ykntwjm (16)',\n",
       " 'fbebcq (233) -> ilzfg, vqbvnf, idyiyg, tifpswp',\n",
       " 'rqjpza (1043) -> xszbzi, zafhcbb, qoouyiw']"
      ]
     },
     "execution_count": 10,
     "metadata": {},
     "output_type": "execute_result"
    }
   ],
   "source": [
    "with open('puzzle_inputs/day7_input.txt') as f:\n",
    "    data = f.read().split(\"\\n\")\n",
    "data = [line for line in data if len(line)>0]\n",
    "data[:5]"
   ]
  },
  {
   "cell_type": "code",
   "execution_count": 11,
   "metadata": {},
   "outputs": [
    {
     "data": {
      "text/plain": [
       "['cyrupz']"
      ]
     },
     "execution_count": 11,
     "metadata": {},
     "output_type": "execute_result"
    }
   ],
   "source": [
    "top_node(data)"
   ]
  },
  {
   "cell_type": "markdown",
   "metadata": {},
   "source": [
    "And that works! But, to do part two, I need to rewrite this..."
   ]
  },
  {
   "cell_type": "markdown",
   "metadata": {},
   "source": [
    "# --- Part Two ---\n",
    "\n",
    "The programs explain the situation: they can't get down. Rather, they could get down, if they weren't expending all of their energy trying to keep the tower balanced. Apparently, one program has the wrong weight, and until it's fixed, they're stuck here.\n",
    "\n",
    "For any program holding a disc, each program standing on that disc forms a sub-tower. Each of those sub-towers are supposed to be the same weight, or the disc itself isn't balanced. The weight of a tower is the sum of the weights of the programs in that tower.\n",
    "\n",
    "In the example above, this means that for ugml's disc to be balanced, gyxo, ebii, and jptl must all have the same weight, and they do: 61.\n",
    "\n",
    "However, for tknk to be balanced, each of the programs standing on its disc and all programs above it must each match. This means that the following sums must all be the same:\n",
    "\n",
    "```\n",
    "ugml + (gyxo + ebii + jptl) = 68 + (61 + 61 + 61) = 251\n",
    "padx + (pbga + havc + qoyq) = 45 + (66 + 66 + 66) = 243\n",
    "fwft + (ktlj + cntj + xhth) = 72 + (57 + 57 + 57) = 243\n",
    "```\n",
    "\n",
    "As you can see, tknk's disc is unbalanced: ugml's stack is heavier than the other two. Even though the nodes above ugml are balanced, ugml itself is too heavy: it needs to be 8 units lighter for its stack to weigh 243 and keep the towers balanced. If this change were made, its weight would be 60.\n",
    "\n",
    "Given that exactly one program is the wrong weight, what would its weight need to be to balance the entire tower?"
   ]
  },
  {
   "cell_type": "markdown",
   "metadata": {},
   "source": [
    "I'm going to build a tower:"
   ]
  },
  {
   "cell_type": "code",
   "execution_count": 41,
   "metadata": {},
   "outputs": [],
   "source": [
    "class Tower:\n",
    "    def __init__(self, name, weight, parent=None, sub_towers=[]):\n",
    "        self.name = name\n",
    "        self.weight = weight\n",
    "        self.parent = parent\n",
    "        self.sub_towers = sub_towers\n",
    "    \n",
    "    def total_weight():\n",
    "        \"\"\"returns total weight of the tower\"\"\"\n",
    "        if self.sub_towers:\n",
    "            sub_towers_weight = sum([t.total_weight() for t in self.sub_towers])\n",
    "            print(sub_towers_weight)\n",
    "            return self.weight + sub_towers_weight\n",
    "        else:\n",
    "            return self.weight\n",
    "        \n",
    "    def __str__(self):\n",
    "        return f\"{self.name}, {self.weight}, has {sub_towers} subtowers\""
   ]
  },
  {
   "cell_type": "code",
   "execution_count": 42,
   "metadata": {},
   "outputs": [],
   "source": [
    "def build_tower(test_case):\n",
    "    \"\"\"takes in a list of strings representing the nodes, weights and their sub nodes, returns a tower\"\"\"\n",
    "    return False"
   ]
  },
  {
   "cell_type": "code",
   "execution_count": 44,
   "metadata": {},
   "outputs": [
    {
     "name": "stdout",
     "output_type": "stream",
     "text": [
      "pbga, 66, has [] subtowers\n",
      "xhth, 57, has [] subtowers\n",
      "ebii, 61, has [] subtowers\n",
      "havc, 66, has [] subtowers\n",
      "ktlj, 57, has [] subtowers\n",
      "fwft, 72, has ['ktlj', 'cntj', 'xhth'] subtowers\n",
      "qoyq, 66, has [] subtowers\n",
      "padx, 45, has ['pbga', 'havc', 'qoyq'] subtowers\n",
      "tknk, 41, has ['ugml', 'padx', 'fwft'] subtowers\n",
      "jptl, 61, has [] subtowers\n",
      "ugml, 68, has ['gyxo', 'ebii', 'jptl'] subtowers\n",
      "gyxo, 61, has [] subtowers\n",
      "cntj, 57, has [] subtowers\n"
     ]
    }
   ],
   "source": [
    "def parse_line(tower_desc):\n",
    "    tower = tower_desc.split()\n",
    "    name = tower[0]\n",
    "    weight = re.sub('[\\W_]+', \"\", tower[1])\n",
    "    sub_towers = []\n",
    "    \n",
    "    # deal with subtowers\n",
    "    if len(line) > 3:\n",
    "        sub_towers = [re.sub('[\\W]+', \"\", node) for node in line[3:]]\n",
    "        \n",
    "    return name, weight, sub_towers\n",
    "    \n",
    "for line in test_case:\n",
    "    line = line.split()\n",
    "    name = line[0]\n",
    "    weight = re.sub('[\\W_]+', \"\", line[1])\n",
    "    sub_towers = []\n",
    "    \n",
    "    # deal with subtowers\n",
    "    if len(line) > 3:\n",
    "        sub_towers = [re.sub('[\\W]+', \"\", node) for node in line[3:]]\n",
    "    \n",
    "    t = Tower(name, weight, None, sub_towers)\n",
    "    print(t)"
   ]
  },
  {
   "cell_type": "code",
   "execution_count": null,
   "metadata": {},
   "outputs": [],
   "source": []
  }
 ],
 "metadata": {
  "kernelspec": {
   "display_name": "Python 3",
   "language": "python",
   "name": "python3"
  },
  "language_info": {
   "codemirror_mode": {
    "name": "ipython",
    "version": 3
   },
   "file_extension": ".py",
   "mimetype": "text/x-python",
   "name": "python",
   "nbconvert_exporter": "python",
   "pygments_lexer": "ipython3",
   "version": "3.6.3"
  }
 },
 "nbformat": 4,
 "nbformat_minor": 2
}

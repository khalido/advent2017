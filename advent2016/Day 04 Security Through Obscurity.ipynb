{
 "cells": [
  {
   "cell_type": "markdown",
   "metadata": {},
   "source": [
    "# --- Day 4: Security Through Obscurity ---\n",
    "\n",
    "Finally, you come across an information kiosk with a list of rooms. Of course, the list is encrypted and full of decoy data, but the instructions to decode the list are barely hidden nearby. Better remove the decoy data first.\n",
    "\n",
    "Each room consists of an encrypted name (lowercase letters separated by dashes) followed by a dash, a sector ID, and a checksum in square brackets.\n",
    "\n",
    "A room is real (not a decoy) if the checksum is the five most common letters in the encrypted name, in order, with ties broken by alphabetization. For example:\n",
    "\n",
    "- `aaaaa-bbb-z-y-x-123[abxyz]` is a real room because the most common letters are a (5), b (3), and then a tie between x, y, and z, which are listed alphabetically.\n",
    "- `a-b-c-d-e-f-g-h-987[abcde]` is a real room because although the letters are all tied (1 of each), the first five are listed alphabetically.\n",
    "- `not-a-real-room-404[oarel]` is a real room.\n",
    "- `totally-real-room-200[decoy]` is not.\n",
    "\n",
    "Of the real rooms from the list above, the sum of their sector IDs is 1514.\n",
    "\n",
    "**What is the sum of the sector IDs of the real rooms?**"
   ]
  },
  {
   "cell_type": "code",
   "execution_count": 173,
   "metadata": {},
   "outputs": [
    {
     "data": {
      "text/plain": [
       "['aczupnetwp-dnlgpyrpc-sfye-dstaatyr-561[patyc]',\n",
       " 'jsehsyafy-vqw-ljsafafy-866[nymla]',\n",
       " 'tyepcyletzylw-ncjzrpytn-prr-opawzjxpye-743[cnrdl]']"
      ]
     },
     "execution_count": 173,
     "metadata": {},
     "output_type": "execute_result"
    }
   ],
   "source": [
    "# the puzzle input\n",
    "with open('inputs/4.txt') as f:\n",
    "    data = f.read().strip().split(\"\\n\")\n",
    "data[:3]"
   ]
  },
  {
   "cell_type": "markdown",
   "metadata": {},
   "source": [
    "first up, lets seperate each line into its room name, sector_id and checksum."
   ]
  },
  {
   "cell_type": "code",
   "execution_count": 92,
   "metadata": {},
   "outputs": [
    {
     "data": {
      "text/plain": [
       "Room(name='aczupnetwp-dnlgpyrpc-sfye-dstaatyr', id=561, checksum='patyc')"
      ]
     },
     "execution_count": 92,
     "metadata": {},
     "output_type": "execute_result"
    }
   ],
   "source": [
    "import re\n",
    "from collections import namedtuple, Counter\n",
    "\n",
    "Room = namedtuple(\"Room\", [\"name\", \"id\", \"checksum\"])\n",
    "\n",
    "def parse_line(line):\n",
    "    m = re.search(\"\\d+\", line) # find all the digits\n",
    "    room_name = line[:m.span()[0]-1]\n",
    "    sector_id = int(m[0])\n",
    "    checksum = line[m.span()[1]+1:-1]\n",
    "    return Room(room_name, sector_id, checksum)\n",
    "\n",
    "parse_line(line)"
   ]
  },
  {
   "cell_type": "markdown",
   "metadata": {},
   "source": [
    "Now to parse all our rooms into a list:"
   ]
  },
  {
   "cell_type": "code",
   "execution_count": 93,
   "metadata": {},
   "outputs": [
    {
     "data": {
      "text/plain": [
       "[Room(name='aczupnetwp-dnlgpyrpc-sfye-dstaatyr', id=561, checksum='patyc'),\n",
       " Room(name='jsehsyafy-vqw-ljsafafy', id=866, checksum='nymla'),\n",
       " Room(name='tyepcyletzylw-ncjzrpytn-prr-opawzjxpye', id=743, checksum='cnrdl')]"
      ]
     },
     "execution_count": 93,
     "metadata": {},
     "output_type": "execute_result"
    }
   ],
   "source": [
    "rooms = [parse_line(room) for room in data]\n",
    "rooms[:3]"
   ]
  },
  {
   "cell_type": "markdown",
   "metadata": {},
   "source": [
    "So, first up I used `Counter(room_name).most_common(5)` but that failed as Counter breaks ties arbitarily. So I had to use most_common() and break ties first by number then alphabetically."
   ]
  },
  {
   "cell_type": "code",
   "execution_count": 120,
   "metadata": {},
   "outputs": [
    {
     "name": "stdout",
     "output_type": "stream",
     "text": [
      "[('p', 4), ('a', 3), ('t', 3), ('y', 3), ('c', 2), ('n', 2), ('e', 2), ('d', 2), ('r', 2), ('s', 2)]\n"
     ]
    },
    {
     "data": {
      "text/plain": [
       "[('p', 4),\n",
       " ('a', 3),\n",
       " ('t', 3),\n",
       " ('y', 3),\n",
       " ('c', 2),\n",
       " ('d', 2),\n",
       " ('e', 2),\n",
       " ('n', 2),\n",
       " ('r', 2),\n",
       " ('s', 2)]"
      ]
     },
     "execution_count": 120,
     "metadata": {},
     "output_type": "execute_result"
    }
   ],
   "source": [
    "c = Counter(rooms[0].name.replace(\"-\",\"\")).most_common()\n",
    "print(c[:10])\n",
    "sorted(c, key=lambda x: (-x[1],x[0]), reverse=False)[:10]"
   ]
  },
  {
   "cell_type": "markdown",
   "metadata": {},
   "source": [
    "Another thing I learned today was making the number to sort on negative, to sort it the way I wanted (since the numers should be sorted high to low, while alphabets are sorted from low to high)."
   ]
  },
  {
   "cell_type": "code",
   "execution_count": 137,
   "metadata": {},
   "outputs": [
    {
     "name": "stdout",
     "output_type": "stream",
     "text": [
      "patyc patyc\n",
      "nymla afsyj\n",
      "cnrdl pyert\n"
     ]
    }
   ],
   "source": [
    "def checksum(room):\n",
    "    \"\"\"takes in a room and returns the checksum\"\"\"\n",
    "    checksum = []\n",
    "    \n",
    "    c = Counter(room.name.replace(\"-\",\"\")).most_common()\n",
    "    # now to sort the key by descending count and ascending alphabet\n",
    "    c.sort(key=lambda x: (-x[1],x[0]))\n",
    "    \n",
    "    for char, count in c[:5]:\n",
    "        checksum.append(char)\n",
    "        \n",
    "    return \"\".join(checksum)\n",
    "\n",
    "for room in rooms[:3]:\n",
    "    print(room.checksum, checksum(room))"
   ]
  },
  {
   "cell_type": "markdown",
   "metadata": {},
   "source": [
    "Now to sum up all the valid ids:"
   ]
  },
  {
   "cell_type": "code",
   "execution_count": 135,
   "metadata": {},
   "outputs": [
    {
     "data": {
      "text/plain": [
       "278221"
      ]
     },
     "execution_count": 135,
     "metadata": {},
     "output_type": "execute_result"
    }
   ],
   "source": [
    "sum([room.id for room in rooms if checksum(room)==room.checksum])"
   ]
  },
  {
   "cell_type": "markdown",
   "metadata": {},
   "source": [
    "# --- Part Two ---\n",
    "\n",
    "With all the decoy data out of the way, it's time to decrypt this list and get moving.\n",
    "\n",
    "The room names are encrypted by a state-of-the-art shift cipher, which is nearly unbreakable without the right software. However, the information kiosk designers at Easter Bunny HQ were not expecting to deal with a master cryptographer like yourself.\n",
    "\n",
    "To decrypt a room name, rotate each letter forward through the alphabet a number of times equal to the room's sector ID. A becomes B, B becomes C, Z becomes A, and so on. Dashes become spaces.\n",
    "\n",
    "For example, the real name for `qzmt-zixmtkozy-ivhz-343` is very encrypted name.\n",
    "\n",
    "**What is the sector ID of the room where North Pole objects are stored?**"
   ]
  },
  {
   "cell_type": "markdown",
   "metadata": {},
   "source": [
    "First up, a function to rotate a letter:"
   ]
  },
  {
   "cell_type": "code",
   "execution_count": 149,
   "metadata": {},
   "outputs": [
    {
     "data": {
      "text/plain": [
       "'b'"
      ]
     },
     "execution_count": 149,
     "metadata": {},
     "output_type": "execute_result"
    }
   ],
   "source": [
    "import string\n",
    "\n",
    "def rotate(l, num):\n",
    "    letters = string.ascii_lowercase\n",
    "    i = (letters.index(l) + num) % len(letters)\n",
    "    return letters[i]\n",
    "\n",
    "rotate(\"a\", 27)"
   ]
  },
  {
   "cell_type": "markdown",
   "metadata": {},
   "source": [
    "Now to decrypt. It could be all done in the one function, but this keeps it simple:"
   ]
  },
  {
   "cell_type": "code",
   "execution_count": 171,
   "metadata": {},
   "outputs": [
    {
     "data": {
      "text/plain": [
       "'projectile scavenger hunt shipping'"
      ]
     },
     "execution_count": 171,
     "metadata": {},
     "output_type": "execute_result"
    }
   ],
   "source": [
    "def decrypt(room):\n",
    "    \"\"\"returns the decrypted name of a room\"\"\"\n",
    "    name = []\n",
    "    \n",
    "    for char in room.name:\n",
    "        if char == \"-\":\n",
    "            name.append(\" \")\n",
    "        else:\n",
    "            name.append(rotate(char, room.id))\n",
    "    \n",
    "    return \"\".join(name)\n",
    "\n",
    "decrypt(rooms[0])"
   ]
  },
  {
   "cell_type": "markdown",
   "metadata": {},
   "source": [
    "I assume the room we are looking for will have northpole in it:"
   ]
  },
  {
   "cell_type": "code",
   "execution_count": 170,
   "metadata": {},
   "outputs": [
    {
     "data": {
      "text/plain": [
       "[(Room(name='ghkmaihex-hucxvm-lmhktzx', id=267, checksum='hmxka'),\n",
       "  'northpole object storage')]"
      ]
     },
     "execution_count": 170,
     "metadata": {},
     "output_type": "execute_result"
    }
   ],
   "source": [
    "[(room, decrypt(room)) for room in rooms if \"northpole\" in decrypt(room)]"
   ]
  },
  {
   "cell_type": "markdown",
   "metadata": {},
   "source": [
    "# Notes:\n",
    "\n",
    "- there are lots of little tricks in these puzzles, like sorting the same list in two different orders\n",
    "- namedtuples are great, much easier to read than a list\n",
    "- is there a better way to build a string? Right now I append chars to a list then join them into a string."
   ]
  }
 ],
 "metadata": {
  "kernelspec": {
   "display_name": "Python [default]",
   "language": "python",
   "name": "python3"
  },
  "language_info": {
   "codemirror_mode": {
    "name": "ipython",
    "version": 3
   },
   "file_extension": ".py",
   "mimetype": "text/x-python",
   "name": "python",
   "nbconvert_exporter": "python",
   "pygments_lexer": "ipython3",
   "version": "3.7.2"
  }
 },
 "nbformat": 4,
 "nbformat_minor": 2
}

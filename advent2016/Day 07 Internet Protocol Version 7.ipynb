{
 "cells": [
  {
   "cell_type": "markdown",
   "metadata": {},
   "source": [
    "# --- Day 7: Internet Protocol Version 7 ---\n",
    "\n",
    "While snooping around the local network of EBHQ, you compile a list of IP addresses (they're IPv7, of course; IPv6 is much too limited). You'd like to figure out which IPs support TLS (transport-layer snooping).\n",
    "\n",
    "An IP supports TLS if it has an Autonomous Bridge Bypass Annotation, or ABBA. An ABBA is any four-character sequence which consists of a pair of two different characters followed by the reverse of that pair, such as xyyx or abba. However, the IP also must not have an ABBA within any hypernet sequences, which are contained by square brackets.\n",
    "\n",
    "For example:\n",
    "\n",
    "- `abba[mnop]qrst` supports TLS (abba outside square brackets).\n",
    "- `abcd[bddb]xyyx` does not support TLS (bddb is within square brackets, even though xyyx is outside square brackets).\n",
    "- `aaaa[qwer]tyui` does not support TLS (aaaa is invalid; the interior characters must be different).\n",
    "- `ioxxoj[asdfgh]zxcvbn` supports TLS (oxxo is outside square brackets, even though it's within a larger string).\n",
    "\n",
    "**How many IPs in your puzzle input support TLS?**"
   ]
  },
  {
   "cell_type": "code",
   "execution_count": 52,
   "metadata": {},
   "outputs": [
    {
     "data": {
      "text/plain": [
       "['rhamaeovmbheijj[hkwbkqzlcscwjkyjulk]ajsxfuemamuqcjccbc',\n",
       " 'gdlrknrmexvaypu[crqappbbcaplkkzb]vhvkjyadjsryysvj[nbvypeadikilcwg]jwxlimrgakadpxu[dgoanojvdvwfabtt]yqsalmulblolkgsheo',\n",
       " 'dqpthtgufgzjojuvzvm[eejdhpcqyiydwod]iingwezvcbtowwzc[uzlxaqenhgsebqskn]wcucfmnlarrvdceuxqc[dkwcsxeitcobaylhbvc]klxammurpqgmpsxsr']"
      ]
     },
     "execution_count": 52,
     "metadata": {},
     "output_type": "execute_result"
    }
   ],
   "source": [
    "# the puzzle input\n",
    "with open('inputs/7.txt') as f:\n",
    "    data = f.read().strip().split(\"\\n\")\n",
    "data[:3]"
   ]
  },
  {
   "cell_type": "markdown",
   "metadata": {},
   "source": [
    "First up a function to detect if four chars are ABBA:"
   ]
  },
  {
   "cell_type": "code",
   "execution_count": 64,
   "metadata": {},
   "outputs": [
    {
     "data": {
      "text/plain": [
       "True"
      ]
     },
     "execution_count": 64,
     "metadata": {},
     "output_type": "execute_result"
    }
   ],
   "source": [
    "def abba(a):\n",
    "    \"\"\"takes in a string and returns true if ABBA\"\"\"\n",
    "    return a[:2] == a[2:][::-1] and a[0] != a[1]\n",
    "\n",
    "abba(\"abba\")"
   ]
  },
  {
   "cell_type": "code",
   "execution_count": 60,
   "metadata": {},
   "outputs": [
    {
     "data": {
      "text/plain": [
       "(True, False, True)"
      ]
     },
     "execution_count": 60,
     "metadata": {},
     "output_type": "execute_result"
    }
   ],
   "source": [
    "def is_tls(ip):\n",
    "    \"\"\"takes in a ip address and returns True if TLS\"\"\"\n",
    "    tls = False\n",
    "    \n",
    "    in_brackets = False\n",
    "    \n",
    "    for i in range(len(ip)-3):\n",
    "        if ip[i] == \"[\": in_brackets = True\n",
    "        if ip[i] == \"]\": in_brackets = False\n",
    "        \n",
    "        if abba(ip[i:i+4]) and not in_brackets:\n",
    "            tls = True\n",
    "        if in_brackets and abba(ip[i:i+4]):\n",
    "            return False # if ABBA found inside brackets no need to continue\n",
    "    \n",
    "    return tls\n",
    "\n",
    "is_tls(\"abba[mnop]qrst\"), is_tls(\"abcd[bddb]xyyx\"), is_tls(\"ioxxoj[asdfgh]zxcvbn\")"
   ]
  },
  {
   "cell_type": "code",
   "execution_count": 63,
   "metadata": {},
   "outputs": [
    {
     "data": {
      "text/plain": [
       "110"
      ]
     },
     "execution_count": 63,
     "metadata": {},
     "output_type": "execute_result"
    }
   ],
   "source": [
    "sum([is_tls(ip) for ip in data])"
   ]
  },
  {
   "cell_type": "markdown",
   "metadata": {},
   "source": [
    "# --- Part Two ---\n",
    "\n",
    "You would also like to know which IPs support SSL (super-secret listening).\n",
    "\n",
    "An IP supports SSL if it has an Area-Broadcast Accessor, or ABA, anywhere in the supernet sequences (outside any square bracketed sections), and a corresponding Byte Allocation Block, or BAB, anywhere in the hypernet sequences. An ABA is any three-character sequence which consists of the same character twice with a different character between them, such as xyx or aba. A corresponding BAB is the same characters but in reversed positions: yxy and bab, respectively.\n",
    "\n",
    "For example:\n",
    "\n",
    "- aba[bab]xyz supports SSL (aba outside square brackets with corresponding bab within square brackets).\n",
    "- xyx[xyx]xyx does not support SSL (xyx, but no corresponding yxy).\n",
    "- aaa[kek]eke supports SSL (eke in supernet with corresponding kek in hypernet; the aaa sequence is not related, because the interior character must be different).\n",
    "- zazbz[bzb]cdb supports SSL (zaz has no corresponding aza, but zbz has a corresponding bzb, even though zaz and zbz overlap).\n",
    "\n",
    "**How many IPs in your puzzle input support SSL?**"
   ]
  },
  {
   "cell_type": "code",
   "execution_count": 120,
   "metadata": {},
   "outputs": [
    {
     "data": {
      "text/plain": [
       "True"
      ]
     },
     "execution_count": 120,
     "metadata": {},
     "output_type": "execute_result"
    }
   ],
   "source": [
    "def aba(a):\n",
    "    \"\"\"takes in a string and returns true if in form ABA\"\"\"\n",
    "    assert len(a) == 3\n",
    "    return a[0] == a[2] and a[0] != a[1]\n",
    "\n",
    "aba(\"aba\")"
   ]
  },
  {
   "cell_type": "code",
   "execution_count": 121,
   "metadata": {},
   "outputs": [
    {
     "data": {
      "text/plain": [
       "(True, False)"
      ]
     },
     "execution_count": 121,
     "metadata": {},
     "output_type": "execute_result"
    }
   ],
   "source": [
    "def is_ssl(ip):\n",
    "    \"\"\"takes in a ip address and returns True if ssl\"\"\"\n",
    "    \n",
    "    abas, babs = [], []\n",
    "    \n",
    "    in_brackets = False\n",
    "    \n",
    "    for i in range(len(ip)-2):\n",
    "        if ip[i] == \"[\": in_brackets = True\n",
    "        if ip[i] == \"]\": in_brackets = False\n",
    "        \n",
    "        seq = ip[i:i+3]\n",
    "        if \"[\" not in seq and \"]\" not in seq:\n",
    "            if aba(seq) and not in_brackets:\n",
    "                abas.append(seq)\n",
    "\n",
    "            if in_brackets and aba(seq):\n",
    "                babs.append(seq) \n",
    "    \n",
    "    # reversing the aba's into bab's to make it easy to compare\n",
    "    abas_r = [i[1]+i[0]+i[1] for i in abas]\n",
    "    \n",
    "    if set(abas_r) & set(babs):\n",
    "        return True\n",
    "    else:\n",
    "        return False\n",
    "\n",
    "is_ssl(\"aba[bab]xyz\"), is_ssl(\"xyx[xyx]xyx\")"
   ]
  },
  {
   "cell_type": "code",
   "execution_count": 122,
   "metadata": {},
   "outputs": [
    {
     "data": {
      "text/plain": [
       "242"
      ]
     },
     "execution_count": 122,
     "metadata": {},
     "output_type": "execute_result"
    }
   ],
   "source": [
    "sum([is_ssl(ip) for ip in data])"
   ]
  },
  {
   "cell_type": "markdown",
   "metadata": {},
   "source": [
    "# Notes\n",
    "\n",
    "- sets! use sets!\n",
    "- use regex"
   ]
  },
  {
   "cell_type": "code",
   "execution_count": null,
   "metadata": {},
   "outputs": [],
   "source": []
  }
 ],
 "metadata": {
  "kernelspec": {
   "display_name": "Python 3",
   "language": "python",
   "name": "python3"
  },
  "language_info": {
   "codemirror_mode": {
    "name": "ipython",
    "version": 3
   },
   "file_extension": ".py",
   "mimetype": "text/x-python",
   "name": "python",
   "nbconvert_exporter": "python",
   "pygments_lexer": "ipython3",
   "version": "3.6.4"
  }
 },
 "nbformat": 4,
 "nbformat_minor": 2
}

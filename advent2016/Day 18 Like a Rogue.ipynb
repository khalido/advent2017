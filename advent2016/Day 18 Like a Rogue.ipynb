{
 "cells": [
  {
   "cell_type": "markdown",
   "metadata": {},
   "source": [
    "# --- Day 18: Like a Rogue ---\n",
    "\n",
    "As you enter this room, you hear a loud click! Some of the tiles in the floor here seem to be pressure plates for traps, and the trap you just triggered has run out of... whatever it tried to do to you. You doubt you'll be so lucky next time.\n",
    "\n",
    "Upon closer examination, the traps and safe tiles in this room seem to follow a pattern. The tiles are arranged into rows that are all the same width; you take note of the safe tiles (.) and traps (^) in the first row (your puzzle input).\n",
    "\n",
    "The type of tile (trapped or safe) in each row is based on the types of the tiles in the same position, and to either side of that position, in the previous row. (If either side is off either end of the row, it counts as \"safe\" because there isn't a trap embedded in the wall.)\n",
    "\n",
    "For example, suppose you know the first row (with tiles marked by letters) and want to determine the next row (with tiles marked by numbers):\n",
    "\n",
    "```\n",
    "ABCDE\n",
    "12345\n",
    "```\n",
    "\n",
    "The type of tile 2 is based on the types of tiles A, B, and C; the type of tile 5 is based on tiles D, E, and an imaginary \"safe\" tile. Let's call these three tiles from the previous row the left, center, and right tiles, respectively. Then, a new tile is a trap only in one of the following situations:\n",
    "\n",
    "- Its left and center tiles are traps, but its right tile is not.\n",
    "- Its center and right tiles are traps, but its left tile is not.\n",
    "- Only its left tile is a trap.\n",
    "- Only its right tile is a trap.\n",
    "\n",
    "In any other situation, the new tile is safe.\n",
    "\n",
    "Then, starting with the row ..^^., you can determine the next row by applying those rules to each new tile:\n",
    "\n",
    "- The leftmost character on the next row considers the left (nonexistent, so we assume \"safe\"), center (the first ., which means \"safe\"), and right (the second ., also \"safe\") tiles on the previous row. Because all of the trap rules require a trap in at least one of the previous three tiles, the first tile on this new row is also safe, ..\n",
    "- The second character on the next row considers its left (.), center (.), and right (^) tiles from the previous row. This matches the fourth rule: only the right tile is a trap. Therefore, the next tile in this new row is a trap, ^.\n",
    "- The third character considers .^^, which matches the second trap rule: its center and right tiles are traps, but its left tile is not. Therefore, this tile is also a trap, ^.\n",
    "The last two characters in this new row match the first and third rules, respectively, and so they are both also traps, ^.\n",
    "\n",
    "After these steps, we now know the next row of tiles in the room: .^^^^. Then, we continue on to the next row, using the same rules, and get ^^..^. After determining two new rows, our map looks like this:\n",
    "\n",
    "```\n",
    "..^^.\n",
    ".^^^^\n",
    "^^..^\n",
    "```\n",
    "\n",
    "Here's a larger example with ten tiles per row and ten rows:\n",
    "\n",
    "```\n",
    ".^^.^.^^^^\n",
    "^^^...^..^\n",
    "^.^^.^.^^.\n",
    "..^^...^^^\n",
    ".^^^^.^^.^\n",
    "^^..^.^^..\n",
    "^^^^..^^^.\n",
    "^..^^^^.^^\n",
    ".^^^..^.^^\n",
    "^^.^^^..^^\n",
    "```\n",
    "\n",
    "In ten rows, this larger example has 38 safe tiles.\n",
    "\n",
    "**Starting with the map in your puzzle input, in a total of 40 rows (including the starting row), how many safe tiles are there?**"
   ]
  },
  {
   "cell_type": "markdown",
   "metadata": {},
   "source": [
    "---\n",
    "\n",
    "Starting with the inputs:"
   ]
  },
  {
   "cell_type": "code",
   "execution_count": 85,
   "metadata": {},
   "outputs": [
    {
     "name": "stdout",
     "output_type": "stream",
     "text": [
      "100 51\n"
     ]
    },
    {
     "data": {
      "text/plain": [
       "['.', '.', '.', '.', '.', '.', '^', '.', '^', '^', '.', '.', '.', '.', '.']"
      ]
     },
     "execution_count": 85,
     "metadata": {},
     "output_type": "execute_result"
    }
   ],
   "source": [
    "import numpy as np\n",
    "\n",
    "with open(f'inputs/18.txt') as f:\n",
    "    data = f.read().strip()\n",
    "puzzle_row = list(data)\n",
    "print(len(puzzle_row), puzzle_row.count(TRAP))\n",
    "puzzle_row[:15]"
   ]
  },
  {
   "cell_type": "code",
   "execution_count": 64,
   "metadata": {},
   "outputs": [
    {
     "data": {
      "text/plain": [
       "['.', '.', '^', '^', '.']"
      ]
     },
     "execution_count": 64,
     "metadata": {},
     "output_type": "execute_result"
    }
   ],
   "source": [
    "test_row = list(\"..^^.\")\n",
    "test_row"
   ]
  },
  {
   "cell_type": "markdown",
   "metadata": {},
   "source": [
    "first up, a function to determine if a tile is a trap or not:"
   ]
  },
  {
   "cell_type": "code",
   "execution_count": 36,
   "metadata": {},
   "outputs": [
    {
     "data": {
      "text/plain": [
       "(True, False)"
      ]
     },
     "execution_count": 36,
     "metadata": {},
     "output_type": "execute_result"
    }
   ],
   "source": [
    "TRAP = \"^\"\n",
    "SAFE = \".\"\n",
    "\n",
    "def is_trap(l,c,r):\n",
    "    \"\"\"takes in the 3 relevant tiles and returns true if trap\"\"\"\n",
    "    \n",
    "    if l == c == TRAP and r == SAFE: return True\n",
    "    if c == r == TRAP and l == SAFE: return True\n",
    "    if l == TRAP and c == r == SAFE: return True\n",
    "    if r == TRAP and l == c == SAFE: return True\n",
    "    \n",
    "    return False\n",
    "\n",
    "is_trap(\"^\", \"^\", \".\"), is_trap(\".\", \".\", \".\")"
   ]
  },
  {
   "cell_type": "markdown",
   "metadata": {},
   "source": [
    "To keep it simple, I've first made a function which takes in a row and returns the next row: (this could just return the entire grid but this makes it easier to test):"
   ]
  },
  {
   "cell_type": "code",
   "execution_count": 72,
   "metadata": {},
   "outputs": [
    {
     "name": "stdout",
     "output_type": "stream",
     "text": [
      "1:  ['.', '.', '^', '^', '.']\n",
      "2:  ['.', '^', '^', '^', '^']\n",
      "3:  ['^', '^', '.', '.', '^']\n"
     ]
    }
   ],
   "source": [
    "def make_row(row=test_row):\n",
    "    \"\"\"takes in a row and returns the next row\"\"\"\n",
    "    width = len(row)\n",
    "    next_row = [SAFE for _ in row]\n",
    "    \n",
    "    # first\n",
    "    if is_trap(SAFE, row[0], row[1]):\n",
    "        next_row[0] = TRAP\n",
    "    \n",
    "    # all the middle ones\n",
    "    for i in range(1, width-1):\n",
    "        l, c, r = row[i-1], row[i], row[i+1]\n",
    "        if is_trap(l,c,r):\n",
    "            next_row[i] = TRAP\n",
    "    \n",
    "    # last one\n",
    "    if is_trap(row[-2], row[-1], SAFE):\n",
    "        next_row[-1] = TRAP\n",
    "    \n",
    "    return next_row\n",
    "        \n",
    "print(\"1: \", test_row)\n",
    "r = make_row()\n",
    "print(\"2: \", r)\n",
    "print(\"3: \", make_row(r))    "
   ]
  },
  {
   "cell_type": "code",
   "execution_count": 77,
   "metadata": {},
   "outputs": [
    {
     "data": {
      "text/plain": [
       "[['.', '.', '^', '^', '.'],\n",
       " ['.', '^', '^', '^', '^'],\n",
       " ['^', '^', '.', '.', '^']]"
      ]
     },
     "execution_count": 77,
     "metadata": {},
     "output_type": "execute_result"
    }
   ],
   "source": [
    "def make_grid(height=3, start_row=test_row):\n",
    "    \"\"\"returns a grid of  height y\"\"\"\n",
    "    width = len(start_row)\n",
    "    \n",
    "    grid = []\n",
    "    grid.append(start_row)\n",
    "    \n",
    "    for i in range(1, height):\n",
    "        next_row = make_row(grid[i-1])\n",
    "        grid.append(next_row)\n",
    "        \n",
    "    return grid\n",
    "\n",
    "test_grid = make_grid()\n",
    "test_grid"
   ]
  },
  {
   "cell_type": "code",
   "execution_count": 92,
   "metadata": {},
   "outputs": [],
   "source": [
    "assert sum([x.count(SAFE) for x in make_grid(10, list(\".^^.^.^^^^\"))]) == 38"
   ]
  },
  {
   "cell_type": "code",
   "execution_count": 95,
   "metadata": {},
   "outputs": [
    {
     "name": "stdout",
     "output_type": "stream",
     "text": [
      "CPU times: user 4 ms, sys: 0 ns, total: 4 ms\n",
      "Wall time: 4.07 ms\n"
     ]
    },
    {
     "data": {
      "text/plain": [
       "1963"
      ]
     },
     "execution_count": 95,
     "metadata": {},
     "output_type": "execute_result"
    }
   ],
   "source": [
    "%time sum([x.count(SAFE) for x in make_grid(40, puzzle_row)])"
   ]
  },
  {
   "cell_type": "markdown",
   "metadata": {},
   "source": [
    "`1963` is the answer to my puzzle input. Onwards to day 2:\n",
    "\n",
    "# --- Part Two ---\n",
    "\n",
    "How many safe tiles are there in a total of 400000 rows?"
   ]
  },
  {
   "cell_type": "code",
   "execution_count": 94,
   "metadata": {},
   "outputs": [
    {
     "name": "stdout",
     "output_type": "stream",
     "text": [
      "CPU times: user 35.1 s, sys: 148 ms, total: 35.2 s\n",
      "Wall time: 35.3 s\n"
     ]
    },
    {
     "data": {
      "text/plain": [
       "20009568"
      ]
     },
     "execution_count": 94,
     "metadata": {},
     "output_type": "execute_result"
    }
   ],
   "source": [
    "%time sum([x.count(SAFE) for x in make_grid(400000, puzzle_row)])"
   ]
  },
  {
   "cell_type": "markdown",
   "metadata": {},
   "source": [
    "`20009568` is the answer to my puzzle input. Luckily my part 1 solution was fast enough to compute part 2 in just 30 seconds. I could make it faster by only keeping the last row in memory.. so lets try that:"
   ]
  },
  {
   "cell_type": "code",
   "execution_count": 101,
   "metadata": {},
   "outputs": [
    {
     "name": "stdout",
     "output_type": "stream",
     "text": [
      "CPU times: user 29.3 s, sys: 8 ms, total: 29.4 s\n",
      "Wall time: 29.4 s\n"
     ]
    },
    {
     "data": {
      "text/plain": [
       "20009568"
      ]
     },
     "execution_count": 101,
     "metadata": {},
     "output_type": "execute_result"
    }
   ],
   "source": [
    "def solve_two(height=400000, row=puzzle_row):\n",
    "    safe_count = row.count(SAFE)\n",
    "    \n",
    "    for i in range(1, height):\n",
    "        row = make_row(row)\n",
    "        safe_count += row.count(SAFE)\n",
    "    \n",
    "    return safe_count\n",
    "    \n",
    "%time solve_two()"
   ]
  },
  {
   "cell_type": "markdown",
   "metadata": {},
   "source": [
    "So its pretty much the same speed, implying its the computation which is taking up all the time, not storing all the rows. For a bigger number of rows discarding the previous rows makes sense, but in this case it didn't. \n",
    "\n",
    "Using numpy would probably speed this up too."
   ]
  }
 ],
 "metadata": {
  "kernelspec": {
   "display_name": "Python 3",
   "language": "python",
   "name": "python3"
  },
  "language_info": {
   "codemirror_mode": {
    "name": "ipython",
    "version": 3
   },
   "file_extension": ".py",
   "mimetype": "text/x-python",
   "name": "python",
   "nbconvert_exporter": "python",
   "pygments_lexer": "ipython3",
   "version": "3.6.5"
  }
 },
 "nbformat": 4,
 "nbformat_minor": 2
}

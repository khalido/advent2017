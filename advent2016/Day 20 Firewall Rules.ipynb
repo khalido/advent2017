{
 "cells": [
  {
   "cell_type": "markdown",
   "metadata": {},
   "source": [
    "# --- Day 20: Firewall Rules ---\n",
    "\n",
    "You'd like to set up a small hidden computer here so you can use it to get back into the network later. However, the corporate firewall only allows communication with certain external IP addresses.\n",
    "\n",
    "You've retrieved the list of blocked IPs from the firewall, but the list seems to be messy and poorly maintained, and it's not clear which IPs are allowed. Also, rather than being written in dot-decimal notation, they are written as plain 32-bit integers, which can have any value from 0 through 4294967295, inclusive.\n",
    "\n",
    "For example, suppose only the values 0 through 9 were valid, and that you retrieved the following blacklist:\n",
    "\n",
    "```\n",
    "5-8\n",
    "0-2\n",
    "4-7```\n",
    "\n",
    "The blacklist specifies ranges of IPs (inclusive of both the start and end value) that are not allowed. Then, the only IPs that this firewall allows are 3 and 9, since those are the only numbers not in any range.\n",
    "\n",
    "**Given the list of blocked IPs you retrieved from the firewall (your puzzle input), what is the lowest-valued IP that is not blocked?**"
   ]
  },
  {
   "cell_type": "code",
   "execution_count": 1,
   "metadata": {},
   "outputs": [
    {
     "data": {
      "text/plain": [
       "['272152717-281364173', '480675455-489214207', '3562619188-3566180938']"
      ]
     },
     "execution_count": 1,
     "metadata": {},
     "output_type": "execute_result"
    }
   ],
   "source": [
    "with open(f'inputs/20.txt') as f:\n",
    "    data = f.read().strip().split()\n",
    "data[:3]"
   ]
  },
  {
   "cell_type": "markdown",
   "metadata": {},
   "source": [
    "first up, parsing the data:"
   ]
  },
  {
   "cell_type": "code",
   "execution_count": 2,
   "metadata": {},
   "outputs": [
    {
     "data": {
      "text/plain": [
       "[[272152717, 281364173], [480675455, 489214207], [3562619188, 3566180938]]"
      ]
     },
     "execution_count": 2,
     "metadata": {},
     "output_type": "execute_result"
    }
   ],
   "source": [
    "blocklist = []\n",
    "for line in data:\n",
    "    r = [int(i) for i in line.split(\"-\")]\n",
    "    blocklist.append(r)\n",
    "blocklist[:3]"
   ]
  },
  {
   "cell_type": "code",
   "execution_count": 47,
   "metadata": {},
   "outputs": [
    {
     "data": {
      "text/plain": [
       "[[5, 8], [0, 2], [4, 7]]"
      ]
     },
     "execution_count": 47,
     "metadata": {},
     "output_type": "execute_result"
    }
   ],
   "source": [
    "test_list = [[5,8],[0,2],[4,7]]\n",
    "test_list"
   ]
  },
  {
   "cell_type": "markdown",
   "metadata": {},
   "source": [
    "Now to sort the blocklists to make it easy to look up if a number is in the blocklist:"
   ]
  },
  {
   "cell_type": "code",
   "execution_count": 48,
   "metadata": {},
   "outputs": [
    {
     "data": {
      "text/plain": [
       "[[0, 166475], [110217, 574651], [574652, 1770165], [1770166, 1994691]]"
      ]
     },
     "execution_count": 48,
     "metadata": {},
     "output_type": "execute_result"
    }
   ],
   "source": [
    "blocklist = sorted(blocklist, key=lambda x: (x[0], x[1]))\n",
    "test_list = sorted(test_list, key=lambda x: (x[0], x[1]))\n",
    "blocklist[:4]"
   ]
  },
  {
   "cell_type": "markdown",
   "metadata": {},
   "source": [
    "so trying a simple way where I go through each port pair until I find the first unblocked one:"
   ]
  },
  {
   "cell_type": "code",
   "execution_count": 87,
   "metadata": {},
   "outputs": [
    {
     "name": "stdout",
     "output_type": "stream",
     "text": [
      "Found it! 3 is the first unblocked port.\n"
     ]
    },
    {
     "data": {
      "text/plain": [
       "3"
      ]
     },
     "execution_count": 87,
     "metadata": {},
     "output_type": "execute_result"
    }
   ],
   "source": [
    "def find_first_unblocked_port(blocklist=test_list):\n",
    "    low_num = blocklist[0][0]\n",
    "    max_num = blocklist[0][1]\n",
    "    \n",
    "    if low_num > 0:\n",
    "        return 0\n",
    "    \n",
    "    for lower, upper in blocklist[1:]:\n",
    "        if lower > max_num + 1:\n",
    "            print(f\"Found it! {max_num+1:,} is the first unblocked port.\")\n",
    "            return max_num + 1\n",
    "        elif upper > max_num:\n",
    "                max_num = upper \n",
    "    return False\n",
    "\n",
    "find_first_unblocked_port()"
   ]
  },
  {
   "cell_type": "code",
   "execution_count": 88,
   "metadata": {},
   "outputs": [
    {
     "name": "stdout",
     "output_type": "stream",
     "text": [
      "Found it! 23,923,783 is the first unblocked port.\n",
      "CPU times: user 2 ms, sys: 0 ns, total: 2 ms\n",
      "Wall time: 2.21 ms\n"
     ]
    },
    {
     "data": {
      "text/plain": [
       "23923783"
      ]
     },
     "execution_count": 88,
     "metadata": {},
     "output_type": "execute_result"
    }
   ],
   "source": [
    "%time find_first_unblocked_port(blocklist)"
   ]
  },
  {
   "cell_type": "markdown",
   "metadata": {},
   "source": [
    "`23923783` is the answer to part 1"
   ]
  },
  {
   "cell_type": "markdown",
   "metadata": {},
   "source": [
    "# --- Part Two ---\n",
    "\n",
    "**How many IPs are allowed by the blacklist?**\n",
    "\n",
    "Here, I'm just modifying the above func to go through the entire blocklist and count the unblocked ports:"
   ]
  },
  {
   "cell_type": "code",
   "execution_count": 90,
   "metadata": {},
   "outputs": [
    {
     "name": "stdout",
     "output_type": "stream",
     "text": [
      "CPU times: user 0 ns, sys: 0 ns, total: 0 ns\n",
      "Wall time: 239 µs\n"
     ]
    },
    {
     "data": {
      "text/plain": [
       "125"
      ]
     },
     "execution_count": 90,
     "metadata": {},
     "output_type": "execute_result"
    }
   ],
   "source": [
    "def total_unblocked_ports(blocklist=test_list):\n",
    "    low_num = blocklist[0][0]\n",
    "    max_num = blocklist[0][1]\n",
    "    \n",
    "    unblocked_ports = low_num\n",
    "\n",
    "    for lower, upper in blocklist[1:]:\n",
    "        if lower > max_num + 1:\n",
    "            unblocked_ports += lower - max_num - 1\n",
    "            low_num = lower\n",
    "            max_num = upper\n",
    "        \n",
    "        elif upper > max_num:\n",
    "               max_num = upper\n",
    "    \n",
    "    return unblocked_ports\n",
    "\n",
    "%time total_unblocked_ports(blocklist)"
   ]
  },
  {
   "cell_type": "markdown",
   "metadata": {},
   "source": [
    "`125` is the ans for part 2."
   ]
  }
 ],
 "metadata": {
  "kernelspec": {
   "display_name": "Python 3",
   "language": "python",
   "name": "python3"
  },
  "language_info": {
   "codemirror_mode": {
    "name": "ipython",
    "version": 3
   },
   "file_extension": ".py",
   "mimetype": "text/x-python",
   "name": "python",
   "nbconvert_exporter": "python",
   "pygments_lexer": "ipython3",
   "version": "3.6.5"
  }
 },
 "nbformat": 4,
 "nbformat_minor": 2
}

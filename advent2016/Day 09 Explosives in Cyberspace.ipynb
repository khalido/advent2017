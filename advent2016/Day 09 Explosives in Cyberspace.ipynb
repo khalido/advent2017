{
 "cells": [
  {
   "cell_type": "markdown",
   "metadata": {},
   "source": [
    "# --- Day 9: Explosives in Cyberspace ---\n",
    "\n",
    "Wandering around a secure area, you come across a datalink port to a new part of the network. After briefly scanning it for interesting files, you find one file in particular that catches your attention. It's compressed with an experimental format, but fortunately, the documentation for the format is nearby.\n",
    "\n",
    "The format compresses a sequence of characters. Whitespace is ignored. To indicate that some sequence should be repeated, a marker is added to the file, like (10x2). To decompress this marker, take the subsequent 10 characters and repeat them 2 times. Then, continue reading the file after the repeated data. The marker itself is not included in the decompressed output.\n",
    "\n",
    "If parentheses or other characters appear within the data referenced by a marker, that's okay - treat it like normal data, not a marker, and then resume looking for markers after the decompressed section.\n",
    "\n",
    "For example:\n",
    "\n",
    "- ADVENT contains no markers and decompresses to itself with no changes, resulting in a decompressed length of 6.\n",
    "- A(1x5)BC repeats only the B a total of 5 times, becoming ABBBBBC for a decompressed length of 7.\n",
    "- (3x3)XYZ becomes XYZXYZXYZ for a decompressed length of 9.\n",
    "- A(2x2)BCD(2x2)EFG doubles the BC and EF, becoming ABCBCDEFEFG for a decompressed length of 11.\n",
    "- (6x1)(1x3)A simply becomes (1x3)A - the (1x3) looks like a marker, but because it's within a data section of another marker, it is not treated any differently from the A that comes after it. It has a decompressed length of 6.\n",
    "- X(8x2)(3x3)ABCY becomes X(3x3)ABC(3x3)ABCY (for a decompressed length of 18), because the decompressed data from the (8x2) marker (the (3x3)ABC) is skipped and not processed further.\n",
    "\n",
    "**What is the decompressed length of the file (your puzzle input)? Don't count whitespace.**\n",
    "\n",
    "---"
   ]
  },
  {
   "cell_type": "code",
   "execution_count": 2,
   "metadata": {},
   "outputs": [
    {
     "data": {
      "text/plain": [
       "'(106x9)(9x11)XRTHYQJRI(16x7)PQFHWDDUNODSQZFA(3x14)UTS(46x5)(11x2)ZPIAOZZMWEI(4x15)SDLK(12x10)BUQRPYWOFRHL(3x2)IUD(376x15)(56x2)(2x8)HN(8x6)EMTIYSST(29x14)UMUBTFMGRIFIJMVOFTRZJBYZKRZTR(72x7)(15x14)AIEJQAVGCXESYMW(33x11)BOGWCYAIJENVPIZOHXMHVS'"
      ]
     },
     "execution_count": 2,
     "metadata": {},
     "output_type": "execute_result"
    }
   ],
   "source": [
    "with open(f'inputs/9.txt') as f:\n",
    "    data = f.read().strip()\n",
    "data[:240]"
   ]
  },
  {
   "cell_type": "markdown",
   "metadata": {},
   "source": [
    "## trying regex"
   ]
  },
  {
   "cell_type": "code",
   "execution_count": 3,
   "metadata": {},
   "outputs": [
    {
     "data": {
      "text/plain": [
       "['X', '(8x2)', '(3x3)', 'ABCY']"
      ]
     },
     "execution_count": 3,
     "metadata": {},
     "output_type": "execute_result"
    }
   ],
   "source": [
    "import re\n",
    "import regex\n",
    "\n",
    "pattern = r\"\\([\\w]+\\)|[a-zA-Z0-9]+\"\n",
    "regex.findall(pattern, \"X(8x2)(3x3)ABCY\")"
   ]
  },
  {
   "cell_type": "markdown",
   "metadata": {},
   "source": [
    "- `r` is a raw string\n",
    "- `\\(` the `\\` is an escape which passes the `(` so the regex parser matches on `(`\n",
    "- `[]` this is the group, and the `\\w` matches any any word or num char, while the `+` means grab them all up\n",
    "- `\\)` this matches the bracket at the end\n",
    "- `|` this character is a seperator, so to be able to match different kinds of groups\n",
    "- `[a-zA-Z0-9]+ this matches alpha and digit chars to capture the groups outside the brackets. could have used `\\w+` here as well\n",
    "\n",
    "lets see how it works on the actual input:"
   ]
  },
  {
   "cell_type": "code",
   "execution_count": 8,
   "metadata": {},
   "outputs": [
    {
     "data": {
      "text/plain": [
       "['(106x9)',\n",
       " '(9x11)',\n",
       " 'XRTHYQJRI',\n",
       " '(16x7)',\n",
       " 'PQFHWDDUNODSQZFA',\n",
       " '(3x14)',\n",
       " 'UTS',\n",
       " '(46x5)',\n",
       " '(11x2)',\n",
       " 'ZPIAOZZMWEI']"
      ]
     },
     "execution_count": 8,
     "metadata": {},
     "output_type": "execute_result"
    }
   ],
   "source": [
    "regex.findall(pattern, data)[:10]"
   ]
  },
  {
   "cell_type": "markdown",
   "metadata": {},
   "source": [
    "So while the above looks good, turns out it doesn't really work for this puzzle as I need to look at the indexes of the original string, so trying another way:"
   ]
  },
  {
   "cell_type": "code",
   "execution_count": 9,
   "metadata": {},
   "outputs": [
    {
     "name": "stdout",
     "output_type": "stream",
     "text": [
      "0 7 (106x9)\n"
     ]
    }
   ],
   "source": [
    "p = regex.compile(r\"\\([\\w]+\\)|[a-zA-Z0-9]+\")\n",
    "for m in p.finditer(data):\n",
    "    print(m.start(), m.end(), m.group())\n",
    "    break"
   ]
  },
  {
   "cell_type": "code",
   "execution_count": 11,
   "metadata": {},
   "outputs": [
    {
     "data": {
      "text/plain": [
       "(8, 2)"
      ]
     },
     "execution_count": 11,
     "metadata": {},
     "output_type": "execute_result"
    }
   ],
   "source": [
    "def get_nums(s):\n",
    "    \"\"\"returns nums in a string\"\"\"\n",
    "    assert s[0] == \"(\"\n",
    "    a, b = (int(i) for i in s[1:-1].split(\"x\"))\n",
    "    return a,b\n",
    "\n",
    "get_nums(\"(8x2)\")"
   ]
  },
  {
   "cell_type": "markdown",
   "metadata": {},
   "source": [
    "After all that regex work, my solution is to go through the index one at a time:"
   ]
  },
  {
   "cell_type": "code",
   "execution_count": 12,
   "metadata": {},
   "outputs": [],
   "source": [
    "def decompress(s):\n",
    "    \"\"\"takes in a string s and returns a decompressed version\"\"\"\n",
    "    ans = \"\"\n",
    "    i = 0 # to track where we are on the string\n",
    "    while i < len(s):\n",
    "        if s[i] is not \"(\":\n",
    "            ans += s[i]\n",
    "            i += 1\n",
    "        else:\n",
    "            end_pos = re.search(r\"\\)\", s[i:]).end() # find how far the closing char is\n",
    "            num_chars, repeat = get_nums(s[i:i+end_pos]) # grab digits from the marker\n",
    "            \n",
    "            ans += s[i+end_pos:i+end_pos+num_chars] * repeat\n",
    "            \n",
    "            # now move ahead by the length of the marker and the characters repeated\n",
    "            i += num_chars + len(s[i:i+end_pos])\n",
    "    \n",
    "    return ans\n",
    "\n",
    "assert decompress(\"X(8x2)(3x3)ABCY\") == \"X(3x3)ABC(3x3)ABCY\""
   ]
  },
  {
   "cell_type": "code",
   "execution_count": 13,
   "metadata": {},
   "outputs": [
    {
     "data": {
      "text/plain": [
       "99145"
      ]
     },
     "execution_count": 13,
     "metadata": {},
     "output_type": "execute_result"
    }
   ],
   "source": [
    "len(decompress(data).strip())"
   ]
  },
  {
   "cell_type": "markdown",
   "metadata": {},
   "source": [
    "# --- Part Two ---\n",
    "\n",
    "Apparently, the file actually uses version two of the format.\n",
    "\n",
    "In version two, the only difference is that markers within decompressed data are decompressed. This, the documentation explains, provides much more substantial compression capabilities, allowing many-gigabyte files to be stored in only a few kilobytes.\n",
    "\n",
    "For example:\n",
    "\n",
    "- (3x3)XYZ still becomes XYZXYZXYZ, as the decompressed section contains no markers.\n",
    "- X(8x2)(3x3)ABCY becomes XABCABCABCABCABCABCY, because the decompressed data from the (8x2) marker is then further decompressed, thus triggering the (3x3) marker twice for a total of six ABC sequences.\n",
    "- (27x12)(20x12)(13x14)(7x10)(1x12)A decompresses into a string of A repeated 241920 times.\n",
    "- (25x3)(3x3)ABC(2x3)XY(5x2)PQRSTX(18x9)(3x2)TWO(5x7)SEVEN becomes 445 characters long.\n",
    "\n",
    "Unfortunately, the computer you brought probably doesn't have enough memory to actually decompress the file; you'll have to come up with another way to get its decompressed length.\n",
    "\n",
    "**What is the decompressed length of the file using this improved format?**"
   ]
  },
  {
   "cell_type": "markdown",
   "metadata": {},
   "source": [
    "---\n",
    "\n",
    "We don't actually need to decompress, we just track how long it becomes, recursively:"
   ]
  },
  {
   "cell_type": "code",
   "execution_count": 14,
   "metadata": {},
   "outputs": [],
   "source": [
    "def get_decompressed_length(s):\n",
    "    \"\"\"takes in a string s and returns the decompressed length\"\"\"\n",
    "    length = 0 # length of the decompressed string\n",
    "    i = 0      # index, or where we are at on the string\n",
    "    \n",
    "    while i < len(s):\n",
    "        if s[i] is not \"(\":\n",
    "            #ans += s[i]\n",
    "            i += 1\n",
    "            length += 1\n",
    "        else:\n",
    "            end_pos = re.search(r\"\\)\", s[i:]).end()\n",
    "            num_chars, repeat = get_nums(s[i:i+end_pos])\n",
    "            \n",
    "            #ans += s[i+end_pos:i+end_pos+num_chars] * repeat\n",
    "            length += (get_decompressed_length(s[i+end_pos:i+end_pos+num_chars]) * repeat)\n",
    "            \n",
    "            # now move ahead by the length of the marker and the characters repeated\n",
    "            i += num_chars + len(s[i:i+end_pos])\n",
    "    \n",
    "    return length\n",
    "\n",
    "assert get_decompressed_length(\"X(8x2)(3x3)ABCY\") == len(\"XABCABCABCABCABCABCY\")"
   ]
  },
  {
   "cell_type": "code",
   "execution_count": 15,
   "metadata": {},
   "outputs": [
    {
     "data": {
      "text/plain": [
       "10943094568"
      ]
     },
     "execution_count": 15,
     "metadata": {},
     "output_type": "execute_result"
    }
   ],
   "source": [
    "get_decompressed_length(data)"
   ]
  },
  {
   "cell_type": "markdown",
   "metadata": {},
   "source": [
    "`10943094568` is the right answer.\n",
    "\n",
    "# Notes:\n",
    "\n",
    "- you don't have to actually compute the thing you are doing sometimes, sometimes tracking it is good enough\n",
    "- code a few recusion functions to get familiar"
   ]
  }
 ],
 "metadata": {
  "kernelspec": {
   "display_name": "Python 3",
   "language": "python",
   "name": "python3"
  },
  "language_info": {
   "codemirror_mode": {
    "name": "ipython",
    "version": 3
   },
   "file_extension": ".py",
   "mimetype": "text/x-python",
   "name": "python",
   "nbconvert_exporter": "python",
   "pygments_lexer": "ipython3",
   "version": "3.6.4"
  }
 },
 "nbformat": 4,
 "nbformat_minor": 2
}

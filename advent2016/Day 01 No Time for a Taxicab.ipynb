{
 "cells": [
  {
   "cell_type": "markdown",
   "metadata": {},
   "source": [
    "# --- Day 1: No Time for a Taxicab ---\n",
    "\n",
    "You're airdropped near Easter Bunny Headquarters in a city somewhere. \"Near\", unfortunately, is as close as you can get - the instructions on the Easter Bunny Recruiting Document the Elves intercepted start here, and nobody had time to work them out further.\n",
    "\n",
    "The Document indicates that you should start at the given coordinates (where you just landed) and face North. Then, follow the provided sequence: either turn left (L) or right (R) 90 degrees, then walk forward the given number of blocks, ending at a new intersection.\n",
    "\n",
    "There's no time to follow such ridiculous instructions on foot, though, so you take a moment and work out the destination. Given that you can only walk on the street grid of the city, how far is the shortest path to the destination?\n",
    "\n",
    "For example:\n",
    "\n",
    "- Following `R2, L3` leaves you 2 blocks East and 3 blocks North, or 5 blocks away.\n",
    "- `R2, R2, R2` leaves you 2 blocks due South of your starting position, which is 2 blocks away.\n",
    "- `R5, L5, R5, R3` leaves you 12 blocks away.\n",
    "\n",
    "**How many blocks away is Easter Bunny HQ?**"
   ]
  },
  {
   "cell_type": "code",
   "execution_count": 42,
   "metadata": {},
   "outputs": [
    {
     "data": {
      "text/plain": [
       "['R1', 'L4', 'L5', 'L5', 'R2', 'R2', 'L1', 'L1', 'R2', 'L3']"
      ]
     },
     "execution_count": 42,
     "metadata": {},
     "output_type": "execute_result"
    }
   ],
   "source": [
    "# the puzzle input\n",
    "with open('inputs/1.txt') as f:\n",
    "    data = f.read().strip().split(', ')\n",
    "data[:10]"
   ]
  },
  {
   "cell_type": "markdown",
   "metadata": {},
   "source": [
    "First up, some helper functions:"
   ]
  },
  {
   "cell_type": "code",
   "execution_count": 46,
   "metadata": {},
   "outputs": [],
   "source": [
    "from collections import deque\n",
    "\n",
    "def turn(direction, where=\"L\"):\n",
    "    \"\"\"takes in a current direction and where to turn, and returns new direction\"\"\"\n",
    "    dirs = \"NESW\"\n",
    "    delta = {\"L\":-1, \"R\":1}\n",
    "    return dirs[(dirs.index(direction) + delta[where]) % len(dirs)]\n",
    "    \n",
    "assert turn(\"N\", \"R\") == \"E\"\n",
    "assert turn(\"N\", \"L\") == \"W\"\n",
    "assert turn(\"E\", \"R\") == \"S\"\n",
    "assert turn(\"E\", \"L\") == \"N\"\n",
    "assert turn(\"W\", \"R\") == \"N\"\n",
    "assert turn(\"S\", \"R\") == \"W\""
   ]
  },
  {
   "cell_type": "code",
   "execution_count": 69,
   "metadata": {},
   "outputs": [],
   "source": [
    "def get_distance(steps=steps):\n",
    "    \"\"\"takes in a dict of NESW steps and returns the distance from starting point\"\"\"\n",
    "    vertical = abs(steps[\"N\"] - steps[\"S\"])\n",
    "    horizontal = abs(steps[\"E\"] - steps[\"W\"])\n",
    "    return vertical + horizontal"
   ]
  },
  {
   "cell_type": "code",
   "execution_count": 70,
   "metadata": {},
   "outputs": [
    {
     "data": {
      "text/plain": [
       "230"
      ]
     },
     "execution_count": 70,
     "metadata": {},
     "output_type": "execute_result"
    }
   ],
   "source": [
    "from collections import defaultdict\n",
    "\n",
    "def solve(moves, direction=\"N\"):\n",
    "    \"\"\"takes in a list of steps and returns the new position and the distance from the start point\"\"\"\n",
    "    steps = defaultdict(int)\n",
    "    \n",
    "    for move in moves:\n",
    "        direction = turn(direction, move[0])\n",
    "        steps[direction] += int(move[1:])\n",
    "    return get_distance(steps)\n",
    "    \n",
    "assert solve(\"R5, L5, R5, R3\".split(\", \")) == 12\n",
    "\n",
    "solve(data)"
   ]
  },
  {
   "cell_type": "markdown",
   "metadata": {},
   "source": [
    "# --- Part Two ---\n",
    "\n",
    "Then, you notice the instructions continue on the back of the Recruiting Document. Easter Bunny HQ is actually at the first location you visit twice.\n",
    "\n",
    "For example, if your instructions are R8, R4, R4, R8, the first location you visit twice is 4 blocks away, due East.\n",
    "\n",
    "**How many blocks away is the first location you visit twice?**"
   ]
  },
  {
   "cell_type": "markdown",
   "metadata": {},
   "source": [
    "Got this wrong, becuase the first point can be in the middle of a move, not just at the end."
   ]
  },
  {
   "cell_type": "code",
   "execution_count": 95,
   "metadata": {},
   "outputs": [
    {
     "data": {
      "text/plain": [
       "((4, 4), (-1, 4))"
      ]
     },
     "execution_count": 95,
     "metadata": {},
     "output_type": "execute_result"
    }
   ],
   "source": [
    "def get_loc(steps):\n",
    "    \"\"\"takes in a dict of steps and returns current location\"\"\"\n",
    "    x = steps[\"E\"] - steps[\"W\"]\n",
    "    y = steps[\"N\"] - steps[\"S\"]\n",
    "    return x, y\n",
    "\n",
    "get_loc({'E': 8, 'W': 4, 'N': 8, 'S': 4}), get_loc({'E': 1, 'W': 2, 'N': 4, 'S': 0})"
   ]
  },
  {
   "cell_type": "code",
   "execution_count": 97,
   "metadata": {},
   "outputs": [
    {
     "data": {
      "text/plain": [
       "154"
      ]
     },
     "execution_count": 97,
     "metadata": {},
     "output_type": "execute_result"
    }
   ],
   "source": [
    "def solve_2(moves, direction=\"N\"):\n",
    "    \"\"\"takes in a list of steps and returns the new position and the distance from the start point\"\"\"\n",
    "    \n",
    "    positions = []\n",
    "    steps = defaultdict(int)\n",
    "    \n",
    "    for move in moves:\n",
    "        direction = turn(direction, move[0])\n",
    "        for _ in range(int(move[1:])):\n",
    "            steps[direction] += 1\n",
    "            pos = get_loc(steps)\n",
    "\n",
    "            if pos in positions:\n",
    "                #print(positions, steps\n",
    "                return get_distance(steps)\n",
    "            else:\n",
    "                positions.append(pos)\n",
    "    \n",
    "assert solve_2(\"R8, R4, R4, R8\".split(\", \")) == 4\n",
    "\n",
    "solve_2(data)"
   ]
  },
  {
   "cell_type": "code",
   "execution_count": null,
   "metadata": {},
   "outputs": [],
   "source": []
  }
 ],
 "metadata": {
  "kernelspec": {
   "display_name": "Python 3",
   "language": "python",
   "name": "python3"
  },
  "language_info": {
   "codemirror_mode": {
    "name": "ipython",
    "version": 3
   },
   "file_extension": ".py",
   "mimetype": "text/x-python",
   "name": "python",
   "nbconvert_exporter": "python",
   "pygments_lexer": "ipython3",
   "version": "3.6.4"
  }
 },
 "nbformat": 4,
 "nbformat_minor": 2
}

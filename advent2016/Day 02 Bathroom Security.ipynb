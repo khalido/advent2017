{
 "cells": [
  {
   "cell_type": "markdown",
   "metadata": {},
   "source": [
    "# --- Day 2: Bathroom Security ---\n",
    "\n",
    "You arrive at Easter Bunny Headquarters under cover of darkness. However, you left in such a rush that you forgot to use the bathroom! Fancy office buildings like this one usually have keypad locks on their bathrooms, so you search the front desk for the code.\n",
    "\n",
    "\"In order to improve security,\" the document you find says, \"bathroom codes will no longer be written down. Instead, please memorize and follow the procedure below to access the bathrooms.\"\n",
    "\n",
    "The document goes on to explain that each button to be pressed can be found by starting on the previous button and moving to adjacent buttons on the keypad: U moves up, D moves down, L moves left, and R moves right. Each line of instructions corresponds to one button, starting at the previous button (or, for the first line, the \"5\" button); press whatever button you're on at the end of each line. If a move doesn't lead to a button, ignore it.\n",
    "\n",
    "You can't hold it much longer, so you decide to figure out the code as you walk to the bathroom. You picture a keypad like this:\n",
    "\n",
    "```\n",
    "1 2 3\n",
    "4 5 6\n",
    "7 8 9\n",
    "```\n",
    "\n",
    "Suppose your instructions are:\n",
    "\n",
    "```\n",
    "ULL\n",
    "RRDDD\n",
    "LURDL\n",
    "UUUUD\n",
    "```\n",
    "\n",
    "- You start at \"5\" and move up (to \"2\"), left (to \"1\"), and left (you can't, and stay on \"1\"), so the first button is 1.\n",
    "- Starting from the previous button (\"1\"), you move right twice (to \"3\") and then down three times (stopping at \"9\" after two moves and ignoring the third), ending up with 9.\n",
    "- Continuing from \"9\", you move left, up, right, down, and left, ending with 8.\n",
    "- Finally, you move up four times (stopping at \"2\"), then down once, ending with 5.\n",
    "\n",
    "So, in this example, the bathroom code is 1985.\n",
    "\n",
    "Your puzzle input is the instructions from the document you found at the front desk. **What is the bathroom code?**"
   ]
  },
  {
   "cell_type": "code",
   "execution_count": 2,
   "metadata": {},
   "outputs": [
    {
     "data": {
      "text/plain": [
       "('LDUDD', 'DRURU')"
      ]
     },
     "execution_count": 2,
     "metadata": {},
     "output_type": "execute_result"
    }
   ],
   "source": [
    "# the puzzle input\n",
    "with open('inputs/2.txt') as f:\n",
    "    data = f.read().strip().split(\"\\n\")\n",
    "data[0][:5], data[1][:5]"
   ]
  },
  {
   "cell_type": "code",
   "execution_count": 3,
   "metadata": {},
   "outputs": [
    {
     "data": {
      "text/plain": [
       "['ULL', 'RRDDD', 'LURDL', 'UUUUD']"
      ]
     },
     "execution_count": 3,
     "metadata": {},
     "output_type": "execute_result"
    }
   ],
   "source": [
    "test = \"\"\"ULL\n",
    "RRDDD\n",
    "LURDL\n",
    "UUUUD\"\"\".strip().split(\"\\n\")\n",
    "test"
   ]
  },
  {
   "cell_type": "markdown",
   "metadata": {},
   "source": [
    "Numpy makes it easy to address positions in an 2d array, so here goes:"
   ]
  },
  {
   "cell_type": "code",
   "execution_count": 4,
   "metadata": {},
   "outputs": [
    {
     "data": {
      "text/plain": [
       "array([[1, 2, 3],\n",
       "       [4, 5, 6],\n",
       "       [7, 8, 9]])"
      ]
     },
     "execution_count": 4,
     "metadata": {},
     "output_type": "execute_result"
    }
   ],
   "source": [
    "import numpy as np\n",
    "numpad = np.arange(1,10).reshape([3,3])\n",
    "numpad"
   ]
  },
  {
   "cell_type": "markdown",
   "metadata": {},
   "source": [
    "Testing how to find a digit on the keypad:"
   ]
  },
  {
   "cell_type": "code",
   "execution_count": 5,
   "metadata": {},
   "outputs": [
    {
     "data": {
      "text/plain": [
       "(2, 9)"
      ]
     },
     "execution_count": 5,
     "metadata": {},
     "output_type": "execute_result"
    }
   ],
   "source": [
    "numpad[0,1], numpad[2,2]"
   ]
  },
  {
   "cell_type": "markdown",
   "metadata": {},
   "source": [
    "That looks correct, now to sovle the puzzle:"
   ]
  },
  {
   "cell_type": "code",
   "execution_count": 11,
   "metadata": {},
   "outputs": [
    {
     "data": {
      "text/plain": [
       "'76792'"
      ]
     },
     "execution_count": 11,
     "metadata": {},
     "output_type": "execute_result"
    }
   ],
   "source": [
    "def solve(data=data):\n",
    "    moves = {\"U\":(-1,0), \"D\":(1,0), \"R\":(0,1), \"L\":(0,-1)}\n",
    "    digits = []\n",
    "    pos = (1,1)\n",
    "\n",
    "    for code in data:\n",
    "        for move in code:\n",
    "            new_pos = tuple(sum(x) for x in zip(pos,moves[move]))\n",
    "            if max(new_pos) <= 2 and min(new_pos) >= 0: # only allow moves which stay in numpad\n",
    "                pos = new_pos\n",
    "        digits.append(numpad[pos])\n",
    "\n",
    "    return ''.join(map(str, digits)) # test should be 1985\n",
    "\n",
    "assert solve(test) == '1985'\n",
    "solve(data)"
   ]
  },
  {
   "cell_type": "markdown",
   "metadata": {},
   "source": [
    "# --- Part Two ---\n",
    "\n",
    "You finally arrive at the bathroom (it's a several minute walk from the lobby so visitors can behold the many fancy conference rooms and water coolers on this floor) and go to punch in the code. Much to your bladder's dismay, the keypad is not at all like you imagined it. Instead, you are confronted with the result of hundreds of man-hours of bathroom-keypad-design meetings:\n",
    "\n",
    "```\n",
    "    1\n",
    "  2 3 4\n",
    "5 6 7 8 9\n",
    "  A B C\n",
    "    D\n",
    "```\n",
    "\n",
    "You still start at \"5\" and stop when you're at an edge, but given the same instructions as above, the outcome is very different:\n",
    "\n",
    "- You start at \"5\" and don't move at all (up and left are both edges), ending at 5.\n",
    "- Continuing from \"5\", you move right twice and down three times (through \"6\", \"7\", \"B\", \"D\", \"D\"), ending at D.\n",
    "- Then, from \"D\", you move five more times (through \"D\", \"B\", \"C\", \"C\", \"B\"), ending at B.\n",
    "- Finally, after five more moves, you end at 3.\n",
    "\n",
    "So, given the actual keypad layout, the code would be `5DB3`.\n",
    "\n",
    "Using the same instructions in your puzzle input, **what is the correct bathroom code?**"
   ]
  },
  {
   "cell_type": "markdown",
   "metadata": {},
   "source": [
    "My code above can only deal with square numpads, so rewriting it to deal with odd shapped numpads.\n",
    "\n",
    "Instead of looking at the position to see if its out of bounds, I'm adding a character on the edges of the numpad, with the idea being if we are on that character its an invalid move:"
   ]
  },
  {
   "cell_type": "code",
   "execution_count": 164,
   "metadata": {},
   "outputs": [
    {
     "data": {
      "text/plain": [
       "(7,\n",
       " ['.......', '...1...', '..234..', '.56789.', '..ABC..', '...D...', '.......'],\n",
       " '5')"
      ]
     },
     "execution_count": 164,
     "metadata": {},
     "output_type": "execute_result"
    }
   ],
   "source": [
    "numpad2 = \"\"\"\n",
    ".......\n",
    "...1...\n",
    "..234..\n",
    ".56789.\n",
    "..ABC..\n",
    "...D...\n",
    ".......\"\"\".strip().split(\"\\n\")\n",
    "\n",
    "len(numpad), numpad, numpad[3][1]"
   ]
  },
  {
   "cell_type": "markdown",
   "metadata": {},
   "source": [
    "Had to change the moves dict from above as instead of a numpy array I'm using a standard python list:"
   ]
  },
  {
   "cell_type": "code",
   "execution_count": 173,
   "metadata": {},
   "outputs": [
    {
     "data": {
      "text/plain": [
       "'A7AC3'"
      ]
     },
     "execution_count": 173,
     "metadata": {},
     "output_type": "execute_result"
    }
   ],
   "source": [
    "def solve_2(data=data, numpad=numpad2):\n",
    "    \n",
    "    pos = (1,3) #starting at 5\n",
    "    moves = {\"U\":(0,-1), \"D\":(0,1), \"R\":(1,0), \"L\":(-1,0)}\n",
    "    digits = []\n",
    "    \n",
    "    for code in data:\n",
    "        for move in code:\n",
    "            new_pos = tuple(sum(x) for x in zip(pos,moves[move]))\n",
    "            x, y = new_pos\n",
    "            if numpad[y][x] != \".\":\n",
    "                pos = new_pos\n",
    "        x, y = pos\n",
    "        digits.append(numpad[y][x])\n",
    "    \n",
    "    return ''.join(map(str, digits))\n",
    "\n",
    "assert solve_2(test) == '5DB3'\n",
    "\n",
    "solve_2(data)"
   ]
  },
  {
   "cell_type": "code",
   "execution_count": null,
   "metadata": {},
   "outputs": [],
   "source": []
  }
 ],
 "metadata": {
  "kernelspec": {
   "display_name": "Python [default]",
   "language": "python",
   "name": "python3"
  },
  "language_info": {
   "codemirror_mode": {
    "name": "ipython",
    "version": 3
   },
   "file_extension": ".py",
   "mimetype": "text/x-python",
   "name": "python",
   "nbconvert_exporter": "python",
   "pygments_lexer": "ipython3",
   "version": "3.7.2"
  }
 },
 "nbformat": 4,
 "nbformat_minor": 2
}

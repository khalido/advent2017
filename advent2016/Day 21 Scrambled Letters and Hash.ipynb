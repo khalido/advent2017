{
 "cells": [
  {
   "cell_type": "markdown",
   "metadata": {},
   "source": [
    "# --- Day 21: Scrambled Letters and Hash ---\n",
    "\n",
    "The computer system you're breaking into uses a weird scrambling function to store its passwords. It shouldn't be much trouble to create your own scrambled password so you can add it to the system; you just have to implement the scrambler.\n",
    "\n",
    "The scrambling function is a series of operations (the exact list is provided in your puzzle input). Starting with the password to be scrambled, apply each operation in succession to the string. The individual operations behave as follows:\n",
    "\n",
    "- swap position X with position Y means that the letters at indexes X and Y (counting from 0) should be swapped.\n",
    "- swap letter X with letter Y means that the letters X and Y should be swapped (regardless of where they appear in the string).\n",
    "- rotate left/right X steps means that the whole string should be rotated; for example, one right rotation would turn abcd into dabc.\n",
    "- rotate based on position of letter X means that the whole string should be rotated to the right based on the index of letter X (counting from 0) as determined before this instruction does any rotations. Once the index is determined, rotate the string to the right one time, plus a number of times equal to that index, plus one additional time if the index was at least 4.\n",
    "- reverse positions X through Y means that the span of letters at indexes X through Y (including the letters at X and Y) should be reversed in order.\n",
    "- move position X to position Y means that the letter which is at index X should be removed from the string, then inserted such that it ends up at index Y.\n",
    "\n",
    "For example, suppose you start with abcde and perform the following operations:\n",
    "\n",
    "- swap position 4 with position 0 swaps the first and last letters, producing the input for the next step, ebcda.\n",
    "- swap letter d with letter b swaps the positions of d and b: edcba.\n",
    "- reverse positions 0 through 4 causes the entire string to be reversed, producing abcde.\n",
    "- rotate left 1 step shifts all letters left one position, causing the first letter to wrap to the end of the string: bcdea.\n",
    "- move position 1 to position 4 removes the letter at position 1 (c), then inserts it at position 4 (the end of the string): bdeac.\n",
    "- move position 3 to position 0 removes the letter at position 3 (a), then inserts it at position 0 (the front of the string): abdec.\n",
    "- rotate based on position of letter b finds the index of letter b (1), then rotates the string right once plus a number of times equal to that index (2): ecabd.\n",
    "- rotate based on position of letter d finds the index of letter d (4), then rotates the string right once, plus a number of times equal to that index, plus an additional time because the index was at least 4, for a total of 6 right rotations: decab.\n",
    "\n",
    "After these steps, the resulting scrambled password is decab.\n",
    "\n",
    "Now, you just need to generate a new scrambled password and you can access the system. Given the list of scrambling operations in your puzzle input, **what is the result of scrambling abcdefgh?**"
   ]
  },
  {
   "cell_type": "code",
   "execution_count": 63,
   "metadata": {},
   "outputs": [
    {
     "data": {
      "text/plain": [
       "['rotate based on position of letter a',\n",
       " 'swap letter g with letter d',\n",
       " 'move position 1 to position 5',\n",
       " 'reverse positions 6 through 7',\n",
       " 'move position 5 to position 4',\n",
       " 'rotate based on position of letter b',\n",
       " 'reverse positions 6 through 7',\n",
       " 'swap letter h with letter f',\n",
       " 'swap letter e with letter c',\n",
       " 'reverse positions 0 through 7',\n",
       " 'swap position 6 with position 4',\n",
       " 'rotate based on position of letter e',\n",
       " 'move position 2 to position 7',\n",
       " 'swap position 6 with position 4',\n",
       " 'rotate based on position of letter e',\n",
       " 'reverse positions 2 through 3',\n",
       " 'rotate right 2 steps',\n",
       " 'swap position 7 with position 1']"
      ]
     },
     "execution_count": 63,
     "metadata": {},
     "output_type": "execute_result"
    }
   ],
   "source": [
    "with open(f'inputs/21.txt') as f:\n",
    "    data = f.read().strip().split(\"\\n\")\n",
    "data[:18]"
   ]
  },
  {
   "cell_type": "code",
   "execution_count": 112,
   "metadata": {},
   "outputs": [],
   "source": [
    "test_ins = \"\"\"\n",
    "swap position 4 with position 0\n",
    "swap letter d with letter b\n",
    "reverse positions 0 through 4\n",
    "rotate left 1 step\n",
    "move position 1 to position 4\n",
    "move position 3 to position 0\n",
    "rotate based on position of letter b\n",
    "rotate based on position of letter d\n",
    "\"\"\"\n",
    "test_ins = test_ins.strip().splitlines()"
   ]
  },
  {
   "cell_type": "markdown",
   "metadata": {},
   "source": [
    "first up, a couple of helper instructions:"
   ]
  },
  {
   "cell_type": "code",
   "execution_count": 31,
   "metadata": {},
   "outputs": [],
   "source": [
    "import numpy as np\n",
    "import regex"
   ]
  },
  {
   "cell_type": "code",
   "execution_count": 48,
   "metadata": {},
   "outputs": [
    {
     "data": {
      "text/plain": [
       "([44, 55], [0, 0])"
      ]
     },
     "execution_count": 48,
     "metadata": {},
     "output_type": "execute_result"
    }
   ],
   "source": [
    "def get_nums(line):\n",
    "    \"\"\"takes in a string and returns 2 numbers, defaults to 0 if num not found \"\"\"\n",
    "    return [int(i) for i in (line + \" 0 0\").split(\" \") if i.isdigit()][:2]\n",
    "    \n",
    "get_nums(\"this is a test 44 line with 55 numbers\"), get_nums(\"no nums here\")"
   ]
  },
  {
   "cell_type": "code",
   "execution_count": 62,
   "metadata": {},
   "outputs": [
    {
     "data": {
      "text/plain": [
       "(['c', 'b', 'a', 'd', 'e', 'f', 'g', 'h'],\n",
       " ['a', 'e', 'c', 'd', 'b', 'f', 'g', 'h'])"
      ]
     },
     "execution_count": 62,
     "metadata": {},
     "output_type": "execute_result"
    }
   ],
   "source": [
    "def swap(pw, x,y):\n",
    "    \"takes in a list pw and two index nums, swaps the letters at those index\"\n",
    "    \n",
    "    # if x or y is not a position index, get the position\n",
    "    if type(x) is str:\n",
    "        x = pw.index(x)\n",
    "    \n",
    "    if type(y) is str:\n",
    "        y = pw.index(y)\n",
    "    \n",
    "    pw[x], pw[y] = pw[y], pw[x]\n",
    "    return pw\n",
    "    \n",
    "swap(list(\"abcdefgh\"), \"a\" ,\"c\"), swap(list(\"abcdefgh\"), 1 ,4) "
   ]
  },
  {
   "cell_type": "code",
   "execution_count": null,
   "metadata": {},
   "outputs": [],
   "source": []
  },
  {
   "cell_type": "code",
   "execution_count": 168,
   "metadata": {},
   "outputs": [
    {
     "name": "stdout",
     "output_type": "stream",
     "text": [
      "swap position 4 with position 0\n",
      "ebcda\n",
      "swap letter d with letter b\n",
      "edcba\n",
      "reverse positions 0 through 4\n",
      "abcde\n",
      "rotate left 1 step\n",
      "bcdea\n",
      "move position 1 to position 4\n",
      "bdeac\n",
      "move position 3 to position 0\n",
      "abdec\n",
      "rotate based on position of letter b\n",
      "ecabd\n",
      "rotate based on position of letter d\n",
      "decab\n"
     ]
    },
    {
     "data": {
      "text/plain": [
       "'decab'"
      ]
     },
     "execution_count": 168,
     "metadata": {},
     "output_type": "execute_result"
    }
   ],
   "source": [
    "def solve_one(password=\"abcde\", instructions=test_ins, verbose=False):\n",
    "    pw = list(password)\n",
    "    \n",
    "    for line in instructions:\n",
    "        if verbose: print(line)\n",
    "        ins = line.startswith\n",
    "        words = line.split()\n",
    "        x,y = get_nums(line)\n",
    "        \n",
    "        if ins(\"swap position\"):\n",
    "            # swap the letters at position X, Y\n",
    "            pw = swap(pw, x, y)\n",
    "        elif ins(\"swap letter\"):\n",
    "            # find letters X and Y, then swap\n",
    "            x, y = pw.index(words[2]), pw.index(words[5])\n",
    "            pw = swap(pw, x, y)\n",
    "        elif ins(\"rotate left\"):\n",
    "            # rotate left X times\n",
    "            pw = list(np.roll(pw, -x))\n",
    "        elif ins(\"rotate right\"):\n",
    "            # rotate right X times\n",
    "            pw = list(np.roll(pw, x))\n",
    "        elif ins(\"rotate based on position of letter\"):\n",
    "            # get index of letter, rotate 1 + index + (if index >=4 than add 1)\n",
    "            i = int(pw.index(words[-1]))\n",
    "            if i >= 4: i += 1\n",
    "            pw = list(np.roll(pw, i+1))\n",
    "        elif ins(\"reverse positions\"):\n",
    "            # reverse the letters from index X to Y, including x and y\n",
    "            pw = pw[:x] + pw[x:y+1][::-1] + pw[y+1:]\n",
    "        elif ins(\"move position\"):\n",
    "            #remove letter from X and insert at Y\n",
    "            letter = pw.pop(x)\n",
    "            pw.insert(y, letter)\n",
    "        else:\n",
    "            print(line)\n",
    "            print(\"Bad stuff happening... break\")\n",
    "            break\n",
    "            \n",
    "        if verbose: print(\"\".join(pw))\n",
    "    \n",
    "    return \"\".join(pw)\n",
    "            \n",
    "solve_one(verbose=True)"
   ]
  },
  {
   "cell_type": "code",
   "execution_count": 169,
   "metadata": {},
   "outputs": [
    {
     "name": "stdout",
     "output_type": "stream",
     "text": [
      "CPU times: user 5 ms, sys: 2 ms, total: 7 ms\n",
      "Wall time: 5.35 ms\n"
     ]
    },
    {
     "data": {
      "text/plain": [
       "'aefgbcdh'"
      ]
     },
     "execution_count": 169,
     "metadata": {},
     "output_type": "execute_result"
    }
   ],
   "source": [
    "%time solve_one(\"abcdefgh\", data)"
   ]
  },
  {
   "cell_type": "markdown",
   "metadata": {},
   "source": [
    "ans to part 1: `aefgbcdh`\n",
    "\n",
    "# --- Part Two ---\n",
    "\n",
    "You scrambled the password correctly, but you discover that you can't actually modify the password file on the system. You'll need to un-scramble one of the existing passwords by reversing the scrambling process.\n",
    "\n",
    "What is the un-scrambled version of the scrambled password `fbgdceah`?"
   ]
  },
  {
   "cell_type": "markdown",
   "metadata": {},
   "source": [
    "All the instructions besides the `rotate based on position of letter` are straightforward to reverse. so thinking of how to do that:"
   ]
  },
  {
   "cell_type": "code",
   "execution_count": 159,
   "metadata": {},
   "outputs": [
    {
     "name": "stdout",
     "output_type": "stream",
     "text": [
      "rotate based on position of letter d\n",
      "ecabd\n",
      "rotate based on position of letter b\n",
      "decab\n",
      "move position 3 to position 0\n",
      "ecadb\n",
      "move position 1 to position 4\n",
      "ebcad\n",
      "rotate left 1 step\n",
      "debca\n",
      "reverse positions 0 through 4\n",
      "acbed\n",
      "swap letter d with letter b\n",
      "acdeb\n",
      "swap position 4 with position 0\n",
      "bcdea\n"
     ]
    },
    {
     "data": {
      "text/plain": [
       "'bcdea'"
      ]
     },
     "execution_count": 159,
     "metadata": {},
     "output_type": "execute_result"
    }
   ],
   "source": [
    "part_two = \"fbgdceah\"\n",
    "\n",
    "def un_scramble(password=\"decab\", instructions=test_ins, verbose=False):\n",
    "    pw = list(password)\n",
    "    \n",
    "    for line in instructions[::-1]:\n",
    "        if verbose: print(line)\n",
    "        ins = line.startswith\n",
    "        words = line.split()\n",
    "        x,y = get_nums(line)\n",
    "        \n",
    "        if ins(\"swap position\"):\n",
    "            # swap the letters at position X, Y\n",
    "            pw = swap(pw, x, y)\n",
    "        elif ins(\"swap letter\"):\n",
    "            # find letters X and Y, then swap\n",
    "            x, y = pw.index(words[2]), pw.index(words[5])\n",
    "            pw = swap(pw, x, y)\n",
    "        elif ins(\"rotate left\"):\n",
    "            # rotate left X times\n",
    "            pw = list(np.roll(pw, x))\n",
    "        elif ins(\"rotate right\"):\n",
    "            # rotate right X times\n",
    "            pw = list(np.roll(pw, -x))\n",
    "        elif ins(\"rotate based on position of letter\"):\n",
    "            # get index of letter, rotate 1 + index + (if index >=4 than add 1)\n",
    "            # TODO\n",
    "            \n",
    "            i = int(pw.index(words[-1]))\n",
    "            if i % 2 == 0:\n",
    "                \n",
    "            pw = list(np.roll(pw, -i-1))\n",
    "        elif ins(\"reverse positions\"):\n",
    "            # reverse the letters from index X to Y, including x and y\n",
    "            pw = pw[:x] + pw[x:y+1][::-1] + pw[y+1:]\n",
    "        elif ins(\"move position\"):\n",
    "            #remove letter from X and insert at Y\n",
    "            letter = pw.pop(y)\n",
    "            pw.insert(x, letter)\n",
    "        else:\n",
    "            print(line)\n",
    "            print(\"Bad stuff happening... break\")\n",
    "            break\n",
    "            \n",
    "        if verbose: print(\"\".join(pw))\n",
    "    \n",
    "    return \"\".join(pw)\n",
    "            \n",
    "un_scramble(verbose=True)"
   ]
  },
  {
   "cell_type": "markdown",
   "metadata": {},
   "source": [
    "While I'm figuring out a decent unscramble function, here goes a brute force version:"
   ]
  },
  {
   "cell_type": "code",
   "execution_count": 180,
   "metadata": {},
   "outputs": [
    {
     "data": {
      "text/plain": [
       "('deabc', 'decab')"
      ]
     },
     "execution_count": 180,
     "metadata": {},
     "output_type": "execute_result"
    }
   ],
   "source": [
    "from itertools import permutations\n",
    "\n",
    "def brute_force(scrambeled=\"decab\", data=test_ins):\n",
    "    for pw in (\"\".join(i) for i in permutations(scrambeled)):\n",
    "        if solve_one(pw, data) == scrambeled:\n",
    "            #print(pw, scrambeled)\n",
    "            return pw, scrambeled\n",
    "\n",
    "brute_force()"
   ]
  },
  {
   "cell_type": "markdown",
   "metadata": {},
   "source": [
    "I'm getting two solutions for decab.., but lets see on the other ones:"
   ]
  },
  {
   "cell_type": "code",
   "execution_count": 178,
   "metadata": {},
   "outputs": [
    {
     "name": "stdout",
     "output_type": "stream",
     "text": [
      "CPU times: user 3.3 s, sys: 81 ms, total: 3.38 s\n",
      "Wall time: 3.38 s\n"
     ]
    },
    {
     "data": {
      "text/plain": [
       "('abcdefgh', 'aefgbcdh')"
      ]
     },
     "execution_count": 178,
     "metadata": {},
     "output_type": "execute_result"
    }
   ],
   "source": [
    "%time brute_force(\"aefgbcdh\", data=data)"
   ]
  },
  {
   "cell_type": "code",
   "execution_count": 174,
   "metadata": {},
   "outputs": [
    {
     "name": "stdout",
     "output_type": "stream",
     "text": [
      "fbgdceah egcdahbf\n",
      "CPU times: user 40.7 s, sys: 849 ms, total: 41.6 s\n",
      "Wall time: 41.7 s\n"
     ]
    },
    {
     "data": {
      "text/plain": [
       "('egcdahbf', 'fbgdceah')"
      ]
     },
     "execution_count": 174,
     "metadata": {},
     "output_type": "execute_result"
    }
   ],
   "source": [
    "%time brute_force(\"fbgdceah\", data=data)"
   ]
  },
  {
   "cell_type": "markdown",
   "metadata": {},
   "source": [
    "ans to part 2: `egcdahbf`"
   ]
  }
 ],
 "metadata": {
  "kernelspec": {
   "display_name": "Python 3",
   "language": "python",
   "name": "python3"
  },
  "language_info": {
   "codemirror_mode": {
    "name": "ipython",
    "version": 3
   },
   "file_extension": ".py",
   "mimetype": "text/x-python",
   "name": "python",
   "nbconvert_exporter": "python",
   "pygments_lexer": "ipython3",
   "version": "3.6.5"
  }
 },
 "nbformat": 4,
 "nbformat_minor": 2
}

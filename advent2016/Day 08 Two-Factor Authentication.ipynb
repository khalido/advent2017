{
 "cells": [
  {
   "cell_type": "markdown",
   "metadata": {},
   "source": [
    "# --- Day 8: Two-Factor Authentication ---\n",
    "\n",
    "You come across a door implementing what you can only assume is an implementation of two-factor authentication after a long game of requirements telephone.\n",
    "\n",
    "To get past the door, you first swipe a keycard (no problem; there was one on a nearby desk). Then, it displays a code on a little screen, and you type that code on a keypad. Then, presumably, the door unlocks.\n",
    "\n",
    "Unfortunately, the screen has been smashed. After a few minutes, you've taken everything apart and figured out how it works. Now you just have to work out what the screen would have displayed.\n",
    "\n",
    "The magnetic strip on the card you swiped encodes a series of instructions for the screen; these instructions are your puzzle input. The screen is 50 pixels wide and 6 pixels tall, all of which start off, and is capable of three somewhat peculiar operations:\n",
    "\n",
    "- `rect AxB` turns on all of the pixels in a rectangle at the top-left of the screen which is A wide and B tall.\n",
    "- `rotate row y=A by B` shifts all of the pixels in row A (0 is the top row) right by B pixels. Pixels that would fall off the right end appear at the left end of the row.\n",
    "- `rotate column x=A by B` shifts all of the pixels in column A (0 is the left column) down by B pixels. Pixels that would fall off the bottom appear at the top of the column.\n",
    "\n",
    "For example, here is a simple sequence on a smaller screen:\n",
    "\n",
    "rect 3x2 creates a small rectangle in the top-left corner:\n",
    "\n",
    "```\n",
    "###....\n",
    "###....\n",
    ".......\n",
    "```\n",
    "\n",
    "rotate column x=1 by 1 rotates the second column down by one pixel:\n",
    "\n",
    "```\n",
    "#.#....\n",
    "###....\n",
    ".#.....\n",
    "```\n",
    "\n",
    "rotate row y=0 by 4 rotates the top row right by four pixels:\n",
    "\n",
    "```\n",
    "....#.#\n",
    "###....\n",
    ".#.....\n",
    "```\n",
    "\n",
    "rotate column x=1 by 1 again rotates the second column down by one pixel, causing the bottom pixel to wrap back to the top:\n",
    "\n",
    "```\n",
    ".#..#.#\n",
    "#.#....\n",
    ".#.....\n",
    "```\n",
    "\n",
    "As you can see, this display technology is extremely powerful, and will soon dominate the tiny-code-displaying-screen market. That's what the advertisement on the back of the display tries to convince you, anyway.\n",
    "\n",
    "There seems to be an intermediate check of the voltage used by the display: after you swipe your card, if the screen did work, how many pixels should be lit?"
   ]
  },
  {
   "cell_type": "code",
   "execution_count": 157,
   "metadata": {},
   "outputs": [
    {
     "data": {
      "text/plain": [
       "['rect 1x1',\n",
       " 'rotate row y=0 by 7',\n",
       " 'rect 1x1',\n",
       " 'rotate row y=0 by 5',\n",
       " 'rect 1x1',\n",
       " 'rotate row y=0 by 5',\n",
       " 'rect 1x1',\n",
       " 'rotate row y=0 by 2',\n",
       " 'rect 1x1']"
      ]
     },
     "execution_count": 157,
     "metadata": {},
     "output_type": "execute_result"
    }
   ],
   "source": [
    "import utils\n",
    "import numpy as np\n",
    "import matplotlib.pyplot as plt\n",
    "\n",
    "data = utils.get_input(8)\n",
    "data[:9]"
   ]
  },
  {
   "cell_type": "markdown",
   "metadata": {},
   "source": [
    "some helper functions:"
   ]
  },
  {
   "cell_type": "code",
   "execution_count": 70,
   "metadata": {},
   "outputs": [
    {
     "data": {
      "text/plain": [
       "array([4, 0, 1, 2, 3])"
      ]
     },
     "execution_count": 70,
     "metadata": {},
     "output_type": "execute_result"
    }
   ],
   "source": [
    "def rotate(arr, num):\n",
    "    \"\"\"shits items in arr by num\"\"\"\n",
    "    return np.roll(arr, num)\n",
    "\n",
    "rotate([i for i in range(5)], 1)"
   ]
  },
  {
   "cell_type": "markdown",
   "metadata": {},
   "source": [
    "now to check how to rotate rows and columns in a numpy array:"
   ]
  },
  {
   "cell_type": "code",
   "execution_count": 53,
   "metadata": {},
   "outputs": [
    {
     "name": "stdout",
     "output_type": "stream",
     "text": [
      "[[1 2 3]\n",
      " [4 5 6]\n",
      " [7 8 9]]\n"
     ]
    },
    {
     "data": {
      "text/plain": [
       "array([1, 4, 7])"
      ]
     },
     "execution_count": 53,
     "metadata": {},
     "output_type": "execute_result"
    }
   ],
   "source": [
    "g = np.arange(1,10).reshape(3,3)\n",
    "print(g)\n",
    "g[:,0] # get column 0"
   ]
  },
  {
   "cell_type": "code",
   "execution_count": 54,
   "metadata": {},
   "outputs": [
    {
     "data": {
      "text/plain": [
       "array([1, 2, 3])"
      ]
     },
     "execution_count": 54,
     "metadata": {},
     "output_type": "execute_result"
    }
   ],
   "source": [
    "g[0,:] # get row 0"
   ]
  },
  {
   "cell_type": "markdown",
   "metadata": {},
   "source": [
    "so now i can rotate a cols and rows by:"
   ]
  },
  {
   "cell_type": "code",
   "execution_count": 82,
   "metadata": {},
   "outputs": [
    {
     "data": {
      "text/plain": [
       "array([[7, 2, 3],\n",
       "       [1, 5, 6],\n",
       "       [4, 8, 9]])"
      ]
     },
     "execution_count": 82,
     "metadata": {},
     "output_type": "execute_result"
    }
   ],
   "source": [
    "g[:,0] = rotate(g[:,0],1) # col rotate\n",
    "g"
   ]
  },
  {
   "cell_type": "code",
   "execution_count": 83,
   "metadata": {},
   "outputs": [
    {
     "data": {
      "text/plain": [
       "array([[3, 7, 2],\n",
       "       [1, 5, 6],\n",
       "       [4, 8, 9]])"
      ]
     },
     "execution_count": 83,
     "metadata": {},
     "output_type": "execute_result"
    }
   ],
   "source": [
    "g[0, :] = rotate(g[0,:],1) # row rotate\n",
    "g"
   ]
  },
  {
   "cell_type": "markdown",
   "metadata": {},
   "source": [
    "Now to make the empty grid:"
   ]
  },
  {
   "cell_type": "code",
   "execution_count": 253,
   "metadata": {},
   "outputs": [
    {
     "data": {
      "text/plain": [
       "array([['.', '.', '.', '.', '.', '.', '.', '.', '.', '.'],\n",
       "       ['.', '.', '.', '.', '.', '.', '.', '.', '.', '.'],\n",
       "       ['.', '.', '.', '.', '.', '.', '.', '.', '.', '.'],\n",
       "       ['.', '.', '.', '.', '.', '.', '.', '.', '.', '.']], dtype='<U1')"
      ]
     },
     "execution_count": 253,
     "metadata": {},
     "output_type": "execute_result"
    }
   ],
   "source": [
    "grid = np.full((6, 50), \".\")\n",
    "grid[:4,:10]"
   ]
  },
  {
   "cell_type": "code",
   "execution_count": 254,
   "metadata": {},
   "outputs": [
    {
     "data": {
      "image/png": "[encoded data removed]",
      "text/plain": [
       "<matplotlib.figure.Figure at 0x7a8ccc209e48>"
      ]
     },
     "metadata": {},
     "output_type": "display_data"
    }
   ],
   "source": [
    "def plot(grid):\n",
    "    \"\"\"takes in a array and plots it\"\"\"\n",
    "    binary_grid = [c == \"#\" for c in [row for row in grid]]\n",
    "    plt.figure(figsize=(16,2))\n",
    "    plt.imshow(binary_grid)\n",
    "    plt.title(f\"{np.sum(binary_grid)} leds on\")\n",
    "    plt.axis('off')\n",
    "    plt.show()\n",
    "\n",
    "plot(grid)"
   ]
  },
  {
   "cell_type": "markdown",
   "metadata": {},
   "source": [
    "Plotting a random grid just to see how it looks"
   ]
  },
  {
   "cell_type": "code",
   "execution_count": 255,
   "metadata": {},
   "outputs": [
    {
     "data": {
      "image/png": "[encoded data removed]",
      "text/plain": [
       "<matplotlib.figure.Figure at 0x7a8ccc4d9c88>"
      ]
     },
     "metadata": {},
     "output_type": "display_data"
    }
   ],
   "source": [
    "msk = np.random.randint(0, 2, (6,50)) == 1\n",
    "grid[msk] = \"#\"\n",
    "plot(grid)"
   ]
  },
  {
   "cell_type": "markdown",
   "metadata": {},
   "source": [
    "now to step through the instructions:"
   ]
  },
  {
   "cell_type": "code",
   "execution_count": 256,
   "metadata": {},
   "outputs": [
    {
     "data": {
      "image/png": "[encoded data removed]",
      "text/plain": [
       "<matplotlib.figure.Figure at 0x7a8cc71414e0>"
      ]
     },
     "metadata": {},
     "output_type": "display_data"
    }
   ],
   "source": [
    "import time\n",
    "from IPython.display import display, clear_output\n",
    "\n",
    "def step(line):\n",
    "    \"\"\"performs one step on the grid\"\"\"\n",
    "    \n",
    "    x, y = [int(i) for i in re.findall(\"\\d+\", line)]\n",
    "    \n",
    "    if line.startswith(\"rect\"):\n",
    "        grid[0:y,0:x] = \"#\"\n",
    "    elif line.startswith(\"rotate row\"):\n",
    "        grid[x,:] = rotate(grid[x,:],y)\n",
    "    elif line.startswith(\"rotate column\"):\n",
    "        grid[:,x] = rotate(grid[:,x],y)\n",
    "\n",
    "grid = np.full((6, 50), \".\")   # starting with a blank grid\n",
    "\n",
    "for i, line in enumerate(data):\n",
    "    step(line) # update the grid\n",
    "    # display the grid after each update\n",
    "    clear_output(wait=True)\n",
    "    plot(grid)\n",
    "    time.sleep(0.01)"
   ]
  },
  {
   "cell_type": "markdown",
   "metadata": {},
   "source": [
    "# --- Part Two ---\n",
    "\n",
    "You notice that the screen is only capable of displaying capital letters; in the font it uses, each letter is 5 pixels wide and 6 tall.\n",
    "\n",
    "After you swipe your card, **what code is the screen trying to display?**"
   ]
  },
  {
   "cell_type": "markdown",
   "metadata": {},
   "source": [
    "There are many OCR libraries for python, which should be able to read this pretty easily, but since its such a small output, I eyeballed it to be `EOARGPHYAO`.\n",
    "\n",
    "# Notes:\n",
    "\n",
    "- animate the steps using matplotlib, not just text"
   ]
  },
  {
   "cell_type": "code",
   "execution_count": null,
   "metadata": {},
   "outputs": [],
   "source": []
  }
 ],
 "metadata": {
  "kernelspec": {
   "display_name": "Python 3",
   "language": "python",
   "name": "python3"
  },
  "language_info": {
   "codemirror_mode": {
    "name": "ipython",
    "version": 3
   },
   "file_extension": ".py",
   "mimetype": "text/x-python",
   "name": "python",
   "nbconvert_exporter": "python",
   "pygments_lexer": "ipython3",
   "version": "3.6.4"
  }
 },
 "nbformat": 4,
 "nbformat_minor": 2
}

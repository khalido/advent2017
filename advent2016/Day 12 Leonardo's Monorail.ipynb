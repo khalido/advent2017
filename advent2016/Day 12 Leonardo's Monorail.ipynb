{
 "cells": [
  {
   "cell_type": "markdown",
   "metadata": {},
   "source": [
    "# --- Day 12: Leonardo's Monorail ---\n",
    "\n",
    "You finally reach the top floor of this building: a garden with a slanted glass ceiling. Looks like there are no more stars to be had.\n",
    "\n",
    "While sitting on a nearby bench amidst some tiger lilies, you manage to decrypt some of the files you extracted from the servers downstairs.\n",
    "\n",
    "According to these documents, Easter Bunny HQ isn't just this building - it's a collection of buildings in the nearby area. They're all connected by a local monorail, and there's another building not far from here! Unfortunately, being night, the monorail is currently not operating.\n",
    "\n",
    "You remotely connect to the monorail control systems and discover that the boot sequence expects a password. The password-checking logic (your puzzle input) is easy to extract, but the code it uses is strange: it's assembunny code designed for the new computer you just assembled. You'll have to execute the code and get the password.\n",
    "\n",
    "The assembunny code you've extracted operates on four registers (a, b, c, and d) that start at 0 and can hold any integer. However, it seems to make use of only a few instructions:\n",
    "\n",
    "- cpy x y copies x (either an integer or the value of a register) into register y.\n",
    "- inc x increases the value of register x by one.\n",
    "- dec x decreases the value of register x by one.\n",
    "- jnz x y jumps to an instruction y away (positive means forward; negative means backward), but only if x is not zero.\n",
    "\n",
    "The jnz instruction moves relative to itself: an offset of -1 would continue at the previous instruction, while an offset of 2 would skip over the next instruction.\n",
    "\n",
    "For example:\n",
    "\n",
    "```\n",
    "cpy 41 a\n",
    "inc a\n",
    "inc a\n",
    "dec a\n",
    "jnz a 2\n",
    "dec a\n",
    "```\n",
    "\n",
    "The above code would set register a to 41, increase its value by 2, decrease its value by 1, and then skip the last dec a (because a is not zero, so the jnz a 2 skips it), leaving register a at 42. When you move past the last instruction, the program halts.\n",
    "\n",
    "After executing the assembunny code in your puzzle input, what value is left in register a?"
   ]
  },
  {
   "cell_type": "code",
   "execution_count": 36,
   "metadata": {},
   "outputs": [
    {
     "name": "stdout",
     "output_type": "stream",
     "text": [
      "Length: 23\n"
     ]
    },
    {
     "data": {
      "text/plain": [
       "['cpy 1 a',\n",
       " 'cpy 1 b',\n",
       " 'cpy 26 d',\n",
       " 'jnz c 2',\n",
       " 'jnz 1 5',\n",
       " 'cpy 7 c',\n",
       " 'inc d',\n",
       " 'dec c',\n",
       " 'jnz c -2',\n",
       " 'cpy a c']"
      ]
     },
     "execution_count": 36,
     "metadata": {},
     "output_type": "execute_result"
    }
   ],
   "source": [
    "with open(f'inputs/12.txt') as f:\n",
    "    data = f.read().strip().split(\"\\n\")\n",
    "print(\"Length:\", len(data))\n",
    "data[:10]"
   ]
  },
  {
   "cell_type": "code",
   "execution_count": 30,
   "metadata": {},
   "outputs": [
    {
     "data": {
      "text/plain": [
       "('a', 5)"
      ]
     },
     "execution_count": 30,
     "metadata": {},
     "output_type": "execute_result"
    }
   ],
   "source": [
    "def int_or_str(x):\n",
    "    try:\n",
    "        x = int(x)\n",
    "    except:\n",
    "        pass\n",
    "    return x\n",
    "\n",
    "int_or_str(\"a\"), int_or_str(\"5\")"
   ]
  },
  {
   "cell_type": "markdown",
   "metadata": {},
   "source": [
    "this is a straightforward read and and parse instructions and update registers:"
   ]
  },
  {
   "cell_type": "code",
   "execution_count": 40,
   "metadata": {},
   "outputs": [
    {
     "data": {
      "text/plain": [
       "defaultdict(int, {'a': 318020, 'b': 196418, 'c': 0, 'd': 0})"
      ]
     },
     "execution_count": 40,
     "metadata": {},
     "output_type": "execute_result"
    }
   ],
   "source": [
    "from collections import defaultdict\n",
    "\n",
    "registers = defaultdict(int)\n",
    "\n",
    "i = 0\n",
    "\n",
    "while i < len(data):\n",
    "    ins = data[i].split()\n",
    "    func = ins[0]\n",
    "    x = int_or_str(ins[1])\n",
    "    \n",
    "    if len(ins) == 3:\n",
    "        y = int_or_str(ins[2])\n",
    "    \n",
    "    if func == \"cpy\":\n",
    "        registers[y] = registers[x] if type(x) is str else x\n",
    "    elif func == \"inc\":\n",
    "        registers[x] += 1\n",
    "    elif func == \"dec\":\n",
    "        registers[x] -= 1\n",
    "    elif func == \"jnz\":\n",
    "        x = registers[x] if type(x) is str else x\n",
    "        y = registers[y] if type(y) is str else y\n",
    "        if x != 0:\n",
    "            i += y-1\n",
    "    i += 1\n",
    "\n",
    "registers   "
   ]
  },
  {
   "cell_type": "markdown",
   "metadata": {},
   "source": [
    "# --- Part Two ---\n",
    "\n",
    "As you head down the fire escape to the monorail, you notice it didn't start; register c needs to be initialized to the position of the ignition key.\n",
    "\n",
    "**If you instead initialize register c to be 1, what value is now left in register a?**\n",
    "\n",
    "---\n",
    "\n",
    "Just need to initialize register c to 1 instead of 0, so just copy pasting from above (haven't bothered to functionize it):"
   ]
  },
  {
   "cell_type": "code",
   "execution_count": 41,
   "metadata": {},
   "outputs": [
    {
     "data": {
      "text/plain": [
       "defaultdict(int, {'a': 9227674, 'b': 5702887, 'c': 0, 'd': 0})"
      ]
     },
     "execution_count": 41,
     "metadata": {},
     "output_type": "execute_result"
    }
   ],
   "source": [
    "from collections import defaultdict\n",
    "\n",
    "registers = defaultdict(int)\n",
    "registers[\"c\"] = 1\n",
    "\n",
    "i = 0\n",
    "\n",
    "while i < len(data):\n",
    "    ins = data[i].split()\n",
    "    func = ins[0]\n",
    "    x = int_or_str(ins[1])\n",
    "    \n",
    "    if len(ins) == 3:\n",
    "        y = int_or_str(ins[2])\n",
    "    \n",
    "    if func == \"cpy\":\n",
    "        registers[y] = registers[x] if type(x) is str else x\n",
    "    elif func == \"inc\":\n",
    "        registers[x] += 1\n",
    "    elif func == \"dec\":\n",
    "        registers[x] -= 1\n",
    "    elif func == \"jnz\":\n",
    "        x = registers[x] if type(x) is str else x\n",
    "        y = registers[y] if type(y) is str else y\n",
    "        if x != 0:\n",
    "            i += y-1\n",
    "    i += 1\n",
    "\n",
    "registers   "
   ]
  }
 ],
 "metadata": {
  "kernelspec": {
   "display_name": "Python 3",
   "language": "python",
   "name": "python3"
  },
  "language_info": {
   "codemirror_mode": {
    "name": "ipython",
    "version": 3
   },
   "file_extension": ".py",
   "mimetype": "text/x-python",
   "name": "python",
   "nbconvert_exporter": "python",
   "pygments_lexer": "ipython3",
   "version": "3.6.5"
  }
 },
 "nbformat": 4,
 "nbformat_minor": 2
}

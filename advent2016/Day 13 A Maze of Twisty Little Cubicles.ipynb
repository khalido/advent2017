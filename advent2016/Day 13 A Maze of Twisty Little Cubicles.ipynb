{
 "cells": [
  {
   "cell_type": "markdown",
   "metadata": {},
   "source": [
    "# --- Day 13: A Maze of Twisty Little Cubicles ---\n",
    "\n",
    "You arrive at the first floor of this new building to discover a much less welcoming environment than the shiny atrium of the last one. Instead, you are in a maze of twisty little cubicles, all alike.\n",
    "\n",
    "Every location in this area is addressed by a pair of non-negative integers (x,y). Each such coordinate is either a wall or an open space. You can't move diagonally. The cube maze starts at 0,0 and seems to extend infinitely toward positive x and y; negative values are invalid, as they represent a location outside the building. You are in a small waiting area at 1,1.\n",
    "\n",
    "While it seems chaotic, a nearby morale-boosting poster explains, the layout is actually quite logical. You can determine whether a given x,y coordinate will be a wall or an open space using a simple system:\n",
    "\n",
    "- Find `x*x + 3*x + 2*x*y + y + y*y`.\n",
    "- Add the office designer's favorite number (your puzzle input).\n",
    "- Find the binary representation of that sum; count the number of bits that are 1.\n",
    "    - If the number of bits that are 1 is even, it's an open space.\n",
    "    - If the number of bits that are 1 is odd, it's a wall.\n",
    "\n",
    "For example, if the office designer's favorite number were 10, drawing walls as # and open spaces as ., the corner of the building containing 0,0 would look like this:\n",
    "\n",
    "```\n",
    "  0123456789\n",
    "0 .#.####.##\n",
    "1 ..#..#...#\n",
    "2 #....##...\n",
    "3 ###.#.###.\n",
    "4 .##..#..#.\n",
    "5 ..##....#.\n",
    "6 #...##.###\n",
    "```\n",
    "\n",
    "Now, suppose you wanted to reach 7,4. The shortest route you could take is marked as O:\n",
    "\n",
    "```\n",
    "  0123456789\n",
    "0 .#.####.##\n",
    "1 .O#..#...#\n",
    "2 #OOO.##...\n",
    "3 ###O#.###.\n",
    "4 .##OO#OO#.\n",
    "5 ..##OOO.#.\n",
    "6 #...##.###\n",
    "```\n",
    "\n",
    "Thus, reaching 7,4 would take a minimum of 11 steps (starting from your current location, 1,1).\n",
    "\n",
    "**What is the fewest number of steps required for you to reach 31,39?**\n",
    "\n",
    "Your puzzle input is 1358.\n",
    "\n",
    "---\n",
    "\n",
    "First up, calculating whether a given position is open:"
   ]
  },
  {
   "cell_type": "code",
   "execution_count": 350,
   "metadata": {},
   "outputs": [
    {
     "data": {
      "text/plain": [
       "(True, False, False, True, False, False)"
      ]
     },
     "execution_count": 350,
     "metadata": {},
     "output_type": "execute_result"
    }
   ],
   "source": [
    "import numpy as np\n",
    "\n",
    "def is_open(x,y, fav_num=1358):\n",
    "    \"\"\"returns true if open space, false if wall\"\"\"\n",
    "    num = x*x + 3*x + 2*x*y + y + y*y + fav_num\n",
    "    return f\"{num:b}\".count(\"1\") % 2 == 0 and x>=0 and y>=0\n",
    "\n",
    "is_open(0, 0, 10), is_open(1, 0, 10), is_open(2, 3, 10), is_open(2, 2, 10), is_open(-1,0,10), is_open(1,-1)"
   ]
  },
  {
   "cell_type": "markdown",
   "metadata": {},
   "source": [
    "First up, lets make the grid as per the example just to make sure our code is correct. Notes:\n",
    "\n",
    "- numpy grid addressing is backwards from the standard spreadsheet coordinates"
   ]
  },
  {
   "cell_type": "code",
   "execution_count": 351,
   "metadata": {},
   "outputs": [
    {
     "name": "stdout",
     "output_type": "stream",
     "text": [
      "(7, 10)\n"
     ]
    },
    {
     "data": {
      "text/plain": [
       "array([['.', '#', '.', '#', '#', '#', '#', '.', '#', '#'],\n",
       "       ['.', '.', '#', '.', '.', '#', '.', '.', '.', '#'],\n",
       "       ['#', '.', '.', '.', '.', '#', '#', '.', '.', '.'],\n",
       "       ['#', '#', '#', '.', '#', '.', '#', '#', '#', '.'],\n",
       "       ['.', '#', '#', '.', '.', '#', '.', '.', '#', '.'],\n",
       "       ['.', '.', '#', '#', '.', '.', '.', '.', '#', '.'],\n",
       "       ['#', '.', '.', '.', '#', '#', '.', '#', '#', '#']], dtype='<U1')"
      ]
     },
     "execution_count": 351,
     "metadata": {},
     "output_type": "execute_result"
    }
   ],
   "source": [
    "def make_grid(x,y, fill='.', fav_num=1358):\n",
    "    \"\"\"returns a grid of size height y and width x filled with a default val\"\"\"\n",
    "    grid = np.full((y, x), fill)\n",
    "    for i in range(y):\n",
    "        for j in range(x):\n",
    "            if not is_open(j,i,fav_num):\n",
    "                grid[i,j] = \"#\"\n",
    "    return grid\n",
    "\n",
    "test_grid = make_grid(10,7, fav_num=10)\n",
    "print(test_grid.shape)\n",
    "test_grid"
   ]
  },
  {
   "cell_type": "markdown",
   "metadata": {},
   "source": [
    "That looks to be the same as the example grid, so moving on.\n",
    "\n",
    "Now to solve the maze. So we start at (1,1) and keep moving until we reach our goal."
   ]
  },
  {
   "cell_type": "code",
   "execution_count": null,
   "metadata": {},
   "outputs": [
    {
     "name": "stdout",
     "output_type": "stream",
     "text": [
      "Starting at node (1, 1) searching for (31, 39)\n",
      "step  10,000, looking at node (32, 32) in a path of len 79\n",
      "step  20,000, looking at node (30, 33) in a path of len 88\n",
      "step  30,000, looking at node (35, 41) in a path of len 93\n"
     ]
    }
   ],
   "source": [
    "from collections import deque, defaultdict\n",
    "\n",
    "def solve(start=(1,1), destination=(31,39)):\n",
    "    \"\"\"takes in a start state and returns first path which reaches destination\"\"\"\n",
    "    moves=((0,-1), (0,1),(-1,0), (1,0)) # possible moves for a 4 way grid\n",
    "    \n",
    "    stack = deque() # the paths to process\n",
    "    stack.append([start])\n",
    "\n",
    "    paths = [] # tracking all possible valid paths\n",
    "    \n",
    "    path = stack.popleft()\n",
    "    print(\"Starting at node\", start, \"searching for\", destination)\n",
    "    \n",
    "    i = 0 # counter to be able to print out whats going on once in a while\n",
    "    while path[-1] != destination:\n",
    "        if not path in paths: \n",
    "            cur_x, cur_y = path[-1]\n",
    "            for node in [(cur_x+i, cur_y+j) for i,j in moves]:\n",
    "                new_x, new_y = node\n",
    "                if is_open(new_x, new_y) and node not in path:\n",
    "                    new_path = path[:]\n",
    "                    new_path.append(node)\n",
    "                    stack.append(new_path) # add all new unseen states to the stack\n",
    "            paths.append(path) # have now processed this path\n",
    "            \n",
    "        try:\n",
    "            path = stack.popleft()\n",
    "        except:\n",
    "            print(f\"Error, the stack is empty at loop {i}\")\n",
    "            return paths\n",
    "        \n",
    "        i+=1\n",
    "        if i % 10000 == 0:\n",
    "            print(f\"step {i:7,d}, looking at node {path[-1]} in a path of len {len(path)}\")\n",
    "    \n",
    "    print(\"----\"*12)\n",
    "    print(f\"It took {len(path)-1} steps from {start} node to the {destination} in a path of length {len(path)}\")\n",
    "    return path\n",
    "\n",
    "path = solve()"
   ]
  },
  {
   "cell_type": "markdown",
   "metadata": {},
   "source": [
    "Now to viusalize the maze and path:"
   ]
  },
  {
   "cell_type": "code",
   "execution_count": 333,
   "metadata": {},
   "outputs": [
    {
     "data": {
      "image/png": "[encoded data removed]",
      "text/plain": [
       "<matplotlib.figure.Figure at 0x7812b2696128>"
      ]
     },
     "metadata": {},
     "output_type": "display_data"
    }
   ],
   "source": [
    "import matplotlib.pyplot as plt\n",
    "import seaborn as sns\n",
    "\n",
    "def plot(path):\n",
    "    # setup the x and u points from the path\n",
    "    x, y = zip(*path) # seperating x and y points\n",
    "\n",
    "    # first up, plot the grid\n",
    "    plt.figure(figsize=(12,8))\n",
    "\n",
    "    binary_grid = [c == \".\" for c in [row for row in make_grid(max(x)+2,max(y)+2)]]\n",
    "    plt.imshow(binary_grid, alpha=0.6)\n",
    "    plt.axis('on')\n",
    "\n",
    "    # now plot the path\n",
    "    plt.title(f\"Path took {len(path)-1} steps\")\n",
    "    plt.plot(x,y, linewidth=3, label=\"Path\")\n",
    "    \n",
    "    #labelling the start and destination\n",
    "    box_style = dict(fc=\"red\", ec=\"b\", lw=1, alpha=0.7, boxstyle=\"square,pad=0.5\")\n",
    "    x,y = path[0]\n",
    "    plt.annotate(\" \", xy=(x,y), bbox=box_style)\n",
    "    x,y=path[-1]\n",
    "    plt.annotate(\" \", xy=(x,y), bbox=box_style)\n",
    "\n",
    "    \n",
    "    plt.show()\n",
    "\n",
    "plot(path)"
   ]
  },
  {
   "cell_type": "markdown",
   "metadata": {},
   "source": [
    "# --- Part Two ---\n",
    "\n",
    "**How many locations (distinct x,y coordinates, including your starting location) can you reach in at most 50 steps?**\n",
    "\n",
    "---\n",
    "\n",
    "So, given i have upto 50 steps to take, what are all the possible locations I can visit? So I shold be able to modify the above func to store all paths where `steps <= 50`, implying a max path length of 51. "
   ]
  },
  {
   "cell_type": "code",
   "execution_count": 367,
   "metadata": {},
   "outputs": [
    {
     "name": "stdout",
     "output_type": "stream",
     "text": [
      "step   500, looking at node (15, 8) in a path of len 32\n",
      "step 1,000, looking at node (15, 11) in a path of len 37\n",
      "step 1,500, looking at node (20, 8) in a path of len 41\n",
      "step 2,000, looking at node (8, 16) in a path of len 45\n",
      "step 2,500, looking at node (4, 10) in a path of len 49\n",
      "----------------------------------------------------\n",
      "Can visit 141 nodes from (1, 1) node in 50 steps\n"
     ]
    },
    {
     "data": {
      "text/plain": [
       "141"
      ]
     },
     "execution_count": 367,
     "metadata": {},
     "output_type": "execute_result"
    }
   ],
   "source": [
    "def all_nodes_reachable(start=(1,1), steps=50):\n",
    "    \"\"\"takes in a start piont and a num of steps and returns all the nodes reachable\"\"\"\n",
    "    moves=((0,-1), (0,1),(-1,0), (1,0))\n",
    "    \n",
    "    stack = deque()\n",
    "    stack.append([start])\n",
    "\n",
    "    paths = []\n",
    "    \n",
    "    nodes_visited = set()\n",
    "    \n",
    "    path = stack.popleft()\n",
    "    nodes_visited.add(path[0])\n",
    "    \n",
    "    i = 0\n",
    "    while len(path) < steps+1:\n",
    "        \n",
    "        if not path in paths:\n",
    "            cur_x, cur_y = path[-1]\n",
    "            for node in [(cur_x+i, cur_y+j) for i,j in moves]:\n",
    "                new_x, new_y = node\n",
    "                if is_open(new_x, new_y) and node not in path:\n",
    "                    new_path = path[:]\n",
    "                    new_path.append(node)\n",
    "                    nodes_visited.add(node)\n",
    "                    stack.append(new_path) # add all new unseen states to the stack\n",
    "            paths.append(path) # have now processed this state\n",
    "            \n",
    "        try:\n",
    "            path = stack.popleft()\n",
    "        except:\n",
    "            print(\"empty stack\", i)\n",
    "            return nodes_visited\n",
    "        \n",
    "        i+=1\n",
    "            \n",
    "        if i % 500 == 0:\n",
    "            print(f\"step {i:5,d}, looking at node {path[-1]} in a path of len {len(path)}\")\n",
    "    \n",
    "    print(\"----\"*13)\n",
    "    print(f\"Can visit {len(nodes_visited)} nodes from {start} node in {steps} steps\")\n",
    "    return nodes_visited, paths\n",
    "\n",
    "nodes, paths = all_nodes_reachable()\n",
    "len(nodes)"
   ]
  },
  {
   "cell_type": "code",
   "execution_count": 358,
   "metadata": {},
   "outputs": [
    {
     "data": {
      "image/png": "[encoded data removed]",
      "text/plain": [
       "<matplotlib.figure.Figure at 0x7812b26bb748>"
      ]
     },
     "metadata": {},
     "output_type": "display_data"
    }
   ],
   "source": [
    "def plot_nodes(path, start=(1,1)):\n",
    "    # setup the x and u points from the path\n",
    "    x, y = zip(*path) # seperating x and y points\n",
    "\n",
    "    # first up, plot the grid\n",
    "    plt.figure(figsize=(12,8))\n",
    "\n",
    "    binary_grid = [c == \".\" for c in [row for row in make_grid(max(x)+2,max(y)+2)]]\n",
    "    plt.imshow(binary_grid, alpha=0.6)\n",
    "    plt.axis('on')\n",
    "\n",
    "    # now plot the nodes we can visit\n",
    "    plt.title(f\"{len(path)} Points reachable from {start}\")\n",
    "    plt.scatter(x,y)\n",
    "    \n",
    "    box_style = dict(fc=\"red\", ec=\"b\", lw=1, alpha=0.5, boxstyle=\"square,pad=0.5\")\n",
    "    x,y = start\n",
    "    plt.annotate(\" \", xy=(x,y), bbox=box_style)\n",
    "    \n",
    "    plt.show()\n",
    "\n",
    "plot_nodes(nodes)"
   ]
  },
  {
   "cell_type": "code",
   "execution_count": null,
   "metadata": {},
   "outputs": [],
   "source": []
  }
 ],
 "metadata": {
  "kernelspec": {
   "display_name": "Python [default]",
   "language": "python",
   "name": "python3"
  },
  "language_info": {
   "codemirror_mode": {
    "name": "ipython",
    "version": 3
   },
   "file_extension": ".py",
   "mimetype": "text/x-python",
   "name": "python",
   "nbconvert_exporter": "python",
   "pygments_lexer": "ipython3",
   "version": "3.7.0"
  }
 },
 "nbformat": 4,
 "nbformat_minor": 2
}

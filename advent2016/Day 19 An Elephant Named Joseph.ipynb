{
 "cells": [
  {
   "cell_type": "markdown",
   "metadata": {},
   "source": [
    "# --- Day 19: An Elephant Named Joseph ---\n",
    "\n",
    "The Elves contact you over a highly secure emergency channel. Back at the North Pole, the Elves are busy misunderstanding White Elephant parties.\n",
    "\n",
    "Each Elf brings a present. They all sit in a circle, numbered starting with position 1. Then, starting with the first Elf, they take turns stealing all the presents from the Elf to their left. An Elf with no presents is removed from the circle and does not take turns.\n",
    "\n",
    "For example, with five Elves (numbered 1 to 5):\n",
    "\n",
    "```\n",
    "  1\n",
    "5   2\n",
    " 4 3\n",
    "```\n",
    "\n",
    "- Elf 1 takes Elf 2's present.\n",
    "- Elf 2 has no presents and is skipped.\n",
    "- Elf 3 takes Elf 4's present.\n",
    "- Elf 4 has no presents and is also skipped.\n",
    "- Elf 5 takes Elf 1's two presents.\n",
    "- Neither Elf 1 nor Elf 2 have any presents, so both are skipped.\n",
    "- Elf 3 takes Elf 5's three presents.\n",
    "\n",
    "So, with five Elves, the Elf that sits starting in position 3 gets all the presents.\n",
    "\n",
    "With the number of Elves given in your puzzle input, which Elf gets all the presents?"
   ]
  },
  {
   "cell_type": "markdown",
   "metadata": {},
   "source": [
    "---\n",
    "\n",
    "this... looks hard. In fact it looks like something solvable quite easily using math. But here goes a non mathy approach."
   ]
  },
  {
   "cell_type": "code",
   "execution_count": 1,
   "metadata": {},
   "outputs": [],
   "source": [
    "puzzle_input = 3014603"
   ]
  },
  {
   "cell_type": "markdown",
   "metadata": {},
   "source": [
    "First up, we need a circular list, so importing likely candidates to make a circular list:"
   ]
  },
  {
   "cell_type": "code",
   "execution_count": 8,
   "metadata": {},
   "outputs": [
    {
     "data": {
      "text/plain": [
       "[Elf(Position=0, Presents=1),\n",
       " Elf(Position=1, Presents=1),\n",
       " Elf(Position=2, Presents=1)]"
      ]
     },
     "execution_count": 8,
     "metadata": {},
     "output_type": "execute_result"
    }
   ],
   "source": [
    "from collections import deque, namedtuple\n",
    "from itertools import cycle\n",
    "import numpy as np\n",
    "\n",
    "Elf = namedtuple(\"Elf\", [\"Position\", \"Presents\"])\n",
    "[Elf(i, 1) for i in range(3)]"
   ]
  },
  {
   "cell_type": "markdown",
   "metadata": {},
   "source": [
    "I like named tuples, but for part one we only need to know the last elf so I'm just using lists.\n",
    "\n",
    "The below simulates the gift passing until there is only one elf left:"
   ]
  },
  {
   "cell_type": "code",
   "execution_count": 16,
   "metadata": {},
   "outputs": [
    {
     "name": "stdout",
     "output_type": "stream",
     "text": [
      "deque([1, 2, 3, 4, 5])\n",
      "deque([1, 3, 5])\n",
      "deque([3, 5])\n",
      "deque([3])\n"
     ]
    },
    {
     "data": {
      "text/plain": [
       "3"
      ]
     },
     "execution_count": 16,
     "metadata": {},
     "output_type": "execute_result"
    }
   ],
   "source": [
    "def last_elf(n=5, verbose=False):\n",
    "    \"\"\"returns the elf with all the presents\"\"\"\n",
    "    elves = deque([i for i in range(1,n+1)])\n",
    "    if verbose: print(elves)\n",
    "        \n",
    "    while len(elves) > 1:\n",
    "        \n",
    "        # only circle around if the list is odd\n",
    "        pop = False if len(elves) % 2 == 0 else True\n",
    "        \n",
    "        # removing all the even elves as their gifts have been grabbed by the odd \n",
    "        # elf to their left\n",
    "        elves = deque([e for i,e in enumerate(elves) if i%2==0])\n",
    "        if verbose: print(elves)\n",
    "        \n",
    "        # for odd length lists, the last elf grabs the presents from the first elf\n",
    "        if len(elves) > 1 and pop:\n",
    "            elves.popleft()\n",
    "            if verbose: print(elves)\n",
    "            \n",
    "    return elves[0]\n",
    "\n",
    "last_elf(n=5, verbose=True)"
   ]
  },
  {
   "cell_type": "code",
   "execution_count": 18,
   "metadata": {},
   "outputs": [
    {
     "name": "stdout",
     "output_type": "stream",
     "text": [
      "CPU times: user 1.08 s, sys: 4 ms, total: 1.08 s\n",
      "Wall time: 1.1 s\n"
     ]
    },
    {
     "data": {
      "text/plain": [
       "1834903"
      ]
     },
     "execution_count": 18,
     "metadata": {},
     "output_type": "execute_result"
    }
   ],
   "source": [
    "%time last_elf(puzzle_input)"
   ]
  },
  {
   "cell_type": "markdown",
   "metadata": {},
   "source": [
    "`1834903` is the answer for part 1."
   ]
  },
  {
   "cell_type": "markdown",
   "metadata": {},
   "source": [
    "# --- Part Two ---\n",
    "\n",
    "Realizing the folly of their present-exchange rules, the Elves agree to instead steal presents from the Elf directly across the circle. If two Elves are across the circle, the one on the left (from the perspective of the stealer) is stolen from. The other rules remain unchanged: Elves with no presents are removed from the circle entirely, and the other elves move in slightly to keep the circle evenly spaced."
   ]
  },
  {
   "cell_type": "markdown",
   "metadata": {},
   "source": [
    "So I thought using a numpy array would speed things up but turns out it doesnt:"
   ]
  },
  {
   "cell_type": "code",
   "execution_count": 156,
   "metadata": {},
   "outputs": [
    {
     "name": "stdout",
     "output_type": "stream",
     "text": [
      "0 [1 2 3 4 5]\n",
      "1 [2 4 5 1]\n",
      "2 [4 1 2]\n",
      "3 [2 4]\n",
      "CPU times: user 3 ms, sys: 0 ns, total: 3 ms\n",
      "Wall time: 2.38 ms\n"
     ]
    },
    {
     "data": {
      "text/plain": [
       "2"
      ]
     },
     "execution_count": 156,
     "metadata": {},
     "output_type": "execute_result"
    }
   ],
   "source": [
    "def last_elf_2(n=5, verbose=False):\n",
    "    \"\"\"returns the elf with all the presents\"\"\"\n",
    "    \n",
    "    elves = np.arange(1, n+1)\n",
    "    i = 0\n",
    "    num_elves = len(elves)\n",
    "    \n",
    "    while num_elves > 1:\n",
    "        if verbose: print(i, elves)\n",
    "        \n",
    "        if num_elves == 2:\n",
    "            return elves[0]\n",
    "        \n",
    "        elves = np.delete(elves, num_elves//2)\n",
    "        elves = np.roll(elves,-1)\n",
    "        num_elves = len(elves)\n",
    "        \n",
    "        i += 1\n",
    "        if i % 1000 == 0:\n",
    "            print(f\"Loop {i}, elves left: {num_elves}\")\n",
    "         \n",
    "    return \"Shouldn't have reached here\"\n",
    "\n",
    "%time last_elf_2(n=5, verbose=True) # answer for n=5 is 2"
   ]
  },
  {
   "cell_type": "markdown",
   "metadata": {},
   "source": [
    "the above solution is way too slow for bigger inputs, probably since I'm deleting from the middle of the array. So as faster way to do this is to use two queues, implemented using deque since that does fast pops from left and right."
   ]
  },
  {
   "cell_type": "code",
   "execution_count": 155,
   "metadata": {},
   "outputs": [
    {
     "name": "stdout",
     "output_type": "stream",
     "text": [
      "start: deque([1, 2]) deque([3, 4, 5])\n",
      "remove: deque([1, 2]) deque([4, 5])\n",
      "rotate: deque([2, 4]) deque([5, 1])\n",
      "start: deque([2, 4]) deque([5, 1])\n",
      "remove: deque([2, 4]) deque([1])\n",
      "rotate: deque([4, 1]) deque([2])\n",
      "start: deque([4, 1]) deque([2])\n",
      "remove: deque([4]) deque([2])\n",
      "rotate: deque([2]) deque([4])\n",
      "CPU times: user 2 ms, sys: 1 ms, total: 3 ms\n",
      "Wall time: 2.24 ms\n"
     ]
    },
    {
     "data": {
      "text/plain": [
       "2"
      ]
     },
     "execution_count": 155,
     "metadata": {},
     "output_type": "execute_result"
    }
   ],
   "source": [
    "def part_2_faster(n=5, verbose=False):\n",
    "    \"\"\"returns the elf with all the presents\"\"\"\n",
    "    \n",
    "    left = deque([i for i in range(1, (n//2)+1)])\n",
    "    right = deque([i for i in range((n//2)+1, n+1)])\n",
    "    \n",
    "    num_elves = len(left) + len(right)\n",
    "    \n",
    "    while num_elves > 1:\n",
    "        \n",
    "        if num_elves == 2:\n",
    "            return left[0]\n",
    "        \n",
    "        if verbose: print(\"start:\", left, right)\n",
    "        \n",
    "        if len(left) > len(right):\n",
    "            left.pop()\n",
    "        else:\n",
    "            right.popleft()\n",
    "        \n",
    "        if verbose: print(\"remove:\", left, right)\n",
    "        \n",
    "        # rotate 1 letter backwards\n",
    "        right.append(left.popleft())\n",
    "        left.append(right.popleft())\n",
    "        \n",
    "        if verbose: print(\"rotate:\", left, right)\n",
    "        \n",
    "        num_elves = len(left) + len(right)\n",
    "    \n",
    "    return \"something bad happened\"\n",
    "\n",
    "%time part_2_faster(n=5, verbose=True) # answer for n=5 is 2"
   ]
  },
  {
   "cell_type": "code",
   "execution_count": 151,
   "metadata": {},
   "outputs": [
    {
     "name": "stdout",
     "output_type": "stream",
     "text": [
      "CPU times: user 3.31 s, sys: 29 ms, total: 3.34 s\n",
      "Wall time: 3.36 s\n"
     ]
    },
    {
     "data": {
      "text/plain": [
       "1420280"
      ]
     },
     "execution_count": 151,
     "metadata": {},
     "output_type": "execute_result"
    }
   ],
   "source": [
    "%time part_2_faster(puzzle_input)"
   ]
  },
  {
   "cell_type": "markdown",
   "metadata": {},
   "source": [
    "`1420280` is the right answer\n",
    "\n",
    "## Notes:\n",
    "\n",
    "- deque is fast\n",
    "- see pattern of data and whether multiple lists make sense, or making my own data structure like a linked list or tree\n",
    "- np.roll() is great but not if my list to be rolled is split into two. So made my own version of np.roll"
   ]
  },
  {
   "cell_type": "code",
   "execution_count": null,
   "metadata": {},
   "outputs": [],
   "source": []
  }
 ],
 "metadata": {
  "kernelspec": {
   "display_name": "Python 3",
   "language": "python",
   "name": "python3"
  },
  "language_info": {
   "codemirror_mode": {
    "name": "ipython",
    "version": 3
   },
   "file_extension": ".py",
   "mimetype": "text/x-python",
   "name": "python",
   "nbconvert_exporter": "python",
   "pygments_lexer": "ipython3",
   "version": "3.6.5"
  }
 },
 "nbformat": 4,
 "nbformat_minor": 2
}

{
 "cells": [
  {
   "cell_type": "markdown",
   "metadata": {},
   "source": [
    "# [--- Day 22: Grid Computing ---](http://adventofcode.com/2016/day/22)\n",
    "\n",
    "You gain access to a massive storage cluster arranged in a grid; each storage node is only connected to the four nodes directly adjacent to it (three if the node is on an edge, two if it's in a corner).\n",
    "\n",
    "You can directly access data only on node /dev/grid/node-x0-y0, but you can perform some limited actions on the other nodes:\n",
    "\n",
    "You can get the disk usage of all nodes (via df). The result of doing this is in your puzzle input.\n",
    "You can instruct a node to move (not copy) all of its data to an adjacent node (if the destination node has enough space to receive the data). The sending node is left empty after this operation.\n",
    "Nodes are named by their position: the node named node-x10-y10 is adjacent to nodes node-x9-y10, node-x11-y10, node-x10-y9, and node-x10-y11.\n",
    "\n",
    "Before you begin, you need to understand the arrangement of data on these nodes. Even though you can only move data between directly connected nodes, you're going to need to rearrange a lot of the data to get access to the data you need. Therefore, you need to work out how you might be able to shift data around.\n",
    "\n",
    "To do this, you'd like to count the number of viable pairs of nodes. A viable pair is any two nodes (A,B), regardless of whether they are directly connected, such that:\n",
    "\n",
    "- Node A is not empty (its Used is not zero).\n",
    "- Nodes A and B are not the same node.\n",
    "- The data on node A (its Used) would fit on node B (its Avail).\n",
    "\n",
    "**How many viable pairs of nodes are there?**"
   ]
  },
  {
   "cell_type": "code",
   "execution_count": 2,
   "metadata": {},
   "outputs": [
    {
     "data": {
      "text/plain": [
       "['root@ebhq-gridcenter# df -h',\n",
       " 'Filesystem              Size  Used  Avail  Use%',\n",
       " '/dev/grid/node-x0-y0     88T   67T    21T   76%',\n",
       " '/dev/grid/node-x0-y1     94T   67T    27T   71%',\n",
       " '/dev/grid/node-x0-y2     92T   67T    25T   72%',\n",
       " '/dev/grid/node-x0-y3     86T   66T    20T   76%',\n",
       " '/dev/grid/node-x0-y4     92T   71T    21T   77%',\n",
       " '/dev/grid/node-x0-y5     92T   73T    19T   79%',\n",
       " '/dev/grid/node-x0-y6     93T   66T    27T   70%',\n",
       " '/dev/grid/node-x0-y7     85T   71T    14T   83%']"
      ]
     },
     "execution_count": 2,
     "metadata": {},
     "output_type": "execute_result"
    }
   ],
   "source": [
    "with open(f'inputs/22.txt') as f:\n",
    "    data = f.read().strip().split(\"\\n\")\n",
    "data[:10]"
   ]
  },
  {
   "cell_type": "markdown",
   "metadata": {},
   "source": [
    "First up, I'm going to represent each node as a named tuple:"
   ]
  },
  {
   "cell_type": "code",
   "execution_count": 3,
   "metadata": {},
   "outputs": [
    {
     "data": {
      "text/plain": [
       "Node(x=1, y=2, size=3, used=4, avail=5, use_pct=6)"
      ]
     },
     "execution_count": 3,
     "metadata": {},
     "output_type": "execute_result"
    }
   ],
   "source": [
    "from collections import namedtuple\n",
    "node = namedtuple(\"Node\",[\"x\", \"y\", \"size\", \"used\", \"avail\", \"use_pct\"])\n",
    "node(1,2,3,4,5,6)"
   ]
  },
  {
   "cell_type": "markdown",
   "metadata": {},
   "source": [
    "Now to extract the numbers from a given node description:"
   ]
  },
  {
   "cell_type": "code",
   "execution_count": 5,
   "metadata": {},
   "outputs": [
    {
     "name": "stdout",
     "output_type": "stream",
     "text": [
      "/dev/grid/node-x0-y0     88T   67T    21T   76%\n"
     ]
    },
    {
     "data": {
      "text/plain": [
       "Node(x=0, y=0, size=88, used=67, avail=21, use_pct=76)"
      ]
     },
     "execution_count": 5,
     "metadata": {},
     "output_type": "execute_result"
    }
   ],
   "source": [
    "import re\n",
    "\n",
    "def make_node(line):\n",
    "    \"\"\"takes in a string and returns all the numbers found \"\"\"\n",
    "    return node(*[int(i) for i in re.findall('\\d+', line)])\n",
    "\n",
    "print(data[2])\n",
    "make_node(data[2])"
   ]
  },
  {
   "cell_type": "markdown",
   "metadata": {},
   "source": [
    "So our make node func is working, now to make a list of all nodes:"
   ]
  },
  {
   "cell_type": "code",
   "execution_count": 6,
   "metadata": {},
   "outputs": [
    {
     "data": {
      "text/plain": [
       "[Node(x=0, y=0, size=88, used=67, avail=21, use_pct=76),\n",
       " Node(x=0, y=1, size=94, used=67, avail=27, use_pct=71),\n",
       " Node(x=0, y=2, size=92, used=67, avail=25, use_pct=72)]"
      ]
     },
     "execution_count": 6,
     "metadata": {},
     "output_type": "execute_result"
    }
   ],
   "source": [
    "nodes = [make_node(line) for line in data if line.startswith(\"/dev/grid/node\")]\n",
    "nodes[:3]"
   ]
  },
  {
   "cell_type": "markdown",
   "metadata": {},
   "source": [
    "first up making a function which tells us if two nodes are viable:"
   ]
  },
  {
   "cell_type": "code",
   "execution_count": 7,
   "metadata": {},
   "outputs": [],
   "source": [
    "def is_viable(a, b):\n",
    "    \"\"\"takes in two nodes and returns True if viable, False otherwise\"\"\"\n",
    "    if a.used != 0 and a != b and b.avail >= a.used:\n",
    "        return True\n",
    "    return False"
   ]
  },
  {
   "cell_type": "markdown",
   "metadata": {},
   "source": [
    "Now we compare every node to every other node to make a list of viable nodes. luckily day 21 I already used permutations so that makes it easy to generate pairs of all possible nodes - initially I though of writing my own function for this but permutations is easier/faster."
   ]
  },
  {
   "cell_type": "code",
   "execution_count": 8,
   "metadata": {},
   "outputs": [
    {
     "data": {
      "text/plain": [
       "872"
      ]
     },
     "execution_count": 8,
     "metadata": {},
     "output_type": "execute_result"
    }
   ],
   "source": [
    "from itertools import permutations\n",
    "\n",
    "viable_nodes = []\n",
    "\n",
    "for a,b in permutations(nodes,2):\n",
    "    if is_viable(a,b):\n",
    "        viable_nodes.append((a,b))\n",
    "        \n",
    "len(viable_nodes)"
   ]
  },
  {
   "cell_type": "markdown",
   "metadata": {},
   "source": [
    "rewriting the the above `for` loop as a list comprehension for kicks:"
   ]
  },
  {
   "cell_type": "code",
   "execution_count": 9,
   "metadata": {},
   "outputs": [
    {
     "data": {
      "text/plain": [
       "872"
      ]
     },
     "execution_count": 9,
     "metadata": {},
     "output_type": "execute_result"
    }
   ],
   "source": [
    "viable_nodes = [(a,b) for a,b in permutations(nodes,2) if is_viable(a,b)]\n",
    "len(viable_nodes)"
   ]
  },
  {
   "cell_type": "markdown",
   "metadata": {},
   "source": [
    "eureka! `872` is the right answer here"
   ]
  },
  {
   "cell_type": "markdown",
   "metadata": {},
   "source": [
    "# --- Part Two ---\n",
    "\n",
    "Now that you have a better understanding of the grid, it's time to get to work.\n",
    "\n",
    "Your goal is to gain access to the data which begins in the node with y=0 and the highest x (that is, the node in the top-right corner).\n",
    "\n",
    "**What is the fewest number of steps required to move your goal data to node-x0-y0?**\n",
    "\n",
    "---"
   ]
  },
  {
   "cell_type": "markdown",
   "metadata": {},
   "source": [
    "first up, whats the node with y=0 and the max x value?"
   ]
  },
  {
   "cell_type": "code",
   "execution_count": 8,
   "metadata": {},
   "outputs": [
    {
     "data": {
      "text/plain": [
       "[Node(x=31, y=0, size=89, used=68, avail=21, use_pct=76)]"
      ]
     },
     "execution_count": 8,
     "metadata": {},
     "output_type": "execute_result"
    }
   ],
   "source": [
    "max_x = max([node.x for node in nodes])\n",
    "[node for node in nodes if node.x == max_x and node.y == 0]"
   ]
  },
  {
   "cell_type": "markdown",
   "metadata": {},
   "source": [
    "so there is only one node in the top corner (as there should be else this problem wouldn't compute), so assigining it to a target node variable:"
   ]
  },
  {
   "cell_type": "code",
   "execution_count": 10,
   "metadata": {},
   "outputs": [
    {
     "data": {
      "text/plain": [
       "Node(x=31, y=0, size=89, used=68, avail=21, use_pct=76)"
      ]
     },
     "execution_count": 10,
     "metadata": {},
     "output_type": "execute_result"
    }
   ],
   "source": [
    "target_node = [node for node in nodes if node.x == max_x and node.y == 0][0]\n",
    "target_node"
   ]
  },
  {
   "cell_type": "markdown",
   "metadata": {},
   "source": [
    "This looks like a weighted graph problem - we compute all the possible paths for the data to get from our target node to the node at `0,0`, but the problem is its not just a simple graph - the nodes change as the data moves around, so the number of possible moves is very large.\n",
    "\n",
    "[Dijkstra's_algorithm](https://www.wikiwand.com/en/Dijkstra's_algorithm) is a straight forward way to find the shortest path:\n",
    "\n",
    "![finding shortest path](https://upload.wikimedia.org/wikipedia/commons/2/23/Dijkstras_progress_animation.gif)\n",
    "\n",
    "**but after each data move the nodes change - so we need to recalculate the graph!**. So instead of just looking at all possible paths through a graph, we have to search all possible new graphs after each data move. Which will take a looooooong time with the given input size.\n",
    "\n",
    "so first up, lets eyeball this maze, but in order to do so I need to mark:\n",
    "\n",
    "- nodes which can't be used, i.e they have too much data to move anywhere\n",
    "- some kind of color coding for data size\n",
    "\n",
    "first up, since numpy 2d grids can be a pain, a dict of nodes to make it easy to find a particular node:"
   ]
  },
  {
   "cell_type": "code",
   "execution_count": 161,
   "metadata": {},
   "outputs": [
    {
     "data": {
      "text/plain": [
       "Node(x=0, y=0, size=88, used=67, avail=21, use_pct=76)"
      ]
     },
     "execution_count": 161,
     "metadata": {},
     "output_type": "execute_result"
    }
   ],
   "source": [
    "nodes_dict = {(n.x,n.y): n for n in nodes}\n",
    "nodes_dict[0,0]"
   ]
  },
  {
   "cell_type": "markdown",
   "metadata": {},
   "source": [
    "Now to eyeball our nodes:"
   ]
  },
  {
   "cell_type": "code",
   "execution_count": 195,
   "metadata": {},
   "outputs": [
    {
     "data": {
      "image/png": "[encoded data removed]",
      "text/plain": [
       "<matplotlib.figure.Figure at 0x7ed5ca67fda0>"
      ]
     },
     "metadata": {},
     "output_type": "display_data"
    }
   ],
   "source": [
    "def viz():\n",
    "    g = [[0 for i in range(max(all_x)+1)] for j in range(max(all_y)+1)]\n",
    "    \n",
    "    for n in nodes:\n",
    "        g[n.y][n.x] = n.used / n.size\n",
    "        if n.used == 0:\n",
    "            zero = n\n",
    "    \n",
    "    plt.figure(figsize=(12,8))\n",
    "    plt.imshow(g, alpha=0.8)\n",
    "\n",
    "    #labelling imp nodes\n",
    "    box_style = dict(fc=\"orange\", ec=\"b\", lw=1, alpha=0.7, boxstyle=\"square,pad=0.5\")\n",
    "    plt.annotate(\"0,0\", xy=(0,0), bbox=box_style)\n",
    "    plt.annotate(\"Zero\", xy=(zero.x,zero.y), bbox=box_style)\n",
    "    plt.annotate(\"Target\", xy=(31,0), bbox=box_style);\n",
    "\n",
    "viz()"
   ]
  },
  {
   "cell_type": "markdown",
   "metadata": {},
   "source": [
    "taking a look at the yellow line:"
   ]
  },
  {
   "cell_type": "code",
   "execution_count": 184,
   "metadata": {},
   "outputs": [
    {
     "name": "stdout",
     "output_type": "stream",
     "text": [
      "used/avail\n",
      "67/21 71/15 69/21 71/17 64/24 64/24 73/18 66/28 65/29 69/23 65/26 64/30 72/21 68/20 72/22 68/23 70/18 73/19 67/26 72/22 71/19 70/17 65/20 70/20 64/22 69/19 73/13 73/17 70/20 69/18 68/20 68/21\n",
      "67/27 72/16 64/24 69/19 64/21 67/23 72/18 73/19 67/23 64/23 69/17 65/24 69/16 73/14 73/19 73/18 69/24 70/15 68/25 72/18 72/17 67/21 68/20 64/24 71/21 73/16 72/19 66/23 64/24 68/20 69/16 69/22\n",
      "67/25 71/18 67/20 73/13 65/25 65/29 73/21 68/23 71/17 65/20 65/20 65/20 64/25 64/29 71/17 70/21 64/25 73/17 68/26 64/26 69/24 64/27 67/23 64/22 67/26 73/21 70/24 70/15 70/22 72/13 64/23 68/23\n",
      "66/20 69/25 64/24 73/12 64/21 64/24 71/23 73/15 68/24 73/15 68/17 73/20 73/17 69/20 72/15 64/29 72/15 73/16 67/25 64/22 68/20 73/19 68/17 68/22 67/23 71/14 69/22 73/16 69/24 71/18 64/27 73/12\n",
      "71/21 67/23 70/23 65/24 73/19 72/16 67/26 70/23 72/16 71/19 64/22 64/27 64/30 72/18 66/19 65/21 69/24 64/25 71/23 67/26 73/13 68/17 70/17 70/24 71/16 66/28 67/22 64/25 70/21 68/24 66/25 65/24\n",
      "73/19 68/26 68/24 65/28 70/17 67/23 70/23 66/27 70/24 68/21 72/21 68/19 71/16 65/22 72/17 65/28 65/20 71/18 67/25 64/27 64/25 71/19 71/16 66/26 70/19 64/27 69/18 72/18 68/24 65/22 71/17 71/15\n",
      "66/27 65/28 73/15 66/26 70/18 71/23 68/20 65/21 68/22 64/22 72/14 69/17 72/15 73/13 71/18 71/15 68/24 71/19 69/20 65/29 67/24 73/15 68/21 65/29 72/20 69/19 73/18 66/23 73/20 72/15 71/15 66/28\n",
      "71/14 66/20 64/22 64/27 72/19 64/22 69/22 67/19 67/27 65/23 73/21 71/17 71/15 72/20 66/19 71/23 71/16 68/17 73/17 65/27 70/24 64/29 67/18 73/15 69/20 67/25 70/22 72/16 65/21 72/15 68/23 65/29\n",
      "67/26 72/15 67/22 65/22 70/18 66/24 66/19 70/23 73/12 73/13 69/18 66/21 68/19 64/21 67/26 70/19 72/16 73/20 67/24 70/18 67/19 66/25 73/21 68/20 68/18 69/20 70/21 68/24 65/28 72/22 69/19 64/22\n",
      "69/21 67/21 66/24 69/19 64/23 67/27 69/22 67/23 66/23 72/17 64/28 67/23 70/17 66/19 69/19 72/21 66/28 69/17 64/30 69/18 64/23 65/27 70/23 66/24 70/15 71/20 69/23 73/12 69/23 65/25 72/22 69/21\n",
      "69/23 65/22 71/20 65/21 68/17 66/28 70/24 72/13 65/28 72/16 66/22 68/24 67/18 70/19 67/22 70/21 64/22 65/20 72/20 65/27 67/22 70/15 70/24 69/17 65/21 64/27 66/25 69/19 73/15 69/16 68/19 70/24\n",
      "68/23 70/18 66/19 69/24 66/23 71/19 64/24 70/19 67/23 70/19 64/21 73/17 66/24 64/22 70/15 66/26 68/23 64/22 69/19 67/21 72/14 71/18 65/23 72/18 70/19 68/19 65/27 73/17 65/21 66/19 71/19 73/13\n",
      "64/21 64/25 66/28 73/16 67/22 67/25 65/23 69/20 67/22 490/18 494/15 496/13 494/7 490/13 492/17 498/9 490/17 490/18 495/7 495/9 498/7 492/11 495/12 491/17 494/8 492/10 492/15 497/8 495/7 498/8 493/12 498/10\n",
      "65/24 71/21 71/15 65/20 67/24 67/19 67/25 72/17 66/26 72/14 73/19 68/23 71/18 71/20 71/23 72/16 71/17 70/18 71/15 69/24 67/24 72/16 69/19 70/21 72/14 68/24 71/19 67/27 67/25 67/27 71/14 73/18\n",
      "64/23 71/14 71/19 65/25 70/24 69/18 72/15 70/19 69/25 69/24 70/24 71/15 65/26 69/17 72/17 71/16 66/21 68/20 72/20 65/25 69/22 73/19 65/25 70/24 66/22 66/25 70/20 67/21 71/23 73/16 65/28 71/23\n",
      "68/20 68/19 64/22 65/27 67/27 73/17 67/27 69/20 68/19 69/17 71/23 65/27 70/15 69/23 72/15 73/12 72/21 70/22 70/23 68/24 72/20 69/24 65/20 70/20 64/30 67/19 70/17 65/24 67/20 69/20 73/19 66/24\n",
      "66/26 70/17 72/20 72/18 66/22 67/27 72/14 69/24 73/12 67/21 66/27 72/17 70/22 64/26 72/15 69/20 66/23 73/18 66/23 68/17 70/19 67/23 64/24 69/17 66/19 73/17 69/16 66/23 65/27 73/14 72/17 68/25\n",
      "73/17 71/21 71/20 68/18 68/18 69/23 67/25 73/17 64/22 72/21 68/23 69/21 68/24 73/15 69/20 68/21 67/24 68/19 68/21 64/27 70/20 65/20 72/22 70/22 64/29 65/23 64/27 73/15 69/21 65/27 69/20 64/23\n",
      "67/19 67/22 68/22 65/22 70/23 65/20 68/20 72/17 65/22 66/20 65/24 68/18 70/23 70/17 72/16 73/21 71/22 68/26 72/17 68/23 73/19 68/18 70/15 71/18 67/22 67/20 73/14 68/23 70/20 73/21 65/29 66/25\n",
      "65/20 70/15 68/21 65/21 71/16 69/25 73/17 67/20 68/25 64/30 69/25 73/17 64/25 67/20 71/17 69/17 65/26 71/19 72/16 65/25 71/18 73/21 73/12 66/20 68/19 69/18 65/26 64/24 67/25 69/25 65/22 66/24\n",
      "72/20 71/15 67/27 67/20 72/14 72/21 71/21 73/13 73/16 71/20 64/28 69/19 67/22 69/17 64/30 68/19 68/20 64/24 67/24 68/21 68/22 73/12 64/27 68/21 67/19 64/30 70/17 64/23 73/18 71/15 65/22 67/19\n",
      "73/13 65/29 71/20 68/17 66/27 65/26 67/25 65/25 68/23 64/26 66/25 71/20 66/19 67/23 68/26 72/16 71/23 72/22 70/18 68/25 64/28 68/24 68/17 69/21 65/23 65/25 73/14 64/21 73/15 64/22 72/21 69/20\n",
      "71/18 70/23 71/20 73/21 73/21 65/29 70/17 69/25 65/23 68/19 65/21 72/22 69/21 66/25 67/27 66/19 64/25 71/17 73/21 68/21 68/26 70/15 70/21 73/17 0/86 68/24 71/21 71/15 65/27 69/23 72/15 66/22\n",
      "71/22 67/19 73/12 65/25 67/21 69/17 64/25 66/21 66/21 72/15 70/18 66/27 72/18 71/17 69/22 72/17 71/15 66/20 67/26 69/17 70/22 69/20 66/20 66/19 65/23 65/23 71/22 67/19 65/22 72/15 65/29 71/19\n",
      "69/25 72/21 71/16 65/21 69/16 68/24 67/19 67/25 73/18 70/23 66/25 66/19 66/25 69/25 65/20 70/22 66/20 65/24 71/14 71/19 72/19 65/27 65/26 72/13 68/23 66/28 70/19 69/20 67/22 70/16 64/26 73/16\n",
      "64/22 66/27 71/18 72/22 69/20 64/22 67/18 68/21 71/17 72/21 70/15 70/18 73/20 64/24 65/23 67/20 65/26 70/24 70/16 65/25 72/14 65/28 70/15 73/17 72/16 64/25 71/23 67/25 66/26 64/28 69/16 64/23\n",
      "64/29 64/26 66/24 72/14 71/21 71/15 71/14 67/27 72/15 65/25 68/19 66/20 66/22 72/17 71/16 72/15 67/20 65/28 70/23 67/20 72/22 65/21 70/19 68/25 65/26 70/23 71/22 65/20 64/21 73/20 67/20 71/22\n",
      "64/22 71/14 66/24 72/13 64/28 67/23 72/14 72/19 73/21 72/16 72/18 69/20 67/26 65/28 64/22 66/21 64/30 71/20 64/29 69/20 64/23 69/19 68/26 67/20 70/19 70/24 66/27 70/15 73/18 67/20 70/19 73/15\n"
     ]
    }
   ],
   "source": [
    "all_x = [node.x for node in nodes]\n",
    "all_y = [node.y for node in nodes]\n",
    "\n",
    "g = [[\"00/00\" for i in range(max(all_x)+1)] for j in range(max(all_y)+1)]\n",
    "\n",
    "for n in nodes:\n",
    "    g[n.y][n.x] = str(n.used) + \"/\" + str(n.avail)\n",
    "\n",
    "print(\"used/avail\")\n",
    "for r in g:\n",
    "    print(\" \".join([str(x) for x in r]))"
   ]
  },
  {
   "cell_type": "markdown",
   "metadata": {},
   "source": [
    "from the above analalysis, two things jump out:\n",
    "\n",
    "- data can't just move to the left, since used data is generally bigger than free space in the nodes\n",
    "- the yellow line is where nodes have a lot of data - so it can't be moved around\n",
    "- there is only one node which isn't used - so we need to bring it upwards to the target node"
   ]
  },
  {
   "cell_type": "code",
   "execution_count": 182,
   "metadata": {},
   "outputs": [
    {
     "data": {
      "text/plain": [
       "[Node(x=24, y=22, size=86, used=0, avail=86, use_pct=0)]"
      ]
     },
     "execution_count": 182,
     "metadata": {},
     "output_type": "execute_result"
    }
   ],
   "source": [
    "[n for n in nodes if n.used<5]"
   ]
  },
  {
   "cell_type": "markdown",
   "metadata": {},
   "source": [
    "so the node at `(24,22)` is empty, so we need to move it next to the target node:"
   ]
  },
  {
   "cell_type": "code",
   "execution_count": null,
   "metadata": {},
   "outputs": [],
   "source": []
  }
 ],
 "metadata": {
  "kernelspec": {
   "display_name": "Python 3",
   "language": "python",
   "name": "python3"
  },
  "language_info": {
   "codemirror_mode": {
    "name": "ipython",
    "version": 3
   },
   "file_extension": ".py",
   "mimetype": "text/x-python",
   "name": "python",
   "nbconvert_exporter": "python",
   "pygments_lexer": "ipython3",
   "version": "3.6.5"
  }
 },
 "nbformat": 4,
 "nbformat_minor": 2
}

{
 "cells": [
  {
   "cell_type": "markdown",
   "metadata": {},
   "source": [
    "# --- Day 16: Dragon Checksum ---\n",
    "\n",
    "You're done scanning this part of the network, but you've left traces of your presence. You need to overwrite some disks with random-looking data to cover your tracks and update the local security system with a new checksum for those disks.\n",
    "\n",
    "For the data to not be suspicious, it needs to have certain properties; purely random data will be detected as tampering. To generate appropriate random data, you'll need to use a modified dragon curve.\n",
    "\n",
    "Start with an appropriate initial state (your puzzle input). Then, so long as you don't have enough data yet to fill the disk, repeat the following steps:\n",
    "\n",
    "- Call the data you have at this point \"a\".\n",
    "- Make a copy of \"a\"; call this copy \"b\".\n",
    "- Reverse the order of the characters in \"b\".\n",
    "- In \"b\", replace all instances of 0 with 1 and all 1s with 0.\n",
    "- The resulting data is \"a\", then a single 0, then \"b\".\n",
    "\n",
    "For example, after a single step of this process,\n",
    "\n",
    "- 1 becomes 100.\n",
    "- 0 becomes 001.\n",
    "- 11111 becomes 11111000000.\n",
    "- 111100001010 becomes 1111000010100101011110000.\n",
    "\n",
    "Repeat these steps until you have enough data to fill the desired disk.\n",
    "\n",
    "Once the data has been generated, you also need to create a checksum of that data. Calculate the checksum only for the data that fits on the disk, even if you generated more data than that in the previous step.\n",
    "\n",
    "The checksum for some given data is created by considering each non-overlapping pair of characters in the input data. If the two characters match (00 or 11), the next checksum character is a 1. If the characters do not match (01 or 10), the next checksum character is a 0. This should produce a new string which is exactly half as long as the original. If the length of the checksum is even, repeat the process until you end up with a checksum with an odd length.\n",
    "\n",
    "For example, suppose we want to fill a disk of length 12, and when we finally generate a string of at least length 12, the first 12 characters are 110010110100. To generate its checksum:\n",
    "\n",
    "- Consider each pair: 11, 00, 10, 11, 01, 00.\n",
    "- These are same, same, different, same, different, same, producing 110101.\n",
    "- The resulting string has length 6, which is even, so we repeat the process.\n",
    "- The pairs are 11 (same), 01 (different), 01 (different).\n",
    "- This produces the checksum 100, which has an odd length, so we stop.\n",
    "\n",
    "Therefore, the checksum for 110010110100 is 100.\n",
    "\n",
    "Combining all of these steps together, suppose you want to fill a disk of length 20 using an initial state of 10000:\n",
    "\n",
    "- Because 10000 is too short, we first use the modified dragon curve to make it longer.\n",
    "- After one round, it becomes 10000011110 (11 characters), still too short.\n",
    "- After two rounds, it becomes 10000011110010000111110 (23 characters), which is enough.\n",
    "- Since we only need 20, but we have 23, we get rid of all but the first 20 characters: 10000011110010000111.\n",
    "- Next, we start calculating the checksum; after one round, we have 0111110101, which 10 characters long (even), so we continue.\n",
    "- After two rounds, we have 01100, which is 5 characters long (odd), so we are done.\n",
    "\n",
    "In this example, the correct checksum would therefore be 01100.\n",
    "\n",
    "**The first disk you have to fill has length 272. Using the initial state in your puzzle input, what is the correct checksum?**"
   ]
  },
  {
   "cell_type": "code",
   "execution_count": 10,
   "metadata": {},
   "outputs": [],
   "source": [
    "puzzle_input = \"10111100110001111\""
   ]
  },
  {
   "cell_type": "markdown",
   "metadata": {},
   "source": [
    "First up, the helper functions"
   ]
  },
  {
   "cell_type": "code",
   "execution_count": 88,
   "metadata": {},
   "outputs": [
    {
     "data": {
      "text/plain": [
       "'100'"
      ]
     },
     "execution_count": 88,
     "metadata": {},
     "output_type": "execute_result"
    }
   ],
   "source": [
    "s = \"110010110100\"\n",
    "\n",
    "def simple_checksum(s):\n",
    "    ans=\"\"\n",
    "    for i in range(0, len(s)-1, 2):\n",
    "        ans += \"1\" if s[i] == s[i+1] else \"0\"\n",
    "    return ans\n",
    "\n",
    "def checksum(s, ans=\"\"):\n",
    "    \"\"\"takes in a string s and returns a checksum\"\"\"\n",
    "    \n",
    "    ans = simple_checksum(s)\n",
    "    \n",
    "    while len(ans) % 2 == 0:\n",
    "        ans = simple_checksum(ans)\n",
    "   \n",
    "    return ans\n",
    "\n",
    "assert checksum(s) == \"100\"\n",
    "checksum(s)"
   ]
  },
  {
   "cell_type": "code",
   "execution_count": 101,
   "metadata": {},
   "outputs": [
    {
     "data": {
      "text/plain": [
       "'1000110010011100100011011'"
      ]
     },
     "execution_count": 101,
     "metadata": {},
     "output_type": "execute_result"
    }
   ],
   "source": [
    "import re\n",
    "\n",
    "def dragon_curve(a=\"1\", disk_len=25):\n",
    "    \"takes in a s and generates dummy data and return a s of length disk_len\"\n",
    "    \n",
    "    while len(a) < disk_len:\n",
    "        b = a[::-1]\n",
    "        zeros = [m.start() for m in re.finditer('0', b)]\n",
    "        ones = [m.start() for m in re.finditer('1', b)]\n",
    "\n",
    "        b_list = list(b)\n",
    "\n",
    "        for i in zeros:\n",
    "            b_list[i] = \"1\"\n",
    "        for i in ones:\n",
    "            b_list[i] = \"0\"\n",
    "        \n",
    "        a = a + \"0\" + \"\".join(b_list)\n",
    "        \n",
    "    return a[:disk_len]\n",
    "\n",
    "assert dragon_curve(\"111100001010\") == \"1111000010100101011110000\"\n",
    "dragon_curve()"
   ]
  },
  {
   "cell_type": "code",
   "execution_count": 102,
   "metadata": {},
   "outputs": [
    {
     "data": {
      "text/plain": [
       "'11100110111101110'"
      ]
     },
     "execution_count": 102,
     "metadata": {},
     "output_type": "execute_result"
    }
   ],
   "source": [
    "a = dragon_curve(puzzle_input, 272)\n",
    "checksum(a)"
   ]
  },
  {
   "cell_type": "markdown",
   "metadata": {},
   "source": [
    "Part 1 ans: `11100110111101110`\n",
    "\n",
    "# --- Part Two ---\n",
    "\n",
    "The second disk you have to fill has length `35651584`. Again using the initial state in your puzzle input, what is the correct checksum for this disk?\n",
    "\n",
    "---\n",
    "\n",
    "So this would have meant a rewrite for an inefficient implementation, but my part 1 seems decent enough to solve this quickly enough:"
   ]
  },
  {
   "cell_type": "code",
   "execution_count": 104,
   "metadata": {},
   "outputs": [
    {
     "name": "stdout",
     "output_type": "stream",
     "text": [
      "CPU times: user 28.4 s, sys: 1.71 s, total: 30.1 s\n",
      "Wall time: 30.5 s\n"
     ]
    },
    {
     "data": {
      "text/plain": [
       "'10001101010000101'"
      ]
     },
     "execution_count": 104,
     "metadata": {},
     "output_type": "execute_result"
    }
   ],
   "source": [
    "%time checksum(dragon_curve(puzzle_input, 35651584))"
   ]
  },
  {
   "cell_type": "code",
   "execution_count": null,
   "metadata": {},
   "outputs": [],
   "source": []
  }
 ],
 "metadata": {
  "kernelspec": {
   "display_name": "Python 3",
   "language": "python",
   "name": "python3"
  },
  "language_info": {
   "codemirror_mode": {
    "name": "ipython",
    "version": 3
   },
   "file_extension": ".py",
   "mimetype": "text/x-python",
   "name": "python",
   "nbconvert_exporter": "python",
   "pygments_lexer": "ipython3",
   "version": "3.6.4"
  }
 },
 "nbformat": 4,
 "nbformat_minor": 2
}

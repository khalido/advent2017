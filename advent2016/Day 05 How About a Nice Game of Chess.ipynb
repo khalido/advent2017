{
 "cells": [
  {
   "cell_type": "markdown",
   "metadata": {},
   "source": [
    "# --- Day 5: How About a Nice Game of Chess? ---\n",
    "\n",
    "http://adventofcode.com/2016/day/5\n",
    "\n",
    "You are faced with a security door designed by Easter Bunny engineers that seem to have acquired most of their security knowledge by watching hacking movies.\n",
    "\n",
    "The eight-character password for the door is generated one character at a time by finding the MD5 hash of some Door ID (your puzzle input) and an increasing integer index (starting with 0).\n",
    "\n",
    "A hash indicates the next character in the password if its hexadecimal representation starts with five zeroes. If it does, the sixth character in the hash is the next character of the password.\n",
    "\n",
    "For example, if the Door ID is `abc`:\n",
    "\n",
    "- The first index which produces a hash that starts with five zeroes is `3231929`, which we find by hashing `abc3231929`; the sixth character of the hash, and thus the first character of the password, is 1.\n",
    "- `5017308` produces the next interesting hash, which starts with `000008f82...`, so the second character of the password is 8.\n",
    "- The third time a hash starts with five zeroes is for `abc5278568`, discovering the character `f`.\n",
    "\n",
    "In this example, after continuing this search a total of eight times, the password is `18f47a30`.\n",
    "\n",
    "**Given the actual Door ID, what is the password?**"
   ]
  },
  {
   "cell_type": "code",
   "execution_count": 58,
   "metadata": {},
   "outputs": [
    {
     "data": {
      "text/plain": [
       "('cxdnnyjw', 'abc')"
      ]
     },
     "execution_count": 58,
     "metadata": {},
     "output_type": "execute_result"
    }
   ],
   "source": [
    "door_id = \"cxdnnyjw\"\n",
    "test_id = \"abc\"\n",
    "door_id, test_id"
   ]
  },
  {
   "cell_type": "markdown",
   "metadata": {},
   "source": [
    "There is a existing library called hashlib, which can make all kinds of hashes:"
   ]
  },
  {
   "cell_type": "code",
   "execution_count": 78,
   "metadata": {},
   "outputs": [
    {
     "name": "stdout",
     "output_type": "stream",
     "text": [
      "b'abc1234'\n"
     ]
    },
    {
     "data": {
      "text/plain": [
       "<md5 HASH object @ 0x7cfe8099ce90>"
      ]
     },
     "execution_count": 78,
     "metadata": {},
     "output_type": "execute_result"
    }
   ],
   "source": [
    "import hashlib\n",
    "\n",
    "i = 1234\n",
    "x = f\"{test_id}{i}\".encode()\n",
    "print(x)\n",
    "hashlib.md5(x)"
   ]
  },
  {
   "cell_type": "code",
   "execution_count": 80,
   "metadata": {},
   "outputs": [
    {
     "name": "stdout",
     "output_type": "stream",
     "text": [
      "3231929 1\n",
      "5017308 18\n",
      "5278568 18f\n",
      "5357525 18f4\n",
      "5708769 18f47\n",
      "6082117 18f47a\n",
      "8036669 18f47a3\n",
      "8605828 18f47a30\n"
     ]
    },
    {
     "data": {
      "text/plain": [
       "'18f47a30'"
      ]
     },
     "execution_count": 80,
     "metadata": {},
     "output_type": "execute_result"
    }
   ],
   "source": [
    "import hashlib\n",
    "\n",
    "def find_password(id):\n",
    "    i = 0\n",
    "    password = \"\"\n",
    "\n",
    "    while len(password) < 8:\n",
    "        h = hashlib.md5(f\"{id}{i}\".encode())\n",
    "        \n",
    "        if h.hexdigest()[:5] == \"00000\":\n",
    "            password += h.hexdigest()[5]\n",
    "            print(i, password)\n",
    "        i += 1\n",
    "    \n",
    "    return password\n",
    "\n",
    "assert find_password(test_id) == \"18f47a30\""
   ]
  },
  {
   "cell_type": "code",
   "execution_count": 81,
   "metadata": {},
   "outputs": [
    {
     "name": "stdout",
     "output_type": "stream",
     "text": [
      "2307654 f\n",
      "2503851 f7\n",
      "3020934 f77\n",
      "4275978 f77a\n",
      "7416166 f77a0\n",
      "7730074 f77a0e\n",
      "7739164 f77a0e6\n",
      "8202539 f77a0e6e\n"
     ]
    },
    {
     "data": {
      "text/plain": [
       "'f77a0e6e'"
      ]
     },
     "execution_count": 81,
     "metadata": {},
     "output_type": "execute_result"
    }
   ],
   "source": [
    "find_password(door_id)"
   ]
  },
  {
   "cell_type": "markdown",
   "metadata": {},
   "source": [
    "`f77a0e6e` is the right answer to my input.\n",
    "\n",
    "# Part 2\n",
    "\n",
    "Instead of simply filling in the password from left to right, the hash now also indicates the position within the password to fill. You still look for hashes that begin with five zeroes; however, now, the sixth character represents the position (0-7), and the seventh character is the character to put in that position.\n",
    "\n",
    "A hash result of `000001f` means that f is the second character in the password. Use only the first result for each position, and ignore invalid positions."
   ]
  },
  {
   "cell_type": "code",
   "execution_count": 138,
   "metadata": {},
   "outputs": [
    {
     "name": "stdout",
     "output_type": "stream",
     "text": [
      "3231929 _5______\n",
      "5357525 _5__e___\n",
      "5708769 _5__e__3\n",
      "8036669 _5_ce__3\n",
      "8605828 05_ce__3\n",
      "8609554 05_ce_e3\n",
      "13666005 05_ce8e3\n",
      "13753421 05ace8e3\n",
      "['0', '5', 'a', 'c', 'e', '8', 'e', '3']\n"
     ]
    },
    {
     "data": {
      "text/plain": [
       "'05ace8e3'"
      ]
     },
     "execution_count": 138,
     "metadata": {},
     "output_type": "execute_result"
    }
   ],
   "source": [
    "def find_password2(id):\n",
    "    \"\"\"takes ina door id and returns password as per puzzle rules\"\"\"\n",
    "    i = 0\n",
    "    password = [False for _ in range(8)]\n",
    "\n",
    "    while False in password:\n",
    "        h = hashlib.md5(f\"{id}{i}\".encode())\n",
    "        \n",
    "        if h.hexdigest()[:5] == \"00000\":\n",
    "            index = int(h.hexdigest()[5], 16)\n",
    "            if index < 8:\n",
    "                if password[index] is False:\n",
    "                    password[index] = h.hexdigest()[6]\n",
    "                    print(i, \"\".join([c if c != False else \"_\" for c in password]))\n",
    "        i += 1\n",
    "    \n",
    "    print(password)\n",
    "    return \"\".join([c if c != False else \"_\" for c in password])\n",
    "\n",
    "find_password2(test_id) # test_id pw is 05ace8e3"
   ]
  },
  {
   "cell_type": "code",
   "execution_count": 139,
   "metadata": {},
   "outputs": [
    {
     "name": "stdout",
     "output_type": "stream",
     "text": [
      "2503851 _______c\n",
      "7416166 9______c\n",
      "7739164 9_____ec\n",
      "9196770 9___2_ec\n",
      "14466563 9_9_2_ec\n",
      "16503992 9_982_ec\n",
      "17582424 9_9828ec\n",
      "25370046 999828ec\n",
      "['9', '9', '9', '8', '2', '8', 'e', 'c']\n"
     ]
    },
    {
     "data": {
      "text/plain": [
       "'999828ec'"
      ]
     },
     "execution_count": 139,
     "metadata": {},
     "output_type": "execute_result"
    }
   ],
   "source": [
    "find_password2(door_id)"
   ]
  },
  {
   "cell_type": "markdown",
   "metadata": {},
   "source": [
    "`999828ec` is the right answer.\n",
    "\n",
    "# Notes\n",
    "\n",
    "- its the little things, like python lists start from 0, so the sixth item is list[5] not list[6]\n",
    "- finally used a if/else in a list comprehension: `\"\".join([c if c != False else \"_\" for c in password])`\n",
    "- I thought of writing my own md5 solution from the wikipedia pusedocode then I looked at [this implementation](http://starship.python.net/~gherman/programs/md5py/md5py.py)\n",
    "- learn more about common number bases used, i.e 2, 10, 16"
   ]
  }
 ],
 "metadata": {
  "kernelspec": {
   "display_name": "Python 3",
   "language": "python",
   "name": "python3"
  },
  "language_info": {
   "codemirror_mode": {
    "name": "ipython",
    "version": 3
   },
   "file_extension": ".py",
   "mimetype": "text/x-python",
   "name": "python",
   "nbconvert_exporter": "python",
   "pygments_lexer": "ipython3",
   "version": "3.6.4"
  }
 },
 "nbformat": 4,
 "nbformat_minor": 2
}

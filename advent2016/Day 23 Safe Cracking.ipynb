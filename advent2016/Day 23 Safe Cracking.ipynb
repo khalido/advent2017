{
 "cells": [
  {
   "cell_type": "markdown",
   "metadata": {},
   "source": [
    "# --- Day 23: Safe Cracking ---\n",
    "\n",
    "This is one of the top floors of the nicest tower in EBHQ. The Easter Bunny's private office is here, complete with a safe hidden behind a painting, and who wouldn't hide a star in a safe behind a painting?\n",
    "\n",
    "The safe has a digital screen and keypad for code entry. A sticky note attached to the safe has a password hint on it: \"eggs\". The painting is of a large rabbit coloring some eggs. You see 7.\n",
    "\n",
    "When you go to type the code, though, nothing appears on the display; instead, the keypad comes apart in your hands, apparently having been smashed. Behind it is some kind of socket - one that matches a connector in your prototype computer! You pull apart the smashed keypad and extract the logic circuit, plug it into your computer, and plug your computer into the safe.\n",
    "\n",
    "Now, you just need to figure out what output the keypad would have sent to the safe. You extract the assembunny code from the logic chip (your puzzle input).\n",
    "The code looks like it uses almost the same architecture and instruction set that the monorail computer used! You should be able to use the same assembunny interpreter for this as you did there, but with one new instruction:\n",
    "\n",
    "tgl x toggles the instruction x away (pointing at instructions like jnz does: positive means forward; negative means backward):\n",
    "\n",
    "- For one-argument instructions, inc becomes dec, and all other one-argument instructions become inc.\n",
    "- For two-argument instructions, jnz becomes cpy, and all other two-instructions become jnz.\n",
    "- The arguments of a toggled instruction are not affected.\n",
    "- If an attempt is made to toggle an instruction outside the program, nothing happens.\n",
    "- If toggling produces an invalid instruction (like cpy 1 2) and an attempt is later made to execute that instruction, skip it instead.\n",
    "- If tgl toggles itself (for example, if a is 0, tgl a would target itself and become inc a), the resulting instruction is not executed until the next time it is reached.\n",
    "\n",
    "For example, given this program:\n",
    "\n",
    "```\n",
    "cpy 2 a\n",
    "tgl a\n",
    "tgl a\n",
    "tgl a\n",
    "cpy 1 a\n",
    "dec a\n",
    "dec a\n",
    "```\n",
    "\n",
    "- cpy 2 a initializes register a to 2.\n",
    "- The first tgl a toggles an instruction a (2) away from it, which changes the third tgl a into inc a.\n",
    "- The second tgl a also modifies an instruction 2 away from it, which changes the cpy 1 a into jnz 1 a.\n",
    "- The fourth line, which is now inc a, increments a to 3.\n",
    "- Finally, the fifth line, which is now jnz 1 a, jumps a (3) instructions ahead, skipping the dec a instructions.\n",
    "\n",
    "In this example, the final value in register a is 3.\n",
    "\n",
    "The rest of the electronics seem to place the keypad entry (the number of eggs, 7) in register a, run the code, and then send the value left in register a to the safe.\n",
    "\n",
    "**What value should be sent to the safe?**"
   ]
  },
  {
   "cell_type": "code",
   "execution_count": 1,
   "metadata": {},
   "outputs": [
    {
     "name": "stdout",
     "output_type": "stream",
     "text": [
      "we have 26 instructions\n"
     ]
    }
   ],
   "source": [
    "def get_input():\n",
    "    with open(f'inputs/23.txt') as f:\n",
    "        data = f.read().strip().split(\"\\n\")\n",
    "    return data\n",
    "\n",
    "data = get_input()\n",
    "print(f\"we have {len(data)} instructions\")"
   ]
  },
  {
   "cell_type": "markdown",
   "metadata": {},
   "source": [
    "helper function to convert a string to int if possible."
   ]
  },
  {
   "cell_type": "code",
   "execution_count": 2,
   "metadata": {},
   "outputs": [
    {
     "data": {
      "text/plain": [
       "('a', 5)"
      ]
     },
     "execution_count": 2,
     "metadata": {},
     "output_type": "execute_result"
    }
   ],
   "source": [
    "def int_or_str(x):\n",
    "    try:\n",
    "        x = int(x)\n",
    "    except:\n",
    "        pass\n",
    "    return x\n",
    "\n",
    "int_or_str(\"a\"), int_or_str(\"5\")"
   ]
  },
  {
   "cell_type": "markdown",
   "metadata": {},
   "source": [
    "the main code:"
   ]
  },
  {
   "cell_type": "code",
   "execution_count": 3,
   "metadata": {},
   "outputs": [
    {
     "data": {
      "text/plain": [
       "defaultdict(int, {'a': 12480, 'b': 1, 'd': 0, 'c': 0})"
      ]
     },
     "execution_count": 3,
     "metadata": {},
     "output_type": "execute_result"
    }
   ],
   "source": [
    "from collections import defaultdict\n",
    "\n",
    "registers = defaultdict(int)\n",
    "registers[\"a\"] = 7\n",
    "\n",
    "i = 0\n",
    "loop = 0\n",
    "\n",
    "while i < len(data):\n",
    "    ins = data[i].split()\n",
    "    func = ins[0]\n",
    "    x = int_or_str(ins[1])\n",
    "    \n",
    "    if len(ins) == 3:\n",
    "        y = int_or_str(ins[2])\n",
    "    \n",
    "    if func == \"tgl\":\n",
    "        x = registers[x] if type(x) is str else x\n",
    "        if i + x >= len(data):\n",
    "            pass\n",
    "        else:\n",
    "            new_ins = data[i+x].split()\n",
    "            new_func = new_ins[0]\n",
    "            new_x = int_or_str(new_ins[1])\n",
    "\n",
    "            if len(new_ins) == 2:\n",
    "                if new_func == \"inc\":\n",
    "                    new_func = \"dec\"\n",
    "                else:\n",
    "                    new_func = \"inc\"\n",
    "            else:\n",
    "                new_y = int_or_str(new_ins[2])\n",
    "                if new_func == \"jnz\":\n",
    "                    new_func = \"cpy\"\n",
    "                else:\n",
    "                    new_func = \"jnz\"\n",
    "\n",
    "            data[i+x] = new_func + data[i+x][3:]    \n",
    "        \n",
    "    elif func == \"cpy\":\n",
    "        if type(y) is int: # this makes cpy invalid\n",
    "            pass\n",
    "        registers[y] = registers[x] if type(x) is str else x\n",
    "    elif func == \"inc\":\n",
    "        registers[x] += 1\n",
    "    elif func == \"dec\":\n",
    "        registers[x] -= 1\n",
    "    elif func == \"jnz\":\n",
    "        x = registers[x] if type(x) is str else x\n",
    "        y = registers[y] if type(y) is str else y\n",
    "        if x != 0:\n",
    "            i += y-1\n",
    "    i += 1\n",
    "    loop += 1\n",
    "    \n",
    "    if loop % 100000 == 0:\n",
    "        print(loop, i, registers)\n",
    "    \n",
    "registers"
   ]
  },
  {
   "cell_type": "markdown",
   "metadata": {},
   "source": [
    "`12480` is the answer for part 1. some notes:\n",
    "\n",
    "- damn this loop is now long and ugly. next time write a function for each instruction and then use a dispatch table like I did before.\n",
    "- i only checked the cpy function if it is now invalid. Which was enough for part 1 but I'm sure this will fail for other inputs"
   ]
  },
  {
   "cell_type": "markdown",
   "metadata": {},
   "source": [
    "# --- Part Two ---\n",
    "The safe doesn't open, but it does make several angry noises to express its frustration.\n",
    "\n",
    "You're quite sure your logic is working correctly, so the only other thing is... you check the painting again. As it turns out, colored eggs are still eggs. Now you count 12.\n",
    "\n",
    "As you run the program with this new input, the prototype computer begins to overheat. You wonder what's taking so long, and whether the lack of any instruction more powerful than \"add one\" has anything to do with it. Don't bunnies usually multiply?\n",
    "\n",
    "Anyway, **what value should actually be sent to the safe?**"
   ]
  },
  {
   "cell_type": "markdown",
   "metadata": {},
   "source": [
    "So this looks like an optimization problem now, so taking a look at the instructions:"
   ]
  },
  {
   "cell_type": "code",
   "execution_count": 4,
   "metadata": {},
   "outputs": [
    {
     "data": {
      "text/plain": [
       "['cpy a b',\n",
       " 'dec b',\n",
       " 'cpy a d',\n",
       " 'cpy 0 a',\n",
       " 'cpy b c',\n",
       " 'inc a',\n",
       " 'dec c',\n",
       " 'jnz c -2',\n",
       " 'dec d',\n",
       " 'jnz d -5',\n",
       " 'dec b',\n",
       " 'cpy b c',\n",
       " 'cpy c d',\n",
       " 'dec d',\n",
       " 'inc c',\n",
       " 'jnz d -2',\n",
       " 'tgl c',\n",
       " 'cpy -16 c',\n",
       " 'cpy 1 c',\n",
       " 'cpy 93 c',\n",
       " 'cpy 80 d',\n",
       " 'inc a',\n",
       " 'dec d',\n",
       " 'jnz d -2',\n",
       " 'dec c',\n",
       " 'jnz c -5']"
      ]
     },
     "execution_count": 4,
     "metadata": {},
     "output_type": "execute_result"
    }
   ],
   "source": [
    "data"
   ]
  },
  {
   "cell_type": "markdown",
   "metadata": {},
   "source": [
    "this seems to be the multiplication loop, starting at `data[3]`:\n",
    "\n",
    "1. `'cpy 0 a',` makes the register a `0` - only happens once\n",
    "\n",
    "so the main mul loop:\n",
    "\n",
    "1. `cpy b c` copies the num from register b into register c - making them equal\n",
    "2.  `inc a` increases a by 1\n",
    "3. `dec c` decreases c by 1\n",
    "4. `jnz c -2` if c > 0 goes back 2\n",
    "5. `dec d` decreases d by 1\n",
    "6. `jnz d -5` runs this whole loop again while d > 0\n",
    "\n",
    "than d is decreased, and the whole things runs again, calculating\n",
    "\n",
    "so `register[\"a\"] = b * d` ?\n",
    "\n",
    "So lets try removing instructions data[4:9] and replacing them with `mul a b d` where mul replaces the value of register a with `b * d`:"
   ]
  },
  {
   "cell_type": "code",
   "execution_count": 5,
   "metadata": {},
   "outputs": [
    {
     "data": {
      "text/plain": [
       "['cpy a b',\n",
       " 'dec b',\n",
       " 'cpy a d',\n",
       " 'cpy 0 a',\n",
       " 'mul a b d',\n",
       " 'jnz 0 0',\n",
       " 'jnz 0 0',\n",
       " 'jnz 0 0',\n",
       " 'jnz 0 0',\n",
       " 'jnz 0 0',\n",
       " 'dec b',\n",
       " 'cpy b c',\n",
       " 'cpy c d',\n",
       " 'dec d',\n",
       " 'inc c',\n",
       " 'jnz d -2',\n",
       " 'tgl c',\n",
       " 'cpy -16 c',\n",
       " 'jnz 1 c',\n",
       " 'cpy 93 c',\n",
       " 'jnz 80 d',\n",
       " 'inc a',\n",
       " 'inc d',\n",
       " 'jnz d -2',\n",
       " 'inc c',\n",
       " 'jnz c -5']"
      ]
     },
     "execution_count": 5,
     "metadata": {},
     "output_type": "execute_result"
    }
   ],
   "source": [
    "data_2 = get_input()\n",
    "\n",
    "dummy_ins = \"jnz 0 0\" # does nothing\n",
    "mul_ins = \"mul a b d\" # the new mul ins\n",
    "\n",
    "for i in range(4,10):\n",
    "    if i == 4:\n",
    "        data_2[i] = mul_ins\n",
    "    else:\n",
    "        data_2[i] = dummy_ins\n",
    "data_2"
   ]
  },
  {
   "cell_type": "code",
   "execution_count": 6,
   "metadata": {},
   "outputs": [
    {
     "data": {
      "text/plain": [
       "defaultdict(int, {'a': 479009040, 'b': 1, 'd': 0, 'c': 0})"
      ]
     },
     "execution_count": 6,
     "metadata": {},
     "output_type": "execute_result"
    }
   ],
   "source": [
    "from collections import defaultdict\n",
    "\n",
    "registers = defaultdict(int)\n",
    "registers[\"a\"] = 12\n",
    "\n",
    "i = 0 # tracking the ins to execute\n",
    "\n",
    "while i < len(data_2):\n",
    "    ins = data_2[i].split()\n",
    "    func = ins[0]\n",
    "    x = int_or_str(ins[1])\n",
    "    \n",
    "    if len(ins) == 3:\n",
    "        y = int_or_str(ins[2])\n",
    "    \n",
    "    if func == \"tgl\":\n",
    "        x = registers[x] if type(x) is str else x\n",
    "        \n",
    "        if i + x >= len(data_2):\n",
    "            pass\n",
    "        else:\n",
    "            new_ins = data_2[i+x].split()\n",
    "            new_func = new_ins[0]\n",
    "            new_x = int_or_str(new_ins[1])\n",
    "\n",
    "            if len(new_ins) == 2:\n",
    "                if new_func == \"inc\":\n",
    "                    new_func = \"dec\"\n",
    "                else:\n",
    "                    new_func = \"inc\"\n",
    "            else:\n",
    "                new_y = int_or_str(new_ins[2])\n",
    "                if new_func == \"jnz\":\n",
    "                    new_func = \"cpy\"\n",
    "                else:\n",
    "                    new_func = \"jnz\"\n",
    "\n",
    "            data_2[i+x] = new_func + data_2[i+x][3:]    \n",
    "        \n",
    "    elif func == \"mul\":\n",
    "        registers[x] += registers[\"b\"] * registers[\"d\"]\n",
    "        #registers[\"c\"] = 0\n",
    "        registers[\"d\"] = 0\n",
    "        \n",
    "    elif func == \"cpy\":\n",
    "        if type(y) is int: # this makes cpy invalid\n",
    "            pass\n",
    "        else:\n",
    "            registers[y] = registers[x] if type(x) is str else x\n",
    "    elif func == \"inc\":\n",
    "        registers[x] += 1\n",
    "    elif func == \"dec\":\n",
    "        registers[x] -= 1\n",
    "    elif func == \"jnz\":\n",
    "        x = registers[x] if type(x) is str else x\n",
    "        y = registers[y] if type(y) is str else y\n",
    "        \n",
    "        if x != 0:\n",
    "            i += y-1\n",
    "    i += 1\n",
    "    \n",
    "registers"
   ]
  },
  {
   "cell_type": "markdown",
   "metadata": {},
   "source": [
    "`479009040` is the answer for part 2. Now there is another multiplication loop at the end which I could replace with the `mul` function but its fast enough already.\n",
    "\n",
    "## Notes:\n",
    "\n",
    "- i got stuck at a very stupid problem - where the first run of my while loop modified the original data instructions, so even when I had the right code I was getting the wrong answer. I had to go back to read in the inputs again, modify, and feed to the while loop. Its a good reminder to use functions and keep track of changes made to the inputs.\n",
    "- Optimization is tricky. drawing is helpful."
   ]
  },
  {
   "cell_type": "code",
   "execution_count": null,
   "metadata": {},
   "outputs": [],
   "source": []
  }
 ],
 "metadata": {
  "kernelspec": {
   "display_name": "Python 3",
   "language": "python",
   "name": "python3"
  },
  "language_info": {
   "codemirror_mode": {
    "name": "ipython",
    "version": 3
   },
   "file_extension": ".py",
   "mimetype": "text/x-python",
   "name": "python",
   "nbconvert_exporter": "python",
   "pygments_lexer": "ipython3",
   "version": "3.6.5"
  }
 },
 "nbformat": 4,
 "nbformat_minor": 2
}

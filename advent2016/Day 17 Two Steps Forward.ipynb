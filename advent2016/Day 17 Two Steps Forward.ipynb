{
 "cells": [
  {
   "cell_type": "markdown",
   "metadata": {},
   "source": [
    "# --- Day 17: Two Steps Forward ---\n",
    "\n",
    "You're trying to access a secure vault protected by a 4x4 grid of small rooms connected by doors. You start in the top-left room (marked S), and you can access the vault (marked V) once you reach the bottom-right room:\n",
    "\n",
    "```\n",
    "#########\n",
    "#S| | | #\n",
    "#-#-#-#-#\n",
    "# | | | #\n",
    "#-#-#-#-#\n",
    "# | | | #\n",
    "#-#-#-#-#\n",
    "# | | |  \n",
    "####### V\n",
    "```\n",
    "\n",
    "Fixed walls are marked with #, and doors are marked with - or |.\n",
    "\n",
    "The doors in your current room are either open or closed (and locked) based on the hexadecimal MD5 hash of a passcode (your puzzle input) followed by a sequence of uppercase characters representing the path you have taken so far (U for up, D for down, L for left, and R for right).\n",
    "\n",
    "Only the first four characters of the hash are used; they represent, respectively, the doors up, down, left, and right from your current position. Any b, c, d, e, or f means that the corresponding door is open; any other character (any number or a) means that the corresponding door is closed and locked.\n",
    "\n",
    "To access the vault, all you need to do is reach the bottom-right room; reaching this room opens the vault and all doors in the maze.\n",
    "\n",
    "For example, suppose the passcode is `hijkl`. Initially, you have taken no steps, and so your path is empty: you simply find the MD5 hash of hijkl alone. The first four characters of this hash are `ced9`, which indicate that up is open (c), down is open (e), left is open (d), and right is closed and locked (9). Because you start in the top-left corner, there are no \"up\" or \"left\" doors to be open, so your only choice is down.\n",
    "\n",
    "Next, having gone only one step (down, or D), you find the hash of hijklD. This produces f2bc, which indicates that you can go back up, left (but that's a wall), or right. Going right means hashing hijklDR to get 5745 - all doors closed and locked. However, going up instead is worthwhile: even though it returns you to the room you started in, your path would then be DU, opening a different set of doors.\n",
    "\n",
    "After going DU (and then hashing hijklDU to get 528e), only the right door is open; after going DUR, all doors lock. (Fortunately, your actual passcode is not hijkl).\n",
    "\n",
    "Passcodes actually used by Easter Bunny Vault Security do allow access to the vault if you know the right path. For example:\n",
    "\n",
    "- If your passcode were ihgpwlah, the shortest path would be DDRRRD.\n",
    "- With kglvqrro, the shortest path would be DDUDRLRRUDRD.\n",
    "- With ulqzkmiv, the shortest would be DRURDRUDDLLDLUURRDULRLDUUDDDRR.\n",
    "\n",
    "**Given your vault's passcode, what is the shortest path (the actual path, not just the length) to reach the vault?**"
   ]
  },
  {
   "cell_type": "markdown",
   "metadata": {},
   "source": [
    "---\n",
    "\n",
    "This looks similar to Day 13, but different enough that its not straightforward. Obviosuly a graph problem, but how to represent it?"
   ]
  },
  {
   "cell_type": "code",
   "execution_count": 122,
   "metadata": {},
   "outputs": [],
   "source": [
    "import hashlib\n",
    "from collections import namedtuple, deque\n",
    "import numpy as np\n",
    "from copy import deepcopy"
   ]
  },
  {
   "cell_type": "markdown",
   "metadata": {},
   "source": [
    "Our inputs:"
   ]
  },
  {
   "cell_type": "code",
   "execution_count": 135,
   "metadata": {},
   "outputs": [],
   "source": [
    "test_input = \"hijkl\"\n",
    "puzzle_input = \"veumntbg\"\n",
    "maze_string = \"\"\"\n",
    "#########\n",
    "#S| | | #\n",
    "#-#-#-#-#\n",
    "# | | | #\n",
    "#-#-#-#-#\n",
    "# | | | #\n",
    "#-#-#-#-#\n",
    "# | | |  \n",
    "####### V\"\"\""
   ]
  },
  {
   "cell_type": "markdown",
   "metadata": {},
   "source": [
    "First up, some helper variables to figure out whats what in our maze:"
   ]
  },
  {
   "cell_type": "code",
   "execution_count": 236,
   "metadata": {},
   "outputs": [],
   "source": [
    "open_path = namedtuple(\"Can_Go\", [\"U\", \"D\", \"L\", \"R\"])\n",
    "is_open = set([\"b\", \"c\", \"d\", \"e\", \"f\"])\n",
    "moves = list(\"UDLR\")\n",
    "moves_pos = ((0,-2), (0,2),(-2,0), (2,0)) # possible moves for a 4 way grid"
   ]
  },
  {
   "cell_type": "markdown",
   "metadata": {},
   "source": [
    "Putting this all into a class, since there are many moving parts so I want to wrap them all up in a convenient wrapper:"
   ]
  },
  {
   "cell_type": "code",
   "execution_count": 239,
   "metadata": {},
   "outputs": [
    {
     "data": {
      "text/plain": [
       "(array([['#', '#', '#', '#', '#', '#', '#', '#', '#'],\n",
       "        ['#', 'S', '|', ' ', '|', ' ', '|', ' ', '#'],\n",
       "        ['#', '-', '#', '-', '#', '-', '#', '-', '#'],\n",
       "        ['#', ' ', '|', ' ', '|', ' ', '|', ' ', '#'],\n",
       "        ['#', '-', '#', '-', '#', '-', '#', '-', '#'],\n",
       "        ['#', ' ', '|', ' ', '|', ' ', '|', ' ', '#'],\n",
       "        ['#', '-', '#', '-', '#', '-', '#', '-', '#'],\n",
       "        ['#', ' ', '|', ' ', '|', ' ', '|', ' ', ' '],\n",
       "        ['#', '#', '#', '#', '#', '#', '#', ' ', 'V']], dtype='<U1'),\n",
       " Can_Go(U=True, D=True, L=True, R=False),\n",
       " Can_Go(U=False, D=True, L=False, R=True),\n",
       " Can_Go(U=False, D=True, L=False, R=False),\n",
       " False,\n",
       " 'hijkl')"
      ]
     },
     "execution_count": 239,
     "metadata": {},
     "output_type": "execute_result"
    }
   ],
   "source": [
    "class Maze:\n",
    "    def __init__(self, passcode, maze_string=maze_string):\n",
    "        self.maze = np.array([[i for i in line] for line in maze_string.strip().split(\"\\n\")])\n",
    "        self.pos = np.array([loc[0] for loc in np.where(self.maze==\"S\")])\n",
    "        self.path = \"\"\n",
    "        self.passcode = passcode\n",
    "    \n",
    "    def __repr__(self):\n",
    "        return f\"{self.pos}|{self.path}\"\n",
    "    \n",
    "    def move(self, d):\n",
    "        i = moves.index(d)\n",
    "        if self.can_go()[i]:\n",
    "            self.pos += moves_pos[i]\n",
    "            self.path += d\n",
    "            return True\n",
    "        else:\n",
    "            print(\"Couldn't move in direction\", d)\n",
    "            return False\n",
    "        \n",
    "    def get_doors(self, verbose=False):\n",
    "        \"\"\"returns directions doors are open\"\"\"\n",
    "        s = self.passcode + self.path\n",
    "        h = hashlib.md5(s.encode()).hexdigest()\n",
    "        if verbose: print(s, h[:4])\n",
    "        return open_path(*[char in is_open for char in h[:4]])\n",
    "    \n",
    "    def get_walls(self):\n",
    "        \"\"\"returns directions there are walls\"\"\"\n",
    "        walls = [False for _ in range(4)]\n",
    "        for i, p in enumerate(moves_pos):\n",
    "            p = np.add(self.pos, p)\n",
    "            if min(p) >= 0 and max(p) < len(self.maze):\n",
    "                if self.maze[tuple(p)] != \"#\":\n",
    "                    walls[i] = True\n",
    "        return open_path(*walls)\n",
    "    \n",
    "    def can_go(self):\n",
    "        \"\"\"returns directions we can move to in the maze\"\"\"\n",
    "        \"returns directions \"\n",
    "        pos=self.pos\n",
    "        path=self.path\n",
    "        return open_path(*[d&w for (d,w) in zip(self.get_doors(), self.get_walls())])\n",
    "    \n",
    "    def possible_mazes(self):\n",
    "        \"\"\"returns a list of mazes where are movable to from this state\"\"\"\n",
    "        can_move_to = list()\n",
    "        for i, go in enumerate(self.can_go()):\n",
    "            if go:\n",
    "                new_m = deepcopy(self)\n",
    "                new_m.move(moves[i])\n",
    "                can_move_to.append(new_m)\n",
    "        return can_move_to\n",
    "        \n",
    "    def in_vault(self, goal=[7,7]):\n",
    "        \"\"\"returns True if inside vault\"\"\"\n",
    "        return np.all(self.pos==goal) # our destination\n",
    "             \n",
    "m = Maze(passcode=test_input)\n",
    "m.maze, m.get_doors(), m.get_walls(), m.can_go(), m.in_vault(), m.passcode"
   ]
  },
  {
   "cell_type": "markdown",
   "metadata": {},
   "source": [
    "Now to get the shortest path by using BFS:"
   ]
  },
  {
   "cell_type": "code",
   "execution_count": 244,
   "metadata": {},
   "outputs": [
    {
     "name": "stdout",
     "output_type": "stream",
     "text": [
      "Starting at maze pos [1 1] searching for [7, 7]\n",
      "loop 0 at [1 1]|,can go: [[1 3]|D, [3 1]|R]\n",
      "loop 1 at [1 3]|D,can go: [[1 1]|DU, [1 5]|DD, [3 3]|DR]\n",
      "loop 2 at [3 1]|R,can go: []\n",
      "loop 3 at [1 1]|DU,can go: []\n",
      "loop 4 at [1 5]|DD,can go: [[3 5]|DDR]\n",
      "loop 5 at [3 3]|DR,can go: [[5 3]|DRR]\n",
      "loop 6 at [3 5]|DDR,can go: [[3 3]|DDRU, [3 7]|DDRD, [1 5]|DDRL, [5 5]|DDRR]\n",
      "loop 7 at [5 3]|DRR,can go: [[5 1]|DRRU]\n",
      "loop 8 at [3 3]|DDRU,can go: [[3 5]|DDRUD]\n",
      "loop 9 at [3 7]|DDRD,can go: [[3 5]|DDRDU, [1 7]|DDRDL]\n",
      "loop 10 at [1 5]|DDRL,can go: [[1 7]|DDRLD, [3 5]|DDRLR]\n",
      "loop 11 at [5 5]|DDRR,can go: [[5 7]|DDRRD, [7 5]|DDRRR]\n",
      "loop 12 at [5 1]|DRRU,can go: [[3 1]|DRRUL]\n",
      "loop 13 at [3 5]|DDRUD,can go: []\n",
      "loop 14 at [3 5]|DDRDU,can go: [[3 3]|DDRDUU]\n",
      "loop 15 at [1 7]|DDRDL,can go: [[1 5]|DDRDLU]\n",
      "loop 16 at [1 7]|DDRLD,can go: [[1 5]|DDRLDU]\n",
      "loop 17 at [3 5]|DDRLR,can go: [[3 3]|DDRLRU, [3 7]|DDRLRD]\n",
      "loop 18 at [5 7]|DDRRD,can go: []\n",
      "loop 19 at [7 5]|DDRRR,can go: [[7 7]|DDRRRD]\n",
      "loop 20 at [3 1]|DRRUL,can go: [[3 3]|DRRULD]\n",
      "loop 21 at [3 3]|DDRDUU,can go: [[3 1]|DDRDUUU]\n",
      "loop 22 at [1 5]|DDRDLU,can go: [[3 5]|DDRDLUR]\n",
      "loop 23 at [1 5]|DDRLDU,can go: [[3 5]|DDRLDUR]\n",
      "loop 24 at [3 3]|DDRLRU,can go: [[3 5]|DDRLRUD, [1 3]|DDRLRUL]\n",
      "loop 25 at [3 7]|DDRLRD,can go: [[1 7]|DDRLRDL]\n",
      "------------------------------------------------\n",
      "It took 5 steps using path DDRRRD\n"
     ]
    }
   ],
   "source": [
    "all_mazes = set() # tracking all possible valid mazes\n",
    "\n",
    "def shortest_path(passcode=test_input, goal=[7,7], verbose=False):\n",
    "    \"\"\"returns the shortest path to the vault\"\"\"\n",
    "    maze = Maze(passcode=passcode)\n",
    "    stack = deque() # the mazes to process\n",
    "    stack.append(maze)\n",
    "\n",
    "    m = stack.popleft() # the current maze being looked at\n",
    "    \n",
    "    if verbose: print(\"Starting at maze pos\", m.pos, \"searching for\", goal)\n",
    "\n",
    "    i = 0 # counter\n",
    "    \n",
    "    while not m.in_vault(): \n",
    "        if verbose: print(f\"loop {i} at {m},can go: {m.possible_mazes()}\")\n",
    "        stack.extend(m.possible_mazes())\n",
    "        all_mazes.add(m) # have now processed this path\n",
    "        #print(stack, len(stack), stack[0])\n",
    "\n",
    "        try:\n",
    "            m = stack.popleft()\n",
    "        except:\n",
    "            print(f\"Stack is empty at loop {i}\")\n",
    "            print(f\"At position {m.pos}, Path: {m.path}\")\n",
    "            return all_mazes\n",
    "\n",
    "        i+=1\n",
    "        if i % 100 == 0:\n",
    "            print(f\"step {i}, looking at maze: {m}\")\n",
    "            print(all_mazes)\n",
    "\n",
    "    print(\"----\"*12)\n",
    "    print(f\"It took {len(m.path)-1} steps using path {m.path}\")\n",
    "    return m.path\n",
    "\n",
    "#shortest_path(test_input, verbose=True) #DUR\n",
    "assert shortest_path(\"ihgpwlah\", verbose=True) == \"DDRRRD\""
   ]
  },
  {
   "cell_type": "markdown",
   "metadata": {},
   "source": [
    "And presto, it works! on to the actual puzzle input:"
   ]
  },
  {
   "cell_type": "code",
   "execution_count": 245,
   "metadata": {},
   "outputs": [
    {
     "name": "stdout",
     "output_type": "stream",
     "text": [
      "------------------------------------------------\n",
      "It took 9 steps using path DDRRULRDRD\n"
     ]
    },
    {
     "data": {
      "text/plain": [
       "'DDRRULRDRD'"
      ]
     },
     "execution_count": 245,
     "metadata": {},
     "output_type": "execute_result"
    }
   ],
   "source": [
    "shortest_path(puzzle_input)"
   ]
  },
  {
   "cell_type": "markdown",
   "metadata": {},
   "source": [
    "`DDRRULRDRD` is the answer to the puzzle input for part 1."
   ]
  },
  {
   "cell_type": "markdown",
   "metadata": {},
   "source": [
    "# --- Part Two ---\n",
    "\n",
    "You're curious how robust this security solution really is, and so you decide to find longer and longer paths which still provide access to the vault. You remember that paths always end the first time they reach the bottom-right room (that is, they can never pass through it, only end in it).\n",
    "\n",
    "For example:\n",
    "\n",
    "- If your passcode were ihgpwlah, the longest path would take 370 steps.\n",
    "- With kglvqrro, the longest path would be 492 steps long.\n",
    "- With ulqzkmiv, the longest path would be 830 steps long.\n",
    "\n",
    "**What is the length of the longest path that reaches the vault?**"
   ]
  },
  {
   "cell_type": "markdown",
   "metadata": {},
   "source": [
    "---\n",
    "\n",
    "first up, I'm going to try the simple solution of just computing all the paths and seeing the longest one. That is of course hideously inefficient, but here goes:"
   ]
  },
  {
   "cell_type": "code",
   "execution_count": 246,
   "metadata": {},
   "outputs": [
    {
     "name": "stdout",
     "output_type": "stream",
     "text": [
      "step 10000, looking at a maze with path length: 156\n",
      "step 20000, looking at a maze with path length: 217\n",
      "step 30000, looking at a maze with path length: 266\n",
      "------------------------------------------------\n",
      "The longest path took: 370 steps\n",
      "CPU times: user 5.32 s, sys: 67 ms, total: 5.39 s\n",
      "Wall time: 5.38 s\n"
     ]
    },
    {
     "data": {
      "text/plain": [
       "370"
      ]
     },
     "execution_count": 246,
     "metadata": {},
     "output_type": "execute_result"
    }
   ],
   "source": [
    "all_mazes = set() # tracking all possible complete mazes\n",
    "\n",
    "def get_all_paths(passcode=test_input, goal=[7,7], verbose=False):\n",
    "    \"\"\"returns the shortest path to the vault\"\"\"\n",
    "    maze = Maze(passcode=passcode)\n",
    "    stack = deque() # the mazes to process\n",
    "    stack.append(maze)\n",
    "    \n",
    "    if verbose: print(\"Starting at maze pos\", m.pos, \"searching for\", goal)\n",
    "\n",
    "    i = 0 # counter\n",
    "    \n",
    "    while len(stack) > 0: \n",
    "        try:\n",
    "            m = stack.popleft()  # current maze being looked at\n",
    "        except:\n",
    "            print(f\"Stack is empty at loop {i}\")\n",
    "            print(f\"At position {m.pos}, Path: {m.path}\")\n",
    "            return all_mazes\n",
    "\n",
    "        if verbose: print(f\"loop {i} at {m},can go: {m.possible_mazes()}\")\n",
    "        \n",
    "        for next_maze in m.possible_mazes():\n",
    "            if next_maze.in_vault():\n",
    "                all_mazes.add(m) # adding all complete paths\n",
    "            else:\n",
    "                stack.append(next_maze) # keep going\n",
    "                \n",
    "        i+=1\n",
    "        if i % 10000 == 0:\n",
    "            print(f\"step {i}, looking at a maze with path length: {len(m.path)}\")\n",
    "            \n",
    "    print(\"----\"*12)\n",
    "    longest_path_length = max([len(m.path) for m in all_mazes]) + 1\n",
    "    print(f\"The longest path took: {longest_path_length} steps\")\n",
    "    return longest_path_length\n",
    "    \n",
    "% time get_all_paths(\"ihgpwlah\") # 370 steps"
   ]
  },
  {
   "cell_type": "code",
   "execution_count": 247,
   "metadata": {},
   "outputs": [
    {
     "name": "stdout",
     "output_type": "stream",
     "text": [
      "step 10000, looking at a maze with path length: 160\n",
      "step 20000, looking at a maze with path length: 211\n",
      "step 30000, looking at a maze with path length: 261\n",
      "step 40000, looking at a maze with path length: 334\n",
      "step 50000, looking at a maze with path length: 444\n",
      "------------------------------------------------\n",
      "The longest path took: 492 steps\n",
      "CPU times: user 8.85 s, sys: 180 ms, total: 9.03 s\n",
      "Wall time: 8.99 s\n"
     ]
    },
    {
     "data": {
      "text/plain": [
       "492"
      ]
     },
     "execution_count": 247,
     "metadata": {},
     "output_type": "execute_result"
    }
   ],
   "source": [
    "% time get_all_paths(\"kglvqrro\") # 492 steps"
   ]
  },
  {
   "cell_type": "code",
   "execution_count": 248,
   "metadata": {},
   "outputs": [
    {
     "name": "stdout",
     "output_type": "stream",
     "text": [
      "step 10000, looking at a maze with path length: 147\n",
      "step 20000, looking at a maze with path length: 214\n",
      "step 30000, looking at a maze with path length: 372\n",
      "------------------------------------------------\n",
      "The longest path took: 536 steps\n",
      "CPU times: user 5.66 s, sys: 55 ms, total: 5.72 s\n",
      "Wall time: 5.75 s\n"
     ]
    },
    {
     "data": {
      "text/plain": [
       "536"
      ]
     },
     "execution_count": 248,
     "metadata": {},
     "output_type": "execute_result"
    }
   ],
   "source": [
    "%time get_all_paths(puzzle_input)"
   ]
  },
  {
   "cell_type": "markdown",
   "metadata": {},
   "source": [
    "the part 2 answer is `536`. It only took 6 seconds to compute, though with a bigger graph this could take a while, so look at ways to optimize.\n",
    "\n",
    "# Notes:\n",
    "\n",
    "- i have a over elaborate class, could have done this much simpler and faster using a named tuple to store position and a path, and having functions which took in a maze, position and path.\n",
    "- basically, seperate data and functions which transform that data. Sometimes a class is a great idea, but not sure it was over here.\n",
    "- anyways, this was a good learning thingamajig."
   ]
  }
 ],
 "metadata": {
  "kernelspec": {
   "display_name": "Python 3",
   "language": "python",
   "name": "python3"
  },
  "language_info": {
   "codemirror_mode": {
    "name": "ipython",
    "version": 3
   },
   "file_extension": ".py",
   "mimetype": "text/x-python",
   "name": "python",
   "nbconvert_exporter": "python",
   "pygments_lexer": "ipython3",
   "version": "3.6.4"
  }
 },
 "nbformat": 4,
 "nbformat_minor": 2
}

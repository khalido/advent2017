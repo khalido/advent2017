{
 "cells": [
  {
   "cell_type": "markdown",
   "metadata": {},
   "source": [
    "# --- Day 15: Timing is Everything ---\n",
    "\n",
    "The halls open into an interior plaza containing a large kinetic sculpture. The sculpture is in a sealed enclosure and seems to involve a set of identical spherical capsules that are carried to the top and allowed to bounce through the maze of spinning pieces.\n",
    "\n",
    "Part of the sculpture is even interactive! When a button is pressed, a capsule is dropped and tries to fall through slots in a set of rotating discs to finally go through a little hole at the bottom and come out of the sculpture. If any of the slots aren't aligned with the capsule as it passes, the capsule bounces off the disc and soars away. You feel compelled to get one of those capsules.\n",
    "\n",
    "The discs pause their motion each second and come in different sizes; they seem to each have a fixed number of positions at which they stop. You decide to call the position with the slot 0, and count up for each position it reaches next.\n",
    "\n",
    "Furthermore, the discs are spaced out so that after you push the button, one second elapses before the first disc is reached, and one second elapses as the capsule passes from one disc to the one below it. So, if you push the button at time=100, then the capsule reaches the top disc at time=101, the second disc at time=102, the third disc at time=103, and so on.\n",
    "\n",
    "The button will only drop a capsule at an integer time - no fractional seconds allowed.\n",
    "\n",
    "For example, at time=0, suppose you see the following arrangement:\n",
    "\n",
    "```\n",
    "Disc #1 has 5 positions; at time=0, it is at position 4.\n",
    "Disc #2 has 2 positions; at time=0, it is at position 1.\n",
    "```\n",
    "\n",
    "If you press the button exactly at time=0, the capsule would start to fall; it would reach the first disc at time=1. Since the first disc was at position 4 at time=0, by time=1 it has ticked one position forward. As a five-position disc, the next position is 0, and the capsule falls through the slot.\n",
    "\n",
    "Then, at time=2, the capsule reaches the second disc. The second disc has ticked forward two positions at this point: it started at position 1, then continued to position 0, and finally ended up at position 1 again. Because there's only a slot at position 0, the capsule bounces away.\n",
    "\n",
    "If, however, you wait until time=5 to push the button, then when the capsule reaches each disc, the first disc will have ticked forward 5+1 = 6 times (to position 0), and the second disc will have ticked forward 5+2 = 7 times (also to position 0). In this case, the capsule would fall through the discs and come out of the machine.\n",
    "\n",
    "However, your situation has more than two discs; you've noted their positions in your puzzle input. **What is the first time you can press the button to get a capsule?**"
   ]
  },
  {
   "cell_type": "code",
   "execution_count": 1,
   "metadata": {},
   "outputs": [
    {
     "data": {
      "text/plain": [
       "['Disc #1 has 17 positions; at time=0, it is at position 1.',\n",
       " 'Disc #2 has 7 positions; at time=0, it is at position 0.',\n",
       " 'Disc #3 has 19 positions; at time=0, it is at position 2.',\n",
       " 'Disc #4 has 5 positions; at time=0, it is at position 0.',\n",
       " 'Disc #5 has 3 positions; at time=0, it is at position 0.',\n",
       " 'Disc #6 has 13 positions; at time=0, it is at position 5.']"
      ]
     },
     "execution_count": 1,
     "metadata": {},
     "output_type": "execute_result"
    }
   ],
   "source": [
    "from tqdm import tqdm\n",
    "import numpy as np\n",
    "import utils\n",
    "\n",
    "utils.get_input(15)"
   ]
  },
  {
   "cell_type": "code",
   "execution_count": 2,
   "metadata": {},
   "outputs": [
    {
     "name": "stdout",
     "output_type": "stream",
     "text": [
      "d0 | .#............... |\n",
      "d1 |      #......      |\n",
      "d2 |..#................|\n",
      "d3 |       #....       |\n",
      "d4 |        #..        |\n",
      "d5 |   .....#.......   |\n",
      "---------------------------\n"
     ]
    }
   ],
   "source": [
    "disc_lengths = [17, 7, 19, 5, 3, 13]\n",
    "disc_start_positions = [1, 0, 2, 0, 0, 5]\n",
    "\n",
    "discs = [[\".\" for _ in range(i)] for i in disc_lengths]\n",
    "for disc, i in enumerate(disc_start_positions):\n",
    "    discs[disc][i] = \"#\"\n",
    "    \n",
    "def show_discs(discs=discs):\n",
    "    for i, disc in enumerate(discs):\n",
    "        pad = (max(len(d) for d in discs) - len(disc)) // 2\n",
    "        print(f\"d{i} |\" + \" \"*pad + ''.join(disc) + \" \"*pad + \"|\")\n",
    "    print(\"-\"*27)\n",
    "\n",
    "show_discs()"
   ]
  },
  {
   "cell_type": "markdown",
   "metadata": {},
   "source": [
    "Now a func to roll the discs as per the description:"
   ]
  },
  {
   "cell_type": "code",
   "execution_count": 3,
   "metadata": {},
   "outputs": [
    {
     "name": "stdout",
     "output_type": "stream",
     "text": [
      "d0 | ..#.............. |\n",
      "d1 |      .#.....      |\n",
      "d2 |...#...............|\n",
      "d3 |       .#...       |\n",
      "d4 |        .#.        |\n",
      "d5 |   ......#......   |\n",
      "---------------------------\n",
      "d0 | ...#............. |\n",
      "d1 |      ..#....      |\n",
      "d2 |....#..............|\n",
      "d3 |       ..#..       |\n",
      "d4 |        ..#        |\n",
      "d5 |   .......#.....   |\n",
      "---------------------------\n"
     ]
    },
    {
     "data": {
      "text/plain": [
       "(None, None)"
      ]
     },
     "execution_count": 3,
     "metadata": {},
     "output_type": "execute_result"
    }
   ],
   "source": [
    "def rotate(arr, num):\n",
    "    \"\"\"shits items in arr by num\"\"\"\n",
    "    return np.roll(arr, num)\n",
    "\n",
    "def roll_discs(discs=discs, num_rolls=1):\n",
    "    \"\"\"moves all the discs forward by num_rolls\"\"\"\n",
    "    return [rotate(d, num_rolls) for d in discs]\n",
    "\n",
    "show_discs(roll_discs(discs)), show_discs(roll_discs(discs, 2))"
   ]
  },
  {
   "cell_type": "markdown",
   "metadata": {},
   "source": [
    "First up to determine if the capsule will fall through, using lru_cache though not sure if its needed, also this func is pretty computationaly intensive - I can probably hard code the indexes rather than rotating each disc:"
   ]
  },
  {
   "cell_type": "code",
   "execution_count": 4,
   "metadata": {},
   "outputs": [
    {
     "data": {
      "text/plain": [
       "False"
      ]
     },
     "execution_count": 4,
     "metadata": {},
     "output_type": "execute_result"
    }
   ],
   "source": [
    "from functools import lru_cache\n",
    "\n",
    "@lru_cache(10000)\n",
    "def is_solved(discs=discs):\n",
    "    return all([rotate(d,i+1)[0] == \"#\" for i,d in enumerate(discs)])\n",
    "\n",
    "is_solved()"
   ]
  },
  {
   "cell_type": "markdown",
   "metadata": {},
   "source": [
    "Now to put all this together by rotating the discs one timestep at a time and checking if they now solve the puzzle:"
   ]
  },
  {
   "cell_type": "code",
   "execution_count": 11,
   "metadata": {},
   "outputs": [
    {
     "name": "stdout",
     "output_type": "stream",
     "text": [
      "Starting at time 0:\n",
      "d0 | .#............... |\n",
      "d1 |      #......      |\n",
      "d2 |..#................|\n",
      "d3 |       #....       |\n",
      "d4 |        #..        |\n",
      "d5 |   .....#.......   |\n",
      "---------------------------\n",
      "None\n",
      "passing through time 50000\n",
      "passing through time 100000\n",
      "passing through time 150000\n",
      "passing through time 200000\n",
      "passing through time 250000\n",
      "passing through time 300000\n",
      "The capsule should pass through at time 317371\n",
      "d0 | ................# |\n",
      "d1 |      .....#.      |\n",
      "d2 |................#..|\n",
      "d3 |       .#...       |\n",
      "d4 |        .#.        |\n",
      "d5 |   .......#.....   |\n",
      "---------------------------\n",
      "CPU times: user 1min 50s, sys: 1.11 s, total: 1min 51s\n",
      "Wall time: 1min 53s\n"
     ]
    },
    {
     "data": {
      "text/plain": [
       "317371"
      ]
     },
     "execution_count": 11,
     "metadata": {},
     "output_type": "execute_result"
    }
   ],
   "source": [
    "def solve(discs=discs):\n",
    "    t = 0\n",
    "    max_disc = max(len(d) for d in discs)\n",
    "    \n",
    "    print(f\"Starting at time {t}:\")\n",
    "    print(f\"{show_discs(discs)}\")\n",
    "    \n",
    "    while True:\n",
    "        if is_solved((tuple(d) for d in discs)):\n",
    "            print(f\"The capsule should pass through at time {t}\")\n",
    "            show_discs(discs)\n",
    "            return t\n",
    "        else:\n",
    "            discs = roll_discs(discs)\n",
    "            t += 1 # max_disc\n",
    "            \n",
    "            if t % 50000 == 0:\n",
    "                print(f\"passing through time {t}\")\n",
    "\n",
    "%time solve()"
   ]
  },
  {
   "cell_type": "markdown",
   "metadata": {},
   "source": [
    "`317371` is the right answer!"
   ]
  },
  {
   "cell_type": "markdown",
   "metadata": {},
   "source": [
    "# --- Part Two ---\n",
    "\n",
    "After getting the first capsule (it contained a star! what great fortune!), the machine detects your success and begins to rearrange itself.\n",
    "\n",
    "When it's done, the discs are back in their original configuration as if it were time=0 again, but a new disc with 11 positions and starting at position 0 has appeared exactly one second below the previously-bottom disc.\n",
    "\n",
    "**With this new disc, and counting again starting from time=0 with the configuration in your puzzle input, what is the first time you can press the button to get another capsule?**\n",
    "\n",
    "---\n",
    "\n",
    "First up, making the new discs:"
   ]
  },
  {
   "cell_type": "code",
   "execution_count": 5,
   "metadata": {},
   "outputs": [
    {
     "name": "stdout",
     "output_type": "stream",
     "text": [
      "d0 | .#............... |\n",
      "d1 |      #......      |\n",
      "d2 |..#................|\n",
      "d3 |       #....       |\n",
      "d4 |        #..        |\n",
      "d5 |   .....#.......   |\n",
      "d6 |    #..........    |\n",
      "---------------------------\n"
     ]
    }
   ],
   "source": [
    "disc_lengths_2 = [17, 7, 19, 5, 3, 13, 11]\n",
    "disc_start_positions_2 = [1, 0, 2, 0, 0, 5, 0]\n",
    "\n",
    "discs2 = [[\".\" for _ in range(i)] for i in disc_lengths_2]\n",
    "for disc, i in enumerate(disc_start_positions_2):\n",
    "    discs2[disc][i] = \"#\"\n",
    "    \n",
    "show_discs(discs2)"
   ]
  },
  {
   "cell_type": "markdown",
   "metadata": {},
   "source": [
    "My solution above is pretty slow, so by adding a new disc it will be really slow. So I'm writing a faster one:\n",
    "\n",
    "- **rotating the structure by the length of the longest disc**, which is disc 2 with length 19, taking into account that we first have to move it up to a position where it solves the puzzle, which is 14 rotations for both parts 1 and 2"
   ]
  },
  {
   "cell_type": "code",
   "execution_count": 6,
   "metadata": {},
   "outputs": [
    {
     "data": {
      "text/plain": [
       "array(['.', '.', '.', '.', '.', '.', '.', '.', '.', '.', '.', '.', '.',\n",
       "       '.', '.', '.', '#', '.', '.'], dtype='<U1')"
      ]
     },
     "execution_count": 6,
     "metadata": {},
     "output_type": "execute_result"
    }
   ],
   "source": [
    "rotate(discs[2],14)"
   ]
  },
  {
   "cell_type": "code",
   "execution_count": 17,
   "metadata": {},
   "outputs": [
    {
     "data": {
      "text/plain": [
       "2"
      ]
     },
     "execution_count": 17,
     "metadata": {},
     "output_type": "execute_result"
    }
   ],
   "source": [
    "disc_lengths = [len(d) for d in discs]\n",
    "big_disc_index = disc_lengths.index(max(disc_lengths))\n",
    "biggest_disc = discs[big_disc_index]\n",
    "\n",
    "biggest_disc.index(\"#\")"
   ]
  },
  {
   "cell_type": "code",
   "execution_count": 9,
   "metadata": {},
   "outputs": [
    {
     "name": "stderr",
     "output_type": "stream",
     "text": [
      "3833it [00:00, 38249.24it/s]"
     ]
    },
    {
     "name": "stdout",
     "output_type": "stream",
     "text": [
      "The discs initial state is:\n",
      "d0 | .#............... |\n",
      "d1 |      #......      |\n",
      "d2 |..#................|\n",
      "d3 |       #....       |\n",
      "d4 |        #..        |\n",
      "d5 |   .....#.......   |\n",
      "---------------------------\n",
      "None\n",
      "Starting at time 14:\n",
      "d0 | ...............#. |\n",
      "d1 |      #......      |\n",
      "d2 |................#..|\n",
      "d3 |       ....#       |\n",
      "d4 |        ..#        |\n",
      "d5 |   ......#......   |\n",
      "---------------------------\n",
      "None\n"
     ]
    },
    {
     "name": "stderr",
     "output_type": "stream",
     "text": [
      "317371it [00:07, 44203.00it/s]"
     ]
    },
    {
     "name": "stdout",
     "output_type": "stream",
     "text": [
      "The capsule will drop through at time 317371, where the discs will look like:\n",
      "d0 | ................# |\n",
      "d1 |      .....#.      |\n",
      "d2 |................#..|\n",
      "d3 |       .#...       |\n",
      "d4 |        .#.        |\n",
      "d5 |   .......#.....   |\n",
      "---------------------------\n"
     ]
    },
    {
     "name": "stderr",
     "output_type": "stream",
     "text": [
      "\n"
     ]
    }
   ],
   "source": [
    "def solve_faster(discs=discs):\n",
    "    \"\"\"solves faster by rotating the discs the length of the longest disc\"\"\"\n",
    "    t = 0\n",
    "    \n",
    "    print(\"The discs initial state is:\")\n",
    "    print(show_discs(discs))\n",
    "    \n",
    "    pbar = tqdm()\n",
    "    \n",
    "    # bring forward the biggest disc\n",
    "    discs = roll_discs(discs, 14)\n",
    "    t += 14\n",
    "    \n",
    "    pbar.update(14) # since we have already done 14 rolls\n",
    "    pbar.write(f\"Starting at time {t}:\")\n",
    "    pbar.write(f\"{show_discs(discs)}\")\n",
    "    \n",
    "    while True:\n",
    "        if is_solved((tuple(d) for d in discs)):\n",
    "            pbar.close()\n",
    "            print(f\"The capsule will drop through at time {t}, where the discs will look like:\")\n",
    "            show_discs(discs)\n",
    "            return t\n",
    "        else:\n",
    "            discs = roll_discs(discs, 19)\n",
    "            t += 19\n",
    "            pbar.update(19)\n",
    "            \n",
    "assert solve_faster(discs) == 317371"
   ]
  },
  {
   "cell_type": "markdown",
   "metadata": {},
   "source": [
    "Eureka, thats more than 10x faster than above! the main change here is moving forward 19 rolls at a time instead of 1."
   ]
  },
  {
   "cell_type": "code",
   "execution_count": 10,
   "metadata": {},
   "outputs": [
    {
     "name": "stderr",
     "output_type": "stream",
     "text": [
      "2123it [00:00, 21187.99it/s]"
     ]
    },
    {
     "name": "stdout",
     "output_type": "stream",
     "text": [
      "The discs initial state is:\n",
      "d0 | .#............... |\n",
      "d1 |      #......      |\n",
      "d2 |..#................|\n",
      "d3 |       #....       |\n",
      "d4 |        #..        |\n",
      "d5 |   .....#.......   |\n",
      "d6 |    #..........    |\n",
      "---------------------------\n",
      "None\n",
      "Starting at time 14:\n",
      "d0 | ...............#. |\n",
      "d1 |      #......      |\n",
      "d2 |................#..|\n",
      "d3 |       ....#       |\n",
      "d4 |        ..#        |\n",
      "d5 |   ......#......   |\n",
      "d6 |    ...#.......    |\n",
      "---------------------------\n",
      "None\n"
     ]
    },
    {
     "name": "stderr",
     "output_type": "stream",
     "text": [
      "2080951it [00:54, 38495.19it/s]"
     ]
    },
    {
     "name": "stdout",
     "output_type": "stream",
     "text": [
      "The capsule will drop through at time 2080951, where the discs will look like:\n",
      "d0 | ................# |\n",
      "d1 |      .....#.      |\n",
      "d2 |................#..|\n",
      "d3 |       .#...       |\n",
      "d4 |        .#.        |\n",
      "d5 |   .......#.....   |\n",
      "d6 |    ....#......    |\n",
      "---------------------------\n"
     ]
    },
    {
     "name": "stderr",
     "output_type": "stream",
     "text": [
      "\n"
     ]
    },
    {
     "data": {
      "text/plain": [
       "2080951"
      ]
     },
     "execution_count": 10,
     "metadata": {},
     "output_type": "execute_result"
    }
   ],
   "source": [
    "solve_faster(discs2)"
   ]
  },
  {
   "cell_type": "markdown",
   "metadata": {},
   "source": [
    "Part 2 answer: `2080951` for my input\n",
    "\n",
    "# Notes\n",
    "\n",
    "- lots of speed up which can be done, like not using arrays\n",
    "- why am i getting a None output in the solve_faster func?\n",
    "- rolling arrays isn't very fast, I could be using math instead, like `(if time + disc_position) % length_of_disc == 0` and do a and for all discs"
   ]
  },
  {
   "cell_type": "code",
   "execution_count": null,
   "metadata": {},
   "outputs": [],
   "source": []
  }
 ],
 "metadata": {
  "kernelspec": {
   "display_name": "Python 3",
   "language": "python",
   "name": "python3"
  },
  "language_info": {
   "codemirror_mode": {
    "name": "ipython",
    "version": 3
   },
   "file_extension": ".py",
   "mimetype": "text/x-python",
   "name": "python",
   "nbconvert_exporter": "python",
   "pygments_lexer": "ipython3",
   "version": "3.6.4"
  }
 },
 "nbformat": 4,
 "nbformat_minor": 2
}

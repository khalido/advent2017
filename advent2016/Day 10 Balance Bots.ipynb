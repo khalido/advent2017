{
 "cells": [
  {
   "cell_type": "markdown",
   "metadata": {},
   "source": [
    "# --- Day 10: Balance Bots ---\n",
    "\n",
    "http://adventofcode.com/2016/day/10\n",
    "\n",
    "You come upon a factory in which many robots are zooming around handing small microchips to each other.\n",
    "\n",
    "Upon closer examination, you notice that each bot only proceeds when it has two microchips, and once it does, it gives each one to a different bot or puts it in a marked \"output\" bin. Sometimes, bots take microchips from \"input\" bins, too.\n",
    "\n",
    "Inspecting one of the microchips, it seems like they each contain a single number; the bots must use some logic to decide what to do with each chip. You access the local control computer and download the bots' instructions (your puzzle input).\n",
    "\n",
    "Some of the instructions specify that a specific-valued microchip should be given to a specific bot; the rest of the instructions indicate what a given bot should do with its lower-value or higher-value chip.\n",
    "\n",
    "For example, consider the following instructions:\n",
    "\n",
    "```\n",
    "value 5 goes to bot 2\n",
    "bot 2 gives low to bot 1 and high to bot 0\n",
    "value 3 goes to bot 1\n",
    "bot 1 gives low to output 1 and high to bot 0\n",
    "bot 0 gives low to output 2 and high to output 0\n",
    "value 2 goes to bot 2\n",
    "```\n",
    "\n",
    "Initially, bot 1 starts with a value-3 chip, and bot 2 starts with a value-2 chip and a value-5 chip.\n",
    "Because bot 2 has two microchips, it gives its lower one (2) to bot 1 and its higher one (5) to bot 0.\n",
    "Then, bot 1 has two microchips; it puts the value-2 chip in output 1 and gives the value-3 chip to bot 0.\n",
    "Finally, bot 0 has two microchips; it puts the 3 in output 2 and the 5 in output 0.\n",
    "In the end, output bin 0 contains a value-5 microchip, output bin 1 contains a value-2 microchip, and output bin 2 contains a value-3 microchip. In this configuration, bot number 2 is responsible for comparing value-5 microchips with value-2 microchips.\n",
    "\n",
    "Based on your instructions, **what is the number of the bot that is responsible for comparing value-61 microchips with value-17 microchips?**"
   ]
  },
  {
   "cell_type": "code",
   "execution_count": 206,
   "metadata": {},
   "outputs": [
    {
     "name": "stdout",
     "output_type": "stream",
     "text": [
      "Length: 231\n"
     ]
    },
    {
     "data": {
      "text/plain": [
       "['bot 88 gives low to bot 51 and high to bot 42',\n",
       " 'bot 13 gives low to bot 4 and high to bot 167',\n",
       " 'bot 90 gives low to bot 78 and high to bot 199',\n",
       " 'bot 84 gives low to bot 205 and high to bot 201',\n",
       " 'bot 41 gives low to bot 48 and high to bot 15',\n",
       " 'bot 15 gives low to bot 156 and high to bot 54',\n",
       " 'bot 70 gives low to output 10 and high to bot 4',\n",
       " 'bot 140 gives low to bot 206 and high to bot 189',\n",
       " 'value 67 goes to bot 187',\n",
       " 'bot 124 gives low to bot 99 and high to bot 102']"
      ]
     },
     "execution_count": 206,
     "metadata": {},
     "output_type": "execute_result"
    }
   ],
   "source": [
    "with open(f'inputs/10.txt') as f:\n",
    "    data = f.read().strip().split(\"\\n\")\n",
    "print(\"Length:\", len(data))\n",
    "data[:10]"
   ]
  },
  {
   "cell_type": "code",
   "execution_count": 10,
   "metadata": {},
   "outputs": [],
   "source": [
    "import regex\n",
    "from collections import defaultdict"
   ]
  },
  {
   "cell_type": "code",
   "execution_count": 134,
   "metadata": {},
   "outputs": [
    {
     "name": "stdout",
     "output_type": "stream",
     "text": [
      "bot 71 contains [17, 61]\n"
     ]
    },
    {
     "data": {
      "text/plain": [
       "True"
      ]
     },
     "execution_count": 134,
     "metadata": {},
     "output_type": "execute_result"
    }
   ],
   "source": [
    "def check_bot(bot, x=17, y=61):\n",
    "    \"\"\"return True and prints bot name if it contains nums x and y, returns False otherwise\"\"\"\n",
    "    \n",
    "    if len(bots[bot]) < 2: return False\n",
    "    \n",
    "    if x in bots[bot] and y in bots[bot]:\n",
    "        print(bot, \"contains\", bots[bot])\n",
    "        return True\n",
    "    else:\n",
    "        return False\n",
    "bots['bot 71'] = [17, 61]\n",
    "check_bot('bot 71')"
   ]
  },
  {
   "cell_type": "code",
   "execution_count": 172,
   "metadata": {},
   "outputs": [],
   "source": [
    "def step(line):\n",
    "    \"\"\"performs the instructions passed in\"\"\"\n",
    "    \n",
    "    if line.startswith(\"bot\"):\n",
    "        p = r'(bot \\d+) gives low to (\\w+ \\d+) and high to (\\w+ \\d+)'\n",
    "        giving_bot, low_bot, high_bot = regex.findall(p, line)[0]\n",
    "        \n",
    "        # don't do the instruction if the bot doesn't have 2 chips\n",
    "        if len(bots[giving_bot]) < 2:\n",
    "            return False\n",
    "        \n",
    "        # checking only the giving bot as thats the one which actually does the comparision\n",
    "        # this could fail if the bot comparing is never called to do so and just holds on the to the chip \n",
    "        check_bot(giving_bot)\n",
    "        \n",
    "        low_val = min(bots[giving_bot])\n",
    "        bots[giving_bot].remove(low_val)\n",
    "        bots[low_bot].append(low_val)\n",
    "        \n",
    "        high_val = max(bots[giving_bot])\n",
    "        bots[giving_bot].remove(high_val)\n",
    "        bots[high_bot].append(high_val)\n",
    "        \n",
    "    elif line.startswith(\"value\"):\n",
    "        p = r'value (\\d+) goes to (bot \\d+)'\n",
    "        val, bot = regex.findall(p, line)[0]\n",
    "        bots[bot].append(int(val))\n",
    "        \n",
    "    else:\n",
    "        print(f\"can't deal with: {line}\")\n",
    "    \n",
    "    return True"
   ]
  },
  {
   "cell_type": "markdown",
   "metadata": {},
   "source": [
    "Running the instructions in one loop didn't work, so I'm going to keep running them until stuff happens:"
   ]
  },
  {
   "cell_type": "code",
   "execution_count": 192,
   "metadata": {},
   "outputs": [
    {
     "name": "stdout",
     "output_type": "stream",
     "text": [
      "bot 27 contains [61, 17]\n"
     ]
    }
   ],
   "source": [
    "bots = defaultdict(list) # well bots and the output buffers both\n",
    "\n",
    "with open(f'inputs/10.txt') as f:\n",
    "    data = f.read().strip().split(\"\\n\")\n",
    "\n",
    "i = 0\n",
    "\n",
    "# we keep looping through the instructions until they are all executed\n",
    "while len(data) > 0: \n",
    "    i = (i+1) % len(data)\n",
    "    if step(data[i]):\n",
    "        del data[i]"
   ]
  },
  {
   "cell_type": "markdown",
   "metadata": {},
   "source": [
    "# --- Part Two ---\n",
    "\n",
    "What do you get if you multiply together the values of one chip in each of outputs 0, 1, and 2?\n",
    "\n",
    "---\n",
    "\n",
    "Grabbing the first three outputs, assuming they all have only one number:"
   ]
  },
  {
   "cell_type": "code",
   "execution_count": 204,
   "metadata": {},
   "outputs": [
    {
     "data": {
      "text/plain": [
       "[7, 53, 37]"
      ]
     },
     "execution_count": 204,
     "metadata": {},
     "output_type": "execute_result"
    }
   ],
   "source": [
    "outputs = [bots[f\"output {p}\"][0] for p in range(3)]\n",
    "outputs"
   ]
  },
  {
   "cell_type": "markdown",
   "metadata": {},
   "source": [
    "Multiplying them together:"
   ]
  },
  {
   "cell_type": "code",
   "execution_count": 202,
   "metadata": {},
   "outputs": [
    {
     "data": {
      "text/plain": [
       "13727"
      ]
     },
     "execution_count": 202,
     "metadata": {},
     "output_type": "execute_result"
    }
   ],
   "source": [
    "import numpy as np\n",
    "np.prod(outputs)"
   ]
  },
  {
   "cell_type": "markdown",
   "metadata": {},
   "source": [
    "I've always wanted to use reduce more, despite [what this guys says about it](https://www.artima.com/weblogs/viewpost.jsp?thread=98196), so here goes:"
   ]
  },
  {
   "cell_type": "code",
   "execution_count": 203,
   "metadata": {},
   "outputs": [
    {
     "data": {
      "text/plain": [
       "13727"
      ]
     },
     "execution_count": 203,
     "metadata": {},
     "output_type": "execute_result"
    }
   ],
   "source": [
    "from functools import reduce\n",
    "reduce(lambda x, y: x*y, outputs)"
   ]
  },
  {
   "cell_type": "markdown",
   "metadata": {},
   "source": [
    "`13727`\n",
    "\n",
    "# Notes\n",
    "\n",
    "- this was an interesting problem, becuase it wasn't clear what to do."
   ]
  }
 ],
 "metadata": {
  "kernelspec": {
   "display_name": "Python 3",
   "language": "python",
   "name": "python3"
  },
  "language_info": {
   "codemirror_mode": {
    "name": "ipython",
    "version": 3
   },
   "file_extension": ".py",
   "mimetype": "text/x-python",
   "name": "python",
   "nbconvert_exporter": "python",
   "pygments_lexer": "ipython3",
   "version": "3.6.4"
  }
 },
 "nbformat": 4,
 "nbformat_minor": 2
}

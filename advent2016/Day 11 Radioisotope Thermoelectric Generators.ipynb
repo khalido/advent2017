{
 "cells": [
  {
   "cell_type": "markdown",
   "metadata": {},
   "source": [
    "# --- Day 11: Radioisotope Thermoelectric Generators ---\n",
    "\n",
    "http://adventofcode.com/2016/day/11"
   ]
  },
  {
   "cell_type": "markdown",
   "metadata": {},
   "source": [
    "---\n",
    "\n",
    "Four floors, we need to know the min num of moves to move all items to the fourth floor, with constraints being:\n",
    "\n",
    "- two types of items, RTGs and Chips, both of which have a type\n",
    "- an elevator which can carry two items, and only works if it contains at least one\n",
    "- chips are damanged if on same floor as another kind of RTGs\n",
    "- chips are safe if coupled with their RTG"
   ]
  },
  {
   "cell_type": "code",
   "execution_count": 7,
   "metadata": {},
   "outputs": [
    {
     "data": {
      "text/plain": [
       "['The first floor contains a polonium generator, a thulium generator, a thulium-compatible microchip, a promethium generator, a ruthenium generator, a ruthenium-compatible microchip, a cobalt generator, and a cobalt-compatible microchip.',\n",
       " 'The second floor contains a polonium-compatible microchip and a promethium-compatible microchip.',\n",
       " 'The third floor contains nothing relevant.',\n",
       " 'The fourth floor contains nothing relevant.']"
      ]
     },
     "execution_count": 7,
     "metadata": {},
     "output_type": "execute_result"
    }
   ],
   "source": [
    "with open(f'inputs/11.txt') as f:\n",
    "    data = f.read().strip().splitlines()\n",
    "data"
   ]
  },
  {
   "cell_type": "markdown",
   "metadata": {},
   "source": [
    "I started making a class which contains what the state floors and elevators is and methods to move things, but it seemed way too much code then just using namedtuple. So the following state tuple captures all the information of our \"world\" at a given point in time:"
   ]
  },
  {
   "cell_type": "code",
   "execution_count": 8,
   "metadata": {},
   "outputs": [
    {
     "data": {
      "text/plain": [
       "State(elavator=0, steps=0, floors=(('POG', 'THG', 'THM', 'PRG', 'RUG', 'RUM', 'COG', 'COM'), ('POM', 'PRM'), (), ()))"
      ]
     },
     "execution_count": 8,
     "metadata": {},
     "output_type": "execute_result"
    }
   ],
   "source": [
    "from collections import namedtuple, defaultdict, deque\n",
    "\n",
    "state = namedtuple(\"State\", [\"elavator\", \"steps\", \"floors\"])\n",
    "\n",
    "one = (\"POG\", \"THG\", \"THM\", \"PRG\", \"RUG\", \"RUM\", \"COG\", \"COM\")\n",
    "two = (\"POM\", \"PRM\")\n",
    "three, four = (), ()\n",
    "\n",
    "#start_state = state(1, {1: one, 2: two, 3:three, 4:four}\n",
    "start_state = state(elavator=0,steps=0, floors=(one, two, three, four))\n",
    "start_state"
   ]
  },
  {
   "cell_type": "markdown",
   "metadata": {},
   "source": [
    "the test state:"
   ]
  },
  {
   "cell_type": "code",
   "execution_count": 9,
   "metadata": {},
   "outputs": [
    {
     "data": {
      "text/plain": [
       "State(elavator=0, steps=0, floors=(('HYM', 'LIM'), ('HYG',), ('LIG',), ()))"
      ]
     },
     "execution_count": 9,
     "metadata": {},
     "output_type": "execute_result"
    }
   ],
   "source": [
    "test_floors = ((\"HYM\", \"LIM\"), (\"HYG\",), (\"LIG\",), ())\n",
    "test_state = state(0, 0, test_floors)\n",
    "test_state"
   ]
  },
  {
   "cell_type": "markdown",
   "metadata": {},
   "source": [
    "Since I want to [build a graph using a dict](https://github.com/khalido/adventofcode2017/blob/master/Day%2012%20-%20Digital%20Plumber.ipynb), I want to make sure I can use this in a dict:"
   ]
  },
  {
   "cell_type": "code",
   "execution_count": 10,
   "metadata": {},
   "outputs": [
    {
     "data": {
      "text/plain": [
       "defaultdict(list,\n",
       "            {State(elavator=0, steps=0, floors=(('POG', 'THG', 'THM', 'PRG', 'RUG', 'RUM', 'COG', 'COM'), ('POM', 'PRM'), (), ())): [State(elavator=0, steps=0, floors=(('POG', 'THG', 'THM', 'PRG', 'RUG', 'RUM', 'COG', 'COM'), ('POM', 'PRM'), (), ())),\n",
       "              State(elavator=0, steps=0, floors=(('POG', 'THG', 'THM', 'PRG', 'RUG', 'RUM', 'COG', 'COM'), ('POM', 'PRM'), (), ()))]})"
      ]
     },
     "execution_count": 10,
     "metadata": {},
     "output_type": "execute_result"
    }
   ],
   "source": [
    "d = defaultdict(list)\n",
    "d[start_state] = [start_state, start_state]\n",
    "d"
   ]
  },
  {
   "cell_type": "markdown",
   "metadata": {},
   "source": [
    "I had to modify the state function so it used immutable objects otherwise I couldn't use it as a dict key.\n",
    "\n",
    "So now I need a function which keeps moving objects until they all are on the fourth floor. There are must be many difffernt ways to move everything to the top, so this is a path problem - I have a start state, from which I can move to many diffeerent possible states, and so on, with some of them ending in the solution, so I need a way to build out a graph and find the shortest path to our end goal.\n",
    "\n",
    "First up helper functions:"
   ]
  },
  {
   "cell_type": "code",
   "execution_count": 11,
   "metadata": {},
   "outputs": [
    {
     "data": {
      "text/plain": [
       "(False, True)"
      ]
     },
     "execution_count": 11,
     "metadata": {},
     "output_type": "execute_result"
    }
   ],
   "source": [
    "def reached_goal(st):\n",
    "    \"\"\"returns True if state is at the goal of everything being at the fourth floor\"\"\"\n",
    "    if not (st.floors[0] or st.floors[1] or st.floors[2]):\n",
    "        return True\n",
    "    else:\n",
    "        return False\n",
    "\n",
    "solved_state = state(3, 4, ((), (), (), (1,2)))\n",
    "reached_goal(start_state), reached_goal(solved_state)"
   ]
  },
  {
   "cell_type": "markdown",
   "metadata": {},
   "source": [
    "Now to check if a given floor or state is valid:\n",
    "**make legal_floor func faster, doesn't look optimal atm**"
   ]
  },
  {
   "cell_type": "code",
   "execution_count": 12,
   "metadata": {},
   "outputs": [
    {
     "data": {
      "text/plain": [
       "(True, False)"
      ]
     },
     "execution_count": 12,
     "metadata": {},
     "output_type": "execute_result"
    }
   ],
   "source": [
    "def is_legal_floor(floor):\n",
    "    \"\"\"takes in floor, returns True if valid, false otherwise\n",
    "    Note: refactor to make this faster\"\"\"\n",
    "    gens = {i[:2] for i in floor if i[-1] == \"G\"}\n",
    "    chips = {i[:2] for i in floor if i[-1] == \"M\"}\n",
    "    \n",
    "    # check that every chip has a corresponding gen\n",
    "    for chip in chips:\n",
    "        if chip not in gens and len(gens) > 0:\n",
    "            return False \n",
    "    return True\n",
    "        \n",
    "def is_valid(state):\n",
    "    \"\"\"takes in a state and returns True if valid, false otherwise\n",
    "    determines validity to be if no chips have been fried\"\"\"\n",
    "    for floor_num, floor in enumerate(state.floors):\n",
    "        if not is_legal_floor(floor):\n",
    "            return False\n",
    "    return True\n",
    "        \n",
    "invalid_state = state(1,0, ((\"POM\", \"PRM\", \"RUG\"), two, three, four))\n",
    "is_valid(start_state), is_valid(invalid_state)"
   ]
  },
  {
   "cell_type": "markdown",
   "metadata": {},
   "source": [
    "Now to generate a graph of states, one leading to the next. The elavator has to move at least one item, with a max of two, so one way to generate all the possible moves is to generate a list of all possible combinations of items on a floor which can be moved:"
   ]
  },
  {
   "cell_type": "code",
   "execution_count": 13,
   "metadata": {},
   "outputs": [
    {
     "data": {
      "text/plain": [
       "[('POG', 'THG'),\n",
       " ('POG', 'THM'),\n",
       " ('POG', 'PRG'),\n",
       " ('POG', 'RUG'),\n",
       " ('POG', 'RUM'),\n",
       " ('POG', 'COG'),\n",
       " ('POG', 'COM'),\n",
       " ('THG', 'THM'),\n",
       " ('THG', 'PRG'),\n",
       " ('THG', 'RUG'),\n",
       " ('THG', 'RUM'),\n",
       " ('THG', 'COG'),\n",
       " ('THG', 'COM'),\n",
       " ('THM', 'PRG'),\n",
       " ('THM', 'RUG'),\n",
       " ('THM', 'RUM'),\n",
       " ('THM', 'COG'),\n",
       " ('THM', 'COM'),\n",
       " ('PRG', 'RUG'),\n",
       " ('PRG', 'RUM'),\n",
       " ('PRG', 'COG'),\n",
       " ('PRG', 'COM'),\n",
       " ('RUG', 'COG'),\n",
       " ('RUG', 'COM'),\n",
       " ('RUM', 'COG'),\n",
       " ('RUM', 'COM'),\n",
       " ('POG',),\n",
       " ('THG',),\n",
       " ('THM',),\n",
       " ('PRG',),\n",
       " ('RUG',),\n",
       " ('RUM',),\n",
       " ('COG',),\n",
       " ('COM',)]"
      ]
     },
     "execution_count": 13,
     "metadata": {},
     "output_type": "execute_result"
    }
   ],
   "source": [
    "from itertools import combinations, chain\n",
    "\n",
    "def filter_pairs(pairs):\n",
    "    \"\"\"takes in a list of pairs and removes equivalent pairs\n",
    "    since all matching chip/gen pairs are the same for this problem\"\"\"\n",
    "    \n",
    "    equivalent_pairs = [p for p in pairs if p[0][:-1]==p[1][:-1]]\n",
    "    if len(equivalent_pairs) > 1:\n",
    "        #keep first one, delete others\n",
    "        return [p for p in pairs if p not in equivalent_pairs[1:]]\n",
    "        \n",
    "    return pairs\n",
    "\n",
    "def get_combos(floor):\n",
    "    \"\"\"returns combinations of paris, filtering for equivalent pairs\"\"\"\n",
    "    pairs = filter_pairs([i for i in combinations(floor, 2)])\n",
    "    singles = [i for i in combinations(floor, 1)]\n",
    "    \n",
    "    return pairs + singles\n",
    "\n",
    "get_combos(start_state.floors[0])"
   ]
  },
  {
   "cell_type": "markdown",
   "metadata": {},
   "source": [
    "Now to get a list of all possible states given a certain state. Notes:\n",
    "\n",
    "- Since I'm storing floors as a tuple of tuples so I can hash states into a dict, first up I need to convert floors into a list\n",
    "- use sets to add and remove items from a floor"
   ]
  },
  {
   "cell_type": "code",
   "execution_count": 14,
   "metadata": {},
   "outputs": [
    {
     "data": {
      "text/plain": [
       "[State(elavator=1, steps=1, floors=(('COG', 'RUG', 'THG', 'POG', 'COM', 'PRG'), ('RUM', 'THM', 'PRM', 'POM'), (), ())),\n",
       " State(elavator=1, steps=1, floors=(('COG', 'RUG', 'THG', 'THM', 'POG', 'PRG'), ('RUM', 'COM', 'PRM', 'POM'), (), ())),\n",
       " State(elavator=1, steps=1, floors=(('RUM', 'COG', 'RUG', 'THG', 'POG', 'PRG'), ('THM', 'PRM', 'COM', 'POM'), (), ())),\n",
       " State(elavator=1, steps=1, floors=(('RUM', 'COG', 'RUG', 'THG', 'THM', 'COM'), ('PRG', 'PRM', 'POG', 'POM'), (), ())),\n",
       " State(elavator=1, steps=1, floors=(('COG', 'RUG', 'THG', 'THM', 'POG', 'COM', 'PRG'), ('RUM', 'PRM', 'POM'), (), ())),\n",
       " State(elavator=1, steps=1, floors=(('RUM', 'COG', 'RUG', 'THG', 'POG', 'COM', 'PRG'), ('THM', 'PRM', 'POM'), (), ())),\n",
       " State(elavator=1, steps=1, floors=(('RUM', 'COG', 'RUG', 'THG', 'THM', 'POG', 'PRG'), ('COM', 'PRM', 'POM'), (), ()))]"
      ]
     },
     "execution_count": 14,
     "metadata": {},
     "output_type": "execute_result"
    }
   ],
   "source": [
    "def get_states(st):\n",
    "    \"\"\"takes in a state and returns all possible states\"\"\"\n",
    "    \n",
    "    elavator = st.elavator\n",
    "    floors = list(set(floor) for floor in st.floors)\n",
    "    \n",
    "    floors_to_modify = [i for i in range(elavator-1, elavator+2) if (i>=0 and i is not elavator and i<=3)]\n",
    "    \n",
    "    for fl in floors_to_modify[::-1]: # to prioritize going up\n",
    "        for c in get_combos(floors[elavator]):\n",
    "            new_floor = floors[fl] | set(c) # add new items to the floor they are moving to\n",
    "            elavator_floor = floors[elavator] - set(c) # remove the items from the elevator floor\n",
    "            \n",
    "            if is_legal_floor(new_floor) and is_legal_floor(elavator_floor):\n",
    "                new_floors = list(tuple(sorted(floor)) for floor in st.floors)\n",
    "                new_floors[fl] = tuple(new_floor) # updating the floor items are moving to\n",
    "                new_floors[elavator] = tuple(elavator_floor) # changing the elavotor floor\n",
    "                \n",
    "                yield state(elavator=fl, steps=st.steps+1, floors=tuple(new_floors))\n",
    "    \n",
    "[i for i in get_states(start_state)]"
   ]
  },
  {
   "cell_type": "markdown",
   "metadata": {},
   "source": [
    "So that seems to be working properly, now to solve this. Notes:\n",
    "\n",
    "- I was using a python list as a stack of states to check, but turns out this takes O(n) time to pop the first node, so switched to [deque](https://docs.python.org/3/library/collections.html#collections.deque)"
   ]
  },
  {
   "cell_type": "code",
   "execution_count": 15,
   "metadata": {},
   "outputs": [
    {
     "name": "stdout",
     "output_type": "stream",
     "text": [
      "CPU times: user 32 ms, sys: 0 ns, total: 32 ms\n",
      "Wall time: 33 ms\n"
     ]
    },
    {
     "data": {
      "text/plain": [
       "State(elavator=3, steps=11, floors=((), (), (), ('LIG', 'LIM', 'HYG', 'HYM')))"
      ]
     },
     "execution_count": 15,
     "metadata": {},
     "output_type": "execute_result"
    }
   ],
   "source": [
    "def solve(st):\n",
    "    \"\"\"takes in a start state and returns first state which solves the problem\"\"\"\n",
    "    stack = deque()\n",
    "    stack.append(st)\n",
    "\n",
    "    seen = set()\n",
    "\n",
    "    st = stack.popleft()\n",
    "\n",
    "    while not reached_goal(st):\n",
    "        if st not in seen:\n",
    "            stack.extend([i for i in get_states(st) if i not in seen]) # add all new unseen states to the stack\n",
    "        seen.add(st) # have now processed this state\n",
    "        \n",
    "        st = stack.popleft() # pop the first in state\n",
    "\n",
    "    return st\n",
    "\n",
    "%time solve(test_state)"
   ]
  },
  {
   "cell_type": "code",
   "execution_count": null,
   "metadata": {},
   "outputs": [],
   "source": [
    "%time solve(start_state)"
   ]
  },
  {
   "cell_type": "markdown",
   "metadata": {},
   "source": [
    "`47` is the right ans for my puzzle input, but 5 min is a long time!"
   ]
  },
  {
   "cell_type": "markdown",
   "metadata": {},
   "source": [
    "# --- Part Two ---\n",
    "\n",
    "You step into the cleanroom separating the lobby from the isolated area and put on the hazmat suit.\n",
    "\n",
    "Upon entering the isolated containment area, however, you notice some extra parts on the first floor that weren't listed on the record outside:\n",
    "\n",
    "- An elerium generator.\n",
    "- An elerium-compatible microchip.\n",
    "- A dilithium generator.\n",
    "- A dilithium-compatible microchip.\n",
    "\n",
    "These work just like the other generators and microchips. You'll have to get them up to assembly as well.\n",
    "\n",
    "What is the minimum number of steps required to bring all of the objects, including these four new ones, to the fourth floor?"
   ]
  },
  {
   "cell_type": "markdown",
   "metadata": {},
   "source": [
    "---\n",
    "\n",
    "So this is exactly the same as above, but with a much bigger search space. So my 5 min solution is not going to cut the mustard here...\n",
    "\n",
    "First up, the new starting state is:"
   ]
  },
  {
   "cell_type": "code",
   "execution_count": 16,
   "metadata": {},
   "outputs": [
    {
     "data": {
      "text/plain": [
       "State(elavator=0, steps=0, floors=(('POG', 'THG', 'THM', 'PRG', 'RUG', 'RUM', 'COG', 'COM', 'ELG', 'ELM', 'DIG', 'DIM'), ('POM', 'PRM'), (), ()))"
      ]
     },
     "execution_count": 16,
     "metadata": {},
     "output_type": "execute_result"
    }
   ],
   "source": [
    "one = (\"POG\", \"THG\", \"THM\", \"PRG\", \"RUG\", \"RUM\", \"COG\", \"COM\", \"ELG\", \"ELM\", \"DIG\", \"DIM\")\n",
    "two = (\"POM\", \"PRM\")\n",
    "three, four = (), ()\n",
    "\n",
    "second_puzzle_state = state(elavator=0,steps=0, floors=(one, two, three, four))\n",
    "second_puzzle_state"
   ]
  },
  {
   "cell_type": "markdown",
   "metadata": {},
   "source": [
    "This is much longer than the first puzzle, so I need to speed up my solution.\n",
    "\n",
    "- **filter out states which are the same for this problem** all matched chip and gen are interchangeble for other matched chip/gen pairs in this problem.\n",
    "- implement a better solution like [a star](https://www.redblobgames.com/pathfinding/a-star/introduction.html) - not done yet\n",
    "\n",
    "So first up I need a way to check if a state is similar to another, which I do by the following really horrible hash state which:\n",
    "\n",
    "- removes the pairs from the list of floors and saves that in a seperate pairs tuple\n",
    "- sorts the floors and puts them in a list\n",
    "- returns a string\n",
    "\n",
    "BUT the `make_hash` func is doing a lot of steps. simplify!"
   ]
  },
  {
   "cell_type": "code",
   "execution_count": 17,
   "metadata": {},
   "outputs": [
    {
     "name": "stdout",
     "output_type": "stream",
     "text": [
      "CPU times: user 0 ns, sys: 0 ns, total: 0 ns\n",
      "Wall time: 39.8 µs\n"
     ]
    },
    {
     "data": {
      "text/plain": [
       "'0_0_3_0_0_0POGPRG_POMPRM__'"
      ]
     },
     "execution_count": 17,
     "metadata": {},
     "output_type": "execute_result"
    }
   ],
   "source": [
    "hash_state = namedtuple(\"HashState\", [\"elavator\", \"steps\", \"pairs\", \"floors\"])\n",
    "from functools import lru_cache\n",
    "\n",
    "@lru_cache(maxsize=2**16)\n",
    "def make_hash(st):\n",
    "    \"\"\"takes in a state and returns its hashed state which treats chip/gen pairs equally\"\"\"\n",
    "    floors = [list(fl) for fl in st.floors]\n",
    "    num_pairs = [0 for _ in range(4)]\n",
    "    \n",
    "    for i, fl in enumerate(floors):\n",
    "        # find num of matching gen/chip pair\n",
    "        gens = {i[:2] for i in fl if i[-1] == \"G\"}\n",
    "        chips = {i[:2] for i in fl if i[-1] == \"M\"}\n",
    "        pairs = gens & chips\n",
    "        # remove the pairs from the list of items\n",
    "        floors[i] = \"\".join(sorted([i for i in fl if i[:-1] not in pairs]))\n",
    "        num_pairs[i] = len(pairs)\n",
    "    \n",
    "    return str(st.elavator) + \"_\" + str(st.steps) +\"_\" \\\n",
    "    + \"_\".join([str(i) for i in num_pairs]) \\\n",
    "    + \"_\".join(floors)\n",
    "\n",
    "%time make_hash(start_state)"
   ]
  },
  {
   "cell_type": "markdown",
   "metadata": {},
   "source": [
    "Another optimization step is to filter out some states, specifically:\n",
    "\n",
    "- once first floor is empty, don't move items back down to it \n",
    "- TODO: when moving items down, if can move 1 item down, then don't move two items down. This is becuase in situations we have to move 1 item down, then move 2 items back up, but there is no cause where moving a matched chip/gen pair down a floor helps."
   ]
  },
  {
   "cell_type": "code",
   "execution_count": 18,
   "metadata": {},
   "outputs": [
    {
     "data": {
      "text/plain": [
       "[State(elavator=3, steps=4, floors=((), (), (), (1, 2)))]"
      ]
     },
     "execution_count": 18,
     "metadata": {},
     "output_type": "execute_result"
    }
   ],
   "source": [
    "def filter_states(states):\n",
    "    \"\"\"only returns states with first floor empty. if doesn't find such a state returns all\n",
    "    the states passed in.\n",
    "    TODO: add more filters\"\"\"\n",
    "    first_floor_empty = [st for st in states if st.floors[0] == ()]\n",
    "    if first_floor_empty != []:\n",
    "        return first_floor_empty\n",
    "    return states\n",
    "    \n",
    "filter_states([start_state, second_puzzle_state, solved_state])"
   ]
  },
  {
   "cell_type": "code",
   "execution_count": 19,
   "metadata": {},
   "outputs": [
    {
     "data": {
      "text/plain": [
       "[State(elavator=1, steps=1, floors=(('COG', 'RUG', 'THG', 'POG', 'COM', 'PRG'), ('RUM', 'THM', 'PRM', 'POM'), (), ())),\n",
       " State(elavator=1, steps=1, floors=(('COG', 'RUG', 'THG', 'THM', 'POG', 'PRG'), ('RUM', 'COM', 'PRM', 'POM'), (), ())),\n",
       " State(elavator=1, steps=1, floors=(('RUM', 'COG', 'RUG', 'THG', 'POG', 'PRG'), ('THM', 'PRM', 'COM', 'POM'), (), ())),\n",
       " State(elavator=1, steps=1, floors=(('RUM', 'COG', 'RUG', 'THG', 'THM', 'COM'), ('PRG', 'PRM', 'POG', 'POM'), (), ())),\n",
       " State(elavator=1, steps=1, floors=(('COG', 'RUG', 'THG', 'THM', 'POG', 'COM', 'PRG'), ('RUM', 'PRM', 'POM'), (), ())),\n",
       " State(elavator=1, steps=1, floors=(('RUM', 'COG', 'RUG', 'THG', 'POG', 'COM', 'PRG'), ('THM', 'PRM', 'POM'), (), ())),\n",
       " State(elavator=1, steps=1, floors=(('RUM', 'COG', 'RUG', 'THG', 'THM', 'POG', 'PRG'), ('COM', 'PRM', 'POM'), (), ()))]"
      ]
     },
     "execution_count": 19,
     "metadata": {},
     "output_type": "execute_result"
    }
   ],
   "source": [
    "def get_filtered_states(st):\n",
    "    \"\"\"takes in a state and returns the states which progresses towards our goals\"\"\"\n",
    "    \n",
    "    #TODO: modify this func so it deals with up and down floors seperately\n",
    "    # if can move one item down then only return those states, only deal with two down if no one items\n",
    "    \n",
    "    elavator = st.elavator\n",
    "    floors = list(set(floor) for floor in st.floors)\n",
    "    \n",
    "    floors_to_modify = [i for i in range(elavator-1, elavator+2) if (i>=0 and i is not elavator and i<=3)]\n",
    "    \n",
    "    for fl in floors_to_modify[::-1]: # to prioritize going up\n",
    "        for c in get_combos(floors[elavator]):\n",
    "            new_floor = floors[fl] | set(c) # add new items to the floor they are moving to\n",
    "            elavator_floor = floors[elavator] - set(c) # remove the items from the elevator floor\n",
    "            \n",
    "            if is_legal_floor(new_floor) and is_legal_floor(elavator_floor):\n",
    "                new_floors = list(tuple(sorted(floor)) for floor in st.floors)\n",
    "                new_floors[fl] = tuple(new_floor) # updating the floor items are moving to\n",
    "                new_floors[elavator] = tuple(elavator_floor) # changing the elavotor floor\n",
    "                \n",
    "                yield state(elavator=fl, steps=st.steps+1, floors=tuple(new_floors))\n",
    "    \n",
    "[i for i in get_states(start_state)]"
   ]
  },
  {
   "cell_type": "code",
   "execution_count": 20,
   "metadata": {},
   "outputs": [
    {
     "name": "stdout",
     "output_type": "stream",
     "text": [
      "CPU times: user 40 ms, sys: 0 ns, total: 40 ms\n",
      "Wall time: 38.6 ms\n"
     ]
    },
    {
     "data": {
      "text/plain": [
       "State(elavator=3, steps=11, floors=((), (), (), ('LIG', 'LIM', 'HYG', 'HYM')))"
      ]
     },
     "execution_count": 20,
     "metadata": {},
     "output_type": "execute_result"
    }
   ],
   "source": [
    "def solve_faster(st):\n",
    "    \"\"\"takes in a start state and returns first state which solves the problem\"\"\"\n",
    "    stack = deque()\n",
    "    stack.append(st)\n",
    "\n",
    "    seen = set()\n",
    "\n",
    "    st = stack.popleft()\n",
    "    \n",
    "    i = 0 # for the prints\n",
    "    \n",
    "    while not reached_goal(st):\n",
    "        hashed_state = make_hash(st)\n",
    "        if hashed_state not in seen:\n",
    "            new_states = filter_states([i for i in get_states(st) if make_hash(i) not in seen])\n",
    "            stack.extend(new_states) # add all new unseen states to the stack\n",
    "            \n",
    "        seen.add(hashed_state) # have now processed this state\n",
    "        \n",
    "        st = stack.popleft() # pop the first in state\n",
    "        \n",
    "        i += 1\n",
    "        if i % 1000000 == 0:\n",
    "            print(f\"on loop {i:14,d} looking at:\")\n",
    "            print(st)\n",
    "    \n",
    "    return st\n",
    "\n",
    "%time solve_faster(test_state)"
   ]
  },
  {
   "cell_type": "code",
   "execution_count": 21,
   "metadata": {},
   "outputs": [
    {
     "name": "stdout",
     "output_type": "stream",
     "text": [
      "on loop        900,000 looking at:\n",
      "State(elavator=0, steps=28, floors=(('THG', 'THM', 'RUG'), ('PRG', 'COG', 'POG'), ('PRM', 'RUM'), ('COM', 'POM')))\n",
      "on loop      1,800,000 looking at:\n",
      "State(elavator=0, steps=34, floors=(('THG', 'RUM', 'COG', 'RUG', 'PRG'), (), ('POG', 'POM'), ('COM', 'PRM', 'THM')))\n",
      "on loop      2,700,000 looking at:\n",
      "State(elavator=1, steps=39, floors=((), ('THG', 'THM', 'COG', 'PRM', 'POG', 'RUG', 'COM', 'PRG', 'POM'), (), ('RUM',)))\n",
      "on loop      3,600,000 looking at:\n",
      "State(elavator=0, steps=44, floors=(('THG', 'RUM', 'PRM', 'POG', 'COG', 'RUG', 'PRG', 'POM'), (), (), ('COM', 'THM')))\n",
      "CPU times: user 2min 54s, sys: 232 ms, total: 2min 54s\n",
      "Wall time: 2min 54s\n"
     ]
    },
    {
     "data": {
      "text/plain": [
       "State(elavator=3, steps=47, floors=((), (), (), ('RUM', 'COG', 'RUG', 'THG', 'THM', 'PRM', 'POG', 'COM', 'PRG', 'POM')))"
      ]
     },
     "execution_count": 21,
     "metadata": {},
     "output_type": "execute_result"
    }
   ],
   "source": [
    "%time solve_faster(start_state)"
   ]
  },
  {
   "cell_type": "markdown",
   "metadata": {},
   "source": [
    "So `solve_faster` is only 2x faster than my original solver at ~3min - that is still very slow, the reddit hints suggest I should be able to solve this in under a min. So there is no way it can solve the second puzzle part."
   ]
  },
  {
   "cell_type": "code",
   "execution_count": null,
   "metadata": {},
   "outputs": [],
   "source": [
    "solve_faster(second_puzzle_state)"
   ]
  }
 ],
 "metadata": {
  "kernelspec": {
   "display_name": "Python 3",
   "language": "python",
   "name": "python3"
  },
  "language_info": {
   "codemirror_mode": {
    "name": "ipython",
    "version": 3
   },
   "file_extension": ".py",
   "mimetype": "text/x-python",
   "name": "python",
   "nbconvert_exporter": "python",
   "pygments_lexer": "ipython3",
   "version": "3.6.3"
  }
 },
 "nbformat": 4,
 "nbformat_minor": 2
}

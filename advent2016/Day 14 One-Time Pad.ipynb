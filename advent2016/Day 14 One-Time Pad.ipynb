{
 "cells": [
  {
   "cell_type": "markdown",
   "metadata": {},
   "source": [
    "# --- Day 14: One-Time Pad ---\n",
    "\n",
    "In order to communicate securely with Santa while you're on this mission, you've been using a one-time pad that you generate using a pre-agreed algorithm. Unfortunately, you've run out of keys in your one-time pad, and so you need to generate some more.\n",
    "\n",
    "To generate keys, you first get a stream of random data by taking the MD5 of a pre-arranged salt (your puzzle input) and an increasing integer index (starting with 0, and represented in decimal); the resulting MD5 hash should be represented as a string of lowercase hexadecimal digits.\n",
    "\n",
    "However, not all of these MD5 hashes are keys, and you need 64 new keys for your one-time pad. A hash is a key only if:\n",
    "\n",
    "- It contains three of the same character in a row, like 777. Only consider the first such triplet in a hash.\n",
    "- One of the next 1000 hashes in the stream contains that same character five times in a row, like 77777.\n",
    "\n",
    "Considering future hashes for five-of-a-kind sequences does not cause those hashes to be skipped; instead, regardless of whether the current hash is a key, always resume testing for keys starting with the very next hash.\n",
    "\n",
    "For example, if the pre-arranged salt is abc:\n",
    "\n",
    "- The first index which produces a triple is 18, because the MD5 hash of abc18 contains ...cc38887a5.... However, index 18 does not count as a key for your one-time pad, because none of the next thousand hashes (index 19 through index 1018) contain 88888.\n",
    "- The next index which produces a triple is 39; the hash of abc39 contains eee. It is also the first key: one of the next thousand hashes (the one at index 816) contains eeeee.\n",
    "- None of the next six triples are keys, but the one after that, at index 92, is: it contains 999 and index 200 contains 99999.\n",
    "- Eventually, index 22728 meets all of the criteria to generate the 64th key.\n",
    "\n",
    "So, using our example salt of abc, index 22728 produces the 64th key.\n",
    "\n",
    "Given the actual salt in your puzzle input, **what index produces your 64th one-time pad key?**"
   ]
  },
  {
   "cell_type": "code",
   "execution_count": 4,
   "metadata": {},
   "outputs": [],
   "source": [
    "puzzle_salt = \"jlmsuwbz\"\n",
    "test_salt = \"abc\""
   ]
  },
  {
   "cell_type": "markdown",
   "metadata": {},
   "source": [
    "First up seeing how to hash a string. I updated this function for part two to be able to make multiple hashes:"
   ]
  },
  {
   "cell_type": "code",
   "execution_count": 90,
   "metadata": {},
   "outputs": [
    {
     "data": {
      "text/plain": [
       "'a107ff634856bb300138cac6568c0f24'"
      ]
     },
     "execution_count": 90,
     "metadata": {},
     "output_type": "execute_result"
    }
   ],
   "source": [
    "import hashlib\n",
    "import re\n",
    "from functools import lru_cache\n",
    "\n",
    "@lru_cache(1000) # to save the last 1000 hashes\n",
    "def hashval(salt=test_salt, i=0, multiple_hashes=None):\n",
    "    \"\"\"takes in a salt and num to append to it, returns hash\"\"\"\n",
    "    h = hashlib.md5(f\"{salt}{i}\".encode()).hexdigest()\n",
    "    \n",
    "    if multiple_hashes:\n",
    "        for _ in range(multiple_hashes):\n",
    "            h = hashlib.md5(h.encode()).hexdigest()\n",
    "    \n",
    "    return h\n",
    "\n",
    "hashval(multiple_hashes=2016)"
   ]
  },
  {
   "cell_type": "markdown",
   "metadata": {},
   "source": [
    "First up, lets find 3 repeated characters in a string:"
   ]
  },
  {
   "cell_type": "code",
   "execution_count": 56,
   "metadata": {},
   "outputs": [
    {
     "data": {
      "text/plain": [
       "<_sre.SRE_Match object; span=(9, 12), match='999'>"
      ]
     },
     "execution_count": 56,
     "metadata": {},
     "output_type": "execute_result"
    }
   ],
   "source": [
    "s = '83501e9109999965af11270ef8d61a4f' # string with 5 repeats\n",
    "rx3 = re.compile(r\"(.)\\1{2}\") # regex to find 3 repeated chars\n",
    "rx3.search(s)"
   ]
  },
  {
   "cell_type": "markdown",
   "metadata": {},
   "source": [
    "The above regex stops when it finds 3 repeated characters, even though are more to go. I guess this is what it means which they say regexes are greedy.\n",
    "\n",
    "Now to use regex to find 5 repeats of the above character. \n",
    "\n",
    "This is where I learned there is such a thing as a raw f string, which is handy as I need to insert the char from above into a raw string for the second regex. \n",
    "\n",
    "The main thing here is that single curly brackets are \"processed\" by the f string, so brackets to pass onto the raw string have to be doubled:"
   ]
  },
  {
   "cell_type": "code",
   "execution_count": 57,
   "metadata": {},
   "outputs": [
    {
     "name": "stdout",
     "output_type": "stream",
     "text": [
      "char to find 5 in a row of:  9\n"
     ]
    },
    {
     "data": {
      "text/plain": [
       "<_sre.SRE_Match object; span=(9, 14), match='99999'>"
      ]
     },
     "execution_count": 57,
     "metadata": {},
     "output_type": "execute_result"
    }
   ],
   "source": [
    "char = rx3.search(s).group()[0] \n",
    "print(\"char to find 5 in a row of: \", char)\n",
    "\n",
    "rx5 = re.compile(rf\"({char})\\1{{4}}\") # regex to find 5 repeated chars\n",
    "rx5.search(s)"
   ]
  },
  {
   "cell_type": "code",
   "execution_count": 70,
   "metadata": {},
   "outputs": [
    {
     "name": "stderr",
     "output_type": "stream",
     "text": [
      "100%|██████████| 100/100 [00:01<00:00, 50.59it/s]\n"
     ]
    }
   ],
   "source": [
    "import time\n",
    "\n",
    "pbar = tqdm(total=100)\n",
    "\n",
    "for i in range(10):\n",
    "    pbar.update(10)\n",
    "    time.sleep(0.2)\n",
    "    \n",
    "pbar.close()"
   ]
  },
  {
   "cell_type": "code",
   "execution_count": 84,
   "metadata": {},
   "outputs": [
    {
     "name": "stderr",
     "output_type": "stream",
     "text": [
      "100%|██████████| 64/64 [00:02<00:00, 22.45it/s]"
     ]
    },
    {
     "name": "stdout",
     "output_type": "stream",
     "text": [
      "64th key found at the 35186 loop for salt jlmsuwbz\n"
     ]
    },
    {
     "name": "stderr",
     "output_type": "stream",
     "text": [
      "\n"
     ]
    },
    {
     "data": {
      "text/plain": [
       "35186"
      ]
     },
     "execution_count": 84,
     "metadata": {},
     "output_type": "execute_result"
    }
   ],
   "source": [
    "from tqdm import tqdm\n",
    "\n",
    "\n",
    "def solve(salt=test_salt):\n",
    "    \"\"\"takes in a salt and returns the index of the last key and a list of keys\"\"\"\n",
    "    \n",
    "    i = 0\n",
    "    keys = []\n",
    "    \n",
    "    rx3 = re.compile(r\"(.)\\1{2}\") # regex to find 3 repeated chars\n",
    "    \n",
    "    pbar = tqdm(total=64)\n",
    "    while len(keys) < 64:\n",
    "        h = hashval(salt, i)\n",
    "        \n",
    "        # find a hash with 3 chars\n",
    "        if rx3.search(h):\n",
    "            char = rx3.search(h).group()[0]\n",
    "            \n",
    "            rx5 = re.compile(rf\"({char})\\1{{4}}\") # regex to find 5 repeated chars\n",
    "            \n",
    "            # now to look at the next 1K hashes:\n",
    "            for j in range(i+1, i+1001):\n",
    "                if rx5.search(hashval(salt, j)):\n",
    "                    if h not in keys: # only append one time\n",
    "                        keys.append(h)\n",
    "                        pbar.update(1)\n",
    "        i += 1\n",
    "    pbar.close()\n",
    "    print(f\"{len(keys)}th key found at the {i-1} loop for salt {salt}\")\n",
    "    return i-1\n",
    "        \n",
    "solve(puzzle_salt)"
   ]
  },
  {
   "cell_type": "markdown",
   "metadata": {},
   "source": [
    "# --- Part Two ---\n",
    "\n",
    "Of course, in order to make this process even more secure, you've also implemented key stretching.\n",
    "\n",
    "Key stretching forces attackers to spend more time generating hashes. Unfortunately, it forces everyone else to spend more time, too.\n",
    "\n",
    "To implement key stretching, whenever you generate a hash, before you use it, you first find the MD5 hash of that hash, then the MD5 hash of that hash, and so on, a total of 2016 additional hashings. Always use lowercase hexadecimal representations of hashes.\n",
    "\n",
    "For example, to find the stretched hash for index 0 and salt abc:\n",
    "\n",
    "- Find the MD5 hash of abc0: 577571be4de9dcce85a041ba0410f29f.\n",
    "- Then, find the MD5 hash of that hash: eec80a0c92dc8a0777c619d9bb51e910.\n",
    "- Then, find the MD5 hash of that hash: 16062ce768787384c81fe17a7a60c7e3.\n",
    "- ...repeat many times...\n",
    "- Then, find the MD5 hash of that hash: a107ff634856bb300138cac6568c0f24.\n",
    "\n",
    "So, the stretched hash for index 0 in this situation is a107ff.... In the end, you find the original hash (one use of MD5), then find the hash-of-the-previous-hash 2016 times, for a total of 2017 uses of MD5.\n",
    "\n",
    "The rest of the process remains the same, but now the keys are entirely different. Again for salt abc:\n",
    "\n",
    "- The first triple (222, at index 5) has no matching 22222 in the next thousand hashes.\n",
    "- The second triple (eee, at index 10) hash a matching eeeee at index 89, and so it is the first key.\n",
    "- Eventually, index 22551 produces the 64th key (triple fff with matching fffff at index 22859.\n",
    "\n",
    "Given the actual salt in your puzzle input and using 2016 extra MD5 calls of key stretching, what index now produces your 64th one-time pad key?"
   ]
  },
  {
   "cell_type": "markdown",
   "metadata": {},
   "source": [
    "---\n",
    "\n",
    "This is straightforward, I just modifiled the `hashval` func to do 1 or N number of hashes if a num_hash val is passed."
   ]
  },
  {
   "cell_type": "code",
   "execution_count": 92,
   "metadata": {},
   "outputs": [
    {
     "name": "stderr",
     "output_type": "stream",
     "text": [
      "100%|██████████| 64/64 [01:17<00:00,  1.71s/it]"
     ]
    },
    {
     "name": "stdout",
     "output_type": "stream",
     "text": [
      "64th key found at the 22551 loop for salt abc\n"
     ]
    },
    {
     "name": "stderr",
     "output_type": "stream",
     "text": [
      "\n"
     ]
    },
    {
     "data": {
      "text/plain": [
       "22551"
      ]
     },
     "execution_count": 92,
     "metadata": {},
     "output_type": "execute_result"
    }
   ],
   "source": [
    "from tqdm import tqdm\n",
    "\n",
    "\n",
    "def solve2(salt=test_salt):\n",
    "    \"\"\"takes in a salt and returns the index of the last key and a list of keys\"\"\"\n",
    "    \n",
    "    i = 0\n",
    "    keys = []\n",
    "    \n",
    "    rx3 = re.compile(r\"(.)\\1{2}\") # regex to find 3 repeated chars\n",
    "    \n",
    "    pbar = tqdm(total=64)\n",
    "    while len(keys) < 64:\n",
    "        h = hashval(salt, i, 2016)\n",
    "        \n",
    "        # find a hash with 3 chars\n",
    "        if rx3.search(h):\n",
    "            char = rx3.search(h).group()[0]\n",
    "            \n",
    "            rx5 = re.compile(rf\"({char})\\1{{4}}\") # regex to find 5 repeated chars\n",
    "            \n",
    "            # now to look at the next 1K hashes:\n",
    "            for j in range(i+1, i+1001):\n",
    "                if rx5.search(hashval(salt, j, 2016)):\n",
    "                    if h not in keys: # only append one time\n",
    "                        keys.append(h)\n",
    "                        pbar.update(1)\n",
    "        i += 1\n",
    "    pbar.close()\n",
    "    print(f\"{len(keys)}th key found at the {i-1} loop for salt {salt}\")\n",
    "    return i-1\n",
    "        \n",
    "solve2()"
   ]
  },
  {
   "cell_type": "code",
   "execution_count": 93,
   "metadata": {},
   "outputs": [
    {
     "name": "stderr",
     "output_type": "stream",
     "text": [
      "100%|██████████| 64/64 [01:18<00:00,  1.22s/it]"
     ]
    },
    {
     "name": "stdout",
     "output_type": "stream",
     "text": [
      "64th key found at the 22429 loop for salt jlmsuwbz\n"
     ]
    },
    {
     "name": "stderr",
     "output_type": "stream",
     "text": [
      "\n"
     ]
    },
    {
     "data": {
      "text/plain": [
       "22429"
      ]
     },
     "execution_count": 93,
     "metadata": {},
     "output_type": "execute_result"
    }
   ],
   "source": [
    "solve2(puzzle_salt)"
   ]
  },
  {
   "cell_type": "markdown",
   "metadata": {},
   "source": [
    "`22429` is the right puzzle answer."
   ]
  }
 ],
 "metadata": {
  "kernelspec": {
   "display_name": "Python 3",
   "language": "python",
   "name": "python3"
  },
  "language_info": {
   "codemirror_mode": {
    "name": "ipython",
    "version": 3
   },
   "file_extension": ".py",
   "mimetype": "text/x-python",
   "name": "python",
   "nbconvert_exporter": "python",
   "pygments_lexer": "ipython3",
   "version": "3.6.4"
  }
 },
 "nbformat": 4,
 "nbformat_minor": 2
}

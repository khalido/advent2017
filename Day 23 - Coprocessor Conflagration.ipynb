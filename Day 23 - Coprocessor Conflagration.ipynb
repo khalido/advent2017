{
 "cells": [
  {
   "cell_type": "markdown",
   "metadata": {},
   "source": [
    "# --- Day 23: Coprocessor Conflagration ---\n",
    "\n",
    "You decide to head directly to the CPU and fix the printer from there. As you get close, you find an experimental coprocessor doing so much work that the local programs are afraid it will halt and catch fire. This would cause serious issues for the rest of the computer, so you head in and see what you can do.\n",
    "\n",
    "The code it's running seems to be a variant of the kind you saw recently on that tablet. The general functionality seems very similar, but some of the instructions are different:\n",
    "\n",
    "- set X Y sets register X to the value of Y.\n",
    "- sub X Y decreases register X by the value of Y.\n",
    "- mul X Y sets register X to the result of multiplying the value contained in register X by the value of Y.\n",
    "- jnz X Y jumps with an offset of the value of Y, but only if the value of X is not zero. (An offset of 2 skips the next instruction, an offset of -1 jumps to the previous instruction, and so on.)\n",
    "\n",
    "Only the instructions listed above are used. The eight registers here, named a through h, all start at 0.\n",
    "\n",
    "The coprocessor is currently set to some kind of debug mode, which allows for testing, but prevents it from doing any meaningful work.\n",
    "\n",
    "**If you run the program (your puzzle input), how many times is the mul instruction invoked?**"
   ]
  },
  {
   "cell_type": "code",
   "execution_count": 4,
   "metadata": {},
   "outputs": [
    {
     "data": {
      "text/plain": [
       "['set b 57', 'set c b', 'jnz a 2', 'jnz 1 5', 'mul b 100', 'sub b -100000']"
      ]
     },
     "execution_count": 4,
     "metadata": {},
     "output_type": "execute_result"
    }
   ],
   "source": [
    "# the puzzle input\n",
    "with open('puzzle_inputs/day23_input.txt') as f:\n",
    "    data = f.read().strip().split(\"\\n\")\n",
    "puzzle_input = [line for line in data]\n",
    "puzzle_input[:6]"
   ]
  },
  {
   "cell_type": "code",
   "execution_count": null,
   "metadata": {},
   "outputs": [],
   "source": []
  }
 ],
 "metadata": {
  "kernelspec": {
   "display_name": "Python 3",
   "language": "python",
   "name": "python3"
  },
  "language_info": {
   "codemirror_mode": {
    "name": "ipython",
    "version": 3
   },
   "file_extension": ".py",
   "mimetype": "text/x-python",
   "name": "python",
   "nbconvert_exporter": "python",
   "pygments_lexer": "ipython3",
   "version": "3.6.4"
  }
 },
 "nbformat": 4,
 "nbformat_minor": 2
}

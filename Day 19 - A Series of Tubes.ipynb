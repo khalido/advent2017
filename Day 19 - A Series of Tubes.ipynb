{
 "cells": [
  {
   "cell_type": "markdown",
   "metadata": {},
   "source": [
    "# --- Day 19: A Series of Tubes ---\n",
    "\n",
    "Somehow, a network packet got lost and ended up here. It's trying to follow a routing diagram (your puzzle input), but it's confused about where to go.\n",
    "\n",
    "Its starting point is just off the top of the diagram. Lines (drawn with |, -, and +) show the path it needs to take, starting by going down onto the only line connected to the top of the diagram. It needs to follow this path until it reaches the end (located somewhere within the diagram) and stop there.\n",
    "\n",
    "Sometimes, the lines cross over each other; in these cases, it needs to continue going the same direction, and only turn left or right when there's no other option. In addition, someone has left letters on the line; these also don't change its direction, but it can use them to keep track of where it's been. For example:\n",
    "\n",
    "```\n",
    "     |          \n",
    "     |  +--+    \n",
    "     A  |  C    \n",
    " F---|----E|--+ \n",
    "     |  |  |  D \n",
    "     +B-+  +--+ \n",
    "```\n",
    "\n",
    "Given this diagram, the packet needs to take the following path:\n",
    "\n",
    "- Starting at the only line touching the top of the diagram, it must go down, pass through A, and continue onward to the first +.\n",
    "- Travel right, up, and right, passing through B in the process.\n",
    "- Continue down (collecting C), right, and up (collecting D).\n",
    "- Finally, go all the way left through E and stopping at F.\n",
    "\n",
    "Following the path to the end, the letters it sees on its path are `ABCDEF`.\n",
    "\n",
    "The little packet looks up at you, hoping you can help it find the way. **What letters will it see (in the order it would see them) if it follows the path?** (The routing diagram is very wide; make sure you view it without line wrapping.)"
   ]
  },
  {
   "cell_type": "code",
   "execution_count": 9,
   "metadata": {},
   "outputs": [
    {
     "data": {
      "text/plain": [
       "['|                                                                                                                                                                                                       ',\n",
       " ' |                                   +---------------------------------------------------------------------------------------------------------------------------------------------------------------+   ',\n",
       " ' |                                   |                                                                                                                                                               |   ',\n",
       " ' |     +-------------------------------------------+                                                   +-------------+   +---------------+                     +-------------------------------------+   ',\n",
       " ' |     |                             |             |                                                   |             |   |               |                     |                                         ',\n",
       " ' |     +-----------------------------|---------+   |   +-+ +-------+                       +---+       |             |   |   +-----------|-----------------------------------------+   +-----------+     ',\n",
       " ' |                                   |         |   |   | | |       |                       |   |       |             |   |   |           |                     |                   |   |           |     ',\n",
       " ' |                                   |         +---|---|---|-------------------------------|---|-------|-------------|---|---------------|---------------------------------------------+           |     ']"
      ]
     },
     "execution_count": 9,
     "metadata": {},
     "output_type": "execute_result"
    }
   ],
   "source": [
    "# the puzzle input\n",
    "with open('puzzle_inputs/day19_input.txt') as f:\n",
    "    data = f.read().strip().split(\"\\n\")\n",
    "puzzle_input = [line for line in data]\n",
    "puzzle_input[:8]"
   ]
  },
  {
   "cell_type": "code",
   "execution_count": 2,
   "metadata": {},
   "outputs": [
    {
     "data": {
      "text/plain": [
       "['     |          ',\n",
       " '     |  +--+    ',\n",
       " '     A  |  C    ',\n",
       " ' F---|----E|--+ ',\n",
       " '     |  |  |  D ',\n",
       " '     +B-+  +--+']"
      ]
     },
     "execution_count": 2,
     "metadata": {},
     "output_type": "execute_result"
    }
   ],
   "source": [
    "test_input = \"\"\"     |          \n",
    "     |  +--+    \n",
    "     A  |  C    \n",
    " F---|----E|--+ \n",
    "     |  |  |  D \n",
    "     +B-+  +--+\"\"\"\n",
    "test_input = test_input.split(\"\\n\")\n",
    "test_input"
   ]
  },
  {
   "cell_type": "markdown",
   "metadata": {},
   "source": [
    "It starts at the first `|` in the top line:"
   ]
  },
  {
   "cell_type": "markdown",
   "metadata": {},
   "source": [
    "First up, some helper functions:\n",
    "\n",
    "`valid point` to make sure the point is inside the puzzle:"
   ]
  },
  {
   "cell_type": "code",
   "execution_count": 21,
   "metadata": {},
   "outputs": [
    {
     "data": {
      "text/plain": [
       "(False, True)"
      ]
     },
     "execution_count": 21,
     "metadata": {},
     "output_type": "execute_result"
    }
   ],
   "source": [
    "def valid_point(puzzle, point):\n",
    "    \"\"\"returns true if a given point is valid for a given puzzle graph\"\"\"\n",
    "    max_val = len(puzzle) - 1\n",
    "    \n",
    "    if max(point) <= max_val and min(point) >= 0:\n",
    "        return True\n",
    "    else:\n",
    "        return False\n",
    "\n",
    "valid_point(test_input, (-1,0)), valid_point(test_input, (1,0))"
   ]
  },
  {
   "cell_type": "markdown",
   "metadata": {},
   "source": [
    "Generate list of points to possibly visit from a given point:"
   ]
  },
  {
   "cell_type": "code",
   "execution_count": 24,
   "metadata": {},
   "outputs": [
    {
     "data": {
      "text/plain": [
       "[(1, 2), (3, 2), (2, 1), (2, 3)]"
      ]
     },
     "execution_count": 24,
     "metadata": {},
     "output_type": "execute_result"
    }
   ],
   "source": [
    "points_visited = [(2,2)]\n",
    "\n",
    "def points_to_visit(puzzle, cur_pos, points_visited):\n",
    "    x,y = cur_pos\n",
    "    visit = []\n",
    "    for i in range(x-1, x+2):\n",
    "        p = (i, y)\n",
    "        if valid_point(puzzle, p) and p not in points_visited:\n",
    "            visit.append(p)\n",
    "    for i in range(y-1, y+2):\n",
    "        p = (x, i)\n",
    "        if valid_point(puzzle, p) and p not in points_visited:\n",
    "            visit.append(p)\n",
    "    \n",
    "    return visit\n",
    "\n",
    "points_to_visit(test_input, (2,2), points_visited)"
   ]
  },
  {
   "cell_type": "code",
   "execution_count": 30,
   "metadata": {},
   "outputs": [
    {
     "data": {
      "text/plain": [
       "'|'"
      ]
     },
     "execution_count": 30,
     "metadata": {},
     "output_type": "execute_result"
    }
   ],
   "source": [
    "p = (5,0)\n",
    "\n",
    "def get_val(p, puzzle):\n",
    "    return puzzle[p[1]][p[0]]\n",
    "get_val(p, test_input)"
   ]
  },
  {
   "cell_type": "code",
   "execution_count": null,
   "metadata": {},
   "outputs": [],
   "source": [
    "def new_point(p, puzzle, D):\n",
    "    "
   ]
  },
  {
   "cell_type": "code",
   "execution_count": 25,
   "metadata": {},
   "outputs": [
    {
     "name": "stdout",
     "output_type": "stream",
     "text": [
      "start point is 5 0\n",
      "[(5, 0)]\n",
      "[(4, 0), (5, 1)]\n"
     ]
    }
   ],
   "source": [
    "import string\n",
    "\n",
    "letters_seen = []\n",
    "x = test_input[0].index(\"|\")\n",
    "y = 0\n",
    "DIR = \"D\"\n",
    "\n",
    "points_visited = [(x,y)]\n",
    "print(\"start point is\", x,y)\n",
    "to_visit = points_to_visit(test_input, (x,y), points_visited)\n",
    "\n",
    "print(points_visited)\n",
    "print(to_visit)\n",
    "\n",
    "def solve_puzzle(puzzle, cur_pos):\n",
    "    while len(to_visit) > 0:\n",
    "        for p in to_visit:\n",
    "            val = get_val(p, puzzle)\n",
    "            if val == \" \":\n",
    "                continue\n",
    "            elif val is in \"|-\":\n",
    "                # continue in same direction\n",
    "            elif val == \"+\":\n",
    "                # change direction\n",
    "            "
   ]
  },
  {
   "cell_type": "code",
   "execution_count": 6,
   "metadata": {},
   "outputs": [
    {
     "name": "stdout",
     "output_type": "stream",
     "text": [
      "5      +B-+  +--+\n"
     ]
    },
    {
     "data": {
      "text/plain": [
       "5"
      ]
     },
     "execution_count": 6,
     "metadata": {},
     "output_type": "execute_result"
    }
   ],
   "source": [
    "t = '     +B-+  +--+'\n",
    "x = t.index(\"+\")\n",
    "print(x, t)\n",
    "\n",
    "def go_horizontal(line, x):\n",
    "    if x == 0:\n",
    "        go = \"RIGHT\"\n",
    "    elif line[x-1] != \" \":\n",
    "        go = \"LEFT\"\n",
    "    else:\n",
    "        go = \"RIGHT\"\n",
    "    \n",
    "    while line[x] != \"+\":\n",
    "        print(x, line)\n",
    "        if go == \"LEFT\":\n",
    "            x -= 1\n",
    "        else:\n",
    "            x += 1\n",
    "    return x\n",
    "\n",
    "go_horizontal(t, x)"
   ]
  },
  {
   "cell_type": "code",
   "execution_count": 5,
   "metadata": {},
   "outputs": [
    {
     "data": {
      "text/plain": [
       "['|', '|', 'A', '|', '|', '+']"
      ]
     },
     "execution_count": 5,
     "metadata": {},
     "output_type": "execute_result"
    }
   ],
   "source": [
    "[row[5] for row in test_input]"
   ]
  },
  {
   "cell_type": "code",
   "execution_count": 56,
   "metadata": {},
   "outputs": [
    {
     "name": "stdout",
     "output_type": "stream",
     "text": [
      "5 0\n",
      "['|', '|', 'A', '|', '|', '+']\n",
      "DOWN\n"
     ]
    },
    {
     "data": {
      "text/plain": [
       "5"
      ]
     },
     "execution_count": 56,
     "metadata": {},
     "output_type": "execute_result"
    }
   ],
   "source": [
    "def go_vertical(puzzle, x, y):\n",
    "    \"\"\"goes vertical, returns y position\"\"\"\n",
    "    col = [row[x] for row in puzzle]\n",
    "    print(x, y)\n",
    "    print(col)\n",
    "    \n",
    "    if y == 0:\n",
    "        go = \"DOWN\"\n",
    "    elif y == len(puzzle):\n",
    "        go = \"UP\"\n",
    "    elif col[y-1] != \" \":\n",
    "        go = \"UP\"\n",
    "        y -= 1\n",
    "    else:\n",
    "        go=\"DOWN\"\n",
    "        y += 1\n",
    "    print(go)    \n",
    "    \n",
    "    while col[y] != \"+\":\n",
    "        if go == \"UP\":\n",
    "            y -= 1\n",
    "        else:\n",
    "            y += 1\n",
    "    \n",
    "    return y\n",
    "\n",
    "go_vertical(test_input, test_input[0].index(\"|\"), 0)"
   ]
  },
  {
   "cell_type": "code",
   "execution_count": null,
   "metadata": {},
   "outputs": [],
   "source": []
  }
 ],
 "metadata": {
  "kernelspec": {
   "display_name": "Python 3",
   "language": "python",
   "name": "python3"
  },
  "language_info": {
   "codemirror_mode": {
    "name": "ipython",
    "version": 3
   },
   "file_extension": ".py",
   "mimetype": "text/x-python",
   "name": "python",
   "nbconvert_exporter": "python",
   "pygments_lexer": "ipython3",
   "version": "3.6.4"
  }
 },
 "nbformat": 4,
 "nbformat_minor": 2
}

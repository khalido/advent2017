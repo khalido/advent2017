{
 "cells": [
  {
   "cell_type": "markdown",
   "metadata": {},
   "source": [
    "# --- Day 19: A Series of Tubes ---\n",
    "\n",
    "Somehow, a network packet got lost and ended up here. It's trying to follow a routing diagram (your puzzle input), but it's confused about where to go.\n",
    "\n",
    "Its starting point is just off the top of the diagram. Lines (drawn with |, -, and +) show the path it needs to take, starting by going down onto the only line connected to the top of the diagram. It needs to follow this path until it reaches the end (located somewhere within the diagram) and stop there.\n",
    "\n",
    "Sometimes, the lines cross over each other; in these cases, it needs to continue going the same direction, and only turn left or right when there's no other option. In addition, someone has left letters on the line; these also don't change its direction, but it can use them to keep track of where it's been. For example:\n",
    "\n",
    "```\n",
    "     |          \n",
    "     |  +--+    \n",
    "     A  |  C    \n",
    " F---|----E|--+ \n",
    "     |  |  |  D \n",
    "     +B-+  +--+ \n",
    "```\n",
    "\n",
    "Given this diagram, the packet needs to take the following path:\n",
    "\n",
    "- Starting at the only line touching the top of the diagram, it must go down, pass through A, and continue onward to the first +.\n",
    "- Travel right, up, and right, passing through B in the process.\n",
    "- Continue down (collecting C), right, and up (collecting D).\n",
    "- Finally, go all the way left through E and stopping at F.\n",
    "\n",
    "Following the path to the end, the letters it sees on its path are `ABCDEF`.\n",
    "\n",
    "The little packet looks up at you, hoping you can help it find the way. **What letters will it see (in the order it would see them) if it follows the path?** (The routing diagram is very wide; make sure you view it without line wrapping.)"
   ]
  },
  {
   "cell_type": "code",
   "execution_count": 82,
   "metadata": {},
   "outputs": [
    {
     "data": {
      "text/plain": [
       "[' |                                                                                                                                                                                                       ',\n",
       " ' |                                   +---------------------------------------------------------------------------------------------------------------------------------------------------------------+   ',\n",
       " ' |                                   |                                                                                                                                                               |   ',\n",
       " ' |     +-------------------------------------------+                                                   +-------------+   +---------------+                     +-------------------------------------+   ',\n",
       " ' |     |                             |             |                                                   |             |   |               |                     |                                         ',\n",
       " ' |     +-----------------------------|---------+   |   +-+ +-------+                       +---+       |             |   |   +-----------|-----------------------------------------+   +-----------+     ',\n",
       " ' |                                   |         |   |   | | |       |                       |   |       |             |   |   |           |                     |                   |   |           |     ',\n",
       " ' |                                   |         +---|---|---|-------------------------------|---|-------|-------------|---|---------------|---------------------------------------------+           |     ']"
      ]
     },
     "execution_count": 82,
     "metadata": {},
     "output_type": "execute_result"
    }
   ],
   "source": [
    "# the puzzle input\n",
    "with open('puzzle_inputs/day19_input.txt') as f:\n",
    "    data = f.read().split(\"\\n\")\n",
    "puzzle_input = [line for line in data]\n",
    "puzzle_input[:8]"
   ]
  },
  {
   "cell_type": "code",
   "execution_count": 44,
   "metadata": {},
   "outputs": [
    {
     "data": {
      "text/plain": [
       "['     |          ',\n",
       " '     |  +--+    ',\n",
       " '     A  |  C    ',\n",
       " ' F---|----E|--+ ',\n",
       " '     |  |  |  D ',\n",
       " '     +B-+  +--+']"
      ]
     },
     "execution_count": 44,
     "metadata": {},
     "output_type": "execute_result"
    }
   ],
   "source": [
    "test_input = \"\"\"     |          \n",
    "     |  +--+    \n",
    "     A  |  C    \n",
    " F---|----E|--+ \n",
    "     |  |  |  D \n",
    "     +B-+  +--+\"\"\"\n",
    "test_input = test_input.split(\"\\n\")\n",
    "test_input"
   ]
  },
  {
   "cell_type": "markdown",
   "metadata": {},
   "source": [
    "It starts at the first `|` in the top line:"
   ]
  },
  {
   "cell_type": "markdown",
   "metadata": {},
   "source": [
    "First up, some helper functions:\n",
    "\n",
    "`step` takes a step in the given direction and returns the new x,y"
   ]
  },
  {
   "cell_type": "code",
   "execution_count": 55,
   "metadata": {},
   "outputs": [
    {
     "data": {
      "text/plain": [
       "((0, -1), (0, 1), (-1, 0), (1, 0))"
      ]
     },
     "execution_count": 55,
     "metadata": {},
     "output_type": "execute_result"
    }
   ],
   "source": [
    "def step(x, y, direction):\n",
    "    \"\"\"returns the next point\"\"\"\n",
    "    if direction == \"UP\": y -= 1\n",
    "    if direction == \"DOWN\": y += 1\n",
    "    if direction == \"LEFT\": x -= 1\n",
    "    if direction == \"RIGHT\": x += 1\n",
    "    return x, y\n",
    "\n",
    "step(0, 0, \"UP\"), step(0, 0, \"DOWN\"), step(0, 0, \"LEFT\"), step(0, 0, \"RIGHT\")"
   ]
  },
  {
   "cell_type": "markdown",
   "metadata": {},
   "source": [
    "this gets us the new direction:"
   ]
  },
  {
   "cell_type": "code",
   "execution_count": 107,
   "metadata": {},
   "outputs": [
    {
     "data": {
      "text/plain": [
       "'DOWN'"
      ]
     },
     "execution_count": 107,
     "metadata": {},
     "output_type": "execute_result"
    }
   ],
   "source": [
    "def get_direction(x, y, direction, puzzle):\n",
    "    \"\"\"return the new direction, returns none if fails\"\"\"\n",
    "    \n",
    "    max_x = len(puzzle[0]) -1\n",
    "    max_y = len(puzzle) - 1\n",
    "    \n",
    "    if direction is \"RIGHT\" or direction is \"LEFT\":\n",
    "        if y > 0:\n",
    "            val = puzzle[y-1][x]\n",
    "            if val == \"|\" or val.isalpha():\n",
    "                return \"UP\" \n",
    "        \n",
    "        if y < max_y:\n",
    "            val = puzzle[y+1][x]\n",
    "            if val == \"|\" or val.isalpha():\n",
    "                return \"DOWN\"\n",
    "        return None\n",
    "        \n",
    "    if direction is \"UP\" or direction is \"DOWN\":\n",
    "        if x+1 < max_x:\n",
    "            val = puzzle[y][x+1]\n",
    "            if val == \"-\" or val.isalpha():\n",
    "                return \"RIGHT\" \n",
    "        \n",
    "        if x > 0:\n",
    "            val = puzzle[y][x-1]\n",
    "            if val == \"-\" or val.isalpha():\n",
    "                return \"LEFT\"\n",
    "    \n",
    "    return None\n",
    "\n",
    "get_direcion(0,3, \"LEFT\", test_input)"
   ]
  },
  {
   "cell_type": "markdown",
   "metadata": {},
   "source": [
    "Now to solve the actual puzzle:"
   ]
  },
  {
   "cell_type": "code",
   "execution_count": 118,
   "metadata": {},
   "outputs": [
    {
     "name": "stdout",
     "output_type": "stream",
     "text": [
      "End of the Line\n",
      "Letters seen:  ABCDEF\n",
      "Steps taken:  37\n",
      "Pos: 0 3 LEFT\n"
     ]
    },
    {
     "data": {
      "text/plain": [
       "('ABCDEF', 37)"
      ]
     },
     "execution_count": 118,
     "metadata": {},
     "output_type": "execute_result"
    }
   ],
   "source": [
    "def solve_puzzle(puzzle=test_input):\n",
    "    letters_seen = []\n",
    "    x = puzzle[0].index(\"|\")\n",
    "    y = 0\n",
    "    direction = \"DOWN\"\n",
    "\n",
    "    points_visited = []\n",
    "\n",
    "    while direction is not None:\n",
    "        val = puzzle[y][x]\n",
    "\n",
    "        if val is not \" \": points_visited.append((x,y))\n",
    "        \n",
    "        if val.isalpha():\n",
    "            letters_seen.append(val)\n",
    "\n",
    "        if val == \"|\" or val == \"-\" or val.isalpha():\n",
    "            x, y = step(x,y, direction)\n",
    "        elif val == \"+\":\n",
    "            direction = get_direction(x, y, direction, puzzle)\n",
    "            x, y = step(x,y, direction)\n",
    "        else:\n",
    "            print(\"End of the Line\")\n",
    "            print(\"Letters seen: \", \"\".join(letters_seen))\n",
    "            print(\"Steps taken: \", len(points_visited)-1)\n",
    "            print(\"Pos:\", x, y, direction)\n",
    "            direction = None\n",
    "\n",
    "    return \"\".join(letters_seen), len(points_visited)-1\n",
    "\n",
    "solve_puzzle()"
   ]
  },
  {
   "cell_type": "code",
   "execution_count": 115,
   "metadata": {},
   "outputs": [
    {
     "name": "stdout",
     "output_type": "stream",
     "text": [
      "End of the Line\n",
      "Letters seen:  MOABEUCWQS\n",
      "Steps taken:  18058\n",
      "Pos: 142 89 RIGHT\n"
     ]
    },
    {
     "data": {
      "text/plain": [
       "('MOABEUCWQS', 18058)"
      ]
     },
     "execution_count": 115,
     "metadata": {},
     "output_type": "execute_result"
    }
   ],
   "source": [
    "solve_puzzle(puzzle_input)"
   ]
  },
  {
   "cell_type": "markdown",
   "metadata": {},
   "source": [
    "Puzzle answer is `MOABEUCWQS`, steps taken is `18058`"
   ]
  },
  {
   "cell_type": "code",
   "execution_count": 72,
   "metadata": {},
   "outputs": [],
   "source": []
  }
 ],
 "metadata": {
  "kernelspec": {
   "display_name": "Python 3",
   "language": "python",
   "name": "python3"
  },
  "language_info": {
   "codemirror_mode": {
    "name": "ipython",
    "version": 3
   },
   "file_extension": ".py",
   "mimetype": "text/x-python",
   "name": "python",
   "nbconvert_exporter": "python",
   "pygments_lexer": "ipython3",
   "version": "3.6.4"
  }
 },
 "nbformat": 4,
 "nbformat_minor": 2
}

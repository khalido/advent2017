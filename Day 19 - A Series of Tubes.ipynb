{
 "cells": [
  {
   "cell_type": "markdown",
   "metadata": {},
   "source": [
    "# --- Day 19: A Series of Tubes ---\n",
    "\n",
    "Somehow, a network packet got lost and ended up here. It's trying to follow a routing diagram (your puzzle input), but it's confused about where to go.\n",
    "\n",
    "Its starting point is just off the top of the diagram. Lines (drawn with |, -, and +) show the path it needs to take, starting by going down onto the only line connected to the top of the diagram. It needs to follow this path until it reaches the end (located somewhere within the diagram) and stop there.\n",
    "\n",
    "Sometimes, the lines cross over each other; in these cases, it needs to continue going the same direction, and only turn left or right when there's no other option. In addition, someone has left letters on the line; these also don't change its direction, but it can use them to keep track of where it's been. For example:\n",
    "\n",
    "```\n",
    "     |          \n",
    "     |  +--+    \n",
    "     A  |  C    \n",
    " F---|----E|--+ \n",
    "     |  |  |  D \n",
    "     +B-+  +--+ \n",
    "```\n",
    "\n",
    "Given this diagram, the packet needs to take the following path:\n",
    "\n",
    "- Starting at the only line touching the top of the diagram, it must go down, pass through A, and continue onward to the first +.\n",
    "- Travel right, up, and right, passing through B in the process.\n",
    "- Continue down (collecting C), right, and up (collecting D).\n",
    "- Finally, go all the way left through E and stopping at F.\n",
    "\n",
    "Following the path to the end, the letters it sees on its path are `ABCDEF`.\n",
    "\n",
    "The little packet looks up at you, hoping you can help it find the way. **What letters will it see (in the order it would see them) if it follows the path?** (The routing diagram is very wide; make sure you view it without line wrapping.)"
   ]
  },
  {
   "cell_type": "code",
   "execution_count": 9,
   "metadata": {},
   "outputs": [
    {
     "data": {
      "text/plain": [
       "['|                                                                                                                                                                                                       ',\n",
       " ' |                                   +---------------------------------------------------------------------------------------------------------------------------------------------------------------+   ',\n",
       " ' |                                   |                                                                                                                                                               |   ',\n",
       " ' |     +-------------------------------------------+                                                   +-------------+   +---------------+                     +-------------------------------------+   ',\n",
       " ' |     |                             |             |                                                   |             |   |               |                     |                                         ',\n",
       " ' |     +-----------------------------|---------+   |   +-+ +-------+                       +---+       |             |   |   +-----------|-----------------------------------------+   +-----------+     ',\n",
       " ' |                                   |         |   |   | | |       |                       |   |       |             |   |   |           |                     |                   |   |           |     ',\n",
       " ' |                                   |         +---|---|---|-------------------------------|---|-------|-------------|---|---------------|---------------------------------------------+           |     ']"
      ]
     },
     "execution_count": 9,
     "metadata": {},
     "output_type": "execute_result"
    }
   ],
   "source": [
    "# the puzzle input\n",
    "with open('puzzle_inputs/day19_input.txt') as f:\n",
    "    data = f.read().strip().split(\"\\n\")\n",
    "puzzle_input = [line for line in data]\n",
    "puzzle_input[:8]"
   ]
  },
  {
   "cell_type": "code",
   "execution_count": 50,
   "metadata": {},
   "outputs": [
    {
     "data": {
      "text/plain": [
       "['     |          ',\n",
       " '     |  +--+    ',\n",
       " '     A  |  C    ',\n",
       " ' F---|----E|--+ ',\n",
       " '     |  |  |  D ',\n",
       " '     +B-+  +--+']"
      ]
     },
     "execution_count": 50,
     "metadata": {},
     "output_type": "execute_result"
    }
   ],
   "source": [
    "test_input = \"\"\"     |          \n",
    "     |  +--+    \n",
    "     A  |  C    \n",
    " F---|----E|--+ \n",
    "     |  |  |  D \n",
    "     +B-+  +--+\"\"\"\n",
    "test_input = test_input.split(\"\\n\")\n",
    "test_input"
   ]
  },
  {
   "cell_type": "markdown",
   "metadata": {},
   "source": [
    "It starts at the first `|` in the top line:"
   ]
  },
  {
   "cell_type": "code",
   "execution_count": 31,
   "metadata": {},
   "outputs": [
    {
     "name": "stdout",
     "output_type": "stream",
     "text": [
      "start index is 5\n",
      "8\n",
      "['A']\n"
     ]
    }
   ],
   "source": [
    "import string\n",
    "\n",
    "letters_seen = []\n",
    "x = test_input[0].index(\"|\")\n",
    "print(\"start index is\", x)\n",
    "\n",
    "dir = \"DOWN\"\n",
    "\n",
    "for i in range(1, len(test_input)):\n",
    "    line = test_input[i]\n",
    "    if line[x] in string.ascii_letters:\n",
    "        letters_seen.append(line[x])\n",
    "    if line[x] == \"+\":\n",
    "        # turn left or right\n",
    "        x = go_horizontal(line, x)\n",
    "        print(x)\n",
    "    \n",
    "print(letters_seen)"
   ]
  },
  {
   "cell_type": "code",
   "execution_count": null,
   "metadata": {},
   "outputs": [],
   "source": [
    "t = '     +B-+  +--+'\n",
    "x = t.index(\"+\")\n",
    "print(x, t)\n",
    "\n",
    "def go_horizontal(line, x):\n",
    "    if x == 0:\n",
    "        go = \"RIGHT\"\n",
    "    elif line[x-1] != \" \":\n",
    "        go = \"LEFT\"\n",
    "    else:\n",
    "        go = \"RIGHT\"\n",
    "    \n",
    "    while line[x] != \"+\":\n",
    "        print(x, line)\n",
    "        if go == \"LEFT\":\n",
    "            x -= 1\n",
    "        else:\n",
    "            x += 1\n",
    "    return x\n",
    "\n",
    "go_horizontal(t, x)"
   ]
  },
  {
   "cell_type": "code",
   "execution_count": 46,
   "metadata": {},
   "outputs": [
    {
     "data": {
      "text/plain": [
       "['|', '|', 'A', '|', '|', '+']"
      ]
     },
     "execution_count": 46,
     "metadata": {},
     "output_type": "execute_result"
    }
   ],
   "source": [
    "[row[5] for row in test_input]"
   ]
  },
  {
   "cell_type": "code",
   "execution_count": 56,
   "metadata": {},
   "outputs": [
    {
     "name": "stdout",
     "output_type": "stream",
     "text": [
      "5 0\n",
      "['|', '|', 'A', '|', '|', '+']\n",
      "DOWN\n"
     ]
    },
    {
     "data": {
      "text/plain": [
       "5"
      ]
     },
     "execution_count": 56,
     "metadata": {},
     "output_type": "execute_result"
    }
   ],
   "source": [
    "def go_vertical(puzzle, x, y):\n",
    "    \"\"\"goes vertical, returns y position\"\"\"\n",
    "    col = [row[x] for row in puzzle]\n",
    "    print(x, y)\n",
    "    print(col)\n",
    "    \n",
    "    if y == 0:\n",
    "        go = \"DOWN\"\n",
    "    elif y == len(puzzle):\n",
    "        go = \"UP\"\n",
    "    elif col[y-1] != \" \":\n",
    "        go = \"UP\"\n",
    "        y -= 1\n",
    "    else:\n",
    "        go=\"DOWN\"\n",
    "        y += 1\n",
    "    print(go)    \n",
    "    \n",
    "    while col[y] != \"+\":\n",
    "        if go == \"UP\":\n",
    "            y -= 1\n",
    "        else:\n",
    "            y += 1\n",
    "    \n",
    "    return y\n",
    "\n",
    "go_vertical(test_input, test_input[0].index(\"|\"), 0)"
   ]
  },
  {
   "cell_type": "code",
   "execution_count": null,
   "metadata": {},
   "outputs": [],
   "source": []
  }
 ],
 "metadata": {
  "kernelspec": {
   "display_name": "Python 3",
   "language": "python",
   "name": "python3"
  },
  "language_info": {
   "codemirror_mode": {
    "name": "ipython",
    "version": 3
   },
   "file_extension": ".py",
   "mimetype": "text/x-python",
   "name": "python",
   "nbconvert_exporter": "python",
   "pygments_lexer": "ipython3",
   "version": "3.6.4"
  }
 },
 "nbformat": 4,
 "nbformat_minor": 2
}

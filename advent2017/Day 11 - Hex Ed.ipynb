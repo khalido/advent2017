{
 "cells": [
  {
   "cell_type": "markdown",
   "metadata": {},
   "source": [
    "# --- Day 11: Hex Ed ---\n",
    "\n",
    "Crossing the bridge, you've barely reached the other side of the stream when a program comes up to you, clearly in distress. \"It's my child process,\" she says, \"he's gotten lost in an infinite grid!\"\n",
    "\n",
    "Fortunately for her, you have plenty of experience with infinite grids.\n",
    "\n",
    "Unfortunately for you, it's a hex grid.\n",
    "\n",
    "The hexagons (\"hexes\") in this grid are aligned such that adjacent hexes can be found to the north, northeast, southeast, south, southwest, and northwest:\n",
    "\n",
    "```\n",
    "  \\ n  /\n",
    "nw +--+ ne\n",
    "  /    \\\n",
    "-+      +-\n",
    "  \\    /\n",
    "sw +--+ se\n",
    "  / s  \\\n",
    "```\n",
    "\n",
    "You have the path the child process took. Starting where he started, you need to determine the fewest number of steps required to reach him. (A \"step\" means to move from the hex you are in to any adjacent hex.)\n",
    "\n",
    "For example:\n",
    "\n",
    "- ne,ne,ne is 3 steps away.\n",
    "- ne,ne,sw,sw is 0 steps away (back where you started).\n",
    "- ne,ne,s,s is 2 steps away (se,se).\n",
    "- se,sw,se,sw,sw is 3 steps away (s,s,sw)."
   ]
  },
  {
   "cell_type": "markdown",
   "metadata": {},
   "source": [
    "A couple of useful articles in case I get stuck:\n",
    "\n",
    "- http://keekerdc.com/2011/03/hexagon-grids-coordinate-systems-and-distance-calculations/\n",
    "- https://www.redblobgames.com/grids/hexagons/"
   ]
  },
  {
   "cell_type": "code",
   "execution_count": 2,
   "metadata": {},
   "outputs": [
    {
     "data": {
      "text/plain": [
       "['s', 'nw', 's', 'sw', 'ne', 'sw', 'nw', 's', 's', 's']"
      ]
     },
     "execution_count": 2,
     "metadata": {},
     "output_type": "execute_result"
    }
   ],
   "source": [
    "with open('puzzle_inputs/day11_input.txt') as f:\n",
    "    puzzle_input = f.read().strip().split(\",\")\n",
    "puzzle_input[:10]"
   ]
  },
  {
   "cell_type": "markdown",
   "metadata": {},
   "source": [
    "After trying many methods, I selected on using a even-q hexgrid as described [here](https://www.redblobgames.com/grids/hexagons/). BUT, my distance algorithim doesn't work properly, so fix."
   ]
  },
  {
   "cell_type": "code",
   "execution_count": 85,
   "metadata": {},
   "outputs": [
    {
     "data": {
      "text/plain": [
       "(array([696,  32]), 696, 1461, 364)"
      ]
     },
     "execution_count": 85,
     "metadata": {},
     "output_type": "execute_result"
    }
   ],
   "source": [
    "import numpy as np\n",
    "\n",
    "class Hexgrid:\n",
    "    def __init__(self):\n",
    "        self.even = True\n",
    "        self.pos = np.array([0,0])\n",
    "        self.grid_even = {\"n\": (0,1), \"s\": (0,-1), \"ne\": (1,0), \n",
    "                     \"sw\": (-1,1), \"nw\": (-1,0), \"se\": (1,1)}\n",
    "        self.grid_odd = {\"n\": (0,1), \"s\": (0,-1), \"ne\": (1,-1), \n",
    "                     \"sw\": (-1,0), \"nw\": (-1,-1), \"se\": (1,0)}\n",
    "        self.dist = 0\n",
    "        self.max_dist = 0\n",
    "    \n",
    "    def move(self, direction):\n",
    "        if self.even:\n",
    "            self.pos += self.grid_even[direction]\n",
    "            self.even = False\n",
    "        else:\n",
    "            self.pos += self.grid_odd[direction]\n",
    "            self.even = True\n",
    "        \n",
    "        distance = self.distance()\n",
    "        if self.max_dist < distance:\n",
    "            self.max_dist = distance\n",
    "            \n",
    "    def position(self):\n",
    "        return self.pos\n",
    "            \n",
    "    def distance(self):\n",
    "        \"\"\"one works when both postions are +ve, fix this later\"\"\"\n",
    "        if self.pos[0] > 0 and self.pos[1] > 0:\n",
    "            return self.pos.max()\n",
    "        else:\n",
    "            return abs(self.pos).max()\n",
    "    \n",
    "    def distance2(self):\n",
    "        x = self.pos[0]\n",
    "        y = self.pos[1]\n",
    "        line = 0\n",
    "        \n",
    "        if abs(y) > abs(x):\n",
    "            line = (abs(y) - abs(x))\n",
    "            diag = abs(x)\n",
    "        elif abs(y) < abs(x):\n",
    "            line = (abs(x) - abs(y))//2\n",
    "            diag = abs(y)\n",
    "        else:\n",
    "            diag = abs(x)\n",
    "        \n",
    "        return diag + line\n",
    "               \n",
    "        \n",
    "h = Hexgrid()\n",
    "\n",
    "for move in puzzle_input:\n",
    "    h.move(move)\n",
    "    \n",
    "h.position(), h.distance(), h.max_dist, h.distance2()"
   ]
  },
  {
   "cell_type": "markdown",
   "metadata": {},
   "source": [
    "So this works for the puzzle input but fails on the test inputs:"
   ]
  },
  {
   "cell_type": "code",
   "execution_count": 86,
   "metadata": {},
   "outputs": [
    {
     "name": "stdout",
     "output_type": "stream",
     "text": [
      "3 2 3\n",
      "0 0 0\n",
      "3 3 2\n",
      "3 3 3\n"
     ]
    }
   ],
   "source": [
    "tests = [\"ne,ne,ne\", \"ne,ne,sw,sw\", \"ne,ne,s,s\", \"se,sw,se,sw,sw\"]\n",
    "test_ans = [3,0,2,3]\n",
    "\n",
    "for i, test in enumerate(tests):\n",
    "    moves = test.strip().split(\",\")\n",
    "    h = Hexgrid()\n",
    "    for m in moves:\n",
    "        h.move(m)\n",
    "    print(h.distance(), h.distance2(), test_ans[i])"
   ]
  },
  {
   "cell_type": "code",
   "execution_count": null,
   "metadata": {},
   "outputs": [],
   "source": []
  }
 ],
 "metadata": {
  "kernelspec": {
   "display_name": "Python 3",
   "language": "python",
   "name": "python3"
  },
  "language_info": {
   "codemirror_mode": {
    "name": "ipython",
    "version": 3
   },
   "file_extension": ".py",
   "mimetype": "text/x-python",
   "name": "python",
   "nbconvert_exporter": "python",
   "pygments_lexer": "ipython3",
   "version": "3.6.4"
  }
 },
 "nbformat": 4,
 "nbformat_minor": 2
}

{
 "cells": [
  {
   "cell_type": "markdown",
   "metadata": {},
   "source": [
    "# --- Day 3: Spiral Memory ---\n",
    "\n",
    "You come across an experimental new kind of memory stored on an infinite two-dimensional grid.\n",
    "\n",
    "Each square on the grid is allocated in a spiral pattern starting at a location marked 1 and then counting up while spiraling outward. For example, the first few squares are allocated like this:\n",
    "\n",
    "```\n",
    "17  16  15  14  13\n",
    "18   5   4   3  12\n",
    "19   6   1   2  11\n",
    "20   7   8   9  10\n",
    "21  22  23---> ...\n",
    "```\n",
    "\n",
    "While this is very space-efficient (no squares are skipped), requested data must be carried back to square 1 (the location of the only access port for this memory system) by programs that can only move up, down, left, or right. They always take the shortest path: the Manhattan Distance between the location of the data and square 1.\n",
    "\n",
    "For example:\n",
    "\n",
    "Data from square 1 is carried 0 steps, since it's at the access port.\n",
    "Data from square 12 is carried 3 steps, such as: down, left, left.\n",
    "Data from square 23 is carried only 2 steps: up twice.\n",
    "Data from square 1024 must be carried 31 steps.\n",
    "How many steps are required to carry the data from the square identified in your puzzle input all the way to the access port?\n",
    "\n",
    "Your puzzle input is `312051`."
   ]
  },
  {
   "cell_type": "markdown",
   "metadata": {},
   "source": [
    "From eyeballing the data square, it makes sense to only deal with odd sized squares, so everytime we make the next size square we start with the bottom right corner:"
   ]
  },
  {
   "cell_type": "code",
   "execution_count": 7,
   "metadata": {},
   "outputs": [
    {
     "data": {
      "text/plain": [
       "[1, 3, 3, 3, 3, 3, 3, 3, 3, 5, 5, 7, 33]"
      ]
     },
     "execution_count": 7,
     "metadata": {},
     "output_type": "execute_result"
    }
   ],
   "source": [
    "def find_square_size(n):\n",
    "    '''given a number n, requrn the side length of the odd square it fits in'''\n",
    "    \n",
    "    # get square root and round up\n",
    "    num = int(np.ceil(np.sqrt(n))) \n",
    "    \n",
    "    # make sure the square we're ruturning is a odd square\n",
    "    while num % 2 == 0:\n",
    "        num += 1        \n",
    "    return num\n",
    "\n",
    "[find_square_size(n) for n in [1,2,3,4,5,6,7,8,9,10,11,49, 1000]]"
   ]
  },
  {
   "cell_type": "markdown",
   "metadata": {},
   "source": [
    "# simple solution"
   ]
  },
  {
   "cell_type": "markdown",
   "metadata": {},
   "source": [
    "We know the square the number is in, so by starting with the one smaller odd sized square, as we build that up the number has to be in one of the 4 sides."
   ]
  },
  {
   "cell_type": "code",
   "execution_count": 78,
   "metadata": {},
   "outputs": [
    {
     "data": {
      "text/plain": [
       "(2, -2, 4)"
      ]
     },
     "execution_count": 78,
     "metadata": {},
     "output_type": "execute_result"
    }
   ],
   "source": [
    "def spiral_pos(n):    \n",
    "    big_square = find_square_size(n)\n",
    "    small_square = big_square - 2\n",
    "\n",
    "    side_length = (big_square ** 2 - small_square **2)//4\n",
    "    mid = (small_square // 2)\n",
    "    cur_num = small_square**2\n",
    "    \n",
    "    if n == small_square**2:\n",
    "        return mid, -mid, mid*2\n",
    "    else:\n",
    "        mid += 1\n",
    "        \n",
    "    if n == big_square**2:\n",
    "            return mid, -mid, mid*2\n",
    "\n",
    "    for dir in \"ENWS\":\n",
    "        if n in range(cur_num, cur_num + side_length):\n",
    "            #print(\"Eureka!\", dir, cur_num, side_length, n)\n",
    "            return calc_pos(dir, cur_num, n, mid)\n",
    "        else:\n",
    "            cur_num += side_length\n",
    "        \n",
    "def calc_pos(dir, cur_num, n, mid):\n",
    "    if dir == \"N\":\n",
    "        x, y = mid, mid\n",
    "        x -= n - cur_num\n",
    "    elif dir == \"S\":\n",
    "        x, y = -mid, -mid\n",
    "        x += n - cur_num\n",
    "    elif dir == \"E\":\n",
    "        x, y = mid, -mid\n",
    "        y += n - cur_num\n",
    "    elif dir == \"W\":\n",
    "        x, y = -mid, mid\n",
    "        y -= n - cur_num\n",
    "    distance = abs(x) + abs(y)\n",
    "    return x, y , distance\n",
    "        \n",
    "spiral_pos(25)"
   ]
  },
  {
   "cell_type": "code",
   "execution_count": 79,
   "metadata": {},
   "outputs": [
    {
     "name": "stdout",
     "output_type": "stream",
     "text": [
      "(-1, 1, -2)\n",
      "(2, 1, 3)\n",
      "(0, -2, 2)\n",
      "(-15, 16, 31)\n"
     ]
    }
   ],
   "source": [
    "tests = [(1, 0), \n",
    "         (12, 3), \n",
    "         (23, 2), \n",
    "         (1024, 31), \n",
    "         ]\n",
    "for data_square, steps in tests:\n",
    "    print(spiral_pos(data_square))"
   ]
  },
  {
   "cell_type": "code",
   "execution_count": 80,
   "metadata": {},
   "outputs": [
    {
     "data": {
      "text/plain": [
       "(-151, -279, 430)"
      ]
     },
     "execution_count": 80,
     "metadata": {},
     "output_type": "execute_result"
    }
   ],
   "source": [
    "puzzle_input = 312051\n",
    "spiral_pos(puzzle_input)"
   ]
  },
  {
   "cell_type": "markdown",
   "metadata": {},
   "source": [
    "# --- Part Two ---\n",
    "As a stress test on the system, the programs here clear the grid and then store the value 1 in square 1. Then, in the same allocation order as shown above, they store the sum of the values in all adjacent squares, including diagonals.\n",
    "\n",
    "So, the first few squares' values are chosen as follows:\n",
    "\n",
    "- Square 1 starts with the value 1.\n",
    "- Square 2 has only one adjacent filled square (with value 1), so it also stores 1.\n",
    "- Square 3 has both of the above squares as neighbors and stores the sum of their values, 2.\n",
    "- Square 4 has all three of the aforementioned squares as neighbors and stores the sum of their values, 4.\n",
    "- Square 5 only has the first and fourth squares as neighbors, so it gets the value 5.\n",
    "\n",
    "Once a square is written, its value does not change. Therefore, the first few squares would receive the following values:\n",
    "\n",
    "```\n",
    "147  142  133  122   59\n",
    "304    5    4    2   57\n",
    "330   10    1    1   54\n",
    "351   11   23   25   26\n",
    "362  747  806--->   ...\n",
    "```\n",
    "\n",
    "What is the first value written that is larger than your puzzle input?"
   ]
  },
  {
   "cell_type": "markdown",
   "metadata": {},
   "source": [
    "So, I should be able to modify the above function and store each coordinates value in a grid"
   ]
  },
  {
   "cell_type": "code",
   "execution_count": 81,
   "metadata": {},
   "outputs": [],
   "source": [
    "from collections import defaultdict"
   ]
  },
  {
   "cell_type": "code",
   "execution_count": 115,
   "metadata": {},
   "outputs": [
    {
     "data": {
      "text/plain": [
       "312453"
      ]
     },
     "execution_count": 115,
     "metadata": {},
     "output_type": "execute_result"
    }
   ],
   "source": [
    "def get_pos(n):\n",
    "    if n == 1:\n",
    "        return 0,0\n",
    "    \n",
    "    big_square = find_square_size(n)\n",
    "    small_square = big_square - 2\n",
    "\n",
    "    side_length = (big_square ** 2 - small_square **2)//4\n",
    "    mid = (small_square // 2)\n",
    "    cur_num = small_square**2\n",
    "    \n",
    "    if n == small_square**2:\n",
    "        return mid, -mid\n",
    "    else:\n",
    "        mid += 1\n",
    "        \n",
    "    if n == big_square**2:\n",
    "            return mid, -mid\n",
    "\n",
    "    for dir in \"ENWS\":\n",
    "        if n in range(cur_num, cur_num + side_length):\n",
    "            if dir == \"N\":\n",
    "                x, y = mid, mid\n",
    "                x -= n - cur_num\n",
    "            elif dir == \"S\":\n",
    "                x, y = -mid, -mid\n",
    "                x += n - cur_num\n",
    "            elif dir == \"E\":\n",
    "                x, y = mid, -mid\n",
    "                y += n - cur_num\n",
    "            elif dir == \"W\":\n",
    "                x, y = -mid, mid\n",
    "                y -= n - cur_num\n",
    "            return x, y\n",
    "        else:\n",
    "            cur_num += side_length\n",
    "        \n",
    "\n",
    "def spiral_vals(n):\n",
    "    \n",
    "    vals = defaultdict(int)\n",
    "    vals[(0,0)] = 1\n",
    "    \n",
    "    for i in range(2,n):\n",
    "        value = 0\n",
    "        pos = get_pos(i)\n",
    "        for neighbour in get_neighbours(i):\n",
    "            value += vals[neighbour]\n",
    "        vals[pos] = value\n",
    "        if value > n:\n",
    "            return value\n",
    "    print(vals)\n",
    "    \n",
    "spiral_vals(puzzle_input)"
   ]
  },
  {
   "cell_type": "code",
   "execution_count": 113,
   "metadata": {},
   "outputs": [
    {
     "data": {
      "text/plain": [
       "[(-12, -5),\n",
       " (-12, -4),\n",
       " (-12, -3),\n",
       " (-11, -5),\n",
       " (-11, -3),\n",
       " (-10, -5),\n",
       " (-10, -4),\n",
       " (-10, -3)]"
      ]
     },
     "execution_count": 113,
     "metadata": {},
     "output_type": "execute_result"
    }
   ],
   "source": [
    "def get_neighbours(n):\n",
    "    \"\"\"takes in a num 9 and returns a list of its neighbours\"\"\"\n",
    "    neighbours = []\n",
    "    x, y = get_pos(n)\n",
    "    for xx in [x-1, x, x+1]:\n",
    "        for yy in [y-1, y, y+1]:\n",
    "            neighbours.append((xx,yy))\n",
    "    neighbours.remove((x,y))\n",
    "    return neighbours\n",
    "\n",
    "get_neighbours(500)"
   ]
  },
  {
   "cell_type": "code",
   "execution_count": null,
   "metadata": {},
   "outputs": [],
   "source": []
  }
 ],
 "metadata": {
  "kernelspec": {
   "display_name": "Python [default]",
   "language": "python",
   "name": "python3"
  },
  "language_info": {
   "codemirror_mode": {
    "name": "ipython",
    "version": 3
   },
   "file_extension": ".py",
   "mimetype": "text/x-python",
   "name": "python",
   "nbconvert_exporter": "python",
   "pygments_lexer": "ipython3",
   "version": "3.7.0"
  }
 },
 "nbformat": 4,
 "nbformat_minor": 2
}

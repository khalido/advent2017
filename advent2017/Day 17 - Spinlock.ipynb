{
 "cells": [
  {
   "cell_type": "markdown",
   "metadata": {},
   "source": [
    "# --- Day 17: Spinlock ---\n",
    "\n",
    "Suddenly, whirling in the distance, you notice what looks like a massive, pixelated hurricane: a deadly spinlock. This spinlock isn't just consuming computing power, but memory, too; vast, digital mountains are being ripped from the ground and consumed by the vortex.\n",
    "\n",
    "If you don't move quickly, fixing that printer will be the least of your problems.\n",
    "\n",
    "This spinlock's algorithm is simple but efficient, quickly consuming everything in its path. It starts with a circular buffer containing only the value 0, which it marks as the current position. It then steps forward through the circular buffer some number of steps (your puzzle input) before inserting the first new value, 1, after the value it stopped on. The inserted value becomes the current position. Then, it steps forward from there the same number of steps, and wherever it stops, inserts after it the second new value, 2, and uses that as the new current position again.\n",
    "\n",
    "It repeats this process of stepping forward, inserting a new value, and using the location of the inserted value as the new current position a total of `2017` times, inserting 2017 as its final operation, and ending with a total of 2018 values (including 0) in the circular buffer.\n",
    "\n",
    "For example, if the spinlock were to step 3 times per insert, the circular buffer would begin to evolve like this (using parentheses to mark the current position after each iteration of the algorithm):\n",
    "\n",
    "- `(0)`, the initial state before any insertions.\n",
    "- `0 (1)`: the spinlock steps forward three times (0, 0, 0), and then inserts the first value, 1, after it. 1 becomes the current position.\n",
    "- `0 (2) 1`: the spinlock steps forward three times (0, 1, 0), and then inserts the second value, 2, after it. 2 becomes the current position.\n",
    "- `0  2 (3) 1`: the spinlock steps forward three times (1, 0, 2), and then inserts the third value, 3, after it. 3 becomes the current position.\n",
    "\n",
    "And so on:\n",
    "\n",
    "```\n",
    "0  2 (4) 3  1\n",
    "0 (5) 2  4  3  1\n",
    "0  5  2  4  3 (6) 1\n",
    "0  5 (7) 2  4  3  6  1\n",
    "0  5  7  2  4  3 (8) 6  1\n",
    "0 (9) 5  7  2  4  3  8  6  1\n",
    "```\n",
    "\n",
    "Eventually, after 2017 insertions, the section of the circular buffer near the last insertion looks like this:\n",
    "\n",
    "1512  1134  151 (2017) 638  1513  851\n",
    "Perhaps, if you can identify the value that will ultimately be after the last value written (2017), you can short-circuit the spinlock. In this example, that would be 638.\n",
    "\n",
    "**What is the value after 2017 in your completed circular buffer?**"
   ]
  },
  {
   "cell_type": "markdown",
   "metadata": {},
   "source": [
    "For part 1, using a regular list or a deque with inserts works just fine:"
   ]
  },
  {
   "cell_type": "code",
   "execution_count": 189,
   "metadata": {},
   "outputs": [],
   "source": [
    "puzzle_input = 335"
   ]
  },
  {
   "cell_type": "code",
   "execution_count": 190,
   "metadata": {},
   "outputs": [
    {
     "name": "stdout",
     "output_type": "stream",
     "text": [
      "deque([0, 1])\n",
      "deque([0, 2, 1])\n",
      "deque([0, 2, 3, 1])\n",
      "deque([0, 2, 4, 3, 1])\n",
      "deque([0, 5, 2, 4, 3, 1])\n",
      "deque([0, 5, 2, 4, 3, 6, 1])\n",
      "deque([0, 5, 7, 2, 4, 3, 6, 1])\n",
      "deque([0, 5, 7, 2, 4, 3, 8, 6, 1])\n",
      "deque([0, 9, 5, 7, 2, 4, 3, 8, 6, 1])\n",
      "deque([0, 9, 5, 7, 2, 10, 4, 3, 8, 6, 1])\n",
      "deque([0, 9, 5, 7, 2, 10, 4, 3, 8, 11, 6, 1])\n",
      "deque([0, 12, 9, 5, 7, 2, 10, 4, 3, 8, 11, 6, 1])\n",
      "deque([0, 12, 9, 5, 7, 13, 2, 10, 4, 3, 8, 11, 6, 1])\n",
      "deque([0, 12, 9, 5, 7, 13, 2, 10, 4, 14, 3, 8, 11, 6, 1])\n",
      "deque([0, 12, 9, 5, 7, 13, 2, 10, 4, 14, 3, 8, 11, 15, 6, 1])\n",
      "deque([0, 16, 12, 9, 5, 7, 13, 2, 10, 4, 14, 3, 8, 11, 15, 6, 1])\n",
      "deque([0, 16, 12, 9, 5, 17, 7, 13, 2, 10, 4, 14, 3, 8, 11, 15, 6, 1])\n",
      "deque([0, 16, 12, 9, 5, 17, 7, 13, 2, 18, 10, 4, 14, 3, 8, 11, 15, 6, 1])\n",
      "deque([0, 16, 12, 9, 5, 17, 7, 13, 2, 18, 10, 4, 14, 19, 3, 8, 11, 15, 6, 1])\n",
      "deque([0, 16, 12, 9, 5, 17, 7, 13, 2, 18, 10, 4, 14, 19, 3, 8, 11, 20, 15, 6, 1])\n",
      "i 20\n",
      "i 2017\n"
     ]
    },
    {
     "data": {
      "text/plain": [
       "638"
      ]
     },
     "execution_count": 190,
     "metadata": {},
     "output_type": "execute_result"
    }
   ],
   "source": [
    "from collections import deque\n",
    "\n",
    "def circular_buffer(steps=3, cycles=2017, verbose=False):\n",
    "    buff = deque([0])\n",
    "    pos = 0\n",
    "    \n",
    "    for i in range(1, cycles+1):\n",
    "        new_pos = 1 + (pos + steps) % len(buff)\n",
    "        buff.insert(new_pos, i)\n",
    "        pos = new_pos\n",
    "        if verbose:\n",
    "            print(buff)\n",
    "    print(\"i\", i)\n",
    "    #print(buff[pos-1:pos+2])\n",
    "    return buff[new_pos+1]\n",
    "\n",
    "circular_buffer(3,20, True)\n",
    "circular_buffer(3, 2017)"
   ]
  },
  {
   "cell_type": "markdown",
   "metadata": {},
   "source": [
    "So that works for the test case, now to try it out on the puzzle input:"
   ]
  },
  {
   "cell_type": "code",
   "execution_count": 191,
   "metadata": {},
   "outputs": [
    {
     "name": "stdout",
     "output_type": "stream",
     "text": [
      "i 2017\n"
     ]
    },
    {
     "data": {
      "text/plain": [
       "1282"
      ]
     },
     "execution_count": 191,
     "metadata": {},
     "output_type": "execute_result"
    }
   ],
   "source": [
    "circular_buffer(puzzle_input, 2017)"
   ]
  },
  {
   "cell_type": "markdown",
   "metadata": {},
   "source": [
    "# --- Part Two ---\n",
    "\n",
    "The spinlock does not short-circuit. Instead, it gets more angry. At least, you assume that's what happened; it's spinning significantly faster than it was a moment ago.\n",
    "\n",
    "You have good news and bad news.\n",
    "\n",
    "The good news is that you have improved calculations for how to stop the spinlock. They indicate that you actually need to identify the value after 0 in the current state of the circular buffer.\n",
    "\n",
    "The bad news is that while you were determining this, the spinlock has just finished inserting its fifty millionth value (50000000).\n",
    "\n",
    "**What is the value after 0 the moment 50000000 is inserted?**"
   ]
  },
  {
   "cell_type": "markdown",
   "metadata": {},
   "source": [
    "Turns out my implementation above is very slow, so I need to rewrite the function to speed it up. the internet suggests deque, or numpy. The main slowdown seems to be inserting in the middle of a python list, so I need a solution which appends at the end:"
   ]
  },
  {
   "cell_type": "markdown",
   "metadata": {},
   "source": [
    "Using either a linked list or deque with inserts in the middle is very slow, so need to rewrite:"
   ]
  },
  {
   "cell_type": "code",
   "execution_count": 192,
   "metadata": {},
   "outputs": [
    {
     "ename": "KeyboardInterrupt",
     "evalue": "",
     "output_type": "error",
     "traceback": [
      "\u001b[0;31m---------------------------------------------------------------------------\u001b[0m",
      "\u001b[0;31mKeyboardInterrupt\u001b[0m                         Traceback (most recent call last)",
      "\u001b[0;32m<ipython-input-192-e6969a02cf71>\u001b[0m in \u001b[0;36m<module>\u001b[0;34m()\u001b[0m\n\u001b[1;32m      1\u001b[0m \u001b[0;32mfrom\u001b[0m \u001b[0mcollections\u001b[0m \u001b[0;32mimport\u001b[0m \u001b[0mdeque\u001b[0m\u001b[0;34m\u001b[0m\u001b[0m\n\u001b[1;32m      2\u001b[0m \u001b[0;34m\u001b[0m\u001b[0m\n\u001b[0;32m----> 3\u001b[0;31m \u001b[0mcircular_buffer\u001b[0m\u001b[0;34m(\u001b[0m\u001b[0mpuzzle_input\u001b[0m\u001b[0;34m,\u001b[0m \u001b[0;36m5\u001b[0m\u001b[0;34m*\u001b[0m\u001b[0;36m10\u001b[0m\u001b[0;34m**\u001b[0m\u001b[0;36m7\u001b[0m\u001b[0;34m)\u001b[0m\u001b[0;34m\u001b[0m\u001b[0m\n\u001b[0m",
      "\u001b[0;32m<ipython-input-190-5c74e03779c7>\u001b[0m in \u001b[0;36mcircular_buffer\u001b[0;34m(steps, cycles, verbose)\u001b[0m\n\u001b[1;32m      5\u001b[0m     \u001b[0;32mfor\u001b[0m \u001b[0mi\u001b[0m \u001b[0;32min\u001b[0m \u001b[0mrange\u001b[0m\u001b[0;34m(\u001b[0m\u001b[0;36m1\u001b[0m\u001b[0;34m,\u001b[0m \u001b[0mcycles\u001b[0m\u001b[0;34m+\u001b[0m\u001b[0;36m1\u001b[0m\u001b[0;34m)\u001b[0m\u001b[0;34m:\u001b[0m\u001b[0;34m\u001b[0m\u001b[0m\n\u001b[1;32m      6\u001b[0m         \u001b[0mnew_pos\u001b[0m \u001b[0;34m=\u001b[0m \u001b[0;36m1\u001b[0m \u001b[0;34m+\u001b[0m \u001b[0;34m(\u001b[0m\u001b[0mpos\u001b[0m \u001b[0;34m+\u001b[0m \u001b[0msteps\u001b[0m\u001b[0;34m)\u001b[0m \u001b[0;34m%\u001b[0m \u001b[0mlen\u001b[0m\u001b[0;34m(\u001b[0m\u001b[0mbuff\u001b[0m\u001b[0;34m)\u001b[0m\u001b[0;34m\u001b[0m\u001b[0m\n\u001b[0;32m----> 7\u001b[0;31m         \u001b[0mbuff\u001b[0m\u001b[0;34m.\u001b[0m\u001b[0minsert\u001b[0m\u001b[0;34m(\u001b[0m\u001b[0mnew_pos\u001b[0m\u001b[0;34m,\u001b[0m \u001b[0mi\u001b[0m\u001b[0;34m)\u001b[0m\u001b[0;34m\u001b[0m\u001b[0m\n\u001b[0m\u001b[1;32m      8\u001b[0m         \u001b[0mpos\u001b[0m \u001b[0;34m=\u001b[0m \u001b[0mnew_pos\u001b[0m\u001b[0;34m\u001b[0m\u001b[0m\n\u001b[1;32m      9\u001b[0m         \u001b[0;32mif\u001b[0m \u001b[0mverbose\u001b[0m\u001b[0;34m:\u001b[0m\u001b[0;34m\u001b[0m\u001b[0m\n",
      "\u001b[0;31mKeyboardInterrupt\u001b[0m: "
     ]
    }
   ],
   "source": [
    "from collections import deque\n",
    "\n",
    "circular_buffer(puzzle_input, 5*10**7)"
   ]
  },
  {
   "cell_type": "markdown",
   "metadata": {},
   "source": [
    "## part 2 solution without using a list\n",
    "\n",
    "A different approach: zero is always the first number in the circular buffer, as if the position is at the end the list gets one bigger, and if at the start the number is inserted after the first number, which is zero and never changes.\n",
    "\n",
    "Thus we only have to track what happens to the number after zero:"
   ]
  },
  {
   "cell_type": "code",
   "execution_count": 184,
   "metadata": {},
   "outputs": [
    {
     "name": "stdout",
     "output_type": "stream",
     "text": [
      "i 50000000\n"
     ]
    },
    {
     "data": {
      "text/plain": [
       "27650600"
      ]
     },
     "execution_count": 184,
     "metadata": {},
     "output_type": "execute_result"
    }
   ],
   "source": [
    "def circular_buffer_zero(steps=puzzle_input, cycles=5*10**7):\n",
    "    buff = deque([0])\n",
    "    pos = 0\n",
    "    \n",
    "    num_after_zero = 0\n",
    "    \n",
    "    for i in range(1, cycles+1):\n",
    "        new_pos = (pos + steps) % i\n",
    "        if new_pos == 0:\n",
    "            num_after_zero = i\n",
    "        pos = new_pos + 1\n",
    "        #print(buff)\n",
    "    \n",
    "    print(\"i\", i)\n",
    "    return num_after_zero\n",
    "\n",
    "circular_buffer_zero()"
   ]
  }
 ],
 "metadata": {
  "kernelspec": {
   "display_name": "Python [default]",
   "language": "python",
   "name": "python3"
  },
  "language_info": {
   "codemirror_mode": {
    "name": "ipython",
    "version": 3
   },
   "file_extension": ".py",
   "mimetype": "text/x-python",
   "name": "python",
   "nbconvert_exporter": "python",
   "pygments_lexer": "ipython3",
   "version": "3.7.0"
  }
 },
 "nbformat": 4,
 "nbformat_minor": 2
}

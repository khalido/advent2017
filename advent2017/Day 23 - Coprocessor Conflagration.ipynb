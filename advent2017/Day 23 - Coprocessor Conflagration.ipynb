{
 "cells": [
  {
   "cell_type": "markdown",
   "metadata": {},
   "source": [
    "# --- Day 23: Coprocessor Conflagration ---\n",
    "\n",
    "You decide to head directly to the CPU and fix the printer from there. As you get close, you find an experimental coprocessor doing so much work that the local programs are afraid it will halt and catch fire. This would cause serious issues for the rest of the computer, so you head in and see what you can do.\n",
    "\n",
    "The code it's running seems to be a variant of the kind you saw recently on that tablet. The general functionality seems very similar, but some of the instructions are different:\n",
    "\n",
    "- set X Y sets register X to the value of Y.\n",
    "- sub X Y decreases register X by the value of Y.\n",
    "- mul X Y sets register X to the result of multiplying the value contained in register X by the value of Y.\n",
    "- jnz X Y jumps with an offset of the value of Y, but only if the value of X is not zero. (An offset of 2 skips the next instruction, an offset of -1 jumps to the previous instruction, and so on.)\n",
    "\n",
    "Only the instructions listed above are used. The eight registers here, named a through h, all start at 0.\n",
    "\n",
    "The coprocessor is currently set to some kind of debug mode, which allows for testing, but prevents it from doing any meaningful work.\n",
    "\n",
    "**If you run the program (your puzzle input), how many times is the mul instruction invoked?**"
   ]
  },
  {
   "cell_type": "code",
   "execution_count": 2,
   "metadata": {},
   "outputs": [
    {
     "data": {
      "text/plain": [
       "['set b 57', 'set c b', 'jnz a 2', 'jnz 1 5']"
      ]
     },
     "execution_count": 2,
     "metadata": {},
     "output_type": "execute_result"
    }
   ],
   "source": [
    "# the puzzle input\n",
    "with open('puzzle_inputs/day23_input.txt') as f:\n",
    "    data = f.read().strip().split(\"\\n\")\n",
    "puzzle_input = [line for line in data]\n",
    "puzzle_input[:4]"
   ]
  },
  {
   "cell_type": "code",
   "execution_count": 3,
   "metadata": {},
   "outputs": [
    {
     "data": {
      "text/plain": [
       "(defaultdict(int,\n",
       "             {'a': 0,\n",
       "              'b': 57,\n",
       "              'c': 57,\n",
       "              'd': 57,\n",
       "              'e': 57,\n",
       "              'f': 0,\n",
       "              'g': 0,\n",
       "              'h': 1}),\n",
       " defaultdict(int, {'jnz': 6110, 'mul': 3025, 'set': 6167, 'sub': 9187}))"
      ]
     },
     "execution_count": 3,
     "metadata": {},
     "output_type": "execute_result"
    }
   ],
   "source": [
    "from collections import defaultdict\n",
    "\n",
    "def part_one(instructions, verbose=False):\n",
    "    \"\"\"goes through instructions and perfoms them as per part one\"\"\"\n",
    "    \n",
    "    registers = defaultdict(int)\n",
    "    i = 0\n",
    "    total_instructions = len(instructions)\n",
    "    func_call_counter = defaultdict(int)\n",
    "    \n",
    "    while i >=0 and i < total_instructions:\n",
    "        \n",
    "        # first, parse instruction\n",
    "        f = instructions[i].split()\n",
    "        if verbose: print(i, f)\n",
    "        func = f[0]\n",
    "        func_call_counter[func] += 1\n",
    "        \n",
    "        try:\n",
    "            x = int(f[1])\n",
    "        except:\n",
    "            x = f[1]\n",
    "\n",
    "        if len(f) == 3:\n",
    "            try:\n",
    "                y = int(f[2])\n",
    "            except:\n",
    "                y = f[2]\n",
    "        \n",
    "        # now to run the func code\n",
    "        if func == \"set\":\n",
    "            y = registers[y] if type(y) is str else y\n",
    "            registers[x] = y\n",
    "        elif func == \"mul\":\n",
    "            y = registers[y] if type(y) is str else y\n",
    "            registers[x] = registers[x] * y\n",
    "        elif func == \"sub\":\n",
    "            y = registers[y] if type(y) is str else y\n",
    "            registers[x] -= y\n",
    "        elif func == \"jnz\":\n",
    "            x = registers[x] if type(x) is str else x\n",
    "            if x != 0:\n",
    "                i += registers[y] if type(y) is str else y\n",
    "                if verbose: print(f\"jumping to {i}\")\n",
    "                # now to skip the i += step below\n",
    "                continue\n",
    "                \n",
    "        i += 1\n",
    "\n",
    "    return registers, func_call_counter\n",
    "\n",
    "part_one(puzzle_input, verbose=False)"
   ]
  },
  {
   "cell_type": "markdown",
   "metadata": {},
   "source": [
    "`3025` is the answer for part one\n",
    "\n",
    "# --- Part Two ---\n",
    "\n",
    "Now, it's time to fix the problem.\n",
    "\n",
    "The debug mode switch is wired directly to register a. You flip the switch, which makes register a now start at 1 when the program is executed.\n",
    "\n",
    "Immediately, the coprocessor begins to overheat. Whoever wrote this program obviously didn't choose a very efficient implementation. You'll need to optimize the program if it has any hope of completing before Santa needs that printer working.\n",
    "\n",
    "The coprocessor's ultimate goal is to determine the final value left in register h once the program completes. Technically, if it had that... it wouldn't even need to run the program.\n",
    "\n",
    "After setting register a to 1, if the program were to run to completion, what value would be left in register h?"
   ]
  },
  {
   "cell_type": "code",
   "execution_count": 8,
   "metadata": {},
   "outputs": [
    {
     "name": "stdout",
     "output_type": "stream",
     "text": [
      "1 defaultdict(<class 'int'>, {'a': 1, 'b': 57}) defaultdict(<class 'int'>, {'set': 1})\n",
      "2 defaultdict(<class 'int'>, {'a': 1, 'b': 57, 'c': 57}) defaultdict(<class 'int'>, {'set': 2})\n",
      "3 defaultdict(<class 'int'>, {'a': 1, 'b': 5700, 'c': 57}) defaultdict(<class 'int'>, {'set': 2, 'jnz': 1, 'mul': 1})\n",
      "4 defaultdict(<class 'int'>, {'a': 1, 'b': 105700, 'c': 57}) defaultdict(<class 'int'>, {'set': 2, 'jnz': 1, 'mul': 1, 'sub': 1})\n",
      "5 defaultdict(<class 'int'>, {'a': 1, 'b': 105700, 'c': 105700}) defaultdict(<class 'int'>, {'set': 3, 'jnz': 1, 'mul': 1, 'sub': 1})\n",
      "6 defaultdict(<class 'int'>, {'a': 1, 'b': 105700, 'c': 122700}) defaultdict(<class 'int'>, {'set': 3, 'jnz': 1, 'mul': 1, 'sub': 2})\n",
      "7 defaultdict(<class 'int'>, {'a': 1, 'b': 105700, 'c': 122700, 'f': 1}) defaultdict(<class 'int'>, {'set': 4, 'jnz': 1, 'mul': 1, 'sub': 2})\n",
      "8 defaultdict(<class 'int'>, {'a': 1, 'b': 105700, 'c': 122700, 'f': 1, 'd': 2}) defaultdict(<class 'int'>, {'set': 5, 'jnz': 1, 'mul': 1, 'sub': 2})\n",
      "9 defaultdict(<class 'int'>, {'a': 1, 'b': 105700, 'c': 122700, 'f': 1, 'd': 2, 'e': 2}) defaultdict(<class 'int'>, {'set': 6, 'jnz': 1, 'mul': 1, 'sub': 2})\n",
      "10 defaultdict(<class 'int'>, {'a': 1, 'b': 105700, 'c': 122700, 'f': 1, 'd': 2, 'e': 2, 'g': 2}) defaultdict(<class 'int'>, {'set': 7, 'jnz': 1, 'mul': 1, 'sub': 2})\n",
      "11 defaultdict(<class 'int'>, {'a': 1, 'b': 105700, 'c': 122700, 'f': 1, 'd': 2, 'e': 2, 'g': 4}) defaultdict(<class 'int'>, {'set': 7, 'jnz': 1, 'mul': 2, 'sub': 2})\n",
      "12 defaultdict(<class 'int'>, {'a': 1, 'b': 105700, 'c': 122700, 'f': 1, 'd': 2, 'e': 2, 'g': -105696}) defaultdict(<class 'int'>, {'set': 7, 'jnz': 1, 'mul': 2, 'sub': 3})\n"
     ]
    },
    {
     "data": {
      "text/plain": [
       "(defaultdict(int,\n",
       "             {'a': 1,\n",
       "              'b': 105700,\n",
       "              'c': 122700,\n",
       "              'd': 2,\n",
       "              'e': 2,\n",
       "              'f': 1,\n",
       "              'g': -105696}),\n",
       " defaultdict(int, {'jnz': 1, 'mul': 2, 'set': 7, 'sub': 3}))"
      ]
     },
     "execution_count": 8,
     "metadata": {},
     "output_type": "execute_result"
    }
   ],
   "source": [
    "from collections import defaultdict\n",
    "\n",
    "def part_two(instructions, verbose=False):\n",
    "    \"\"\"goes through instructions and perfoms them as per part one\"\"\"\n",
    "    \n",
    "    registers = defaultdict(int)\n",
    "    registers['a'] = 1\n",
    "    i = 0\n",
    "    total_instructions = len(instructions)\n",
    "    func_call_counter = defaultdict(int)\n",
    "    loops = 0\n",
    "    \n",
    "    while i >=0 and i < total_instructions:\n",
    "        \n",
    "        # first, parse instruction\n",
    "        f = instructions[i].split()\n",
    "        if verbose: print(i, f)\n",
    "        func = f[0]\n",
    "        func_call_counter[func] += 1\n",
    "        \n",
    "        try:\n",
    "            x = int(f[1])\n",
    "        except:\n",
    "            x = f[1]\n",
    "\n",
    "        if len(f) == 3:\n",
    "            try:\n",
    "                y = int(f[2])\n",
    "            except:\n",
    "                y = f[2]\n",
    "        \n",
    "        # now to run the func code\n",
    "        if func == \"set\":\n",
    "            y = registers[y] if type(y) is str else y\n",
    "            registers[x] = y\n",
    "        elif func == \"mul\":\n",
    "            y = registers[y] if type(y) is str else y\n",
    "            registers[x] = registers[x] * y\n",
    "        elif func == \"sub\":\n",
    "            y = registers[y] if type(y) is str else y\n",
    "            registers[x] -= y\n",
    "        elif func == \"jnz\":\n",
    "            x = registers[x] if type(x) is str else x\n",
    "            if x != 0:\n",
    "                i += registers[y] if type(y) is str else y\n",
    "                if verbose: print(f\"jumping to {i}\")\n",
    "                # now to skip the i += step below\n",
    "                continue\n",
    "                \n",
    "        i += 1\n",
    "        loops += 1\n",
    "        \n",
    "        if loops % 1 ==0:\n",
    "            print(loops, registers, func_call_counter)\n",
    "        if loops > 11: break\n",
    "    return registers, func_call_counter\n",
    "\n",
    "part_two(puzzle_input, verbose=False)"
   ]
  },
  {
   "cell_type": "markdown",
   "metadata": {},
   "source": [
    "So it looks like we loop from the register b at `105700` to c at `122700` in increments of 17. h is incremented if the number is prime.\n",
    "\n",
    "looking at how to optimize this:"
   ]
  },
  {
   "cell_type": "markdown",
   "metadata": {},
   "source": [
    "## making the instructions more efficent\n",
    "\n",
    "- 'set b 57',\n",
    "- 'set c b',\n",
    "- 'jnz a 2',\n",
    "- 'jnz 1 5',\n",
    "- 'mul b 100',\n",
    "- 'sub b -100000',\n",
    "- 'set c b',\n",
    "- 'sub c -17000',\n",
    "    - 'set f 1',\n",
    "    - 'set d 2',\n",
    "    - 'set e 2',\n",
    "        - 'set g d',\n",
    "        - 'mul g e', # so if d times e == b\n",
    "        - 'sub g b', # if g == b then g is zero\n",
    "        - 'jnz g 2',\n",
    "            - 'set f 0', # if becomes zero if g is zero\n",
    "        - 'sub e -1',\n",
    "        - 'set g e',\n",
    "        - 'sub g b',\n",
    "        - 'jnz g -8',\n",
    "    - 'sub d -1',\n",
    "    - 'set g d',\n",
    "    - 'sub g b',\n",
    "- 'jnz g -13',\n",
    "- 'jnz f 2', # so if f is zero, add 1 to h\n",
    "    - 'sub h -1',\n",
    "- 'set g b',\n",
    "- 'sub g c',\n",
    "- 'jnz g 2',\n",
    "- 'jnz 1 3',\n",
    "- 'sub b -17', # adding 17 to b\n",
    "- 'jnz 1 -23'"
   ]
  },
  {
   "cell_type": "code",
   "execution_count": 21,
   "metadata": {},
   "outputs": [
    {
     "data": {
      "text/plain": [
       "915"
      ]
     },
     "execution_count": 21,
     "metadata": {},
     "output_type": "execute_result"
    }
   ],
   "source": [
    "def is_prime(n):\n",
    "    \"\"\"returns true if n is prime, false instead\"\"\"\n",
    "    for i in range(3, n):\n",
    "        if n % i == 0:\n",
    "            return False\n",
    "    return True\n",
    "\n",
    "b = 105700\n",
    "c = 122700\n",
    "add_to_b = 17\n",
    "\n",
    "h = 0\n",
    "for i in range(b, c+1, add_to_b):\n",
    "    if not is_prime(i):\n",
    "        h += 1\n",
    "h"
   ]
  },
  {
   "cell_type": "markdown",
   "metadata": {},
   "source": [
    "`915` is the answer. Had to look at the [reddit adventofcode forums](https://www.reddit.com/r/adventofcode/comments/7lms6p/2017_day_23_solutions/?st=je25jn8c&sh=a29d5c98) for help on this one."
   ]
  }
 ],
 "metadata": {
  "kernelspec": {
   "display_name": "Python 3",
   "language": "python",
   "name": "python3"
  },
  "language_info": {
   "codemirror_mode": {
    "name": "ipython",
    "version": 3
   },
   "file_extension": ".py",
   "mimetype": "text/x-python",
   "name": "python",
   "nbconvert_exporter": "python",
   "pygments_lexer": "ipython3",
   "version": "3.6.4"
  }
 },
 "nbformat": 4,
 "nbformat_minor": 2
}

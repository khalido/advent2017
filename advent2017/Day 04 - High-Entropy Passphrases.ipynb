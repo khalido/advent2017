{
 "cells": [
  {
   "cell_type": "markdown",
   "metadata": {},
   "source": [
    "# --- Day 4: High-Entropy Passphrases ---\n",
    "\n",
    "A new system policy has been put in place that requires all accounts to use a passphrase instead of simply a password. A passphrase consists of a series of words (lowercase letters) separated by spaces.\n",
    "\n",
    "To ensure security, a valid passphrase must contain no duplicate words.\n",
    "\n",
    "For example:\n",
    "\n",
    "- aa bb cc dd ee is valid.\n",
    "- aa bb cc dd aa is not valid - the word aa appears more than once.\n",
    "- aa bb cc dd aaa is valid - aa and aaa count as different words.\n",
    "\n",
    "The system's full passphrase list is available as your puzzle input. How many passphrases are valid?"
   ]
  },
  {
   "cell_type": "code",
   "execution_count": 25,
   "metadata": {},
   "outputs": [],
   "source": [
    "from collections import Counter\n",
    "import numpy as np"
   ]
  },
  {
   "cell_type": "code",
   "execution_count": 6,
   "metadata": {},
   "outputs": [
    {
     "data": {
      "text/plain": [
       "['una bokpr ftz ryw nau yknf fguaczl anu',\n",
       " 'tvay wvco bcoblpt fwzg sfsys zvuqll mcbhwz ovcw fgdy',\n",
       " 'ynsocz vid rfmsy essqt fpbjvvq sldje qfpvjvb',\n",
       " 'yvh nxc kla vhy vkbq cxfzgr']"
      ]
     },
     "execution_count": 6,
     "metadata": {},
     "output_type": "execute_result"
    }
   ],
   "source": [
    "with open('day4_input.txt') as f:\n",
    "    data = f.read().split(\"\\n\")\n",
    "data[:4]"
   ]
  },
  {
   "cell_type": "markdown",
   "metadata": {},
   "source": [
    "pythons [Counter](https://docs.python.org/3/library/collections.html) makes this a cinch:"
   ]
  },
  {
   "cell_type": "code",
   "execution_count": 27,
   "metadata": {},
   "outputs": [
    {
     "data": {
      "text/plain": [
       "477"
      ]
     },
     "execution_count": 27,
     "metadata": {},
     "output_type": "execute_result"
    }
   ],
   "source": [
    "[Counter(line.split()).most_common(1)[0][1] == 1 for line in data if len(line) > 0].count(True)"
   ]
  },
  {
   "cell_type": "markdown",
   "metadata": {},
   "source": [
    "Or I can use sum, since True evaluates to 1 and False to 0:"
   ]
  },
  {
   "cell_type": "code",
   "execution_count": 28,
   "metadata": {},
   "outputs": [
    {
     "data": {
      "text/plain": [
       "477"
      ]
     },
     "execution_count": 28,
     "metadata": {},
     "output_type": "execute_result"
    }
   ],
   "source": [
    "sum([Counter(line.split()).most_common(1)[0][1] == 1 for line in data if len(line) > 0])"
   ]
  },
  {
   "cell_type": "markdown",
   "metadata": {},
   "source": [
    "And that was pretty straigtforward! Though there should be a faster way to do this - Counter evaluates the entire sentence, and we can stop looking at a sentence soon as a duplicate is found."
   ]
  },
  {
   "cell_type": "markdown",
   "metadata": {},
   "source": [
    "## --- Part Two ---\n",
    "\n",
    "For added security, yet another system policy has been put in place. Now, a valid passphrase must contain no two words that are anagrams of each other - that is, a passphrase is invalid if any word's letters can be rearranged to form any other word in the passphrase.\n",
    "\n",
    "For example:\n",
    "\n",
    "abcde fghij is a valid passphrase.\n",
    "abcde xyz ecdab is not valid - the letters from the third word can be rearranged to form the first word.\n",
    "a ab abc abd abf abj is a valid passphrase, because all letters need to be used when forming another word.\n",
    "iiii oiii ooii oooi oooo is valid.\n",
    "oiii ioii iioi iiio is not valid - any of these words can be rearranged to form any other word.\n",
    "Under this new system policy, how many passphrases are valid?"
   ]
  },
  {
   "cell_type": "markdown",
   "metadata": {},
   "source": [
    "First, we need a function to check if two words are anagrams of each another. Again, the Counter class makes this easy:"
   ]
  },
  {
   "cell_type": "code",
   "execution_count": 32,
   "metadata": {},
   "outputs": [
    {
     "data": {
      "text/plain": [
       "True"
      ]
     },
     "execution_count": 32,
     "metadata": {},
     "output_type": "execute_result"
    }
   ],
   "source": [
    "def is_anagram(x, y):\n",
    "    '''returns true if the two words are anagrams of each other'''\n",
    "    return Counter(x) == Counter(y)\n",
    "    \n",
    "is_anagram(\"abcde\", \"ecdab\")"
   ]
  },
  {
   "cell_type": "markdown",
   "metadata": {},
   "source": [
    "Now for a given sentence, we need to go compare each word against every other word in the dictionary. [itertools](https://docs.python.org/3/library/itertools.html) to the rescue:"
   ]
  },
  {
   "cell_type": "code",
   "execution_count": 40,
   "metadata": {},
   "outputs": [
    {
     "name": "stdout",
     "output_type": "stream",
     "text": [
      "abcde xyz\n",
      "abcde ecdab\n",
      "xyz ecdab\n"
     ]
    }
   ],
   "source": [
    "from itertools import combinations\n",
    "for x,y in combinations(\"abcde xyz ecdab\".split(), 2):\n",
    "    print(x,y)"
   ]
  },
  {
   "cell_type": "code",
   "execution_count": 50,
   "metadata": {},
   "outputs": [
    {
     "data": {
      "text/plain": [
       "(True, False)"
      ]
     },
     "execution_count": 50,
     "metadata": {},
     "output_type": "execute_result"
    }
   ],
   "source": [
    "def check_anagrams(line):\n",
    "    \"\"\"takes in a line, returns True if no word is an anagram of another word\n",
    "    false if an anagram is found\"\"\"\n",
    "    for x, y in combinations(line.split(), 2):\n",
    "        if is_anagram(x,y):\n",
    "            return False\n",
    "    return True\n",
    "    \n",
    "check_anagrams(\"abcde fghij\"), check_anagrams(\"abcde xyz ecdab\")"
   ]
  },
  {
   "cell_type": "code",
   "execution_count": 51,
   "metadata": {},
   "outputs": [
    {
     "data": {
      "text/plain": [
       "167"
      ]
     },
     "execution_count": 51,
     "metadata": {},
     "output_type": "execute_result"
    }
   ],
   "source": [
    "sum([check_anagrams(line) for line in data if len(line)>0])"
   ]
  },
  {
   "cell_type": "markdown",
   "metadata": {},
   "source": [
    "Done! I could do this without using collections or itertools, but that would just make this significantly more verbose, without any gain in speed that I can think of."
   ]
  }
 ],
 "metadata": {
  "kernelspec": {
   "display_name": "Python [default]",
   "language": "python",
   "name": "python3"
  },
  "language_info": {
   "codemirror_mode": {
    "name": "ipython",
    "version": 3
   },
   "file_extension": ".py",
   "mimetype": "text/x-python",
   "name": "python",
   "nbconvert_exporter": "python",
   "pygments_lexer": "ipython3",
   "version": "3.7.0"
  }
 },
 "nbformat": 4,
 "nbformat_minor": 2
}

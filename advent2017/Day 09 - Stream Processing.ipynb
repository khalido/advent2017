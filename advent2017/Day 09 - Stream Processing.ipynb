{
 "cells": [
  {
   "cell_type": "markdown",
   "metadata": {},
   "source": [
    "# --- Day 9: Stream Processing ---\n",
    "\n",
    "A large stream blocks your path. According to the locals, it's not safe to cross the stream at the moment because it's full of garbage. You look down at the stream; rather than water, you discover that it's a stream of characters.\n",
    "\n",
    "You sit for a while and record part of the stream (your puzzle input). The characters represent groups - sequences that begin with { and end with }. Within a group, there are zero or more other things, separated by commas: either another group or garbage. Since groups can contain other groups, a } only closes the most-recently-opened unclosed group - that is, they are nestable. Your puzzle input represents a single, large group which itself contains many smaller ones.\n",
    "\n",
    "Sometimes, instead of a group, you will find garbage. Garbage begins with < and ends with >. Between those angle brackets, almost any character can appear, including { and }. Within garbage, < has no special meaning.\n",
    "\n",
    "In a futile attempt to clean up the garbage, some program has canceled some of the characters within it using !: inside garbage, any character that comes after ! should be ignored, including <, >, and even another !.\n",
    "\n",
    "You don't see any characters that deviate from these rules. Outside garbage, you only find well-formed groups, and garbage always terminates according to the rules above.\n",
    "\n",
    "Here are some self-contained pieces of garbage:\n",
    "\n",
    "```\n",
    "<>, empty garbage.\n",
    "<random characters>, garbage containing random characters.\n",
    "<<<<>, because the extra < are ignored.\n",
    "<{!>}>, because the first > is canceled.\n",
    "<!!>, because the second ! is canceled, allowing the > to terminate the garbage.\n",
    "<!!!>>, because the second ! and the first > are canceled.\n",
    "<{o\"i!a,<{i<a>, which ends at the first >.\n",
    "```\n",
    "  \n",
    "Here are some examples of whole streams and the number of groups they contain:\n",
    "\n",
    "```\n",
    "{}, 1 group.\n",
    "{{{}}}, 3 groups.\n",
    "{{},{}}, also 3 groups.\n",
    "{{{},{},{{}}}}, 6 groups.\n",
    "{<{},{},{{}}>}, 1 group (which itself contains garbage).\n",
    "{<a>,<a>,<a>,<a>}, 1 group.\n",
    "{{<a>},{<a>},{<a>},{<a>}}, 5 groups.\n",
    "{{<!>},{<!>},{<!>},{<a>}}, 2 groups (since all but the last > are canceled).\n",
    "```\n",
    "\n",
    "Your goal is to find the total score for all groups in your input. Each group is assigned a score which is one more than the score of the group that immediately contains it. (The outermost group gets a score of 1.)\n",
    "\n",
    "```\n",
    "{}, score of 1.\n",
    "{{{}}}, score of 1 + 2 + 3 = 6.\n",
    "{{},{}}, score of 1 + 2 + 2 = 5.\n",
    "{{{},{},{{}}}}, score of 1 + 2 + 3 + 3 + 3 + 4 = 16.\n",
    "{<a>,<a>,<a>,<a>}, score of 1.\n",
    "{{<ab>},{<ab>},{<ab>},{<ab>}}, score of 1 + 2 + 2 + 2 + 2 = 9.\n",
    "{{<!!>},{<!!>},{<!!>},{<!!>}}, score of 1 + 2 + 2 + 2 + 2 = 9.\n",
    "{{<a!>},{<a!>},{<a!>},{<ab>}}, score of 1 + 2 = 3.\n",
    "```\n",
    "   \n",
    "What is the total score for all groups in your input?"
   ]
  },
  {
   "cell_type": "markdown",
   "metadata": {},
   "source": [
    "First, I'm going to remove the garbage characters by:\n",
    "- find the location of `<`\n",
    "- find the location of `<`. This should not be right after `!`"
   ]
  },
  {
   "cell_type": "code",
   "execution_count": 48,
   "metadata": {},
   "outputs": [
    {
     "name": "stdout",
     "output_type": "stream",
     "text": [
      "\n",
      "{{}}\n",
      "{}\n",
      "{{},{},{},{}}\n",
      "{{}}\n"
     ]
    }
   ],
   "source": [
    "def remove_garbage(stream):\n",
    "    \"\"\"takes in a stream of characters and returns a cleaned up version\n",
    "    garbage is characters b/w < and > and ! inside garbage cancels the character after it\"\"\"\n",
    "    \n",
    "    clean_input = \"\"\n",
    "    inside_garbage = False\n",
    "    escape_next = False\n",
    "    \n",
    "    for i, char in enumerate(stream):\n",
    "        \n",
    "        if not inside_garbage:\n",
    "            if char == \"<\":\n",
    "                inside_garbage = True\n",
    "            else:\n",
    "                clean_input += char\n",
    "        else: # we are inside garbage now\n",
    "            if char == \"!\" and not escape_next:\n",
    "                escape_next = True\n",
    "            elif char == \">\" and not escape_next:\n",
    "                inside_garbage = False\n",
    "            elif char is not \"!\" and escape_next:\n",
    "                escape_next = False\n",
    "            elif char is \"!\" and escape_next:\n",
    "                escape_next = False\n",
    "        \n",
    "    return clean_input\n",
    "\n",
    "print(remove_garbage(\"<{!>}>\"))\n",
    "print(remove_garbage(\"{{<a!>},{<a!>},{<a!>},{<ab>}}\"))\n",
    "print(remove_garbage(\"{}\"))\n",
    "print(remove_garbage(\"{{<!!>},{<!!>},{<!!>},{<!!>}}\"))\n",
    "print(remove_garbage(\"{{<a!>},{<a!>},{<a!>},{<ab>}}\"))"
   ]
  },
  {
   "cell_type": "markdown",
   "metadata": {},
   "source": [
    "This looks like a job for recursion, but I'm going to do it the easy way:"
   ]
  },
  {
   "cell_type": "code",
   "execution_count": 68,
   "metadata": {},
   "outputs": [
    {
     "data": {
      "text/plain": [
       "1"
      ]
     },
     "execution_count": 68,
     "metadata": {},
     "output_type": "execute_result"
    }
   ],
   "source": [
    "def score(stream):\n",
    "    \"\"\"takes in a stream of characters and returns the score\"\"\"\n",
    "    stream = remove_garbage(stream)\n",
    "    \n",
    "    inside_group = False\n",
    "    group_count = 0\n",
    "    total_count = 0\n",
    "    \n",
    "    for i, char in enumerate(stream):\n",
    "        if char == \"{\":\n",
    "            inside_group = True\n",
    "            group_count += 1\n",
    "        if char == \"}\":\n",
    "            total_count += group_count\n",
    "            group_count -= 1\n",
    "    \n",
    "    return total_count\n",
    "                \n",
    "score(\"{}\")   "
   ]
  },
  {
   "cell_type": "markdown",
   "metadata": {},
   "source": [
    "test cases from the examples above:"
   ]
  },
  {
   "cell_type": "code",
   "execution_count": 70,
   "metadata": {},
   "outputs": [],
   "source": [
    "assert score(\"{}\") == 1\n",
    "assert score(\"{{{}}}\") == 6\n",
    "assert score(\"{{},{}}\") == 5\n",
    "assert score(\"{{{},{},{{}}}}\") == 16\n",
    "assert score(\"{<a>,<a>,<a>,<a>}\") == 1\n",
    "assert score(\"{{<ab>},{<ab>},{<ab>},{<ab>}}\") == 9\n",
    "assert score(\"{{<!!>},{<!!>},{<!!>},{<!!>}}\") == 9\n",
    "assert score(\"{{<a!>},{<a!>},{<a!>},{<ab>}}\") == 3"
   ]
  },
  {
   "cell_type": "code",
   "execution_count": 71,
   "metadata": {},
   "outputs": [
    {
     "data": {
      "text/plain": [
       "'{{{{{<!>,<!o,!!!>{>,{<<a!>u!>eio!>ui>}},{},{{<!!e!>>},{{<uo\\'<!!!>>},{<!>\\'!>},<e!>,<\"ea!!!>!>,<>}}}},{{{{<\"a\">,<!><<>}}}},{{{{{},{<{!!\"!><ae<},!>!>!!!>}\\'!!>}},<!!a{!!!!!>!>,<!!!>,<{oiu<a!!,<>},{<>}}}},{{{{<eoa!!eeea{!,<>}},{{<!!!!,}!>!!a!!!}e!>},<!!!!!>!>i!e!>,<!u<!!{!!!>!!!>>}}}},{{{{{<!ea,uio!}\"!>},<!>},<u<!!!!o!<,!>>,<!>},<\">},{}},{<ua\"!>,<!!!>eouaa\"o}!!!>!>,<>}},{<a}!>!!<\\'a!!<!u!!!!!>!!!>!!!a!>},<!>,<>}},{{{},{{{},<ua}!>!!!>i}}u!!!>},<!>!ii!!\\'!,>},{{<{>},{<i<!!!e}!>,<!\"\\'a!!u!!{\\',>}}}},{<!>},<!!!!},o}!!}{!!!\">}}},{{{{},{<!>},<!!!!!>}}{\\'>}}},{{{{<},{a!>,<>}},{<>,<!i>}},{{{<\"u!i{!i}a!!!>\"\\'>}}}},{{{<<e!\\'!!i\\'!!}{!>,<u,\"\"!!i<ui!!!!!>!!<>},<!!!>\\'u!!ea!>u\\'!>}!!!!!>>},{{}},{<\"i}u,,>}}}},{{{{{{<\\',!'"
      ]
     },
     "execution_count": 71,
     "metadata": {},
     "output_type": "execute_result"
    }
   ],
   "source": [
    "with open('puzzle_inputs/day9_input.txt') as f:\n",
    "    puzzle_input = f.read()\n",
    "puzzle_input[:700]"
   ]
  },
  {
   "cell_type": "code",
   "execution_count": 72,
   "metadata": {},
   "outputs": [
    {
     "data": {
      "text/plain": [
       "12803"
      ]
     },
     "execution_count": 72,
     "metadata": {},
     "output_type": "execute_result"
    }
   ],
   "source": [
    "score(puzzle_input)"
   ]
  },
  {
   "cell_type": "markdown",
   "metadata": {},
   "source": [
    "# --- Part Two ---\n",
    "\n",
    "Now, you're ready to remove the garbage.\n",
    "\n",
    "To prove you've removed it, you need to count all of the characters within the garbage. The leading and trailing < and > don't count, nor do any canceled characters or the ! doing the canceling.\n",
    "\n",
    "```\n",
    "<>, 0 characters.\n",
    "<random characters>, 17 characters.\n",
    "<<<<>, 3 characters.\n",
    "<{!>}>, 2 characters.\n",
    "<!!>, 0 characters.\n",
    "<!!!>>, 0 characters.\n",
    "<{o\"i!a,<{i<a>, 10 characters.\n",
    "```\n",
    "\n",
    "How many non-canceled characters are within the garbage in your puzzle input?"
   ]
  },
  {
   "cell_type": "markdown",
   "metadata": {},
   "source": [
    "easy, just modify the remove garbage function to count the characters removed "
   ]
  },
  {
   "cell_type": "code",
   "execution_count": 73,
   "metadata": {},
   "outputs": [
    {
     "name": "stdout",
     "output_type": "stream",
     "text": [
      "2 should be 2\n",
      "10 should be 10\n"
     ]
    }
   ],
   "source": [
    "def remove_garbage_and_count(stream):\n",
    "    \"\"\"takes in a stream of characters and returns a cleaned up version\n",
    "    garbage is characters b/w < and > and ! inside garbage cancels the character after it\"\"\"\n",
    "    \n",
    "    clean_input = \"\"\n",
    "    inside_garbage = False\n",
    "    escape_next = False\n",
    "    garbage_count = 0\n",
    "    \n",
    "    for i, char in enumerate(stream):\n",
    "        \n",
    "        if not inside_garbage:\n",
    "            if char == \"<\":\n",
    "                inside_garbage = True\n",
    "            else:\n",
    "                clean_input += char\n",
    "        else: # we are inside garbage now\n",
    "            if char == \"!\" and not escape_next:\n",
    "                escape_next = True\n",
    "            elif char == \">\" and not escape_next:\n",
    "                inside_garbage = False\n",
    "            elif char is not \"!\" and escape_next:\n",
    "                escape_next = False\n",
    "            elif char is \"!\" and escape_next:\n",
    "                escape_next = False\n",
    "            else:\n",
    "                garbage_count += 1\n",
    "        \n",
    "    return garbage_count\n",
    "\n",
    "print(remove_garbage_and_count(\"<{!>}>\"), \"should be 2\")\n",
    "print(remove_garbage_and_count(r'<{o\"i!a,<{i<a>'), \"should be 10\")"
   ]
  },
  {
   "cell_type": "code",
   "execution_count": 74,
   "metadata": {},
   "outputs": [
    {
     "data": {
      "text/plain": [
       "6425"
      ]
     },
     "execution_count": 74,
     "metadata": {},
     "output_type": "execute_result"
    }
   ],
   "source": [
    "remove_garbage_and_count(puzzle_input)"
   ]
  },
  {
   "cell_type": "markdown",
   "metadata": {},
   "source": [
    "## Notes:\n",
    "\n",
    "- could have used regex to find groups\n",
    "- my group counting works only for this instance, better solutions exist, look up"
   ]
  }
 ],
 "metadata": {
  "kernelspec": {
   "display_name": "Python 3",
   "language": "python",
   "name": "python3"
  },
  "language_info": {
   "codemirror_mode": {
    "name": "ipython",
    "version": 3
   },
   "file_extension": ".py",
   "mimetype": "text/x-python",
   "name": "python",
   "nbconvert_exporter": "python",
   "pygments_lexer": "ipython3",
   "version": "3.6.3"
  }
 },
 "nbformat": 4,
 "nbformat_minor": 2
}

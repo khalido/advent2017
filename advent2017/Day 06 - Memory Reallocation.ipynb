{
 "cells": [
  {
   "cell_type": "markdown",
   "metadata": {},
   "source": [
    "# --- Day 6: Memory Reallocation ---\n",
    "\n",
    "http://adventofcode.com/2017/day/6\n",
    "\n",
    "A debugger program here is having an issue: it is trying to repair a memory reallocation routine, but it keeps getting stuck in an infinite loop.\n",
    "\n",
    "In this area, there are sixteen memory banks; each memory bank can hold any number of blocks. The goal of the reallocation routine is to balance the blocks between the memory banks.\n",
    "\n",
    "The reallocation routine operates in cycles. In each cycle, it finds the memory bank with the most blocks (ties won by the lowest-numbered memory bank) and redistributes those blocks among the banks. To do this, it removes all of the blocks from the selected bank, then moves to the next (by index) memory bank and inserts one of the blocks. It continues doing this until it runs out of blocks; if it reaches the last memory bank, it wraps around to the first one.\n",
    "\n",
    "The debugger would like to know how many redistributions can be done before a blocks-in-banks configuration is produced that has been seen before.\n",
    "\n",
    "For example, imagine a scenario with only four memory banks:\n",
    "\n",
    "- The banks start with 0, 2, 7, and 0 blocks. The third bank has the most blocks, so it is chosen for redistribution.\n",
    "- Starting with the next bank (the fourth bank) and then continuing to the first bank, the second bank, and so on, the 7 blocks are spread out over the memory banks. The fourth, first, and second banks get two blocks each, and the third bank gets one back. The final result looks like this: 2 4 1 2.\n",
    "- Next, the second bank is chosen because it contains the most blocks (four). Because there are four memory banks, each gets one block. The result is: 3 1 2 3.\n",
    "- Now, there is a tie between the first and fourth memory banks, both of which have three blocks. The first bank wins the tie, and its three blocks are distributed evenly over the other three banks, leaving it with none: 0 2 3 4.\n",
    "- The fourth bank is chosen, and its four blocks are distributed such that each of the four banks receives one: 1 3 4 1.\n",
    "- The third bank is chosen, and the same thing happens: 2 4 1 2.\n",
    "\n",
    "At this point, we've reached a state we've seen before: 2 4 1 2 was already seen. The infinite loop is detected after the fifth block redistribution cycle, and so the answer in this example is 5.\n",
    "\n",
    "Given the initial block counts in your puzzle input, how many redistribution cycles must be completed before a configuration is produced that has been seen before?"
   ]
  },
  {
   "cell_type": "code",
   "execution_count": 72,
   "metadata": {},
   "outputs": [
    {
     "data": {
      "text/plain": [
       "[2, 8, 8, 5, 4, 2, 3, 1, 5, 5]"
      ]
     },
     "execution_count": 72,
     "metadata": {},
     "output_type": "execute_result"
    }
   ],
   "source": [
    "with open('puzzle_inputs/day6_input.txt') as f:\n",
    "    data = f.read().split(\"\\t\")\n",
    "data = [int(i) for i in data if len(i)>0]\n",
    "data[:10]"
   ]
  },
  {
   "cell_type": "code",
   "execution_count": 45,
   "metadata": {},
   "outputs": [
    {
     "data": {
      "text/plain": [
       "[2, 4, 1, 2]"
      ]
     },
     "execution_count": 45,
     "metadata": {},
     "output_type": "execute_result"
    }
   ],
   "source": [
    "test_case = [0, 2, 7, 0] # answer is 5\n",
    "\n",
    "def distribute_blocks(n):\n",
    "    \"\"\"takes in a list of nums finds the highest value and stores it,\n",
    "    makes that position zero and redistributes the numbers 1 at a time to the list\"\"\"\n",
    "    nums = n.copy() # else it was modifiying the original list\n",
    "    distribute = max(nums) # the highest val\n",
    "    pos = nums.index(distribute) # the first occurence of the higest val\n",
    "    nums[pos] = 0\n",
    "    \n",
    "    while distribute > 0:\n",
    "        pos += 1\n",
    "        if pos > len(nums) - 1:\n",
    "            pos = 0\n",
    "        nums[pos] += 1\n",
    "        \n",
    "        distribute -= 1\n",
    "    \n",
    "    return nums\n",
    "\n",
    "distribute_blocks(test_case)"
   ]
  },
  {
   "cell_type": "code",
   "execution_count": 56,
   "metadata": {},
   "outputs": [
    {
     "data": {
      "text/plain": [
       "5"
      ]
     },
     "execution_count": 56,
     "metadata": {},
     "output_type": "execute_result"
    }
   ],
   "source": [
    "test_case = [0, 2, 7, 0] # answer is 5\n",
    "\n",
    "def check_repeats(n):\n",
    "    \"\"\"takes in a list nums, keeps redistributing the higest num in it\n",
    "    until the list repeats, and returns the number of redistribution cycles\"\"\"\n",
    "    \n",
    "    nums = n.copy()\n",
    "    all_nums = [nums] # stores all the lists we've seen\n",
    "    cycles = 0\n",
    "    \n",
    "    while True:\n",
    "        new_num = distribute_blocks(nums)\n",
    "        cycles += 1\n",
    "        if new_num in all_nums:\n",
    "            return cycles\n",
    "        all_nums.append(new_num)\n",
    "        nums = new_num\n",
    "        \n",
    "check_repeats(test_case)"
   ]
  },
  {
   "cell_type": "code",
   "execution_count": 58,
   "metadata": {},
   "outputs": [
    {
     "data": {
      "text/plain": [
       "3156"
      ]
     },
     "execution_count": 58,
     "metadata": {},
     "output_type": "execute_result"
    }
   ],
   "source": [
    "check_repeats(data)"
   ]
  },
  {
   "cell_type": "markdown",
   "metadata": {},
   "source": [
    "Eureka!\n",
    "\n",
    "# --- Part Two ---\n",
    "\n",
    "Out of curiosity, the debugger would also like to know the size of the loop: starting from a state that has already been seen, how many block redistribution cycles must be performed before that same state is seen again?\n",
    "\n",
    "In the example above, 2 4 1 2 is seen again after four cycles, and so the answer in that example would be 4.\n",
    "\n",
    "How many cycles are in the infinite loop that arises from the configuration in your puzzle input?"
   ]
  },
  {
   "cell_type": "code",
   "execution_count": 70,
   "metadata": {},
   "outputs": [
    {
     "data": {
      "text/plain": [
       "4"
      ]
     },
     "execution_count": 70,
     "metadata": {},
     "output_type": "execute_result"
    }
   ],
   "source": [
    "test_case = [0, 2, 7, 0] # answer is 5\n",
    "\n",
    "def check_second_repeats(n):\n",
    "    \"\"\"takes in a list nums, keeps redistributing the higest num in it\n",
    "    until the list repeats, and returns the number of redistribution cycles\"\"\"\n",
    "    \n",
    "    nums = n.copy()\n",
    "    all_nums = [nums] # stores all the lists we've seen\n",
    "    cycles = 0\n",
    "    repeats = 0\n",
    "    \n",
    "    while True:\n",
    "        new_num = distribute_blocks(nums)\n",
    "        cycles += 1\n",
    "        \n",
    "        if new_num in all_nums:\n",
    "            if repeats > 0:\n",
    "                return cycles\n",
    "            repeats += 1\n",
    "            cycles = 0\n",
    "            all_nums = []\n",
    "        \n",
    "        all_nums.append(new_num)\n",
    "        nums = new_num\n",
    "        \n",
    "check_second_repeats(test_case)"
   ]
  },
  {
   "cell_type": "code",
   "execution_count": 73,
   "metadata": {},
   "outputs": [
    {
     "data": {
      "text/plain": [
       "1610"
      ]
     },
     "execution_count": 73,
     "metadata": {},
     "output_type": "execute_result"
    }
   ],
   "source": [
    "check_second_repeats(data)"
   ]
  },
  {
   "cell_type": "markdown",
   "metadata": {},
   "source": [
    "Done! It was a good leasson in copying lists, though I might have used copy one or two places where I didn't have to. check later."
   ]
  }
 ],
 "metadata": {
  "kernelspec": {
   "display_name": "Python 3",
   "language": "python",
   "name": "python3"
  },
  "language_info": {
   "codemirror_mode": {
    "name": "ipython",
    "version": 3
   },
   "file_extension": ".py",
   "mimetype": "text/x-python",
   "name": "python",
   "nbconvert_exporter": "python",
   "pygments_lexer": "ipython3",
   "version": "3.6.3"
  }
 },
 "nbformat": 4,
 "nbformat_minor": 2
}

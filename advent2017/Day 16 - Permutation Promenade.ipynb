{
 "cells": [
  {
   "cell_type": "markdown",
   "metadata": {},
   "source": [
    "# --- Day 16: Permutation Promenade ---\n",
    "\n",
    "You come upon a very unusual sight; a group of programs here appear to be dancing.\n",
    "\n",
    "There are sixteen programs in total, named a through p. They start by standing in a line: a stands in position 0, b stands in position 1, and so on until p, which stands in position 15.\n",
    "\n",
    "The programs' dance consists of a sequence of dance moves:\n",
    "\n",
    "- Spin, written sX, makes X programs move from the end to the front, but maintain their order otherwise. (For example, s3 on abcde produces cdeab).\n",
    "- Exchange, written xA/B, makes the programs at positions A and B swap places.\n",
    "- Partner, written pA/B, makes the programs named A and B swap places.\n",
    "\n",
    "For example, with only five programs standing in a line (abcde), they could do the following dance:\n",
    "\n",
    "- s1, a spin of size 1: eabcd.\n",
    "- x3/4, swapping the last two programs: eabdc.\n",
    "- pe/b, swapping programs e and b: baedc.\n",
    "\n",
    "After finishing their dance, the programs end up in order baedc.\n",
    "\n",
    "You watch the dance for a while and record their dance moves (your puzzle input). **In what order are the programs standing after their dance?**"
   ]
  },
  {
   "cell_type": "code",
   "execution_count": 105,
   "metadata": {},
   "outputs": [
    {
     "data": {
      "text/plain": [
       "['x6/12',\n",
       " 's14',\n",
       " 'x14/1',\n",
       " 's5',\n",
       " 'x12/7',\n",
       " 'pn/i',\n",
       " 'x10/11',\n",
       " 'ph/p',\n",
       " 'x7/4',\n",
       " 's7']"
      ]
     },
     "execution_count": 105,
     "metadata": {},
     "output_type": "execute_result"
    }
   ],
   "source": [
    "# the puzzle input\n",
    "with open('puzzle_inputs/day16_input.txt') as f:\n",
    "    data = f.read().strip().split(\",\")\n",
    "puzzle_input = [line for line in data]\n",
    "puzzle_input[:10]"
   ]
  },
  {
   "cell_type": "markdown",
   "metadata": {},
   "source": [
    "First up, I should be able to record the program positions in a list, and change them around:"
   ]
  },
  {
   "cell_type": "code",
   "execution_count": 25,
   "metadata": {},
   "outputs": [
    {
     "name": "stdout",
     "output_type": "stream",
     "text": [
      "['a', 'b', 'c', 'd', 'e', 'f', 'g', 'h', 'i', 'j', 'k', 'l', 'm', 'n', 'o', 'p']\n"
     ]
    }
   ],
   "source": [
    "programs = [chr(i) for i in range(ord('a'),ord('q'))]\n",
    "print(programs)"
   ]
  },
  {
   "cell_type": "markdown",
   "metadata": {},
   "source": [
    "Now the functions to perform the dance:"
   ]
  },
  {
   "cell_type": "code",
   "execution_count": 101,
   "metadata": {},
   "outputs": [
    {
     "name": "stdout",
     "output_type": "stream",
     "text": [
      "['e', 'a', 'b', 'c', 'd']\n",
      "['e', 'a', 'b', 'd', 'c']\n",
      "['b', 'a', 'e', 'd', 'c']\n"
     ]
    },
    {
     "data": {
      "text/plain": [
       "True"
      ]
     },
     "execution_count": 101,
     "metadata": {},
     "output_type": "execute_result"
    }
   ],
   "source": [
    "def spin(x, progs=programs):\n",
    "    \"\"\"makes X programs move from the end to the front, \n",
    "    but maintain their order otherwise. (For example, s3 on abcde produces cdeab).\"\"\"\n",
    "    return progs[-x:] + progs[:-x]\n",
    "\n",
    "def exchange(a,b, progs=programs):\n",
    "    \"\"\"makes the programs at positions A and B swap places.\"\"\"\n",
    "    a_program = progs[a]\n",
    "    b_program = progs[b]\n",
    "    progs[a] = b_program\n",
    "    progs[b] = a_program\n",
    "    return progs\n",
    "\n",
    "def partner(a,b, progs=programs):\n",
    "    \"\"\"makes the programs named A and B swap places\"\"\"\n",
    "    a = chr(a)\n",
    "    b = chr(b)\n",
    "    a_index = progs.index(a)\n",
    "    b_index = progs.index(b)\n",
    "    progs[a_index] = b\n",
    "    progs[b_index] = a\n",
    "    return progs\n",
    "\n",
    "programs = list(\"abcde\")\n",
    "programs = spin(1, progs=programs)\n",
    "print(programs)\n",
    "programs = exchange(3,4, progs=programs)\n",
    "print(programs)\n",
    "programs=partner(ord(\"e\"), ord(\"b\"), progs=programs)\n",
    "print(programs)\n",
    "list(\"baedc\") == programs"
   ]
  },
  {
   "cell_type": "markdown",
   "metadata": {},
   "source": [
    "That was straightforward, now to parse the puzzle input:"
   ]
  },
  {
   "cell_type": "code",
   "execution_count": 102,
   "metadata": {},
   "outputs": [
    {
     "data": {
      "text/plain": [
       "['s1', 'x3/4', 'pe/b']"
      ]
     },
     "execution_count": 102,
     "metadata": {},
     "output_type": "execute_result"
    }
   ],
   "source": [
    "test_input = [\"s1\",\"x3/4\",\"pe/b\"]\n",
    "test_input"
   ]
  },
  {
   "cell_type": "code",
   "execution_count": 128,
   "metadata": {},
   "outputs": [
    {
     "name": "stdout",
     "output_type": "stream",
     "text": [
      "['a', 'b', 'c', 'd', 'e']\n",
      "s1\n",
      "['e', 'a', 'b', 'c', 'd']\n",
      "x3/4\n",
      "['e', 'a', 'b', 'd', 'c']\n",
      "pe/b\n",
      "['b', 'a', 'e', 'd', 'c']\n"
     ]
    }
   ],
   "source": [
    "def do_move(move, progs=programs):\n",
    "    \"\"\"takes in a move as a string and the programs to perform the move on,\n",
    "    does the move and returns the program\"\"\"\n",
    "    moves = {\"s\": \"spin\", \"x\": \"exchange\", \"p\": \"partner\"}\n",
    "    \n",
    "    func = moves[move[0]]\n",
    "    \n",
    "    if func == \"spin\":\n",
    "        num = int(move[1:])\n",
    "        func += f\"({num}, progs)\"\n",
    "    elif func == \"exchange\":\n",
    "        a, b = (int(i) for i in move[1:].split(\"/\"))\n",
    "        func += f\"({a}, {b}, progs)\"\n",
    "    elif func == \"partner\":\n",
    "        a, b = move[1:].split(\"/\")\n",
    "        func += f\"({ord(a)}, {ord(b)}, progs)\"\n",
    "    return eval(func)\n",
    "\n",
    "programs = list(\"abcde\")\n",
    "print(programs)\n",
    "for move in test_input:\n",
    "    print(move)\n",
    "    programs = do_move(move, programs)\n",
    "    print(programs)"
   ]
  },
  {
   "cell_type": "code",
   "execution_count": 129,
   "metadata": {},
   "outputs": [
    {
     "name": "stdout",
     "output_type": "stream",
     "text": [
      "['a', 'b', 'c', 'd', 'e', 'f', 'g', 'h', 'i', 'j', 'k', 'l', 'm', 'n', 'o', 'p']\n",
      "['c', 'g', 'p', 'f', 'h', 'd', 'n', 'a', 'm', 'b', 'e', 'k', 'j', 'i', 'o', 'l']\n",
      "cgpfhdnambekjiol\n"
     ]
    }
   ],
   "source": [
    "programs = [chr(i) for i in range(ord('a'),ord('q'))]\n",
    "print(programs)\n",
    "\n",
    "for move in puzzle_input:\n",
    "    programs = do_move(move, programs)\n",
    "\n",
    "print(programs)\n",
    "print(\"\".join(programs))"
   ]
  },
  {
   "cell_type": "markdown",
   "metadata": {},
   "source": [
    "# --- Part Two ---\n",
    "\n",
    "Now that you're starting to get a feel for the dance moves, you turn your attention to the dance as a whole.\n",
    "\n",
    "Keeping the positions they ended up in from their previous dance, the programs perform it again and again: including the first dance, a total of one billion (1000000000) times.\n",
    "\n",
    "In the example above, their second dance would begin with the order baedc, and use the same dance moves:\n",
    "\n",
    "- s1, a spin of size 1: cbaed.\n",
    "- x3/4, swapping the last two programs: cbade.\n",
    "- pe/b, swapping programs e and b: ceadb.\n",
    "\n",
    "**In what order are the programs standing after their billion dances?**\n",
    "\n"
   ]
  },
  {
   "cell_type": "code",
   "execution_count": 157,
   "metadata": {},
   "outputs": [
    {
     "name": "stdout",
     "output_type": "stream",
     "text": [
      "['a', 'b', 'c', 'd', 'e', 'f', 'g', 'h', 'i', 'j', 'k', 'l', 'm', 'n', 'o', 'p']\n",
      "1 cgpfhdnambekjiol\n",
      "11 jpnldobheikfagmc\n",
      "21 gobekdhmcnjplaif\n",
      "31 cgpahonfmbekjidl\n",
      "41 jpnlodbheikafgmc\n",
      "51 gdbekohmcnjplfia\n",
      "match found, at cycle: 60\n",
      "['c', 'g', 'p', 'f', 'h', 'd', 'n', 'a', 'm', 'b', 'e', 'k', 'j', 'i', 'o', 'l']\n",
      "cgpfhdnambekjiol\n"
     ]
    }
   ],
   "source": [
    "programs = [chr(i) for i in range(ord('a'),ord('q'))]\n",
    "print(programs)\n",
    "\n",
    "seen = []\n",
    "\n",
    "for i in range(10**9):\n",
    "    for move in puzzle_input:\n",
    "        programs = do_move(move, programs)\n",
    "    if \"\".join(programs) in seen:\n",
    "        print(\"match found, at cycle:\", i)\n",
    "        break\n",
    "    else:\n",
    "        seen.append(\"\".join(programs))\n",
    "    \n",
    "    if i % 10 == 0:\n",
    "        print(len(seen), \"\".join(programs))\n",
    "    \n",
    "print(programs)\n",
    "print(\"\".join(programs))"
   ]
  },
  {
   "cell_type": "markdown",
   "metadata": {},
   "source": [
    "So after 60 dances, we get a repeated program. that means to find the 1 billionth dance we only need to evaluate the numbers after billion % 60:"
   ]
  },
  {
   "cell_type": "code",
   "execution_count": 160,
   "metadata": {},
   "outputs": [
    {
     "data": {
      "text/plain": [
       "40"
      ]
     },
     "execution_count": 160,
     "metadata": {},
     "output_type": "execute_result"
    }
   ],
   "source": [
    "10**9 % 60"
   ]
  },
  {
   "cell_type": "code",
   "execution_count": 163,
   "metadata": {},
   "outputs": [
    {
     "name": "stdout",
     "output_type": "stream",
     "text": [
      "['g', 'j', 'm', 'i', 'o', 'f', 'c', 'n', 'a', 'e', 'h', 'p', 'd', 'l', 'b', 'k']\n",
      "gjmiofcnaehpdlbk\n"
     ]
    }
   ],
   "source": [
    "programs = ['c', 'g', 'p', 'f', 'h', 'd', 'n', 'a', 'm', 'b', 'e', 'k', 'j', 'i', 'o', 'l']\n",
    "for i in range(39):\n",
    "    for move in puzzle_input:\n",
    "        programs = do_move(move, programs)\n",
    "print(programs)\n",
    "print(\"\".join(programs))"
   ]
  }
 ],
 "metadata": {
  "kernelspec": {
   "display_name": "Python 3",
   "language": "python",
   "name": "python3"
  },
  "language_info": {
   "codemirror_mode": {
    "name": "ipython",
    "version": 3
   },
   "file_extension": ".py",
   "mimetype": "text/x-python",
   "name": "python",
   "nbconvert_exporter": "python",
   "pygments_lexer": "ipython3",
   "version": "3.6.4"
  }
 },
 "nbformat": 4,
 "nbformat_minor": 2
}

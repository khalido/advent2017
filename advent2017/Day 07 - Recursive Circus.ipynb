{
 "cells": [
  {
   "cell_type": "markdown",
   "metadata": {},
   "source": [
    "# --- Day 7: Recursive Circus ---\n",
    "\n",
    "Wandering further through the circuits of the computer, you come upon a tower of programs that have gotten themselves into a bit of trouble. A recursive algorithm has gotten out of hand, and now they're balanced precariously in a large tower.\n",
    "\n",
    "One program at the bottom supports the entire tower. It's holding a large disc, and on the disc are balanced several more sub-towers. At the bottom of these sub-towers, standing on the bottom disc, are other programs, each holding their own disc, and so on. At the very tops of these sub-sub-sub-...-towers, many programs stand simply keeping the disc below them balanced but with no disc of their own.\n",
    "\n",
    "You offer to help, but first you need to understand the structure of these towers. You ask each program to yell out their name, their weight, and (if they're holding a disc) the names of the programs immediately above them balancing on that disc. You write this information down (your puzzle input). Unfortunately, in their panic, they don't do this in an orderly fashion; by the time you're done, you're not sure which program gave which information.\n",
    "\n",
    "For example, if your list is the following:\n",
    "\n",
    "```\n",
    "pbga (66)\n",
    "xhth (57)\n",
    "ebii (61)\n",
    "havc (66)\n",
    "ktlj (57)\n",
    "fwft (72) -> ktlj, cntj, xhth\n",
    "qoyq (66)\n",
    "padx (45) -> pbga, havc, qoyq\n",
    "tknk (41) -> ugml, padx, fwft\n",
    "jptl (61)\n",
    "ugml (68) -> gyxo, ebii, jptl\n",
    "gyxo (61)\n",
    "cntj (57)\n",
    "```\n",
    "\n",
    "...then you would be able to recreate the structure of the towers that looks like this:\n",
    "\n",
    "```\n",
    "                gyxo\n",
    "              /     \n",
    "         ugml - ebii\n",
    "       /      \\     \n",
    "      |         jptl\n",
    "      |        \n",
    "      |         pbga\n",
    "     /        /\n",
    "tknk --- padx - havc\n",
    "     \\        \\\n",
    "      |         qoyq\n",
    "      |             \n",
    "      |         ktlj\n",
    "       \\      /     \n",
    "         fwft - cntj\n",
    "              \\     \n",
    "                xhth\n",
    "```\n",
    "\n",
    "In this example, tknk is at the bottom of the tower (the bottom program), and is holding up ugml, padx, and fwft. Those programs are, in turn, holding up other programs; in this example, none of those programs are holding up any other programs, and are all the tops of their own towers. (The actual tower balancing in front of you is much larger.)\n",
    "\n",
    "Before you're ready to help them, you need to make sure your information is correct. What is the name of the bottom program?"
   ]
  },
  {
   "cell_type": "markdown",
   "metadata": {},
   "source": [
    "## a non graph hacky way to answer this\n",
    "\n",
    "The obvious way to answer this is to build a graph, but since the problem is so well defined - there is only one parent node, we can figure this out without lists.\n",
    "\n",
    "First, the test input:"
   ]
  },
  {
   "cell_type": "code",
   "execution_count": 37,
   "metadata": {},
   "outputs": [
    {
     "name": "stdout",
     "output_type": "stream",
     "text": [
      "the test case answer is: tknk\n"
     ]
    },
    {
     "data": {
      "text/plain": [
       "['pbga (66)',\n",
       " 'xhth (57)',\n",
       " 'ebii (61)',\n",
       " 'havc (66)',\n",
       " 'ktlj (57)',\n",
       " 'fwft (72) -> ktlj, cntj, xhth',\n",
       " 'qoyq (66)',\n",
       " 'padx (45) -> pbga, havc, qoyq',\n",
       " 'tknk (41) -> ugml, padx, fwft',\n",
       " 'jptl (61)',\n",
       " 'ugml (68) -> gyxo, ebii, jptl',\n",
       " 'gyxo (61)',\n",
       " 'cntj (57)']"
      ]
     },
     "execution_count": 37,
     "metadata": {},
     "output_type": "execute_result"
    }
   ],
   "source": [
    "test_case = \"\"\"pbga (66)\n",
    "xhth (57)\n",
    "ebii (61)\n",
    "havc (66)\n",
    "ktlj (57)\n",
    "fwft (72) -> ktlj, cntj, xhth\n",
    "qoyq (66)\n",
    "padx (45) -> pbga, havc, qoyq\n",
    "tknk (41) -> ugml, padx, fwft\n",
    "jptl (61)\n",
    "ugml (68) -> gyxo, ebii, jptl\n",
    "gyxo (61)\n",
    "cntj (57)\"\"\".split(\"\\n\")\n",
    "\n",
    "print(f\"the test case answer is: tknk\")\n",
    "test_case"
   ]
  },
  {
   "cell_type": "markdown",
   "metadata": {},
   "source": [
    "Now a list of all the nodes:"
   ]
  },
  {
   "cell_type": "code",
   "execution_count": 3,
   "metadata": {},
   "outputs": [
    {
     "data": {
      "text/plain": [
       "['pbga',\n",
       " 'xhth',\n",
       " 'ebii',\n",
       " 'havc',\n",
       " 'ktlj',\n",
       " 'fwft',\n",
       " 'qoyq',\n",
       " 'padx',\n",
       " 'tknk',\n",
       " 'jptl',\n",
       " 'ugml',\n",
       " 'gyxo',\n",
       " 'cntj']"
      ]
     },
     "execution_count": 3,
     "metadata": {},
     "output_type": "execute_result"
    }
   ],
   "source": [
    "nodes = [line.split()[0] for line in test_case]\n",
    "nodes"
   ]
  },
  {
   "cell_type": "markdown",
   "metadata": {},
   "source": [
    "Now a list of just the parent nodes (the ones which have children):"
   ]
  },
  {
   "cell_type": "code",
   "execution_count": 4,
   "metadata": {},
   "outputs": [
    {
     "data": {
      "text/plain": [
       "['fwft', 'padx', 'tknk', 'ugml']"
      ]
     },
     "execution_count": 4,
     "metadata": {},
     "output_type": "execute_result"
    }
   ],
   "source": [
    "parents = [line.split()[0] for line in test_case if \"->\" in line]\n",
    "parents"
   ]
  },
  {
   "cell_type": "code",
   "execution_count": 5,
   "metadata": {},
   "outputs": [
    {
     "data": {
      "text/plain": [
       "[['ktlj,', 'cntj,', 'xhth'],\n",
       " ['pbga,', 'havc,', 'qoyq'],\n",
       " ['ugml,', 'padx,', 'fwft'],\n",
       " ['gyxo,', 'ebii,', 'jptl']]"
      ]
     },
     "execution_count": 5,
     "metadata": {},
     "output_type": "execute_result"
    }
   ],
   "source": [
    "children_nodes = [line.split()[3:] for line in test_case if \"->\" in line]\n",
    "children_nodes"
   ]
  },
  {
   "cell_type": "markdown",
   "metadata": {},
   "source": [
    "I want a nice flat list of all the children nodes, so I use chain to flatten out the list, and also here I strip the punctuation characters from the nodes:"
   ]
  },
  {
   "cell_type": "code",
   "execution_count": 6,
   "metadata": {},
   "outputs": [
    {
     "data": {
      "text/plain": [
       "['ktlj',\n",
       " 'cntj',\n",
       " 'xhth',\n",
       " 'pbga',\n",
       " 'havc',\n",
       " 'qoyq',\n",
       " 'ugml',\n",
       " 'padx',\n",
       " 'fwft',\n",
       " 'gyxo',\n",
       " 'ebii',\n",
       " 'jptl']"
      ]
     },
     "execution_count": 6,
     "metadata": {},
     "output_type": "execute_result"
    }
   ],
   "source": [
    "import re\n",
    "from itertools import chain\n",
    "childs = [re.sub('[\\W_]+', \"\", node) for node in chain(*children_nodes)]\n",
    "childs"
   ]
  },
  {
   "cell_type": "markdown",
   "metadata": {},
   "source": [
    "the answer should just be:"
   ]
  },
  {
   "cell_type": "code",
   "execution_count": 7,
   "metadata": {},
   "outputs": [
    {
     "data": {
      "text/plain": [
       "['tknk']"
      ]
     },
     "execution_count": 7,
     "metadata": {},
     "output_type": "execute_result"
    }
   ],
   "source": [
    "[node for node in parents if node not in childs]"
   ]
  },
  {
   "cell_type": "markdown",
   "metadata": {},
   "source": [
    "Now to make it into a function:"
   ]
  },
  {
   "cell_type": "code",
   "execution_count": 8,
   "metadata": {},
   "outputs": [
    {
     "data": {
      "text/plain": [
       "['tknk']"
      ]
     },
     "execution_count": 8,
     "metadata": {},
     "output_type": "execute_result"
    }
   ],
   "source": [
    "from itertools import chain\n",
    "    \n",
    "def top_node(test_case):\n",
    "    \"\"\"takes in a tree in text form and returns the name of the parent node\"\"\"\n",
    "    parents = [line.split()[0] for line in test_case if \"->\" in line]\n",
    "    children_nodes = [line.split()[3:] for line in test_case if \"->\" in line]\n",
    "    childs = [re.sub('[\\W_]+', \"\", node) for node in chain(*children_nodes)]\n",
    "    return [node for node in parents if node not in childs]\n",
    "\n",
    "top_node(test_case)"
   ]
  },
  {
   "cell_type": "markdown",
   "metadata": {},
   "source": [
    "Now to read in the puzzle data and get the parent node:"
   ]
  },
  {
   "cell_type": "code",
   "execution_count": 213,
   "metadata": {},
   "outputs": [
    {
     "data": {
      "text/plain": [
       "['tqefb (40)',\n",
       " 'lhrml (164) -> ecblhee, sdjshz',\n",
       " 'ykntwjm (16)',\n",
       " 'fbebcq (233) -> ilzfg, vqbvnf, idyiyg, tifpswp',\n",
       " 'rqjpza (1043) -> xszbzi, zafhcbb, qoouyiw',\n",
       " 'zazkyd (203) -> vzylhou, ndvkjn',\n",
       " 'ndfxn (48) -> brxmlaa, nlbvsaj',\n",
       " 'pfjpsxf (1714) -> uchxwm, ohpvb']"
      ]
     },
     "execution_count": 213,
     "metadata": {},
     "output_type": "execute_result"
    }
   ],
   "source": [
    "with open('puzzle_inputs/day7_input.txt') as f:\n",
    "    data = f.read().split(\"\\n\")\n",
    "data = [line for line in data if len(line)>0]\n",
    "data[:8]"
   ]
  },
  {
   "cell_type": "code",
   "execution_count": 214,
   "metadata": {},
   "outputs": [
    {
     "data": {
      "text/plain": [
       "['cyrupz']"
      ]
     },
     "execution_count": 214,
     "metadata": {},
     "output_type": "execute_result"
    }
   ],
   "source": [
    "top_node(data)"
   ]
  },
  {
   "cell_type": "markdown",
   "metadata": {},
   "source": [
    "And that works! Though my solution only deals with this puzzles case, a better one would be to buid a gragh, which it turns out I need to do for part 2 anyways..."
   ]
  },
  {
   "cell_type": "markdown",
   "metadata": {},
   "source": [
    "# --- Part Two ---\n",
    "\n",
    "The programs explain the situation: they can't get down. Rather, they could get down, if they weren't expending all of their energy trying to keep the tower balanced. Apparently, one program has the wrong weight, and until it's fixed, they're stuck here.\n",
    "\n",
    "For any program holding a disc, each program standing on that disc forms a sub-tower. Each of those sub-towers are supposed to be the same weight, or the disc itself isn't balanced. The weight of a tower is the sum of the weights of the programs in that tower.\n",
    "\n",
    "In the example above, this means that for ugml's disc to be balanced, gyxo, ebii, and jptl must all have the same weight, and they do: 61.\n",
    "\n",
    "However, for tknk to be balanced, each of the programs standing on its disc and all programs above it must each match. This means that the following sums must all be the same:\n",
    "\n",
    "```\n",
    "ugml + (gyxo + ebii + jptl) = 68 + (61 + 61 + 61) = 251\n",
    "padx + (pbga + havc + qoyq) = 45 + (66 + 66 + 66) = 243\n",
    "fwft + (ktlj + cntj + xhth) = 72 + (57 + 57 + 57) = 243\n",
    "```\n",
    "\n",
    "As you can see, tknk's disc is unbalanced: ugml's stack is heavier than the other two. Even though the nodes above ugml are balanced, ugml itself is too heavy: it needs to be 8 units lighter for its stack to weigh 243 and keep the towers balanced. If this change were made, its weight would be 60.\n",
    "\n",
    "Given that exactly one program is the wrong weight, what would its weight need to be to balance the entire tower?"
   ]
  },
  {
   "cell_type": "markdown",
   "metadata": {},
   "source": [
    "---\n",
    "\n",
    "I'm going to build a tower, and since we already know the bottom node from above, I'll start with that one. First, a class to hold the tower and all its sub towers:"
   ]
  },
  {
   "cell_type": "code",
   "execution_count": 215,
   "metadata": {},
   "outputs": [],
   "source": [
    "class Tower:\n",
    "    def __init__(self, name, weight, parent=None, sub_towers=[]):\n",
    "        self.name = name\n",
    "        self.weight = weight\n",
    "        self.parent = parent\n",
    "        self.sub_towers = sub_towers\n",
    "    \n",
    "    def total_weight(self):\n",
    "        \"\"\"returns total weight of the tower\"\"\"\n",
    "        if self.sub_towers!=[]:\n",
    "            sub_towers_weight = sum([t.total_weight() for t in self.sub_towers])\n",
    "            return self.weight + sub_towers_weight\n",
    "        else:\n",
    "            return self.weight\n",
    "        \n",
    "    def __str__(self):\n",
    "        subs = [tower.name for tower in self.sub_towers if self.sub_towers!=[]]\n",
    "        return f\"{self.name}, {self.weight}, has {subs} subtowers\""
   ]
  },
  {
   "cell_type": "markdown",
   "metadata": {},
   "source": [
    "Now a helper function to parse each nodes description:"
   ]
  },
  {
   "cell_type": "code",
   "execution_count": 218,
   "metadata": {},
   "outputs": [
    {
     "data": {
      "text/plain": [
       "('fbebcq', 233, ['ilzfg', 'vqbvnf', 'idyiyg', 'tifpswp'])"
      ]
     },
     "execution_count": 218,
     "metadata": {},
     "output_type": "execute_result"
    }
   ],
   "source": [
    "def parse_line(tower_desc):\n",
    "    \"\"\"takes in a line describing a tower and returns its name, weight, sub_towers\"\"\"\n",
    "    tower = tower_desc.split()\n",
    "    name = tower[0]\n",
    "    weight = re.sub('[\\W_]+', \"\", tower[1])\n",
    "    sub_towers = []\n",
    "    # deal with subtowers\n",
    "    if len(tower) > 3:\n",
    "        sub_towers_names = [re.sub('[\\W]+', \"\", node) for node in tower[3:]]\n",
    "        sub_towers = [st for st in sub_towers_names]\n",
    "        \n",
    "    return name, int(weight), sub_towers\n",
    "\n",
    "parse_line('fbebcq (233) -> ilzfg, vqbvnf, idyiyg, tifpswp')"
   ]
  },
  {
   "cell_type": "markdown",
   "metadata": {},
   "source": [
    "Now I'm going to use the Tower class and the parse_line function to recursively build out the entire tower:"
   ]
  },
  {
   "cell_type": "code",
   "execution_count": 219,
   "metadata": {},
   "outputs": [
    {
     "name": "stdout",
     "output_type": "stream",
     "text": [
      "the first node is tknk\n",
      "tknk, 41, has ['ugml', 'padx', 'fwft'] subtowers\n",
      "the towers weight: 778\n"
     ]
    }
   ],
   "source": [
    "first_node = top_node(test_case)[0]\n",
    "print(f\"the first node is {first_node}\")\n",
    "\n",
    "def build_tower(node, tower_description, parent=None):\n",
    "    \"\"\"takes in a node name and list of strings \n",
    "    representing the nodes, weights and their sub nodes, returns a tower\"\"\"\n",
    "    all_nodes = [line.split()[0] for line in tower_description]\n",
    "    node_index = all_nodes.index(node)\n",
    "    node_desc = tower_description[node_index]\n",
    "    \n",
    "    name, weight, sub_towers = parse_line(node_desc)\n",
    "    \n",
    "    tower = Tower(name, weight, parent, sub_towers)\n",
    "    if sub_towers:\n",
    "        for i, sub_t in enumerate(sub_towers):\n",
    "            sub_towers[i] = build_tower(sub_t, tower_description, name)       \n",
    "    return tower\n",
    "    \n",
    "tower = build_tower(first_node, test_case)\n",
    "print(tower)\n",
    "print(f\"the towers weight: {tower.total_weight()}\")"
   ]
  },
  {
   "cell_type": "markdown",
   "metadata": {},
   "source": [
    "Since only one tower is imbalanced, I'll go down through the tower, looking at its subtowers. Each subtower should have the same total weight, if it doesn't then that tower is causing the imbalance."
   ]
  },
  {
   "cell_type": "code",
   "execution_count": 253,
   "metadata": {},
   "outputs": [
    {
     "name": "stdout",
     "output_type": "stream",
     "text": [
      "found unbalance tower\n",
      "ugml, 68, has ['gyxo', 'ebii', 'jptl'] subtowers\n",
      "ugml weight should be: 60\n"
     ]
    }
   ],
   "source": [
    "from collections import Counter\n",
    "\n",
    "def find_unbalanced_subtower(tower):\n",
    "    \"\"\"takes in a tower and returns the unbalanced sub_tower\"\"\"\n",
    "    \n",
    "    if not tower.sub_towers:\n",
    "        return tower.weight\n",
    "    \n",
    "    unbalanced_tower, balanced_weight = None, 0\n",
    "    \n",
    "    names = [s.name for s in tower.sub_towers]\n",
    "    weights = [s.total_weight() for s in tower.sub_towers]\n",
    "    \n",
    "    # check if this is the unbalanced tower\n",
    "    if len(set(weights)) > 1:\n",
    "        for weight, count in Counter(weights).items():\n",
    "            if count == 1:\n",
    "                unbalanced_weight = weight\n",
    "            else:\n",
    "                balanced_weight = weight\n",
    "        print(\"found unbalance tower\")\n",
    "        unbalanced_tower = tower.sub_towers[weights.index(unbalanced_weight)]\n",
    "        \n",
    "        for t in unbalanced_tower.sub_towers:\n",
    "            find_unbalanced_subtower(t)\n",
    "            \n",
    "        return unbalanced_tower, balanced_weight\n",
    "    else:\n",
    "        for t in tower.sub_towers:\n",
    "            find_unbalanced_subtower(t)\n",
    "    \n",
    "    return None\n",
    "        \n",
    "ans, balanced_weight = find_unbalanced_subtower(tower)\n",
    "print(ans)\n",
    "# weight shold be:\n",
    "print(ans.name, \"weight should be:\", ans.weight - (ans.total_weight() - balanced_weight))"
   ]
  },
  {
   "cell_type": "markdown",
   "metadata": {},
   "source": [
    "Now to solve the test input:"
   ]
  },
  {
   "cell_type": "code",
   "execution_count": 254,
   "metadata": {},
   "outputs": [
    {
     "name": "stdout",
     "output_type": "stream",
     "text": [
      "the first node is cyrupz\n",
      "found unbalance tower\n",
      "found unbalance tower\n",
      "qjvtm, 82986, has ['myfhxk', 'boropxd', 'jixdvf'] subtowers\n",
      "82986 119432 119424\n",
      "qjvtm weight should be: 82978\n"
     ]
    }
   ],
   "source": [
    "first_node = top_node(data)[0]\n",
    "print(f\"the first node is {first_node}\")\n",
    "tower2 = build_tower(first_node, data)\n",
    "\n",
    "ans, balanced_weight = find_unbalanced_subtower(tower2)\n",
    "print(ans)\n",
    "print(ans.weight, ans.total_weight(), balanced_weight)\n",
    "print(ans.name, \"weight should be:\", ans.weight - (ans.total_weight() - balanced_weight))"
   ]
  },
  {
   "cell_type": "markdown",
   "metadata": {},
   "source": [
    "So we need to go down this node and find the unbalanced node:"
   ]
  },
  {
   "cell_type": "code",
   "execution_count": 248,
   "metadata": {},
   "outputs": [
    {
     "name": "stdout",
     "output_type": "stream",
     "text": [
      "found unbalance tower\n",
      "4285 12154 12146\n",
      "boropxd weight should be: 4277\n"
     ]
    }
   ],
   "source": [
    "ans2, balanced_weight = find_unbalanced_subtower(ans)\n",
    "print(ans2.weight, ans2.total_weight(), balanced_weight)\n",
    "print(ans2.name, \"weight should be:\", ans2.weight - (ans2.total_weight() - balanced_weight))"
   ]
  },
  {
   "cell_type": "code",
   "execution_count": 256,
   "metadata": {},
   "outputs": [
    {
     "name": "stdout",
     "output_type": "stream",
     "text": [
      "found unbalance tower\n",
      "201 1131 1123\n",
      "cwwwj weight should be: 193\n"
     ]
    }
   ],
   "source": [
    "ans3, balanced_weight = find_unbalanced_subtower(ans2)\n",
    "print(ans3.weight, ans3.total_weight(), balanced_weight)\n",
    "print(ans3.name, \"weight should be:\", ans3.weight - (ans3.total_weight() - balanced_weight))"
   ]
  },
  {
   "cell_type": "code",
   "execution_count": null,
   "metadata": {},
   "outputs": [],
   "source": []
  }
 ],
 "metadata": {
  "kernelspec": {
   "display_name": "Python 3",
   "language": "python",
   "name": "python3"
  },
  "language_info": {
   "codemirror_mode": {
    "name": "ipython",
    "version": 3
   },
   "file_extension": ".py",
   "mimetype": "text/x-python",
   "name": "python",
   "nbconvert_exporter": "python",
   "pygments_lexer": "ipython3",
   "version": "3.6.4"
  }
 },
 "nbformat": 4,
 "nbformat_minor": 2
}

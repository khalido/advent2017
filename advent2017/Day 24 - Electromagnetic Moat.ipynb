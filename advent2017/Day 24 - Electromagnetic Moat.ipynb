{
 "cells": [
  {
   "cell_type": "markdown",
   "metadata": {},
   "source": [
    "# --- Day 24: Electromagnetic Moat ---\n",
    "\n",
    "The CPU itself is a large, black building surrounded by a bottomless pit. Enormous metal tubes extend outward from the side of the building at regular intervals and descend down into the void. There's no way to cross, but you need to get inside.\n",
    "\n",
    "No way, of course, other than building a bridge out of the magnetic components strewn about nearby.\n",
    "\n",
    "Each component has two ports, one on each end. The ports come in all different types, and only matching types can be connected. You take an inventory of the components by their port types (your puzzle input). Each port is identified by the number of pins it uses; more pins mean a stronger connection for your bridge. A 3/7 component, for example, has a type-3 port on one side, and a type-7 port on the other.\n",
    "\n",
    "Your side of the pit is metallic; a perfect surface to connect a magnetic, zero-pin port. Because of this, the first port you use must be of type 0. It doesn't matter what type of port you end with; your goal is just to make the bridge as strong as possible.\n",
    "\n",
    "The strength of a bridge is the sum of the port types in each component. For example, if your bridge is made of components 0/3, 3/7, and 7/4, your bridge has a strength of 0+3 + 3+7 + 7+4 = 24.\n",
    "\n",
    "For example, suppose you had the following components:\n",
    "\n",
    "```\n",
    "0/2\n",
    "2/2\n",
    "2/3\n",
    "3/4\n",
    "3/5\n",
    "0/1\n",
    "10/1\n",
    "9/10\n",
    "```\n",
    "\n",
    "With them, you could make the following valid bridges:\n",
    "\n",
    "```\n",
    "0/1\n",
    "0/1--10/1\n",
    "0/1--10/1--9/10\n",
    "0/2\n",
    "0/2--2/3\n",
    "0/2--2/3--3/4\n",
    "0/2--2/3--3/5\n",
    "0/2--2/2\n",
    "0/2--2/2--2/3\n",
    "0/2--2/2--2/3--3/4\n",
    "0/2--2/2--2/3--3/5\n",
    "```\n",
    "\n",
    "(Note how, as shown by 10/1, order of ports within a component doesn't matter. However, you may only use each port on a component once.)\n",
    "\n",
    "Of these bridges, the strongest one is `0/1--10/1--9/10`; it has a strength of `0+1 + 1+10 + 10+9 = 31`.\n",
    "\n",
    "**What is the strength of the strongest bridge you can make with the components you have available?**"
   ]
  },
  {
   "cell_type": "markdown",
   "metadata": {},
   "source": [
    "First up, converting the stringy input into ints stored in a list:"
   ]
  },
  {
   "cell_type": "code",
   "execution_count": 3,
   "metadata": {},
   "outputs": [
    {
     "name": "stdout",
     "output_type": "stream",
     "text": [
      "Number of bridges 54\n"
     ]
    },
    {
     "data": {
      "text/plain": [
       "[[48, 5], [25, 10], [35, 49], [34, 41], [35, 35], [47, 35]]"
      ]
     },
     "execution_count": 3,
     "metadata": {},
     "output_type": "execute_result"
    }
   ],
   "source": [
    "# the puzzle input\n",
    "with open('puzzle_inputs/day24_input.txt') as f:\n",
    "    data = f.read().strip().split(\"\\n\")\n",
    "puzzle_input = [[int(i) for i in line.split(\"/\")] for line in data]\n",
    "print(\"Number of bridges\", len(puzzle_input))\n",
    "puzzle_input[:6]"
   ]
  },
  {
   "cell_type": "markdown",
   "metadata": {},
   "source": [
    "Starting with the test input:"
   ]
  },
  {
   "cell_type": "code",
   "execution_count": 2,
   "metadata": {},
   "outputs": [
    {
     "data": {
      "text/plain": [
       "[[0, 2], [2, 2], [2, 3], [3, 4], [3, 5], [0, 1], [10, 1], [9, 10]]"
      ]
     },
     "execution_count": 2,
     "metadata": {},
     "output_type": "execute_result"
    }
   ],
   "source": [
    "test_input = [[int(i) for i in l.split(\"/\")] for l in \"\"\"0/2\n",
    "2/2\n",
    "2/3\n",
    "3/4\n",
    "3/5\n",
    "0/1\n",
    "10/1\n",
    "9/10\"\"\".strip().split(\"\\n\")]\n",
    "test_input"
   ]
  },
  {
   "cell_type": "markdown",
   "metadata": {},
   "source": [
    "hmmm, this could be a graph problem, or recursive or even a brute force one."
   ]
  },
  {
   "cell_type": "markdown",
   "metadata": {},
   "source": [
    "## Recursive solution for part one:\n",
    "\n",
    "This looks like a classic build a graph problem where the edges go both ways and the weights for each edge is the sum of the nodes:"
   ]
  },
  {
   "cell_type": "code",
   "execution_count": 13,
   "metadata": {},
   "outputs": [
    {
     "name": "stdout",
     "output_type": "stream",
     "text": [
      "[[0, 2], [2, 2], [2, 3], [3, 4], [3, 5], [0, 1], [10, 1], [9, 10]]\n"
     ]
    },
    {
     "data": {
      "text/plain": [
       "([0, 1, 10, 1, 9, 10], 31)"
      ]
     },
     "execution_count": 13,
     "metadata": {},
     "output_type": "execute_result"
    }
   ],
   "source": [
    "def strongest_bridge(last=0, comps=test_input):\n",
    "    \"\"\"takes in a port to connect the next component to \n",
    "    and a list of remaining components and returns the strongest bridge\"\"\"\n",
    "    the_bridge_we_are_looking_for = []\n",
    "    high_score = 0\n",
    "    \n",
    "    for i, comp in enumerate(comps):\n",
    "        if comp[0] == last or comp[1] == last:\n",
    "            # make a bridge recursively, passing in the list of components minus current component\n",
    "            next_port = comp[1] if comp[0] == last else comp[0]\n",
    "            new_bridge = comp + strongest_bridge(next_port, comps[:i]+comps[i+1:])\n",
    "            \n",
    "            if sum(new_bridge) > high_score: # we want to return the strongest bridge\n",
    "                high_score = sum(new_bridge)\n",
    "                the_bridge_we_are_looking_for = new_bridge    \n",
    "    \n",
    "    return the_bridge_we_are_looking_for\n",
    "\n",
    "print(test_input)\n",
    "b = strongest_bridge(0, test_input)\n",
    "b, sum(b)"
   ]
  },
  {
   "cell_type": "markdown",
   "metadata": {},
   "source": [
    "Solution to part one:"
   ]
  },
  {
   "cell_type": "code",
   "execution_count": 14,
   "metadata": {},
   "outputs": [
    {
     "data": {
      "text/plain": [
       "1656"
      ]
     },
     "execution_count": 14,
     "metadata": {},
     "output_type": "execute_result"
    }
   ],
   "source": [
    "sum(strongest_bridge(0, puzzle_input))"
   ]
  },
  {
   "cell_type": "code",
   "execution_count": 12,
   "metadata": {},
   "outputs": [
    {
     "name": "stdout",
     "output_type": "stream",
     "text": [
      "5.44 s ± 512 ms per loop (mean ± std. dev. of 7 runs, 1 loop each)\n"
     ]
    }
   ],
   "source": [
    "%%timeit\n",
    "\n",
    "sum(strongest_bridge(0, puzzle_input))"
   ]
  },
  {
   "cell_type": "markdown",
   "metadata": {},
   "source": [
    "The answer is `1656` but the recursive solution is very slow, taking ~6 seconds for a pretty small input of only 54 connectors."
   ]
  },
  {
   "cell_type": "markdown",
   "metadata": {},
   "source": [
    "# Part 2\n",
    "\n",
    "The bridge you've built isn't long enough; you can't jump the rest of the way.\n",
    "\n",
    "In the example above, there are two longest bridges:\n",
    "\n",
    "- `0/2--2/2--2/3--3/4`\n",
    "- `0/2--2/2--2/3--3/5`\n",
    "\n",
    "Of them, the one which uses the 3/5 component is stronger; its strength is `0+2 + 2+2 + 2+3 + 3+5 = 19`.\n",
    "\n",
    "**What is the strength of the longest bridge you can make?** If you can make multiple bridges of the longest length, pick the strongest one."
   ]
  },
  {
   "cell_type": "markdown",
   "metadata": {},
   "source": [
    "## recursive solution to part two\n",
    "\n",
    "This is one of the easier part twos, as it just requires a minor modification to part one."
   ]
  },
  {
   "cell_type": "code",
   "execution_count": 15,
   "metadata": {},
   "outputs": [
    {
     "name": "stdout",
     "output_type": "stream",
     "text": [
      "[[0, 2], [2, 2], [2, 3], [3, 4], [3, 5], [0, 1], [10, 1], [9, 10]]\n"
     ]
    },
    {
     "data": {
      "text/plain": [
       "([0, 2, 2, 2, 2, 3, 3, 5], 19)"
      ]
     },
     "execution_count": 15,
     "metadata": {},
     "output_type": "execute_result"
    }
   ],
   "source": [
    "def strongest_bridge(last=0, comps=test_input):\n",
    "    \"\"\"takes in a port to connect the next component to \n",
    "    and a list of remaining components and returns the longest strongest bridge\"\"\"\n",
    "    the_bridge_we_are_looking_for = []\n",
    "    high_score = 0\n",
    "    longest_length = 0\n",
    "    \n",
    "    for i, comp in enumerate(comps):\n",
    "        if comp[0] == last or comp[1] == last:\n",
    "            # make a bridge recursively, passing in the list of components minus current component\n",
    "            next_port = comp[1] if comp[0] == last else comp[0]\n",
    "            new_bridge = comp + strongest_bridge(next_port, comps[:i]+comps[i+1:])\n",
    "            \n",
    "            if len(new_bridge) > longest_length: # save longest bridge found\n",
    "                high_score = sum(new_bridge)\n",
    "                longest_length = len(new_bridge)\n",
    "                the_bridge_we_are_looking_for = new_bridge\n",
    "            \n",
    "            elif len(new_bridge) == longest_length: # if same length, save stronger bridge\n",
    "                if sum(new_bridge) > high_score:\n",
    "                    the_bridge_we_are_looking_for = new_bridge\n",
    "                    high_score = sum(new_bridge)\n",
    "            \n",
    "    return the_bridge_we_are_looking_for\n",
    "\n",
    "print(test_input)\n",
    "b = strongest_bridge(0, test_input)\n",
    "b, sum(b)"
   ]
  },
  {
   "cell_type": "code",
   "execution_count": 16,
   "metadata": {},
   "outputs": [
    {
     "data": {
      "text/plain": [
       "1642"
      ]
     },
     "execution_count": 16,
     "metadata": {},
     "output_type": "execute_result"
    }
   ],
   "source": [
    "b = strongest_bridge(0, puzzle_input)\n",
    "sum(b)"
   ]
  },
  {
   "cell_type": "markdown",
   "metadata": {},
   "source": [
    "`1642` is the answer to part two.\n",
    "\n",
    "# todo\n",
    "\n",
    "- make a graph and use DFS of BFS to find paths\n",
    "- make a networkx graph\n",
    "- do a stack based solution"
   ]
  },
  {
   "cell_type": "markdown",
   "metadata": {},
   "source": [
    "## graph solution\n",
    "\n",
    "first up, making a weighted edges list and also a graph of nodes:"
   ]
  },
  {
   "cell_type": "code",
   "execution_count": 13,
   "metadata": {},
   "outputs": [
    {
     "name": "stdout",
     "output_type": "stream",
     "text": [
      "[(0, 2, 2), (2, 2, 4), (2, 3, 5), (3, 4, 7), (3, 5, 8), (0, 1, 1), (10, 1, 11), (9, 10, 19)]\n"
     ]
    },
    {
     "data": {
      "text/plain": [
       "defaultdict(list,\n",
       "            {0: [2, 1],\n",
       "             1: [0, 10],\n",
       "             2: [0, 2, 2, 3],\n",
       "             3: [2, 4, 5],\n",
       "             4: [3],\n",
       "             5: [3],\n",
       "             9: [10],\n",
       "             10: [1, 9]})"
      ]
     },
     "execution_count": 13,
     "metadata": {},
     "output_type": "execute_result"
    }
   ],
   "source": [
    "def make_graph(comps=test_input):\n",
    "    \"\"\"takes in a list of edges and returns a dict\"\"\"\n",
    "    graph = defaultdict(list)\n",
    "    edges= []\n",
    "    \n",
    "    for x,y in comps:\n",
    "        graph[x].append(y)\n",
    "        graph[y].append(x)\n",
    "        edges.append((x,y,x+y))\n",
    "    \n",
    "    \n",
    "    return edges, graph\n",
    "\n",
    "edges, graph = make_graph()\n",
    "print(edges)\n",
    "graph"
   ]
  },
  {
   "cell_type": "markdown",
   "metadata": {},
   "source": [
    "now to eyeball this graph:"
   ]
  },
  {
   "cell_type": "code",
   "execution_count": 19,
   "metadata": {},
   "outputs": [
    {
     "name": "stdout",
     "output_type": "stream",
     "text": [
      "[(0, 2), (0, 1), (2, 2), (2, 3), (3, 4), (3, 5), (1, 10), (10, 9)]\n"
     ]
    },
    {
     "data": {
      "image/png": "[encoded data removed]",
      "text/plain": [
       "<matplotlib.figure.Figure at 0x7d7b64f83a90>"
      ]
     },
     "metadata": {},
     "output_type": "display_data"
    }
   ],
   "source": [
    "%matplotlib inline\n",
    "import matplotlib.pyplot as plt\n",
    "import networkx as nx\n",
    "from collections import deque\n",
    "from collections import defaultdict\n",
    "\n",
    "G = nx.Graph()\n",
    "G.add_weighted_edges_from(edges)\n",
    "print(G.edges)\n",
    "nx.draw(G, with_labels=True, font_weight='bold')"
   ]
  },
  {
   "cell_type": "markdown",
   "metadata": {},
   "source": [
    "So I need a depth first search to find the heaviest path starting from node 0."
   ]
  },
  {
   "cell_type": "code",
   "execution_count": 26,
   "metadata": {},
   "outputs": [
    {
     "name": "stdout",
     "output_type": "stream",
     "text": [
      "[(0, 2, 2), (2, 2, 4), (2, 3, 5), (3, 4, 7), (3, 5, 8), (0, 1, 1), (10, 1, 11), (9, 10, 19)]\n",
      "defaultdict(<class 'list'>, {0: [2, 1], 2: [0, 2, 2, 3], 3: [2, 4, 5], 4: [3], 5: [3], 1: [0, 10], 10: [1, 9], 9: [10]})\n"
     ]
    }
   ],
   "source": [
    "edges, graph = make_graph(test_input)\n",
    "\n",
    "def find_highst(port=0, edges=edges, graph=graph):\n",
    "    \"\"\"takes in list of weighted edges and a dict of node connections and returns heaviest path\"\"\"\n",
    "    highscore = 0\n",
    "    high_path = None\n",
    "    \n",
    "    \n",
    "find_heaviest(0, edges, graph)"
   ]
  },
  {
   "cell_type": "markdown",
   "metadata": {},
   "source": [
    "to complete, but in the meantime, a start on a stack based solution:\n",
    "\n",
    "## Stack based solution:\n",
    "\n",
    "INCOMPLETE, TODO"
   ]
  },
  {
   "cell_type": "code",
   "execution_count": 65,
   "metadata": {},
   "outputs": [
    {
     "ename": "SyntaxError",
     "evalue": "invalid syntax (<ipython-input-65-6e930d3a0318>, line 31)",
     "output_type": "error",
     "traceback": [
      "\u001b[0;36m  File \u001b[0;32m\"<ipython-input-65-6e930d3a0318>\"\u001b[0;36m, line \u001b[0;32m31\u001b[0m\n\u001b[0;31m    remaining_comps = # todo\u001b[0m\n\u001b[0m                            ^\u001b[0m\n\u001b[0;31mSyntaxError\u001b[0m\u001b[0;31m:\u001b[0m invalid syntax\n"
     ]
    }
   ],
   "source": [
    "from collections import deque\n",
    "from collections import defaultdict\n",
    "\n",
    "def bridges(port=0, comps=test_input, debug=False):\n",
    "    \"\"\"takes in starting port & a list of components and returns all possible bridges in a list\"\"\"\n",
    "    queue = deque()\n",
    "\n",
    "    graph = defaultdict(list)\n",
    "    for edge in test_input:\n",
    "        graph[edge[0]].append(edge)\n",
    "    if debug: print(graph)\n",
    "    \n",
    "    # adding our starting components to the queue\n",
    "    for edge in graph[port]:\n",
    "        queue.append(edge)\n",
    "    if debug: print(\"Starting with:\", queue)\n",
    "        \n",
    "    all_bridges = [] # storing all the bridges found\n",
    "    \n",
    "    i = 0\n",
    "    while queue:\n",
    "        bridge = queue.pop()\n",
    "        if debug: print(\"Bridge:\", bridge)\n",
    "        port = bridge[1]\n",
    "        \n",
    "        if bridge not in all_bridges:\n",
    "            all_bridges.append(bridge)\n",
    "            if debug == True: print(bridge)\n",
    "            \n",
    "            # now to get a list of valid components to make the bridge longer\n",
    "            remaining_comps = # todo\n",
    "            \n",
    "            next_comps = [comp for comp in remaining_comps if any([p==next_port for p in comp])]\n",
    "            \n",
    "            for comp in next_comps:\n",
    "                if next_port[0] == comp[0]:\n",
    "                    next_port = comp[1] if comp[0] == next_port else comp[0]\n",
    "                    br = bridge + comp\n",
    "                    queue.appendleft(br)\n",
    "        if i > 10000000:\n",
    "            break\n",
    "    \n",
    "    return all_bridges\n",
    "        \n",
    "    \n",
    "bridges(debug=True)"
   ]
  },
  {
   "cell_type": "code",
   "execution_count": null,
   "metadata": {},
   "outputs": [],
   "source": []
  }
 ],
 "metadata": {
  "kernelspec": {
   "display_name": "Python 3",
   "language": "python",
   "name": "python3"
  },
  "language_info": {
   "codemirror_mode": {
    "name": "ipython",
    "version": 3
   },
   "file_extension": ".py",
   "mimetype": "text/x-python",
   "name": "python",
   "nbconvert_exporter": "python",
   "pygments_lexer": "ipython3",
   "version": "3.6.4"
  }
 },
 "nbformat": 4,
 "nbformat_minor": 2
}

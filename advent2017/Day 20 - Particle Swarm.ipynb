{
 "cells": [
  {
   "cell_type": "markdown",
   "metadata": {},
   "source": [
    "# --- Day 20: Particle Swarm ---\n",
    "Suddenly, the GPU contacts you, asking for help. Someone has asked it to simulate too many particles, and it won't be able to finish them all in time to render the next frame at this rate.\n",
    "\n",
    "It transmits to you a buffer (your puzzle input) listing each particle in order (starting with particle 0, then particle 1, particle 2, and so on). For each particle, it provides the X, Y, and Z coordinates for the particle's position (p), velocity (v), and acceleration (a), each in the format <X,Y,Z>.\n",
    "\n",
    "Each tick, all particles are updated simultaneously. A particle's properties are updated in the following order:\n",
    "\n",
    "- Increase the X velocity by the X acceleration.\n",
    "- Increase the Y velocity by the Y acceleration.\n",
    "- Increase the Z velocity by the Z acceleration.\n",
    "- Increase the X position by the X velocity.\n",
    "- Increase the Y position by the Y velocity.\n",
    "- Increase the Z position by the Z velocity.\n",
    "\n",
    "Because of seemingly tenuous rationale involving z-buffering, the GPU would like to know which particle will stay closest to position <0,0,0> in the long term. Measure this using the Manhattan distance, which in this situation is simply the sum of the absolute values of a particle's X, Y, and Z position.\n",
    "\n",
    "For example, suppose you are only given two particles, both of which stay entirely on the X-axis (for simplicity). Drawing the current states of particles 0 and 1 (in that order) with an adjacent a number line and diagram of current X positions (marked in parenthesis), the following would take place:\n",
    "\n",
    "```\n",
    "p=< 3,0,0>, v=< 2,0,0>, a=<-1,0,0>    -4 -3 -2 -1  0  1  2  3  4\n",
    "p=< 4,0,0>, v=< 0,0,0>, a=<-2,0,0>                         (0)(1)\n",
    "\n",
    "p=< 4,0,0>, v=< 1,0,0>, a=<-1,0,0>    -4 -3 -2 -1  0  1  2  3  4\n",
    "p=< 2,0,0>, v=<-2,0,0>, a=<-2,0,0>                      (1)   (0)\n",
    "\n",
    "p=< 4,0,0>, v=< 0,0,0>, a=<-1,0,0>    -4 -3 -2 -1  0  1  2  3  4\n",
    "p=<-2,0,0>, v=<-4,0,0>, a=<-2,0,0>          (1)               (0)\n",
    "\n",
    "p=< 3,0,0>, v=<-1,0,0>, a=<-1,0,0>    -4 -3 -2 -1  0  1  2  3  4\n",
    "p=<-8,0,0>, v=<-6,0,0>, a=<-2,0,0>                         (0)   \n",
    "```\n",
    "\n",
    "At this point, particle 1 will never be closer to <0,0,0> than particle 0, and so, in the long run, particle 0 will stay closest.\n",
    "\n",
    "Which particle will stay closest to position `<0,0,0>` in the long term?"
   ]
  },
  {
   "cell_type": "code",
   "execution_count": 1,
   "metadata": {},
   "outputs": [
    {
     "data": {
      "text/plain": [
       "['p=<-833,-499,-1391>, v=<84,17,61>, a=<-4,1,1>',\n",
       " 'p=<-168,3586,-2721>, v=<-61,-58,61>, a=<7,-13,8>',\n",
       " 'p=<364,223,1877>, v=<31,-11,-71>, a=<-5,0,-3>']"
      ]
     },
     "execution_count": 1,
     "metadata": {},
     "output_type": "execute_result"
    }
   ],
   "source": [
    "# the puzzle input\n",
    "with open('puzzle_inputs/day20_input.txt') as f:\n",
    "    data = f.read().strip().split(\"\\n\")\n",
    "puzzle_input = [line for line in data]\n",
    "puzzle_input[:3]"
   ]
  },
  {
   "cell_type": "markdown",
   "metadata": {},
   "source": [
    "This looks like a job for namedtuple and dicts:"
   ]
  },
  {
   "cell_type": "code",
   "execution_count": 110,
   "metadata": {},
   "outputs": [],
   "source": [
    "from collections import namedtuple, defaultdict\n",
    "import numpy as np\n",
    "\n",
    "particle = namedtuple(\"Particle\", [\"pos\", \"vel\", \"acc\"])\n",
    "particles = {}\n",
    "\n",
    "for i, line in enumerate(puzzle_input):\n",
    "    p, v, a= line.split(\", \")\n",
    "    pos = np.array([int(i) for i in p.split(\"=<\")[1][:-1].split(\",\")])\n",
    "    vel = np.array([int(i) for i in v.split(\"=<\")[1][:-1].split(\",\")])\n",
    "    acc = np.array([int(i) for i in a.split(\"=<\")[1][:-1].split(\",\")])\n",
    "    particles[i] = particle(pos, vel, acc)"
   ]
  },
  {
   "cell_type": "markdown",
   "metadata": {},
   "source": [
    "some helper functions:"
   ]
  },
  {
   "cell_type": "code",
   "execution_count": 4,
   "metadata": {},
   "outputs": [],
   "source": [
    "def manhatten(list_nums):\n",
    "    \"\"\"takes in a list of numbers, returns manhatten distance\"\"\"\n",
    "    return sum(abs(k) for k in list_nums)"
   ]
  },
  {
   "cell_type": "markdown",
   "metadata": {},
   "source": [
    "## Part 1\n",
    "\n",
    "For part 1, the particle with the smallest acc will stick around closest to the origin. in case of a tie, look at the velocities, the the position.\n",
    "\n",
    "First up, the min acc is:"
   ]
  },
  {
   "cell_type": "code",
   "execution_count": 6,
   "metadata": {},
   "outputs": [
    {
     "data": {
      "text/plain": [
       "'Smallest acc: 1, Count 2'"
      ]
     },
     "execution_count": 6,
     "metadata": {},
     "output_type": "execute_result"
    }
   ],
   "source": [
    "accels = [manhatten(p.acc) for k, p in particles.items()]\n",
    "min_acc = min(accels)\n",
    "f\"Smallest acc: {min_acc}, Count {accels.count(min_acc)}\""
   ]
  },
  {
   "cell_type": "markdown",
   "metadata": {},
   "source": [
    "so the smallest acceleration is 1, with there being two particles. now to collect these two particles:"
   ]
  },
  {
   "cell_type": "code",
   "execution_count": 7,
   "metadata": {},
   "outputs": [
    {
     "data": {
      "text/plain": [
       "{21: Particle(pos=array([  348, -3515,  5362]), vel=array([   8,   97, -150]), acc=array([-1,  0,  0])),\n",
       " 457: Particle(pos=array([-1271,   294,  5831]), vel=array([  37,  -25, -172]), acc=array([0, 1, 0]))}"
      ]
     },
     "execution_count": 7,
     "metadata": {},
     "output_type": "execute_result"
    }
   ],
   "source": [
    "min_acc_particles = {k:p for k, p in particles.items() if manhatten(p.acc) == min_acc}\n",
    "min_acc_particles"
   ]
  },
  {
   "cell_type": "code",
   "execution_count": 8,
   "metadata": {},
   "outputs": [
    {
     "name": "stdout",
     "output_type": "stream",
     "text": [
      "21 9225 255\n",
      "457 7396 234\n"
     ]
    }
   ],
   "source": [
    "for k, p in min_acc_particles.items():\n",
    "    print(k, manhatten(p.pos), manhatten(p.vel))"
   ]
  },
  {
   "cell_type": "markdown",
   "metadata": {},
   "source": [
    "The lower velocity particle, # `457` wins. If the velocity had tied, then consider the position."
   ]
  },
  {
   "cell_type": "markdown",
   "metadata": {},
   "source": [
    "# --- Part Two ---\n",
    "\n",
    "To simplify the problem further, the GPU would like to remove any particles that collide. Particles collide if their positions ever exactly match. Because particles are updated simultaneously, more than two particles can collide at the same time and place. Once particles collide, they are removed and cannot collide with anything else after that tick.\n",
    "\n",
    "For example:\n",
    "\n",
    "```\n",
    "p=<-6,0,0>, v=< 3,0,0>, a=< 0,0,0>    \n",
    "p=<-4,0,0>, v=< 2,0,0>, a=< 0,0,0>    -6 -5 -4 -3 -2 -1  0  1  2  3\n",
    "p=<-2,0,0>, v=< 1,0,0>, a=< 0,0,0>    (0)   (1)   (2)            (3)\n",
    "p=< 3,0,0>, v=<-1,0,0>, a=< 0,0,0>\n",
    "\n",
    "p=<-3,0,0>, v=< 3,0,0>, a=< 0,0,0>    \n",
    "p=<-2,0,0>, v=< 2,0,0>, a=< 0,0,0>    -6 -5 -4 -3 -2 -1  0  1  2  3\n",
    "p=<-1,0,0>, v=< 1,0,0>, a=< 0,0,0>             (0)(1)(2)      (3)   \n",
    "p=< 2,0,0>, v=<-1,0,0>, a=< 0,0,0>\n",
    "\n",
    "p=< 0,0,0>, v=< 3,0,0>, a=< 0,0,0>    \n",
    "p=< 0,0,0>, v=< 2,0,0>, a=< 0,0,0>    -6 -5 -4 -3 -2 -1  0  1  2  3\n",
    "p=< 0,0,0>, v=< 1,0,0>, a=< 0,0,0>                       X (3)      \n",
    "p=< 1,0,0>, v=<-1,0,0>, a=< 0,0,0>\n",
    "\n",
    "------destroyed by collision------    \n",
    "------destroyed by collision------    -6 -5 -4 -3 -2 -1  0  1  2  3\n",
    "------destroyed by collision------                      (3)         \n",
    "p=< 0,0,0>, v=<-1,0,0>, a=< 0,0,0>\n",
    "```\n",
    "\n",
    "In this example, particles 0, 1, and 2 are simultaneously destroyed at the time and place marked X. On the next tick, particle 3 passes through unharmed.\n",
    "\n",
    "**How many particles are left after all collisions are resolved?**"
   ]
  },
  {
   "cell_type": "markdown",
   "metadata": {},
   "source": [
    "First up, del particles which occupy the same position. Here I compare every particle's position with every other one, adding the indexes to a set. It's a slow method so consider np.unique for a speedup:"
   ]
  },
  {
   "cell_type": "code",
   "execution_count": 115,
   "metadata": {},
   "outputs": [],
   "source": [
    "def remove_collisions(particles=particles, verbose=False):\n",
    "    \"\"\"takes in a dictionary of particles and deletes particles in the same position\"\"\"\n",
    "    \n",
    "    collisions = set()\n",
    "    \n",
    "    for i, p in particles.items():\n",
    "        for j, p2 in particles.items():\n",
    "            if i == j: continue # don't compare particle to itself\n",
    "            if np.all(p.pos == p2.pos):\n",
    "                collisions.add(i)\n",
    "                collisions.add(j)\n",
    "                \n",
    "    if verbose and len(collisions) > 0:\n",
    "        print(f\"found {len(collisions)} collisions\")\n",
    "        print(collisions)\n",
    "        print(\"Deleting collisions\")\n",
    "    \n",
    "    for key in collisions:\n",
    "        try:\n",
    "            del particles[key]\n",
    "        except KeyError:\n",
    "            pass\n",
    "    \n",
    "remove_collisions(verbose=True)"
   ]
  },
  {
   "cell_type": "markdown",
   "metadata": {},
   "source": [
    "Now we need a way to update the particles position, one or multiple ticks at a time:"
   ]
  },
  {
   "cell_type": "code",
   "execution_count": 116,
   "metadata": {},
   "outputs": [
    {
     "data": {
      "text/plain": [
       "Particle(pos=array([ -753,  -481, -1329]), vel=array([80, 18, 62]), acc=array([-4,  1,  1]))"
      ]
     },
     "execution_count": 116,
     "metadata": {},
     "output_type": "execute_result"
    }
   ],
   "source": [
    "def update_particles(particles=particles, t=1):\n",
    "    \"\"\"updates particles by given timestep, defaulting to 1 ts\"\"\"\n",
    "    for _ in range(t):\n",
    "        for key, p in particles.items():\n",
    "            vel = p.vel + p.acc\n",
    "            pos = p.pos + vel\n",
    "            acc = p.acc\n",
    "            particles[key] = particle(pos, vel, acc)\n",
    "\n",
    "update_particles()\n",
    "particles[0]"
   ]
  },
  {
   "cell_type": "code",
   "execution_count": 119,
   "metadata": {},
   "outputs": [
    {
     "name": "stdout",
     "output_type": "stream",
     "text": [
      "found 21 collisions\n",
      "{395, 396, 397, 398, 399, 400, 401, 402, 464, 465, 466, 467, 468, 469, 470, 89, 90, 91, 92, 93, 94}\n",
      "Deleting collisions\n",
      "found 6 collisions\n",
      "{150, 151, 152, 153, 154, 155}\n",
      "Deleting collisions\n",
      "found 18 collisions\n",
      "{384, 385, 448, 449, 446, 450, 451, 452, 453, 447, 376, 377, 378, 379, 380, 381, 382, 383}\n",
      "Deleting collisions\n",
      "found 23 collisions\n",
      "{547, 548, 549, 550, 551, 41, 42, 43, 44, 45, 77, 78, 79, 80, 81, 82, 83, 84, 85, 369, 370, 371, 372}\n",
      "Deleting collisions\n",
      "found 11 collisions\n",
      "{242, 243, 244, 245, 246, 403, 24, 25, 26, 27, 404}\n",
      "Deleting collisions\n",
      "found 15 collisions\n",
      "{229, 230, 231, 232, 233, 234, 235, 236, 237, 295, 296, 297, 298, 299, 300}\n",
      "Deleting collisions\n",
      "found 32 collisions\n",
      "{13, 14, 15, 16, 17, 18, 19, 533, 534, 31, 32, 33, 34, 35, 36, 37, 38, 39, 40, 198, 199, 200, 201, 202, 203, 490, 491, 492, 493, 494, 495, 496}\n",
      "Deleting collisions\n",
      "found 16 collisions\n",
      "{544, 545, 546, 305, 306, 307, 308, 309, 310, 311, 312, 313, 314, 187, 188, 543}\n",
      "Deleting collisions\n",
      "found 27 collisions\n",
      "{0, 1, 2, 256, 257, 258, 259, 260, 273, 274, 275, 276, 277, 278, 46, 47, 332, 333, 334, 335, 336, 337, 338, 339, 253, 254, 255}\n",
      "Deleting collisions\n",
      "Loop 20, Partilce count: 831\n",
      "found 10 collisions\n",
      "{392, 393, 394, 461, 238, 239, 240, 241, 462, 463}\n",
      "Deleting collisions\n",
      "found 12 collisions\n",
      "{261, 262, 48, 49, 50, 51, 52, 53, 54, 55, 56, 57}\n",
      "Deleting collisions\n",
      "found 14 collisions\n",
      "{64, 65, 128, 129, 130, 131, 132, 133, 134, 135, 315, 316, 62, 63}\n",
      "Deleting collisions\n",
      "found 4 collisions\n",
      "{100, 101, 102, 103}\n",
      "Deleting collisions\n",
      "found 20 collisions\n",
      "{288, 289, 290, 291, 292, 293, 294, 357, 358, 359, 360, 525, 526, 527, 528, 529, 530, 531, 532, 287}\n",
      "Deleting collisions\n",
      "found 19 collisions\n",
      "{512, 513, 514, 515, 516, 517, 361, 362, 363, 364, 365, 366, 367, 368, 250, 251, 252, 510, 511}\n",
      "Deleting collisions\n",
      "found 29 collisions\n",
      "{518, 519, 520, 521, 522, 523, 524, 279, 280, 281, 282, 283, 284, 285, 286, 317, 318, 66, 67, 68, 69, 70, 71, 72, 73, 74, 373, 374, 375}\n",
      "Deleting collisions\n",
      "found 20 collisions\n",
      "{509, 263, 264, 265, 266, 508, 271, 272, 114, 115, 116, 117, 118, 119, 507, 410, 411, 412, 413, 414}\n",
      "Deleting collisions\n",
      "found 34 collisions\n",
      "{488, 156, 157, 158, 159, 160, 161, 162, 328, 329, 330, 331, 480, 481, 482, 483, 484, 485, 486, 487, 104, 105, 106, 107, 108, 109, 110, 111, 112, 113, 489, 247, 248, 249}\n",
      "Deleting collisions\n",
      "found 21 collisions\n",
      "{386, 387, 388, 389, 390, 391, 163, 164, 165, 166, 167, 168, 437, 438, 439, 440, 441, 442, 443, 444, 445}\n",
      "Deleting collisions\n",
      "found 14 collisions\n",
      "{169, 170, 171, 172, 173, 174, 175, 176, 58, 59, 60, 61, 222, 223}\n",
      "Deleting collisions\n",
      "found 12 collisions\n",
      "{192, 193, 194, 195, 196, 197, 189, 30, 28, 29, 190, 191}\n",
      "Deleting collisions\n",
      "found 5 collisions\n",
      "{96, 97, 98, 99, 95}\n",
      "Deleting collisions\n",
      "found 28 collisions\n",
      "{148, 149, 423, 424, 425, 426, 427, 428, 429, 430, 431, 432, 433, 434, 435, 436, 347, 348, 349, 350, 351, 224, 225, 352, 353, 354, 355, 356}\n",
      "Deleting collisions\n",
      "found 19 collisions\n",
      "{226, 227, 228, 454, 455, 456, 457, 458, 75, 76, 459, 460, 340, 341, 342, 343, 344, 345, 346}\n",
      "Deleting collisions\n",
      "found 28 collisions\n",
      "{136, 137, 267, 268, 269, 270, 405, 406, 407, 408, 409, 415, 416, 417, 418, 419, 420, 421, 422, 471, 472, 473, 474, 475, 476, 477, 478, 479}\n",
      "Deleting collisions\n",
      "found 20 collisions\n",
      "{121, 535, 536, 123, 212, 537, 124, 213, 20, 21, 86, 22, 23, 87, 122, 88, 120, 125, 126, 127}\n",
      "Deleting collisions\n",
      "found 28 collisions\n",
      "{3, 4, 5, 6, 7, 8, 9, 10, 11, 12, 204, 205, 206, 207, 208, 209, 210, 211, 497, 498, 499, 500, 501, 502, 503, 504, 505, 506}\n",
      "Deleting collisions\n",
      "found 13 collisions\n",
      "{320, 321, 322, 323, 324, 325, 326, 327, 301, 302, 303, 304, 319}\n",
      "Deleting collisions\n",
      "found 33 collisions\n",
      "{138, 139, 140, 141, 142, 143, 144, 145, 146, 147, 538, 539, 540, 541, 542, 177, 178, 179, 180, 181, 182, 183, 184, 185, 186, 214, 215, 216, 217, 218, 219, 220, 221}\n",
      "Deleting collisions\n",
      "Loop 40, Partilce count: 448\n",
      "Loop 60, Partilce count: 448\n",
      "Loop 80, Partilce count: 448\n",
      "Loop 100, Partilce count: 448\n",
      "Loop 120, Partilce count: 448\n",
      "Loop 140, Partilce count: 448\n",
      "Loop 160, Partilce count: 448\n",
      "Loop 180, Partilce count: 448\n",
      "Loop 200, Partilce count: 448\n",
      "Loop 220, Partilce count: 448\n",
      "Loop 240, Partilce count: 448\n",
      "Loop 260, Partilce count: 448\n",
      "Loop 280, Partilce count: 448\n",
      "Loop 300, Partilce count: 448\n",
      "Loop 320, Partilce count: 448\n",
      "Loop 340, Partilce count: 448\n",
      "Loop 360, Partilce count: 448\n",
      "Loop 380, Partilce count: 448\n",
      "Loop 400, Partilce count: 448\n",
      "Loop 420, Partilce count: 448\n",
      "Loop 440, Partilce count: 448\n",
      "Loop 460, Partilce count: 448\n",
      "Loop 480, Partilce count: 448\n",
      "Loop 500, Partilce count: 448\n",
      "Loop 520, Partilce count: 448\n",
      "Loop 540, Partilce count: 448\n",
      "Loop 560, Partilce count: 448\n",
      "Loop 580, Partilce count: 448\n",
      "Loop 600, Partilce count: 448\n",
      "Loop 620, Partilce count: 448\n",
      "Loop 640, Partilce count: 448\n",
      "Loop 660, Partilce count: 448\n"
     ]
    },
    {
     "ename": "KeyboardInterrupt",
     "evalue": "",
     "output_type": "error",
     "traceback": [
      "\u001b[0;31m-------------------------------------------------------------------\u001b[0m",
      "\u001b[0;31mKeyboardInterrupt\u001b[0m                 Traceback (most recent call last)",
      "\u001b[0;32m<ipython-input-119-74ffc0839a1b>\u001b[0m in \u001b[0;36m<module>\u001b[0;34m()\u001b[0m\n\u001b[1;32m      9\u001b[0m \u001b[0mi\u001b[0m \u001b[0;34m=\u001b[0m \u001b[0;36m0\u001b[0m\u001b[0;34m\u001b[0m\u001b[0m\n\u001b[1;32m     10\u001b[0m \u001b[0;32mwhile\u001b[0m \u001b[0mlen\u001b[0m\u001b[0;34m(\u001b[0m\u001b[0mparticles\u001b[0m\u001b[0;34m)\u001b[0m \u001b[0;34m>\u001b[0m \u001b[0;36m1\u001b[0m\u001b[0;34m:\u001b[0m\u001b[0;34m\u001b[0m\u001b[0m\n\u001b[0;32m---> 11\u001b[0;31m     \u001b[0mremove_collisions\u001b[0m\u001b[0;34m(\u001b[0m\u001b[0mverbose\u001b[0m\u001b[0;34m=\u001b[0m\u001b[0;32mTrue\u001b[0m\u001b[0;34m)\u001b[0m\u001b[0;34m\u001b[0m\u001b[0m\n\u001b[0m\u001b[1;32m     12\u001b[0m     \u001b[0mupdate_particles\u001b[0m\u001b[0;34m(\u001b[0m\u001b[0;34m)\u001b[0m\u001b[0;34m\u001b[0m\u001b[0m\n\u001b[1;32m     13\u001b[0m     \u001b[0mi\u001b[0m \u001b[0;34m+=\u001b[0m \u001b[0;36m1\u001b[0m\u001b[0;34m\u001b[0m\u001b[0m\n",
      "\u001b[0;32m<ipython-input-115-292a429ce977>\u001b[0m in \u001b[0;36mremove_collisions\u001b[0;34m(particles, verbose)\u001b[0m\n\u001b[1;32m      7\u001b[0m         \u001b[0;32mfor\u001b[0m \u001b[0mj\u001b[0m\u001b[0;34m,\u001b[0m \u001b[0mp2\u001b[0m \u001b[0;32min\u001b[0m \u001b[0mparticles\u001b[0m\u001b[0;34m.\u001b[0m\u001b[0mitems\u001b[0m\u001b[0;34m(\u001b[0m\u001b[0;34m)\u001b[0m\u001b[0;34m:\u001b[0m\u001b[0;34m\u001b[0m\u001b[0m\n\u001b[1;32m      8\u001b[0m             \u001b[0;32mif\u001b[0m \u001b[0mi\u001b[0m \u001b[0;34m==\u001b[0m \u001b[0mj\u001b[0m\u001b[0;34m:\u001b[0m \u001b[0;32mcontinue\u001b[0m \u001b[0;31m# don't compare particle to itself\u001b[0m\u001b[0;34m\u001b[0m\u001b[0m\n\u001b[0;32m----> 9\u001b[0;31m             \u001b[0;32mif\u001b[0m \u001b[0mnp\u001b[0m\u001b[0;34m.\u001b[0m\u001b[0mall\u001b[0m\u001b[0;34m(\u001b[0m\u001b[0mp\u001b[0m\u001b[0;34m.\u001b[0m\u001b[0mpos\u001b[0m \u001b[0;34m==\u001b[0m \u001b[0mp2\u001b[0m\u001b[0;34m.\u001b[0m\u001b[0mpos\u001b[0m\u001b[0;34m)\u001b[0m\u001b[0;34m:\u001b[0m\u001b[0;34m\u001b[0m\u001b[0m\n\u001b[0m\u001b[1;32m     10\u001b[0m                 \u001b[0mcollisions\u001b[0m\u001b[0;34m.\u001b[0m\u001b[0madd\u001b[0m\u001b[0;34m(\u001b[0m\u001b[0mi\u001b[0m\u001b[0;34m)\u001b[0m\u001b[0;34m\u001b[0m\u001b[0m\n\u001b[1;32m     11\u001b[0m                 \u001b[0mcollisions\u001b[0m\u001b[0;34m.\u001b[0m\u001b[0madd\u001b[0m\u001b[0;34m(\u001b[0m\u001b[0mj\u001b[0m\u001b[0;34m)\u001b[0m\u001b[0;34m\u001b[0m\u001b[0m\n",
      "\u001b[0;31mKeyboardInterrupt\u001b[0m: "
     ]
    }
   ],
   "source": [
    "# making sure the particles dictionary is fresh:\n",
    "for i, line in enumerate(puzzle_input):\n",
    "    p, v, a= line.split(\", \")\n",
    "    pos = np.array([int(i) for i in p.split(\"=<\")[1][:-1].split(\",\")])\n",
    "    vel = np.array([int(i) for i in v.split(\"=<\")[1][:-1].split(\",\")])\n",
    "    acc = np.array([int(i) for i in a.split(\"=<\")[1][:-1].split(\",\")])\n",
    "    particles[i] = particle(pos, vel, acc)\n",
    "\n",
    "i = 0\n",
    "while len(particles) > 1:\n",
    "    remove_collisions(verbose=True)\n",
    "    update_particles()\n",
    "    i += 1\n",
    "    if i % 20 == 0:\n",
    "        print(f\"Loop {i}, Partilce count: {len(particles)}\")"
   ]
  },
  {
   "cell_type": "code",
   "execution_count": 121,
   "metadata": {},
   "outputs": [
    {
     "data": {
      "text/plain": [
       "448"
      ]
     },
     "execution_count": 121,
     "metadata": {},
     "output_type": "execute_result"
    }
   ],
   "source": [
    "len(particles)"
   ]
  },
  {
   "cell_type": "markdown",
   "metadata": {},
   "source": [
    "'448' particles are left after all collisions are resolved.\n",
    "\n",
    "## Notes:\n",
    "\n",
    "- this is a slow way, instead of simulating I could math out which particles collide\n",
    "- I got lucky, at only about loop 40 the particles stopped colliding, it could be much longer"
   ]
  },
  {
   "cell_type": "code",
   "execution_count": null,
   "metadata": {},
   "outputs": [],
   "source": []
  }
 ],
 "metadata": {
  "kernelspec": {
   "display_name": "Python 3",
   "language": "python",
   "name": "python3"
  },
  "language_info": {
   "codemirror_mode": {
    "name": "ipython",
    "version": 3
   },
   "file_extension": ".py",
   "mimetype": "text/x-python",
   "name": "python",
   "nbconvert_exporter": "python",
   "pygments_lexer": "ipython3",
   "version": "3.6.4"
  }
 },
 "nbformat": 4,
 "nbformat_minor": 2
}

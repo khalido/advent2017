{
 "cells": [
  {
   "cell_type": "code",
   "execution_count": 164,
   "metadata": {},
   "outputs": [],
   "source": [
    "import utils\n",
    "import re\n",
    "from collections import namedtuple\n",
    "\n",
    "import pandas as pd\n",
    "\n",
    "# visualization stuff\n",
    "from IPython.display import clear_output, display, Markdown\n",
    "from plotly.offline import iplot\n",
    "import plotly.graph_objs as go\n",
    "\n",
    "import matplotlib.pyplot as plt\n",
    "import seaborn as sns\n",
    "%matplotlib inline"
   ]
  },
  {
   "cell_type": "markdown",
   "metadata": {},
   "source": [
    "# Day 14: Reindeer Olympics\n",
    "\n",
    "https://adventofcode.com/2015/day/14\n",
    "\n",
    "\n",
    "This year is the Reindeer Olympics! Reindeer can fly at high speeds, but must rest occasionally to recover their energy. Santa would like to know which of his reindeer is fastest, and so he has them race.\n",
    "\n",
    "Reindeer can only either be flying (always at their top speed) or resting (not moving at all), and always spend whole seconds in either state.\n",
    "\n",
    "For example, suppose you have the following Reindeer:\n",
    "\n",
    "- Comet can fly 14 km/s for 10 seconds, but then must rest for 127 seconds.\n",
    "- Dancer can fly 16 km/s for 11 seconds, but then must rest for 162 seconds.\n",
    "\n",
    "After one second, Comet has gone 14 km, while Dancer has gone 16 km. After ten seconds, Comet has gone 140 km, while Dancer has gone 160 km. On the eleventh second, Comet begins resting (staying at 140 km), and Dancer continues on for a total distance of 176 km. On the 12th second, both reindeer are resting. They continue to rest until the 138th second, when Comet flies for another ten seconds. On the 174th second, Dancer flies for another 11 seconds.\n",
    "\n",
    "In this example, after the 1000th second, both reindeer are resting, and Comet is in the lead at 1120 km (poor Dancer has only gotten 1056 km by that point). So, in this situation, Comet would win (if the race ended at 1000 seconds).\n",
    "\n",
    "Given the descriptions of each reindeer (in your puzzle input), after exactly 2503 seconds, **what distance has the winning reindeer traveled?**"
   ]
  },
  {
   "cell_type": "code",
   "execution_count": 20,
   "metadata": {},
   "outputs": [
    {
     "data": {
      "text/plain": [
       "['Dancer can fly 27 km/s for 5 seconds, but then must rest for 132 seconds.',\n",
       " 'Cupid can fly 22 km/s for 2 seconds, but then must rest for 41 seconds.',\n",
       " 'Rudolph can fly 11 km/s for 5 seconds, but then must rest for 48 seconds.',\n",
       " 'Donner can fly 28 km/s for 5 seconds, but then must rest for 134 seconds.',\n",
       " 'Dasher can fly 4 km/s for 16 seconds, but then must rest for 55 seconds.',\n",
       " 'Blitzen can fly 14 km/s for 3 seconds, but then must rest for 38 seconds.',\n",
       " 'Prancer can fly 3 km/s for 21 seconds, but then must rest for 40 seconds.',\n",
       " 'Comet can fly 18 km/s for 6 seconds, but then must rest for 103 seconds.',\n",
       " 'Vixen can fly 18 km/s for 5 seconds, but then must rest for 84 seconds.']"
      ]
     },
     "execution_count": 20,
     "metadata": {},
     "output_type": "execute_result"
    }
   ],
   "source": [
    "data = utils.get_input(14).splitlines()\n",
    "data"
   ]
  },
  {
   "cell_type": "markdown",
   "metadata": {},
   "source": [
    "Getting all the numbers from the line:"
   ]
  },
  {
   "cell_type": "code",
   "execution_count": 38,
   "metadata": {},
   "outputs": [
    {
     "data": {
      "text/plain": [
       "[27, 5, 132]"
      ]
     },
     "execution_count": 38,
     "metadata": {},
     "output_type": "execute_result"
    }
   ],
   "source": [
    "line = data[0]\n",
    "[int(i) for i in re.findall(r\"-?\\d+\", line)]"
   ]
  },
  {
   "cell_type": "markdown",
   "metadata": {},
   "source": [
    "Getting the name:"
   ]
  },
  {
   "cell_type": "code",
   "execution_count": 37,
   "metadata": {},
   "outputs": [
    {
     "data": {
      "text/plain": [
       "'Vixen'"
      ]
     },
     "execution_count": 37,
     "metadata": {},
     "output_type": "execute_result"
    }
   ],
   "source": [
    "re.search('([A-Z][a-z]+)', line).group()"
   ]
  },
  {
   "cell_type": "code",
   "execution_count": 125,
   "metadata": {},
   "outputs": [
    {
     "data": {
      "text/plain": [
       "[Reindeer(name='Dancer', speed=27, time=5, rest=132, distance=0),\n",
       " Reindeer(name='Cupid', speed=22, time=2, rest=41, distance=0),\n",
       " Reindeer(name='Rudolph', speed=11, time=5, rest=48, distance=0)]"
      ]
     },
     "execution_count": 125,
     "metadata": {},
     "output_type": "execute_result"
    }
   ],
   "source": [
    "details = []\n",
    "reindeer = namedtuple(\"Reindeer\", [\"name\", \"speed\", \"time\", \"rest\", \"distance\"])\n",
    "\n",
    "for line in data:\n",
    "    name = re.search('([A-Z][a-z]+)', line).group()\n",
    "    deets = [name] + [int(i) for i in re.findall(r\"-?\\d+\", line)] + [0]\n",
    "    details.append(reindeer(*deets))\n",
    "    \n",
    "details[:3]"
   ]
  },
  {
   "cell_type": "code",
   "execution_count": 123,
   "metadata": {},
   "outputs": [
    {
     "data": {
      "text/plain": [
       "1120"
      ]
     },
     "execution_count": 123,
     "metadata": {},
     "output_type": "execute_result"
    }
   ],
   "source": [
    "comet = reindeer(\"Comet\",14,10,127, 0)\n",
    "\n",
    "def distance(r=comet, time=2503):\n",
    "    \"\"\"takes in a raindeer and time, returns distances travelled\"\"\"\n",
    "    distance = 0\n",
    "    total = r.time + r.rest\n",
    "    distance += r.speed * r.time * (time // total)\n",
    "    \n",
    "    if (time % total) <= r.time:\n",
    "        distance += (time % total) * r.speed\n",
    "    else:\n",
    "        distance += r.speed * r.time\n",
    "        \n",
    "    return distance\n",
    "    \n",
    "distance(comet, 1000)"
   ]
  },
  {
   "cell_type": "code",
   "execution_count": 124,
   "metadata": {},
   "outputs": [
    {
     "data": {
      "text/plain": [
       "2640"
      ]
     },
     "execution_count": 124,
     "metadata": {},
     "output_type": "execute_result"
    }
   ],
   "source": [
    "max([distance(r) for r in details])"
   ]
  },
  {
   "cell_type": "markdown",
   "metadata": {},
   "source": [
    "`2640` is the right answer for part 1,\n",
    "\n",
    "# --- Part Two ---\n",
    "\n",
    "Seeing how reindeer move in bursts, Santa decides he's not pleased with the old scoring system.\n",
    "\n",
    "Instead, at the end of each second, he awards one point to the reindeer currently in the lead. (If there are multiple reindeer tied for the lead, they each get one point.) He keeps the traditional 2503 second time limit, of course, as doing otherwise would be entirely ridiculous.\n",
    "\n",
    "Given the example reindeer from above, after the first second, Dancer is in the lead and gets one point. He stays in the lead until several seconds into Comet's second burst: after the 140th second, Comet pulls into the lead and gets his first point. Of course, since Dancer had been in the lead for the 139 seconds before that, he has accumulated 139 points by the 140th second.\n",
    "\n",
    "After the 1000th second, Dancer has accumulated 689 points, while poor Comet, our old champion, only has 312. So, with the new scoring system, Dancer would win (if the race ended at 1000 seconds).\n",
    "\n",
    "Again given the descriptions of each reindeer (in your puzzle input), after exactly 2503 seconds, how many points does the winning reindeer have?\n",
    "\n",
    "---\n",
    "\n",
    "changing the namedtuple so it includes points:"
   ]
  },
  {
   "cell_type": "code",
   "execution_count": 137,
   "metadata": {},
   "outputs": [
    {
     "data": {
      "text/plain": [
       "{'Dancer': {'speed': 27, 'time': 5, 'rest': 132},\n",
       " 'Cupid': {'speed': 22, 'time': 2, 'rest': 41},\n",
       " 'Rudolph': {'speed': 11, 'time': 5, 'rest': 48},\n",
       " 'Donner': {'speed': 28, 'time': 5, 'rest': 134},\n",
       " 'Dasher': {'speed': 4, 'time': 16, 'rest': 55},\n",
       " 'Blitzen': {'speed': 14, 'time': 3, 'rest': 38},\n",
       " 'Prancer': {'speed': 3, 'time': 21, 'rest': 40},\n",
       " 'Comet': {'speed': 18, 'time': 6, 'rest': 103},\n",
       " 'Vixen': {'speed': 18, 'time': 5, 'rest': 84}}"
      ]
     },
     "execution_count": 137,
     "metadata": {},
     "output_type": "execute_result"
    }
   ],
   "source": [
    "all_reindeer = {}\n",
    "reindeer = namedtuple(\"Reindeer\", [\"name\", \"speed\", \"time\", \"rest\", \"distance\", \"points\"])\n",
    "\n",
    "for line in data:\n",
    "    name = re.search('([A-Z][a-z]+)', line).group()\n",
    "    speed, time, rest = [int(i) for i in re.findall(r\"-?\\d+\", line)]\n",
    "    all_reindeer[name] = {\"speed\":speed, \"time\":time, \"rest\":rest}\n",
    "    \n",
    "all_reindeer"
   ]
  },
  {
   "cell_type": "code",
   "execution_count": 247,
   "metadata": {},
   "outputs": [
    {
     "data": {
      "text/html": [
       "<div>\n",
       "<style scoped>\n",
       "    .dataframe tbody tr th:only-of-type {\n",
       "        vertical-align: middle;\n",
       "    }\n",
       "\n",
       "    .dataframe tbody tr th {\n",
       "        vertical-align: top;\n",
       "    }\n",
       "\n",
       "    .dataframe thead th {\n",
       "        text-align: right;\n",
       "    }\n",
       "</style>\n",
       "<table border=\"1\" class=\"dataframe\">\n",
       "  <thead>\n",
       "    <tr style=\"text-align: right;\">\n",
       "      <th></th>\n",
       "      <th>speed</th>\n",
       "      <th>time</th>\n",
       "      <th>rest</th>\n",
       "      <th>distance</th>\n",
       "      <th>points</th>\n",
       "    </tr>\n",
       "  </thead>\n",
       "  <tbody>\n",
       "    <tr>\n",
       "      <th>Blitzen</th>\n",
       "      <td>14</td>\n",
       "      <td>3</td>\n",
       "      <td>38</td>\n",
       "      <td>0</td>\n",
       "      <td>0</td>\n",
       "    </tr>\n",
       "    <tr>\n",
       "      <th>Comet</th>\n",
       "      <td>18</td>\n",
       "      <td>6</td>\n",
       "      <td>103</td>\n",
       "      <td>0</td>\n",
       "      <td>0</td>\n",
       "    </tr>\n",
       "    <tr>\n",
       "      <th>Cupid</th>\n",
       "      <td>22</td>\n",
       "      <td>2</td>\n",
       "      <td>41</td>\n",
       "      <td>0</td>\n",
       "      <td>0</td>\n",
       "    </tr>\n",
       "    <tr>\n",
       "      <th>Dancer</th>\n",
       "      <td>27</td>\n",
       "      <td>5</td>\n",
       "      <td>132</td>\n",
       "      <td>0</td>\n",
       "      <td>0</td>\n",
       "    </tr>\n",
       "    <tr>\n",
       "      <th>Dasher</th>\n",
       "      <td>4</td>\n",
       "      <td>16</td>\n",
       "      <td>55</td>\n",
       "      <td>0</td>\n",
       "      <td>0</td>\n",
       "    </tr>\n",
       "    <tr>\n",
       "      <th>Donner</th>\n",
       "      <td>28</td>\n",
       "      <td>5</td>\n",
       "      <td>134</td>\n",
       "      <td>0</td>\n",
       "      <td>0</td>\n",
       "    </tr>\n",
       "    <tr>\n",
       "      <th>Prancer</th>\n",
       "      <td>3</td>\n",
       "      <td>21</td>\n",
       "      <td>40</td>\n",
       "      <td>0</td>\n",
       "      <td>0</td>\n",
       "    </tr>\n",
       "    <tr>\n",
       "      <th>Rudolph</th>\n",
       "      <td>11</td>\n",
       "      <td>5</td>\n",
       "      <td>48</td>\n",
       "      <td>0</td>\n",
       "      <td>0</td>\n",
       "    </tr>\n",
       "    <tr>\n",
       "      <th>Vixen</th>\n",
       "      <td>18</td>\n",
       "      <td>5</td>\n",
       "      <td>84</td>\n",
       "      <td>0</td>\n",
       "      <td>0</td>\n",
       "    </tr>\n",
       "  </tbody>\n",
       "</table>\n",
       "</div>"
      ],
      "text/plain": [
       "         speed  time  rest  distance  points\n",
       "Blitzen     14     3    38         0       0\n",
       "Comet       18     6   103         0       0\n",
       "Cupid       22     2    41         0       0\n",
       "Dancer      27     5   132         0       0\n",
       "Dasher       4    16    55         0       0\n",
       "Donner      28     5   134         0       0\n",
       "Prancer      3    21    40         0       0\n",
       "Rudolph     11     5    48         0       0\n",
       "Vixen       18     5    84         0       0"
      ]
     },
     "execution_count": 247,
     "metadata": {},
     "output_type": "execute_result"
    }
   ],
   "source": [
    "df = pd.DataFrame.from_dict(all_reindeer, orient=\"index\")\n",
    "df[\"distance\"] = 0\n",
    "df[\"points\"] = 0\n",
    "df"
   ]
  },
  {
   "cell_type": "markdown",
   "metadata": {},
   "source": [
    "So now, I'm going to update each reindeer after each second:"
   ]
  },
  {
   "cell_type": "code",
   "execution_count": 248,
   "metadata": {},
   "outputs": [
    {
     "data": {
      "image/png": "[encoded data removed]",
      "text/plain": [
       "<Figure size 864x432 with 1 Axes>"
      ]
     },
     "metadata": {
      "needs_background": "light"
     },
     "output_type": "display_data"
    }
   ],
   "source": [
    "for t in range(1,2503+1):\n",
    "    df[\"distance\"] = df.apply(distance,time=t, axis=1)\n",
    "    furthest = df.distance.max()\n",
    "    df.loc[df.distance==furthest, \"points\"] += 1\n",
    "    if t % 50 == 0 or t == 2503:\n",
    "        clear_output(wait=True)\n",
    "        df[[\"distance\", \"points\"]].plot.bar(figsize=(12,6))\n",
    "        winner = df[df.points==df.points.max()].index[0]\n",
    "        plt.ylim(0,3000)\n",
    "        plt.title(f\"{winner} leading with {df.points.max()} points at time {t}\")\n",
    "        plt.show()"
   ]
  },
  {
   "cell_type": "markdown",
   "metadata": {},
   "source": [
    "now to animate this properly in plotly or using matplotlib.animation"
   ]
  },
  {
   "cell_type": "code",
   "execution_count": null,
   "metadata": {},
   "outputs": [],
   "source": []
  }
 ],
 "metadata": {
  "kernelspec": {
   "display_name": "Python [default]",
   "language": "python",
   "name": "python3"
  },
  "language_info": {
   "codemirror_mode": {
    "name": "ipython",
    "version": 3
   },
   "file_extension": ".py",
   "mimetype": "text/x-python",
   "name": "python",
   "nbconvert_exporter": "python",
   "pygments_lexer": "ipython3",
   "version": "3.7.0"
  }
 },
 "nbformat": 4,
 "nbformat_minor": 2
}

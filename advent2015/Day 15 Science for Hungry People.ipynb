{
 "cells": [
  {
   "cell_type": "code",
   "execution_count": 6,
   "metadata": {},
   "outputs": [],
   "source": [
    "import utils\n",
    "import numpy as np\n",
    "import pandas as pd\n",
    "import re"
   ]
  },
  {
   "cell_type": "markdown",
   "metadata": {},
   "source": [
    "# Day 15: Science for Hungry People\n",
    "\n",
    "https://adventofcode.com/2015/day/15\n",
    "\n",
    "Today, you set out on the task of perfecting your milk-dunking cookie recipe. All you have to do is find the right balance of ingredients.\n",
    "\n",
    "Your recipe leaves room for exactly 100 teaspoons of ingredients. You make a list of the remaining ingredients you could use to finish the recipe (your puzzle input) and their properties per teaspoon:\n",
    "\n",
    "- capacity (how well it helps the cookie absorb milk)\n",
    "- durability (how well it keeps the cookie intact when full of milk)\n",
    "- flavor (how tasty it makes the cookie)\n",
    "- texture (how it improves the feel of the cookie)\n",
    "- calories (how many calories it adds to the cookie)\n",
    "\n",
    "You can only measure ingredients in whole-teaspoon amounts accurately, and you have to be accurate so you can reproduce your results in the future. The total score of a cookie can be found by adding up each of the properties (negative totals become 0) and then multiplying together everything except calories.\n",
    "\n",
    "For instance, suppose you have these two ingredients:\n",
    "\n",
    "- Butterscotch: capacity -1, durability -2, flavor 6, texture 3, calories 8\n",
    "- Cinnamon: capacity 2, durability 3, flavor -2, texture -1, calories 3\n",
    "\n",
    "Then, choosing to use 44 teaspoons of butterscotch and 56 teaspoons of cinnamon (because the amounts of each ingredient must add up to 100) would result in a cookie with the following properties:\n",
    "\n",
    "- A capacity of `44*-1 + 56*2 = 68`\n",
    "- A durability of `44*-2 + 56*3 = 80`\n",
    "- A flavor of `44*6 + 56*-2 = 152`\n",
    "- A texture of `44*3 + 56*-1 = 76`\n",
    "\n",
    "Multiplying these together (68 * 80 * 152 * 76, ignoring calories for now) results in a total score of `62842880`, which happens to be the best score possible given these ingredients. If any properties had produced a negative total, it would have instead become zero, causing the whole score to multiply to zero.\n",
    "\n",
    "**Given the ingredients in your kitchen and their properties, what is the total score of the highest-scoring cookie you can make?**"
   ]
  },
  {
   "cell_type": "code",
   "execution_count": 4,
   "metadata": {},
   "outputs": [
    {
     "data": {
      "text/plain": [
       "['Sprinkles: capacity 5, durability -1, flavor 0, texture 0, calories 5',\n",
       " 'PeanutButter: capacity -1, durability 3, flavor 0, texture 0, calories 1',\n",
       " 'Frosting: capacity 0, durability -1, flavor 4, texture 0, calories 6',\n",
       " 'Sugar: capacity -1, durability 0, flavor 0, texture 2, calories 8']"
      ]
     },
     "execution_count": 4,
     "metadata": {},
     "output_type": "execute_result"
    }
   ],
   "source": [
    "data = utils.get_input(15).splitlines()\n",
    "data"
   ]
  },
  {
   "cell_type": "markdown",
   "metadata": {},
   "source": [
    "First up, to get the numbers from each line:"
   ]
  },
  {
   "cell_type": "code",
   "execution_count": 44,
   "metadata": {},
   "outputs": [
    {
     "data": {
      "text/plain": [
       "[5, -1, 0, 0, 5]"
      ]
     },
     "execution_count": 44,
     "metadata": {},
     "output_type": "execute_result"
    }
   ],
   "source": [
    "line = data[0]\n",
    "numbers = [int(i) for i in re.findall(\"-?\\d+\", line)]\n",
    "numbers"
   ]
  },
  {
   "cell_type": "markdown",
   "metadata": {},
   "source": [
    "Now to get the properties, I'm making a second list with the property names and zipping them together to get pairs of prop, val:"
   ]
  },
  {
   "cell_type": "code",
   "execution_count": 46,
   "metadata": {},
   "outputs": [
    {
     "data": {
      "text/plain": [
       "[('capacity', 5),\n",
       " ('durability', -1),\n",
       " ('flavor', 0),\n",
       " ('texture', 0),\n",
       " ('calories', 5)]"
      ]
     },
     "execution_count": 46,
     "metadata": {},
     "output_type": "execute_result"
    }
   ],
   "source": [
    "l = line.split()\n",
    "[k for k in zip(l[1::2], numbers)]"
   ]
  },
  {
   "cell_type": "code",
   "execution_count": 55,
   "metadata": {},
   "outputs": [
    {
     "data": {
      "text/plain": [
       "{'Sprinkles': {'capacity': 5,\n",
       "  'durability': -1,\n",
       "  'flavor': 0,\n",
       "  'texture': 0,\n",
       "  'calories': 5},\n",
       " 'PeanutButter': {'capacity': -1,\n",
       "  'durability': 3,\n",
       "  'flavor': 0,\n",
       "  'texture': 0,\n",
       "  'calories': 1},\n",
       " 'Frosting': {'capacity': 0,\n",
       "  'durability': -1,\n",
       "  'flavor': 4,\n",
       "  'texture': 0,\n",
       "  'calories': 6},\n",
       " 'Sugar': {'capacity': -1,\n",
       "  'durability': 0,\n",
       "  'flavor': 0,\n",
       "  'texture': 2,\n",
       "  'calories': 8}}"
      ]
     },
     "execution_count": 55,
     "metadata": {},
     "output_type": "execute_result"
    }
   ],
   "source": [
    "ingredients = {}\n",
    "\n",
    "for line in data:\n",
    "    details = {}\n",
    "    numbers = [int(i) for i in re.findall(\"-?\\d+\", line)]\n",
    "    l = line.split()\n",
    "    for prop, val in zip(l[1::2], numbers):\n",
    "        details[prop] = val\n",
    "    \n",
    "    ingredients[l[0][:-1]] = details\n",
    "    \n",
    "ingredients"
   ]
  },
  {
   "cell_type": "markdown",
   "metadata": {},
   "source": [
    "Looking at this in a more human readable way:"
   ]
  },
  {
   "cell_type": "code",
   "execution_count": 56,
   "metadata": {},
   "outputs": [
    {
     "data": {
      "text/html": [
       "<div>\n",
       "<style scoped>\n",
       "    .dataframe tbody tr th:only-of-type {\n",
       "        vertical-align: middle;\n",
       "    }\n",
       "\n",
       "    .dataframe tbody tr th {\n",
       "        vertical-align: top;\n",
       "    }\n",
       "\n",
       "    .dataframe thead th {\n",
       "        text-align: right;\n",
       "    }\n",
       "</style>\n",
       "<table border=\"1\" class=\"dataframe\">\n",
       "  <thead>\n",
       "    <tr style=\"text-align: right;\">\n",
       "      <th></th>\n",
       "      <th>capacity</th>\n",
       "      <th>durability</th>\n",
       "      <th>flavor</th>\n",
       "      <th>texture</th>\n",
       "      <th>calories</th>\n",
       "    </tr>\n",
       "  </thead>\n",
       "  <tbody>\n",
       "    <tr>\n",
       "      <th>Frosting</th>\n",
       "      <td>0</td>\n",
       "      <td>-1</td>\n",
       "      <td>4</td>\n",
       "      <td>0</td>\n",
       "      <td>6</td>\n",
       "    </tr>\n",
       "    <tr>\n",
       "      <th>PeanutButter</th>\n",
       "      <td>-1</td>\n",
       "      <td>3</td>\n",
       "      <td>0</td>\n",
       "      <td>0</td>\n",
       "      <td>1</td>\n",
       "    </tr>\n",
       "    <tr>\n",
       "      <th>Sprinkles</th>\n",
       "      <td>5</td>\n",
       "      <td>-1</td>\n",
       "      <td>0</td>\n",
       "      <td>0</td>\n",
       "      <td>5</td>\n",
       "    </tr>\n",
       "    <tr>\n",
       "      <th>Sugar</th>\n",
       "      <td>-1</td>\n",
       "      <td>0</td>\n",
       "      <td>0</td>\n",
       "      <td>2</td>\n",
       "      <td>8</td>\n",
       "    </tr>\n",
       "  </tbody>\n",
       "</table>\n",
       "</div>"
      ],
      "text/plain": [
       "              capacity  durability  flavor  texture  calories\n",
       "Frosting             0          -1       4        0         6\n",
       "PeanutButter        -1           3       0        0         1\n",
       "Sprinkles            5          -1       0        0         5\n",
       "Sugar               -1           0       0        2         8"
      ]
     },
     "execution_count": 56,
     "metadata": {},
     "output_type": "execute_result"
    }
   ],
   "source": [
    "df = pd.DataFrame.from_dict(ingredients, orient=\"index\")\n",
    "df"
   ]
  },
  {
   "cell_type": "code",
   "execution_count": 58,
   "metadata": {},
   "outputs": [
    {
     "data": {
      "text/plain": [
       "Index(['Frosting', 'PeanutButter', 'Sprinkles', 'Sugar'], dtype='object')"
      ]
     },
     "execution_count": 58,
     "metadata": {},
     "output_type": "execute_result"
    }
   ],
   "source": [
    "df.index"
   ]
  },
  {
   "cell_type": "code",
   "execution_count": null,
   "metadata": {},
   "outputs": [],
   "source": []
  }
 ],
 "metadata": {
  "kernelspec": {
   "display_name": "Python 3",
   "language": "python",
   "name": "python3"
  },
  "language_info": {
   "codemirror_mode": {
    "name": "ipython",
    "version": 3
   },
   "file_extension": ".py",
   "mimetype": "text/x-python",
   "name": "python",
   "nbconvert_exporter": "python",
   "pygments_lexer": "ipython3",
   "version": "3.6.6"
  }
 },
 "nbformat": 4,
 "nbformat_minor": 2
}

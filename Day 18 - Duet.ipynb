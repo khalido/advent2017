{
 "cells": [
  {
   "cell_type": "markdown",
   "metadata": {},
   "source": [
    "# --- Day 18: Duet ---\n",
    "\n",
    "http://adventofcode.com/2017/day/18\n",
    "\n",
    "You discover a tablet containing some strange assembly code labeled simply \"Duet\". Rather than bother the sound card with it, you decide to run the code yourself. Unfortunately, you don't see any documentation, so you're left to figure out what the instructions mean on your own.\n",
    "\n",
    "It seems like the assembly is meant to operate on a set of registers that are each named with a single letter and that can each hold a single integer. You suppose each register should start with a value of 0.\n",
    "\n",
    "There aren't that many instructions, so it shouldn't be hard to figure out what they do. Here's what you determine:\n",
    "\n",
    "- snd X plays a sound with a frequency equal to the value of X.\n",
    "- set X Y sets register X to the value of Y.\n",
    "- add X Y increases register X by the value of Y.\n",
    "- mul X Y sets register X to the result of multiplying the value contained in register X by the value of Y.\n",
    "- mod X Y sets register X to the remainder of dividing the value contained in register X by the value of Y (that is, it sets X to the result of X modulo Y).\n",
    "- rcv X recovers the frequency of the last sound played, but only when the value of X is not zero. (If it is zero, the command does nothing.)\n",
    "- jgz X Y jumps with an offset of the value of Y, but only if the value of X is greater than zero. (An offset of 2 skips the next instruction, an offset of -1 jumps to the previous instruction, and so on.)\n",
    "\n",
    "Many of the instructions can take either a register (a single letter) or a number. The value of a register is the integer it contains; the value of a number is that number.\n",
    "\n",
    "After each jump instruction, the program continues with the instruction to which the jump jumped. After any other instruction, the program continues with the next instruction. Continuing (or jumping) off either end of the program terminates it.\n",
    "\n",
    "For example:\n",
    "\n",
    "```\n",
    "set a 1\n",
    "add a 2\n",
    "mul a a\n",
    "mod a 5\n",
    "snd a\n",
    "set a 0\n",
    "rcv a\n",
    "jgz a -1\n",
    "set a 1\n",
    "jgz a -2\n",
    "```\n",
    "\n",
    "- The first four instructions set a to 1, add 2 to it, square it, and then set it to itself modulo 5, resulting in a value of 4.\n",
    "- Then, a sound with frequency 4 (the value of a) is played.\n",
    "- After that, a is set to 0, causing the subsequent rcv and jgz instructions to both be skipped (rcv because a is 0, and jgz because a is not greater than 0).\n",
    "- Finally, a is set to 1, causing the next jgz instruction to activate, jumping back two instructions to another jump, which jumps again to the rcv, which ultimately triggers the recover operation.\n",
    "\n",
    "At the time the recover operation is executed, the frequency of the last sound played is 4.\n",
    "\n",
    "**What is the value of the recovered frequency** (the value of the most recently played sound) the first time a rcv instruction is executed with a non-zero value?"
   ]
  },
  {
   "cell_type": "markdown",
   "metadata": {},
   "source": [
    "## Part one solution:\n",
    "\n",
    "This is similar to an earlier solution, the key thing is knowing the collections and using defaultdic, and parsing the incoming instructions:"
   ]
  },
  {
   "cell_type": "code",
   "execution_count": 13,
   "metadata": {},
   "outputs": [
    {
     "data": {
      "text/plain": [
       "['set i 31',\n",
       " 'set a 1',\n",
       " 'mul p 17',\n",
       " 'jgz p p',\n",
       " 'mul a 2',\n",
       " 'add i -1',\n",
       " 'jgz i -2',\n",
       " 'add a -1',\n",
       " 'set i 127',\n",
       " 'set p 735']"
      ]
     },
     "execution_count": 13,
     "metadata": {},
     "output_type": "execute_result"
    }
   ],
   "source": [
    "# the puzzle input\n",
    "with open('puzzle_inputs/day18_input.txt') as f:\n",
    "    data = f.read().strip().split(\"\\n\")\n",
    "puzzle_input = [line for line in data]\n",
    "puzzle_input[:10]"
   ]
  },
  {
   "cell_type": "code",
   "execution_count": 15,
   "metadata": {},
   "outputs": [
    {
     "name": "stdout",
     "output_type": "stream",
     "text": [
      "part one answer is: 8600\n"
     ]
    }
   ],
   "source": [
    "from collections import defaultdict\n",
    "\n",
    "def part_one(instructions, verbose=False):\n",
    "    \"\"\"goes through instructions and perfoms them as per part one\"\"\"\n",
    "    \n",
    "    registers = defaultdict(int)\n",
    "    sounds = []\n",
    "    i = 0\n",
    "    total_instructions = len(instructions)\n",
    "    \n",
    "    while i >=0 and i < total_instructions:\n",
    "        \n",
    "        # first, parse instruction\n",
    "        f = instructions[i].split()\n",
    "        if verbose: print(i, f)\n",
    "        func = f[0]\n",
    "        \n",
    "        try:\n",
    "            x = int(f[1])\n",
    "        except:\n",
    "            x = f[1]\n",
    "\n",
    "        if len(f) == 3:\n",
    "            try:\n",
    "                y = int(f[2])\n",
    "            except:\n",
    "                y = f[2]\n",
    "        \n",
    "        if func == \"rcv\":\n",
    "            if verbose: print(registers)\n",
    "            print(\"part one answer is:\", sounds[-1])\n",
    "            break\n",
    "        \n",
    "        # now to run the func code\n",
    "        \n",
    "        if func == \"snd\":\n",
    "            sounds.append(registers[x])\n",
    "        elif func == \"set\":\n",
    "            y = registers[y] if type(y) is str else y\n",
    "            registers[x] = y\n",
    "        elif func == \"add\":\n",
    "            y = registers[y] if type(y) is str else y\n",
    "            registers[x] += y\n",
    "        elif func == \"mul\":\n",
    "            y = registers[y] if type(y) is str else y\n",
    "            registers[x] = registers[x] * y\n",
    "        elif func == \"mod\":\n",
    "            y = registers[y] if type(y) is str else y\n",
    "            registers[x] = registers[x] % y\n",
    "        elif func == \"rcv\":\n",
    "            x = registers[x] if type(x) is str else x\n",
    "            if x != 0:\n",
    "                sounds.append(sounds[-1])\n",
    "        elif func == \"jgz\":\n",
    "            x = registers[x] if type(x) is str else x\n",
    "            if x > 0:\n",
    "                i += registers[y] if type(y) is str else y\n",
    "                if verbose: print(f\"jumping to {i}\")\n",
    "                # now to skip the i += step below\n",
    "                continue\n",
    "                \n",
    "        i += 1\n",
    "\n",
    "part_one(puzzle_input, verbose=False)"
   ]
  },
  {
   "cell_type": "markdown",
   "metadata": {},
   "source": [
    "`8600` was the right answer for my puzzle input! yay!"
   ]
  },
  {
   "cell_type": "markdown",
   "metadata": {},
   "source": [
    "# --- Part Two ---\n",
    "\n",
    "As you congratulate yourself for a job well done, you notice that the documentation has been on the back of the tablet this entire time. While you actually got most of the instructions correct, there are a few key differences. This assembly code isn't about sound at all - it's meant to be run twice at the same time.\n",
    "\n",
    "Each running copy of the program has its own set of registers and follows the code independently - in fact, the programs don't even necessarily run at the same speed. To coordinate, they use the send (snd) and receive (rcv) instructions:\n",
    "\n",
    "- `snd X` sends the value of X to the other program. These values wait in a queue until that program is ready to receive them. Each program has its own message queue, so a program can never receive a message it sent.\n",
    "- `rcv X` receives the next value and stores it in register X. If no values are in the queue, the program waits for a value to be sent to it. Programs do not continue to the next instruction until they have received a value. Values are received in the order they are sent.\n",
    "\n",
    "Each program also has its own program ID (one 0 and the other 1); the register p should begin with this value.\n",
    "\n",
    "For example:\n",
    "\n",
    "```\n",
    "snd 1\n",
    "snd 2\n",
    "snd p\n",
    "rcv a\n",
    "rcv b\n",
    "rcv c\n",
    "rcv d```\n",
    "\n",
    "Both programs begin by sending three values to the other. Program 0 sends 1, 2, 0; program 1 sends 1, 2, 1. Then, each program receives a value (both 1) and stores it in a, receives another value (both 2) and stores it in b, and then each receives the program ID of the other program (program 0 receives 1; program 1 receives 0) and stores it in c. Each program now sees a different value in its own copy of register c.\n",
    "\n",
    "Finally, both programs try to rcv a fourth time, but no data is waiting for either of them, and they reach a deadlock. When this happens, both programs terminate.\n",
    "\n",
    "It should be noted that it would be equally valid for the programs to run at different speeds; for example, program 0 might have sent all three values and then stopped at the first rcv before program 1 executed even its first instruction.\n",
    "\n",
    "Once both of your programs have terminated (regardless of what caused them to do so), **how many times did program 1 send a value?**"
   ]
  },
  {
   "cell_type": "markdown",
   "metadata": {},
   "source": [
    "This seems like a good reason use multi-threading/processing, probably using Process, Queue, Pipe from mp, but since I'm using jupyter notebook running in termux on a chromebook, multiprocessing doesn't work:\n",
    "\n",
    "> This platform lacks a functioning sem_open implementation, therefore, the required synchronization primitives needed will not function, see issue 3770.\n",
    "\n",
    "so trying threading:"
   ]
  },
  {
   "cell_type": "code",
   "execution_count": 16,
   "metadata": {},
   "outputs": [],
   "source": [
    "from threading import Thread, Lock\n",
    "from queue import Queue\n",
    "from collections import defaultdict\n",
    "\n",
    "lock = Lock()\n",
    "\n",
    "def do_ins_threaded(instructions, progam_id, inqueue, outqueue, lock=lock, verbose=False):\n",
    "    \"\"\"goes through instructions and perfoms them as per part one\"\"\"\n",
    "    \n",
    "    registers = defaultdict(int)\n",
    "    registers[\"p\"] = progam_id\n",
    "    \n",
    "    total_instructions = len(instructions)\n",
    "    sent_msgs = 0\n",
    "    rcv_msgs = 0\n",
    "    i = 0\n",
    "    \n",
    "    while i >=0 and i < total_instructions:\n",
    "        # first, parse instruction\n",
    "        f = instructions[i].split()\n",
    "        #if verbose: print(progam_id, i, total_instructions)\n",
    "        func = f[0]\n",
    "        \n",
    "        try:\n",
    "            x = int(f[1])\n",
    "        except:\n",
    "            x = f[1]\n",
    "            \n",
    "        if len(f) == 3:\n",
    "            try:\n",
    "                y = int(f[2])\n",
    "            except:\n",
    "                y = f[2]\n",
    "                \n",
    "        # now to run the func code\n",
    "        if func == \"rcv\":\n",
    "            try:\n",
    "                new_val = inqueue.get(block=True, timeout=1.5)\n",
    "                registers[x] = new_val\n",
    "            except:\n",
    "                print(f\"no more messages left for Program {progam_id}\")\n",
    "                break\n",
    "            rcv_msgs += 1\n",
    "            #if verbose: print(f\"Progam {progam_id} received msg {rcv_msgs}\")\n",
    "        elif func == \"snd\":\n",
    "            with lock:\n",
    "                x = registers[x] if type(x) is str else x\n",
    "                outqueue.put(x)\n",
    "                sent_msgs += 1\n",
    "                if verbose: print(f\"Program {progam_id} sent message {sent_msgs}\")\n",
    "        elif func == \"set\":\n",
    "            y = registers[y] if type(y) is str else y\n",
    "            registers[x] = y\n",
    "        elif func == \"add\":\n",
    "            y = registers[y] if type(y) is str else y\n",
    "            registers[x] += y\n",
    "        elif func == \"mul\":\n",
    "            y = registers[y] if type(y) is str else y\n",
    "            registers[x] = registers[x] * y\n",
    "        elif func == \"mod\":\n",
    "            y = registers[y] if type(y) is str else y\n",
    "            registers[x] = registers[x] % y\n",
    "        elif func == \"jgz\":\n",
    "            x = registers[x] if type(x) is str else x\n",
    "            if x > 0:\n",
    "                i += registers[y] if type(y) is str else y\n",
    "                continue # skip the i += step below\n",
    "        else:\n",
    "            print(f\"found unknown command {func}, halting...\")\n",
    "            break\n",
    "                \n",
    "        i += 1\n",
    "    \n",
    "    with lock:\n",
    "        print(f\"----{progam_id} ends here----\")\n",
    "        print(f\"P {progam_id} sent {sent_msgs} messages, received {rcv_msgs} msgs\")\n",
    "        print(registers)\n",
    "        print(\"-------\")\n",
    "    \n",
    "    return True"
   ]
  },
  {
   "cell_type": "markdown",
   "metadata": {},
   "source": [
    "Testing the above on the test case:"
   ]
  },
  {
   "cell_type": "code",
   "execution_count": 9,
   "metadata": {},
   "outputs": [
    {
     "name": "stdout",
     "output_type": "stream",
     "text": [
      "['snd 1', 'snd 2', 'snd p', 'rcv a', 'rcv b', 'rcv c', 'rcv d']\n",
      "no more messages left for Program 1\n",
      "----1 ends here----\n",
      "P 1 sent 3 messages, received 3 msgs\n",
      "defaultdict(<class 'int'>, {'p': 1, 'a': 1, 'b': 2, 'c': 0})\n",
      "-------\n",
      "no more messages left for Program 0\n",
      "----0 ends here----\n",
      "P 0 sent 3 messages, received 3 msgs\n",
      "defaultdict(<class 'int'>, {'p': 0, 'a': 1, 'b': 2, 'c': 1})\n",
      "-------\n"
     ]
    }
   ],
   "source": [
    "test_input = \"\"\"snd 1\n",
    "snd 2\n",
    "snd p\n",
    "rcv a\n",
    "rcv b\n",
    "rcv c\n",
    "rcv d\"\"\".strip().split(\"\\n\")\n",
    "print(test_input)\n",
    "\n",
    "q1 = Queue()\n",
    "q2 = Queue()\n",
    "\n",
    "t1 = Thread(target=do_ins_threaded, args=(test_input, 0, q1, q2, lock, False,))\n",
    "t2 = Thread(target=do_ins_threaded, args=(test_input, 1, q2, q1, lock, False,))\n",
    "\n",
    "t1.start() \n",
    "t2.start()"
   ]
  },
  {
   "cell_type": "markdown",
   "metadata": {},
   "source": [
    "Now on the actual case:"
   ]
  },
  {
   "cell_type": "code",
   "execution_count": 17,
   "metadata": {},
   "outputs": [
    {
     "name": "stdout",
     "output_type": "stream",
     "text": [
      "no more messages left for Program 0\n",
      "----0 ends here----\n",
      "P 0 sent 7366 messages, received 7239 msgsno more messages left for Program 1\n",
      "\n",
      "defaultdict(<class 'int'>, {'p': -91, 'i': 0, 'a': 26, 'b': 26, 'f': 0})\n",
      "-------\n",
      "----1 ends here----\n",
      "P 1 sent 7239 messages, received 7366 msgs\n",
      "defaultdict(<class 'int'>, {'p': -91, 'i': 0, 'a': 26, 'f': 0, 'b': 26})\n",
      "-------\n"
     ]
    }
   ],
   "source": [
    "p1_q = Queue()\n",
    "p2_q = Queue()\n",
    "#lock = Lock()\n",
    "\n",
    "puzzle_thread_1 = Thread(target=do_ins_threaded, args=(puzzle_input, 0, p1_q, p2_q, lock, False,))\n",
    "puzzle_thread_2 = Thread(target=do_ins_threaded, args=(puzzle_input, 1, p2_q, p1_q, lock, False,))\n",
    "\n",
    "puzzle_thread_1.start() \n",
    "puzzle_thread_2.start()"
   ]
  },
  {
   "cell_type": "markdown",
   "metadata": {},
   "source": [
    "Eureka! The correct answer is `7239`. This took the longest time by far of all the advent puzzles.\n",
    "\n",
    "Notes:\n",
    "\n",
    "- learn more about threading and multiprocessing. \n",
    "- should I have used asyncio here?\n",
    "- whats the best way to parse incoming commands in string form? use if/else statements, eval or something else?"
   ]
  },
  {
   "cell_type": "code",
   "execution_count": 18,
   "metadata": {},
   "outputs": [
    {
     "data": {
      "text/plain": [
       "(True, True, False, False)"
      ]
     },
     "execution_count": 18,
     "metadata": {},
     "output_type": "execute_result"
    }
   ],
   "source": [
    "p1_q.empty(), p2_q.empty(), puzzle_thread_1.is_alive(), puzzle_thread_2.is_alive()"
   ]
  }
 ],
 "metadata": {
  "kernelspec": {
   "display_name": "Python 3",
   "language": "python",
   "name": "python3"
  },
  "language_info": {
   "codemirror_mode": {
    "name": "ipython",
    "version": 3
   },
   "file_extension": ".py",
   "mimetype": "text/x-python",
   "name": "python",
   "nbconvert_exporter": "python",
   "pygments_lexer": "ipython3",
   "version": "3.6.4"
  }
 },
 "nbformat": 4,
 "nbformat_minor": 2
}

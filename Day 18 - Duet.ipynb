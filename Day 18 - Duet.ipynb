{
 "cells": [
  {
   "cell_type": "markdown",
   "metadata": {},
   "source": [
    "# --- Day 18: Duet ---\n",
    "\n",
    "http://adventofcode.com/2017/day/18\n",
    "\n",
    "You discover a tablet containing some strange assembly code labeled simply \"Duet\". Rather than bother the sound card with it, you decide to run the code yourself. Unfortunately, you don't see any documentation, so you're left to figure out what the instructions mean on your own.\n",
    "\n",
    "It seems like the assembly is meant to operate on a set of registers that are each named with a single letter and that can each hold a single integer. You suppose each register should start with a value of 0.\n",
    "\n",
    "There aren't that many instructions, so it shouldn't be hard to figure out what they do. Here's what you determine:\n",
    "\n",
    "- snd X plays a sound with a frequency equal to the value of X.\n",
    "- set X Y sets register X to the value of Y.\n",
    "- add X Y increases register X by the value of Y.\n",
    "- mul X Y sets register X to the result of multiplying the value contained in register X by the value of Y.\n",
    "- mod X Y sets register X to the remainder of dividing the value contained in register X by the value of Y (that is, it sets X to the result of X modulo Y).\n",
    "- rcv X recovers the frequency of the last sound played, but only when the value of X is not zero. (If it is zero, the command does nothing.)\n",
    "- jgz X Y jumps with an offset of the value of Y, but only if the value of X is greater than zero. (An offset of 2 skips the next instruction, an offset of -1 jumps to the previous instruction, and so on.)\n",
    "\n",
    "Many of the instructions can take either a register (a single letter) or a number. The value of a register is the integer it contains; the value of a number is that number.\n",
    "\n",
    "After each jump instruction, the program continues with the instruction to which the jump jumped. After any other instruction, the program continues with the next instruction. Continuing (or jumping) off either end of the program terminates it.\n",
    "\n",
    "For example:\n",
    "\n",
    "```\n",
    "set a 1\n",
    "add a 2\n",
    "mul a a\n",
    "mod a 5\n",
    "snd a\n",
    "set a 0\n",
    "rcv a\n",
    "jgz a -1\n",
    "set a 1\n",
    "jgz a -2\n",
    "```\n",
    "\n",
    "- The first four instructions set a to 1, add 2 to it, square it, and then set it to itself modulo 5, resulting in a value of 4.\n",
    "- Then, a sound with frequency 4 (the value of a) is played.\n",
    "- After that, a is set to 0, causing the subsequent rcv and jgz instructions to both be skipped (rcv because a is 0, and jgz because a is not greater than 0).\n",
    "- Finally, a is set to 1, causing the next jgz instruction to activate, jumping back two instructions to another jump, which jumps again to the rcv, which ultimately triggers the recover operation.\n",
    "\n",
    "At the time the recover operation is executed, the frequency of the last sound played is 4.\n",
    "\n",
    "**What is the value of the recovered frequency** (the value of the most recently played sound) the first time a rcv instruction is executed with a non-zero value?"
   ]
  },
  {
   "cell_type": "code",
   "execution_count": 2,
   "metadata": {},
   "outputs": [
    {
     "data": {
      "text/plain": [
       "['set i 31',\n",
       " 'set a 1',\n",
       " 'mul p 17',\n",
       " 'jgz p p',\n",
       " 'mul a 2',\n",
       " 'add i -1',\n",
       " 'jgz i -2',\n",
       " 'add a -1',\n",
       " 'set i 127',\n",
       " 'set p 735']"
      ]
     },
     "execution_count": 2,
     "metadata": {},
     "output_type": "execute_result"
    }
   ],
   "source": [
    "# the puzzle input\n",
    "with open('puzzle_inputs/day18_input.txt') as f:\n",
    "    data = f.read().strip().split(\"\\n\")\n",
    "puzzle_input = [line for line in data]\n",
    "puzzle_input[:10]"
   ]
  },
  {
   "cell_type": "code",
   "execution_count": 4,
   "metadata": {},
   "outputs": [
    {
     "name": "stdout",
     "output_type": "stream",
     "text": [
      "part one answer is: 8600\n"
     ]
    }
   ],
   "source": [
    "from collections import defaultdict\n",
    "\n",
    "def part_one(instructions):\n",
    "    \"\"\"goes through instructions and perfoms them as per part one\"\"\"\n",
    "    \n",
    "    registers = defaultdict(int)\n",
    "    sounds = []\n",
    "    i = 0\n",
    "    \n",
    "    while True:\n",
    "        \n",
    "        # first, parse instruction\n",
    "        f = instructions[i].split()\n",
    "        func = f[0]\n",
    "        \n",
    "        try:\n",
    "            x = int(f[1])\n",
    "        except:\n",
    "            x = f\"'{f[1]}'\"\n",
    "\n",
    "        if len(f) == 3:\n",
    "            try:\n",
    "                y = int(f[2])\n",
    "            except:\n",
    "                y = f\"'{f[2]}'\"\n",
    "        \n",
    "        if func == \"rcv\":\n",
    "            print(\"part one answer is:\", sounds[-1])\n",
    "            break\n",
    "        \n",
    "        # now to run the func code\n",
    "        \n",
    "        if func == \"snd\":\n",
    "            sounds.append(registers[x])\n",
    "        elif func == \"set\":\n",
    "            y = registers[y] if type(y) is str else y\n",
    "            registers[x] = y\n",
    "        elif func == \"add\":\n",
    "            y = registers[y] if type(y) is str else y\n",
    "            registers[x] += y\n",
    "        elif func == \"mul\":\n",
    "            y = registers[y] if type(y) is str else y\n",
    "            registers[x] = registers[x] * y\n",
    "        elif func == \"mod\":\n",
    "            y = registers[y] if type(y) is str else y\n",
    "            registers[x] = registers[x] % y\n",
    "        elif func == \"rcv\":\n",
    "            x = registers[x] if type(x) is str else x\n",
    "            if x != 0:\n",
    "                sounds.append(sounds[-1])\n",
    "        elif func == \"jgz\":\n",
    "            try:\n",
    "                y = int(y)\n",
    "            except:\n",
    "                y = str(y)\n",
    "\n",
    "            if registers[x] > 0:\n",
    "                i += registers[y] if type(y) is str else y\n",
    "                # now to skip the i += step below\n",
    "                continue\n",
    "                \n",
    "        i += 1\n",
    "\n",
    "part_one(puzzle_input)"
   ]
  },
  {
   "cell_type": "markdown",
   "metadata": {},
   "source": [
    "`8600` was the right answer for my puzzle input! yay!"
   ]
  },
  {
   "cell_type": "markdown",
   "metadata": {},
   "source": [
    "# --- Part Two ---\n",
    "\n",
    "As you congratulate yourself for a job well done, you notice that the documentation has been on the back of the tablet this entire time. While you actually got most of the instructions correct, there are a few key differences. This assembly code isn't about sound at all - it's meant to be run twice at the same time.\n",
    "\n",
    "Each running copy of the program has its own set of registers and follows the code independently - in fact, the programs don't even necessarily run at the same speed. To coordinate, they use the send (snd) and receive (rcv) instructions:\n",
    "\n",
    "- `snd X` sends the value of X to the other program. These values wait in a queue until that program is ready to receive them. Each program has its own message queue, so a program can never receive a message it sent.\n",
    "- `rcv X` receives the next value and stores it in register X. If no values are in the queue, the program waits for a value to be sent to it. Programs do not continue to the next instruction until they have received a value. Values are received in the order they are sent.\n",
    "\n",
    "Each program also has its own program ID (one 0 and the other 1); the register p should begin with this value.\n",
    "\n",
    "For example:\n",
    "\n",
    "```\n",
    "snd 1\n",
    "snd 2\n",
    "snd p\n",
    "rcv a\n",
    "rcv b\n",
    "rcv c\n",
    "rcv d```\n",
    "\n",
    "Both programs begin by sending three values to the other. Program 0 sends 1, 2, 0; program 1 sends 1, 2, 1. Then, each program receives a value (both 1) and stores it in a, receives another value (both 2) and stores it in b, and then each receives the program ID of the other program (program 0 receives 1; program 1 receives 0) and stores it in c. Each program now sees a different value in its own copy of register c.\n",
    "\n",
    "Finally, both programs try to rcv a fourth time, but no data is waiting for either of them, and they reach a deadlock. When this happens, both programs terminate.\n",
    "\n",
    "It should be noted that it would be equally valid for the programs to run at different speeds; for example, program 0 might have sent all three values and then stopped at the first rcv before program 1 executed even its first instruction.\n",
    "\n",
    "Once both of your programs have terminated (regardless of what caused them to do so), **how many times did program 1 send a value?**"
   ]
  },
  {
   "cell_type": "markdown",
   "metadata": {},
   "source": [
    "This seems like a good reason use multi-threading/processing, probably using Process, Queue, Pipe from mp, but since I'm using jupyter notebook running in termux on a chromebook, multiprocessing doesn't work:\n",
    "\n",
    "> This platform lacks a functioning sem_open implementation, therefore, the required synchronization primitives needed will not function, see issue 3770.\n",
    "\n",
    "so trying threading:"
   ]
  },
  {
   "cell_type": "code",
   "execution_count": 12,
   "metadata": {},
   "outputs": [
    {
     "name": "stdout",
     "output_type": "stream",
     "text": [
      "Progam 0 sent 127 after 25 loops\n",
      "Program 0 made it out of the while loop\n",
      "Progam 1 sent 380 after 25 loops\n",
      "Program 1 made it out of the while loop\n"
     ]
    }
   ],
   "source": [
    "from threading import Thread\n",
    "from queue import Queue\n",
    "\n",
    "# a queue for each process to send and receive from\n",
    "q1 = Queue()\n",
    "q2 = Queue()\n",
    "\n",
    "def do_ins_threaded(instructions, progam_id, inqueue, outqueue):\n",
    "    \"\"\"goes through instructions and perfoms them as per part one\"\"\"\n",
    "    \n",
    "    registers = defaultdict(int)\n",
    "    registers[\"p\"] = progam_id\n",
    "    \n",
    "    sent_msgs = 0\n",
    "    i = 0\n",
    "    \n",
    "    while True:\n",
    "        # first, parse instruction\n",
    "        f = instructions[i].split()\n",
    "        func = f[0]\n",
    "        \n",
    "        try:\n",
    "            x = int(f[1])\n",
    "        except:\n",
    "            x = f\"'{f[1]}'\"\n",
    "\n",
    "        if len(f) == 3:\n",
    "            try:\n",
    "                y = int(f[2])\n",
    "            except:\n",
    "                y = f\"'{f[2]}'\"\n",
    "        \n",
    "        # now to run the func code\n",
    "        if func == \"rcv\":\n",
    "            try:\n",
    "                registers[\"x\"] = inqueue.get(False)\n",
    "            except:\n",
    "                print(f\"Progam {progam_id} sent {sent_msgs} after {i} loops\")\n",
    "                #return \"All Done\"\n",
    "                break\n",
    "        elif func == \"snd\":\n",
    "            outqueue.put(registers[x])\n",
    "            sent_msgs += 1\n",
    "            #print(f\"Program {progam_id} sent message {sent_msgs}\")\n",
    "        elif func == \"set\":\n",
    "            y = registers[y] if type(y) is str else y\n",
    "            registers[x] = y\n",
    "        elif func == \"add\":\n",
    "            y = registers[y] if type(y) is str else y\n",
    "            registers[x] += y\n",
    "        elif func == \"mul\":\n",
    "            y = registers[y] if type(y) is str else y\n",
    "            registers[x] = registers[x] * y\n",
    "        elif func == \"mod\":\n",
    "            y = registers[y] if type(y) is str else y\n",
    "            registers[x] = registers[x] % y\n",
    "        elif func == \"jgz\":\n",
    "            try:\n",
    "                y = int(y)\n",
    "            except:\n",
    "                y = str(y)\n",
    "\n",
    "            if registers[x] > 0:\n",
    "                jump = registers[y] if type(y) is str else y\n",
    "                i += jump\n",
    "                # now to skip the i += step below\n",
    "                continue\n",
    "        else:\n",
    "            print(f\"found unknown command {func}, halting...\")\n",
    "            break\n",
    "                \n",
    "        i += 1\n",
    "    print(f\"Program {progam_id} made it out of the while loop\")\n",
    "    return sent_msgs\n",
    "\n",
    "t1 = Thread(target=do_ins_threaded, args=(puzzle_input, 0, q1, q2,))\n",
    "t2 = Thread(target=do_ins_threaded, args=(puzzle_input, 1, q2, q1,))\n",
    "\n",
    "t1.start() \n",
    "t2.start()"
   ]
  },
  {
   "cell_type": "code",
   "execution_count": 13,
   "metadata": {},
   "outputs": [
    {
     "name": "stdout",
     "output_type": "stream",
     "text": [
      "['snd 1', 'snd 2', 'snd p', 'rcv a', 'rcv b', 'rcv c', 'rcv d']\n",
      "Progam 0 sent 3 after 3 loops\n",
      "Progam 1 sent 3 after 6 loops\n",
      "Program 1 made it out of the while loop\n",
      "Program 0 made it out of the while loop\n"
     ]
    }
   ],
   "source": [
    "test_input = \"\"\"snd 1\n",
    "snd 2\n",
    "snd p\n",
    "rcv a\n",
    "rcv b\n",
    "rcv c\n",
    "rcv d\"\"\".strip().split(\"\\n\")\n",
    "print(test_input)\n",
    "\n",
    "q1 = Queue()\n",
    "q2 = Queue()\n",
    "\n",
    "t1 = Thread(target=do_ins_threaded, args=(test_input, 0, q1, q2,))\n",
    "t2 = Thread(target=do_ins_threaded, args=(test_input, 1, q2, q1,))\n",
    "\n",
    "t1.start() \n",
    "t2.start()"
   ]
  },
  {
   "cell_type": "code",
   "execution_count": 2,
   "metadata": {},
   "outputs": [
    {
     "data": {
      "text/plain": [
       "5"
      ]
     },
     "execution_count": 2,
     "metadata": {},
     "output_type": "execute_result"
    }
   ],
   "source": [
    "import threading\n",
    "threading.active_count()"
   ]
  },
  {
   "cell_type": "code",
   "execution_count": null,
   "metadata": {},
   "outputs": [],
   "source": []
  }
 ],
 "metadata": {
  "kernelspec": {
   "display_name": "Python 3",
   "language": "python",
   "name": "python3"
  },
  "language_info": {
   "codemirror_mode": {
    "name": "ipython",
    "version": 3
   },
   "file_extension": ".py",
   "mimetype": "text/x-python",
   "name": "python",
   "nbconvert_exporter": "python",
   "pygments_lexer": "ipython3",
   "version": "3.6.4"
  }
 },
 "nbformat": 4,
 "nbformat_minor": 2
}

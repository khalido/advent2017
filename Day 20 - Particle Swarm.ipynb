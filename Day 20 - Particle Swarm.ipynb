{
 "cells": [
  {
   "cell_type": "markdown",
   "metadata": {},
   "source": [
    "# --- Day 20: Particle Swarm ---\n",
    "Suddenly, the GPU contacts you, asking for help. Someone has asked it to simulate too many particles, and it won't be able to finish them all in time to render the next frame at this rate.\n",
    "\n",
    "It transmits to you a buffer (your puzzle input) listing each particle in order (starting with particle 0, then particle 1, particle 2, and so on). For each particle, it provides the X, Y, and Z coordinates for the particle's position (p), velocity (v), and acceleration (a), each in the format <X,Y,Z>.\n",
    "\n",
    "Each tick, all particles are updated simultaneously. A particle's properties are updated in the following order:\n",
    "\n",
    "- Increase the X velocity by the X acceleration.\n",
    "- Increase the Y velocity by the Y acceleration.\n",
    "- Increase the Z velocity by the Z acceleration.\n",
    "- Increase the X position by the X velocity.\n",
    "- Increase the Y position by the Y velocity.\n",
    "- Increase the Z position by the Z velocity.\n",
    "\n",
    "Because of seemingly tenuous rationale involving z-buffering, the GPU would like to know which particle will stay closest to position <0,0,0> in the long term. Measure this using the Manhattan distance, which in this situation is simply the sum of the absolute values of a particle's X, Y, and Z position.\n",
    "\n",
    "For example, suppose you are only given two particles, both of which stay entirely on the X-axis (for simplicity). Drawing the current states of particles 0 and 1 (in that order) with an adjacent a number line and diagram of current X positions (marked in parenthesis), the following would take place:\n",
    "\n",
    "```\n",
    "p=< 3,0,0>, v=< 2,0,0>, a=<-1,0,0>    -4 -3 -2 -1  0  1  2  3  4\n",
    "p=< 4,0,0>, v=< 0,0,0>, a=<-2,0,0>                         (0)(1)\n",
    "\n",
    "p=< 4,0,0>, v=< 1,0,0>, a=<-1,0,0>    -4 -3 -2 -1  0  1  2  3  4\n",
    "p=< 2,0,0>, v=<-2,0,0>, a=<-2,0,0>                      (1)   (0)\n",
    "\n",
    "p=< 4,0,0>, v=< 0,0,0>, a=<-1,0,0>    -4 -3 -2 -1  0  1  2  3  4\n",
    "p=<-2,0,0>, v=<-4,0,0>, a=<-2,0,0>          (1)               (0)\n",
    "\n",
    "p=< 3,0,0>, v=<-1,0,0>, a=<-1,0,0>    -4 -3 -2 -1  0  1  2  3  4\n",
    "p=<-8,0,0>, v=<-6,0,0>, a=<-2,0,0>                         (0)   \n",
    "```\n",
    "\n",
    "At this point, particle 1 will never be closer to <0,0,0> than particle 0, and so, in the long run, particle 0 will stay closest.\n",
    "\n",
    "Which particle will stay closest to position `<0,0,0>` in the long term?"
   ]
  },
  {
   "cell_type": "code",
   "execution_count": 237,
   "metadata": {},
   "outputs": [
    {
     "data": {
      "text/plain": [
       "['p=<-833,-499,-1391>, v=<84,17,61>, a=<-4,1,1>',\n",
       " 'p=<-168,3586,-2721>, v=<-61,-58,61>, a=<7,-13,8>',\n",
       " 'p=<364,223,1877>, v=<31,-11,-71>, a=<-5,0,-3>']"
      ]
     },
     "execution_count": 237,
     "metadata": {},
     "output_type": "execute_result"
    }
   ],
   "source": [
    "# the puzzle input\n",
    "with open('puzzle_inputs/day20_input.txt') as f:\n",
    "    data = f.read().strip().split(\"\\n\")\n",
    "puzzle_input = [line for line in data]\n",
    "puzzle_input[:3]"
   ]
  },
  {
   "cell_type": "markdown",
   "metadata": {},
   "source": [
    "This looks like a job for namedtuple and dicts:"
   ]
  },
  {
   "cell_type": "code",
   "execution_count": 238,
   "metadata": {},
   "outputs": [],
   "source": [
    "from collections import namedtuple, defaultdict\n",
    "import numpy as np\n",
    "\n",
    "particle = namedtuple(\"Particle\", [\"pos\", \"vel\", \"acc\"])\n",
    "particles = {}\n",
    "\n",
    "for i, line in enumerate(puzzle_input):\n",
    "    p, v, a= line.split(\", \")\n",
    "    pos = np.array([int(i) for i in p.split(\"=<\")[1][:-1].split(\",\")])\n",
    "    vel = np.array([int(i) for i in v.split(\"=<\")[1][:-1].split(\",\")])\n",
    "    acc = np.array([int(i) for i in a.split(\"=<\")[1][:-1].split(\",\")])\n",
    "    particles[i] = particle(pos, vel, acc)"
   ]
  },
  {
   "cell_type": "markdown",
   "metadata": {},
   "source": [
    "The test input is:"
   ]
  },
  {
   "cell_type": "code",
   "execution_count": 239,
   "metadata": {},
   "outputs": [
    {
     "data": {
      "text/plain": [
       "{0: Particle(pos=array([3, 0, 0]), vel=array([2, 0, 0]), acc=array([-1,  0,  0])),\n",
       " 1: Particle(pos=array([4, 0, 0]), vel=array([0, 0, 0]), acc=array([-2,  0,  0]))}"
      ]
     },
     "execution_count": 239,
     "metadata": {},
     "output_type": "execute_result"
    }
   ],
   "source": [
    "t = {}\n",
    "t[0] = particle(np.array([3,0,0]), np.array([2,0,0]), np.array([-1,0,0]))\n",
    "t[1] = particle(np.array([4,0,0]), np.array([0,0,0]), np.array([-2,0,0]))\n",
    "t"
   ]
  },
  {
   "cell_type": "markdown",
   "metadata": {},
   "source": [
    "some helper functions:"
   ]
  },
  {
   "cell_type": "code",
   "execution_count": 265,
   "metadata": {},
   "outputs": [],
   "source": [
    "def manhatten(list_nums):\n",
    "    \"\"\"takes in a list of numbers, returns manhatten distance\"\"\"\n",
    "    return sum(abs(k) for k in list_nums)"
   ]
  },
  {
   "cell_type": "markdown",
   "metadata": {},
   "source": [
    "## Part 1\n",
    "\n",
    "For part 1, the particle with the smallest acc will stick around closest to the origin. in case of a tie, look at the velocities, the the position.\n",
    "\n",
    "First up, the min acc is:"
   ]
  },
  {
   "cell_type": "code",
   "execution_count": 276,
   "metadata": {},
   "outputs": [
    {
     "data": {
      "text/plain": [
       "'Smallest acc: 1, Count 2'"
      ]
     },
     "execution_count": 276,
     "metadata": {},
     "output_type": "execute_result"
    }
   ],
   "source": [
    "accels = [manhatten(p.acc) for k, p in particles.items()]\n",
    "min_acc = min(accels)\n",
    "f\"Smallest acc: {min_acc}, Count {accels.count(min_acc)}\""
   ]
  },
  {
   "cell_type": "markdown",
   "metadata": {},
   "source": [
    "so the smallest acceleration is 1, with there being two particles. now to collect these two particles:"
   ]
  },
  {
   "cell_type": "code",
   "execution_count": 275,
   "metadata": {},
   "outputs": [
    {
     "data": {
      "text/plain": [
       "{21: Particle(pos=array([-1984652,   190485,  -294638]), vel=array([-1992,    97,  -150]), acc=array([-1,  0,  0])),\n",
       " 457: Particle(pos=array([  72729, 1951294, -338169]), vel=array([  37, 1975, -172]), acc=array([0, 1, 0]))}"
      ]
     },
     "execution_count": 275,
     "metadata": {},
     "output_type": "execute_result"
    }
   ],
   "source": [
    "min_acc_particles = {k:p for k, p in particles.items() if manhatten(p.acc) == min_acc}\n",
    "min_acc_particles"
   ]
  },
  {
   "cell_type": "code",
   "execution_count": 278,
   "metadata": {},
   "outputs": [
    {
     "name": "stdout",
     "output_type": "stream",
     "text": [
      "21 2469775 2239\n",
      "457 2362192 2184\n"
     ]
    }
   ],
   "source": [
    "for k, p in min_acc_particles.items():\n",
    "    print(k, manhatten(p.pos), manhatten(p.vel))"
   ]
  },
  {
   "cell_type": "markdown",
   "metadata": {},
   "source": [
    "The lower velocity particle wins. If the velocity had tied, then consider the position."
   ]
  },
  {
   "cell_type": "markdown",
   "metadata": {},
   "source": [
    "## Part 2\n",
    "\n",
    "Delete particles which occupy the same position."
   ]
  },
  {
   "cell_type": "code",
   "execution_count": 281,
   "metadata": {},
   "outputs": [
    {
     "data": {
      "text/plain": [
       "Particle(pos=array([-7836833,  2034501,  2121609]), vel=array([-7916,  2017,  2061]), acc=array([-4,  1,  1]))"
      ]
     },
     "execution_count": 281,
     "metadata": {},
     "output_type": "execute_result"
    }
   ],
   "source": [
    "particles[0]"
   ]
  },
  {
   "cell_type": "code",
   "execution_count": 284,
   "metadata": {},
   "outputs": [
    {
     "data": {
      "text/plain": [
       "Particle(pos=array([-7844753,  2036519,  2123671]), vel=array([-7920,  2018,  2062]), acc=array([-4,  1,  1]))"
      ]
     },
     "execution_count": 284,
     "metadata": {},
     "output_type": "execute_result"
    }
   ],
   "source": [
    "def update_particles(particles=particles, t=1):\n",
    "    \"\"\"updates particles by given timestep, defaulting to 1 ts\"\"\"\n",
    "    for _ in range(t):\n",
    "        for key, p in particles.items():\n",
    "            vel = p.vel + p.acc\n",
    "            pos = p.pos + vel\n",
    "            acc = p.acc\n",
    "            particles[key] = particle(pos, vel, acc)\n",
    "\n",
    "update_particles()\n",
    "particles[0]"
   ]
  },
  {
   "cell_type": "code",
   "execution_count": 299,
   "metadata": {},
   "outputs": [
    {
     "data": {
      "text/plain": [
       "array([0, 2, 1, 1, 1, 2, 1, 1, 1, 2])"
      ]
     },
     "execution_count": 299,
     "metadata": {},
     "output_type": "execute_result"
    }
   ],
   "source": [
    "a = [1,1,2,3,4,5,5,6,7,8,9,9]\n",
    "np.bincount(a)"
   ]
  },
  {
   "cell_type": "code",
   "execution_count": 318,
   "metadata": {},
   "outputs": [
    {
     "data": {
      "text/plain": [
       "[2, 3, 4, 6, 7, 8]"
      ]
     },
     "execution_count": 318,
     "metadata": {},
     "output_type": "execute_result"
    }
   ],
   "source": [
    "u, ind, c = np.unique(a, return_counts=True, return_index=True)\n",
    "[u for u,c in zip(u,c) if c==1]"
   ]
  },
  {
   "cell_type": "code",
   "execution_count": 333,
   "metadata": {},
   "outputs": [
    {
     "data": {
      "text/plain": [
       "[2, 3, 4, 7, 8, 9]"
      ]
     },
     "execution_count": 333,
     "metadata": {},
     "output_type": "execute_result"
    }
   ],
   "source": [
    "[ind for u,ind,c in zip(u,ind, c) if c==1]"
   ]
  },
  {
   "cell_type": "code",
   "execution_count": 334,
   "metadata": {},
   "outputs": [
    {
     "name": "stdout",
     "output_type": "stream",
     "text": [
      "2\n",
      "3\n",
      "4\n",
      "6\n",
      "7\n",
      "8\n"
     ]
    }
   ],
   "source": [
    "for k in [2, 3, 4, 7, 8, 9]:\n",
    "    print(a[k])"
   ]
  },
  {
   "cell_type": "code",
   "execution_count": 310,
   "metadata": {},
   "outputs": [
    {
     "name": "stdout",
     "output_type": "stream",
     "text": [
      "2\n"
     ]
    }
   ],
   "source": [
    "from collections import Counter\n",
    "\n",
    "def del_pos_collisions(particles=particles):\n",
    "    \"\"\"deletes those particles which have the same pos\"\"\"\n",
    "    keys = []\n",
    "    pos = []\n",
    "    for key, p in particles.items():\n",
    "        keys.append(key)\n",
    "        pos.append(p.pos)\n",
    "    unique, counts = np.unique(pos, return_counts=True)\n",
    "    \n",
    "del_pos_collisions()"
   ]
  },
  {
   "cell_type": "code",
   "execution_count": 257,
   "metadata": {},
   "outputs": [],
   "source": [
    "\n",
    "distances = defaultdict(list)\n",
    "accel = defaultdict(list)\n",
    "TICKS = 1000\n",
    "\n",
    "for _ in range(TICKS):\n",
    "    for key, p in particles.items():\n",
    "        vel = p.vel + p.acc\n",
    "        pos = p.pos + vel\n",
    "        acc = p.acc\n",
    "        particles[key] = particle(pos, vel, acc)\n",
    "        distances[key].append(sum([abs(i) for i in p.pos]))\n",
    "        accel[key].append(abs(sum(acc)))"
   ]
  },
  {
   "cell_type": "code",
   "execution_count": 258,
   "metadata": {},
   "outputs": [
    {
     "data": {
      "text/plain": [
       "(33,\n",
       " Particle(pos=array([   47629, -4049280,  4277294]), vel=array([   24, -4024,  4139]), acc=array([ 0, -2,  2])))"
      ]
     },
     "execution_count": 258,
     "metadata": {},
     "output_type": "execute_result"
    }
   ],
   "source": [
    "min_acc = float('inf')\n",
    "min_pos = float('inf')\n",
    "part_key = None\n",
    "part = None\n",
    "\n",
    "for key, p in particles.items():\n",
    "    #print(key, p.acc, sum(p.acc))\n",
    "    acc = abs(sum(p.acc))\n",
    "    pos = abs(sum(p.pos))\n",
    "    \n",
    "    if acc < min_acc:\n",
    "        min_acc = acc\n",
    "        min_pos = pos\n",
    "        part = p\n",
    "        part_key = key\n",
    "        \n",
    "part_key, part"
   ]
  },
  {
   "cell_type": "code",
   "execution_count": 263,
   "metadata": {},
   "outputs": [
    {
     "data": {
      "text/plain": [
       "(915,\n",
       " Particle(pos=array([ 39560360,     78288, -39433969]), vel=array([ 39771,     39, -39708]), acc=array([ 20,   0, -20])))"
      ]
     },
     "execution_count": 263,
     "metadata": {},
     "output_type": "execute_result"
    }
   ],
   "source": [
    "ans = []\n",
    "for key, p in particles.items():\n",
    "    abs_acc = sum([abs(a) for a in p.acc])\n",
    "    if abs_acc == min_acc:\n",
    "        ans.append(key)\n",
    "        \n",
    "ans_pos = float('inf')\n",
    "ans_key = None\n",
    "for k in ans:\n",
    "    pos = sum([abs(i) for i in particles[k].pos])\n",
    "    if pos < ans_pos:\n",
    "        ans_pos = pos\n",
    "        ans_key = k\n",
    "k, particles[k]"
   ]
  },
  {
   "cell_type": "code",
   "execution_count": 260,
   "metadata": {},
   "outputs": [
    {
     "data": {
      "text/plain": [
       "(2360008, 457)"
      ]
     },
     "execution_count": 260,
     "metadata": {},
     "output_type": "execute_result"
    }
   ],
   "source": [
    "min_dist = float('inf')\n",
    "min_key = None\n",
    "\n",
    "for key, dist in distances.items():\n",
    "    #plt.plot(dist, label=key)\n",
    "    if abs(dist[-1]) < abs(min_dist):\n",
    "        min_dist = dist[-1]\n",
    "        min_key = key\n",
    "#plt.title(f\"The answer is {min_key}\")\n",
    "#plt.show()\n",
    "min_dist, min_key"
   ]
  },
  {
   "cell_type": "code",
   "execution_count": null,
   "metadata": {},
   "outputs": [],
   "source": [
    "%matplotlib inline\n",
    "import matplotlib.pyplot as plt\n",
    "import seaborn as sns"
   ]
  },
  {
   "cell_type": "code",
   "execution_count": 245,
   "metadata": {},
   "outputs": [
    {
     "data": {
      "image/png": "[encoded data removed]",
      "text/plain": [
       "<matplotlib.figure.Figure at 0x79824f22b438>"
      ]
     },
     "metadata": {},
     "output_type": "display_data"
    }
   ],
   "source": [
    "for key in distances:\n",
    "    #print(abs(distances[key][-1]))\n",
    "    if abs(distances[key][-1]) < 2*10**4:\n",
    "        plt.semilogy(distances[key], label=key)\n",
    "plt.legend()\n",
    "plt.show()"
   ]
  },
  {
   "cell_type": "code",
   "execution_count": 246,
   "metadata": {},
   "outputs": [
    {
     "data": {
      "text/plain": [
       "(537, 1.0, 26.0)"
      ]
     },
     "execution_count": 246,
     "metadata": {},
     "output_type": "execute_result"
    }
   ],
   "source": [
    "from scipy.stats import linregress\n",
    "\n",
    "small_key = None\n",
    "small_slope = float('inf')\n",
    "s_intercept = float('inf')\n",
    "\n",
    "s = []\n",
    "\n",
    "for key, dist in distances.items():\n",
    "    #print(key, dist)\n",
    "    lin = linregress(range(TICKS), dist)\n",
    "    #print(lin.intercept, lin.slope)\n",
    "    slope = abs(lin.slope)\n",
    "    s.append(slope)\n",
    "    if slope < abs(small_slope):\n",
    "        small_key = key\n",
    "        small_slope = lin.slope\n",
    "        s_intercept = lin.intercept\n",
    "\n",
    "small_key, small_slope, s_intercept"
   ]
  },
  {
   "cell_type": "code",
   "execution_count": 136,
   "metadata": {},
   "outputs": [
    {
     "data": {
      "text/plain": [
       "392"
      ]
     },
     "execution_count": 136,
     "metadata": {},
     "output_type": "execute_result"
    }
   ],
   "source": [
    "[abs(i) for i in s].index(1)"
   ]
  },
  {
   "cell_type": "code",
   "execution_count": null,
   "metadata": {},
   "outputs": [],
   "source": []
  }
 ],
 "metadata": {
  "kernelspec": {
   "display_name": "Python 3",
   "language": "python",
   "name": "python3"
  },
  "language_info": {
   "codemirror_mode": {
    "name": "ipython",
    "version": 3
   },
   "file_extension": ".py",
   "mimetype": "text/x-python",
   "name": "python",
   "nbconvert_exporter": "python",
   "pygments_lexer": "ipython3",
   "version": "3.6.4"
  }
 },
 "nbformat": 4,
 "nbformat_minor": 2
}

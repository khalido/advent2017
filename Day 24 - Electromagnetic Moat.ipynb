{
 "cells": [
  {
   "cell_type": "markdown",
   "metadata": {},
   "source": [
    "# --- Day 24: Electromagnetic Moat ---\n",
    "\n",
    "The CPU itself is a large, black building surrounded by a bottomless pit. Enormous metal tubes extend outward from the side of the building at regular intervals and descend down into the void. There's no way to cross, but you need to get inside.\n",
    "\n",
    "No way, of course, other than building a bridge out of the magnetic components strewn about nearby.\n",
    "\n",
    "Each component has two ports, one on each end. The ports come in all different types, and only matching types can be connected. You take an inventory of the components by their port types (your puzzle input). Each port is identified by the number of pins it uses; more pins mean a stronger connection for your bridge. A 3/7 component, for example, has a type-3 port on one side, and a type-7 port on the other.\n",
    "\n",
    "Your side of the pit is metallic; a perfect surface to connect a magnetic, zero-pin port. Because of this, the first port you use must be of type 0. It doesn't matter what type of port you end with; your goal is just to make the bridge as strong as possible.\n",
    "\n",
    "The strength of a bridge is the sum of the port types in each component. For example, if your bridge is made of components 0/3, 3/7, and 7/4, your bridge has a strength of 0+3 + 3+7 + 7+4 = 24.\n",
    "\n",
    "For example, suppose you had the following components:\n",
    "\n",
    "```\n",
    "0/2\n",
    "2/2\n",
    "2/3\n",
    "3/4\n",
    "3/5\n",
    "0/1\n",
    "10/1\n",
    "9/10\n",
    "```\n",
    "\n",
    "With them, you could make the following valid bridges:\n",
    "\n",
    "```\n",
    "0/1\n",
    "0/1--10/1\n",
    "0/1--10/1--9/10\n",
    "0/2\n",
    "0/2--2/3\n",
    "0/2--2/3--3/4\n",
    "0/2--2/3--3/5\n",
    "0/2--2/2\n",
    "0/2--2/2--2/3\n",
    "0/2--2/2--2/3--3/4\n",
    "0/2--2/2--2/3--3/5\n",
    "```\n",
    "\n",
    "(Note how, as shown by 10/1, order of ports within a component doesn't matter. However, you may only use each port on a component once.)\n",
    "\n",
    "Of these bridges, the strongest one is `0/1--10/1--9/10`; it has a strength of `0+1 + 1+10 + 10+9 = 31`.\n",
    "\n",
    "**What is the strength of the strongest bridge you can make with the components you have available?**"
   ]
  },
  {
   "cell_type": "markdown",
   "metadata": {},
   "source": [
    "First up, converting the stringy input into ints stored in a list:"
   ]
  },
  {
   "cell_type": "code",
   "execution_count": 15,
   "metadata": {},
   "outputs": [
    {
     "name": "stdout",
     "output_type": "stream",
     "text": [
      "Number of bridgers 54\n"
     ]
    },
    {
     "data": {
      "text/plain": [
       "[[48, 5], [25, 10], [35, 49], [34, 41], [35, 35], [47, 35]]"
      ]
     },
     "execution_count": 15,
     "metadata": {},
     "output_type": "execute_result"
    }
   ],
   "source": [
    "# the puzzle input\n",
    "with open('puzzle_inputs/day24_input.txt') as f:\n",
    "    data = f.read().strip().split(\"\\n\")\n",
    "puzzle_input = [[int(i) for i in line.split(\"/\")] for line in data]\n",
    "print(\"Number of bridgers\", len(puzzle_input))\n",
    "puzzle_input[:6]"
   ]
  },
  {
   "cell_type": "markdown",
   "metadata": {},
   "source": [
    "Starting with the test input:"
   ]
  },
  {
   "cell_type": "code",
   "execution_count": 23,
   "metadata": {},
   "outputs": [
    {
     "data": {
      "text/plain": [
       "[[0, 2], [2, 2], [2, 3], [3, 4], [3, 5], [0, 1], [10, 1], [9, 10]]"
      ]
     },
     "execution_count": 23,
     "metadata": {},
     "output_type": "execute_result"
    }
   ],
   "source": [
    "test_input = [[int(i) for i in l.split(\"/\")] for l in \"\"\"0/2\n",
    "2/2\n",
    "2/3\n",
    "3/4\n",
    "3/5\n",
    "0/1\n",
    "10/1\n",
    "9/10\"\"\".strip().split(\"\\n\")]\n",
    "test_input"
   ]
  },
  {
   "cell_type": "markdown",
   "metadata": {},
   "source": [
    "hmmm, this could be a graph problem, or recursive or even a brute force one. First up, some helper functions:"
   ]
  },
  {
   "cell_type": "code",
   "execution_count": 78,
   "metadata": {},
   "outputs": [
    {
     "data": {
      "text/plain": [
       "(True, False)"
      ]
     },
     "execution_count": 78,
     "metadata": {},
     "output_type": "execute_result"
    }
   ],
   "source": [
    "def is_bridge(bridge):\n",
    "    \"\"\"return true if bridge is valid, false otherwise\"\"\"\n",
    "    size = len(bridge)\n",
    "    if size < 1 : return False\n",
    "    if bridge[0][0] != 0: return False\n",
    "    \n",
    "    for i in range(size-1):\n",
    "        if bridge[i][1] != bridge[i+1][0]:\n",
    "            return False\n",
    "    return True\n",
    "\n",
    "is_bridge([[0, 2], [2,1], [1,4]]), is_bridge(test_input)"
   ]
  },
  {
   "cell_type": "code",
   "execution_count": 89,
   "metadata": {},
   "outputs": [
    {
     "data": {
      "text/plain": [
       "defaultdict(list,\n",
       "            {0: [[0, 2], [0, 1]],\n",
       "             2: [[2, 2], [2, 3]],\n",
       "             3: [[3, 4], [3, 5]],\n",
       "             9: [[9, 10]],\n",
       "             10: [[10, 1]]})"
      ]
     },
     "execution_count": 89,
     "metadata": {},
     "output_type": "execute_result"
    }
   ],
   "source": [
    "from collections import defaultdict\n",
    "def make_ports_dict(bridges=test_input):\n",
    "    ports = defaultdict(list)\n",
    "    for br in test_input:\n",
    "        ports[br[0]].append(br)\n",
    "    return ports\n",
    "make_ports_dict()"
   ]
  },
  {
   "cell_type": "code",
   "execution_count": 81,
   "metadata": {},
   "outputs": [
    {
     "data": {
      "text/plain": [
       "[[2, 2], [2, 3]]"
      ]
     },
     "execution_count": 81,
     "metadata": {},
     "output_type": "execute_result"
    }
   ],
   "source": [
    "def next_valid_bridges(bridge, bridges):\n",
    "    return [br for br in bridges if br[0] == bridge[1]]\n",
    "next_valid_bridges([0,2], test_input)"
   ]
  },
  {
   "cell_type": "markdown",
   "metadata": {},
   "source": [
    "now to make the bridges. Since we start with zero:"
   ]
  },
  {
   "cell_type": "code",
   "execution_count": 80,
   "metadata": {},
   "outputs": [
    {
     "data": {
      "text/plain": [
       "[[0, 2], [0, 1]]"
      ]
     },
     "execution_count": 80,
     "metadata": {},
     "output_type": "execute_result"
    }
   ],
   "source": [
    "start_bridges = [br for br in test_input if br[0]==0]\n",
    "start_bridges"
   ]
  },
  {
   "cell_type": "code",
   "execution_count": 84,
   "metadata": {},
   "outputs": [],
   "source": [
    "graph = dict()"
   ]
  },
  {
   "cell_type": "code",
   "execution_count": null,
   "metadata": {},
   "outputs": [],
   "source": []
  }
 ],
 "metadata": {
  "kernelspec": {
   "display_name": "Python 3",
   "language": "python",
   "name": "python3"
  },
  "language_info": {
   "codemirror_mode": {
    "name": "ipython",
    "version": 3
   },
   "file_extension": ".py",
   "mimetype": "text/x-python",
   "name": "python",
   "nbconvert_exporter": "python",
   "pygments_lexer": "ipython3",
   "version": "3.6.4"
  }
 },
 "nbformat": 4,
 "nbformat_minor": 2
}

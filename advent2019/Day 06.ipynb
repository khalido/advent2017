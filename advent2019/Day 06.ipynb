{
 "cells": [
  {
   "cell_type": "code",
   "execution_count": 162,
   "metadata": {
    "tags": []
   },
   "outputs": [],
   "source": [
    "import utils\n",
    "from typing import List, Set\n",
    "import re\n",
    "from tqdm import tqdm, trange\n",
    "import numpy as np\n",
    "from collections import defaultdict, deque\n",
    "\n",
    "from dataclasses import dataclass, field\n",
    "import networkx as nx\n",
    "\n",
    "import matplotlib.pyplot as plt"
   ]
  },
  {
   "cell_type": "markdown",
   "metadata": {
    "tags": []
   },
   "source": [
    "# Part 1\n",
    "\n",
    "We have a list `[x,y]` strings where y directly orbits x. If x orbits a z, then y indirectly orbits z too. \n",
    "\n",
    "Build a dict of direct orbits as well as a seperate one of indirect ones.\n",
    "\n",
    "We want the total number of direct and indirect orbits for part 1."
   ]
  },
  {
   "cell_type": "code",
   "execution_count": 108,
   "metadata": {
    "tags": []
   },
   "outputs": [
    {
     "data": {
      "text/plain": [
       "[['NKB', 'PZS'], ['KBG', '9JH'], ['PZS', 'KZD'], ['8J1', 'GT7']]"
      ]
     },
     "execution_count": 108,
     "metadata": {},
     "output_type": "execute_result"
    }
   ],
   "source": [
    "def parse_input(day=6, inp=None) -> List[int]:\n",
    "    \"\"\"parses input to a list of ints\"\"\"\n",
    "    if not inp:\n",
    "        inp = utils.get_input(day)\n",
    "    inp = inp.strip().splitlines()\n",
    "    return [x.split(\")\") for x in inp]\n",
    "\n",
    "test_inp = \"\"\"COM)B\n",
    "B)C\n",
    "C)D\n",
    "D)E\n",
    "E)F\n",
    "B)G\n",
    "G)H\n",
    "D)I\n",
    "E)J\n",
    "J)K\n",
    "K)L\"\"\"\n",
    "\n",
    "parse_input()[:4]"
   ]
  },
  {
   "cell_type": "code",
   "execution_count": 114,
   "metadata": {},
   "outputs": [
    {
     "data": {
      "text/plain": [
       "154386"
      ]
     },
     "execution_count": 114,
     "metadata": {},
     "output_type": "execute_result"
    }
   ],
   "source": [
    "def make_orbits(inp) -> List[set]:\n",
    "    \"\"\"converts inputs to a dict of nodes: edges\"\"\"\n",
    "    orbits = defaultdict(set)\n",
    "    for x, y in inp:\n",
    "        orbits[x].add(y)\n",
    "    return orbits\n",
    "\n",
    "def count_children(planet, orbits) -> int:\n",
    "    \"\"\"returns total direct+indirect children of a planet\"\"\"\n",
    "    if planet not in orbits.keys():\n",
    "        return 0\n",
    "    else:\n",
    "        children = orbits[planet]\n",
    "        return len(children) + sum([count_children(n, orbits) for n in children])\n",
    "    \n",
    "def solve_1(inp :str = None) -> int:\n",
    "    inp = parse_input(inp=inp)\n",
    "    orbits = make_orbits(inp)\n",
    "    return sum([count_children(p, orbits) for p in orbits.keys()])\n",
    "    \n",
    "assert solve_1(test_inp) == 42\n",
    "solve_1()"
   ]
  },
  {
   "cell_type": "markdown",
   "metadata": {},
   "source": [
    "`154386`"
   ]
  },
  {
   "cell_type": "markdown",
   "metadata": {},
   "source": [
    "## Drawing the graph\n",
    "\n",
    "Using network x is a bit slow and doesn't look nice. Try something else."
   ]
  },
  {
   "cell_type": "code",
   "execution_count": 118,
   "metadata": {},
   "outputs": [],
   "source": [
    "orbits = make_orbits(parse_input(inp=test_inp))\n",
    "G = nx.DiGraph(orbits)"
   ]
  },
  {
   "cell_type": "code",
   "execution_count": 121,
   "metadata": {},
   "outputs": [
    {
     "data": {
      "image/png": "[encoded data removed]",
      "text/plain": [
       "<Figure size 720x432 with 1 Axes>"
      ]
     },
     "metadata": {},
     "output_type": "display_data"
    }
   ],
   "source": [
    "fig, ax = plt.subplots(figsize=(10,6))\n",
    "ax.set_title(\"Test Input\")\n",
    "nx.draw(G, ax=ax)"
   ]
  },
  {
   "cell_type": "markdown",
   "metadata": {
    "tags": []
   },
   "source": [
    "## Part 2\n",
    "\n",
    "Find shortest path b/w two nodes.\n",
    "\n",
    "Using networkx first for speed:"
   ]
  },
  {
   "cell_type": "code",
   "execution_count": 155,
   "metadata": {
    "tags": []
   },
   "outputs": [],
   "source": [
    "test_inp2 = \"\"\"COM)B\n",
    "B)C\n",
    "C)D\n",
    "D)E\n",
    "E)F\n",
    "B)G\n",
    "G)H\n",
    "D)I\n",
    "E)J\n",
    "J)K\n",
    "K)L\n",
    "K)YOU\n",
    "I)SAN\"\"\"\n",
    "\n",
    "orbits = make_orbits(parse_input())\n",
    "orbits_test = make_orbits(parse_input(inp=test_inp2))"
   ]
  },
  {
   "cell_type": "code",
   "execution_count": 154,
   "metadata": {},
   "outputs": [
    {
     "data": {
      "text/plain": [
       "346"
      ]
     },
     "execution_count": 154,
     "metadata": {},
     "output_type": "execute_result"
    }
   ],
   "source": [
    "def solve_2(inp=None, here=\"YOU\", there=\"SAN\", use_nx=False):\n",
    "    orbits = make_orbits(parse_input(inp=inp))\n",
    "    \n",
    "    if use_nx:\n",
    "        G = nx.Graph(orbits)\n",
    "        return len(nx.shortest_path(G, here, there)) - 3\n",
    "    \n",
    "assert solve_2(test_inp2, use_nx=True) == 4\n",
    "solve_2(use_nx=True)"
   ]
  },
  {
   "cell_type": "code",
   "execution_count": 159,
   "metadata": {},
   "outputs": [
    {
     "data": {
      "text/plain": [
       "defaultdict(set,\n",
       "            {'COM': {'B'},\n",
       "             'B': {'C', 'G'},\n",
       "             'C': {'D'},\n",
       "             'D': {'E', 'I'},\n",
       "             'E': {'F', 'J'},\n",
       "             'G': {'H'},\n",
       "             'J': {'K'},\n",
       "             'K': {'L', 'YOU'},\n",
       "             'I': {'SAN'}})"
      ]
     },
     "execution_count": 159,
     "metadata": {},
     "output_type": "execute_result"
    }
   ],
   "source": [
    "orbits_test"
   ]
  },
  {
   "cell_type": "code",
   "execution_count": 169,
   "metadata": {},
   "outputs": [],
   "source": [
    "def find_parent(node=\"YOU\", orbits=orbits_test):\n",
    "    \"\"\"returns parent node\"\"\"\n",
    "    for parent, children in orbits.items():\n",
    "        if node in children:\n",
    "            return parent\n",
    "\n",
    "assert find_parent(\"YOU\") == \"K\"\n",
    "assert find_parent(\"SAN\") == \"I\""
   ]
  },
  {
   "cell_type": "code",
   "execution_count": 177,
   "metadata": {},
   "outputs": [
    {
     "data": {
      "text/plain": [
       "('K', 'I')"
      ]
     },
     "execution_count": 177,
     "metadata": {},
     "output_type": "execute_result"
    }
   ],
   "source": []
  },
  {
   "cell_type": "code",
   "execution_count": null,
   "metadata": {},
   "outputs": [],
   "source": [
    "def solve_2(start=\"YOU\", end=\"SAN\", orbits = orbits_test):\n",
    "    \n",
    "    paths = [] # tracking all possible valid paths\n",
    "    \n",
    "    stack = deque() # the paths to process\n",
    "    stack.append([start])\n",
    "    \n",
    "    path = stack.popleft()\n",
    "    print(\"Starting at node\", start, \"searching for\", destination)\n",
    "    \n",
    "    while path[-1] != end:\n",
    "        if not path in paths: \n",
    "            cur_x, cur_y = path[-1]\n",
    "            for node in [(cur_x+i, cur_y+j) for i,j in moves]:\n",
    "                new_x, new_y = node\n",
    "                if is_open(new_x, new_y) and node not in path:\n",
    "                    new_path = path[:]\n",
    "                    new_path.append(node)\n",
    "                    stack.append(new_path) # add all new unseen states to the stack\n",
    "            paths.append(path) # have now processed this path\n",
    "            \n",
    "        try:\n",
    "            path = stack.popleft()\n",
    "        except:\n",
    "            print(f\"Error, the stack is empty at loop {i}\")\n",
    "            return paths"
   ]
  },
  {
   "cell_type": "code",
   "execution_count": 179,
   "metadata": {},
   "outputs": [
    {
     "name": "stdout",
     "output_type": "stream",
     "text": [
      "K I\n",
      "['K', 'J']\n",
      "['K', 'J', 'E']\n",
      "['K', 'J', 'E', 'D']\n",
      "['K', 'J', 'E', 'D', 'C']\n",
      "['K', 'J', 'E', 'D', 'C', 'B']\n",
      "['K', 'J', 'E', 'D', 'C', 'B', 'COM']\n",
      "['K', 'J', 'E', 'D', 'C', 'B', 'COM', None]\n"
     ]
    },
    {
     "data": {
      "text/plain": [
       "['K', 'J', 'E', 'D', 'C', 'B', 'COM', None]"
      ]
     },
     "execution_count": 179,
     "metadata": {},
     "output_type": "execute_result"
    }
   ],
   "source": [
    "start = find_parent(\"YOU\")\n",
    "end = find_parent(\"SAN\")\n",
    "print(start, end)\n",
    "\n",
    "def get_paths(start=\"YOU\", end=\"SAN\", orbits = orbits_test):\n",
    "    \n",
    "    stack = deque() # the paths to process\n",
    "    stack.append([start])\n",
    "    \n",
    "    path = stack.popleft()\n",
    "    print(\"Starting at node\", start, \"searching for\", destination)\n",
    "    \n",
    "    while end not in path and None not in path:\n",
    "    #while end not in path:\n",
    "        parent = find_parent(path[-1])\n",
    "        path.append(parent)\n",
    "        print(path)\n",
    "    return path\n",
    "    \n",
    "path(start, end)"
   ]
  },
  {
   "cell_type": "code",
   "execution_count": null,
   "metadata": {},
   "outputs": [],
   "source": []
  }
 ],
 "metadata": {
  "kernelspec": {
   "display_name": "Python [conda env:root] *",
   "language": "python",
   "name": "conda-root-py"
  },
  "language_info": {
   "codemirror_mode": {
    "name": "ipython",
    "version": 3
   },
   "file_extension": ".py",
   "mimetype": "text/x-python",
   "name": "python",
   "nbconvert_exporter": "python",
   "pygments_lexer": "ipython3",
   "version": "3.7.4"
  }
 },
 "nbformat": 4,
 "nbformat_minor": 4
}

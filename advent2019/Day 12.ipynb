{
 "cells": [
  {
   "cell_type": "code",
   "execution_count": 246,
   "metadata": {
    "tags": []
   },
   "outputs": [],
   "source": [
    "import utils\n",
    "from typing import List, Set\n",
    "from tqdm.auto import tqdm, trange\n",
    "import re\n",
    "import numpy as np\n",
    "\n",
    "from collections import defaultdict, deque, namedtuple\n",
    "from dataclasses import dataclass, field\n",
    "\n",
    "import matplotlib.pyplot as plt\n",
    "import seaborn as sns\n",
    "import plotly.express as px\n",
    "\n",
    "import pandas as pd"
   ]
  },
  {
   "cell_type": "markdown",
   "metadata": {
    "tags": []
   },
   "source": [
    "# Day 14 Ingredients\n"
   ]
  },
  {
   "cell_type": "code",
   "execution_count": 273,
   "metadata": {},
   "outputs": [],
   "source": [
    "A = \"\"\"10 ORE => 10 A\n",
    "1 ORE => 1 B\n",
    "7 A, 1 B => 1 C\n",
    "7 A, 1 C => 1 D\n",
    "7 A, 1 D => 1 E\n",
    "7 A, 1 E => 1 FUEL\"\"\"\n",
    "\n",
    "B = \"\"\"9 ORE => 2 A\n",
    "8 ORE => 3 B\n",
    "7 ORE => 5 C\n",
    "3 A, 4 B => 1 AB\n",
    "5 B, 7 C => 1 BC\n",
    "4 C, 1 A => 1 CA\n",
    "2 AB, 3 BC, 4 CA => 1 FUEL\"\"\""
   ]
  },
  {
   "cell_type": "code",
   "execution_count": 264,
   "metadata": {},
   "outputs": [
    {
     "data": {
      "text/plain": [
       "True"
      ]
     },
     "execution_count": 264,
     "metadata": {},
     "output_type": "execute_result"
    }
   ],
   "source": [
    "ingredient = namedtuple(\"Ingredient\", [\"name\", \"qty\"])\n",
    "\n",
    "def parse_ingredient(s: str) -> \"Ingredient\":\n",
    "    qty, name = s.split(\" \")\n",
    "    return ingredient(name, int(qty))\n",
    "\n",
    "parse_ingredient(\"10 ORE\") == ingredient(name='ORE', qty=10)"
   ]
  },
  {
   "cell_type": "code",
   "execution_count": 277,
   "metadata": {},
   "outputs": [
    {
     "data": {
      "text/plain": [
       "{Ingredient(name='A', qty=10): [Ingredient(name='ORE', qty=10)],\n",
       " Ingredient(name='B', qty=1): [Ingredient(name='ORE', qty=1)],\n",
       " Ingredient(name='C', qty=1): [Ingredient(name='A', qty=7),\n",
       "  Ingredient(name='B', qty=1)],\n",
       " Ingredient(name='D', qty=1): [Ingredient(name='A', qty=7),\n",
       "  Ingredient(name='C', qty=1)],\n",
       " Ingredient(name='E', qty=1): [Ingredient(name='A', qty=7),\n",
       "  Ingredient(name='D', qty=1)],\n",
       " Ingredient(name='FUEL', qty=1): [Ingredient(name='A', qty=7),\n",
       "  Ingredient(name='E', qty=1)]}"
      ]
     },
     "execution_count": 277,
     "metadata": {},
     "output_type": "execute_result"
    }
   ],
   "source": [
    "def parse_input(inp=None, day=14):\n",
    "    \n",
    "    if inp == None:\n",
    "        inp = utils.get_input(day)\n",
    "    inp = inp.strip().splitlines()\n",
    "    \n",
    "    data = dict()\n",
    "    \n",
    "    for line in inp:\n",
    "        left, right = line.split(\" => \")\n",
    "        r = parse_ingredient(right)\n",
    "        data[r] = [parse_ingredient(s) for s in left.split(\", \")]\n",
    "        \n",
    "    return data\n",
    "    \n",
    "data = parse_input(A)\n",
    "data"
   ]
  },
  {
   "cell_type": "code",
   "execution_count": 289,
   "metadata": {},
   "outputs": [],
   "source": [
    "needs = dict()\n",
    "have = dict()"
   ]
  },
  {
   "cell_type": "code",
   "execution_count": 288,
   "metadata": {},
   "outputs": [
    {
     "name": "stdout",
     "output_type": "stream",
     "text": [
      "A ['ORE']\n",
      "B ['ORE']\n",
      "C ['A', 'B']\n",
      "D ['A', 'C']\n",
      "E ['A', 'D']\n",
      "FUEL ['A', 'E']\n"
     ]
    },
    {
     "data": {
      "text/plain": [
       "{'A': 7, 'E': 1}"
      ]
     },
     "execution_count": 288,
     "metadata": {},
     "output_type": "execute_result"
    }
   ],
   "source": [
    "for key, item in data.items():\n",
    "    print(key.name, [a.name for a in item])\n",
    "    if key.name == \"FUEL\":\n",
    "        for a in item:\n",
    "            needs[a.name] = a.qty * key.qty\n",
    "        \n",
    "needs"
   ]
  },
  {
   "cell_type": "code",
   "execution_count": null,
   "metadata": {},
   "outputs": [],
   "source": []
  }
 ],
 "metadata": {
  "kernelspec": {
   "display_name": "Python [conda env:root] *",
   "language": "python",
   "name": "conda-root-py"
  },
  "language_info": {
   "codemirror_mode": {
    "name": "ipython",
    "version": 3
   },
   "file_extension": ".py",
   "mimetype": "text/x-python",
   "name": "python",
   "nbconvert_exporter": "python",
   "pygments_lexer": "ipython3",
   "version": "3.7.4"
  }
 },
 "nbformat": 4,
 "nbformat_minor": 4
}

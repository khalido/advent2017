{
 "cells": [
  {
   "cell_type": "code",
   "execution_count": 8,
   "metadata": {
    "tags": []
   },
   "outputs": [],
   "source": [
    "import utils\n",
    "from typing import List\n",
    "import re\n",
    "from tqdm.auto import tqdm, trange"
   ]
  },
  {
   "cell_type": "markdown",
   "metadata": {
    "tags": []
   },
   "source": [
    "# Part 1\n",
    "\n",
    "Func which checks:\n",
    "\n",
    "1. len == 6\n",
    "2. value within a given range\n",
    "3. two adjacent digits which are the same\n",
    "4. reading from left to right, digits don't decrease"
   ]
  },
  {
   "cell_type": "code",
   "execution_count": 9,
   "metadata": {
    "tags": []
   },
   "outputs": [],
   "source": [
    "def parse_input(day=4, test=None) -> List[str]:\n",
    "    return 147981, 691423\n",
    "    \n",
    "lower, upper = parse_input()"
   ]
  },
  {
   "cell_type": "code",
   "execution_count": 10,
   "metadata": {
    "tags": []
   },
   "outputs": [],
   "source": [
    "def adjacent_check(num: List[int]) -> bool:\n",
    "    return any([x==y for x, y in zip(num, num[1:])])\n",
    "\n",
    "def decreasing_check(num: List[int]) -> bool:\n",
    "    return all([x<=y for x, y in zip(num, num[1:])])\n",
    "\n",
    "assert adjacent_check([1,2,1,4]) == False\n",
    "assert adjacent_check([1,2,2,4]) == True    \n",
    "assert decreasing_check([1,2,1,4]) == False\n",
    "assert decreasing_check([1,2,2,4]) == True"
   ]
  },
  {
   "cell_type": "code",
   "execution_count": 11,
   "metadata": {
    "tags": []
   },
   "outputs": [],
   "source": [
    "def check_num(num):\n",
    "    num_string = str(num)\n",
    "    \n",
    "    if len(num_string) != 6:\n",
    "        return False\n",
    "    if not lower < num < upper:\n",
    "        return False\n",
    "        \n",
    "    # for the other two checks need a list of ints\n",
    "    num_list = [int(n) for n in num_string]\n",
    "    \n",
    "    if not adjacent_check(num_list):\n",
    "        return False\n",
    "    \n",
    "    if not decreasing_check(num_list):\n",
    "        return False\n",
    "    \n",
    "    return True\n",
    "        \n",
    "assert check_num(234556) == True\n",
    "assert check_num(231556) == False"
   ]
  },
  {
   "cell_type": "code",
   "execution_count": 12,
   "metadata": {
    "tags": []
   },
   "outputs": [
    {
     "data": {
      "application/vnd.jupyter.widget-view+json": {
       "model_id": "77b751057deb4472a4a35d41f9e2ada6",
       "version_major": 2,
       "version_minor": 0
      },
      "text/plain": [
       "HBox(children=(IntProgress(value=0, max=543442), HTML(value='')))"
      ]
     },
     "metadata": {},
     "output_type": "display_data"
    },
    {
     "name": "stdout",
     "output_type": "stream",
     "text": [
      "\n"
     ]
    },
    {
     "data": {
      "text/plain": [
       "1790"
      ]
     },
     "execution_count": 12,
     "metadata": {},
     "output_type": "execute_result"
    }
   ],
   "source": [
    "def solve_1():\n",
    "    count = 0\n",
    "    for num in trange(lower, upper):\n",
    "        if check_num(num):\n",
    "            count +=1\n",
    "    return count\n",
    "    \n",
    "solve_1()"
   ]
  },
  {
   "cell_type": "markdown",
   "metadata": {
    "tags": []
   },
   "source": [
    "## Part 2\n",
    "\n",
    "Modify the above so repeated digits should be in groups of 2 - a group of three or more fails."
   ]
  },
  {
   "cell_type": "code",
   "execution_count": 13,
   "metadata": {
    "tags": []
   },
   "outputs": [],
   "source": [
    "pat = re.compile(r\"(\\d)\\1+\")\n",
    "\n",
    "def adjacent_check_2(num: str) -> bool:\n",
    "    return any([len(m.group(0)) == 2 for m in re.finditer(pat, str(num))])\n",
    " \n",
    "assert adjacent_check_2(121122244) == True\n",
    "assert adjacent_check_2(12222444) == False"
   ]
  },
  {
   "cell_type": "code",
   "execution_count": 14,
   "metadata": {
    "tags": []
   },
   "outputs": [
    {
     "data": {
      "application/vnd.jupyter.widget-view+json": {
       "model_id": "f8f820d369b0447ebebf927e0a97e44a",
       "version_major": 2,
       "version_minor": 0
      },
      "text/plain": [
       "HBox(children=(IntProgress(value=0, max=543442), HTML(value='')))"
      ]
     },
     "metadata": {},
     "output_type": "display_data"
    },
    {
     "name": "stdout",
     "output_type": "stream",
     "text": [
      "\n"
     ]
    },
    {
     "data": {
      "text/plain": [
       "1206"
      ]
     },
     "execution_count": 14,
     "metadata": {},
     "output_type": "execute_result"
    }
   ],
   "source": [
    "def solve_2():\n",
    "    count = 0\n",
    "    for num in trange(lower, upper):\n",
    "        if check_num(num) and adjacent_check_2(num):\n",
    "            count +=1\n",
    "    return count\n",
    "    \n",
    "solve_2()"
   ]
  },
  {
   "cell_type": "code",
   "execution_count": null,
   "metadata": {
    "tags": []
   },
   "outputs": [],
   "source": []
  }
 ],
 "metadata": {
  "kernelspec": {
   "display_name": "Python 3",
   "language": "python",
   "name": "python3"
  },
  "language_info": {
   "codemirror_mode": {
    "name": "ipython",
    "version": 3
   },
   "file_extension": ".py",
   "mimetype": "text/x-python",
   "name": "python",
   "nbconvert_exporter": "python",
   "pygments_lexer": "ipython3",
   "version": "3.7.4"
  }
 },
 "nbformat": 4,
 "nbformat_minor": 4
}

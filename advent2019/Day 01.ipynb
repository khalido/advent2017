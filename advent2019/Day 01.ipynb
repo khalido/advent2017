{
 "cells": [
  {
   "cell_type": "code",
   "execution_count": null,
   "metadata": {},
   "outputs": [],
   "source": [
    "import utils\n",
    "import math\n",
    "#import plotly.express as px"
   ]
  },
  {
   "cell_type": "markdown",
   "metadata": {},
   "source": [
    "# Day 01\n",
    "\n",
    "The inputs are a string of masses, each mass needs a particular amount of fuel as per\n",
    "\n",
    "> to find the fuel required for a module, take its mass, divide by three, round down, and subtract 2."
   ]
  },
  {
   "cell_type": "code",
   "execution_count": null,
   "metadata": {},
   "outputs": [],
   "source": [
    "def parse_input(day=1):\n",
    "    inp = utils.get_input(day)\n",
    "    return [int(mass) for mass in inp.splitlines()]\n",
    "\n",
    "inp = parse_input()"
   ]
  },
  {
   "cell_type": "code",
   "execution_count": null,
   "metadata": {},
   "outputs": [
    {
     "data": {
      "text/plain": [
       "3361976"
      ]
     },
     "execution_count": 8,
     "metadata": {},
     "output_type": "execute_result"
    }
   ],
   "source": [
    "def calc_fuel(mass: int):\n",
    "    \"\"\"takes in a mass and returns the fuel required\"\"\"\n",
    "    mass = mass // 3 - 2\n",
    "    return mass if mass >= 0 else 0\n",
    "    \n",
    "assert calc_fuel(12) == 2\n",
    "assert calc_fuel(14) == 2\n",
    "assert calc_fuel(100756) == 33583\n",
    "\n",
    "sum([calc_fuel(mass) for mass in parse_input()])"
   ]
  },
  {
   "cell_type": "code",
   "execution_count": null,
   "metadata": {},
   "outputs": [
    {
     "data": {
      "text/plain": [
       "3361976"
      ]
     },
     "execution_count": 10,
     "metadata": {},
     "output_type": "execute_result"
    }
   ],
   "source": [
    "def solve_1(inp):\n",
    "    return sum([calc_fuel(mass) for mass in parse_input()])\n",
    "    \n",
    "solve_1(inp)"
   ]
  },
  {
   "cell_type": "markdown",
   "metadata": {},
   "source": [
    "## Part 2\n",
    "\n",
    "This gets trickier, we now calcuate the extra fuel required for the fuel we add for each mass, than then the fuel required for that extra fuel...\n",
    "\n",
    "Good news is that this looks like a classic recursion problem, so wrapping the above func should work:"
   ]
  },
  {
   "cell_type": "code",
   "execution_count": null,
   "metadata": {},
   "outputs": [],
   "source": [
    "def total_fuel(mass: int):\n",
    "    \"\"\"takes in a mass and returns all the fuel required\"\"\"\n",
    "    fuel_mass = calc_fuel(mass)\n",
    "    \n",
    "    if fuel_mass <= 0:\n",
    "        return 0\n",
    "    else:\n",
    "        return fuel_mass + total_fuel(fuel_mass)\n",
    "    \n",
    "assert total_fuel(12) == 2\n",
    "assert total_fuel(1969) == 966\n",
    "assert total_fuel(100756) == 50346"
   ]
  },
  {
   "cell_type": "code",
   "execution_count": null,
   "metadata": {},
   "outputs": [
    {
     "data": {
      "text/plain": [
       "5040085"
      ]
     },
     "execution_count": 16,
     "metadata": {},
     "output_type": "execute_result"
    }
   ],
   "source": [
    "def solve_2(inp):\n",
    "    return sum([total_fuel(mass) for mass in parse_input()])\n",
    "    \n",
    "solve_2(inp)"
   ]
  },
  {
   "cell_type": "code",
   "execution_count": null,
   "metadata": {},
   "outputs": [],
   "source": []
  }
 ],
 "metadata": {
  "kernelspec": {
   "display_name": "Python 3",
   "language": "python",
   "name": "python3"
  },
  "language_info": {
   "codemirror_mode": {
    "name": "ipython",
    "version": 3
   },
   "file_extension": ".py",
   "mimetype": "text/x-python",
   "name": "python",
   "nbconvert_exporter": "python",
   "pygments_lexer": "ipython3",
   "version": "3.8.3"
  }
 },
 "nbformat": 4,
 "nbformat_minor": 4
}

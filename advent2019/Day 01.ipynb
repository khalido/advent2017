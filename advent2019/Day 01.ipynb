{
 "cells": [
  {
   "cell_type": "code",
   "execution_count": 1,
   "metadata": {},
   "outputs": [],
   "source": [
    "import utils\n",
    "import math\n",
    "import plotly.express as px"
   ]
  },
  {
   "cell_type": "markdown",
   "metadata": {},
   "source": [
    "# Day 01\n",
    "\n",
    "The inputs are a string of masses, each mass needs a particular amount of fuel as per\n",
    "\n",
    "> to find the fuel required for a module, take its mass, divide by three, round down, and subtract 2."
   ]
  },
  {
   "cell_type": "code",
   "execution_count": 3,
   "metadata": {},
   "outputs": [],
   "source": [
    "def parse_input(day=1):\n",
    "    inp = utils.get_input(day)\n",
    "    return [int(mass) for mass in inp.splitlines()]\n",
    "\n",
    "inp = parse_input()"
   ]
  },
  {
   "cell_type": "code",
   "execution_count": 6,
   "metadata": {},
   "outputs": [],
   "source": [
    "u = \"\"\"87201\n",
    "146745\n",
    "99430\n",
    "67664\n",
    "67482\n",
    "72598\n",
    "114480\n",
    "111866\n",
    "146672\n",
    "51465\n",
    "59100\n",
    "87507\n",
    "106993\n",
    "61427\n",
    "97982\n",
    "133329\n",
    "133510\n",
    "117352\n",
    "58800\n",
    "129228\n",
    "102366\n",
    "77934\n",
    "149630\n",
    "71567\n",
    "139965\n",
    "130271\n",
    "53259\n",
    "134032\n",
    "54158\n",
    "74679\n",
    "148463\n",
    "101585\n",
    "51744\n",
    "112537\n",
    "59140\n",
    "92980\n",
    "83174\n",
    "67797\n",
    "58890\n",
    "55849\n",
    "50424\n",
    "112780\n",
    "104595\n",
    "114465\n",
    "90528\n",
    "86503\n",
    "51661\n",
    "124689\n",
    "101081\n",
    "81478\n",
    "124821\n",
    "83420\n",
    "108738\n",
    "76506\n",
    "111217\n",
    "104897\n",
    "133747\n",
    "128808\n",
    "81563\n",
    "106688\n",
    "67129\n",
    "130968\n",
    "75576\n",
    "101197\n",
    "129318\n",
    "135015\n",
    "149839\n",
    "110182\n",
    "104687\n",
    "147803\n",
    "140555\n",
    "70447\n",
    "63224\n",
    "85143\n",
    "146115\n",
    "77789\n",
    "64003\n",
    "115257\n",
    "61397\n",
    "86873\n",
    "143481\n",
    "129785\n",
    "68764\n",
    "99388\n",
    "91050\n",
    "109136\n",
    "101777\n",
    "98104\n",
    "103643\n",
    "131374\n",
    "83808\n",
    "125949\n",
    "147277\n",
    "144448\n",
    "112673\n",
    "136408\n",
    "75776\n",
    "141630\n",
    "116821\n",
    "113349\"\"\""
   ]
  },
  {
   "cell_type": "code",
   "execution_count": 7,
   "metadata": {},
   "outputs": [
    {
     "data": {
      "text/plain": [
       "'87201\\n146745\\n99430\\n67664\\n67482\\n72598\\n114480\\n111866\\n146672\\n51465\\n59100\\n87507\\n106993\\n61427\\n97982\\n133329\\n133510\\n117352\\n58800\\n129228\\n102366\\n77934\\n149630\\n71567\\n139965\\n130271\\n53259\\n134032\\n54158\\n74679\\n148463\\n101585\\n51744\\n112537\\n59140\\n92980\\n83174\\n67797\\n58890\\n55849\\n50424\\n112780\\n104595\\n114465\\n90528\\n86503\\n51661\\n124689\\n101081\\n81478\\n124821\\n83420\\n108738\\n76506\\n111217\\n104897\\n133747\\n128808\\n81563\\n106688\\n67129\\n130968\\n75576\\n101197\\n129318\\n135015\\n149839\\n110182\\n104687\\n147803\\n140555\\n70447\\n63224\\n85143\\n146115\\n77789\\n64003\\n115257\\n61397\\n86873\\n143481\\n129785\\n68764\\n99388\\n91050\\n109136\\n101777\\n98104\\n103643\\n131374\\n83808\\n125949\\n147277\\n144448\\n112673\\n136408\\n75776\\n141630\\n116821\\n113349'"
      ]
     },
     "execution_count": 7,
     "metadata": {},
     "output_type": "execute_result"
    }
   ],
   "source": [
    "u"
   ]
  },
  {
   "cell_type": "code",
   "execution_count": 107,
   "metadata": {},
   "outputs": [
    {
     "data": {
      "text/plain": [
       "3361976"
      ]
     },
     "execution_count": 107,
     "metadata": {},
     "output_type": "execute_result"
    }
   ],
   "source": [
    "def calc_fuel(mass: int):\n",
    "    \"\"\"takes in a mass and returns the fuel required\"\"\"\n",
    "    mass = mass // 3 - 2\n",
    "    return mass if mass >= 0 else 0\n",
    "    \n",
    "assert calc_fuel(12) == 2\n",
    "assert calc_fuel(14) == 2\n",
    "assert calc_fuel(100756) == 33583\n",
    "\n",
    "sum([calc_fuel(mass) for mass in parse_input()])"
   ]
  },
  {
   "cell_type": "code",
   "execution_count": 118,
   "metadata": {},
   "outputs": [
    {
     "data": {
      "text/plain": [
       "3361976"
      ]
     },
     "execution_count": 118,
     "metadata": {},
     "output_type": "execute_result"
    }
   ],
   "source": [
    "def solve_1(inp):\n",
    "    return sum([calc_fuel(mass) for mass in parse_input()])\n",
    "    \n",
    "solve_1(inp)"
   ]
  },
  {
   "cell_type": "markdown",
   "metadata": {},
   "source": [
    "## Part 2\n",
    "\n",
    "This gets trickier, we now calcuate the extra fuel required for the fuel we add for each mass, than then the fuel required for that extra fuel...\n",
    "\n",
    "Good news is that this looks like a classic recursion problem, so wrapping the above func should work:"
   ]
  },
  {
   "cell_type": "code",
   "execution_count": 104,
   "metadata": {},
   "outputs": [],
   "source": [
    "def total_fuel(mass: int):\n",
    "    \"\"\"takes in a mass and returns all the fuel required\"\"\"\n",
    "    fuel_mass = calc_fuel(mass)\n",
    "    \n",
    "    if fuel_mass <= 0:\n",
    "        return 0\n",
    "    else:\n",
    "        return fuel_mass + total_fuel(fuel_mass)\n",
    "    \n",
    "assert total_fuel(12) == 2\n",
    "assert total_fuel(1969) == 966\n",
    "assert total_fuel(100756) == 50346"
   ]
  },
  {
   "cell_type": "code",
   "execution_count": 105,
   "metadata": {},
   "outputs": [
    {
     "data": {
      "text/plain": [
       "5040085"
      ]
     },
     "execution_count": 105,
     "metadata": {},
     "output_type": "execute_result"
    }
   ],
   "source": [
    "sum([total_fuel(mass) for mass in masses])"
   ]
  },
  {
   "cell_type": "code",
   "execution_count": 111,
   "metadata": {},
   "outputs": [
    {
     "data": {
      "text/plain": [
       "5040085"
      ]
     },
     "execution_count": 111,
     "metadata": {},
     "output_type": "execute_result"
    }
   ],
   "source": [
    "def solve_2(inp):\n",
    "    return sum([total_fuel(mass) for mass in parse_input()])\n",
    "    \n",
    "solve_2(inp)"
   ]
  },
  {
   "cell_type": "code",
   "execution_count": 112,
   "metadata": {},
   "outputs": [],
   "source": [
    "import os"
   ]
  },
  {
   "cell_type": "code",
   "execution_count": 116,
   "metadata": {},
   "outputs": [
    {
     "data": {
      "text/plain": [
       "['day01']"
      ]
     },
     "execution_count": 116,
     "metadata": {},
     "output_type": "execute_result"
    }
   ],
   "source": [
    "days = [f[:-3] for f in os.listdir() if f.startswith(\"day\")]\n",
    "days"
   ]
  },
  {
   "cell_type": "code",
   "execution_count": null,
   "metadata": {},
   "outputs": [],
   "source": []
  }
 ],
 "metadata": {
  "kernelspec": {
   "display_name": "Python [conda env:st]",
   "language": "python",
   "name": "conda-env-st-py"
  },
  "language_info": {
   "codemirror_mode": {
    "name": "ipython",
    "version": 3
   },
   "file_extension": ".py",
   "mimetype": "text/x-python",
   "name": "python",
   "nbconvert_exporter": "python",
   "pygments_lexer": "ipython3",
   "version": "3.7.5"
  }
 },
 "nbformat": 4,
 "nbformat_minor": 4
}

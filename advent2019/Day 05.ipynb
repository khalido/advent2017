{
 "cells": [
  {
   "cell_type": "code",
   "execution_count": 4,
   "metadata": {
    "tags": []
   },
   "outputs": [],
   "source": [
    "import utils\n",
    "from typing import List"
   ]
  },
  {
   "cell_type": "markdown",
   "metadata": {
    "tags": []
   },
   "source": [
    "## Day 5\n",
    "\n",
    "We're back to using the simple computer in day 2.\n",
    "\n",
    "But, for day 2 we read the tape 4 instructions at a time. Now it gets more complex, as opcodes 3 and 4 only have 1 param value, so the tape advances 2 steps for those, and 4 steps otherwise.\n",
    "\n",
    "So the code needs some logic on how to advance."
   ]
  },
  {
   "cell_type": "code",
   "execution_count": 7,
   "metadata": {
    "tags": []
   },
   "outputs": [
    {
     "data": {
      "text/plain": [
       "['3', '225', '1', '225', '6', '6', '1100', '1', '238', '225']"
      ]
     },
     "execution_count": 7,
     "metadata": {},
     "output_type": "execute_result"
    }
   ],
   "source": [
    "def parse_input(day=5, test=None) -> List[int]:\n",
    "    if not test:\n",
    "        inp = utils.get_input(day)\n",
    "    else:\n",
    "        inp = test\n",
    "        \n",
    "    #return [int(x) for x in inp.split(\",\")]\n",
    "    return inp.split(\",\")\n",
    "    \n",
    "inp = parse_input(test=raw_inp)\n",
    "inp[:10]"
   ]
  },
  {
   "cell_type": "code",
   "execution_count": null,
   "metadata": {
    "tags": []
   },
   "outputs": [],
   "source": [
    "def read_tape(tape):\n",
    "    pos = 0\n",
    "    while tape[pos] != 99 and pos < len(tape):\n",
    "        yield self.tape[i:i+4]"
   ]
  },
  {
   "cell_type": "code",
   "execution_count": null,
   "metadata": {
    "tags": []
   },
   "outputs": [
    {
     "data": {
      "text/plain": [
       "([3, 12, 2, 225, 6, 6, 1100, 1, 238, 225], 0)"
      ]
     },
     "execution_count": 76,
     "metadata": {},
     "output_type": "execute_result"
    }
   ],
   "source": [
    "class IntComp:\n",
    "    def __init__(self, noun:int=12, verb:int=2):\n",
    "        self.tape = parse_input()\n",
    "        self.pos = 0\n",
    "        self.noun = noun\n",
    "        self.verb = verb\n",
    "        self.tape[1] = noun\n",
    "        self.tape[2] = verb\n",
    "        \n",
    "    def read_tape(self):\n",
    "        for i in range(0, len(self.tape)-1, 4):\n",
    "            yield self.tape[i:i+4]\n",
    "            \n",
    "comp = IntComp()\n",
    "comp.tape[:10], comp.pos"
   ]
  },
  {
   "cell_type": "code",
   "execution_count": 15,
   "metadata": {
    "tags": []
   },
   "outputs": [
    {
     "name": "stdout",
     "output_type": "stream",
     "text": [
      "Pointer: 0, Current: 3\n",
      "sdfs\n",
      "Pointer: 12, Current: 3\n",
      "sdfs\n",
      "Pointer: 24, Current: 3\n",
      "sdfs\n",
      "Pointer: 36, Current: 3\n",
      "sdfs\n",
      "Pointer: 48, Current: 3\n",
      "sdfs\n",
      "Pointer: 60, Current: 3\n",
      "sdfs\n",
      "Pointer: 72, Current: 3\n",
      "sdfs\n",
      "Pointer: 84, Current: 3\n",
      "sdfs\n",
      "Pointer: 96, Current: 3\n",
      "sdfs\n",
      "Pointer: 108, Current: 3\n",
      "sdfs\n",
      "Pointer: 120, Current: 3\n",
      "sdfs\n",
      "Pointer: 132, Current: 3\n",
      "sdfs\n",
      "Pointer: 144, Current: 3\n",
      "sdfs\n",
      "Pointer: 156, Current: 3\n",
      "sdfs\n",
      "Pointer: 168, Current: 3\n",
      "sdfs\n",
      "Pointer: 180, Current: 3\n",
      "sdfs\n",
      "Pointer: 192, Current: 3\n",
      "sdfs\n",
      "Pointer: 204, Current: 3\n",
      "sdfs\n",
      "Pointer: 216, Current: 3\n",
      "sdfs\n",
      "Pointer: 228, Current: 3\n",
      "sdfs\n",
      "Pointer: 240, Current: 3\n",
      "sdfs\n",
      "Pointer: 252, Current: 3\n",
      "sdfs\n",
      "Pointer: 264, Current: 3\n",
      "sdfs\n",
      "Pointer: 276, Current: 3\n",
      "sdfs\n",
      "Pointer: 288, Current: 3\n",
      "sdfs\n",
      "Pointer: 300, Current: 3\n",
      "sdfs\n",
      "Pointer: 312, Current: 3\n",
      "sdfs\n",
      "Pointer: 324, Current: 3\n",
      "sdfs\n",
      "Pointer: 336, Current: 3\n",
      "sdfs\n",
      "Pointer: 348, Current: 3\n",
      "sdfs\n",
      "Pointer: 360, Current: 3\n",
      "sdfs\n",
      "Pointer: 372, Current: 3\n",
      "sdfs\n",
      "Pointer: 384, Current: 3\n",
      "sdfs\n",
      "Pointer: 396, Current: 3\n",
      "sdfs\n",
      "Pointer: 408, Current: 3\n",
      "sdfs\n",
      "Pointer: 420, Current: 3\n",
      "sdfs\n",
      "Pointer: 432, Current: 3\n",
      "sdfs\n",
      "Pointer: 444, Current: 3\n",
      "sdfs\n",
      "Pointer: 456, Current: 3\n",
      "sdfs\n",
      "Pointer: 468, Current: 3\n",
      "sdfs\n",
      "Pointer: 480, Current: 3\n",
      "sdfs\n",
      "Pointer: 492, Current: 3\n",
      "sdfs\n",
      "Pointer: 504, Current: 3\n",
      "sdfs\n",
      "Pointer: 516, Current: 3\n",
      "sdfs\n",
      "Pointer: 528, Current: 3\n",
      "sdfs\n",
      "Pointer: 540, Current: 3\n",
      "sdfs\n",
      "Pointer: 552, Current: 3\n",
      "sdfs\n",
      "Pointer: 564, Current: 3\n",
      "sdfs\n",
      "Pointer: 576, Current: 3\n",
      "sdfs\n",
      "Pointer: 588, Current: 3\n",
      "sdfs\n",
      "Pointer: 600, Current: 3\n",
      "sdfs\n",
      "Pointer: 612, Current: 3\n",
      "sdfs\n",
      "Pointer: 624, Current: 3\n",
      "sdfs\n",
      "Pointer: 636, Current: 3\n",
      "sdfs\n",
      "Pointer: 648, Current: 3\n",
      "sdfs\n",
      "Pointer: 660, Current: 3\n",
      "sdfs\n",
      "Pointer: 672, Current: 3\n",
      "sdfs\n"
     ]
    },
    {
     "ename": "IndexError",
     "evalue": "list index out of range",
     "output_type": "error",
     "traceback": [
      "\u001b[0;31m------------------------------------------------------------------\u001b[0m",
      "\u001b[0;31mIndexError\u001b[0m                       Traceback (most recent call last)",
      "\u001b[0;32m<ipython-input-15-28aaeb029a19>\u001b[0m in \u001b[0;36m<module>\u001b[0;34m\u001b[0m\n\u001b[1;32m     49\u001b[0m     \u001b[0;32mreturn\u001b[0m \u001b[0moutputs\u001b[0m\u001b[0;34m\u001b[0m\u001b[0;34m\u001b[0m\u001b[0m\n\u001b[1;32m     50\u001b[0m \u001b[0;34m\u001b[0m\u001b[0m\n\u001b[0;32m---> 51\u001b[0;31m \u001b[0msolve_1\u001b[0m\u001b[0;34m(\u001b[0m\u001b[0;34m)\u001b[0m\u001b[0;34m\u001b[0m\u001b[0;34m\u001b[0m\u001b[0m\n\u001b[0m",
      "\u001b[0;32m<ipython-input-15-28aaeb029a19>\u001b[0m in \u001b[0;36msolve_1\u001b[0;34m(noun, verb)\u001b[0m\n\u001b[1;32m      8\u001b[0m     \u001b[0mpos\u001b[0m \u001b[0;34m=\u001b[0m \u001b[0;36m0\u001b[0m\u001b[0;34m\u001b[0m\u001b[0;34m\u001b[0m\u001b[0m\n\u001b[1;32m      9\u001b[0m \u001b[0;34m\u001b[0m\u001b[0m\n\u001b[0;32m---> 10\u001b[0;31m     \u001b[0;32mwhile\u001b[0m \u001b[0mtape\u001b[0m\u001b[0;34m[\u001b[0m\u001b[0mpos\u001b[0m\u001b[0;34m]\u001b[0m \u001b[0;34m!=\u001b[0m \u001b[0;36m99\u001b[0m \u001b[0;32mand\u001b[0m \u001b[0mpos\u001b[0m \u001b[0;34m<\u001b[0m \u001b[0mlen\u001b[0m\u001b[0;34m(\u001b[0m\u001b[0mtape\u001b[0m\u001b[0;34m)\u001b[0m\u001b[0;34m:\u001b[0m\u001b[0;34m\u001b[0m\u001b[0;34m\u001b[0m\u001b[0m\n\u001b[0m\u001b[1;32m     11\u001b[0m         \u001b[0mcur\u001b[0m \u001b[0;34m=\u001b[0m \u001b[0mtape\u001b[0m\u001b[0;34m[\u001b[0m\u001b[0;36m0\u001b[0m\u001b[0;34m]\u001b[0m\u001b[0;34m\u001b[0m\u001b[0;34m\u001b[0m\u001b[0m\n\u001b[1;32m     12\u001b[0m         \u001b[0mprint\u001b[0m\u001b[0;34m(\u001b[0m\u001b[0;34mf\"Pointer: {pos}, Current: {cur}\"\u001b[0m\u001b[0;34m)\u001b[0m\u001b[0;34m\u001b[0m\u001b[0;34m\u001b[0m\u001b[0m\n",
      "\u001b[0;31mIndexError\u001b[0m: list index out of range"
     ]
    }
   ],
   "source": [
    "def solve_1(noun:int=12, verb:int=2):\n",
    "    tape = parse_input() \n",
    "    outputs = []\n",
    "    # update registers as per instructions\n",
    "    tape[1] = noun\n",
    "    tape[2] = verb\n",
    "    \n",
    "    ptr = 0 # points to current position on tape\n",
    "    \n",
    "    while tape[pos] != 99 and ptr < len(tape):\n",
    "        cur = tape[0]\n",
    "        print(f\"Pointer: {ptr}, Current: {cur}\")\n",
    "        if len(cur) == 1:\n",
    "            print(\"sdfs\")\n",
    "            opcode = int(cur)\n",
    "        else:\n",
    "            print(cur)\n",
    "            opcode = int(cur[2:])\n",
    "            param = int(cur[:2])\n",
    "            \n",
    "        #i, j, idx in read_tape(tape):\n",
    "        if opcode == 99:\n",
    "            break\n",
    "        elif opcode == 1: # add\n",
    "            tape[idx] = tape[i] + tape[j]\n",
    "            pos += 4\n",
    "        elif opcode == 2: # multiple\n",
    "            tape[idx] = tape[i] * tape[j]\n",
    "            pos += 4\n",
    "        elif opcode == 3: # input\n",
    "            pos += 2\n",
    "            pass\n",
    "        elif opcode == 4: # output\n",
    "            print(tape[i])\n",
    "            outputs.append(tape[i])\n",
    "            pos += 2\n",
    "        elif opcode == 5: # \n",
    "            pass\n",
    "        elif opcode == 6:\n",
    "            pass\n",
    "        elif opcode == 7:\n",
    "            pass\n",
    "        elif opcode == 8:\n",
    "            pass\n",
    "        else:\n",
    "            print(\"DANGER WILL ROBINSION\")\n",
    "        pos += 10\n",
    "    print(f\"Answer: {outputs[-1]}\")\n",
    "    return outputs\n",
    "    \n",
    "solve_1()"
   ]
  },
  {
   "cell_type": "code",
   "execution_count": null,
   "metadata": {
    "tags": []
   },
   "outputs": [],
   "source": []
  }
 ],
 "metadata": {
  "kernelspec": {
   "display_name": "Python 3",
   "language": "python",
   "name": "python3"
  },
  "language_info": {
   "codemirror_mode": {
    "name": "ipython",
    "version": 3
   },
   "file_extension": ".py",
   "mimetype": "text/x-python",
   "name": "python",
   "nbconvert_exporter": "python",
   "pygments_lexer": "ipython3",
   "version": "3.7.4"
  }
 },
 "nbformat": 4,
 "nbformat_minor": 4
}

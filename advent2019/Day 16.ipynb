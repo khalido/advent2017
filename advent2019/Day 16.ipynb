{
 "cells": [
  {
   "cell_type": "code",
   "execution_count": 2,
   "metadata": {
    "tags": []
   },
   "outputs": [],
   "source": [
    "from itertools import cycle\n",
    "import numpy as np\n",
    "\n",
    "#!pip install plotly -q\n",
    "#import plotly.express as px"
   ]
  },
  {
   "cell_type": "code",
   "execution_count": 3,
   "metadata": {
    "tags": []
   },
   "outputs": [],
   "source": [
    "raw_inp = \"\"\"59791911701697178620772166487621926539855976237879300869872931303532122404711706813176657053802481833015214226705058704017099411284046473395211022546662450403964137283487707691563442026697656820695854453826690487611172860358286255850668069507687936410599520475680695180527327076479119764897119494161366645257480353063266653306023935874821274026377407051958316291995144593624792755553923648392169597897222058613725620920233283869036501950753970029182181770358827133737490530431859833065926816798051237510954742209939957376506364926219879150524606056996572743773912030397695613203835011524677640044237824961662635530619875905369208905866913334027160178\"\"\"\n",
    "A = \"12345678\""
   ]
  },
  {
   "cell_type": "code",
   "execution_count": 4,
   "metadata": {
    "tags": []
   },
   "outputs": [
    {
     "data": {
      "text/plain": [
       "[1, 2, 3, 4, 5, 6, 7, 8]"
      ]
     },
     "execution_count": 4,
     "metadata": {},
     "output_type": "execute_result"
    }
   ],
   "source": [
    "def parse_input(raw):\n",
    "    return [int(c) for c in raw]\n",
    "\n",
    "inp = parse_input(A)\n",
    "inp"
   ]
  },
  {
   "cell_type": "markdown",
   "metadata": {
    "tags": []
   },
   "source": [
    "## Part 1\n",
    "\n",
    "The input is some numbers, all single digits."
   ]
  },
  {
   "cell_type": "code",
   "execution_count": 5,
   "metadata": {
    "tags": []
   },
   "outputs": [
    {
     "data": {
      "text/plain": [
       "[0, 1, 2, 3]"
      ]
     },
     "execution_count": 5,
     "metadata": {},
     "output_type": "execute_result"
    }
   ],
   "source": [
    "base_pattern = [0, 1, 0, -1]\n",
    "len(base_pattern)\n",
    "[i for i in range(4)]"
   ]
  },
  {
   "cell_type": "code",
   "execution_count": 17,
   "metadata": {},
   "outputs": [
    {
     "name": "stdout",
     "output_type": "stream",
     "text": [
      "[ 1  0 -1  0  1  0 -1  0]\n"
     ]
    },
    {
     "data": {
      "text/plain": [
       "array([ 0,  1,  0, -1,  0,  1,  0, -1])"
      ]
     },
     "execution_count": 17,
     "metadata": {},
     "output_type": "execute_result"
    }
   ],
   "source": [
    "i = 0; size=8\n",
    "base = cycle(base_pattern)\n",
    "x = np.ravel([[next(base)] * (i + 1) for _ in range(size+1)])[1:size+1]\n",
    "print(x)\n",
    "\n",
    "np.tile(np.repeat(base_pattern, 1), 2)"
   ]
  },
  {
   "cell_type": "code",
   "execution_count": 18,
   "metadata": {},
   "outputs": [
    {
     "data": {
      "text/plain": [
       "array([[ 1,  0, -1,  0,  1,  0, -1,  0],\n",
       "       [ 0,  1,  1,  0,  0, -1, -1,  0],\n",
       "       [ 0,  0,  1,  1,  1,  0,  0,  0],\n",
       "       [ 0,  0,  0,  1,  1,  1,  1,  0],\n",
       "       [ 0,  0,  0,  0,  1,  1,  1,  1],\n",
       "       [ 0,  0,  0,  0,  0,  1,  1,  1],\n",
       "       [ 0,  0,  0,  0,  0,  0,  1,  1],\n",
       "       [ 0,  0,  0,  0,  0,  0,  0,  1]], dtype=int32)"
      ]
     },
     "execution_count": 18,
     "metadata": {},
     "output_type": "execute_result"
    }
   ],
   "source": [
    "def make_pattern(inp):\n",
    "    size = len(inp)\n",
    "    pattern = np.zeros((size,size), dtype=\"int32\")\n",
    "    \n",
    "    # make grid to solve\n",
    "    for i in range(size):\n",
    "        base = cycle(base_pattern)\n",
    "        x = np.ravel([[next(base)] * (i + 1) for _ in range(size+1)])[1:size+1]\n",
    "        x = np.tile(np.repeat(base_pattern, i+1), 3)[1:9]\n",
    "        pattern[i] = x\n",
    "    return pattern    \n",
    "inp = parse_input(A)\n",
    "make_pattern(A)"
   ]
  },
  {
   "cell_type": "code",
   "execution_count": 19,
   "metadata": {},
   "outputs": [
    {
     "data": {
      "text/plain": [
       "array([[ 1,  0, -1,  0,  1,  0, -1,  0],\n",
       "       [ 0,  1,  1,  0,  0, -1, -1,  0],\n",
       "       [ 0,  0,  1,  1,  1,  0,  0,  0],\n",
       "       [ 0,  0,  0,  1,  1,  1,  1,  0],\n",
       "       [ 0,  0,  0,  0,  1,  1,  1,  1],\n",
       "       [ 0,  0,  0,  0,  0,  1,  1,  1],\n",
       "       [ 0,  0,  0,  0,  0,  0,  1,  1],\n",
       "       [ 0,  0,  0,  0,  0,  0,  0,  1]], dtype=int32)"
      ]
     },
     "execution_count": 19,
     "metadata": {},
     "output_type": "execute_result"
    }
   ],
   "source": [
    "def make_pattern(inp):\n",
    "    size = len(inp)\n",
    "    pattern = np.zeros((size,size), dtype=\"int32\")\n",
    "    \n",
    "    # make grid to solve\n",
    "    for i in range(size):\n",
    "        base = cycle(base_pattern)\n",
    "        x = np.ravel([[next(base)] * (i + 1) for _ in range(size+1)])[1:size+1]\n",
    "        pattern[i] = x\n",
    "    return pattern    \n",
    "inp = parse_input(A)\n",
    "make_pattern(A)"
   ]
  },
  {
   "cell_type": "code",
   "execution_count": 6,
   "metadata": {
    "tags": []
   },
   "outputs": [
    {
     "data": {
      "text/plain": [
       "array([[ 1,  0, -1,  0,  1,  0, -1,  0],\n",
       "       [ 0,  1,  1,  0,  0, -1, -1,  0],\n",
       "       [ 0,  0,  1,  1,  1,  0,  0,  0],\n",
       "       [ 0,  0,  0,  1,  1,  1,  1,  0],\n",
       "       [ 0,  0,  0,  0,  1,  1,  1,  1],\n",
       "       [ 0,  0,  0,  0,  0,  1,  1,  1],\n",
       "       [ 0,  0,  0,  0,  0,  0,  1,  1],\n",
       "       [ 0,  0,  0,  0,  0,  0,  0,  1]], dtype=int32)"
      ]
     },
     "execution_count": 6,
     "metadata": {},
     "output_type": "execute_result"
    }
   ],
   "source": [
    "def make_pattern(inp):\n",
    "    size = len(inp)\n",
    "    pattern = np.zeros((size,size), dtype=\"int32\")\n",
    "    \n",
    "    # make grid to solve\n",
    "    for i in range(size):\n",
    "        base = cycle(base_pattern)\n",
    "        x = np.ravel([[next(base)] * (i + 1) for _ in range(size+1)])[1:size+1]\n",
    "        pattern[i] = x\n",
    "    return pattern    \n",
    "inp = parse_input(A)\n",
    "make_pattern(A)"
   ]
  },
  {
   "cell_type": "code",
   "execution_count": null,
   "metadata": {
    "tags": []
   },
   "outputs": [],
   "source": [
    "def solve_1(raw, phases=100):\n",
    "    inp = parse_input(raw)\n",
    "    pattern = make_pattern(inp)\n",
    "\n",
    "    # do the stuff\n",
    "    for _ in range(phases):\n",
    "        inp = np.dot(pattern, inp)\n",
    "        # get the first digit of the abs value\n",
    "        inp = np.mod(np.abs(inp), 10)\n",
    "        \n",
    "    return \"\".join([str(i) for i in inp[:8]])\n",
    "    \n",
    "assert solve_1(A, 4) == \"01029498\"\n",
    "\n",
    "A2 = \"80871224585914546619083218645595\"\n",
    "assert solve_1(A2) == \"24176176\"\n",
    "\n",
    "A3 = \"19617804207202209144916044189917\"\n",
    "assert solve_1(A3) == \"73745418\"\n",
    "\n",
    "A4 = \"69317163492948606335995924319873\"\n",
    "assert solve_1(A4) == \"52432133\""
   ]
  },
  {
   "cell_type": "code",
   "execution_count": null,
   "metadata": {
    "tags": []
   },
   "outputs": [
    {
     "name": "stdout",
     "output_type": "stream",
     "text": [
      "CPU times: user 12.6 s, sys: 36 ms, total: 12.6 s\n",
      "Wall time: 12.6 s\n"
     ]
    },
    {
     "data": {
      "text/plain": [
       "'45834272'"
      ]
     },
     "execution_count": 176,
     "metadata": {},
     "output_type": "execute_result"
    }
   ],
   "source": [
    "%%time\n",
    "solve_1(raw_inp)"
   ]
  },
  {
   "cell_type": "code",
   "execution_count": null,
   "metadata": {
    "tags": []
   },
   "outputs": [
    {
     "data": {
      "text/plain": [
       "[1, 2, 3, 4, 5, 6, 7, 8, 1, 2, 3, 4, 5, 6, 7, 8]"
      ]
     },
     "execution_count": 181,
     "metadata": {},
     "output_type": "execute_result"
    }
   ],
   "source": [
    "inp = parse_input(A) * 2"
   ]
  },
  {
   "cell_type": "code",
   "execution_count": null,
   "metadata": {
    "tags": []
   },
   "outputs": [],
   "source": []
  },
  {
   "cell_type": "code",
   "execution_count": null,
   "metadata": {
    "tags": []
   },
   "outputs": [],
   "source": []
  }
 ],
 "metadata": {
  "kernelspec": {
   "display_name": "Python 3",
   "language": "python",
   "name": "python3"
  },
  "language_info": {
   "codemirror_mode": {
    "name": "ipython",
    "version": 3
   },
   "file_extension": ".py",
   "mimetype": "text/x-python",
   "name": "python",
   "nbconvert_exporter": "python",
   "pygments_lexer": "ipython3",
   "version": "3.7.4"
  }
 },
 "nbformat": 4,
 "nbformat_minor": 4
}

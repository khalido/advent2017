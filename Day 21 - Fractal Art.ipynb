{
 "cells": [
  {
   "cell_type": "markdown",
   "metadata": {},
   "source": [
    "# --- Day 21: Fractal Art ---\n",
    "\n",
    "You find a program trying to generate some art. It uses a strange process that involves repeatedly enhancing the detail of an image through a set of rules.\n",
    "\n",
    "The image consists of a two-dimensional square grid of pixels that are either on (#) or off (.). The program always begins with this pattern:\n",
    "\n",
    "```\n",
    ".#.\n",
    "..#\n",
    "###\n",
    "```\n",
    "\n",
    "Because the pattern is both 3 pixels wide and 3 pixels tall, it is said to have a size of 3.\n",
    "\n",
    "Then, the program repeats the following process:\n",
    "\n",
    "If the size is evenly divisible by 2, break the pixels up into 2x2 squares, and convert each 2x2 square into a 3x3 square by following the corresponding enhancement rule.\n",
    "Otherwise, the size is evenly divisible by 3; break the pixels up into 3x3 squares, and convert each 3x3 square into a 4x4 square by following the corresponding enhancement rule.\n",
    "Because each square of pixels is replaced by a larger one, the image gains pixels and so its size increases.\n",
    "\n",
    "The artist's book of enhancement rules is nearby (your puzzle input); however, it seems to be missing rules. The artist explains that sometimes, one must rotate or flip the input pattern to find a match. (Never rotate or flip the output pattern, though.) Each pattern is written concisely: rows are listed as single units, ordered top-down, and separated by slashes. For example, the following rules correspond to the adjacent patterns:\n",
    "\n",
    "```\n",
    "../.#  =  ..\n",
    "          .#\n",
    "\n",
    "                .#.\n",
    ".#./..#/###  =  ..#\n",
    "                ###\n",
    "\n",
    "                        #..#\n",
    "#..#/..../#..#/.##.  =  ....\n",
    "                        #..#\n",
    "                        .##.\n",
    "```\n",
    "\n",
    "When searching for a rule to use, rotate and flip the pattern as necessary. For example, all of the following patterns match the same rule:\n",
    "\n",
    "```\n",
    ".#.   .#.   #..   ###\n",
    "..#   #..   #.#   ..#\n",
    "###   ###   ##.   .#.\n",
    "```\n",
    "\n",
    "Suppose the book contained the following two rules:\n",
    "\n",
    "```\n",
    "../.# => ##./#../...\n",
    ".#./..#/### => #..#/..../..../#..#\n",
    "```\n",
    "\n",
    "As before, the program begins with this pattern:\n",
    "\n",
    "```\n",
    ".#.\n",
    "..#\n",
    "###\n",
    "```\n",
    "\n",
    "The size of the grid (3) is not divisible by 2, but it is divisible by 3. It divides evenly into a single square; the square matches the second rule, which produces:\n",
    "\n",
    "```\n",
    "#..#\n",
    "....\n",
    "....\n",
    "#..#\n",
    "```\n",
    "\n",
    "The size of this enhanced grid (4) is evenly divisible by 2, so that rule is used. It divides evenly into four squares:\n",
    "\n",
    "```\n",
    "#.|.#\n",
    "..|..\n",
    "--+--\n",
    "..|..\n",
    "#.|.#\n",
    "```\n",
    "\n",
    "Each of these squares matches the same rule (../.# => ##./#../...), three of which require some flipping and rotation to line up with the rule. The output for the rule is the same in all four cases:\n",
    "\n",
    "```\n",
    "##.|##.\n",
    "#..|#..\n",
    "...|...\n",
    "---+---\n",
    "##.|##.\n",
    "#..|#..\n",
    "...|...\n",
    "```\n",
    "\n",
    "Finally, the squares are joined into a new grid:\n",
    "\n",
    "```\n",
    "##.##.\n",
    "#..#..\n",
    "......\n",
    "##.##.\n",
    "#..#..\n",
    "......\n",
    "```\n",
    "\n",
    "Thus, after 2 iterations, the grid contains 12 pixels that are on.\n",
    "\n",
    "**How many pixels stay on after 5 iterations?**"
   ]
  },
  {
   "cell_type": "code",
   "execution_count": 17,
   "metadata": {},
   "outputs": [
    {
     "data": {
      "text/plain": [
       "['../.. => ..#/##./#..',\n",
       " '#./.. => #../.#./...',\n",
       " '##/.. => ##./#../##.',\n",
       " '.#/#. => ..#/##./.#.',\n",
       " '##/#. => ..#/#.#/.##',\n",
       " '##/## => ##./..#/#.#',\n",
       " '.../.../... => ###./#..#/##.#/.#.#',\n",
       " '#../.../... => ##.#/#..#/####/#.##',\n",
       " '.#./.../... => ###./###./#.##/...#',\n",
       " '##./.../... => ##.#/..../##../##..']"
      ]
     },
     "execution_count": 17,
     "metadata": {},
     "output_type": "execute_result"
    }
   ],
   "source": [
    "import numpy as np\n",
    "\n",
    "# the puzzle input\n",
    "with open('puzzle_inputs/day21_input.txt') as f:\n",
    "    data = f.read().strip().split(\"\\n\")\n",
    "puzzle_input = [line for line in data]\n",
    "puzzle_input[:10]"
   ]
  },
  {
   "cell_type": "code",
   "execution_count": 18,
   "metadata": {},
   "outputs": [
    {
     "data": {
      "text/plain": [
       "['.#.', '..#', '###']"
      ]
     },
     "execution_count": 18,
     "metadata": {},
     "output_type": "execute_result"
    }
   ],
   "source": [
    "start_pattern = \"\"\".#.\n",
    "..#\n",
    "###\"\"\".split(\"\\n\")\n",
    "start_pattern"
   ]
  },
  {
   "cell_type": "code",
   "execution_count": 39,
   "metadata": {},
   "outputs": [
    {
     "data": {
      "text/plain": [
       "array([[5, 5, 3, 7, 9, 4, 7, 6, 7],\n",
       "       [3, 5, 4, 4, 6, 0, 5, 2, 7],\n",
       "       [2, 7, 5, 5, 5, 7, 6, 5, 3],\n",
       "       [5, 6, 2, 3, 7, 8, 8, 5, 6],\n",
       "       [6, 0, 4, 8, 4, 2, 9, 9, 6],\n",
       "       [4, 4, 4, 9, 0, 3, 4, 5, 5],\n",
       "       [1, 1, 0, 0, 4, 8, 7, 6, 2],\n",
       "       [6, 3, 1, 1, 6, 1, 7, 2, 3],\n",
       "       [3, 4, 3, 2, 6, 9, 1, 8, 9]])"
      ]
     },
     "execution_count": 39,
     "metadata": {},
     "output_type": "execute_result"
    }
   ],
   "source": [
    "if len(start_pattern) % 3 == 0:\n",
    "    size = 3\n",
    "else:\n",
    "    size = 2\n",
    "\n",
    "a = np.random.randint(0,10,size=(9,9))\n",
    "a"
   ]
  },
  {
   "cell_type": "code",
   "execution_count": 40,
   "metadata": {},
   "outputs": [
    {
     "name": "stdout",
     "output_type": "stream",
     "text": [
      "[[5 5 3]\n",
      " [3 5 4]\n",
      " [2 7 5]]\n",
      "[[3 7 8]\n",
      " [8 4 2]\n",
      " [9 0 3]]\n",
      "[[7 6 2]\n",
      " [7 2 3]\n",
      " [1 8 9]]\n"
     ]
    }
   ],
   "source": [
    "s = 0\n",
    "for i in range(size, len(a)+1, size):\n",
    "    print(a[s:i,s:i])\n",
    "    s += size"
   ]
  },
  {
   "cell_type": "code",
   "execution_count": null,
   "metadata": {},
   "outputs": [],
   "source": []
  }
 ],
 "metadata": {
  "kernelspec": {
   "display_name": "Python 3",
   "language": "python",
   "name": "python3"
  },
  "language_info": {
   "codemirror_mode": {
    "name": "ipython",
    "version": 3
   },
   "file_extension": ".py",
   "mimetype": "text/x-python",
   "name": "python",
   "nbconvert_exporter": "python",
   "pygments_lexer": "ipython3",
   "version": "3.6.4"
  }
 },
 "nbformat": 4,
 "nbformat_minor": 2
}

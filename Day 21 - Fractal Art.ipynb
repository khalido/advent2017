{
 "cells": [
  {
   "cell_type": "markdown",
   "metadata": {},
   "source": [
    "# --- Day 21: Fractal Art ---\n",
    "\n",
    "http://adventofcode.com/2017/day/21\n",
    "\n",
    "You find a program trying to generate some art. It uses a strange process that involves repeatedly enhancing the detail of an image through a set of rules.\n",
    "\n",
    "The image consists of a two-dimensional square grid of pixels that are either on (#) or off (.). The program always begins with this pattern:\n",
    "\n",
    "```\n",
    ".#.\n",
    "..#\n",
    "###\n",
    "```"
   ]
  },
  {
   "cell_type": "code",
   "execution_count": 122,
   "metadata": {},
   "outputs": [
    {
     "data": {
      "text/plain": [
       "['../.. => ..#/##./#..',\n",
       " '#./.. => #../.#./...',\n",
       " '##/.. => ##./#../##.',\n",
       " '.#/#. => ..#/##./.#.',\n",
       " '##/#. => ..#/#.#/.##',\n",
       " '##/## => ##./..#/#.#',\n",
       " '.../.../... => ###./#..#/##.#/.#.#',\n",
       " '#../.../... => ##.#/#..#/####/#.##',\n",
       " '.#./.../... => ###./###./#.##/...#',\n",
       " '##./.../... => ##.#/..../##../##..']"
      ]
     },
     "execution_count": 122,
     "metadata": {},
     "output_type": "execute_result"
    }
   ],
   "source": [
    "# the puzzle input\n",
    "with open('puzzle_inputs/day21_input.txt') as f:\n",
    "    data = f.read().strip().split(\"\\n\")\n",
    "puzzle_input = [line for line in data]\n",
    "puzzle_input[:10]"
   ]
  },
  {
   "cell_type": "markdown",
   "metadata": {},
   "source": [
    "Every art pattern starts with this:"
   ]
  },
  {
   "cell_type": "code",
   "execution_count": 5,
   "metadata": {},
   "outputs": [
    {
     "data": {
      "text/plain": [
       "'.#./..#/###'"
      ]
     },
     "execution_count": 5,
     "metadata": {},
     "output_type": "execute_result"
    }
   ],
   "source": [
    "seed = \"/\".join(\"\"\".#.\n",
    "..#\n",
    "###\"\"\".split(\"\\n\"))\n",
    "seed"
   ]
  },
  {
   "cell_type": "markdown",
   "metadata": {},
   "source": [
    "I'm going to store all the enhancement rules in a dictionary to be able to look them up and apply easily. However, dicts can't hash arrays, so first up a couple of helper functions to convert our pattern strings to a 2d grid for enhancement, then back to string form for storing in the dict:"
   ]
  },
  {
   "cell_type": "code",
   "execution_count": 123,
   "metadata": {},
   "outputs": [
    {
     "data": {
      "text/plain": [
       "array([['.', '#', '.'],\n",
       "       ['.', '.', '#'],\n",
       "       ['#', '#', '#']],\n",
       "      dtype='<U4')"
      ]
     },
     "execution_count": 123,
     "metadata": {},
     "output_type": "execute_result"
    }
   ],
   "source": [
    "import numpy as np\n",
    "\n",
    "def convert_to_grid(s):\n",
    "    \"\"\"takes in a string and returns a 2d grid representation\"\"\"\n",
    "    rows = [np.array([c for c in row], dtype=\"U\") for row in s.split(\"/\")]\n",
    "    return np.array(rows, dtype=\"U\")\n",
    "\n",
    "grid = convert_to_grid(seed)\n",
    "grid"
   ]
  },
  {
   "cell_type": "code",
   "execution_count": 124,
   "metadata": {},
   "outputs": [
    {
     "data": {
      "text/plain": [
       "'.#./..#/###'"
      ]
     },
     "execution_count": 124,
     "metadata": {},
     "output_type": "execute_result"
    }
   ],
   "source": [
    "def convert_to_string(grid):\n",
    "    \"\"\"takes a 2d grid and returns a / seperated string version\"\"\"\n",
    "    s = [\"\".join(row) for row in grid]\n",
    "    return \"/\".join(s)\n",
    "\n",
    "convert_to_string(grid)"
   ]
  },
  {
   "cell_type": "markdown",
   "metadata": {},
   "source": [
    "to eyeball the grid better:"
   ]
  },
  {
   "cell_type": "code",
   "execution_count": 151,
   "metadata": {},
   "outputs": [
    {
     "data": {
      "image/png": "[encoded data removed]",
      "text/plain": [
       "<matplotlib.figure.Figure at 0x7d66074a77b8>"
      ]
     },
     "metadata": {},
     "output_type": "display_data"
    }
   ],
   "source": [
    "import matplotlib.pyplot as plt\n",
    "\n",
    "def plot_pattern(seed=seed):\n",
    "    \"\"\"takes in a pattern as a string and plots it\"\"\"\n",
    "    grid = convert_to_grid(seed)\n",
    "    binary_grid = [c == \"#\" for c in [row for row in grid]]\n",
    "    plt.imshow(binary_grid)\n",
    "    plt.title(f\"{seed.count('#'):03} lights on\")\n",
    "    plt.show()\n",
    "    \n",
    "plot_pattern()"
   ]
  },
  {
   "cell_type": "markdown",
   "metadata": {},
   "source": [
    "First up, converting the rules from a list of strings into a dict:"
   ]
  },
  {
   "cell_type": "code",
   "execution_count": 125,
   "metadata": {},
   "outputs": [
    {
     "data": {
      "text/plain": [
       "528"
      ]
     },
     "execution_count": 125,
     "metadata": {},
     "output_type": "execute_result"
    }
   ],
   "source": [
    "def make_rules(puzzle_input=puzzle_input, verbose=False):\n",
    "    \"\"\"takes in the rules as a list of strings and returns a dict\"\"\"\n",
    "    rules = dict()\n",
    "    \n",
    "    for row in puzzle_input:\n",
    "        pattern, enhance = row.split(\" => \")\n",
    "        for i in range(4):\n",
    "            rot = np.rot90(convert_to_grid(pattern), i)\n",
    "            rules[convert_to_string(rot)] = enhance\n",
    "            rules[convert_to_string(np.flipud(rot))] = enhance\n",
    "    \n",
    "    return rules\n",
    "        \n",
    "rules = make_rules(verbose=False)\n",
    "len(rules)"
   ]
  },
  {
   "cell_type": "code",
   "execution_count": 108,
   "metadata": {},
   "outputs": [
    {
     "name": "stdout",
     "output_type": "stream",
     "text": [
      "#.../###./#.##/#.##\n"
     ]
    },
    {
     "data": {
      "text/plain": [
       "'..##../#.#.#./.##.../##.##./#....#/##.#.#'"
      ]
     },
     "execution_count": 108,
     "metadata": {},
     "output_type": "execute_result"
    }
   ],
   "source": [
    "def enhance(seed=seed, rules=rules):\n",
    "    \"\"\"takes in a seed as a string, and enhances it N times as per rules provided\"\"\"\n",
    "    \n",
    "    p = convert_to_grid(seed)\n",
    "    size = 2 if len(p) % 2 == 0 else 3\n",
    "    new_grid_size = (len(p)*(size+1)) // size\n",
    "    new_grid = np.empty((new_grid_size,new_grid_size), dtype=\"U\")\n",
    "    nsize = size + 1 # size of slice of new pattern\n",
    "    \n",
    "    if len(p) == size:\n",
    "        return rules[seed]\n",
    "    \n",
    "    # now to slice and dice\n",
    "    squares = [i for i in range(0,len(p), size)]\n",
    "    new_squares = [i for i in range(0,len(new_grid), size+1)]\n",
    "    \n",
    "    for i, ii in zip(squares, new_squares):\n",
    "        for j, jj in zip(squares, new_squares):\n",
    "            slice = p[i:i+size,j:j+size]\n",
    "            \n",
    "            new_p = rules[convert_to_string(slice)]\n",
    "            new_grid[ii:ii+nsize,jj:jj+nsize] = convert_to_grid(new_p)\n",
    "    \n",
    "    return convert_to_string(new_grid)\n",
    "\n",
    "print(enhance(seed))\n",
    "enhance('#.../###./#.##/#.##')"
   ]
  },
  {
   "cell_type": "markdown",
   "metadata": {},
   "source": [
    "Now to solve part 1:"
   ]
  },
  {
   "cell_type": "code",
   "execution_count": 152,
   "metadata": {
    "scrolled": true
   },
   "outputs": [
    {
     "name": "stdout",
     "output_type": "stream",
     "text": [
      "Round 01: #.../###./#.##/#.##                     ... has 010 lights on\n",
      "Round 02: ..##../#.#.#./.##.../##.##./#....#/##.#.... has 017 lights on\n",
      "Round 03: #....##../.#.#.#.#./....##.../..#..##../... has 032 lights on\n",
      "Round 04: ..###.....##/.#.####..#.#/.##.#.##.##./.... has 073 lights on\n",
      "Round 05: #....#..##..#....#/.#.#.##.#.#..#.#.#/..... has 136 lights on\n"
     ]
    },
    {
     "data": {
      "image/png": "[encoded data removed]",
      "text/plain": [
       "<matplotlib.figure.Figure at 0x7d66071acc88>"
      ]
     },
     "metadata": {},
     "output_type": "display_data"
    }
   ],
   "source": [
    "def enhance_multiple(a=seed, N=5):\n",
    "    \"\"\"takes in a pattern and enhances it N times\"\"\"\n",
    "    for i in range(N):\n",
    "        a = enhance(a)\n",
    "        print(f\"Round {i+1:02}: {a[:40]:40}... has {a.count('#'):03} lights on\")\n",
    "    return a   \n",
    "\n",
    "enhanced = enhance_multiple(seed, 5)\n",
    "plot_pattern(enhanced)"
   ]
  },
  {
   "cell_type": "markdown",
   "metadata": {},
   "source": [
    "`136` is the answer for part 1.\n",
    "\n",
    "## Part two\n",
    "\n",
    "This is the same a 1, just done 18 times:"
   ]
  },
  {
   "cell_type": "code",
   "execution_count": 153,
   "metadata": {},
   "outputs": [
    {
     "name": "stdout",
     "output_type": "stream",
     "text": [
      "Round 01: #.../###./#.##/#.##                     ... has 010 lights on\n",
      "Round 02: ..##../#.#.#./.##.../##.##./#....#/##.#.... has 017 lights on\n",
      "Round 03: #....##../.#.#.#.#./....##.../..#..##../... has 032 lights on\n",
      "Round 04: ..###.....##/.#.####..#.#/.##.#.##.##./.... has 073 lights on\n",
      "Round 05: #....#..##..#....#/.#.#.##.#.#..#.#.#/..... has 136 lights on\n",
      "Round 06: ..##..##.#....##....##..##./##..#.#...#.... has 287 lights on\n",
      "Round 07: ......##.#.#..###.....##......##.#.#/.#.... has 642 lights on\n",
      "Round 08: #....##....##..##.#....#..##..#....##...... has 1215 lights on\n",
      "Round 09: ..##....#..##..##...###.#....##..##.#...... has 2613 lights on\n",
      "Round 10: ......##..........##.#.#.....#.#..##....... has 5733 lights on\n",
      "Round 11: #....##....##....##....##....##..##.#...... has 10933 lights on\n",
      "Round 12: ..##....#..##..##...##....#..##....#..##... has 23586 lights on\n",
      "Round 13: ......##..........##.#.#......##........... has 51487 lights on\n",
      "Round 14: #....##....##....##....##....##..##.#...... has 98378 lights on\n",
      "Round 15: ..##....#..##..##...##....#..##....#..##... has 212393 lights on\n",
      "Round 16: ......##..........##.#.#......##........... has 463195 lights on\n",
      "Round 17: #....##....##....##....##....##..##.#...... has 885365 lights on\n",
      "Round 18: ..##....#..##..##...##....#..##....#..##... has 1911767 lights on\n"
     ]
    },
    {
     "data": {
      "image/png": "[encoded data removed]",
      "text/plain": [
       "<matplotlib.figure.Figure at 0x7d66074a7b38>"
      ]
     },
     "metadata": {},
     "output_type": "display_data"
    }
   ],
   "source": [
    "enhanced = enhance_multiple(seed, 18)\n",
    "plot_pattern(enhanced)"
   ]
  },
  {
   "cell_type": "markdown",
   "metadata": {},
   "source": [
    "`1911767` is the answer for part 2\n",
    "\n",
    "# Notes\n",
    "\n",
    "- check num of rotations and flips, am I doing more than needed?\n",
    "- animate the ever larger growing pattern"
   ]
  }
 ],
 "metadata": {
  "kernelspec": {
   "display_name": "Python 3",
   "language": "python",
   "name": "python3"
  },
  "language_info": {
   "codemirror_mode": {
    "name": "ipython",
    "version": 3
   },
   "file_extension": ".py",
   "mimetype": "text/x-python",
   "name": "python",
   "nbconvert_exporter": "python",
   "pygments_lexer": "ipython3",
   "version": "3.6.4"
  }
 },
 "nbformat": 4,
 "nbformat_minor": 2
}

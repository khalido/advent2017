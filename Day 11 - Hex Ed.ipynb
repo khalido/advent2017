{
 "cells": [
  {
   "cell_type": "markdown",
   "metadata": {},
   "source": [
    "# --- Day 11: Hex Ed ---\n",
    "\n",
    "Crossing the bridge, you've barely reached the other side of the stream when a program comes up to you, clearly in distress. \"It's my child process,\" she says, \"he's gotten lost in an infinite grid!\"\n",
    "\n",
    "Fortunately for her, you have plenty of experience with infinite grids.\n",
    "\n",
    "Unfortunately for you, it's a hex grid.\n",
    "\n",
    "The hexagons (\"hexes\") in this grid are aligned such that adjacent hexes can be found to the north, northeast, southeast, south, southwest, and northwest:\n",
    "\n",
    "```\n",
    "  \\ n  /\n",
    "nw +--+ ne\n",
    "  /    \\\n",
    "-+      +-\n",
    "  \\    /\n",
    "sw +--+ se\n",
    "  / s  \\\n",
    "```\n",
    "\n",
    "You have the path the child process took. Starting where he started, you need to determine the fewest number of steps required to reach him. (A \"step\" means to move from the hex you are in to any adjacent hex.)\n",
    "\n",
    "For example:\n",
    "\n",
    "- ne,ne,ne is 3 steps away.\n",
    "- ne,ne,sw,sw is 0 steps away (back where you started).\n",
    "- ne,ne,s,s is 2 steps away (se,se).\n",
    "- se,sw,se,sw,sw is 3 steps away (s,s,sw)."
   ]
  },
  {
   "cell_type": "markdown",
   "metadata": {},
   "source": [
    "A couple of useful articles in case I get stuck:\n",
    "\n",
    "- http://keekerdc.com/2011/03/hexagon-grids-coordinate-systems-and-distance-calculations/\n",
    "- https://www.redblobgames.com/grids/hexagons/"
   ]
  },
  {
   "cell_type": "code",
   "execution_count": 4,
   "metadata": {},
   "outputs": [
    {
     "data": {
      "text/plain": [
       "['s', 'nw', 's', 'sw', 'ne', 'sw', 'nw', 's', 's', 's']"
      ]
     },
     "execution_count": 4,
     "metadata": {},
     "output_type": "execute_result"
    }
   ],
   "source": [
    "with open('puzzle_inputs/day11_input.txt') as f:\n",
    "    puzzle_input = f.read().strip().split(\",\")\n",
    "puzzle_input[:10]"
   ]
  },
  {
   "cell_type": "code",
   "execution_count": 9,
   "metadata": {},
   "outputs": [],
   "source": [
    "grid = {\"n\": (0,1), \"s\":(0,-1), \"ne\": (1,1), \"nw\": (-1,1), \"se\": (1,-1), \"sw\": (-1, -1)}"
   ]
  },
  {
   "cell_type": "code",
   "execution_count": 5,
   "metadata": {},
   "outputs": [],
   "source": [
    "def follow_path(path):\n",
    "    \"\"\"takes in a path, follows it and returns distance from starting point\"\"\""
   ]
  },
  {
   "cell_type": "code",
   "execution_count": 7,
   "metadata": {},
   "outputs": [],
   "source": [
    "tests = [\"ne,ne,ne\", \"ne,ne,sw,sw\", \"ne,ne,s,s\", \"se,sw,se,sw,sw\"]\n",
    "test_ans = [3,0,2,3]\n",
    "\n",
    "for i, t in enumerate(tests):\n",
    "    moves = tests[i].strip().split(\",\")"
   ]
  },
  {
   "cell_type": "code",
   "execution_count": 2,
   "metadata": {},
   "outputs": [],
   "source": [
    "import seaborn as sns"
   ]
  },
  {
   "cell_type": "code",
   "execution_count": null,
   "metadata": {},
   "outputs": [],
   "source": []
  }
 ],
 "metadata": {
  "kernelspec": {
   "display_name": "Python 3",
   "language": "python",
   "name": "python3"
  },
  "language_info": {
   "codemirror_mode": {
    "name": "ipython",
    "version": 3
   },
   "file_extension": ".py",
   "mimetype": "text/x-python",
   "name": "python",
   "nbconvert_exporter": "python",
   "pygments_lexer": "ipython3",
   "version": "3.6.4"
  }
 },
 "nbformat": 4,
 "nbformat_minor": 2
}

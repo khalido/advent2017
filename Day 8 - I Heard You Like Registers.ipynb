{
 "cells": [
  {
   "cell_type": "markdown",
   "metadata": {},
   "source": [
    "# --- Day 8: I Heard You Like Registers ---\n",
    "\n",
    "You receive a signal directly from the CPU. Because of your recent assistance with jump instructions, it would like you to compute the result of a series of unusual register instructions.\n",
    "\n",
    "Each instruction consists of several parts: the register to modify, whether to increase or decrease that register's value, the amount by which to increase or decrease it, and a condition. If the condition fails, skip the instruction without modifying the register. The registers all start at 0. The instructions look like this:\n",
    "\n",
    "```\n",
    "b inc 5 if a > 1\n",
    "a inc 1 if b < 5\n",
    "c dec -10 if a >= 1\n",
    "c inc -20 if c == 10\n",
    "```\n",
    "\n",
    "These instructions would be processed as follows:\n",
    "\n",
    "- Because a starts at 0, it is not greater than 1, and so b is not modified.\n",
    "- a is increased by 1 (to 1) because b is less than 5 (it is 0).\n",
    "- c is decreased by -10 (to 10) because a is now greater than or equal to 1 (it is 1).\n",
    "- c is increased by -20 (to -10) because c is equal to 10.\n",
    "- After this process, the largest value in any register is 1.\n",
    "\n",
    "You might also encounter <= (less than or equal to) or != (not equal to). However, the CPU doesn't have the bandwidth to tell you what all the registers are named, and leaves that to you to determine.\n",
    "\n",
    "What is the largest value in any register after completing the instructions in your puzzle input?"
   ]
  },
  {
   "cell_type": "markdown",
   "metadata": {},
   "source": [
    "Test case from above:"
   ]
  },
  {
   "cell_type": "code",
   "execution_count": 21,
   "metadata": {},
   "outputs": [
    {
     "data": {
      "text/plain": [
       "['b inc 5 if a > 1',\n",
       " 'a inc 1 if b < 5',\n",
       " 'c dec -10 if a >= 1',\n",
       " 'c inc -20 if c == 10']"
      ]
     },
     "execution_count": 21,
     "metadata": {},
     "output_type": "execute_result"
    }
   ],
   "source": [
    "test_cases = \"\"\"b inc 5 if a > 1\n",
    "a inc 1 if b < 5\n",
    "c dec -10 if a >= 1\n",
    "c inc -20 if c == 10\"\"\".split(\"\\n\")\n",
    "test_cases"
   ]
  },
  {
   "cell_type": "markdown",
   "metadata": {},
   "source": [
    "So this looks like I need to parse each line and evaluate the expression using [eval](https://docs.python.org/3/library/functions.html#eval):"
   ]
  },
  {
   "cell_type": "code",
   "execution_count": 67,
   "metadata": {},
   "outputs": [
    {
     "data": {
      "text/plain": [
       "defaultdict(int, {'a': 1, 'b': 0, 'c': -10})"
      ]
     },
     "execution_count": 67,
     "metadata": {},
     "output_type": "execute_result"
    }
   ],
   "source": [
    "import operator\n",
    "from collections import defaultdict\n",
    "\n",
    "registers = defaultdict(int) # contains register values, defaulting to zero\n",
    "\n",
    "ops =  {\"inc\": \"operator.add\",\n",
    "        \"dec\": \"operator.sub\",\n",
    "        \"<\": \"operator.lt\",\n",
    "        \"<=\": \"operator.le\",\n",
    "        \">\": \"operator.gt\",\n",
    "        \">=\": \"operator.ge\",\n",
    "        \"==\": \"operator.eq\",\n",
    "        \"!=\": \"operator.ne\"}\n",
    "\n",
    "def parse_line(line):\n",
    "    a = line.split()\n",
    "    #print(f\" parsing: {a}\")    \n",
    "    update = ops[a[1]] + \"(\" + str(registers[a[0]]) + \",\" + str(a[2]) + \")\"\n",
    "    \n",
    "    condition = ops[a[-2]] + \"(\" + str(registers[a[-3]]) + \",\" + a[-1] + \")\"\n",
    "    #print(f\"action: {update}, condition: {condition}\")\n",
    "    \n",
    "    if eval(condition):\n",
    "        #print(f\"updating {a[0]} with {eval(update)}\")\n",
    "        registers[a[0]] = eval(update)\n",
    "    \n",
    "for line in test_cases:\n",
    "    parse_line(line)\n",
    "    \n",
    "registers"
   ]
  },
  {
   "cell_type": "markdown",
   "metadata": {},
   "source": [
    "That was pretty straightforward, now to check the max value:"
   ]
  },
  {
   "cell_type": "code",
   "execution_count": 68,
   "metadata": {},
   "outputs": [
    {
     "name": "stdout",
     "output_type": "stream",
     "text": [
      "Max Value: 1, max_keys: ['a']\n"
     ]
    },
    {
     "data": {
      "text/plain": [
       "(1, ['a'])"
      ]
     },
     "execution_count": 68,
     "metadata": {},
     "output_type": "execute_result"
    }
   ],
   "source": [
    "def max_value_dict(d):\n",
    "    \"\"\"takes in a dict d and returns the max value and keys\"\"\"\n",
    "    max_value = max(d.values()) \n",
    "\n",
    "    # multiple registers could have the max value\n",
    "    max_keys = [k for k, v in registers.items() if v == max_value]\n",
    "    print(f\"Max Value: {max_value}, max_keys: {max_keys}\")\n",
    "    return max_value, max_keys\n",
    "\n",
    "max_value_dict(registers)"
   ]
  },
  {
   "cell_type": "code",
   "execution_count": 69,
   "metadata": {},
   "outputs": [
    {
     "data": {
      "text/plain": [
       "['js inc 257 if wn < 9',\n",
       " 'jq dec -586 if esb != -3',\n",
       " 'gcf inc -603 if i >= -9',\n",
       " 'gcf dec -300 if d != 1',\n",
       " 'g inc -973 if gy > -1']"
      ]
     },
     "execution_count": 69,
     "metadata": {},
     "output_type": "execute_result"
    }
   ],
   "source": [
    "with open('puzzle_inputs/day8_input.txt') as f:\n",
    "    data = f.read().split(\"\\n\")\n",
    "puzzle_input = [line for line in data if len(line)>0]\n",
    "puzzle_input[:5]"
   ]
  },
  {
   "cell_type": "code",
   "execution_count": 70,
   "metadata": {},
   "outputs": [
    {
     "name": "stdout",
     "output_type": "stream",
     "text": [
      "Max Value: 4888, max_keys: ['jq']\n"
     ]
    },
    {
     "data": {
      "text/plain": [
       "(4888, ['jq'])"
      ]
     },
     "execution_count": 70,
     "metadata": {},
     "output_type": "execute_result"
    }
   ],
   "source": [
    "registers = defaultdict(int)\n",
    "\n",
    "def do_puzzle(puzzle_input):\n",
    "    \"\"\"takes in a puzzle_input, updates registers, then returns the max value\"\"\"\n",
    "    for line in puzzle_input:\n",
    "        a = line.split()\n",
    "        #print(f\" parsing: {a}\")    \n",
    "        update = ops[a[1]] + \"(\" + str(registers[a[0]]) + \",\" + str(a[2]) + \")\"\n",
    "\n",
    "        condition = ops[a[-2]] + \"(\" + str(registers[a[-3]]) + \",\" + a[-1] + \")\"\n",
    "        #print(f\"action: {update}, condition: {condition}\")\n",
    "\n",
    "        if eval(condition):\n",
    "            #print(f\"updating {a[0]} with {eval(update)}\")\n",
    "            registers[a[0]] = eval(update)\n",
    "    max_value, max_keys = max_value_dict(registers)\n",
    "    return max_value, max_keys\n",
    "\n",
    "do_puzzle(puzzle_input)"
   ]
  },
  {
   "cell_type": "markdown",
   "metadata": {},
   "source": [
    "# --- Part Two ---\n",
    "\n",
    "To be safe, the CPU also needs to know the highest value held in any register during this process so that it can decide how much memory to allocate to these operations. For example, in the above instructions, the highest value ever held was 10 (in register c after the third instruction was evaluated)."
   ]
  },
  {
   "cell_type": "markdown",
   "metadata": {},
   "source": [
    "This is pretty straightforward, I am just putting a check in the update loop to store the max value in a variable:"
   ]
  },
  {
   "cell_type": "code",
   "execution_count": 79,
   "metadata": {},
   "outputs": [
    {
     "name": "stdout",
     "output_type": "stream",
     "text": [
      "Max Value: 4888, max_keys: ['jq']\n"
     ]
    },
    {
     "data": {
      "text/plain": [
       "(4888, ['jq'], 7774)"
      ]
     },
     "execution_count": 79,
     "metadata": {},
     "output_type": "execute_result"
    }
   ],
   "source": [
    "registers = defaultdict(int)\n",
    "\n",
    "def do_puzzle_mem_check(puzzle_input):\n",
    "    \"\"\"takes in a puzzle_input, updates registers, then returns the max value\"\"\"\n",
    "    highest_val = None\n",
    "    for line in puzzle_input:\n",
    "        a = line.split()\n",
    "        #print(f\" parsing: {a}\")    \n",
    "        update = ops[a[1]] + \"(\" + str(registers[a[0]]) + \",\" + str(a[2]) + \")\"\n",
    "\n",
    "        condition = ops[a[-2]] + \"(\" + str(registers[a[-3]]) + \",\" + a[-1] + \")\"\n",
    "        #print(f\"action: {update}, condition: {condition}\")\n",
    "\n",
    "        if eval(condition):\n",
    "            # higest val code\n",
    "            new_val = eval(update)\n",
    "            if highest_val is None:\n",
    "                highest_val = eval(update)\n",
    "            elif highest_val < new_val:\n",
    "                highest_val = new_val\n",
    "            \n",
    "            registers[a[0]] = eval(update)\n",
    "    \n",
    "    max_value, max_keys = max_value_dict(registers)\n",
    "    \n",
    "    return max_value, max_keys, highest_val\n",
    "\n",
    "do_puzzle_mem_check(puzzle_input)"
   ]
  }
 ],
 "metadata": {
  "kernelspec": {
   "display_name": "Python 3",
   "language": "python",
   "name": "python3"
  },
  "language_info": {
   "codemirror_mode": {
    "name": "ipython",
    "version": 3
   },
   "file_extension": ".py",
   "mimetype": "text/x-python",
   "name": "python",
   "nbconvert_exporter": "python",
   "pygments_lexer": "ipython3",
   "version": "3.6.3"
  }
 },
 "nbformat": 4,
 "nbformat_minor": 2
}

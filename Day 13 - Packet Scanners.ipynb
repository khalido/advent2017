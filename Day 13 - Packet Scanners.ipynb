{
 "cells": [
  {
   "cell_type": "markdown",
   "metadata": {},
   "source": [
    "# --- Day 13: Packet Scanners ---\n",
    "\n",
    "http://adventofcode.com/2017/day/13\n",
    "\n",
    "You need to cross a vast firewall. The firewall consists of several layers, each with a security scanner that moves back and forth across the layer. To succeed, you must not be detected by a scanner.\n",
    "\n",
    "By studying the firewall briefly, you are able to record (in your puzzle input) the depth of each layer and the range of the scanning area for the scanner within it, written as depth: range. Each layer has a thickness of exactly 1. A layer at depth 0 begins immediately inside the firewall; a layer at depth 1 would start immediately after that."
   ]
  },
  {
   "cell_type": "code",
   "execution_count": 3,
   "metadata": {},
   "outputs": [
    {
     "data": {
      "text/plain": [
       "['0: 3', '1: 2', '4: 4', '6: 4']"
      ]
     },
     "execution_count": 3,
     "metadata": {},
     "output_type": "execute_result"
    }
   ],
   "source": [
    "test_input = \"\"\"0: 3\n",
    "1: 2\n",
    "4: 4\n",
    "6: 4\"\"\"\n",
    "test_case = [line for line in test_input.strip().split(\"\\n\")]\n",
    "test_case"
   ]
  },
  {
   "cell_type": "code",
   "execution_count": 1,
   "metadata": {},
   "outputs": [
    {
     "data": {
      "text/plain": [
       "['0: 4', '1: 2', '2: 3', '4: 5', '6: 6']"
      ]
     },
     "execution_count": 1,
     "metadata": {},
     "output_type": "execute_result"
    }
   ],
   "source": [
    "# the puzzle input\n",
    "with open('puzzle_inputs/day13_input.txt') as f:\n",
    "    data = f.read().strip().split(\"\\n\")\n",
    "puzzle_input = [line for line in data]\n",
    "puzzle_input[:5]"
   ]
  },
  {
   "cell_type": "markdown",
   "metadata": {},
   "source": [
    "First, a function to turn our input into a dictionary. the input is already sorted, otherwise a OrderedDict might be a good idea:"
   ]
  },
  {
   "cell_type": "code",
   "execution_count": 48,
   "metadata": {},
   "outputs": [
    {
     "data": {
      "text/plain": [
       "defaultdict(int, {0: 3, 1: 2, 4: 4, 6: 4})"
      ]
     },
     "execution_count": 48,
     "metadata": {},
     "output_type": "execute_result"
    }
   ],
   "source": [
    "from collections import OrderedDict, defaultdict\n",
    "\n",
    "def make_dict(description):\n",
    "    \"\"\"takes an input in the form of a list of strings and returns a dictionary of\n",
    "    program -> list of programs\"\"\"\n",
    "    d = defaultdict(int)\n",
    "    \n",
    "    for line in description:\n",
    "        line = line.split(\":\")\n",
    "        depth = int(line[0])\n",
    "        firewall_range = int(line[1])\n",
    "        d[depth] = firewall_range\n",
    "    return d\n",
    "\n",
    "firewall = make_dict(test_case)\n",
    "firewall"
   ]
  },
  {
   "cell_type": "markdown",
   "metadata": {},
   "source": [
    "Now we have a dict of firewalls. The total number of layers is:"
   ]
  },
  {
   "cell_type": "code",
   "execution_count": 49,
   "metadata": {},
   "outputs": [
    {
     "data": {
      "text/plain": [
       "[0, 1, 2, 3, 4, 5, 6]"
      ]
     },
     "execution_count": 49,
     "metadata": {},
     "output_type": "execute_result"
    }
   ],
   "source": [
    "layers = [i for i in range(0, max(firewall.keys())+1)]\n",
    "layers"
   ]
  },
  {
   "cell_type": "markdown",
   "metadata": {},
   "source": [
    "The main logic is all here - I make a list of the times where the firewall is at the top - i.e the point where the packet will incur a penalty."
   ]
  },
  {
   "cell_type": "code",
   "execution_count": 53,
   "metadata": {},
   "outputs": [
    {
     "data": {
      "text/plain": [
       "[4, 2, 0, 0, 6, 0, 6]"
      ]
     },
     "execution_count": 53,
     "metadata": {},
     "output_type": "execute_result"
    }
   ],
   "source": [
    "gets_caught = [((firewall[i]-1)*2) if firewall[i]>0 else 0 for i in layers]\n",
    "gets_caught"
   ]
  },
  {
   "cell_type": "markdown",
   "metadata": {},
   "source": [
    "We can ignore layer 0, as the penalty there is multiplied by 0. Here I move the time forward one step at a time, and check at that firewall layer if the scanner is at the top, and if so, add a penalty:"
   ]
  },
  {
   "cell_type": "code",
   "execution_count": 57,
   "metadata": {},
   "outputs": [
    {
     "data": {
      "text/plain": [
       "(7, 24)"
      ]
     },
     "execution_count": 57,
     "metadata": {},
     "output_type": "execute_result"
    }
   ],
   "source": [
    "time = 1\n",
    "penalty = 0\n",
    "\n",
    "for i in layers[1:]:\n",
    "    if gets_caught[i] > 0:\n",
    "        if time % gets_caught[i] == 0:\n",
    "            penalty += firewall[i] * i\n",
    "    time += 1\n",
    "\n",
    "time, penalty"
   ]
  },
  {
   "cell_type": "markdown",
   "metadata": {},
   "source": [
    "Now to turn the above into a function so I can run it on the puzzle input:"
   ]
  },
  {
   "cell_type": "code",
   "execution_count": 56,
   "metadata": {},
   "outputs": [
    {
     "data": {
      "text/plain": [
       "(91, 2688)"
      ]
     },
     "execution_count": 56,
     "metadata": {},
     "output_type": "execute_result"
    }
   ],
   "source": [
    "def total_penalty(description, time=1, penalty=0):\n",
    "    \"\"\"takes in a trip description and returns the total penalty incurred\"\"\"\n",
    "    firewall = make_dict(description)\n",
    "    layers = [i for i in range(0, max(firewall.keys())+1)]\n",
    "    gets_caught = [((firewall[i]-1)*2) if firewall[i]>0 else 0 for i in layers]\n",
    "    \n",
    "    for i in layers[1:]:\n",
    "        if gets_caught[i] > 0:\n",
    "            if time % gets_caught[i] == 0:\n",
    "                penalty += firewall[i] * i\n",
    "        time += 1\n",
    "\n",
    "    return time, penalty\n",
    "    \n",
    "total_penalty(puzzle_input)"
   ]
  },
  {
   "cell_type": "markdown",
   "metadata": {},
   "source": [
    "# Part 2\n",
    "\n",
    "Now, you need to pass through the firewall without being caught - easier said than done.\n",
    "\n",
    "You can't control the speed of the packet, but you can delay it any number of picoseconds. For each picosecond you delay the packet before beginning your trip, all security scanners move one step. You're not in the firewall during this time; you don't enter layer 0 until you stop delaying the packet.\n"
   ]
  },
  {
   "cell_type": "code",
   "execution_count": 99,
   "metadata": {},
   "outputs": [
    {
     "data": {
      "text/plain": [
       "False"
      ]
     },
     "execution_count": 99,
     "metadata": {},
     "output_type": "execute_result"
    }
   ],
   "source": [
    "def does_it_make_it(description, time=0, penalty=0, oops=0):\n",
    "    \"\"\"takes in a trip description and returns the total penalty incurred\"\"\"\n",
    "    firewall = make_dict(description)\n",
    "    layers = [i for i in range(0, max(firewall.keys())+1)]\n",
    "    gets_caught = [((firewall[i]-1)*2) if firewall[i]>0 else 0 for i in layers]\n",
    "    \n",
    "    for i in layers:\n",
    "        if gets_caught[i] > 0:\n",
    "            if time % gets_caught[i] == 0:\n",
    "                return False\n",
    "        time += 1\n",
    "\n",
    "    return True\n",
    "\n",
    "does_it_make_it(test_case)"
   ]
  },
  {
   "cell_type": "code",
   "execution_count": 100,
   "metadata": {},
   "outputs": [
    {
     "data": {
      "text/plain": [
       "10"
      ]
     },
     "execution_count": 100,
     "metadata": {},
     "output_type": "execute_result"
    }
   ],
   "source": [
    "sneaks_past = does_it_make_it(test_case)\n",
    "\n",
    "time = 0\n",
    "\n",
    "while not does_it_make_it(test_case, time):\n",
    "    time += 1\n",
    "    \n",
    "time"
   ]
  },
  {
   "cell_type": "markdown",
   "metadata": {},
   "source": [
    "I'm sure there is a mathematical way to do this, but I am just sending the packet out over and over again with increasing delays until it makes it."
   ]
  },
  {
   "cell_type": "code",
   "execution_count": 108,
   "metadata": {},
   "outputs": [
    {
     "name": "stdout",
     "output_type": "stream",
     "text": [
      "Looking at time 10000\n",
      "Looking at time 20000\n",
      "Looking at time 30000\n",
      "Looking at time 40000\n",
      "Looking at time 50000\n",
      "Looking at time 60000\n",
      "Looking at time 70000\n",
      "Looking at time 80000\n",
      "Looking at time 90000\n",
      "Looking at time 100000\n",
      "Looking at time 110000\n",
      "Looking at time 120000\n",
      "Looking at time 130000\n",
      "Looking at time 140000\n",
      "Looking at time 150000\n",
      "Looking at time 160000\n",
      "Looking at time 170000\n",
      "Looking at time 180000\n",
      "Looking at time 190000\n",
      "Looking at time 200000\n",
      "Looking at time 210000\n",
      "Looking at time 220000\n",
      "Looking at time 230000\n",
      "Looking at time 240000\n",
      "Looking at time 250000\n",
      "Looking at time 260000\n",
      "Looking at time 270000\n",
      "Looking at time 280000\n",
      "Looking at time 290000\n",
      "Looking at time 300000\n",
      "Looking at time 310000\n",
      "Looking at time 320000\n",
      "Looking at time 330000\n",
      "Looking at time 340000\n",
      "Looking at time 350000\n",
      "Looking at time 360000\n",
      "Looking at time 370000\n",
      "Looking at time 380000\n",
      "Looking at time 390000\n",
      "Looking at time 400000\n",
      "Looking at time 410000\n",
      "Looking at time 420000\n",
      "Looking at time 430000\n",
      "Looking at time 440000\n",
      "Looking at time 450000\n",
      "Looking at time 460000\n",
      "Looking at time 470000\n",
      "Looking at time 480000\n",
      "Looking at time 490000\n",
      "Looking at time 500000\n",
      "Looking at time 510000\n",
      "Looking at time 520000\n",
      "Looking at time 530000\n",
      "Looking at time 540000\n",
      "Looking at time 550000\n",
      "Looking at time 560000\n",
      "Looking at time 570000\n",
      "Looking at time 580000\n",
      "Looking at time 590000\n",
      "Looking at time 600000\n",
      "Looking at time 610000\n",
      "Looking at time 620000\n",
      "Looking at time 630000\n",
      "Looking at time 640000\n",
      "Looking at time 650000\n",
      "Looking at time 660000\n",
      "Looking at time 670000\n",
      "Looking at time 680000\n",
      "Looking at time 690000\n",
      "Looking at time 700000\n",
      "Looking at time 710000\n",
      "Looking at time 720000\n",
      "Looking at time 730000\n",
      "Looking at time 740000\n",
      "Looking at time 750000\n",
      "Looking at time 760000\n",
      "Looking at time 770000\n",
      "Looking at time 780000\n",
      "Looking at time 790000\n",
      "Looking at time 800000\n",
      "Looking at time 810000\n",
      "Looking at time 820000\n",
      "Looking at time 830000\n",
      "Looking at time 840000\n",
      "Looking at time 850000\n",
      "Looking at time 860000\n",
      "Looking at time 870000\n",
      "Looking at time 880000\n",
      "Looking at time 890000\n",
      "Looking at time 900000\n",
      "Looking at time 910000\n",
      "Looking at time 920000\n",
      "Looking at time 930000\n",
      "Looking at time 940000\n",
      "Looking at time 950000\n",
      "Looking at time 960000\n",
      "Looking at time 970000\n",
      "Looking at time 980000\n",
      "Looking at time 990000\n",
      "Looking at time 1000000\n",
      "Looking at time 1010000\n",
      "Looking at time 1020000\n",
      "Looking at time 1030000\n",
      "Looking at time 1040000\n",
      "Looking at time 1050000\n",
      "Looking at time 1060000\n",
      "Looking at time 1070000\n",
      "Looking at time 1080000\n",
      "Looking at time 1090000\n",
      "Looking at time 1100000\n",
      "Looking at time 1110000\n",
      "Looking at time 1120000\n",
      "Looking at time 1130000\n",
      "Looking at time 1140000\n",
      "Looking at time 1150000\n",
      "Looking at time 1160000\n",
      "Looking at time 1170000\n",
      "Looking at time 1180000\n",
      "Looking at time 1190000\n",
      "Looking at time 1200000\n",
      "Looking at time 1210000\n",
      "Looking at time 1220000\n",
      "Looking at time 1230000\n",
      "Looking at time 1240000\n",
      "Looking at time 1250000\n",
      "Looking at time 1260000\n",
      "Looking at time 1270000\n",
      "Looking at time 1280000\n",
      "Looking at time 1290000\n",
      "Looking at time 1300000\n",
      "Looking at time 1310000\n",
      "Looking at time 1320000\n",
      "Looking at time 1330000\n",
      "Looking at time 1340000\n",
      "Looking at time 1350000\n",
      "Looking at time 1360000\n",
      "Looking at time 1370000\n",
      "Looking at time 1380000\n",
      "Looking at time 1390000\n",
      "Looking at time 1400000\n",
      "Looking at time 1410000\n",
      "Looking at time 1420000\n",
      "Looking at time 1430000\n",
      "Looking at time 1440000\n",
      "Looking at time 1450000\n",
      "Looking at time 1460000\n",
      "Looking at time 1470000\n",
      "Looking at time 1480000\n",
      "Looking at time 1490000\n",
      "Looking at time 1500000\n",
      "Looking at time 1510000\n",
      "Looking at time 1520000\n",
      "Looking at time 1530000\n",
      "Looking at time 1540000\n",
      "Looking at time 1550000\n",
      "Looking at time 1560000\n",
      "Looking at time 1570000\n",
      "Looking at time 1580000\n",
      "Looking at time 1590000\n",
      "Looking at time 1600000\n",
      "Looking at time 1610000\n",
      "Looking at time 1620000\n",
      "Looking at time 1630000\n",
      "Looking at time 1640000\n",
      "Looking at time 1650000\n",
      "Looking at time 1660000\n",
      "Looking at time 1670000\n",
      "Looking at time 1680000\n",
      "Looking at time 1690000\n",
      "Looking at time 1700000\n",
      "Looking at time 1710000\n",
      "Looking at time 1720000\n",
      "Looking at time 1730000\n",
      "Looking at time 1740000\n",
      "Looking at time 1750000\n",
      "Looking at time 1760000\n",
      "Looking at time 1770000\n",
      "Looking at time 1780000\n",
      "Looking at time 1790000\n",
      "Looking at time 1800000\n",
      "Looking at time 1810000\n",
      "Looking at time 1820000\n",
      "Looking at time 1830000\n",
      "Looking at time 1840000\n",
      "Looking at time 1850000\n",
      "Looking at time 1860000\n",
      "Looking at time 1870000\n",
      "Looking at time 1880000\n",
      "Looking at time 1890000\n",
      "Looking at time 1900000\n",
      "Looking at time 1910000\n",
      "Looking at time 1920000\n",
      "Looking at time 1930000\n",
      "Looking at time 1940000\n",
      "Looking at time 1950000\n",
      "Looking at time 1960000\n",
      "Looking at time 1970000\n",
      "Looking at time 1980000\n",
      "Looking at time 1990000\n",
      "Looking at time 2000000\n",
      "Looking at time 2010000\n",
      "Looking at time 2020000\n",
      "Looking at time 2030000\n",
      "Looking at time 2040000\n",
      "Looking at time 2050000\n",
      "Looking at time 2060000\n",
      "Looking at time 2070000\n",
      "Looking at time 2080000\n",
      "Looking at time 2090000\n",
      "Looking at time 2100000\n",
      "Looking at time 2110000\n",
      "Looking at time 2120000\n",
      "Looking at time 2130000\n",
      "Looking at time 2140000\n",
      "Looking at time 2150000\n",
      "Looking at time 2160000\n",
      "Looking at time 2170000\n",
      "Looking at time 2180000\n",
      "Looking at time 2190000\n",
      "Looking at time 2200000\n",
      "Looking at time 2210000\n",
      "Looking at time 2220000\n",
      "Looking at time 2230000\n",
      "Looking at time 2240000\n",
      "Looking at time 2250000\n",
      "Looking at time 2260000\n",
      "Looking at time 2270000\n",
      "Looking at time 2280000\n",
      "Looking at time 2290000\n",
      "Looking at time 2300000\n",
      "Looking at time 2310000\n",
      "Looking at time 2320000\n",
      "Looking at time 2330000\n",
      "Looking at time 2340000\n",
      "Looking at time 2350000\n",
      "Looking at time 2360000\n",
      "Looking at time 2370000\n",
      "Looking at time 2380000\n",
      "Looking at time 2390000\n",
      "Looking at time 2400000\n",
      "Looking at time 2410000\n",
      "Looking at time 2420000\n",
      "Looking at time 2430000\n",
      "Looking at time 2440000\n",
      "Looking at time 2450000\n",
      "Looking at time 2460000\n",
      "Looking at time 2470000\n",
      "Looking at time 2480000\n",
      "Looking at time 2490000\n",
      "Looking at time 2500000\n",
      "Looking at time 2510000\n",
      "Looking at time 2520000\n",
      "Looking at time 2530000\n",
      "Looking at time 2540000\n",
      "Looking at time 2550000\n",
      "Looking at time 2560000\n",
      "Looking at time 2570000\n",
      "Looking at time 2580000\n",
      "Looking at time 2590000\n",
      "Looking at time 2600000\n",
      "Looking at time 2610000\n",
      "Looking at time 2620000\n",
      "Looking at time 2630000\n",
      "Looking at time 2640000\n",
      "Looking at time 2650000\n",
      "Looking at time 2660000\n",
      "Looking at time 2670000\n",
      "Looking at time 2680000\n",
      "Looking at time 2690000\n",
      "Looking at time 2700000\n",
      "Looking at time 2710000\n",
      "Looking at time 2720000\n",
      "Looking at time 2730000\n",
      "Looking at time 2740000\n",
      "Looking at time 2750000\n",
      "Looking at time 2760000\n",
      "Looking at time 2770000\n",
      "Looking at time 2780000\n",
      "Looking at time 2790000\n",
      "Looking at time 2800000\n",
      "Looking at time 2810000\n",
      "Looking at time 2820000\n",
      "Looking at time 2830000\n",
      "Looking at time 2840000\n",
      "Looking at time 2850000\n",
      "Looking at time 2860000\n",
      "Looking at time 2870000\n",
      "Looking at time 2880000\n",
      "Looking at time 2890000\n",
      "Looking at time 2900000\n",
      "Looking at time 2910000\n",
      "Looking at time 2920000\n",
      "Looking at time 2930000\n",
      "Looking at time 2940000\n",
      "Looking at time 2950000\n",
      "Looking at time 2960000\n",
      "Looking at time 2970000\n",
      "Looking at time 2980000\n",
      "Looking at time 2990000\n",
      "Looking at time 3000000\n",
      "Looking at time 3010000\n",
      "Looking at time 3020000\n",
      "Looking at time 3030000\n",
      "Looking at time 3040000\n",
      "Looking at time 3050000\n",
      "Looking at time 3060000\n",
      "Looking at time 3070000\n",
      "Looking at time 3080000\n",
      "Looking at time 3090000\n",
      "Looking at time 3100000\n",
      "Looking at time 3110000\n",
      "Looking at time 3120000\n",
      "Looking at time 3130000\n",
      "Looking at time 3140000\n",
      "Looking at time 3150000\n",
      "Looking at time 3160000\n",
      "Looking at time 3170000\n",
      "Looking at time 3180000\n",
      "Looking at time 3190000\n",
      "Looking at time 3200000\n",
      "Looking at time 3210000\n",
      "Looking at time 3220000\n",
      "Looking at time 3230000\n",
      "Looking at time 3240000\n",
      "Looking at time 3250000\n",
      "Looking at time 3260000\n",
      "Looking at time 3270000\n",
      "Looking at time 3280000\n",
      "Looking at time 3290000\n",
      "Looking at time 3300000\n",
      "Looking at time 3310000\n",
      "Looking at time 3320000\n",
      "Looking at time 3330000\n",
      "Looking at time 3340000\n",
      "Looking at time 3350000\n",
      "Looking at time 3360000\n",
      "Looking at time 3370000\n",
      "Looking at time 3380000\n",
      "Looking at time 3390000\n",
      "Looking at time 3400000\n",
      "Looking at time 3410000\n",
      "Looking at time 3420000\n",
      "Looking at time 3430000\n",
      "Looking at time 3440000\n",
      "Looking at time 3450000\n",
      "Looking at time 3460000\n"
     ]
    },
    {
     "name": "stdout",
     "output_type": "stream",
     "text": [
      "Looking at time 3470000\n",
      "Looking at time 3480000\n",
      "Looking at time 3490000\n",
      "Looking at time 3500000\n",
      "Looking at time 3510000\n",
      "Looking at time 3520000\n",
      "Looking at time 3530000\n",
      "Looking at time 3540000\n",
      "Looking at time 3550000\n",
      "Looking at time 3560000\n",
      "Looking at time 3570000\n",
      "Looking at time 3580000\n",
      "Looking at time 3590000\n",
      "Looking at time 3600000\n",
      "Looking at time 3610000\n",
      "Looking at time 3620000\n",
      "Looking at time 3630000\n",
      "Looking at time 3640000\n",
      "Looking at time 3650000\n",
      "Looking at time 3660000\n",
      "Looking at time 3670000\n",
      "Looking at time 3680000\n",
      "Looking at time 3690000\n",
      "Looking at time 3700000\n",
      "Looking at time 3710000\n",
      "Looking at time 3720000\n",
      "Looking at time 3730000\n",
      "Looking at time 3740000\n",
      "Looking at time 3750000\n",
      "Looking at time 3760000\n",
      "Looking at time 3770000\n",
      "Looking at time 3780000\n",
      "Looking at time 3790000\n",
      "Looking at time 3800000\n",
      "Looking at time 3810000\n",
      "Looking at time 3820000\n",
      "Looking at time 3830000\n",
      "Looking at time 3840000\n",
      "Looking at time 3850000\n",
      "Looking at time 3860000\n",
      "Looking at time 3870000\n"
     ]
    },
    {
     "data": {
      "text/plain": [
       "3876272"
      ]
     },
     "execution_count": 108,
     "metadata": {},
     "output_type": "execute_result"
    }
   ],
   "source": [
    "def sneak_past_firewall(description, time=0):\n",
    "    \n",
    "    while not does_it_make_it(description, time):\n",
    "        time += 1\n",
    "        \n",
    "        if time % 10000 == 0:\n",
    "            print(\"Looking at time\", time)\n",
    "        if time > 10000000:\n",
    "            break\n",
    "        \n",
    "    return time\n",
    "\n",
    "sneak_past_firewall(puzzle_input)"
   ]
  },
  {
   "cell_type": "markdown",
   "metadata": {},
   "source": [
    "Wow, that worked! its very sub optimal, as I'm parsing the description each run and this is a straight forward brute force of the problem rather than using maths like I did in part 1.\n",
    "\n",
    "A better brute force operation would be to consider the firewall delays and not test the times which are a multiple of the times there."
   ]
  },
  {
   "cell_type": "code",
   "execution_count": 147,
   "metadata": {},
   "outputs": [],
   "source": [
    "firewall = make_dict(puzzle_input)\n",
    "layers = [i for i in range(0, max(firewall.keys())+1)]\n",
    "gets_caught = [((firewall[i]-1)*2) if firewall[i]>0 else 0 for i in layers]"
   ]
  },
  {
   "cell_type": "code",
   "execution_count": 142,
   "metadata": {},
   "outputs": [
    {
     "data": {
      "text/plain": [
       "{0, 2, 4, 6, 8, 10, 14, 16, 18, 22, 26, 32, 34}"
      ]
     },
     "execution_count": 142,
     "metadata": {},
     "output_type": "execute_result"
    }
   ],
   "source": [
    "check_not = set(gets_caught)\n",
    "check_not"
   ]
  },
  {
   "cell_type": "code",
   "execution_count": 143,
   "metadata": {},
   "outputs": [],
   "source": [
    "check_not.remove(0)"
   ]
  },
  {
   "cell_type": "code",
   "execution_count": 144,
   "metadata": {},
   "outputs": [
    {
     "data": {
      "text/plain": [
       "{2, 4, 6, 8, 10, 14, 16, 18, 22, 26, 32, 34}"
      ]
     },
     "execution_count": 144,
     "metadata": {},
     "output_type": "execute_result"
    }
   ],
   "source": [
    "check_not"
   ]
  },
  {
   "cell_type": "code",
   "execution_count": 145,
   "metadata": {},
   "outputs": [],
   "source": [
    "skip = list(check_not)"
   ]
  },
  {
   "cell_type": "code",
   "execution_count": 153,
   "metadata": {},
   "outputs": [
    {
     "data": {
      "text/plain": [
       "([32, 2, 34, 4, 6, 8, 10, 14, 16, 18, 22, 26], 2)"
      ]
     },
     "execution_count": 153,
     "metadata": {},
     "output_type": "execute_result"
    }
   ],
   "source": [
    "skip, min(skip)"
   ]
  },
  {
   "cell_type": "code",
   "execution_count": null,
   "metadata": {},
   "outputs": [
    {
     "name": "stdout",
     "output_type": "stream",
     "text": [
      "[32, 2, 34, 4, 6, 8, 10, 14, 16, 18, 22, 26]\n",
      "Looking at time 100000\n",
      "Looking at time 200000\n",
      "Looking at time 300000\n",
      "Looking at time 400000\n",
      "Looking at time 500000\n",
      "Looking at time 600000\n",
      "Looking at time 700000\n",
      "Looking at time 800000\n",
      "Looking at time 900000\n",
      "Looking at time 1000000\n",
      "Looking at time 1100000\n",
      "Looking at time 1200000\n",
      "Looking at time 1300000\n",
      "Looking at time 1400000\n",
      "Looking at time 1500000\n",
      "Looking at time 1600000\n",
      "Looking at time 1700000\n",
      "Looking at time 1800000\n",
      "Looking at time 1900000\n",
      "Looking at time 2000000\n",
      "Looking at time 2100000\n",
      "Looking at time 2200000\n",
      "Looking at time 2300000\n",
      "Looking at time 2400000\n",
      "Looking at time 2500000\n"
     ]
    }
   ],
   "source": [
    "def sneak_past_firewall_2(description, time=0):\n",
    "    print(skip)\n",
    "    time_jump = min(skip)\n",
    "    \n",
    "    while not does_it_make_it(description, time):\n",
    "        # need code here to skip times, since we know \n",
    "        # times which are multiple of the times in skip wont work\n",
    "        time += time_jump\n",
    "        \n",
    "        if time % 100000 == 0:\n",
    "            print(\"Looking at time\", time)\n",
    "        if time > 10000000:\n",
    "            break\n",
    "        \n",
    "    return time\n",
    "\n",
    "sneak_past_firewall_2(puzzle_input)"
   ]
  },
  {
   "cell_type": "code",
   "execution_count": null,
   "metadata": {},
   "outputs": [],
   "source": []
  }
 ],
 "metadata": {
  "kernelspec": {
   "display_name": "Python 3",
   "language": "python",
   "name": "python3"
  },
  "language_info": {
   "codemirror_mode": {
    "name": "ipython",
    "version": 3
   },
   "file_extension": ".py",
   "mimetype": "text/x-python",
   "name": "python",
   "nbconvert_exporter": "python",
   "pygments_lexer": "ipython3",
   "version": "3.6.3"
  }
 },
 "nbformat": 4,
 "nbformat_minor": 2
}

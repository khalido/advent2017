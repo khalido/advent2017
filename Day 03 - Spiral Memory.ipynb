{
 "cells": [
  {
   "cell_type": "markdown",
   "metadata": {},
   "source": [
    "# --- Day 3: Spiral Memory ---\n",
    "\n",
    "You come across an experimental new kind of memory stored on an infinite two-dimensional grid.\n",
    "\n",
    "Each square on the grid is allocated in a spiral pattern starting at a location marked 1 and then counting up while spiraling outward. For example, the first few squares are allocated like this:\n",
    "\n",
    "```\n",
    "17  16  15  14  13\n",
    "18   5   4   3  12\n",
    "19   6   1   2  11\n",
    "20   7   8   9  10\n",
    "21  22  23---> ...\n",
    "```\n",
    "\n",
    "While this is very space-efficient (no squares are skipped), requested data must be carried back to square 1 (the location of the only access port for this memory system) by programs that can only move up, down, left, or right. They always take the shortest path: the Manhattan Distance between the location of the data and square 1.\n",
    "\n",
    "For example:\n",
    "\n",
    "Data from square 1 is carried 0 steps, since it's at the access port.\n",
    "Data from square 12 is carried 3 steps, such as: down, left, left.\n",
    "Data from square 23 is carried only 2 steps: up twice.\n",
    "Data from square 1024 must be carried 31 steps.\n",
    "How many steps are required to carry the data from the square identified in your puzzle input all the way to the access port?\n",
    "\n",
    "Your puzzle input is `312051`."
   ]
  },
  {
   "cell_type": "markdown",
   "metadata": {},
   "source": [
    "First, I want to visualize how the data is stored. so the necessary imports:"
   ]
  },
  {
   "cell_type": "code",
   "execution_count": 1,
   "metadata": {},
   "outputs": [],
   "source": [
    "# the viz stuff\n",
    "%matplotlib inline\n",
    "import matplotlib.pyplot as plt # mpl is the base of all python plotting angst\n",
    "import seaborn as sns # put some trainer wheels & lipstick on mpl\n",
    "\n",
    "# cause data\n",
    "import numpy as np # crunch them numbers"
   ]
  },
  {
   "cell_type": "markdown",
   "metadata": {},
   "source": [
    "From eyeballing the data square, it makes sense to only deal with odd sized squares, so everytime we make the next size square we start with the bottom right corner:"
   ]
  },
  {
   "cell_type": "code",
   "execution_count": 2,
   "metadata": {},
   "outputs": [
    {
     "data": {
      "text/plain": [
       "[1, 3, 3, 3, 3, 3, 3, 3, 3, 5, 5, 7]"
      ]
     },
     "execution_count": 2,
     "metadata": {},
     "output_type": "execute_result"
    }
   ],
   "source": [
    "def find_square_size(n):\n",
    "    '''given a number n, requrn the side length of the odd square it fits in'''\n",
    "    \n",
    "    # get square root and round up\n",
    "    num = int(np.ceil(np.sqrt(n))) \n",
    "    \n",
    "    # make sure the square we're ruturning is a odd square\n",
    "    while num % 2 == 0:\n",
    "        num += 1        \n",
    "    return num\n",
    "\n",
    "[find_square_size(n) for n in [1,2,3,4,5,6,7,8,9,10,11,49]]"
   ]
  },
  {
   "cell_type": "code",
   "execution_count": 3,
   "metadata": {},
   "outputs": [
    {
     "name": "stdout",
     "output_type": "stream",
     "text": [
      "nums in square:  [1, 2, 3, 4, 5, 6, 7, 8, 9]\n"
     ]
    }
   ],
   "source": [
    "sq = 9\n",
    "sq_length = find_square_size(sq)\n",
    "mid = sq_length // 2\n",
    "\n",
    "sq_nums = [num for num in range(1, sq+1)]\n",
    "print(\"nums in square: \", sq_nums)"
   ]
  },
  {
   "cell_type": "markdown",
   "metadata": {},
   "source": [
    "Now, lets get the range of x and y values:"
   ]
  },
  {
   "cell_type": "code",
   "execution_count": 4,
   "metadata": {},
   "outputs": [
    {
     "data": {
      "text/plain": [
       "(array([-1,  0,  1]), array([-1,  0,  1]))"
      ]
     },
     "execution_count": 4,
     "metadata": {},
     "output_type": "execute_result"
    }
   ],
   "source": [
    "x = np.arange(-mid, mid+1)\n",
    "y = np.arange(-mid, mid+1)\n",
    "x, y"
   ]
  },
  {
   "cell_type": "markdown",
   "metadata": {},
   "source": [
    "This gives u the range of x and y for a given square, now to get the coordinate space:"
   ]
  },
  {
   "cell_type": "code",
   "execution_count": 5,
   "metadata": {},
   "outputs": [
    {
     "data": {
      "text/plain": [
       "(array([[-1,  0,  1],\n",
       "        [-1,  0,  1],\n",
       "        [-1,  0,  1]]), array([[-1, -1, -1],\n",
       "        [ 0,  0,  0],\n",
       "        [ 1,  1,  1]]))"
      ]
     },
     "execution_count": 5,
     "metadata": {},
     "output_type": "execute_result"
    }
   ],
   "source": [
    "xx, yy = np.meshgrid(x, y)\n",
    "xx, yy"
   ]
  },
  {
   "cell_type": "markdown",
   "metadata": {},
   "source": [
    "So we can eyeball this:"
   ]
  },
  {
   "cell_type": "code",
   "execution_count": 7,
   "metadata": {},
   "outputs": [
    {
     "data": {
      "image/png": "[encoded data removed]",
      "text/plain": [
       "<matplotlib.figure.Figure at 0x1a10af3b38>"
      ]
     },
     "metadata": {},
     "output_type": "display_data"
    }
   ],
   "source": [
    "plt.plot(xx,yy, marker=\"o\", linestyle=\"none\");"
   ]
  },
  {
   "cell_type": "code",
   "execution_count": 8,
   "metadata": {},
   "outputs": [
    {
     "data": {
      "text/plain": [
       "[(-1, -1), (0, -1), (1, -1), (-1, 0), (0, 0), (1, 0), (-1, 1), (0, 1), (1, 1)]"
      ]
     },
     "execution_count": 8,
     "metadata": {},
     "output_type": "execute_result"
    }
   ],
   "source": [
    "# to get all the coordinate pairs\n",
    "[coordinates for coordinates in zip(xx.flatten(), yy.flatten())]"
   ]
  },
  {
   "cell_type": "markdown",
   "metadata": {},
   "source": [
    "So I have the coordinate space for a given square of numbers, now I need to arrange the numbers like:\n",
    "\n",
    "```\n",
    "17  16  15  14  13\n",
    "18   5   4   3  12\n",
    "19   6   1   2  11\n",
    "20   7   8   9  10\n",
    "21  22  23---> ...\n",
    "```"
   ]
  },
  {
   "cell_type": "code",
   "execution_count": 17,
   "metadata": {},
   "outputs": [
    {
     "data": {
      "text/plain": [
       "array([[1, 2, 3],\n",
       "       [4, 5, 6],\n",
       "       [7, 8, 9]])"
      ]
     },
     "execution_count": 17,
     "metadata": {},
     "output_type": "execute_result"
    }
   ],
   "source": [
    "sq_size = 9\n",
    "length = np.sqrt(sq_size)\n",
    "np.arange(1,sq_size+1).reshape(sq_size)"
   ]
  },
  {
   "cell_type": "code",
   "execution_count": 9,
   "metadata": {},
   "outputs": [
    {
     "name": "stdout",
     "output_type": "stream",
     "text": [
      "[[ 0.  0.  0.]\n",
      " [ 0.  1.  0.]\n",
      " [ 0.  0.  0.]]\n"
     ]
    }
   ],
   "source": [
    "p = np.zeros((sq_length, sq_length))\n",
    "p[1,1] = 1\n",
    "print(p)"
   ]
  },
  {
   "cell_type": "code",
   "execution_count": null,
   "metadata": {},
   "outputs": [],
   "source": [
    "vec = {\"right\": [1,0], \n",
    "       \"left\": [-1,0],\n",
    "       \"up\": [0,1],\n",
    "       \"down\": [0,-1]}\n",
    "\n",
    "def get_coordinates(n):\n",
    "    '''returns the coordinates for a number n'''\n",
    "    fits_in = find_square_size(n)\n",
    "    start_square = fits_in - 2\n",
    "    mid = (start_square // 2)\n",
    "    assert mid >= 1\n",
    "    \n",
    "    x = mid+1 # starts one square to the right \n",
    "    y = -mid\n",
    "    \n",
    "    print(f\"{start_square}, {mid}, {x}, {y}\")\n",
    "    \n",
    "    # the first move always increases the size of the square\n",
    "    current_num = start_square*start_square + 1\n",
    "    mid += 1\n",
    "    direction = \"up\"\n",
    "    \n",
    "    print(f\"starting num: {current_num}, start x:{x}, y:{y}, end num: {n}\")\n",
    "    increased_mid = True\n",
    "    \n",
    "    while current_num < n:\n",
    "        if direction == \"up\":\n",
    "            if abs(y) < mid:\n",
    "                y += 1\n",
    "                current_num += 1\n",
    "                continue\n",
    "            else:\n",
    "                direction = \"left\"\n",
    "        \n",
    "        if direction == \"down\":\n",
    "            if abs(y) < mid:\n",
    "                y = y - 1\n",
    "                current_num += 1\n",
    "                continue\n",
    "            else:\n",
    "                direction = \"right\"\n",
    "                increased_mid = False\n",
    "        \n",
    "        # if we hit the limit moving right, we increase the size of the square\n",
    "        # and change the direction to up\n",
    "        if direction == \"right\":    \n",
    "            if x == mid:\n",
    "                if increased_mid == False:\n",
    "                    x += 1\n",
    "                    direction = \"up\"\n",
    "                    mid += 1\n",
    "                    increased_mid = True\n",
    "            elif x < mid:\n",
    "                x += 1\n",
    "            else:\n",
    "                print(\"something went wrong here\")\n",
    "            current_num += 1\n",
    "            \n",
    "        if direction == \"left\":\n",
    "            if abs(x) < mid:\n",
    "                x -= 1\n",
    "                current_num += 1\n",
    "            else:\n",
    "                direction = \"down\"\n",
    "            \n",
    "        print(f\"updated: {current_num}, {x}, {y}\")\n",
    "    \n",
    "    return x, y\n",
    "\n",
    "#print(f\"-- 11: {get_coordinates(11)} should be [2,0]\")\n",
    "print(f\"-- 14: {get_coordinates(14)} should be [1,2]\")\n",
    "#print(f\"-- 19: {get_coordinates(19)} should be [-2,0]\")\n",
    "#print(f\"-- 23: {get_coordinates(23)} should be [0,-2]\")"
   ]
  },
  {
   "cell_type": "code",
   "execution_count": null,
   "metadata": {},
   "outputs": [],
   "source": [
    "def data_steps(n):\n",
    "    '''returns the number of steps from data square n to the input port'''\n",
    "    return n\n",
    "\n",
    "data_steps(1)"
   ]
  },
  {
   "cell_type": "code",
   "execution_count": null,
   "metadata": {},
   "outputs": [],
   "source": [
    "tests = [(1, 0), \n",
    "         (12, 3), \n",
    "         (23, 2), \n",
    "         (1024, 31), \n",
    "         ]\n",
    "for data_square, steps in tests:\n",
    "    assert data_steps(data_square) == steps"
   ]
  },
  {
   "cell_type": "code",
   "execution_count": null,
   "metadata": {},
   "outputs": [],
   "source": [
    "puzzle_input = 312051\n",
    "data_steps(puzzle_input)"
   ]
  },
  {
   "cell_type": "code",
   "execution_count": null,
   "metadata": {},
   "outputs": [],
   "source": []
  }
 ],
 "metadata": {
  "kernelspec": {
   "display_name": "Python 3",
   "language": "python",
   "name": "python3"
  },
  "language_info": {
   "codemirror_mode": {
    "name": "ipython",
    "version": 3
   },
   "file_extension": ".py",
   "mimetype": "text/x-python",
   "name": "python",
   "nbconvert_exporter": "python",
   "pygments_lexer": "ipython3",
   "version": "3.6.3"
  }
 },
 "nbformat": 4,
 "nbformat_minor": 2
}

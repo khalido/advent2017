{
 "cells": [
  {
   "cell_type": "code",
   "execution_count": 54,
   "metadata": {},
   "outputs": [],
   "source": [
    "import utils\n",
    "import re\n",
    "import numpy as np\n",
    "from collections import namedtuple\n",
    "from dataclasses import dataclass\n",
    "from itertools import cycle\n",
    "\n",
    "import matplotlib.pyplot as plt\n",
    "%matplotlib inline\n",
    "from IPython.display import display, clear_output\n",
    "from time import sleep"
   ]
  },
  {
   "cell_type": "markdown",
   "metadata": {},
   "source": [
    "# Day 13: Mine Cart Madness\n",
    "\n",
    "we have carts on a track, which is basically a connected maze, facing a direction, and every timestamp they move one spot, and at intersections they cycle though turning left, straight, right.\n",
    "\n",
    "Carts move from top to bottom, left to right - so in a grid we take the first row, then scan though it left to right, moving carts as we find them.\n",
    "\n",
    "Part 1 asks for the location of the first crash."
   ]
  },
  {
   "cell_type": "code",
   "execution_count": 55,
   "metadata": {},
   "outputs": [],
   "source": [
    "turns =  [\"left\", \"straight\", \"right\"]\n",
    "directions_txt = [\"up\", \"down\", \"left\", \"right\"]\n",
    "directions = list(\"^v<>\")"
   ]
  },
  {
   "cell_type": "code",
   "execution_count": 56,
   "metadata": {},
   "outputs": [
    {
     "data": {
      "text/plain": [
       "{'^': 'up', 'v': 'down', '<': 'left', '>': 'right'}"
      ]
     },
     "execution_count": 56,
     "metadata": {},
     "output_type": "execute_result"
    }
   ],
   "source": [
    "{i: txt for i, txt in zip(directions, directions_txt)}"
   ]
  },
  {
   "cell_type": "markdown",
   "metadata": {},
   "source": [
    "So we have multiple carts with a x,y position on the track, along with the direction they are facing and where they will next turn - I'm representing this info in a Cart class:"
   ]
  },
  {
   "cell_type": "code",
   "execution_count": 57,
   "metadata": {},
   "outputs": [],
   "source": [
    "@dataclass\n",
    "class Cart:\n",
    "    x: int\n",
    "    y: int\n",
    "    facing: str\n",
    "    turn = cycle(turns)"
   ]
  },
  {
   "cell_type": "code",
   "execution_count": 60,
   "metadata": {},
   "outputs": [
    {
     "data": {
      "text/plain": [
       "['',\n",
       " '/->-\\\\        ',\n",
       " '|   |  /----| /-+--+-\\\\  |',\n",
       " '| | |  | v  |',\n",
       " '\\\\-+-/  \\\\-+--/',\n",
       " '  \\\\------/   ']"
      ]
     },
     "execution_count": 60,
     "metadata": {},
     "output_type": "execute_result"
    }
   ],
   "source": [
    "test_inp = \"\"\"\n",
    "/->-\\        \n",
    "|   |  /----\\\n",
    "| /-+--+-\\  |\n",
    "| | |  | v  |\n",
    "\\-+-/  \\-+--/\n",
    "  \\------/   \"\"\".splitlines()\n",
    "\n",
    "inp = utils.get_input(13).splitlines()\n",
    "\n",
    "test_inp"
   ]
  },
  {
   "cell_type": "code",
   "execution_count": 65,
   "metadata": {},
   "outputs": [
    {
     "data": {
      "text/plain": [
       "[[],\n",
       " ['/', '-', '>', '-', '\\\\', ' ', ' ', ' ', ' ', ' ', ' ', ' ', ' '],\n",
       " ['|',\n",
       "  ' ',\n",
       "  ' ',\n",
       "  ' ',\n",
       "  '|',\n",
       "  ' ',\n",
       "  ' ',\n",
       "  '/',\n",
       "  '-',\n",
       "  '-',\n",
       "  '-',\n",
       "  '-',\n",
       "  '|',\n",
       "  ' ',\n",
       "  '/',\n",
       "  '-',\n",
       "  '+',\n",
       "  '-',\n",
       "  '-',\n",
       "  '+',\n",
       "  '-',\n",
       "  '\\\\',\n",
       "  ' ',\n",
       "  ' ',\n",
       "  '|'],\n",
       " ['|', ' ', '|', ' ', '|', ' ', ' ', '|', ' ', 'v', ' ', ' ', '|'],\n",
       " ['\\\\', '-', '+', '-', '/', ' ', ' ', '\\\\', '-', '+', '-', '-', '/'],\n",
       " [' ', ' ', '\\\\', '-', '-', '-', '-', '-', '-', '/', ' ', ' ', ' ']]"
      ]
     },
     "execution_count": 65,
     "metadata": {},
     "output_type": "execute_result"
    }
   ],
   "source": [
    "def process_input(inp=test_inp):\n",
    "    grid = []\n",
    "    for row in inp:\n",
    "        grid.append([c for c in row])\n",
    "        \n",
    "    return grid\n",
    "\n",
    "process_input()"
   ]
  },
  {
   "cell_type": "code",
   "execution_count": null,
   "metadata": {},
   "outputs": [],
   "source": []
  }
 ],
 "metadata": {
  "kernelspec": {
   "display_name": "Python [default]",
   "language": "python",
   "name": "python3"
  },
  "language_info": {
   "codemirror_mode": {
    "name": "ipython",
    "version": 3
   },
   "file_extension": ".py",
   "mimetype": "text/x-python",
   "name": "python",
   "nbconvert_exporter": "python",
   "pygments_lexer": "ipython3",
   "version": "3.7.0"
  }
 },
 "nbformat": 4,
 "nbformat_minor": 2
}

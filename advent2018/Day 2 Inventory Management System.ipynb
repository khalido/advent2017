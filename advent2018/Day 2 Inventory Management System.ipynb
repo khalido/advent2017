{
 "cells": [
  {
   "cell_type": "code",
   "execution_count": 72,
   "metadata": {},
   "outputs": [],
   "source": [
    "import utils\n",
    "from tqdm import tnrange, tqdm_notebook\n",
    "from collections import Counter\n",
    "from difflib import SequenceMatcher"
   ]
  },
  {
   "cell_type": "markdown",
   "metadata": {},
   "source": [
    "# Day 2 Inventory Management System\n",
    "\n",
    "Look at the list of boxes and make two counts:\n",
    "\n",
    "- names containing exactly 2 of the same letter\n",
    "- names containing exactly 3 of the same letter "
   ]
  },
  {
   "cell_type": "code",
   "execution_count": 5,
   "metadata": {},
   "outputs": [
    {
     "data": {
      "text/plain": [
       "['zihrtxagncfpbsnolxydujjmqv',\n",
       " 'zihrtxagwcfpbsoolnydukjyqv',\n",
       " 'aihrtxagwcfpbsnoleybmkjmqv',\n",
       " 'zihrtxagwcfpbsnolgyduajmrv',\n",
       " 'zihrtxgmwcfpbunoleydukjmqv']"
      ]
     },
     "execution_count": 5,
     "metadata": {},
     "output_type": "execute_result"
    }
   ],
   "source": [
    "inp = utils.get_input(2).splitlines()\n",
    "inp[:5]"
   ]
  },
  {
   "cell_type": "markdown",
   "metadata": {},
   "source": [
    "I'm using counter to count characters here, since its built in to Python3 - though its quite likely not the fastest way to do this:"
   ]
  },
  {
   "cell_type": "code",
   "execution_count": 74,
   "metadata": {},
   "outputs": [
    {
     "name": "stdout",
     "output_type": "stream",
     "text": [
      "checksum is 8892\n",
      "CPU times: user 3.12 ms, sys: 0 ns, total: 3.12 ms\n",
      "Wall time: 3.14 ms\n"
     ]
    }
   ],
   "source": [
    "%%time\n",
    "\n",
    "two = 0\n",
    "three = 0\n",
    "\n",
    "for box in inp:\n",
    "    count = Counter(box)\n",
    "    if len([k for k,v in count.items() if v == 2]) > 0:\n",
    "        two += 1\n",
    "    \n",
    "    if len([k for k,v in count.items() if v == 3]) > 0:\n",
    "        three += 1\n",
    "    \n",
    "print(f\"checksum is {two*three}\")"
   ]
  },
  {
   "cell_type": "markdown",
   "metadata": {},
   "source": [
    "# Part 2\n",
    "\n",
    "The right box names only differ by one letter - all the letters are the same in the same positions, except for one letter. So lets scan our input to find the two similar boxes.\n",
    "\n",
    "I was going to write my own funtion, but turns out python 3 has a built in [diff library](https://docs.python.org/3/library/difflib.html) with something called a [SequenceMatcher](https://docs.python.org/3/library/difflib.html#difflib.SequenceMatcher) which sounds like it was designed for this problem, so lets take a look at it.\n",
    "\n",
    "First up, since sequencematcher gives us a ration of the similarity, lets see what ratio we are looking for:"
   ]
  },
  {
   "cell_type": "code",
   "execution_count": 59,
   "metadata": {},
   "outputs": [
    {
     "name": "stdout",
     "output_type": "stream",
     "text": [
      "26\n"
     ]
    },
    {
     "data": {
      "text/plain": [
       "[]"
      ]
     },
     "execution_count": 59,
     "metadata": {},
     "output_type": "execute_result"
    }
   ],
   "source": [
    "print(len(inp[0]))\n",
    "[len(name) for name in inp if len(name)!=len(inp[0])]"
   ]
  },
  {
   "cell_type": "markdown",
   "metadata": {},
   "source": [
    "So every name is 26 letters long, so we need to find the two names with a matching ratio of 25/26:"
   ]
  },
  {
   "cell_type": "code",
   "execution_count": 77,
   "metadata": {},
   "outputs": [
    {
     "name": "stdout",
     "output_type": "stream",
     "text": [
      "We're looking for this ratio: 0.9615384615384616\n"
     ]
    },
    {
     "data": {
      "application/vnd.jupyter.widget-view+json": {
       "model_id": "38060287248a42b990b5fc5aa5fb54cc",
       "version_major": 2,
       "version_minor": 0
      },
      "text/plain": [
       "HBox(children=(IntProgress(value=0, max=250), HTML(value='')))"
      ]
     },
     "metadata": {},
     "output_type": "display_data"
    },
    {
     "name": "stdout",
     "output_type": "stream",
     "text": [
      "found zihwtxagsifpbsnwleydukjmqv, zihwtxagwifpbsnwleydukjmqv\n",
      "\n"
     ]
    }
   ],
   "source": [
    "def find_similar(ratio=25/26):\n",
    "    print(f\"We're looking for this ratio: {ratio}\")\n",
    "    for i, name in enumerate(tqdm_notebook(inp)):\n",
    "        s = SequenceMatcher(a=name, b=inp[i])\n",
    "\n",
    "        for name2 in inp[i+1:]:\n",
    "            s.set_seq2(name2)\n",
    "            if s.ratio() == ratio:\n",
    "                print(f\"found {name}, {name2}\")\n",
    "                return(name, name2)\n",
    "            \n",
    "n1, n2 = find_similar()"
   ]
  },
  {
   "cell_type": "markdown",
   "metadata": {},
   "source": [
    "Now to find the common letters n/w the two names:"
   ]
  },
  {
   "cell_type": "code",
   "execution_count": 78,
   "metadata": {},
   "outputs": [
    {
     "data": {
      "text/plain": [
       "'zihwtxagifpbsnwleydukjmqv'"
      ]
     },
     "execution_count": 78,
     "metadata": {},
     "output_type": "execute_result"
    }
   ],
   "source": [
    "n = \"\"\n",
    "for c1, c2 in zip(n1,n2):\n",
    "    if c1 == c2:\n",
    "        n += c1\n",
    "n"
   ]
  }
 ],
 "metadata": {
  "kernelspec": {
   "display_name": "Python [default]",
   "language": "python",
   "name": "python3"
  },
  "language_info": {
   "codemirror_mode": {
    "name": "ipython",
    "version": 3
   },
   "file_extension": ".py",
   "mimetype": "text/x-python",
   "name": "python",
   "nbconvert_exporter": "python",
   "pygments_lexer": "ipython3",
   "version": "3.7.0"
  }
 },
 "nbformat": 4,
 "nbformat_minor": 2
}

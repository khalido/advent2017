{
 "cells": [
  {
   "cell_type": "code",
   "execution_count": 46,
   "metadata": {},
   "outputs": [],
   "source": [
    "import utils\n",
    "import numpy as np\n",
    "\n",
    "from typing import NamedTuple\n",
    "from dataclasses import dataclass\n",
    "from enum import Enum\n",
    "#import itertools"
   ]
  },
  {
   "cell_type": "markdown",
   "metadata": {},
   "source": [
    "# Day 15: Beverage Bandits\n",
    "\n",
    "https://adventofcode.com/2018/day/15"
   ]
  },
  {
   "cell_type": "code",
   "execution_count": 98,
   "metadata": {},
   "outputs": [
    {
     "name": "stdout",
     "output_type": "stream",
     "text": [
      "################################\n",
      "#################..#############\n",
      "##########..###G..##############\n",
      "#######...G..#G..#...###..######\n",
      "#######....###......###...######\n",
      "#####G..G..###........#...G..###\n",
      "#####G......##.....G....G....###\n",
      "###....G....###..............#.#\n",
      "###.G........#.G...............#\n",
      "###............G............#..#\n",
      "###G.....G##..................##\n",
      "###.......#.E...G...........####\n",
      "##..........G.#####............#\n",
      "#####........#######...E...E...#\n",
      "#####.E.....#########.....#.#.##\n",
      "##.#...G....#########.###.#.#.##\n",
      "#...........#########.##########\n",
      "###......G..#########.##########\n",
      "##..........#########.##########\n",
      "#....##.G....#######.....#######\n",
      "###E.##....E..#####..E....######\n",
      "#######.#................#######\n",
      "########......#E.....###########\n",
      "#########......E.....###########\n",
      "##########.........E############\n",
      "##########.........#############\n",
      "##########..###..###############\n",
      "##########..###..###############\n",
      "###########..###...#############\n",
      "##########...#####....##########\n",
      "###########..########...########\n",
      "################################\n",
      "\n"
     ]
    }
   ],
   "source": [
    "inp = utils.get_input(15, 2018)\n",
    "print(inp)\n",
    "grid = np.array([[i for i in row] for row in inp.splitlines()])"
   ]
  },
  {
   "cell_type": "code",
   "execution_count": 99,
   "metadata": {},
   "outputs": [
    {
     "data": {
      "text/plain": [
       "Unit(x=0, y=1, t='E', hp=200, power=3, alive=True)"
      ]
     },
     "execution_count": 99,
     "metadata": {},
     "output_type": "execute_result"
    }
   ],
   "source": [
    "@dataclass\n",
    "class Unit:\n",
    "    x: int = None\n",
    "    y: int = None\n",
    "    t: str = None\n",
    "    hp: int = 200\n",
    "    power: int = 3\n",
    "    alive: bool = True\n",
    "    \n",
    "    def neighbours(self):\n",
    "        x = self.x\n",
    "        y = self.y\n",
    "        return [(x-1, y), (x+1, y), (x, y-1), (x, y+1)]\n",
    "\n",
    "\n",
    "Unit(0,1, \"E\")"
   ]
  },
  {
   "cell_type": "code",
   "execution_count": 123,
   "metadata": {},
   "outputs": [
    {
     "data": {
      "text/plain": [
       "array([['#', '#', '#', ..., '#', '#', '#'],\n",
       "       ['#', '#', '#', ..., '#', '#', '#'],\n",
       "       ['#', '#', '#', ..., '#', '#', '#'],\n",
       "       ...,\n",
       "       ['#', '#', '#', ..., '#', '#', '#'],\n",
       "       ['#', '#', '#', ..., '#', '#', '#'],\n",
       "       ['#', '#', '#', ..., '#', '#', '#']], dtype='<U1')"
      ]
     },
     "execution_count": 123,
     "metadata": {},
     "output_type": "execute_result"
    }
   ],
   "source": [
    "grid"
   ]
  },
  {
   "cell_type": "code",
   "execution_count": 122,
   "metadata": {},
   "outputs": [
    {
     "name": "stdout",
     "output_type": "stream",
     "text": [
      "14 2\n",
      "16 2\n",
      "15 1\n",
      "15 3\n"
     ]
    }
   ],
   "source": [
    "for unit in units:\n",
    "    for (x,y) in unit.neighbours():\n",
    "        "
   ]
  },
  {
   "cell_type": "code",
   "execution_count": 124,
   "metadata": {},
   "outputs": [
    {
     "data": {
      "text/plain": [
       "[Unit(x=15, y=2, t='G', hp=200, power=3, alive=True),\n",
       " Unit(x=10, y=3, t='G', hp=200, power=3, alive=True),\n",
       " Unit(x=14, y=3, t='G', hp=200, power=3, alive=True),\n",
       " Unit(x=5, y=5, t='G', hp=200, power=3, alive=True),\n",
       " Unit(x=8, y=5, t='G', hp=200, power=3, alive=True)]"
      ]
     },
     "execution_count": 124,
     "metadata": {},
     "output_type": "execute_result"
    }
   ],
   "source": [
    "def read_units():\n",
    "    units = []\n",
    "\n",
    "    for x in range(grid.shape[0]):\n",
    "        for y in range(grid.shape[1]):\n",
    "            if grid[y,x] in \"GE\":\n",
    "                units.append(Unit(x,y, grid[y,x]))\n",
    "    \n",
    "    units.sort(key = lambda x: (x.y, x.x))\n",
    "    return units\n",
    "\n",
    "units = read_units()\n",
    "units[:5]"
   ]
  },
  {
   "cell_type": "code",
   "execution_count": 134,
   "metadata": {},
   "outputs": [
    {
     "data": {
      "text/plain": [
       "[Unit(x=12, y=11, t='E', hp=200, power=3, alive=True),\n",
       " Unit(x=23, y=13, t='E', hp=200, power=3, alive=True),\n",
       " Unit(x=27, y=13, t='E', hp=200, power=3, alive=True),\n",
       " Unit(x=6, y=14, t='E', hp=200, power=3, alive=True),\n",
       " Unit(x=3, y=20, t='E', hp=200, power=3, alive=True),\n",
       " Unit(x=11, y=20, t='E', hp=200, power=3, alive=True),\n",
       " Unit(x=21, y=20, t='E', hp=200, power=3, alive=True),\n",
       " Unit(x=15, y=22, t='E', hp=200, power=3, alive=True),\n",
       " Unit(x=15, y=23, t='E', hp=200, power=3, alive=True),\n",
       " Unit(x=19, y=24, t='E', hp=200, power=3, alive=True)]"
      ]
     },
     "execution_count": 134,
     "metadata": {},
     "output_type": "execute_result"
    }
   ],
   "source": [
    "def get_targets(unit):\n",
    "    return [u for u in units if u.t != unit.t and u.alive]\n",
    "    \n",
    "get_targets(units[0])"
   ]
  },
  {
   "cell_type": "code",
   "execution_count": 142,
   "metadata": {},
   "outputs": [
    {
     "name": "stdout",
     "output_type": "stream",
     "text": [
      "Unit(x=15, y=2, t='G', hp=200, power=3, alive=True)\n"
     ]
    },
    {
     "data": {
      "text/plain": [
       "[(14, 2), (16, 2), (15, 1), (15, 3)]"
      ]
     },
     "execution_count": 142,
     "metadata": {},
     "output_type": "execute_result"
    }
   ],
   "source": [
    "unit = units[0]\n",
    "print(unit)\n",
    "unit.neighbours()"
   ]
  },
  {
   "cell_type": "code",
   "execution_count": 141,
   "metadata": {},
   "outputs": [
    {
     "name": "stdout",
     "output_type": "stream",
     "text": [
      "[(12, 11), (23, 13), (27, 13), (6, 14), (3, 20), (11, 20), (21, 20), (15, 22), (15, 23), (19, 24)]\n"
     ]
    },
    {
     "data": {
      "text/plain": [
       "False"
      ]
     },
     "execution_count": 141,
     "metadata": {},
     "output_type": "execute_result"
    }
   ],
   "source": [
    "def in_range(unit):\n",
    "    locs = [(u.x,u.y) for u in get_targets(unit)]      \n",
    "    print(locs)\n",
    "    for loc in locs:\n",
    "        if loc in unit.neighbours():\n",
    "            return True\n",
    "    return False\n",
    "    \n",
    "in_range(units[0])"
   ]
  },
  {
   "cell_type": "code",
   "execution_count": null,
   "metadata": {},
   "outputs": [],
   "source": []
  }
 ],
 "metadata": {
  "kernelspec": {
   "display_name": "Python 3",
   "language": "python",
   "name": "python3"
  },
  "language_info": {
   "codemirror_mode": {
    "name": "ipython",
    "version": 3
   },
   "file_extension": ".py",
   "mimetype": "text/x-python",
   "name": "python",
   "nbconvert_exporter": "python",
   "pygments_lexer": "ipython3",
   "version": "3.7.1"
  }
 },
 "nbformat": 4,
 "nbformat_minor": 2
}

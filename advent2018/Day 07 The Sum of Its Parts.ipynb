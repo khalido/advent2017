{
 "cells": [
  {
   "cell_type": "code",
   "execution_count": 21,
   "metadata": {},
   "outputs": [],
   "source": [
    "import utils\n",
    "import numpy as np\n",
    "from collections import defaultdict\n",
    "import matplotlib.pyplot as plt\n",
    "%matplotlib inline"
   ]
  },
  {
   "cell_type": "markdown",
   "metadata": {},
   "source": [
    "# Day 7 The Sum of Its Parts"
   ]
  },
  {
   "cell_type": "code",
   "execution_count": 156,
   "metadata": {},
   "outputs": [
    {
     "data": {
      "text/plain": [
       "({'A', 'B', 'C', 'D', 'E', 'F'},\n",
       " defaultdict(set,\n",
       "             {'A': {'C'},\n",
       "              'F': {'C'},\n",
       "              'B': {'A'},\n",
       "              'D': {'A'},\n",
       "              'E': {'B', 'D', 'F'}}),\n",
       " [])"
      ]
     },
     "execution_count": 156,
     "metadata": {},
     "output_type": "execute_result"
    }
   ],
   "source": [
    "test_inp = \"\"\"Step C must be finished before step A can begin.\n",
    "Step C must be finished before step F can begin.\n",
    "Step A must be finished before step B can begin.\n",
    "Step A must be finished before step D can begin.\n",
    "Step B must be finished before step E can begin.\n",
    "Step D must be finished before step E can begin.\n",
    "Step F must be finished before step E can begin.\"\"\".strip().splitlines()\n",
    "\n",
    "def parse_input(inp=test_inp):\n",
    "    all_steps = set() # set of all steps\n",
    "    graph = defaultdict(set)\n",
    "    steps_done = []\n",
    "\n",
    "    for line in inp:\n",
    "        line = line.split(\" \")\n",
    "        a = line[1]\n",
    "        b = line[7]\n",
    "        all_steps.add(a)\n",
    "        all_steps.add(b)\n",
    "        graph[b].add(a)\n",
    "        \n",
    "    return all_steps, graph, steps_done\n",
    "    \n",
    "all_steps, graph, steps_done = parse_input()\n",
    "all_steps, graph, steps_done"
   ]
  },
  {
   "cell_type": "markdown",
   "metadata": {},
   "source": [
    "The starting step should be the first node which doesn't have any requirements:"
   ]
  },
  {
   "cell_type": "code",
   "execution_count": 157,
   "metadata": {},
   "outputs": [
    {
     "data": {
      "text/plain": [
       "['C']"
      ]
     },
     "execution_count": 157,
     "metadata": {},
     "output_type": "execute_result"
    }
   ],
   "source": [
    "def find_starting_steps():\n",
    "    start = []\n",
    "    for step in all_steps:\n",
    "        if step not in graph.keys():\n",
    "            start.append(step)\n",
    "    return sorted(start)\n",
    "\n",
    "steps_done += find_starting_steps()[0]\n",
    "steps_done"
   ]
  },
  {
   "cell_type": "code",
   "execution_count": 159,
   "metadata": {},
   "outputs": [
    {
     "data": {
      "text/plain": [
       "'A'"
      ]
     },
     "execution_count": 159,
     "metadata": {},
     "output_type": "execute_result"
    }
   ],
   "source": [
    "def steps_available():\n",
    "    \"\"\"returns steps available\"\"\"\n",
    "    ans = []\n",
    "    \n",
    "    done = set(steps_done)\n",
    "    \n",
    "    for node in list(graph.keys()) + find_starting_steps():\n",
    "        if node not in done:\n",
    "            if graph[node].issubset(done):\n",
    "                ans.append(node)\n",
    "    return sorted(ans)\n",
    "    \n",
    "steps_available()"
   ]
  },
  {
   "cell_type": "code",
   "execution_count": 163,
   "metadata": {},
   "outputs": [
    {
     "data": {
      "text/plain": [
       "'BCADPVTJFZNRWXHEKSQLUYGMIO'"
      ]
     },
     "execution_count": 163,
     "metadata": {},
     "output_type": "execute_result"
    }
   ],
   "source": [
    "while len(steps_done) < len(all_steps):\n",
    "    next_step = steps_available()[0]\n",
    "    steps_done.append(next_step)\n",
    "    \n",
    "\"\".join(steps_done)"
   ]
  },
  {
   "cell_type": "code",
   "execution_count": 161,
   "metadata": {},
   "outputs": [
    {
     "data": {
      "text/plain": [
       "['Step C must be finished before step P can begin.',\n",
       " 'Step V must be finished before step Q can begin.',\n",
       " 'Step T must be finished before step X can begin.',\n",
       " 'Step B must be finished before step U can begin.',\n",
       " 'Step Z must be finished before step O can begin.']"
      ]
     },
     "execution_count": 161,
     "metadata": {},
     "output_type": "execute_result"
    }
   ],
   "source": [
    "inp = utils.get_input(7).splitlines()\n",
    "inp[:5]"
   ]
  },
  {
   "cell_type": "code",
   "execution_count": 164,
   "metadata": {},
   "outputs": [
    {
     "data": {
      "text/plain": [
       "'BCADPVTJFZNRWXHEKSQLUYGMIO'"
      ]
     },
     "execution_count": 164,
     "metadata": {},
     "output_type": "execute_result"
    }
   ],
   "source": [
    "all_steps, graph, steps_done = parse_input(inp)\n",
    "steps_done += find_starting_step()\n",
    "\n",
    "while len(steps_done) < len(all_steps):\n",
    "    next_step = steps_available()[0]\n",
    "    #print(next_step)\n",
    "    steps_done.append(next_step)\n",
    "    \n",
    "\"\".join(steps_done)"
   ]
  },
  {
   "cell_type": "markdown",
   "metadata": {},
   "source": [
    "# Part 2\n",
    "\n",
    "Now to time all this, with multiple workers working.\n",
    "\n",
    "To work through each letter takes:"
   ]
  },
  {
   "cell_type": "code",
   "execution_count": 10,
   "metadata": {},
   "outputs": [
    {
     "data": {
      "text/plain": [
       "{'A': 1,\n",
       " 'B': 2,\n",
       " 'C': 3,\n",
       " 'D': 4,\n",
       " 'E': 5,\n",
       " 'F': 6,\n",
       " 'G': 7,\n",
       " 'H': 8,\n",
       " 'I': 9,\n",
       " 'J': 10,\n",
       " 'K': 11,\n",
       " 'L': 12,\n",
       " 'M': 13,\n",
       " 'N': 14,\n",
       " 'O': 15,\n",
       " 'P': 16,\n",
       " 'Q': 17,\n",
       " 'R': 18,\n",
       " 'S': 19,\n",
       " 'T': 20,\n",
       " 'U': 21,\n",
       " 'V': 22,\n",
       " 'W': 23,\n",
       " 'X': 24,\n",
       " 'Y': 25,\n",
       " 'Z': 26}"
      ]
     },
     "execution_count": 10,
     "metadata": {},
     "output_type": "execute_result"
    }
   ],
   "source": [
    "import string\n",
    "a = string.ascii_uppercase\n",
    "alpha = {A: a.index(A) + 1 for A in a}\n",
    "alpha"
   ]
  },
  {
   "cell_type": "code",
   "execution_count": 165,
   "metadata": {},
   "outputs": [
    {
     "data": {
      "text/plain": [
       "'CABDFE'"
      ]
     },
     "execution_count": 165,
     "metadata": {},
     "output_type": "execute_result"
    }
   ],
   "source": [
    "all_steps, graph, steps_done = parse_input()\n",
    "steps_done += find_starting_step()\n",
    "\n",
    "while len(steps_done) < len(all_steps):\n",
    "    next_step = steps_available()[0]\n",
    "    #print(next_step)\n",
    "    steps_done.append(next_step)\n",
    "    \n",
    "\"\".join(steps_done)"
   ]
  },
  {
   "cell_type": "code",
   "execution_count": null,
   "metadata": {},
   "outputs": [],
   "source": []
  }
 ],
 "metadata": {
  "kernelspec": {
   "display_name": "Python [default]",
   "language": "python",
   "name": "python3"
  },
  "language_info": {
   "codemirror_mode": {
    "name": "ipython",
    "version": 3
   },
   "file_extension": ".py",
   "mimetype": "text/x-python",
   "name": "python",
   "nbconvert_exporter": "python",
   "pygments_lexer": "ipython3",
   "version": "3.7.0"
  }
 },
 "nbformat": 4,
 "nbformat_minor": 2
}

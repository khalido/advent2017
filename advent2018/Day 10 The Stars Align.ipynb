{
 "cells": [
  {
   "cell_type": "code",
   "execution_count": 1,
   "metadata": {},
   "outputs": [],
   "source": [
    "import utils\n",
    "import re\n",
    "import numpy as np\n",
    "from collections import namedtuple\n",
    "\n",
    "import matplotlib.pyplot as plt\n",
    "%matplotlib inline\n",
    "from IPython.display import display, clear_output\n",
    "from time import sleep"
   ]
  },
  {
   "cell_type": "markdown",
   "metadata": {},
   "source": [
    "# Day 10 The Stars Align\n",
    "\n",
    "We are tracking positions of points of lights in the sky by recording:\n",
    "\n",
    "- position (pair of nums)\n",
    "- velocity (pair of nums)\n",
    "\n",
    "First up, I'm going to use a namedtuple to record each entry:"
   ]
  },
  {
   "cell_type": "code",
   "execution_count": 2,
   "metadata": {},
   "outputs": [],
   "source": [
    "Light = namedtuple(\"Light\", [\"x\", \"y\", \"xv\", \"yv\"])"
   ]
  },
  {
   "cell_type": "code",
   "execution_count": 13,
   "metadata": {},
   "outputs": [
    {
     "data": {
      "text/plain": [
       "[Light(x=9, y=1, xv=0, yv=2),\n",
       " Light(x=7, y=0, xv=-1, yv=0),\n",
       " Light(x=3, y=-2, xv=-1, yv=1)]"
      ]
     },
     "execution_count": 13,
     "metadata": {},
     "output_type": "execute_result"
    }
   ],
   "source": [
    "test_inp = \"\"\"\n",
    "position=< 9,  1> velocity=< 0,  2>\n",
    "position=< 7,  0> velocity=<-1,  0>\n",
    "position=< 3, -2> velocity=<-1,  1>\n",
    "position=< 6, 10> velocity=<-2, -1>\n",
    "position=< 2, -4> velocity=< 2,  2>\n",
    "position=<-6, 10> velocity=< 2, -2>\n",
    "position=< 1,  8> velocity=< 1, -1>\n",
    "position=< 1,  7> velocity=< 1,  0>\n",
    "position=<-3, 11> velocity=< 1, -2>\n",
    "position=< 7,  6> velocity=<-1, -1>\n",
    "position=<-2,  3> velocity=< 1,  0>\n",
    "position=<-4,  3> velocity=< 2,  0>\n",
    "position=<10, -3> velocity=<-1,  1>\n",
    "position=< 5, 11> velocity=< 1, -2>\n",
    "position=< 4,  7> velocity=< 0, -1>\n",
    "position=< 8, -2> velocity=< 0,  1>\n",
    "position=<15,  0> velocity=<-2,  0>\n",
    "position=< 1,  6> velocity=< 1,  0>\n",
    "position=< 8,  9> velocity=< 0, -1>\n",
    "position=< 3,  3> velocity=<-1,  1>\n",
    "position=< 0,  5> velocity=< 0, -1>\n",
    "position=<-2,  2> velocity=< 2,  0>\n",
    "position=< 5, -2> velocity=< 1,  2>\n",
    "position=< 1,  4> velocity=< 2,  1>\n",
    "position=<-2,  7> velocity=< 2, -2>\n",
    "position=< 3,  6> velocity=<-1, -1>\n",
    "position=< 5,  0> velocity=< 1,  0>\n",
    "position=<-6,  0> velocity=< 2,  0>\n",
    "position=< 5,  9> velocity=< 1, -2>\n",
    "position=<14,  7> velocity=<-2,  0>\n",
    "position=<-3,  6> velocity=< 2, -1>\"\"\"\n",
    "\n",
    "def parse_input(inp=test_inp):\n",
    "    inp = inp.strip().splitlines()\n",
    "    data = []\n",
    "    for entry in inp:\n",
    "        nums = [int(i) for i in re.findall(\"-?[\\d]+\", entry)]\n",
    "        data.append(Light(*nums))\n",
    "        \n",
    "    return data\n",
    "\n",
    "test_lights = parse_input()\n",
    "test_lights[:3]"
   ]
  },
  {
   "cell_type": "markdown",
   "metadata": {},
   "source": [
    "so now to update the position of the lights:"
   ]
  },
  {
   "cell_type": "code",
   "execution_count": 6,
   "metadata": {},
   "outputs": [
    {
     "name": "stdout",
     "output_type": "stream",
     "text": [
      "Light(x=9, y=1, xv=0, yv=2)\n"
     ]
    },
    {
     "data": {
      "text/plain": [
       "Light(x=9, y=3, xv=0, yv=2)"
      ]
     },
     "execution_count": 6,
     "metadata": {},
     "output_type": "execute_result"
    }
   ],
   "source": [
    "def move_light(light, t=1):\n",
    "    \"\"\"moves a light for time t and returns a new light\"\"\"\n",
    "    return Light(light.x + light.xv*t, light.y + light.yv*t, light.xv, light.yv)\n",
    "\n",
    "print(test_lights[0])\n",
    "move_light(test_lights[0])"
   ]
  },
  {
   "cell_type": "markdown",
   "metadata": {},
   "source": [
    "Now to show the lights:"
   ]
  },
  {
   "cell_type": "code",
   "execution_count": 7,
   "metadata": {},
   "outputs": [
    {
     "data": {
      "image/png": "[encoded data removed]",
      "text/plain": [
       "<Figure size 720x720 with 1 Axes>"
      ]
     },
     "metadata": {
      "needs_background": "light"
     },
     "output_type": "display_data"
    }
   ],
   "source": [
    "def show_lights_imshow(lights=test_lights, time=None, cycle=None, frame=None):\n",
    "    clear_output(wait=True)\n",
    "    xx, yy, _, _ = zip(*lights)\n",
    "    \n",
    "    grid = np.zeros(shape=(max(yy)+1, max(xx)+1), dtype=\"int\")\n",
    "    for x, y in zip(xx, yy):\n",
    "        grid[y,x] = 1\n",
    "    \n",
    "    fig, ax = plt.subplots(figsize=(10,10))\n",
    "    ax.set_title(f\"Time {time} Cycle {cycle} Frame {frame}\")\n",
    "    ax.imshow(grid)\n",
    "    plt.show()\n",
    "\n",
    "show_lights_imshow()"
   ]
  },
  {
   "cell_type": "code",
   "execution_count": 11,
   "metadata": {},
   "outputs": [
    {
     "data": {
      "image/png": "[encoded data removed]",
      "text/plain": [
       "<Figure size 720x720 with 1 Axes>"
      ]
     },
     "metadata": {
      "needs_background": "light"
     },
     "output_type": "display_data"
    }
   ],
   "source": [
    "lights = parse_input(test_inp)\n",
    "for frame in range(10):\n",
    "    lights = [move_light(l) for l in lights]\n",
    "    show_lights_imshow(lights, frame=frame, time=frame)"
   ]
  },
  {
   "cell_type": "markdown",
   "metadata": {},
   "source": [
    "Now to solve the above. First I eyeballed the changing lights, and looks like the msg appears when the y coordinates of the lights are closest together, so here I show the lights when below a given y difference threshold:"
   ]
  },
  {
   "cell_type": "code",
   "execution_count": 19,
   "metadata": {},
   "outputs": [
    {
     "data": {
      "image/png": "[encoded data removed]",
      "text/plain": [
       "<Figure size 720x720 with 1 Axes>"
      ]
     },
     "metadata": {
      "needs_background": "light"
     },
     "output_type": "display_data"
    }
   ],
   "source": [
    "inp = utils.get_input(10)\n",
    "\n",
    "def solve(inp, frames, time=10000, show_y=70):\n",
    "    lights = parse_input(inp)\n",
    "    \n",
    "    # doing a big initial move\n",
    "    lights = [move_light(l, time) for l in lights]\n",
    "    \n",
    "    y_min = 10000000\n",
    "    \n",
    "    for frame in range(frames):\n",
    "        time += 1\n",
    "        lights = [move_light(l) for l in lights]\n",
    "        \n",
    "        y = [l.x for l in lights]\n",
    "        y_diff = max(y) - min(y)\n",
    "        \n",
    "        if max(y) - min(y) < show_y:\n",
    "            show_lights_imshow(lights, time=time, frame=frame)\n",
    "            sleep(0.01)\n",
    "            \n",
    "solve(inp, frames=1000)"
   ]
  },
  {
   "cell_type": "markdown",
   "metadata": {},
   "source": [
    "So thats solved both parts 1 and 2. \n",
    "\n",
    "Todo:\n",
    "\n",
    "- animate this!"
   ]
  }
 ],
 "metadata": {
  "kernelspec": {
   "display_name": "Python [default]",
   "language": "python",
   "name": "python3"
  },
  "language_info": {
   "codemirror_mode": {
    "name": "ipython",
    "version": 3
   },
   "file_extension": ".py",
   "mimetype": "text/x-python",
   "name": "python",
   "nbconvert_exporter": "python",
   "pygments_lexer": "ipython3",
   "version": "3.7.0"
  }
 },
 "nbformat": 4,
 "nbformat_minor": 2
}

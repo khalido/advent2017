{
 "cells": [
  {
   "cell_type": "code",
   "execution_count": 2,
   "metadata": {},
   "outputs": [],
   "source": [
    "import utils"
   ]
  },
  {
   "cell_type": "markdown",
   "metadata": {},
   "source": [
    "# Day 5 Alchemical Reduction\n",
    "\n",
    "Pairs of the same letters with different cases like `aA` react and destroy themselves. So first up, a func which takes in two letters and returns True if the react:"
   ]
  },
  {
   "cell_type": "code",
   "execution_count": 63,
   "metadata": {},
   "outputs": [
    {
     "data": {
      "text/plain": [
       "(True, True, False)"
      ]
     },
     "execution_count": 63,
     "metadata": {},
     "output_type": "execute_result"
    }
   ],
   "source": [
    "def reacts(x, y):\n",
    "    \"\"\"takes in two chars and returns True if they react, False otherwise\"\"\"\n",
    "    if x.lower() == y.lower() and x != y:\n",
    "        return True\n",
    "    else:\n",
    "        return False\n",
    "    \n",
    "reacts('a', 'A'), reacts('A', 'a'), reacts('a', 'b')"
   ]
  },
  {
   "cell_type": "markdown",
   "metadata": {},
   "source": [
    "Now to go through a string of letters, reacting things once:"
   ]
  },
  {
   "cell_type": "code",
   "execution_count": 115,
   "metadata": {},
   "outputs": [],
   "source": [
    "def react_once(s = \"abBA\", ans = \"\"):\n",
    "    reacted = False\n",
    "    length = len(s)\n",
    "\n",
    "    for i, c in enumerate(s):\n",
    "        if reacted:\n",
    "            reacted = False\n",
    "        else:\n",
    "            if i + 1 < length:\n",
    "                if reacts(c, s[i+1]):\n",
    "                    reacted = True\n",
    "                else:\n",
    "                    ans += c\n",
    "                    reacted = False\n",
    "            else:\n",
    "                if not reacted:\n",
    "                    ans += c\n",
    "\n",
    "    return ans\n",
    "\n",
    "assert react_once(\"aA\") == \"\"\n",
    "assert react_once(\"abBA\") == \"aA\"\n",
    "assert react_once(\"abAB\") == \"abAB\"\n",
    "assert react_once(\"aabAAB\") == \"aabAAB\""
   ]
  },
  {
   "cell_type": "markdown",
   "metadata": {},
   "source": [
    "So above I only do one pass, so here I keep doing passes until all reactions are reacted:"
   ]
  },
  {
   "cell_type": "code",
   "execution_count": 116,
   "metadata": {},
   "outputs": [],
   "source": [
    "def react(s=\"abBA\", ans=\"\"):\n",
    "    while s != react_once(s):\n",
    "        s = react_once(s)\n",
    "    return s    \n",
    "\n",
    "assert react(\"abBA\") == \"\"\n",
    "assert react(\"dabAcCaCBAcCcaDA\") == \"dabCBAcaDA\""
   ]
  },
  {
   "cell_type": "markdown",
   "metadata": {},
   "source": [
    "And finally, the input:"
   ]
  },
  {
   "cell_type": "code",
   "execution_count": 121,
   "metadata": {},
   "outputs": [
    {
     "name": "stdout",
     "output_type": "stream",
     "text": [
      "Original length:  50000\n",
      "After reaction:   10972\n",
      "CPU times: user 4.56 s, sys: 1.64 ms, total: 4.56 s\n",
      "Wall time: 4.56 s\n"
     ]
    }
   ],
   "source": [
    "%%time\n",
    "inp = utils.get_input(5).strip()\n",
    "print(\"Original length: \", len(inp))\n",
    "part_one = react(inp)\n",
    "print(\"After reaction:  \", len(part_one))"
   ]
  },
  {
   "cell_type": "code",
   "execution_count": null,
   "metadata": {},
   "outputs": [],
   "source": []
  }
 ],
 "metadata": {
  "kernelspec": {
   "display_name": "Python [default]",
   "language": "python",
   "name": "python3"
  },
  "language_info": {
   "codemirror_mode": {
    "name": "ipython",
    "version": 3
   },
   "file_extension": ".py",
   "mimetype": "text/x-python",
   "name": "python",
   "nbconvert_exporter": "python",
   "pygments_lexer": "ipython3",
   "version": "3.7.0"
  }
 },
 "nbformat": 4,
 "nbformat_minor": 2
}

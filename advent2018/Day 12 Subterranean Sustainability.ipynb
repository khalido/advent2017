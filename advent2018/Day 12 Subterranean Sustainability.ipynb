{
 "cells": [
  {
   "cell_type": "code",
   "execution_count": 1,
   "metadata": {},
   "outputs": [],
   "source": [
    "import utils\n",
    "import re\n",
    "import numpy as np\n",
    "from collections import namedtuple, defaultdict\n",
    "\n",
    "import matplotlib.pyplot as plt\n",
    "%matplotlib inline\n",
    "from IPython.display import display, clear_output\n",
    "from time import sleep"
   ]
  },
  {
   "cell_type": "markdown",
   "metadata": {},
   "source": [
    "# Day 12: Subterranean Sustainability\n",
    "\n",
    "The year 518 is significantly more underground than your history books implied. Either that, or you've arrived in a vast cavern network under the North Pole.\n",
    "\n",
    "After exploring a little, you discover a long tunnel that contains a row of small pots as far as you can see to your left and right. A few of them contain plants - someone is trying to grow things in these geothermally-heated caves.\n",
    "\n",
    "The pots are numbered, with 0 in front of you. To the left, the pots are numbered -1, -2, -3, and so on; to the right, 1, 2, 3.... Your puzzle input contains a list of pots from 0 to the right and whether they do (#) or do not (.) currently contain a plant, the initial state. (No other pots currently contain plants.) For example, an initial state of `#..##....` indicates that pots 0, 3, and 4 currently contain plants.\n",
    "\n",
    "Your puzzle input also contains some notes you find on a nearby table: someone has been trying to figure out how these plants spread to nearby pots. Based on the notes, for each generation of plants, a given pot has or does not have a plant based on whether that pot (and the two pots on either side of it) had a plant in the last generation. These are written as LLCRR => N, where L are pots to the left, C is the current pot being considered, R are the pots to the right, and N is whether the current pot will have a plant in the next generation. For example:\n",
    "\n",
    "- A note like `..#.. => .` means that a pot that contains a plant but with no plants within two pots of it will not have a plant in it during the next generation.\n",
    "- A note like `##.## => .` means that an empty pot with two plants on each side of it will remain empty in the next generation.\n",
    "- A note like `.##.# => #` means that a pot has a plant in a given generation if, in the previous generation, there were plants in that pot, the one immediately to the left, and the one two pots to the right, but not in the ones immediately to the right and two to the left.\n",
    "\n",
    "It's not clear what these plants are for, but you're sure it's important, so you'd like to make sure the current configuration of plants is sustainable by determining what will happen after 20 generations.\n",
    "\n",
    "For example, given the following input:\n",
    "\n",
    "```\n",
    "initial state: #..#.#..##......###...###\n",
    "\n",
    "...## => #\n",
    "..#.. => #\n",
    ".#... => #\n",
    ".#.#. => #\n",
    ".#.## => #\n",
    ".##.. => #\n",
    ".#### => #\n",
    "#.#.# => #\n",
    "#.### => #\n",
    "##.#. => #\n",
    "##.## => #\n",
    "###.. => #\n",
    "###.# => #\n",
    "####. => #\n",
    "```\n",
    "\n",
    "For brevity, in this example, only the combinations which do produce a plant are listed. (Your input includes all possible combinations.) Then, the next 20 generations will look like this:\n",
    "\n",
    "```\n",
    "                 1         2         3     \n",
    "       0         0         0         0     \n",
    " 0: ...#..#.#..##......###...###...........\n",
    " 1: ...#...#....#.....#..#..#..#...........\n",
    " 2: ...##..##...##....#..#..#..##..........\n",
    " 3: ..#.#...#..#.#....#..#..#...#..........\n",
    " 4: ...#.#..#...#.#...#..#..##..##.........\n",
    " 5: ....#...##...#.#..#..#...#...#.........\n",
    " 6: ....##.#.#....#...#..##..##..##........\n",
    " 7: ...#..###.#...##..#...#...#...#........\n",
    " 8: ...#....##.#.#.#..##..##..##..##.......\n",
    " 9: ...##..#..#####....#...#...#...#.......\n",
    "10: ..#.#..#...#.##....##..##..##..##......\n",
    "11: ...#...##...#.#...#.#...#...#...#......\n",
    "12: ...##.#.#....#.#...#.#..##..##..##.....\n",
    "13: ..#..###.#....#.#...#....#...#...#.....\n",
    "14: ..#....##.#....#.#..##...##..##..##....\n",
    "15: ..##..#..#.#....#....#..#.#...#...#....\n",
    "16: .#.#..#...#.#...##...#...#.#..##..##...\n",
    "17: ..#...##...#.#.#.#...##...#....#...#...\n",
    "18: ..##.#.#....#####.#.#.#...##...##..##..\n",
    "19: .#..###.#..#.#.#######.#.#.#..#.#...#..\n",
    "20: .#....##....#####...#######....#.#..##.\n",
    "```\n",
    "\n",
    "The generation is shown along the left, where 0 is the initial state. The pot numbers are shown along the top, where 0 labels the center pot, negative-numbered pots extend to the left, and positive pots extend toward the right. Remember, the initial state begins at pot 0, which is not the leftmost pot used in this example.\n",
    "\n",
    "After one generation, only seven plants remain. The one in pot 0 matched the rule looking for ..#.., the one in pot 4 matched the rule looking for .#.#., pot 9 matched .##.., and so on.\n",
    "\n",
    "In this example, after 20 generations, the pots shown as # contain plants, the furthest left of which is pot -2, and the furthest right of which is pot 34. Adding up all the numbers of plant-containing pots after the 20th generation produces 325.\n",
    "\n",
    "**After 20 generations, what is the sum of the numbers of all pots which contain a plant?**\n",
    "\n",
    "First up, grabbing the input and test inputs:"
   ]
  },
  {
   "cell_type": "code",
   "execution_count": 2,
   "metadata": {},
   "outputs": [
    {
     "data": {
      "text/plain": [
       "['initial state: #...#####.#..##...##...#.##.#.##.###..##.##.#.#..#...###..####.#.....#..##..#.##......#####..####...',\n",
       " '',\n",
       " '#.#.# => #',\n",
       " '..### => .',\n",
       " '#..#. => #',\n",
       " '.#... => #',\n",
       " '..##. => #',\n",
       " '##.#. => #',\n",
       " '##..# => #',\n",
       " '####. => #']"
      ]
     },
     "execution_count": 2,
     "metadata": {},
     "output_type": "execute_result"
    }
   ],
   "source": [
    "inp = utils.get_input(12).splitlines()\n",
    "inp[:10]"
   ]
  },
  {
   "cell_type": "code",
   "execution_count": 3,
   "metadata": {},
   "outputs": [],
   "source": [
    "test_inp = \"\"\"initial state: #..#.#..##......###...###\n",
    "\n",
    "...## => #\n",
    "..#.. => #\n",
    ".#... => #\n",
    ".#.#. => #\n",
    ".#.## => #\n",
    ".##.. => #\n",
    ".#### => #\n",
    "#.#.# => #\n",
    "#.### => #\n",
    "##.#. => #\n",
    "##.## => #\n",
    "###.. => #\n",
    "###.# => #\n",
    "####. => #\"\"\".splitlines()"
   ]
  },
  {
   "cell_type": "markdown",
   "metadata": {},
   "source": [
    "Now a function to parse the inputs into the start and the rules which apply:"
   ]
  },
  {
   "cell_type": "code",
   "execution_count": 100,
   "metadata": {},
   "outputs": [
    {
     "name": "stdout",
     "output_type": "stream",
     "text": [
      "starting state: : #..#.#..##......###...###\n"
     ]
    },
    {
     "data": {
      "text/plain": [
       "defaultdict(<function __main__.parse.<locals>.<lambda>()>,\n",
       "            {'...##': '#',\n",
       "             '..#..': '#',\n",
       "             '.#...': '#',\n",
       "             '.#.#.': '#',\n",
       "             '.#.##': '#',\n",
       "             '.##..': '#',\n",
       "             '.####': '#',\n",
       "             '#.#.#': '#',\n",
       "             '#.###': '#',\n",
       "             '##.#.': '#',\n",
       "             '##.##': '#',\n",
       "             '###..': '#',\n",
       "             '###.#': '#',\n",
       "             '####.': '#'})"
      ]
     },
     "execution_count": 100,
     "metadata": {},
     "output_type": "execute_result"
    }
   ],
   "source": [
    "def parse(inp=test_inp):\n",
    "    start = inp[0].split(\": \")[1]\n",
    "    \n",
    "    # dict defaults to off as I'm only storing the on rules in it\n",
    "    rules = defaultdict(lambda: \".\") \n",
    "    \n",
    "    for rule in inp[2:]:\n",
    "        r, result = rule.split(\" => \")\n",
    "        rules[r] = result\n",
    "        \n",
    "    return start, rules\n",
    "    \n",
    "test_start, test_rules = parse()\n",
    "print(\"starting state: :\" , test_start)\n",
    "test_rules"
   ]
  },
  {
   "cell_type": "markdown",
   "metadata": {},
   "source": [
    "So now we have the start state as a str, and a dict of the rules."
   ]
  },
  {
   "cell_type": "markdown",
   "metadata": {},
   "source": [
    "Now to put this together:"
   ]
  },
  {
   "cell_type": "code",
   "execution_count": 5,
   "metadata": {},
   "outputs": [
    {
     "name": "stdout",
     "output_type": "stream",
     "text": [
      " 1: ...#...#....#.....#..#..#..#......................  Sum: 91\n",
      " 2: ...##..##...##....#..#..#..##.....................  Sum: 132\n",
      " 3: ..#.#...#..#.#....#..#..#...#.....................  Sum: 102\n",
      " 4: ...#.#..#...#.#...#..#..##..##....................  Sum: 154\n",
      " 5: ....#...##...#.#..#..#...#...#....................  Sum: 115\n",
      " 6: ....##.#.#....#...#..##..##..##...................  Sum: 174\n",
      " 7: ...#..###.#...##..#...#...#...#...................  Sum: 126\n",
      " 8: ...#....##.#.#.#..##..##..##..##..................  Sum: 213\n",
      " 9: ...##..#..#####....#...#...#...#..................  Sum: 138\n",
      "10: ..#.#..#...#.##....##..##..##..##.................  Sum: 213\n",
      "11: ...#...##...#.#...#.#...#...#...#.................  Sum: 136\n",
      "12: ...##.#.#....#.#...#.#..##..##..##................  Sum: 218\n",
      "13: ..#..###.#....#.#...#....#...#...#................  Sum: 133\n",
      "14: ..#....##.#....#.#..##...##..##..##...............  Sum: 235\n",
      "15: ..##..#..#.#....#....#..#.#...#...#...............  Sum: 149\n",
      "16: ...#..#...#.#...##...#...#.#..##..##..............  Sum: 228\n",
      "17: ...#..##...#.#.#.#...##...#....#...#..............  Sum: 171\n",
      "18: ...#...#....#####.#.#.#...##...##..##.............  Sum: 279\n",
      "19: ...##..##..#.#.#######.#.#.#..#.#...#.............  Sum: 288\n",
      "20: ..#.#...#...#####...#######....#.#..##............  Sum: 325\n"
     ]
    }
   ],
   "source": [
    "def sim(state=test_start, rules=test_rules, cycles=1, show=False):\n",
    "    \"\"\"takes in a state and rules and simulates the number of cycles\n",
    "    then returns all the states\"\"\"\n",
    "    \n",
    "    grid = []\n",
    "    \n",
    "    state = \"...\" + state + \"..\" + \".\" * cycles\n",
    "    grid.append(state)\n",
    "    \n",
    "    for cycle in range(cycles):\n",
    "        new_state = \"..\"\n",
    "        for i in range(2, len(state)-2):\n",
    "            #print(i-2,i,i+2, state[i-2:i+3], \"|\", state[i])\n",
    "            \n",
    "            new_state += rules[state[i-2:i+3]]\n",
    "            \n",
    "        state = new_state + \"..\"\n",
    "        grid.append(state)\n",
    "        \n",
    "        if show:\n",
    "            plants = sum([i-3 for i, plant in enumerate(state) if plant == \"#\"])\n",
    "            print(f\"{cycle+1:2}: {state[:70]}  Sum: {plants}\")\n",
    "        \n",
    "    return grid\n",
    "\n",
    "test_grid = sim(cycles=20, show=True)"
   ]
  },
  {
   "cell_type": "code",
   "execution_count": 101,
   "metadata": {},
   "outputs": [
    {
     "name": "stdout",
     "output_type": "stream",
     "text": [
      " 1: ..#.#...#####...###..###.##...##...#.#.#.#.#..##...#.#...#.#..####.#..  Sum: 2253\n",
      " 2: ..#..#...###.#...#.#..###.##..###.##.#.#.#....###.##..#.##.....####.#.  Sum: 2350\n",
      " 3: ....#.#...###.#.##.....###.##..###..##.#..#....###.####..##.....#####.  Sum: 2327\n",
      " 4: ...##..#...####..##.....###.##..#.#.#.#..#.#....###.##.#.###.....#####  Sum: 2341\n",
      " 5: ...####.#...##.#.###.....###.####.#.#...##..#....###..##..#.#.....###.  Sum: 2408\n",
      " 6: ....####.#..#.##..#.#.....###.#####..#..####.#....#.#.#####..#.....###  Sum: 2676\n",
      " 7: .....####..##..####..#.....###.###.##....####.#..##.#..###.##.#.....##  Sum: 2743\n",
      " 8: ......##.#.###..##.##.#.....###.###.##....####...#.#....###..#.#.....#  Sum: 2756\n",
      " 9: ......#.##..#.#.#.#..#.#.....###.###.##....##.#.##..#....#.###..#....#  Sum: 2693\n",
      "10: .....##..####.#.#...##..#.....###.###.##...#.##..###.#..##..#.##.#..##  Sum: 2843\n",
      "11: .....###..#####..#..####.#.....###.###.##.##..##..###...#####...#...##  Sum: 3123\n",
      "12: ......#.#..###.##....####.#.....###.###..#.##.###..#.#...###.#.#.#...#  Sum: 2959\n",
      "13: .....##.....###.##....####.#.....###.#.###...#.#.###..#...####.#..#...  Sum: 2964\n",
      "14: .....###.....###.##....####.#.....####..#.#.##.#..#.##.#...####..#.#..  Sum: 2870\n",
      "15: ......#.#.....###.##....####.#.....##.###.#...#..##...#.#...##.###...#  Sum: 2914\n",
      "16: .....##..#.....###.##....####.#....#.#.###.#.#...###.##..#..#.#.#.#..#  Sum: 3218\n",
      "17: .....####.#.....###.##....####.#..##.#..####..#...###.###..##.#.#.....  Sum: 3282\n",
      "18: ......####.#.....###.##....####...#.#....##.##.#...###.#.#.#.##..#....  Sum: 3141\n",
      "19: .......####.#.....###.##....##.#.##..#...#.#..#.#...####.#.#..###.#...  Sum: 3213\n",
      "20: ........####.#.....###.##...#.##..###.#.##...##..#...#####.....###.#..  Sum: 3337\n"
     ]
    }
   ],
   "source": [
    "start, rules = parse(inp)\n",
    "grid = sim(start, rules, cycles=20, show=True)"
   ]
  },
  {
   "cell_type": "markdown",
   "metadata": {},
   "source": [
    "`3337` is the answer to part 1, but with a longer starting state the display is messy and doesn't display the entire state... so here goes a better version:"
   ]
  },
  {
   "cell_type": "code",
   "execution_count": 102,
   "metadata": {},
   "outputs": [
    {
     "data": {
      "image/png": "[encoded data removed]",
      "text/plain": [
       "<Figure size 936x360 with 1 Axes>"
      ]
     },
     "metadata": {
      "needs_background": "light"
     },
     "output_type": "display_data"
    }
   ],
   "source": [
    "def show(states, ax=None):\n",
    "    \"\"\"takes in a list of states and shows it visually\"\"\"\n",
    "    grid = [[c == \"#\" for c in k] for k in states]\n",
    "    \n",
    "    if ax is None:\n",
    "        fig, ax = plt.subplots(figsize=(13,5))\n",
    "    ax.set_title(f\"test\")\n",
    "    ax.imshow(grid) # cmap=plt.get_cmap(\"RdBu\")\n",
    "    \n",
    "    bbox_props = dict(boxstyle=\"round,pad=0\", fc=\"black\", ec=\"white\", lw=0)\n",
    "    #for i, state in enumerate(states):\n",
    "    #    plants = sum([i-3 for i, plant in enumerate(state) if plant == \"#\"])\n",
    "    #    ax.annotate(str(plants), (0.1,i+0.5), size=9, color=\"white\", bbox=bbox_props)\n",
    "    plants = sum([i-3 for i, plant in enumerate(states[-1]) if plant == \"#\"])\n",
    "    ax.set_title(f\"Sum of final gen of plants: {plants}\")\n",
    "\n",
    "show(grid)"
   ]
  },
  {
   "cell_type": "markdown",
   "metadata": {},
   "source": [
    "# Part 2\n",
    "\n",
    "**After fifty billion (50000000000) generations, what is the sum of the numbers of all pots which contain a plant?**\n",
    "\n",
    "So thats huge number to simulate, so hopefully there must be a pattern which repeats, as my solution above is pretty slow.\n",
    "\n",
    "So I'm going to modify the above to see if there is a repeating pattern:"
   ]
  },
  {
   "cell_type": "code",
   "execution_count": 107,
   "metadata": {},
   "outputs": [
    {
     "data": {
      "image/png": "[encoded data removed]",
      "text/plain": [
       "<Figure size 864x432 with 2 Axes>"
      ]
     },
     "metadata": {
      "needs_background": "light"
     },
     "output_type": "display_data"
    }
   ],
   "source": [
    "def sim2(state=test_start, rules=test_rules, cycles=1, show=False):\n",
    "    \"\"\"takes in a state and rules and simulates the number of cycles\n",
    "    then returns all the states\"\"\"\n",
    "    \n",
    "    grid = []\n",
    "    counts = []\n",
    "    plants = sum([i-3 for i, plant in enumerate(state) if plant == \"#\"])\n",
    "    counts.append(plants)\n",
    "    \n",
    "    state = \"...\" + state + \"..\" + \".\" * cycles\n",
    "    grid.append(state)\n",
    "    \n",
    "    for cycle in range(cycles):\n",
    "        new_state = \"..\"\n",
    "        for i in range(2, len(state)-2):\n",
    "            #print(i-2,i,i+2, state[i-2:i+3], \"|\", state[i])\n",
    "            \n",
    "            new_state += rules[state[i-2:i+3]]\n",
    "            \n",
    "        state = new_state + \"..\"\n",
    "        grid.append(state)\n",
    "        \n",
    "        plants = sum([i-3 for i, plant in enumerate(state) if plant == \"#\"])\n",
    "        \n",
    "        counts.append(plants)\n",
    "        \n",
    "        if show:\n",
    "            print(f\"{cycle+1:2}: {state[:70]}  Sum: {plants}\")\n",
    "        \n",
    "    return grid, counts\n",
    "\n",
    "grid, counts = sim2(start, rules, cycles=200)\n",
    "\n",
    "fig, (ax1, ax2) = plt.subplots(1,2, figsize=(12,6))\n",
    "ax1.plot(counts, label = \"Count of Plants\")\n",
    "\n",
    "increase = [p - counts[i+1-1] for i, p in enumerate(counts[1:])]\n",
    "ax1.plot(increase, label=\"delta increase\")\n",
    "ax1.legend()\n",
    "\n",
    "ax1.set_title(\"Count of Plants\")\n",
    "show(grid, ax2)"
   ]
  },
  {
   "cell_type": "markdown",
   "metadata": {},
   "source": [
    "That clearly looks like it settles into a steady increase after an intiial jumping around."
   ]
  },
  {
   "cell_type": "markdown",
   "metadata": {},
   "source": [
    "So eyeballing this, we can see that around gen 130 there is a steady change of plants, with them all moving to the right each generation, increasing our index sum by a constant each time.\n",
    "\n",
    "So at the 50 billionth gen, the sum should be:"
   ]
  },
  {
   "cell_type": "code",
   "execution_count": 111,
   "metadata": {},
   "outputs": [
    {
     "data": {
      "text/plain": [
       "4300000000349"
      ]
     },
     "execution_count": 111,
     "metadata": {},
     "output_type": "execute_result"
    }
   ],
   "source": [
    "counts[-1] + increase[-1] * (5*10**10 +1 - len(counts))"
   ]
  },
  {
   "cell_type": "markdown",
   "metadata": {},
   "source": [
    "`4300000000349` is the ans to part 2"
   ]
  }
 ],
 "metadata": {
  "kernelspec": {
   "display_name": "Python [default]",
   "language": "python",
   "name": "python3"
  },
  "language_info": {
   "codemirror_mode": {
    "name": "ipython",
    "version": 3
   },
   "file_extension": ".py",
   "mimetype": "text/x-python",
   "name": "python",
   "nbconvert_exporter": "python",
   "pygments_lexer": "ipython3",
   "version": "3.7.0"
  }
 },
 "nbformat": 4,
 "nbformat_minor": 2
}

{
 "cells": [
  {
   "cell_type": "code",
   "execution_count": 111,
   "metadata": {},
   "outputs": [],
   "source": [
    "import utils\n",
    "\n",
    "from tqdm import tqdm_notebook\n",
    "%matplotlib inline\n",
    "import matplotlib.pyplot as plt\n",
    "import re\n",
    "import numpy as np"
   ]
  },
  {
   "cell_type": "markdown",
   "metadata": {},
   "source": [
    "# No Matter How You Slice It\n",
    "\n",
    "grabbing the input:"
   ]
  },
  {
   "cell_type": "code",
   "execution_count": 17,
   "metadata": {},
   "outputs": [
    {
     "data": {
      "text/plain": [
       "['#1369 @ 61,754: 14x28',\n",
       " '#1370 @ 782,52: 29x21',\n",
       " '#1371 @ 622,190: 16x12',\n",
       " '#1372 @ 209,614: 21x21',\n",
       " '#1373 @ 369,713: 20x29']"
      ]
     },
     "execution_count": 17,
     "metadata": {},
     "output_type": "execute_result"
    }
   ],
   "source": [
    "inp = utils.get_input(3).splitlines()\n",
    "inp[-5:]"
   ]
  },
  {
   "cell_type": "markdown",
   "metadata": {},
   "source": [
    "each claim spec is: `x, y, h, w`\n",
    "\n",
    "So looking at the test input:"
   ]
  },
  {
   "cell_type": "code",
   "execution_count": 104,
   "metadata": {},
   "outputs": [
    {
     "data": {
      "text/plain": [
       "array([[0., 0., 0., 0., 0., 0., 0., 0., 0., 0., 0.],\n",
       "       [0., 0., 0., 0., 0., 0., 0., 0., 0., 0., 0.],\n",
       "       [0., 0., 0., 1., 1., 1., 1., 1., 0., 0., 0.],\n",
       "       [0., 0., 0., 1., 1., 1., 1., 1., 0., 0., 0.],\n",
       "       [0., 0., 0., 1., 1., 1., 1., 1., 0., 0., 0.],\n",
       "       [0., 0., 0., 1., 1., 1., 1., 1., 0., 0., 0.],\n",
       "       [0., 0., 0., 0., 0., 0., 0., 0., 0., 0., 0.],\n",
       "       [0., 0., 0., 0., 0., 0., 0., 0., 0., 0., 0.],\n",
       "       [0., 0., 0., 0., 0., 0., 0., 0., 0., 0., 0.]])"
      ]
     },
     "execution_count": 104,
     "metadata": {},
     "output_type": "execute_result"
    }
   ],
   "source": [
    "# #123 @ 3,2: 5x4\n",
    "grid = np.zeros(shape=(9,11))\n",
    "grid[2:2+4:, 3:3+5] += 1\n",
    "grid"
   ]
  },
  {
   "cell_type": "markdown",
   "metadata": {},
   "source": [
    "So that seems to be working, with the numpy grid referencing being y first, x second, so `grid[y:y+h, x:x+w]`.\n",
    "\n",
    "Converting the input string into a list of claims:"
   ]
  },
  {
   "cell_type": "code",
   "execution_count": 105,
   "metadata": {},
   "outputs": [
    {
     "data": {
      "text/plain": [
       "[[1369, 61, 754, 14, 28],\n",
       " [1370, 782, 52, 29, 21],\n",
       " [1371, 622, 190, 16, 12],\n",
       " [1372, 209, 614, 21, 21],\n",
       " [1373, 369, 713, 20, 29]]"
      ]
     },
     "execution_count": 105,
     "metadata": {},
     "output_type": "execute_result"
    }
   ],
   "source": [
    "claims = []\n",
    "\n",
    "for claim in inp:\n",
    "    claims.append([int(i) for i in re.findall(\"[\\d]+\", claim)])\n",
    "    \n",
    "claims[-5:]"
   ]
  },
  {
   "cell_type": "markdown",
   "metadata": {},
   "source": [
    "Now I'm placing every claim onto the fabric:"
   ]
  },
  {
   "cell_type": "code",
   "execution_count": 109,
   "metadata": {},
   "outputs": [
    {
     "data": {
      "image/png": "[encoded data removed]",
      "text/plain": [
       "<Figure size 576x576 with 1 Axes>"
      ]
     },
     "metadata": {
      "needs_background": "light"
     },
     "output_type": "display_data"
    }
   ],
   "source": [
    "fabric = np.zeros(shape=(1000,1000))\n",
    "\n",
    "for claim in claims:\n",
    "    num, x, y, w, h = claim\n",
    "    fabric[y:y+h,x:x+w] += 1\n",
    "    \n",
    "fig, ax = plt.subplots(figsize=(8,8))\n",
    "ax.set_title(\"Fabric with all claims shown\")\n",
    "f = fabric.copy()\n",
    "f[f==1] = 15\n",
    "ax.imshow(f, interpolation=None);"
   ]
  },
  {
   "cell_type": "markdown",
   "metadata": {},
   "source": [
    "The number of overlapping squares is just where the value is more than 1:"
   ]
  },
  {
   "cell_type": "code",
   "execution_count": 110,
   "metadata": {},
   "outputs": [
    {
     "data": {
      "text/plain": [
       "118858"
      ]
     },
     "execution_count": 110,
     "metadata": {},
     "output_type": "execute_result"
    }
   ],
   "source": [
    "len(fabric[fabric > 1])"
   ]
  },
  {
   "cell_type": "markdown",
   "metadata": {},
   "source": [
    "answer to part 1: `118858`\n",
    "\n",
    "# Part 2\n",
    "\n",
    "find the only non-overlapping claim - here I just go through each claim:"
   ]
  },
  {
   "cell_type": "code",
   "execution_count": 102,
   "metadata": {},
   "outputs": [
    {
     "name": "stdout",
     "output_type": "stream",
     "text": [
      "1100 [1100, 355, 404, 29, 11]\n"
     ]
    }
   ],
   "source": [
    "for claim in tqdm_notebook(claims:\n",
    "    num, x, y, w, h = claim\n",
    "    if np.sum(fabric[y:y+h,x:x+w]) == w * h:\n",
    "        print(num, claim)\n",
    "        break"
   ]
  }
 ],
 "metadata": {
  "kernelspec": {
   "display_name": "Python [default]",
   "language": "python",
   "name": "python3"
  },
  "language_info": {
   "codemirror_mode": {
    "name": "ipython",
    "version": 3
   },
   "file_extension": ".py",
   "mimetype": "text/x-python",
   "name": "python",
   "nbconvert_exporter": "python",
   "pygments_lexer": "ipython3",
   "version": "3.7.0"
  }
 },
 "nbformat": 4,
 "nbformat_minor": 2
}

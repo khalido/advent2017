{
 "cells": [
  {
   "cell_type": "code",
   "execution_count": 68,
   "metadata": {},
   "outputs": [],
   "source": [
    "from collections import deque, defaultdict\n",
    "from itertools import cycle\n",
    "\n",
    "import matplotlib.pyplot as plt\n",
    "%matplotlib inline"
   ]
  },
  {
   "cell_type": "markdown",
   "metadata": {},
   "source": [
    "# Day 9 Marble Mania\n",
    "\n",
    "We play marbles by starting with a circle of marbles, initially with just 1 marble (0) placed in it, then elves take turns placing a marblem in between the first and second marbles to the right of the current position.\n",
    "\n",
    "The new marble becomes the current position. Every 23rd marble isn't placed and rather adds to the score the player placing it, plus they remove and add to their score the 7th marble to the left of the current position.\n",
    "\n",
    "The game goes on for a specific number of marbles."
   ]
  },
  {
   "cell_type": "code",
   "execution_count": 1,
   "metadata": {},
   "outputs": [
    {
     "data": {
      "text/plain": [
       "['10 players; last marble is worth 1618 points: high score is 8317',\n",
       " '13 players; last marble is worth 7999 points: high score is 146373',\n",
       " '17 players; last marble is worth 1104 points: high score is 2764',\n",
       " '21 players; last marble is worth 6111 points: high score is 54718',\n",
       " '30 players; last marble is worth 5807 points: high score is 37305']"
      ]
     },
     "execution_count": 1,
     "metadata": {},
     "output_type": "execute_result"
    }
   ],
   "source": [
    "test_inp = \"\"\"10 players; last marble is worth 1618 points: high score is 8317\n",
    "13 players; last marble is worth 7999 points: high score is 146373\n",
    "17 players; last marble is worth 1104 points: high score is 2764\n",
    "21 players; last marble is worth 6111 points: high score is 54718\n",
    "30 players; last marble is worth 5807 points: high score is 37305\n",
    "\"\"\".splitlines()\n",
    "test_inp"
   ]
  },
  {
   "cell_type": "markdown",
   "metadata": {},
   "source": [
    "I'm using deque instead of a list since deque is faster for this purpose - lists have O(n) performance for inserts, deques are O(1) for appends. So the way inserts work in this list is:\n",
    "\n",
    "- we have a current position, at the start thats zero\n",
    "- we look at the two marbles on the right of our current one (considering the list is circular) and place the new one in b/w them - so basically place the marble in the second postion to the right of the current.\n",
    "- every 23rd marble isn't placed, rather it adds players score, and the 7th marble to the left is removed and added to the players score\n",
    "- keep doing this until the last marble is placed\n",
    "\n",
    "So first up, taking a look at how I'd figure out where to place the marbles - the initial marbles should look like:\n",
    "\n",
    "```\n",
    "[-] (0)\n",
    "[1]  0 (1)\n",
    "[2]  0 (2) 1 \n",
    "[3]  0  2  1 (3)\n",
    "[4]  0 (4) 2  1  3 \n",
    "[5]  0  4  2 (5) 1  3 \n",
    "[6]  0  4  2  5  1 (6) 3 \n",
    "[7]  0  4  2  5  1  6  3 (7)\n",
    "[8]  0 (8) 4  2  5  1  6  3  7 \n",
    "[9]  0  8  4 (9) 2  5  1  6  3  7 \n",
    "```"
   ]
  },
  {
   "cell_type": "code",
   "execution_count": 49,
   "metadata": {},
   "outputs": [
    {
     "name": "stdout",
     "output_type": "stream",
     "text": [
      "deque([1, 6, 3, 7, 0, 8, 4, 2, 5])\n",
      "deque([6, 3, 7, 0, 8, 4, 2, 5, 1])\n"
     ]
    }
   ],
   "source": [
    "print(m)\n",
    "m.rotate(-1)\n",
    "print(m)"
   ]
  },
  {
   "cell_type": "code",
   "execution_count": 69,
   "metadata": {},
   "outputs": [
    {
     "name": "stdout",
     "output_type": "stream",
     "text": [
      "1 deque([0])\n",
      "1 deque([0])\n",
      "##### 1 deque([0, 1])\n",
      "2 deque([0, 1])\n",
      "2 deque([1, 0])\n",
      "##### 2 deque([1, 0, 2])\n",
      "3 deque([1, 0, 2])\n",
      "3 deque([0, 2, 1])\n",
      "##### 3 deque([0, 2, 1, 3])\n"
     ]
    }
   ],
   "source": [
    "m = deque([0]) # our cirqular list of marbles\n",
    "pos = 0        # tracking current position\n",
    "for i in range(1,4):\n",
    "    print(i, m,)\n",
    "    m.rotate(-1)\n",
    "    print(i, m)\n",
    "    m.append(i)\n",
    "    print(\"#####\", i, m)"
   ]
  },
  {
   "cell_type": "markdown",
   "metadata": {},
   "source": [
    "This works by making the current position always the end of the queue, and we insert the new marble b/w the first and second by first rotating the queue counter-clockwise, thus bringing the 1st marble to the right of the current one to the end of the queue, then we append the new marble there, placing it in between the first and second one and leaving it at the end of the queue.\n",
    "\n",
    "So we don't even need to track the current marbles position, as its always at the end! First I starting coding up a whole Marbles object which used a list and kept track of the current position, then figured out where to insert the new marble in, but that was slow, tedious and way too much code. Deque's with rotates are awesome.\n",
    "\n",
    "Now putting the above into a func to solve this:"
   ]
  },
  {
   "cell_type": "code",
   "execution_count": 81,
   "metadata": {},
   "outputs": [
    {
     "data": {
      "text/plain": [
       "424112"
      ]
     },
     "execution_count": 81,
     "metadata": {},
     "output_type": "execute_result"
    }
   ],
   "source": [
    "def play_marbles(num_players=10, num_marbles=1618):\n",
    "    marbles = deque([0])\n",
    "    scores = [0 for _ in range(num_players)]\n",
    "\n",
    "    for marble in range(1, num_marbles+1):\n",
    "        if marble % 23 == 0:  # scoring round\n",
    "            marbles.rotate(7) # brings the 7th marble to the left to the front\n",
    "            scores[marble % num_players] += marble + marbles.pop()\n",
    "            marbles.rotate(-1)\n",
    "        else:                 # insert marble round    \n",
    "            marbles.rotate(-1)\n",
    "            marbles.append(marble)\n",
    "    \n",
    "    return max(scores)\n",
    "\n",
    "assert play_marbles() == 8317\n",
    "assert play_marbles(13, 7999) == 146373\n",
    "assert play_marbles(17, 1104) == 2764\n",
    "assert play_marbles(21, 6111) == 54718\n",
    "assert play_marbles(30, 5807) == 37305\n",
    "\n",
    "play_marbles(426, 72058)"
   ]
  },
  {
   "cell_type": "markdown",
   "metadata": {},
   "source": [
    "# Part 2\n",
    "\n",
    "Is just the same as above but longer, the idea being that the solution should be fast enough, and using deques over lists makes it fast enough:"
   ]
  },
  {
   "cell_type": "code",
   "execution_count": 66,
   "metadata": {},
   "outputs": [
    {
     "name": "stdout",
     "output_type": "stream",
     "text": [
      "CPU times: user 1.48 s, sys: 84.4 ms, total: 1.57 s\n",
      "Wall time: 1.57 s\n"
     ]
    },
    {
     "data": {
      "text/plain": [
       "3487352628"
      ]
     },
     "execution_count": 66,
     "metadata": {},
     "output_type": "execute_result"
    }
   ],
   "source": [
    "%%time\n",
    "\n",
    "play_marbles(426, 72058 * 100)"
   ]
  },
  {
   "cell_type": "code",
   "execution_count": null,
   "metadata": {},
   "outputs": [],
   "source": []
  }
 ],
 "metadata": {
  "kernelspec": {
   "display_name": "Python 3",
   "language": "python",
   "name": "python3"
  },
  "language_info": {
   "codemirror_mode": {
    "name": "ipython",
    "version": 3
   },
   "file_extension": ".py",
   "mimetype": "text/x-python",
   "name": "python",
   "nbconvert_exporter": "python",
   "pygments_lexer": "ipython3",
   "version": "3.7.1"
  }
 },
 "nbformat": 4,
 "nbformat_minor": 2
}

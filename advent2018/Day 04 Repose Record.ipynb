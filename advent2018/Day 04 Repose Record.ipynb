{
 "cells": [
  {
   "cell_type": "code",
   "execution_count": 1,
   "metadata": {},
   "outputs": [],
   "source": [
    "import utils\n",
    "import numpy as np\n",
    "\n",
    "from collections import defaultdict\n",
    "import re\n",
    "from datetime import datetime\n",
    "\n",
    "import matplotlib.pyplot as plt\n",
    "%matplotlib inline"
   ]
  },
  {
   "cell_type": "markdown",
   "metadata": {},
   "source": [
    "# [Day 4 Repose Record](https://adventofcode.com/2018/day/4)\n",
    "\n",
    "We have timestamped records of guards on duty at midnight for an hour:\n",
    "\n",
    "- guard X begins shift\n",
    "- falls asleep\n",
    "- wakes up\n",
    "\n",
    "the input:"
   ]
  },
  {
   "cell_type": "code",
   "execution_count": 2,
   "metadata": {},
   "outputs": [
    {
     "data": {
      "text/plain": [
       "['[1518-03-11 00:45] wakes up',\n",
       " '[1518-07-13 00:13] falls asleep',\n",
       " '[1518-11-02 23:56] Guard #3463 begins shift',\n",
       " '[1518-11-13 00:59] wakes up',\n",
       " '[1518-06-15 23:59] Guard #829 begins shift']"
      ]
     },
     "execution_count": 2,
     "metadata": {},
     "output_type": "execute_result"
    }
   ],
   "source": [
    "inp = utils.get_input(4).splitlines()\n",
    "inp[:5]"
   ]
  },
  {
   "cell_type": "markdown",
   "metadata": {},
   "source": [
    "lets sort this:"
   ]
  },
  {
   "cell_type": "code",
   "execution_count": 3,
   "metadata": {},
   "outputs": [
    {
     "data": {
      "text/plain": [
       "['[1518-02-24 23:57] Guard #1913 begins shift',\n",
       " '[1518-02-25 00:17] falls asleep',\n",
       " '[1518-02-25 00:29] wakes up',\n",
       " '[1518-02-25 00:54] falls asleep',\n",
       " '[1518-02-25 00:56] wakes up']"
      ]
     },
     "execution_count": 3,
     "metadata": {},
     "output_type": "execute_result"
    }
   ],
   "source": [
    "inp = sorted(inp)\n",
    "inp[:5]"
   ]
  },
  {
   "cell_type": "markdown",
   "metadata": {},
   "source": [
    "The simple alphabetical sort looks like it has sorted this timewise as well. \n",
    "Test input to run code on first:"
   ]
  },
  {
   "cell_type": "code",
   "execution_count": 4,
   "metadata": {},
   "outputs": [
    {
     "data": {
      "text/plain": [
       "['[1518-11-01 00:00] Guard #10 begins shift',\n",
       " '[1518-11-01 00:05] falls asleep']"
      ]
     },
     "execution_count": 4,
     "metadata": {},
     "output_type": "execute_result"
    }
   ],
   "source": [
    "test_input = \"\"\"\n",
    "[1518-11-01 00:00] Guard #10 begins shift\n",
    "[1518-11-01 00:05] falls asleep\n",
    "[1518-11-01 00:25] wakes up\n",
    "[1518-11-01 00:30] falls asleep\n",
    "[1518-11-01 00:55] wakes up\n",
    "[1518-11-01 23:58] Guard #99 begins shift\n",
    "[1518-11-02 00:40] falls asleep\n",
    "[1518-11-02 00:50] wakes up\n",
    "[1518-11-03 00:05] Guard #10 begins shift\n",
    "[1518-11-03 00:24] falls asleep\n",
    "[1518-11-03 00:29] wakes up\n",
    "[1518-11-04 00:02] Guard #99 begins shift\n",
    "[1518-11-04 00:36] falls asleep\n",
    "[1518-11-04 00:46] wakes up\n",
    "[1518-11-05 00:03] Guard #99 begins shift\n",
    "[1518-11-05 00:45] falls asleep\n",
    "[1518-11-05 00:55] wakes up\"\"\".strip().splitlines()\n",
    "test_input[:2]"
   ]
  },
  {
   "cell_type": "markdown",
   "metadata": {},
   "source": [
    "Now to parse the input. I'm using a an array of length 60 so I can track the exact minutes a guard is sleeping:"
   ]
  },
  {
   "cell_type": "code",
   "execution_count": 5,
   "metadata": {},
   "outputs": [
    {
     "data": {
      "text/plain": [
       "defaultdict(<function __main__.parse_input.<locals>.<lambda>()>,\n",
       "            {10: array([0., 0., 0., 0., 0., 1., 1., 1., 1., 1., 1., 1., 1., 1., 1., 1., 1.,\n",
       "                    1., 1., 1., 1., 1., 1., 1., 2., 1., 1., 1., 1., 0., 1., 1., 1., 1.,\n",
       "                    1., 1., 1., 1., 1., 1., 1., 1., 1., 1., 1., 1., 1., 1., 1., 1., 1.,\n",
       "                    1., 1., 1., 1., 0., 0., 0., 0., 0.]),\n",
       "             99: array([0., 0., 0., 0., 0., 0., 0., 0., 0., 0., 0., 0., 0., 0., 0., 0., 0.,\n",
       "                    0., 0., 0., 0., 0., 0., 0., 0., 0., 0., 0., 0., 0., 0., 0., 0., 0.,\n",
       "                    0., 0., 1., 1., 1., 1., 2., 2., 2., 2., 2., 3., 2., 2., 2., 2., 1.,\n",
       "                    1., 1., 1., 1., 0., 0., 0., 0., 0.])})"
      ]
     },
     "execution_count": 5,
     "metadata": {},
     "output_type": "execute_result"
    }
   ],
   "source": [
    "date_format = '%Y-%m-%d %H:%M'\n",
    "\n",
    "def parse_input(inp):\n",
    "    guards = defaultdict(lambda: np.zeros(60))\n",
    "    \n",
    "    for event in sorted(inp):\n",
    "        \n",
    "        t, txt = event[1:].split(\"] \")\n",
    "        date = datetime.strptime(t, date_format)\n",
    "\n",
    "        if \"Guard\" in txt:\n",
    "            guard = int(re.findall(\"[\\d]+\", txt)[0])\n",
    "        elif \"asleep\" in txt:\n",
    "            start = date.minute\n",
    "        elif \"wakes\" in txt:\n",
    "            end = date.minute\n",
    "            guards[guard][start:end] += 1\n",
    "            \n",
    "    return guards\n",
    "\n",
    "guards = parse_input(test_input)\n",
    "guards"
   ]
  },
  {
   "cell_type": "markdown",
   "metadata": {},
   "source": [
    "So now we have a dict of guards along with a list of how often they are sleeping at a given minute.\n",
    "\n",
    "so lets find out which guard sleeps the most:"
   ]
  },
  {
   "cell_type": "code",
   "execution_count": 8,
   "metadata": {},
   "outputs": [
    {
     "data": {
      "image/png": "[encoded data removed]",
      "text/plain": [
       "<Figure size 432x288 with 1 Axes>"
      ]
     },
     "metadata": {
      "needs_background": "light"
     },
     "output_type": "display_data"
    },
    {
     "name": "stdout",
     "output_type": "stream",
     "text": [
      "Guard 10 slept a total of 50.0 and slept the most in minute 24\n",
      "Part 1 Ans: 240\n"
     ]
    }
   ],
   "source": [
    "def max_sleeper(guards):\n",
    "    \"lets find the guard which sleeps the most\"\n",
    "    mm = [] \n",
    "    \n",
    "    for guard, mins in guards.items():\n",
    "        mm.append((guard, mins.sum()))\n",
    "    guard, total_sleep = sorted(mm, key=lambda x: x[1], reverse=True)[0]\n",
    "    max_sleep_min = np.argmax(guards[guard])\n",
    "    \n",
    "    plt.plot(np.arange(60), guards[guard])\n",
    "    plt.title(f\"Guard {guard} slept the most at min {max_sleep_min}\")\n",
    "    plt.xlabel(\"Minute\")\n",
    "    plt.ylabel(\"Minutes Slept\")\n",
    "    plt.show()\n",
    "    \n",
    "    print(f\"Guard {guard} slept a total of {total_sleep} and slept the most in minute {max_sleep_min}\")\n",
    "    print(f\"Part 1 Ans: {guard * max_sleep_min}\") \n",
    "\n",
    "max_sleeper(guards)"
   ]
  },
  {
   "cell_type": "markdown",
   "metadata": {},
   "source": [
    "Now for the real input:"
   ]
  },
  {
   "cell_type": "code",
   "execution_count": 9,
   "metadata": {},
   "outputs": [
    {
     "data": {
      "image/png": "[encoded data removed]",
      "text/plain": [
       "<Figure size 432x288 with 1 Axes>"
      ]
     },
     "metadata": {
      "needs_background": "light"
     },
     "output_type": "display_data"
    },
    {
     "name": "stdout",
     "output_type": "stream",
     "text": [
      "Guard 523 slept a total of 511.0 and slept the most in minute 38\n",
      "Part 1 Ans: 19874\n"
     ]
    }
   ],
   "source": [
    "guards = parse_input(inp)\n",
    "max_sleeper(guards)"
   ]
  },
  {
   "cell_type": "markdown",
   "metadata": {},
   "source": [
    "# Part 2\n",
    "\n",
    "Which guard is most asleep at the same minute? So which is the most slept on minute by a guard?\n",
    "\n",
    "We already have a dict of guards and minutes slept on, so this one is easy:"
   ]
  },
  {
   "cell_type": "code",
   "execution_count": 10,
   "metadata": {},
   "outputs": [
    {
     "name": "stdout",
     "output_type": "stream",
     "text": [
      "Guard 463 slept the most at min 49\n"
     ]
    },
    {
     "data": {
      "image/png": "[encoded data removed]",
      "text/plain": [
       "<Figure size 432x288 with 1 Axes>"
      ]
     },
     "metadata": {
      "needs_background": "light"
     },
     "output_type": "display_data"
    },
    {
     "data": {
      "text/plain": [
       "22687"
      ]
     },
     "execution_count": 10,
     "metadata": {},
     "output_type": "execute_result"
    }
   ],
   "source": [
    "def part_2(guards=guards):\n",
    "    g = [(guard, np.argmax(minutes)) for guard, minutes in guards.items()]\n",
    "    g = sorted(g, key=lambda x: x[1])\n",
    "    guard, m = g[-1]\n",
    "    print(f\"Guard {guard} slept the most at min {m}\")\n",
    "    \n",
    "    plt.bar(np.arange(60), guards[guard])\n",
    "    plt.title(f\"Guard {guard} slept the most at min {m}\")\n",
    "    plt.xlabel(\"Minute\")\n",
    "    plt.ylabel(\"Minutes Slept\")\n",
    "    plt.show()\n",
    "    \n",
    "    return guard * m\n",
    "\n",
    "part_2()    "
   ]
  }
 ],
 "metadata": {
  "kernelspec": {
   "display_name": "Python [default]",
   "language": "python",
   "name": "python3"
  },
  "language_info": {
   "codemirror_mode": {
    "name": "ipython",
    "version": 3
   },
   "file_extension": ".py",
   "mimetype": "text/x-python",
   "name": "python",
   "nbconvert_exporter": "python",
   "pygments_lexer": "ipython3",
   "version": "3.7.0"
  }
 },
 "nbformat": 4,
 "nbformat_minor": 2
}

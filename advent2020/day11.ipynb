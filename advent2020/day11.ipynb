{
 "cells": [
  {
   "cell_type": "code",
   "execution_count": 1,
   "metadata": {},
   "outputs": [],
   "source": [
    "import utils\n",
    "import math\n",
    "import re\n",
    "import itertools\n",
    "from typing import NamedTuple\n",
    "from collections import defaultdict, deque\n",
    "import itertools\n",
    "import numpy as np\n",
    "from copy import deepcopy\n",
    "\n",
    "import matplotlib.pyplot as plt"
   ]
  },
  {
   "cell_type": "markdown",
   "metadata": {},
   "source": [
    "## Day 11: Seating System\n",
    "\n",
    "[#](https://adventofcode.com/2020/day/11). We have a seating grid with `.` being floor, `L` an empty seat and `#` an occupied seat."
   ]
  },
  {
   "cell_type": "code",
   "execution_count": 2,
   "metadata": {},
   "outputs": [
    {
     "output_type": "execute_result",
     "data": {
      "text/plain": [
       "[['L', '.', 'L', 'L', '.', 'L', 'L', '.', 'L', 'L'],\n",
       " ['L', 'L', 'L', 'L', 'L', 'L', 'L', '.', 'L', 'L'],\n",
       " ['L', '.', 'L', '.', 'L', '.', '.', 'L', '.', '.'],\n",
       " ['L', 'L', 'L', 'L', '.', 'L', 'L', '.', 'L', 'L'],\n",
       " ['L', '.', 'L', 'L', '.', 'L', 'L', '.', 'L', 'L'],\n",
       " ['L', '.', 'L', 'L', 'L', 'L', 'L', '.', 'L', 'L'],\n",
       " ['.', '.', 'L', '.', 'L', '.', '.', '.', '.', '.'],\n",
       " ['L', 'L', 'L', 'L', 'L', 'L', 'L', 'L', 'L', 'L'],\n",
       " ['L', '.', 'L', 'L', 'L', 'L', 'L', 'L', '.', 'L'],\n",
       " ['L', '.', 'L', 'L', 'L', 'L', 'L', '.', 'L', 'L']]"
      ]
     },
     "metadata": {},
     "execution_count": 2
    }
   ],
   "source": [
    "test11 = \"\"\"L.LL.LL.LL\n",
    "LLLLLLL.LL\n",
    "L.L.L..L..\n",
    "LLLL.LL.LL\n",
    "L.LL.LL.LL\n",
    "L.LLLLL.LL\n",
    "..L.L.....\n",
    "LLLLLLLLLL\n",
    "L.LLLLLL.L\n",
    "L.LLLLL.LL\"\"\".splitlines()\n",
    "\n",
    "inp11 = utils.get_input(11, splitlines=True)\n",
    "\n",
    "def parse_11(inp=test11):\n",
    "    return [[c for c in row] for row in inp]\n",
    "\n",
    "grid = parse_11()\n",
    "grid"
   ]
  },
  {
   "cell_type": "code",
   "execution_count": 4,
   "metadata": {},
   "outputs": [
    {
     "output_type": "display_data",
     "data": {
      "text/plain": "<Figure size 432x288 with 1 Axes>",
      "image/svg+xml": "<?xml version=\"1.0\" encoding=\"utf-8\" standalone=\"no\"?>\n<!DOCTYPE svg PUBLIC \"-//W3C//DTD SVG 1.1//EN\"\n  \"http://www.w3.org/Graphics/SVG/1.1/DTD/svg11.dtd\">\n<!-- Created with matplotlib (https://matplotlib.org/) -->\n<svg height=\"231.84pt\" version=\"1.1\" viewBox=\"0 0 231.84 231.84\" width=\"231.84pt\" xmlns=\"http://www.w3.org/2000/svg\" xmlns:xlink=\"http://www.w3.org/1999/xlink\">\n <defs>\n  <style type=\"text/css\">\n*{stroke-linecap:butt;stroke-linejoin:round;}\n  </style>\n </defs>\n <g id=\"figure_1\">\n  <g id=\"patch_1\">\n   <path d=\"M 0 231.84 \nL 231.84 231.84 \nL 231.84 0 \nL 0 0 \nz\n\" style=\"fill:none;\"/>\n  </g>\n  <g id=\"axes_1\">\n   <g clip-path=\"url(#p16fb501fef)\">\n    <image height=\"218\" id=\"imagef1d249606e\" transform=\"scale(1 -1)translate(0 -218)\" width=\"218\" x=\"7.2\" xlink:href=\"data:image/png;base64,\niVBORw0KGgoAAAANSUhEUgAAANoAAADaCAYAAADAHVzbAAAABHNCSVQICAgIfAhkiAAAAwtJREFUeJzt3LFtAlEQQMHDuiqIKYAuqJkeCKgCqkByhBxb8r7T4ZkCvlZwT5vt4fU83ZYBl+N54tnl+riPvMuciW9hb9/B19YDwH8gNAgIDQJCg4DQICA0CAgNAkKDgNAgIDQICA0CQoOA0CAgNAgIDQJCg4DQICA0CAgNAkKDgNAgsG49AJ9v4mLV3q6s2WgQEBoEhAYBoUFAaBAQGgSEBgGhQUBoEBAaBIQGAaFBQGgQEBoEhAYBoUFAaBAQGgSEBgGhQUBoEDi8nqfb1kPAp7PRICA0CAgNAkKDgNAgIDQICA0CQoOA0CAgNAgIDQJCg4DQICA0CAgNAkKDgNAgIDQICA0CQoPAejmet57hV66P+5+/OfUbTMy6LHPzMsdGg4DQICA0CAgNAkKDgNAgIDQICA0CQoOA0CAgNAgIDQJCg4DQICA0CAgNAkKDgNAgIDQICA0CQoPA4fU83SYe3ttlKeZMfAt7+w5sNAgIDQJCg4DQICA0CAgNAkKDgNAgIDQICA0CQoOA0CAgNAgIDQJCg4DQICA0CAgNAkKDgNAgIDQIrFsP8MlcAuPNRoOA0CAgNAgIDQJCg4DQICA0CAgNAkKDgNAgIDQICA0CQoOA0CAgNAgIDQJCg4DQICA0CAgNAkKDwNgVLJea4IeNBgGhQUBoEBAaBIQGAaFBQGgQEBoEhAYBoUFAaBAQGgSEBgGhQUBoEBAaBIQGAaFBQGgQEBoEhAaBsStYl+N55N2J61p7mnVZ5uadsqf/bIqNBgGhQUBoEBAaBIQGAaFBQGgQEBoEhAYBoUFAaBAQGgSEBgGhQUBoEBAaBIQGAaFBQGgQEBoEDq/n6bb1EHy2iUM6U4ePpthoEBAaBIQGAaFBQGgQEBoEhAYBoUFAaBAQGgSEBgGhQUBoEBAaBIQGAaFBQGgQEBoEhAYBoUFAaBBYpx6euHy0LPu6fuQ34M1Gg4DQICA0CAgNAkKDgNAgIDQICA0CQoOA0CAgNAgIDQJCg4DQICA0CAgNAkKDgNAgIDQICA0CQoPAN8PmPQ2JVADoAAAAAElFTkSuQmCC\" y=\"-6.64\"/>\n   </g>\n  </g>\n </g>\n <defs>\n  <clipPath id=\"p16fb501fef\">\n   <rect height=\"217.44\" width=\"217.44\" x=\"7.2\" y=\"7.2\"/>\n  </clipPath>\n </defs>\n</svg>\n",
      "image/png": "[encoded data removed]"
     },
     "metadata": {
      "needs_background": "light"
     }
    }
   ],
   "source": [
    "def plot_grid(grid):\n",
    "    colors = {\"#\": 0, \".\": 100, \"L\": 200 }\n",
    "    new_grid = []\n",
    "    for y, row in enumerate(grid):\n",
    "        new_row = []\n",
    "        for x, char in enumerate(row):\n",
    "            new_row.append(colors[char])\n",
    "        new_grid.append(new_row)\n",
    "    \n",
    "    plt.imshow(new_grid, alpha=0.8)\n",
    "    plt.axis('off')\n",
    "    plt.show()\n",
    "\n",
    "plot_grid(grid)"
   ]
  },
  {
   "cell_type": "code",
   "execution_count": 5,
   "metadata": {},
   "outputs": [
    {
     "output_type": "execute_result",
     "data": {
      "text/plain": [
       "(False, 'L', False)"
      ]
     },
     "metadata": {},
     "execution_count": 5
    }
   ],
   "source": [
    "def get_char(grid, x, y):\n",
    "    \"\"\"returns character on grid at given x,y\"\"\"\n",
    "    if min(x,y) >= 0 and y < len(grid) and x < len(grid[0]):\n",
    "        return grid[y][x]\n",
    "    else:\n",
    "        return False\n",
    "    \n",
    "get_char(grid, 0, -1), get_char(grid, 0, 0), get_char(grid, 0, 10)"
   ]
  },
  {
   "cell_type": "code",
   "execution_count": 6,
   "metadata": {},
   "outputs": [
    {
     "output_type": "execute_result",
     "data": {
      "text/plain": [
       "0"
      ]
     },
     "metadata": {},
     "execution_count": 6
    }
   ],
   "source": [
    "def adjacent_seats(grid, x, y):\n",
    "    check = [(x-1, y+1), (x, y+1), (x+1, y+1),\n",
    "             (x-1, y), (x+1, y),\n",
    "             (x-1, y-1), (x, y-1), (x+1, y-1)]\n",
    "    \n",
    "    adjacent = 0\n",
    "    \n",
    "    for x, y in check:\n",
    "        char = get_char(grid, x, y)\n",
    "        if char and grid[y][x] == \"#\":\n",
    "            adjacent += 1\n",
    "        \n",
    "    return adjacent\n",
    "\n",
    "adjacent_seats(grid, 1, 1)"
   ]
  },
  {
   "cell_type": "code",
   "execution_count": 7,
   "metadata": {},
   "outputs": [
    {
     "output_type": "execute_result",
     "data": {
      "text/plain": [
       "0"
      ]
     },
     "metadata": {},
     "execution_count": 7
    }
   ],
   "source": [
    "def count_seats(grid, seat=\"#\"):\n",
    "    return sum([row.count(seat) for row in grid])\n",
    "\n",
    "count_seats(grid)"
   ]
  },
  {
   "cell_type": "code",
   "execution_count": 8,
   "metadata": {},
   "outputs": [
    {
     "output_type": "stream",
     "name": "stdout",
     "text": [
      "L.LL.LL.LL\nLLLLLLL.LL\nL.L.L..L..\nLLLL.LL.LL\nL.LL.LL.LL\nL.LLLLL.LL\n..L.L.....\nLLLLLLLLLL\nL.LLLLLL.L\nL.LLLLL.LL\n"
     ]
    }
   ],
   "source": [
    "def print_grid(grid=grid):\n",
    "    _ = [print(\"\".join(row)) for row in grid]\n",
    "    \n",
    "print_grid()"
   ]
  },
  {
   "cell_type": "code",
   "execution_count": 10,
   "metadata": {},
   "outputs": [
    {
     "output_type": "stream",
     "name": "stdout",
     "text": [
      "CPU times: user 7 µs, sys: 0 ns, total: 7 µs\nWall time: 12.4 µs\n"
     ]
    },
    {
     "output_type": "execute_result",
     "data": {
      "text/plain": [
       "2299"
      ]
     },
     "metadata": {},
     "execution_count": 10
    }
   ],
   "source": [
    "%time\n",
    "def solve_11(inp=test11) -> int:\n",
    "    \"\"\"applies rules until num of new seats don't change, return num of seats occupied\"\"\"\n",
    "    grid = parse_11(inp)\n",
    "    \n",
    "    seats = -1 # dummy num\n",
    "    new_seats = count_seats(grid)\n",
    "    \n",
    "    while seats != new_seats:\n",
    "        new_grid = deepcopy(grid)\n",
    "        \n",
    "        for y, row in enumerate(grid):\n",
    "            for x, char in enumerate(row):\n",
    "                if char == \"L\" and adjacent_seats(grid, x, y) == 0:\n",
    "                    new_grid[y][x] = \"#\"\n",
    "                elif char == \"#\" and adjacent_seats(grid, x, y) >= 4:\n",
    "                    new_grid[y][x] = \"L\"\n",
    "                else:\n",
    "                    pass\n",
    "                    #print((x,y), char, adjacent_seats(grid, x, y), get_char(grid, x, y))\n",
    "        \n",
    "        \n",
    "        grid = deepcopy(new_grid)\n",
    "        \n",
    "        seats = new_seats \n",
    "        new_seats = count_seats(grid)\n",
    "        \n",
    "    return count_seats(grid)\n",
    "    \n",
    "assert solve_11() == 37\n",
    "solve_11(inp11)"
   ]
  },
  {
   "source": [
    "phew! that took some doing. the ans to my input is `2299`."
   ],
   "cell_type": "markdown",
   "metadata": {}
  },
  {
   "cell_type": "markdown",
   "metadata": {},
   "source": [
    "## Part 2\n",
    "\n",
    "Instead of counting the adjacent seats, ppl just care about the first seat they can see in each direction.\n",
    "\n",
    "So look at the first seat visible in each of the eight directions (up, down, left, right, 4xdiagonal).\n",
    "\n",
    "The above code is pretty messy, so turning it into a class:"
   ]
  },
  {
   "cell_type": "code",
   "execution_count": 71,
   "metadata": {},
   "outputs": [
    {
     "output_type": "execute_result",
     "data": {
      "text/plain": [
       "0"
      ]
     },
     "metadata": {},
     "execution_count": 71
    }
   ],
   "source": [
    "class Seats:\n",
    "    def __init__(self, inp):\n",
    "        self.grid = parse_11(inp)\n",
    "        self.directions = [(-1, +1), (0, +1), (+1, +1),\n",
    "                           (-1,  0),          (+1,  0),\n",
    "                           (-1, -1), (0, -1), (+1, -1)]\n",
    "\n",
    "    def get_char(self, x:int, y:int) ->str:\n",
    "        \"\"\"returns character on grid at given x,y\"\"\"\n",
    "        if min(x,y) >= 0 and y < len(self.grid) and x < len(self.grid[0]):\n",
    "            return self.grid[y][x]\n",
    "        else:\n",
    "            return False\n",
    "\n",
    "    def count_seats(self, seat=\"#\") -> int:\n",
    "        return sum([row.count(seat) for row in self.grid])\n",
    "\n",
    "    def look_at_first_chair(self, X:int, Y:int) -> int:\n",
    "        \"\"\"looks at the first seat in each of the 8 directions\"\"\"\n",
    "        seat_count = 0\n",
    "\n",
    "        for dx, dy in self.directions:\n",
    "            x, y = X, Y # copy\n",
    "            \n",
    "            char = self.get_char(x, y) # starting location\n",
    "            while char: # keep going until exits board\n",
    "                x += dx\n",
    "                y += dy\n",
    "                char = self.get_char(x, y)\n",
    "\n",
    "                if char == \"L\":\n",
    "                    break\n",
    "                elif char == \"#\":\n",
    "                    seat_count += 1\n",
    "                    break\n",
    "            \n",
    "        return seat_count\n",
    "\n",
    "    def step(self):\n",
    "        \"\"\"evolve seating layout one step\"\"\"\n",
    "        new_grid = deepcopy(self.grid)\n",
    "        \n",
    "        for y, row in enumerate(self.grid):\n",
    "            for x, char in enumerate(row):\n",
    "                if char == \"L\" and self.look_at_first_chair(x, y) == 0:\n",
    "                    new_grid[y][x] = \"#\"\n",
    "                elif char == \"#\" and self.look_at_first_chair(x, y) >= 4:\n",
    "                    new_grid[y][x] = \"L\"\n",
    "                else:\n",
    "                    pass\n",
    "                    #print((x,y), char, adjacent_seats(grid, x, y), get_char(grid, x, y))\n",
    "        \n",
    "        \n",
    "        self.grid = deepcopy(new_grid)\n",
    "\n",
    "\n",
    "seats = Seats(inp=test11)\n",
    "seats.look_at_first_chair(0, 0)"
   ]
  },
  {
   "cell_type": "code",
   "execution_count": 70,
   "metadata": {},
   "outputs": [
    {
     "output_type": "execute_result",
     "data": {
      "text/plain": [
       "[['#', '.', 'L', 'L', '.', 'L', 'L', '.', 'L', '#'],\n",
       " ['L', 'L', '#', 'L', 'L', 'L', 'L', '.', 'L', 'L'],\n",
       " ['#', '.', 'L', '.', 'L', '.', '.', 'L', '.', '.'],\n",
       " ['L', 'L', 'L', 'L', '.', 'L', 'L', '.', 'L', 'L'],\n",
       " ['#', '.', 'L', 'L', '.', 'L', 'L', '.', 'L', 'L'],\n",
       " ['L', '.', 'L', 'L', 'L', 'L', 'L', '.', 'L', 'L'],\n",
       " ['.', '.', 'L', '.', 'L', '.', '.', '.', '.', '.'],\n",
       " ['#', 'L', 'L', 'L', 'L', 'L', 'L', 'L', 'L', '#'],\n",
       " ['L', '.', '#', 'L', 'L', 'L', 'L', '#', '.', 'L'],\n",
       " ['#', '.', 'L', 'L', 'L', 'L', 'L', '.', 'L', '#']]"
      ]
     },
     "metadata": {},
     "execution_count": 70
    }
   ],
   "source": [
    "seats.step()\n",
    "seats.grid"
   ]
  },
  {
   "cell_type": "code",
   "execution_count": 19,
   "metadata": {},
   "outputs": [
    {
     "output_type": "stream",
     "name": "stdout",
     "text": [
      "-1 1\n0 1\n1 1\n-1 0\n1 0\n-1 -1\n0 -1\n1 -1\n"
     ]
    }
   ],
   "source": [
    "directions = [(-1, +1), (0, +1), (+1, +1),\n",
    "              (-1,  0),          (+1,  0),\n",
    "              (-1, -1), (0, -1), (+1, -1)]\n",
    "\n",
    "for dx, dy in directions:\n",
    "    print(dx, dy)"
   ]
  },
  {
   "cell_type": "code",
   "execution_count": 29,
   "metadata": {},
   "outputs": [
    {
     "output_type": "error",
     "ename": "TypeError",
     "evalue": "'<' not supported between instances of 'numpy.ndarray' and 'int'",
     "traceback": [
      "\u001b[0;31m---------------------------------------------------------------------------\u001b[0m",
      "\u001b[0;31mTypeError\u001b[0m                                 Traceback (most recent call last)",
      "\u001b[0;32m<ipython-input-29-427af80347c4>\u001b[0m in \u001b[0;36m<module>\u001b[0;34m\u001b[0m\n\u001b[1;32m      4\u001b[0m \u001b[0mdx\u001b[0m\u001b[0;34m,\u001b[0m \u001b[0mdy\u001b[0m\u001b[0;34m,\u001b[0m \u001b[0mx\u001b[0m\u001b[0;34m,\u001b[0m \u001b[0my\u001b[0m\u001b[0;34m\u001b[0m\u001b[0;34m\u001b[0m\u001b[0m\n\u001b[1;32m      5\u001b[0m \u001b[0;34m\u001b[0m\u001b[0m\n\u001b[0;32m----> 6\u001b[0;31m \u001b[0mget_char\u001b[0m\u001b[0;34m(\u001b[0m\u001b[0mx\u001b[0m\u001b[0;34m,\u001b[0m \u001b[0my\u001b[0m\u001b[0;34m,\u001b[0m \u001b[0mn\u001b[0m\u001b[0;34m)\u001b[0m\u001b[0;34m\u001b[0m\u001b[0;34m\u001b[0m\u001b[0m\n\u001b[0m",
      "\u001b[0;32m<ipython-input-5-a40ec2d922e3>\u001b[0m in \u001b[0;36mget_char\u001b[0;34m(grid, x, y)\u001b[0m\n\u001b[1;32m      1\u001b[0m \u001b[0;32mdef\u001b[0m \u001b[0mget_char\u001b[0m\u001b[0;34m(\u001b[0m\u001b[0mgrid\u001b[0m\u001b[0;34m,\u001b[0m \u001b[0mx\u001b[0m\u001b[0;34m,\u001b[0m \u001b[0my\u001b[0m\u001b[0;34m)\u001b[0m\u001b[0;34m:\u001b[0m\u001b[0;34m\u001b[0m\u001b[0;34m\u001b[0m\u001b[0m\n\u001b[1;32m      2\u001b[0m     \u001b[0;34m\"\"\"returns character on grid at given x,y\"\"\"\u001b[0m\u001b[0;34m\u001b[0m\u001b[0;34m\u001b[0m\u001b[0m\n\u001b[0;32m----> 3\u001b[0;31m     \u001b[0;32mif\u001b[0m \u001b[0mmin\u001b[0m\u001b[0;34m(\u001b[0m\u001b[0mx\u001b[0m\u001b[0;34m,\u001b[0m\u001b[0my\u001b[0m\u001b[0;34m)\u001b[0m \u001b[0;34m>=\u001b[0m \u001b[0;36m0\u001b[0m \u001b[0;32mand\u001b[0m \u001b[0my\u001b[0m \u001b[0;34m<\u001b[0m \u001b[0mlen\u001b[0m\u001b[0;34m(\u001b[0m\u001b[0mgrid\u001b[0m\u001b[0;34m)\u001b[0m \u001b[0;32mand\u001b[0m \u001b[0mx\u001b[0m \u001b[0;34m<\u001b[0m \u001b[0mlen\u001b[0m\u001b[0;34m(\u001b[0m\u001b[0mgrid\u001b[0m\u001b[0;34m[\u001b[0m\u001b[0;36m0\u001b[0m\u001b[0;34m]\u001b[0m\u001b[0;34m)\u001b[0m\u001b[0;34m:\u001b[0m\u001b[0;34m\u001b[0m\u001b[0;34m\u001b[0m\u001b[0m\n\u001b[0m\u001b[1;32m      4\u001b[0m         \u001b[0;32mreturn\u001b[0m \u001b[0mgrid\u001b[0m\u001b[0;34m[\u001b[0m\u001b[0my\u001b[0m\u001b[0;34m]\u001b[0m\u001b[0;34m[\u001b[0m\u001b[0mx\u001b[0m\u001b[0;34m]\u001b[0m\u001b[0;34m\u001b[0m\u001b[0;34m\u001b[0m\u001b[0m\n\u001b[1;32m      5\u001b[0m     \u001b[0;32melse\u001b[0m\u001b[0;34m:\u001b[0m\u001b[0;34m\u001b[0m\u001b[0;34m\u001b[0m\u001b[0m\n",
      "\u001b[0;31mTypeError\u001b[0m: '<' not supported between instances of 'numpy.ndarray' and 'int'"
     ]
    }
   ],
   "source": [
    "x, y = (3,3)\n",
    "\n",
    "dx, dy = directions[0]\n",
    "dx, dy, x, y\n",
    "\n",
    "get_char(x, y, n)"
   ]
  },
  {
   "cell_type": "code",
   "execution_count": 12,
   "metadata": {},
   "outputs": [
    {
     "output_type": "execute_result",
     "data": {
      "text/plain": [
       "array([['L', '.', 'L', 'L', '.', 'L', 'L', '.', 'L', 'L'],\n",
       "       ['L', 'L', 'L', 'L', 'L', 'L', 'L', '.', 'L', 'L'],\n",
       "       ['L', '.', 'L', '.', 'L', '.', '.', 'L', '.', '.'],\n",
       "       ['L', 'L', 'L', 'L', '.', 'L', 'L', '.', 'L', 'L'],\n",
       "       ['L', '.', 'L', 'L', '.', 'L', 'L', '.', 'L', 'L'],\n",
       "       ['L', '.', 'L', 'L', 'L', 'L', 'L', '.', 'L', 'L'],\n",
       "       ['.', '.', 'L', '.', 'L', '.', '.', '.', '.', '.'],\n",
       "       ['L', 'L', 'L', 'L', 'L', 'L', 'L', 'L', 'L', 'L'],\n",
       "       ['L', '.', 'L', 'L', 'L', 'L', 'L', 'L', '.', 'L'],\n",
       "       ['L', '.', 'L', 'L', 'L', 'L', 'L', '.', 'L', 'L']], dtype='<U1')"
      ]
     },
     "metadata": {},
     "execution_count": 12
    }
   ],
   "source": [
    "n = np.array(grid)\n",
    "n"
   ]
  },
  {
   "cell_type": "code",
   "execution_count": 13,
   "metadata": {},
   "outputs": [
    {
     "output_type": "execute_result",
     "data": {
      "text/plain": [
       "(array(['L', '.', 'L', '.', 'L', '.', '.', 'L', '.', '.'], dtype='<U1'),\n",
       " array(['L', 'L', 'L', 'L', 'L', 'L', 'L', 'L', 'L', 'L'], dtype='<U1'))"
      ]
     },
     "metadata": {},
     "execution_count": 13
    }
   ],
   "source": [
    "x, y = 2,2\n",
    "xx = n[y,:] # horizontal\n",
    "yy = n[:,x] # vertical\n",
    "xx, yy"
   ]
  },
  {
   "cell_type": "code",
   "execution_count": 16,
   "metadata": {},
   "outputs": [
    {
     "output_type": "execute_result",
     "data": {
      "text/plain": [
       "(array(['L', 'L', 'L', 'L', 'L', '.', '.', 'L'], dtype='<U1'),\n",
       " array(['L', 'L', 'L', 'L', '.', 'L', '.', 'L', '.', 'L'], dtype='<U1'))"
      ]
     },
     "metadata": {},
     "execution_count": 16
    }
   ],
   "source": [
    "diag1 = n.diagonal(offset=2) # topleft to bottom right\n",
    "diag2 = n.diagonal() # bottom left to top right\n",
    "diag1, diag2, "
   ]
  },
  {
   "cell_type": "code",
   "execution_count": 4,
   "metadata": {},
   "outputs": [],
   "source": [
    "def solve_6b(inp=test6):\n",
    "    pass\n",
    "    \n",
    "#assert solve_6b() == 6\n",
    "solve_6b()"
   ]
  },
  {
   "cell_type": "code",
   "execution_count": 181,
   "metadata": {},
   "outputs": [
    {
     "data": {
      "text/plain": [
       "[['L', '.', 'L', 'L', '.', 'L', 'L', '.', 'L', 'L'],\n",
       " ['L', 'L', 'L', 'L', 'L', 'L', 'L', '.', 'L', 'L'],\n",
       " ['L', '.', 'L', '.', 'L', '.', '.', 'L', '.', '.'],\n",
       " ['L', 'L', 'L', 'L', '.', 'L', 'L', '.', 'L', 'L'],\n",
       " ['L', '.', 'L', 'L', '.', 'L', 'L', '.', 'L', 'L'],\n",
       " ['L', '.', 'L', 'L', 'L', 'L', 'L', '.', 'L', 'L'],\n",
       " ['.', '.', 'L', '.', 'L', '.', '.', '.', '.', '.'],\n",
       " ['L', 'L', 'L', 'L', 'L', 'L', 'L', 'L', 'L', 'L'],\n",
       " ['L', '.', 'L', 'L', 'L', 'L', 'L', 'L', '.', 'L'],\n",
       " ['L', '.', 'L', 'L', 'L', 'L', 'L', '.', 'L', 'L']]"
      ]
     },
     "execution_count": 181,
     "metadata": {},
     "output_type": "execute_result"
    }
   ],
   "source": [
    "x, y = 1, 1\n",
    "x, y\n",
    "grid"
   ]
  },
  {
   "cell_type": "code",
   "execution_count": 182,
   "metadata": {},
   "outputs": [
    {
     "data": {
      "text/plain": [
       "['L', 'L', 'L', 'L', 'L', 'L', 'L', '.', 'L', 'L']"
      ]
     },
     "execution_count": 182,
     "metadata": {},
     "output_type": "execute_result"
    }
   ],
   "source": [
    "grid[y]"
   ]
  },
  {
   "cell_type": "code",
   "execution_count": null,
   "metadata": {},
   "outputs": [],
   "source": [
    "def visible_seats(grid, x, y):\n",
    "    \"\"\"return num of seats visible\"\"\"\n",
    "    check = [(x-1, y+1), (x, y+1), (x+1, y+1),\n",
    "             (x-1, y), (x+1, y),\n",
    "             (x-1, y-1), (x, y-1), (x+1, y-1)]"
   ]
  }
 ],
 "metadata": {
  "kernelspec": {
   "name": "python3",
   "display_name": "Python 3.8.3 64-bit ('anaconda3': virtualenv)",
   "metadata": {
    "interpreter": {
     "hash": "efcc86ea4a39a2642e38ee81392295025844417aa5c1c3d1f32da5a521641db4"
    }
   }
  },
  "language_info": {
   "codemirror_mode": {
    "name": "ipython",
    "version": 3
   },
   "file_extension": ".py",
   "mimetype": "text/x-python",
   "name": "python",
   "nbconvert_exporter": "python",
   "pygments_lexer": "ipython3",
   "version": "3.8.3-final"
  }
 },
 "nbformat": 4,
 "nbformat_minor": 4
}
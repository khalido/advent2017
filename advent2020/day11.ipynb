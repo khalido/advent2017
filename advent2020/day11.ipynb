{
 "cells": [
  {
   "cell_type": "code",
   "execution_count": 166,
   "metadata": {},
   "outputs": [],
   "source": [
    "import utils\n",
    "import math\n",
    "import re\n",
    "import itertools\n",
    "from typing import NamedTuple\n",
    "from collections import defaultdict, deque\n",
    "import itertools\n",
    "import numpy as np\n",
    "from copy import deepcopy\n",
    "\n",
    "import matplotlib.pyplot as plt"
   ]
  },
  {
   "cell_type": "markdown",
   "metadata": {},
   "source": [
    "## Day 11: Seating System\n",
    "\n",
    "[#](https://adventofcode.com/2020/day/11). We have a seating grid with `.` being floor, `L` an empty seat and `#` an occupied seat."
   ]
  },
  {
   "cell_type": "code",
   "execution_count": 86,
   "metadata": {},
   "outputs": [
    {
     "data": {
      "text/plain": [
       "[['L', '.', 'L', 'L', '.', 'L', 'L', '.', 'L', 'L'],\n",
       " ['L', 'L', 'L', 'L', 'L', 'L', 'L', '.', 'L', 'L'],\n",
       " ['L', '.', 'L', '.', 'L', '.', '.', 'L', '.', '.'],\n",
       " ['L', 'L', 'L', 'L', '.', 'L', 'L', '.', 'L', 'L'],\n",
       " ['L', '.', 'L', 'L', '.', 'L', 'L', '.', 'L', 'L'],\n",
       " ['L', '.', 'L', 'L', 'L', 'L', 'L', '.', 'L', 'L'],\n",
       " ['.', '.', 'L', '.', 'L', '.', '.', '.', '.', '.'],\n",
       " ['L', 'L', 'L', 'L', 'L', 'L', 'L', 'L', 'L', 'L'],\n",
       " ['L', '.', 'L', 'L', 'L', 'L', 'L', 'L', '.', 'L'],\n",
       " ['L', '.', 'L', 'L', 'L', 'L', 'L', '.', 'L', 'L']]"
      ]
     },
     "execution_count": 86,
     "metadata": {},
     "output_type": "execute_result"
    }
   ],
   "source": [
    "test11 = \"\"\"L.LL.LL.LL\n",
    "LLLLLLL.LL\n",
    "L.L.L..L..\n",
    "LLLL.LL.LL\n",
    "L.LL.LL.LL\n",
    "L.LLLLL.LL\n",
    "..L.L.....\n",
    "LLLLLLLLLL\n",
    "L.LLLLLL.L\n",
    "L.LLLLL.LL\"\"\".splitlines()\n",
    "\n",
    "inp11 = utils.get_input(11, splitlines=True)\n",
    "\n",
    "def parse_11(inp=test11):\n",
    "    return [[c for c in row] for row in inp]\n",
    "\n",
    "grid = parse_11()\n",
    "grid"
   ]
  },
  {
   "cell_type": "code",
   "execution_count": 161,
   "metadata": {},
   "outputs": [
    {
     "data": {
      "image/png": "[encoded data removed]",
      "text/plain": [
       "<Figure size 432x288 with 1 Axes>"
      ]
     },
     "metadata": {
      "needs_background": "light"
     },
     "output_type": "display_data"
    }
   ],
   "source": [
    "def plot_grid(grid):\n",
    "    colors = {\"#\": 0, \".\": 100, \"L\": 200 }\n",
    "    new_grid = []\n",
    "    for y, row in enumerate(grid):\n",
    "        new_row = []\n",
    "        for x, char in enumerate(row):\n",
    "            new_row.append(colors[char])\n",
    "        new_grid.append(new_row)\n",
    "    \n",
    "    plt.imshow(new_grid, alpha=0.8)\n",
    "    plt.show()\n",
    "\n",
    "plot_grid(grid)"
   ]
  },
  {
   "cell_type": "code",
   "execution_count": 149,
   "metadata": {},
   "outputs": [
    {
     "data": {
      "text/plain": [
       "(False, 'L', False)"
      ]
     },
     "execution_count": 149,
     "metadata": {},
     "output_type": "execute_result"
    }
   ],
   "source": [
    "def get_char(grid, x, y):\n",
    "    \"\"\"returns character on grid at given x,y\"\"\"\n",
    "    if min(x,y) >= 0 and y < len(grid) and x < len(grid[0]):\n",
    "        return grid[y][x]\n",
    "    else:\n",
    "        return False\n",
    "    \n",
    "get_char(grid, 0, -1), get_char(grid, 0, 0), get_char(grid, 0, 10)"
   ]
  },
  {
   "cell_type": "code",
   "execution_count": 162,
   "metadata": {},
   "outputs": [
    {
     "data": {
      "text/plain": [
       "0"
      ]
     },
     "execution_count": 162,
     "metadata": {},
     "output_type": "execute_result"
    }
   ],
   "source": [
    "def adjacent_seats(grid, x, y):\n",
    "    check = [(x-1, y+1), (x, y+1), (x+1, y+1),\n",
    "             (x-1, y), (x+1, y),\n",
    "             (x-1, y-1), (x, y-1), (x+1, y-1)]\n",
    "    \n",
    "    adjacent = 0\n",
    "    \n",
    "    for x, y in check:\n",
    "        char = get_char(grid, x, y)\n",
    "        if char and grid[y][x] == \"#\":\n",
    "            adjacent += 1\n",
    "        \n",
    "    return adjacent\n",
    "\n",
    "adjacent_seats(grid, 1, 1)"
   ]
  },
  {
   "cell_type": "code",
   "execution_count": 163,
   "metadata": {},
   "outputs": [
    {
     "data": {
      "text/plain": [
       "0"
      ]
     },
     "execution_count": 163,
     "metadata": {},
     "output_type": "execute_result"
    }
   ],
   "source": [
    "def count_seats(grid, seat=\"#\"):\n",
    "    return sum([row.count(seat) for row in grid])\n",
    "\n",
    "count_seats(grid)"
   ]
  },
  {
   "cell_type": "code",
   "execution_count": 164,
   "metadata": {},
   "outputs": [
    {
     "name": "stdout",
     "output_type": "stream",
     "text": [
      "L.LL.LL.LL\n",
      "LLLLLLL.LL\n",
      "L.L.L..L..\n",
      "LLLL.LL.LL\n",
      "L.LL.LL.LL\n",
      "L.LLLLL.LL\n",
      "..L.L.....\n",
      "LLLLLLLLLL\n",
      "L.LLLLLL.L\n",
      "L.LLLLL.LL\n"
     ]
    }
   ],
   "source": [
    "def print_grid(grid=grid):\n",
    "    _ = [print(\"\".join(row)) for row in grid]\n",
    "    \n",
    "print_grid()"
   ]
  },
  {
   "cell_type": "code",
   "execution_count": 178,
   "metadata": {},
   "outputs": [
    {
     "data": {
      "text/plain": [
       "2299"
      ]
     },
     "execution_count": 178,
     "metadata": {},
     "output_type": "execute_result"
    }
   ],
   "source": [
    "def solve_11(inp=test11):\n",
    "    grid = parse_11(inp)\n",
    "    \n",
    "    seats = -1 # dummy num\n",
    "    new_seats = count_seats(grid)\n",
    "    \n",
    "    while seats != new_seats:\n",
    "        new_grid = deepcopy(grid)\n",
    "        \n",
    "        for y, row in enumerate(grid):\n",
    "            for x, char in enumerate(row):\n",
    "                if char == \"L\" and adjacent_seats(grid, x, y) == 0:\n",
    "                    new_grid[y][x] = \"#\"\n",
    "                elif char == \"#\" and adjacent_seats(grid, x, y) >= 4:\n",
    "                    new_grid[y][x] = \"L\"\n",
    "                else:\n",
    "                    pass\n",
    "                    #print((x,y), char, adjacent_seats(grid, x, y), get_char(grid, x, y))\n",
    "        \n",
    "        \n",
    "        grid = deepcopy(new_grid)\n",
    "        \n",
    "        seats = new_seats \n",
    "        new_seats = count_seats(grid)\n",
    "        \n",
    "    return count_seats(grid)\n",
    "    \n",
    "assert solve_11() == 37\n",
    "solve_11(inp11)"
   ]
  },
  {
   "cell_type": "markdown",
   "metadata": {},
   "source": [
    "## Part 2\n",
    "\n",
    "Instead of counting the adjacent seats, ppl just care about the first seat they can see in each direction.\n",
    "\n",
    "So look at the first seat visible in each of the eight directions (up, down, sides, diagonal).\n",
    "\n",
    "I haven't been using numpy so far, but slicing and dicing grids is where it excels. Already part 1 got pretty long, so lets see what numpy brings to the table:"
   ]
  },
  {
   "cell_type": "code",
   "execution_count": 183,
   "metadata": {},
   "outputs": [],
   "source": [
    "import numpy as np"
   ]
  },
  {
   "cell_type": "code",
   "execution_count": 186,
   "metadata": {},
   "outputs": [
    {
     "data": {
      "text/plain": [
       "array([['L', '.', 'L', 'L', '.', 'L', 'L', '.', 'L', 'L'],\n",
       "       ['L', 'L', 'L', 'L', 'L', 'L', 'L', '.', 'L', 'L'],\n",
       "       ['L', '.', 'L', '.', 'L', '.', '.', 'L', '.', '.'],\n",
       "       ['L', 'L', 'L', 'L', '.', 'L', 'L', '.', 'L', 'L'],\n",
       "       ['L', '.', 'L', 'L', '.', 'L', 'L', '.', 'L', 'L'],\n",
       "       ['L', '.', 'L', 'L', 'L', 'L', 'L', '.', 'L', 'L'],\n",
       "       ['.', '.', 'L', '.', 'L', '.', '.', '.', '.', '.'],\n",
       "       ['L', 'L', 'L', 'L', 'L', 'L', 'L', 'L', 'L', 'L'],\n",
       "       ['L', '.', 'L', 'L', 'L', 'L', 'L', 'L', '.', 'L'],\n",
       "       ['L', '.', 'L', 'L', 'L', 'L', 'L', '.', 'L', 'L']], dtype='<U1')"
      ]
     },
     "execution_count": 186,
     "metadata": {},
     "output_type": "execute_result"
    }
   ],
   "source": [
    "n = np.array(grid)\n",
    "n"
   ]
  },
  {
   "cell_type": "code",
   "execution_count": 205,
   "metadata": {},
   "outputs": [
    {
     "data": {
      "text/plain": [
       "(array(['L', '.', 'L', '.', 'L', '.', '.', 'L', '.', '.'], dtype='<U1'),\n",
       " array(['L', 'L', 'L', 'L', 'L', 'L', 'L', 'L', 'L', 'L'], dtype='<U1'))"
      ]
     },
     "execution_count": 205,
     "metadata": {},
     "output_type": "execute_result"
    }
   ],
   "source": [
    "x, y = 2,2\n",
    "xx = n[y,:] # horizontal\n",
    "yy = n[:,x] # vertical\n",
    "xx, yy"
   ]
  },
  {
   "cell_type": "code",
   "execution_count": 217,
   "metadata": {},
   "outputs": [
    {
     "data": {
      "text/plain": [
       "(array(['L', 'L', 'L', 'L', '.', 'L', '.', 'L', '.', 'L'], dtype='<U1'),\n",
       " array(['L', '.', 'L', 'L', 'L', '.', 'L', 'L', 'L'], dtype='<U1'))"
      ]
     },
     "execution_count": 217,
     "metadata": {},
     "output_type": "execute_result"
    }
   ],
   "source": [
    "diag1 = n.diagonal() # topleft to bottom right\n",
    "diag2 = n.diagonal() # bottom left to top right\n",
    "diag1, diag2, "
   ]
  },
  {
   "cell_type": "code",
   "execution_count": 4,
   "metadata": {},
   "outputs": [],
   "source": [
    "def solve_6b(inp=test6):\n",
    "    pass\n",
    "    \n",
    "#assert solve_6b() == 6\n",
    "solve_6b()"
   ]
  },
  {
   "cell_type": "code",
   "execution_count": 181,
   "metadata": {},
   "outputs": [
    {
     "data": {
      "text/plain": [
       "[['L', '.', 'L', 'L', '.', 'L', 'L', '.', 'L', 'L'],\n",
       " ['L', 'L', 'L', 'L', 'L', 'L', 'L', '.', 'L', 'L'],\n",
       " ['L', '.', 'L', '.', 'L', '.', '.', 'L', '.', '.'],\n",
       " ['L', 'L', 'L', 'L', '.', 'L', 'L', '.', 'L', 'L'],\n",
       " ['L', '.', 'L', 'L', '.', 'L', 'L', '.', 'L', 'L'],\n",
       " ['L', '.', 'L', 'L', 'L', 'L', 'L', '.', 'L', 'L'],\n",
       " ['.', '.', 'L', '.', 'L', '.', '.', '.', '.', '.'],\n",
       " ['L', 'L', 'L', 'L', 'L', 'L', 'L', 'L', 'L', 'L'],\n",
       " ['L', '.', 'L', 'L', 'L', 'L', 'L', 'L', '.', 'L'],\n",
       " ['L', '.', 'L', 'L', 'L', 'L', 'L', '.', 'L', 'L']]"
      ]
     },
     "execution_count": 181,
     "metadata": {},
     "output_type": "execute_result"
    }
   ],
   "source": [
    "x, y = 1, 1\n",
    "x, y\n",
    "grid"
   ]
  },
  {
   "cell_type": "code",
   "execution_count": 182,
   "metadata": {},
   "outputs": [
    {
     "data": {
      "text/plain": [
       "['L', 'L', 'L', 'L', 'L', 'L', 'L', '.', 'L', 'L']"
      ]
     },
     "execution_count": 182,
     "metadata": {},
     "output_type": "execute_result"
    }
   ],
   "source": [
    "grid[y]"
   ]
  },
  {
   "cell_type": "code",
   "execution_count": null,
   "metadata": {},
   "outputs": [],
   "source": [
    "def visible_seats(grid, x, y):\n",
    "    \"\"\"return num of seats visible\"\"\"\n",
    "    check = [(x-1, y+1), (x, y+1), (x+1, y+1),\n",
    "             (x-1, y), (x+1, y),\n",
    "             (x-1, y-1), (x, y-1), (x+1, y-1)]"
   ]
  }
 ],
 "metadata": {
  "kernelspec": {
   "display_name": "Python [conda env:root] *",
   "language": "python",
   "name": "conda-root-py"
  },
  "language_info": {
   "codemirror_mode": {
    "name": "ipython",
    "version": 3
   },
   "file_extension": ".py",
   "mimetype": "text/x-python",
   "name": "python",
   "nbconvert_exporter": "python",
   "pygments_lexer": "ipython3",
   "version": "3.8.3"
  }
 },
 "nbformat": 4,
 "nbformat_minor": 4
}

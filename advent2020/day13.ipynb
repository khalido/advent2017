{
 "cells": [
  {
   "cell_type": "code",
   "execution_count": 79,
   "metadata": {},
   "outputs": [],
   "source": [
    "import utils\n",
    "import math\n",
    "import re\n",
    "import itertools\n",
    "from typing import NamedTuple\n",
    "from collections import defaultdict, deque\n",
    "import itertools\n",
    "\n",
    "import matplotlib.pyplot as plt"
   ]
  },
  {
   "cell_type": "markdown",
   "metadata": {},
   "source": [
    "## Day 13: Shuttle Search\n",
    "\n",
    "[#](https://adventofcode.com/2020/day/13). Figure out a bus timetable. Buses have an ID number which indicates how often a bus leaves for the airport.\n",
    "\n",
    "A bus with ID 5 departs from port every 5 minutes, starting at `t=0`. Every bus leaves the port at time 0 then repeats."
   ]
  },
  {
   "cell_type": "code",
   "execution_count": 135,
   "metadata": {},
   "outputs": [
    {
     "name": "stdout",
     "output_type": "stream",
     "text": [
      "939 [7, 13, 59, 31, 19]\n"
     ]
    }
   ],
   "source": [
    "test13 = \"\"\"939\n",
    "7,13,x,x,59,x,31,19\n",
    "\"\"\".splitlines()\n",
    "\n",
    "inp13 = utils.get_input(13, splitlines=True)\n",
    "\n",
    "def parse_13(inp=test13, verbose=False):\n",
    "    return int(inp[0]), [int(i) for i in inp[1].split(\",\") if i != \"x\"]\n",
    "\n",
    "earliest, bus_ids = parse_13()\n",
    "print(earliest, bus_ids)"
   ]
  },
  {
   "cell_type": "markdown",
   "metadata": {},
   "source": [
    "I'm doing this the simple brute force way, though there is a simple way to mathify all this too!"
   ]
  },
  {
   "cell_type": "code",
   "execution_count": 36,
   "metadata": {},
   "outputs": [
    {
     "data": {
      "text/plain": [
       "4722"
      ]
     },
     "execution_count": 36,
     "metadata": {},
     "output_type": "execute_result"
    }
   ],
   "source": [
    "def solve_13(inp=test13):\n",
    "    earliest, bus_ids = parse_13(inp)\n",
    "    \n",
    "    for time in range(earliest, earliest + max(bus_ids)):\n",
    "        for n in bus_ids:\n",
    "            if time %n == 0:\n",
    "                time_waited = time - earliest\n",
    "                return time_waited * n\n",
    "            \n",
    "    \n",
    "assert solve_13() == 295\n",
    "solve_13(inp13)"
   ]
  },
  {
   "cell_type": "markdown",
   "metadata": {},
   "source": [
    "## Part 2\n",
    "\n",
    "So now we have staggered departure times, which makes all this a bit more complex.\n",
    "\n",
    "We need to find the earliest times at which all the buses leave at offsets matching their positions in the list.\n",
    "\n",
    "Add a bus tuple to make it easier to read:"
   ]
  },
  {
   "cell_type": "code",
   "execution_count": 167,
   "metadata": {},
   "outputs": [
    {
     "data": {
      "text/plain": [
       "[Bus(every=17, offset=0), Bus(every=13, offset=2), Bus(every=19, offset=3)]"
      ]
     },
     "execution_count": 167,
     "metadata": {},
     "output_type": "execute_result"
    }
   ],
   "source": [
    "test_13a = \"17,x,13,19\"\n",
    "test_13b = \"67,x,7,59,61\"\n",
    "test_13d = \"1789,37,47,1889\"\n",
    "\n",
    "class Bus(NamedTuple):\n",
    "    every: int\n",
    "    offset: int\n",
    "        \n",
    "def parse_13b(inp=test_13a):\n",
    "    \"\"\"returns a list of tuples of bus_id, offset\"\"\"\n",
    "    inp = inp.split(\",\")\n",
    "    return [Bus(int(i), int(inp.index(i))) for i in inp if i!=\"x\"]\n",
    "\n",
    "inp = parse_13b()\n",
    "inp"
   ]
  },
  {
   "cell_type": "code",
   "execution_count": 170,
   "metadata": {},
   "outputs": [
    {
     "name": "stdout",
     "output_type": "stream",
     "text": [
      "At time 3,417 buses are staggered by their offsets\n",
      "At time 779,210 buses are staggered by their offsets\n",
      "At time 1,202,161,486 buses are staggered by their offsets\n"
     ]
    }
   ],
   "source": [
    "def solve_13b(inp=test_13a, start=10**10, end=10**16):\n",
    "    \"\"\"a simple brute force solution\"\"\"\n",
    "    inp = parse_13b(inp)\n",
    "    cycle = inp[0].every\n",
    "    for t in range(cycle*start, end, cycle):\n",
    "        h = [(t+bus.offset) % bus.every == 0 for bus in inp]\n",
    "        if all(h):\n",
    "            print(f\"At time {t:,} buses are staggered by their offsets\")\n",
    "            return t\n",
    "        \n",
    "assert solve_13b(start=0, end=5000) == 3417\n",
    "assert solve_13b(test_13b, start=10, end=10**11) == 779210\n",
    "assert solve_13b(test_13d, start=10**5, end=10**11) == 1202161486"
   ]
  },
  {
   "cell_type": "markdown",
   "metadata": {},
   "source": [
    "The brute force solution works for the test inputs but is too slow for the actual input. So to speed it up I'm going to try and solve this in pairs, which should quickly lead to bigger timejumps."
   ]
  },
  {
   "cell_type": "code",
   "execution_count": 190,
   "metadata": {},
   "outputs": [],
   "source": [
    "def solve_13_pair(inp, cycle, start=1, end=10**16):\n",
    "\n",
    "    for t in range(cycle*start, end, cycle):\n",
    "        h = [(t+bus.offset) % bus.every == 0 for bus in inp]\n",
    "        if all(h):\n",
    "            #print(f\"At time {t:,} buses are staggered by their offsets\")\n",
    "            return t"
   ]
  },
  {
   "cell_type": "code",
   "execution_count": 191,
   "metadata": {},
   "outputs": [
    {
     "name": "stdout",
     "output_type": "stream",
     "text": [
      "102 Bus(every=13, offset=2)\n",
      "510 Bus(every=19, offset=3)\n"
     ]
    }
   ],
   "source": [
    "inp = parse_13b(test_13a)\n",
    "first_bus = inp[0]\n",
    "cycle = inp[0].every\n",
    "\n",
    "c = []\n",
    "\n",
    "for bus in inp[1:]:\n",
    "    cycle = solve_13_pair([first_bus, bus], cycle)\n",
    "    print(cycle, bus)\n",
    "    c.append(cycle)"
   ]
  },
  {
   "cell_type": "code",
   "execution_count": 195,
   "metadata": {},
   "outputs": [
    {
     "data": {
      "text/plain": [
       "52020"
      ]
     },
     "execution_count": 195,
     "metadata": {},
     "output_type": "execute_result"
    }
   ],
   "source": [
    "math.prod(c)"
   ]
  },
  {
   "cell_type": "code",
   "execution_count": null,
   "metadata": {},
   "outputs": [],
   "source": []
  }
 ],
 "metadata": {
  "kernelspec": {
   "display_name": "Python [conda env:root] *",
   "language": "python",
   "name": "conda-root-py"
  },
  "language_info": {
   "codemirror_mode": {
    "name": "ipython",
    "version": 3
   },
   "file_extension": ".py",
   "mimetype": "text/x-python",
   "name": "python",
   "nbconvert_exporter": "python",
   "pygments_lexer": "ipython3",
   "version": "3.8.3"
  }
 },
 "nbformat": 4,
 "nbformat_minor": 4
}

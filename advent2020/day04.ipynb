{
 "cells": [
  {
   "cell_type": "code",
   "execution_count": 1,
   "metadata": {},
   "outputs": [],
   "source": [
    "import utils\n",
    "import math\n",
    "import re\n",
    "import itertools\n",
    "import matplotlib.pyplot as plt\n",
    "from collections import namedtuple"
   ]
  },
  {
   "cell_type": "markdown",
   "metadata": {},
   "source": [
    "## Day 4: Passport Processing \n",
    "\n",
    "[#](https://adventofcode.com/2020/day/4). We have password data in the form:\n",
    "\n",
    "code | name | comment\n",
    "---  | ---- | -----\n",
    "byr | (Birth Year) |\n",
    "iyr | (Issue Year) | \n",
    "eyr | (Expiration Year) | \n",
    "hgt | (Height) | \n",
    "hcl | (Hair Color) | \n",
    "ecl | (Eye Color) | \n",
    "pid | (Passport ID) |\n",
    "cid | (Country ID) | ignored\n",
    "\n",
    "For part 1, only the **cid** field can be missing, the other seven have to be present for the data to be valid.\n",
    "\n",
    "This is interesting becuase we basically have to write a data parser. So once again I'll use a named tuple, though a data class might be better as that has built in validation features."
   ]
  },
  {
   "cell_type": "code",
   "execution_count": 3,
   "metadata": {},
   "outputs": [],
   "source": [
    "test4 = \"\"\"ecl:gry pid:860033327 eyr:2020 hcl:#fffffd\n",
    "byr:1937 iyr:2017 cid:147 hgt:183cm\n",
    "\n",
    "iyr:2013 ecl:amb cid:350 eyr:2023 pid:028048884\n",
    "hcl:#cfa07d byr:1929\n",
    "\n",
    "hcl:#ae17e1 iyr:2013\n",
    "eyr:2024\n",
    "ecl:brn pid:760753108 byr:1931\n",
    "hgt:179cm\n",
    "\n",
    "hcl:#cfa07d eyr:2025 pid:166559648\n",
    "iyr:2011 ecl:brn hgt:59in\"\"\"\n",
    "\n",
    "inp4 = utils.get_input(4, splitlines=False)"
   ]
  },
  {
   "cell_type": "code",
   "execution_count": 4,
   "metadata": {},
   "outputs": [],
   "source": [
    "passport_fields = [\"byr\", \"iyr\", \"eyr\", \"hgt\", \"hcl\", \"ecl\", \"pid\", \"cid\"]\n",
    "# the defaults apply from the left\n",
    "Passport = namedtuple(\"Passport\", passport_fields, defaults=[\"\"])"
   ]
  },
  {
   "cell_type": "code",
   "execution_count": 5,
   "metadata": {},
   "outputs": [
    {
     "data": {
      "text/plain": [
       "[Passport(byr='2027', iyr='1928', eyr='2039', hgt='190', hcl='a5ac0f', ecl='#25f8d2', pid='476113241', cid='150'),\n",
       " Passport(byr='1929', iyr='2013', eyr='2026', hgt='168cm', hcl='#fffffd', ecl='hzl', pid='920076943', cid='169'),\n",
       " Passport(byr='1948', iyr='2011', eyr='2023', hgt='156cm', hcl='#6b5442', ecl='brn', pid='328412891', cid=''),\n",
       " Passport(byr='1950', iyr='2019', eyr='2020', hgt='189cm', hcl='#602927', ecl='amb', pid='674907993', cid='279'),\n",
       " Passport(byr='1976', iyr='2015', eyr='2022', hgt='178cm', hcl='#341e13', ecl='hzl', pid='473630095', cid='')]"
      ]
     },
     "execution_count": 5,
     "metadata": {},
     "output_type": "execute_result"
    }
   ],
   "source": [
    "inp = inp4\n",
    "passports = []\n",
    "\n",
    "for line in inp.split(\"\\n\\n\"):\n",
    "    data = [\"\" for i in range(8)]\n",
    "    line = line.replace(\"\\n\", \" \").split(\" \")\n",
    "    #print(line)\n",
    "    \n",
    "    for field in line:\n",
    "        key, val = field.split(\":\")\n",
    "        \n",
    "        idx = passport_fields.index(key)\n",
    "        data[idx] = val\n",
    "    #print(data)\n",
    "    p = Passport(*data)\n",
    "    passports.append(p)\n",
    "    \n",
    "passports[:5]"
   ]
  },
  {
   "cell_type": "markdown",
   "metadata": {},
   "source": [
    "So now to check that the first seven fields are present. First to double check that an empty string evaluates to false:"
   ]
  },
  {
   "cell_type": "code",
   "execution_count": 10,
   "metadata": {},
   "outputs": [
    {
     "data": {
      "text/plain": [
       "False"
      ]
     },
     "execution_count": 10,
     "metadata": {},
     "output_type": "execute_result"
    }
   ],
   "source": [
    "all([\"test\", \"\"])"
   ]
  },
  {
   "cell_type": "code",
   "execution_count": 6,
   "metadata": {},
   "outputs": [
    {
     "data": {
      "text/plain": [
       "190"
      ]
     },
     "execution_count": 6,
     "metadata": {},
     "output_type": "execute_result"
    }
   ],
   "source": [
    "sum([all(p[:7])for p in passports])"
   ]
  },
  {
   "cell_type": "markdown",
   "metadata": {},
   "source": [
    "## Part 2\n",
    "\n",
    "Now we need to validate data ranges - the table from above becomes:. \n",
    "\n",
    "code | name | range\n",
    "---  | ---- | -----\n",
    "byr | (Birth Year) | 4 digits, 1920-2020\n",
    "iyr | (Issue Year) | 4 digits, 2010-2020\n",
    "eyr | (Expiration Year) | 4 digits, 2020-2030\n",
    "hgt | (Height) | num, cm 150-193, in 59-63\n",
    "hcl | (Hair Color) | # followed by six chars 0-9 or a-f\n",
    "ecl | (Eye Color) | one of amb blu brn gry grn hzl oth\n",
    "pid | (Passport ID) | nine digit num including leading zeros\n",
    "cid | (Country ID) | ignored\n",
    "\n",
    "We already have a list of passports so I'll reuse that.\n",
    "\n",
    "First up writing some helper functions to validate specific passport fields:"
   ]
  },
  {
   "cell_type": "code",
   "execution_count": 11,
   "metadata": {},
   "outputs": [
    {
     "data": {
      "text/plain": [
       "False"
      ]
     },
     "execution_count": 11,
     "metadata": {},
     "output_type": "execute_result"
    }
   ],
   "source": [
    "def valid_height(txt):\n",
    "    num, system = txt[:-2], txt[-2:]\n",
    "    try:\n",
    "        num = float(num)\n",
    "    except:\n",
    "        return False\n",
    "    if system == \"cm\":\n",
    "        return 150 <= num <= 193\n",
    "    elif system == \"in\":\n",
    "        return 59 <= num <= 76\n",
    "    else:\n",
    "        return False\n",
    "    \n",
    "valid_height(p.hgt)"
   ]
  },
  {
   "cell_type": "code",
   "execution_count": 12,
   "metadata": {},
   "outputs": [
    {
     "data": {
      "text/plain": [
       "True"
      ]
     },
     "execution_count": 12,
     "metadata": {},
     "output_type": "execute_result"
    }
   ],
   "source": [
    "def valid_range(txt, lo=1920, hi=2002, num_digits=4):\n",
    "    if len(txt) != num_digits:\n",
    "        return False\n",
    "    return lo <= int(txt) <= hi\n",
    "\n",
    "valid_range(p.byr)"
   ]
  },
  {
   "cell_type": "code",
   "execution_count": 13,
   "metadata": {},
   "outputs": [
    {
     "data": {
      "text/plain": [
       "['amb', 'blu', 'brn', 'gry', 'grn', 'hzl', 'oth']"
      ]
     },
     "execution_count": 13,
     "metadata": {},
     "output_type": "execute_result"
    }
   ],
   "source": [
    "valid_eyes = \"amb blu brn gry grn hzl oth\".split(\" \")\n",
    "valid_eyes"
   ]
  },
  {
   "cell_type": "code",
   "execution_count": 14,
   "metadata": {},
   "outputs": [
    {
     "data": {
      "text/plain": [
       "True"
      ]
     },
     "execution_count": 14,
     "metadata": {},
     "output_type": "execute_result"
    }
   ],
   "source": [
    "def valid_hair(txt):\n",
    "    if re.match(r\"^#[0-9a-f]{6}$\", txt):\n",
    "        return True\n",
    "    else:\n",
    "        return False\n",
    "    \n",
    "valid_hair(\"#abc123\")"
   ]
  },
  {
   "cell_type": "code",
   "execution_count": 15,
   "metadata": {},
   "outputs": [],
   "source": [
    "def valid_passport(p):\n",
    "    return (valid_range(p.byr) &\n",
    "            valid_range(p.iyr, 2010, 2020) & \n",
    "            valid_range(p.eyr, 2020, 2030) & \n",
    "            valid_height(p.hgt) &\n",
    "            valid_hair(p.hcl) &\n",
    "            (p.ecl in valid_eyes) &\n",
    "            bool(re.match(\"^\\d{9}$\",p.pid))\n",
    "    )"
   ]
  },
  {
   "cell_type": "code",
   "execution_count": 16,
   "metadata": {},
   "outputs": [
    {
     "data": {
      "text/plain": [
       "121"
      ]
     },
     "execution_count": 16,
     "metadata": {},
     "output_type": "execute_result"
    }
   ],
   "source": [
    "sum([valid_passport(p) for p in passports])"
   ]
  }
 ],
 "metadata": {
  "kernelspec": {
   "display_name": "Python [conda env:root] *",
   "language": "python",
   "name": "conda-root-py"
  },
  "language_info": {
   "codemirror_mode": {
    "name": "ipython",
    "version": 3
   },
   "file_extension": ".py",
   "mimetype": "text/x-python",
   "name": "python",
   "nbconvert_exporter": "python",
   "pygments_lexer": "ipython3",
   "version": "3.8.3"
  }
 },
 "nbformat": 4,
 "nbformat_minor": 4
}

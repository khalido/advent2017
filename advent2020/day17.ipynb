{
 "cells": [
  {
   "cell_type": "code",
   "execution_count": 2,
   "metadata": {},
   "outputs": [],
   "source": [
    "import utils\n",
    "import math\n",
    "import re\n",
    "import itertools\n",
    "from typing import NamedTuple\n",
    "from collections import defaultdict, deque\n",
    "import itertools\n",
    "\n",
    "import numpy as np\n",
    "\n",
    "import matplotlib.pyplot as plt"
   ]
  },
  {
   "cell_type": "markdown",
   "metadata": {},
   "source": [
    "## Day 17: Conway Cubes\n",
    "\n",
    "[#](https://adventofcode.com/2020/day/17). We have an infinite 3d grid, every integer coordinate `x,y,z` can be active or inactive.\n",
    "\n",
    "We start off with a small 2d initial state in this 3d universe, which boots up by doing 6 cycles. The rules are:\n",
    "\n",
    "- active cubes with 2 or 3 active neighbours remain active, else they become inactive.\n",
    "- inactive cubes with 3 active neighbours become active.\n",
    "\n",
    "Every cube has 26 neighbours."
   ]
  },
  {
   "cell_type": "code",
   "execution_count": 9,
   "metadata": {},
   "outputs": [
    {
     "name": "stdout",
     "output_type": "stream",
     "text": [
      ".#.\n",
      "..#\n",
      "###\n"
     ]
    }
   ],
   "source": [
    "test17 = \"\"\".#.\n",
    "..#\n",
    "###\"\"\"\n",
    "\n",
    "inp17 = utils.get_input(17, splitlines=False)\n",
    "\n",
    "print(test17)"
   ]
  },
  {
   "cell_type": "markdown",
   "metadata": {},
   "source": [
    "To represent the grid, I'm going to use numpy:"
   ]
  },
  {
   "cell_type": "code",
   "execution_count": 13,
   "metadata": {},
   "outputs": [
    {
     "data": {
      "text/plain": [
       "(3, 103, 103)"
      ]
     },
     "execution_count": 13,
     "metadata": {},
     "output_type": "execute_result"
    }
   ],
   "source": [
    "grid.shape"
   ]
  },
  {
   "cell_type": "code",
   "execution_count": 326,
   "metadata": {},
   "outputs": [
    {
     "data": {
      "text/plain": [
       "array([[[0, 0, 0],\n",
       "        [0, 0, 0],\n",
       "        [0, 0, 0]],\n",
       "\n",
       "       [[0, 1, 0],\n",
       "        [0, 0, 1],\n",
       "        [1, 1, 1]],\n",
       "\n",
       "       [[0, 0, 0],\n",
       "        [0, 0, 0],\n",
       "        [0, 0, 0]]])"
      ]
     },
     "execution_count": 326,
     "metadata": {},
     "output_type": "execute_result"
    }
   ],
   "source": [
    "def parse_17(inp=test17, padding=0):\n",
    "    \"\"\"makes a 3d grid of shape (z, x, y)\"\"\"\n",
    "    inp = inp.splitlines()\n",
    "\n",
    "    width = len(inp[0]) + padding \n",
    "    height = len(inp) + padding\n",
    "\n",
    "    grid = np.zeros((3,height, width), dtype=\"int\")\n",
    "\n",
    "    for y, row in enumerate(inp):\n",
    "        y += padding // 2\n",
    "        for x, char in enumerate(row):\n",
    "            x += padding // 2\n",
    "            grid[1][y, x] = 1 if char == \"#\" else 0\n",
    "\n",
    "    return grid\n",
    "\n",
    "grid = parse_17()\n",
    "grid"
   ]
  },
  {
   "cell_type": "markdown",
   "metadata": {},
   "source": [
    "First up, a simple function to return the neighbours."
   ]
  },
  {
   "cell_type": "code",
   "execution_count": 488,
   "metadata": {},
   "outputs": [
    {
     "data": {
      "text/plain": [
       "array([[[0, 0, 0],\n",
       "        [0, 0, 0],\n",
       "        [0, 0, 0]],\n",
       "\n",
       "       [[0, 1, 0],\n",
       "        [0, 0, 1],\n",
       "        [1, 1, 1]],\n",
       "\n",
       "       [[0, 0, 0],\n",
       "        [0, 0, 0],\n",
       "        [0, 0, 0]]])"
      ]
     },
     "execution_count": 488,
     "metadata": {},
     "output_type": "execute_result"
    }
   ],
   "source": [
    "grid[0:3]"
   ]
  },
  {
   "cell_type": "code",
   "execution_count": 496,
   "metadata": {},
   "outputs": [
    {
     "data": {
      "text/plain": [
       "0"
      ]
     },
     "execution_count": 496,
     "metadata": {},
     "output_type": "execute_result"
    }
   ],
   "source": [
    "def count_neighbours(point, grid, verbose=False):\n",
    "    \"\"\"counts all the neighbours\"\"\"\n",
    "    z, y, x = point\n",
    "    z_min = max(0, z-1)\n",
    "    y_min = max(0, y-1)\n",
    "    x_min = max(0, x-1)\n",
    "    \n",
    "    # we minus the point itself as its not a neighbour to itself\n",
    "    # x and y can't be minus, hence the max(0)\n",
    "    #print(grid[z_min:z_max, y_min:y+2, x_min:x+2])\n",
    "    n = grid[z_min:z+2, y_min:y+2, x_min:x+2].sum() - grid[point]\n",
    "    if n<0:\n",
    "        print(f\"{point=}, {n=} {grid.shape}\")\n",
    "        print(grid[z_min:z+2, y_min:y+2, x_min:x+2])\n",
    "    return grid[z_min:z+2, y_min:y+2, x_min:x+2].sum() - grid[point]\n",
    "    \n",
    "count_neighbours((2,2,1), grid, True)"
   ]
  },
  {
   "cell_type": "code",
   "execution_count": 497,
   "metadata": {},
   "outputs": [],
   "source": [
    "def get_neighbours(point):\n",
    "    z, x, y = point\n",
    "    return [(z2, x2, y2) for \n",
    "            x2 in range(x-1, x+2) for \n",
    "            y2 in range(y-1, y+2) for\n",
    "            z2 in range(z-1, z+2) if (x2, y2, z2) != point]\n",
    "\n",
    "neighbours = get_neighbours(point=(1,1,1))\n",
    "assert(len(neighbours) == 26)"
   ]
  },
  {
   "cell_type": "code",
   "execution_count": 498,
   "metadata": {},
   "outputs": [
    {
     "data": {
      "image/png": "[encoded data removed]",
      "text/plain": [
       "<Figure size 576x576 with 16 Axes>"
      ]
     },
     "metadata": {
      "needs_background": "light"
     },
     "output_type": "display_data"
    }
   ],
   "source": [
    "def plot(grid, cycle:int=0):\n",
    "    n = int(np.ceil(np.sqrt(grid.shape[0])))\n",
    "    \n",
    "    fig, axes = plt.subplots(n, n, figsize=(8,8))\n",
    "    fig.suptitle(f\"{cycle:3}: Total active: {grid.sum()}\", fontsize=12)\n",
    "    for ax, z in zip(axes.flat, np.arange(0, grid.shape[0])):\n",
    "        ax.imshow(grid[z])\n",
    "        #ax.grid(color=\"grey\", linestyle=\"-\", linewidth=1)\n",
    "        ax.set_title(f\"z={z-grid.shape[0]//2} Active: {grid[z].sum()}\")\n",
    "\n",
    "        # stop the axis from going outside the img\n",
    "        ax.tick_params(which='both', length=0)\n",
    "\n",
    "        # don't need axis labels\n",
    "        for axi in (ax.xaxis, ax.yaxis):\n",
    "            axi.set_ticklabels([])\n",
    "    plt.show()\n",
    "        \n",
    "plot(grid)"
   ]
  },
  {
   "cell_type": "code",
   "execution_count": null,
   "metadata": {},
   "outputs": [],
   "source": [
    "grid = parse_17(inp=test17, padding=0)\n",
    "print(f\"{grid.shape}, {grid.sum()=}\")\n",
    "plot(grid)"
   ]
  },
  {
   "cell_type": "code",
   "execution_count": null,
   "metadata": {},
   "outputs": [],
   "source": [
    "grid[1]"
   ]
  },
  {
   "cell_type": "code",
   "execution_count": null,
   "metadata": {},
   "outputs": [],
   "source": [
    "for point in np.ndindex(grid.shape):\n",
    "    if point[0] == 1:\n",
    "        print(point, grid[point])"
   ]
  },
  {
   "cell_type": "code",
   "execution_count": 492,
   "metadata": {},
   "outputs": [
    {
     "name": "stdout",
     "output_type": "stream",
     "text": [
      "(3, 3, 3), grid.sum()=5\n"
     ]
    },
    {
     "data": {
      "image/png": "[encoded data removed]",
      "text/plain": [
       "<Figure size 576x576 with 4 Axes>"
      ]
     },
     "metadata": {
      "needs_background": "light"
     },
     "output_type": "display_data"
    },
    {
     "name": "stdout",
     "output_type": "stream",
     "text": [
      "1: Active: 8\n"
     ]
    },
    {
     "data": {
      "image/png": "[encoded data removed]",
      "text/plain": [
       "<Figure size 576x576 with 9 Axes>"
      ]
     },
     "metadata": {
      "needs_background": "light"
     },
     "output_type": "display_data"
    },
    {
     "name": "stdout",
     "output_type": "stream",
     "text": [
      "2: Active: 22\n"
     ]
    },
    {
     "data": {
      "image/png": "[encoded data removed]",
      "text/plain": [
       "<Figure size 576x576 with 9 Axes>"
      ]
     },
     "metadata": {
      "needs_background": "light"
     },
     "output_type": "display_data"
    },
    {
     "name": "stdout",
     "output_type": "stream",
     "text": [
      "3: Active: 29\n"
     ]
    },
    {
     "data": {
      "image/png": "[encoded data removed]",
      "text/plain": [
       "<Figure size 576x576 with 9 Axes>"
      ]
     },
     "metadata": {
      "needs_background": "light"
     },
     "output_type": "display_data"
    },
    {
     "name": "stdout",
     "output_type": "stream",
     "text": [
      "4: Active: 81\n"
     ]
    },
    {
     "data": {
      "image/png": "[encoded data removed]",
      "text/plain": [
       "<Figure size 576x576 with 16 Axes>"
      ]
     },
     "metadata": {
      "needs_background": "light"
     },
     "output_type": "display_data"
    },
    {
     "name": "stdout",
     "output_type": "stream",
     "text": [
      "5: Active: 44\n"
     ]
    },
    {
     "data": {
      "image/png": "[encoded data removed]",
      "text/plain": [
       "<Figure size 576x576 with 16 Axes>"
      ]
     },
     "metadata": {
      "needs_background": "light"
     },
     "output_type": "display_data"
    },
    {
     "name": "stdout",
     "output_type": "stream",
     "text": [
      "6: Active: 140\n"
     ]
    },
    {
     "data": {
      "image/png": "[encoded data removed]",
      "text/plain": [
       "<Figure size 576x576 with 16 Axes>"
      ]
     },
     "metadata": {
      "needs_background": "light"
     },
     "output_type": "display_data"
    }
   ],
   "source": [
    "grid = parse_17(inp=test17, padding=0)\n",
    "print(f\"{grid.shape}, {grid.sum()=}\")\n",
    "plot(grid)\n",
    "npad = ((1,1), (1,1), (1,1)) # padding all dims\n",
    "\n",
    "cycles = 6\n",
    "\n",
    "for i in range(1, cycles+1):\n",
    "    # pad grid so we can check neighbours\n",
    "    new_grid = np.pad(grid, pad_width=npad) # defaults to padding zeros\n",
    "    \n",
    "    for point in np.ndindex(grid.shape):\n",
    "        neighbours = count_neighbours(point, grid)\n",
    "        if neighbours < 0:\n",
    "            print(f\"NEGATIVE {point=} {neighbours=}\")\n",
    "        \n",
    "        new_point = tuple(np.array(point) + 1) # since new grid is bigger\n",
    "            \n",
    "        if grid[point] == 1:\n",
    "            if not (2 <= neighbours <=3):\n",
    "                new_grid[new_point] = 0\n",
    "                #print(f\"OFF {point=} {neighbours=}\")\n",
    "                \n",
    "        elif grid[point] == 0:\n",
    "            if neighbours == 3:\n",
    "                #print(f\"ON {point=} {neighbours=}\")\n",
    "                new_grid[new_point] = 1\n",
    "\n",
    "    grid = new_grid\n",
    "    print(f\"{i}: Active: {grid.sum()}\")\n",
    "    plot(grid, i)\n",
    "    plt.show()"
   ]
  },
  {
   "cell_type": "code",
   "execution_count": 9,
   "metadata": {},
   "outputs": [],
   "source": [
    "def solve_17(inp=test17):\n",
    "    grid = parse_17(inp, padding=0)\n",
    "    grid = np.pad(g, pad_width=1, mode=\"constant\", constant_values=0)\n",
    "    \n",
    "assert solve_6() == None\n",
    "solve_6(inp6)"
   ]
  },
  {
   "cell_type": "markdown",
   "metadata": {},
   "source": [
    "## Part 2\n",
    "\n"
   ]
  },
  {
   "cell_type": "markdown",
   "metadata": {},
   "source": [
    "So that should be straightforward:"
   ]
  },
  {
   "cell_type": "code",
   "execution_count": 4,
   "metadata": {},
   "outputs": [],
   "source": [
    "def solve_6b(inp=test6):\n",
    "    pass\n",
    "    \n",
    "#assert solve_6b() == 6\n",
    "solve_6b()"
   ]
  },
  {
   "cell_type": "code",
   "execution_count": null,
   "metadata": {},
   "outputs": [],
   "source": [
    "np.pad"
   ]
  },
  {
   "cell_type": "code",
   "execution_count": 37,
   "metadata": {},
   "outputs": [],
   "source": [
    "g = grid[1].copy()"
   ]
  },
  {
   "cell_type": "code",
   "execution_count": 38,
   "metadata": {},
   "outputs": [
    {
     "data": {
      "text/plain": [
       "array([[0, 1, 0],\n",
       "       [0, 0, 1],\n",
       "       [1, 1, 1]])"
      ]
     },
     "execution_count": 38,
     "metadata": {},
     "output_type": "execute_result"
    }
   ],
   "source": [
    "g"
   ]
  },
  {
   "cell_type": "code",
   "execution_count": 52,
   "metadata": {},
   "outputs": [
    {
     "data": {
      "text/plain": [
       "array([[0, 0, 0, 0, 0],\n",
       "       [0, 0, 1, 0, 0],\n",
       "       [0, 0, 0, 1, 0],\n",
       "       [0, 1, 1, 1, 0],\n",
       "       [0, 0, 0, 0, 0]])"
      ]
     },
     "execution_count": 52,
     "metadata": {},
     "output_type": "execute_result"
    }
   ],
   "source": [
    "np.pad(g, pad_width=1, mode=\"constant\", constant_values=0)"
   ]
  },
  {
   "cell_type": "code",
   "execution_count": 69,
   "metadata": {},
   "outputs": [
    {
     "data": {
      "text/plain": [
       "array([0, 0, 0])"
      ]
     },
     "execution_count": 69,
     "metadata": {},
     "output_type": "execute_result"
    }
   ],
   "source": [
    "# pad the grid if any of the edges have an active node\n",
    "grid[0][0]"
   ]
  },
  {
   "cell_type": "code",
   "execution_count": 75,
   "metadata": {},
   "outputs": [
    {
     "data": {
      "text/plain": [
       "array([[[ 0,  1,  2],\n",
       "        [ 3,  4,  5],\n",
       "        [ 6,  7,  8]],\n",
       "\n",
       "       [[ 9, 10, 11],\n",
       "        [12, 13, 14],\n",
       "        [15, 16, 17]],\n",
       "\n",
       "       [[18, 19, 20],\n",
       "        [21, 22, 23],\n",
       "        [24, 25, 26]]])"
      ]
     },
     "execution_count": 75,
     "metadata": {},
     "output_type": "execute_result"
    }
   ],
   "source": [
    "a = np.arange(27).reshape((3, 3,3))\n",
    "a"
   ]
  },
  {
   "cell_type": "code",
   "execution_count": 76,
   "metadata": {},
   "outputs": [
    {
     "data": {
      "text/plain": [
       "array([[0, 1, 2],\n",
       "       [3, 4, 5],\n",
       "       [6, 7, 8]])"
      ]
     },
     "execution_count": 76,
     "metadata": {},
     "output_type": "execute_result"
    }
   ],
   "source": [
    "a[0]"
   ]
  },
  {
   "cell_type": "code",
   "execution_count": 85,
   "metadata": {},
   "outputs": [
    {
     "data": {
      "text/plain": [
       "array([[ 0,  1,  2],\n",
       "       [ 9, 10, 11],\n",
       "       [18, 19, 20]])"
      ]
     },
     "execution_count": 85,
     "metadata": {},
     "output_type": "execute_result"
    }
   ],
   "source": [
    "a[:,0] # top rows"
   ]
  },
  {
   "cell_type": "code",
   "execution_count": 86,
   "metadata": {},
   "outputs": [
    {
     "data": {
      "text/plain": [
       "array([[ 6,  7,  8],\n",
       "       [15, 16, 17],\n",
       "       [24, 25, 26]])"
      ]
     },
     "execution_count": 86,
     "metadata": {},
     "output_type": "execute_result"
    }
   ],
   "source": [
    "a[:,-1] # bottom rows"
   ]
  },
  {
   "cell_type": "code",
   "execution_count": 97,
   "metadata": {},
   "outputs": [
    {
     "data": {
      "text/plain": [
       "array([[ 0,  3,  6],\n",
       "       [ 9, 12, 15],\n",
       "       [18, 21, 24]])"
      ]
     },
     "execution_count": 97,
     "metadata": {},
     "output_type": "execute_result"
    }
   ],
   "source": [
    "a[:,:,0] # left"
   ]
  },
  {
   "cell_type": "code",
   "execution_count": 98,
   "metadata": {},
   "outputs": [
    {
     "data": {
      "text/plain": [
       "array([[ 2,  5,  8],\n",
       "       [11, 14, 17],\n",
       "       [20, 23, 26]])"
      ]
     },
     "execution_count": 98,
     "metadata": {},
     "output_type": "execute_result"
    }
   ],
   "source": [
    "a[:,:,-1] # right"
   ]
  },
  {
   "cell_type": "code",
   "execution_count": null,
   "metadata": {},
   "outputs": [],
   "source": []
  }
 ],
 "metadata": {
  "kernelspec": {
   "display_name": "Python 3",
   "language": "python",
   "name": "python3"
  },
  "language_info": {
   "codemirror_mode": {
    "name": "ipython",
    "version": 3
   },
   "file_extension": ".py",
   "mimetype": "text/x-python",
   "name": "python",
   "nbconvert_exporter": "python",
   "pygments_lexer": "ipython3",
   "version": "3.9.2"
  }
 },
 "nbformat": 4,
 "nbformat_minor": 4
}

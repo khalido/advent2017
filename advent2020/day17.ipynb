{
 "cells": [
  {
   "cell_type": "code",
   "execution_count": 4,
   "metadata": {},
   "outputs": [],
   "source": [
    "import utils\n",
    "import math\n",
    "import re\n",
    "import itertools\n",
    "from typing import NamedTuple\n",
    "from collections import defaultdict, deque\n",
    "import itertools\n",
    "\n",
    "import numpy as np\n",
    "\n",
    "import matplotlib.pyplot as plt"
   ]
  },
  {
   "cell_type": "markdown",
   "metadata": {},
   "source": [
    "## Day 17: Conway Cubes\n",
    "\n",
    "[#](https://adventofcode.com/2020/day/17). We have an infinite 3d grid, every integer coordinate `x,y,z` can be active or inactive.\n",
    "\n",
    "We start off with a small 2d initial state in this 3d universe, which boots up by doing 6 cycles. The rules are:\n",
    "\n",
    "- active cubes with 2 or 3 active neighbours remain active, else they become inactive.\n",
    "- inactive cubes with 3 active neighbours become active.\n",
    "\n",
    "Every cube has 26 neighbours."
   ]
  },
  {
   "cell_type": "code",
   "execution_count": 3,
   "metadata": {},
   "outputs": [
    {
     "data": {
      "text/plain": [
       "'.#.\\n..#\\n###'"
      ]
     },
     "execution_count": 3,
     "metadata": {},
     "output_type": "execute_result"
    }
   ],
   "source": [
    "test17 = \"\"\".#.\n",
    "..#\n",
    "###\"\"\"\n",
    "\n",
    "#inp17 = utils.get_input(6, splitlines=False)\n",
    "\n",
    "test17"
   ]
  },
  {
   "cell_type": "markdown",
   "metadata": {},
   "source": [
    "To represent the grid, I'm going to use numpy:"
   ]
  },
  {
   "cell_type": "code",
   "execution_count": 81,
   "metadata": {},
   "outputs": [
    {
     "data": {
      "text/plain": [
       "array([[0, 0, 0, 0, 0, 0, 0],\n",
       "       [0, 0, 0, 0, 0, 0, 0],\n",
       "       [0, 0, 0, 1, 0, 0, 0],\n",
       "       [0, 0, 0, 0, 1, 0, 0],\n",
       "       [0, 0, 1, 1, 1, 0, 0],\n",
       "       [0, 0, 0, 0, 0, 0, 0],\n",
       "       [0, 0, 0, 0, 0, 0, 0]])"
      ]
     },
     "execution_count": 81,
     "metadata": {},
     "output_type": "execute_result"
    }
   ],
   "source": [
    "def parse_17(inp=test17, padding=100):\n",
    "    inp = inp.splitlines()\n",
    "\n",
    "    width = len(inp[0]) + padding \n",
    "    height = len(inp) + padding\n",
    "\n",
    "    grid = np.zeros((3,height, width), dtype=\"int\")\n",
    "\n",
    "    for y, row in enumerate(inp):\n",
    "        y += padding // 2\n",
    "        for x, char in enumerate(row):\n",
    "            x += padding // 2\n",
    "            grid[1][y, x] = 1 if char == \"#\" else 0\n",
    "\n",
    "    return grid\n",
    "\n",
    "grid = parse_17()\n",
    "grid[1][48:55,48:55]"
   ]
  },
  {
   "cell_type": "markdown",
   "metadata": {},
   "source": [
    "First up, a simple function to return the neighbours."
   ]
  },
  {
   "cell_type": "code",
   "execution_count": 82,
   "metadata": {},
   "outputs": [
    {
     "name": "stdout",
     "output_type": "stream",
     "text": [
      "['.#.', '..#', '###']\n"
     ]
    }
   ],
   "source": [
    "print(inp)"
   ]
  },
  {
   "cell_type": "code",
   "execution_count": 103,
   "metadata": {},
   "outputs": [
    {
     "data": {
      "text/plain": [
       "array([[[0, 0, 0, 0],\n",
       "        [0, 0, 0, 0],\n",
       "        [0, 0, 0, 0],\n",
       "        [0, 0, 0, 0],\n",
       "        [0, 0, 0, 0],\n",
       "        [0, 0, 0, 0],\n",
       "        [0, 0, 0, 0]],\n",
       "\n",
       "       [[0, 0, 0, 0],\n",
       "        [0, 0, 0, 0],\n",
       "        [0, 0, 0, 0],\n",
       "        [0, 0, 0, 0],\n",
       "        [0, 0, 0, 0],\n",
       "        [0, 0, 0, 0],\n",
       "        [0, 0, 0, 0]]])"
      ]
     },
     "execution_count": 103,
     "metadata": {},
     "output_type": "execute_result"
    }
   ],
   "source": [
    "grid[0:2, 1:8, 4:8]"
   ]
  },
  {
   "cell_type": "code",
   "execution_count": 153,
   "metadata": {},
   "outputs": [
    {
     "name": "stdout",
     "output_type": "stream",
     "text": [
      "1 50 51 (51, 50, 1)\n"
     ]
    },
    {
     "data": {
      "text/plain": [
       "(1, 1)"
      ]
     },
     "execution_count": 153,
     "metadata": {},
     "output_type": "execute_result"
    }
   ],
   "source": [
    "point = (51,50,1)\n",
    "x, y, z = point\n",
    "print(z, y, x, point)\n",
    "grid[1,50, 51], grid[z,y,x]"
   ]
  },
  {
   "cell_type": "code",
   "execution_count": 155,
   "metadata": {},
   "outputs": [
    {
     "name": "stdout",
     "output_type": "stream",
     "text": [
      "[[[0 0 0]\n",
      "  [0 0 0]\n",
      "  [0 0 0]]\n",
      "\n",
      " [[0 0 0]\n",
      "  [0 1 0]\n",
      "  [0 0 1]]\n",
      "\n",
      " [[0 0 0]\n",
      "  [0 0 0]\n",
      "  [0 0 0]]] 1\n"
     ]
    },
    {
     "data": {
      "text/plain": [
       "1"
      ]
     },
     "execution_count": 155,
     "metadata": {},
     "output_type": "execute_result"
    }
   ],
   "source": [
    "def count_neighbours(point, grid=grid, verbose=False):\n",
    "    \"\"\"counts all the neighbours\"\"\"\n",
    "    x, y, z = point\n",
    "    z_min, z_max = max(0, z-1), min(3, z+2)\n",
    "    if verbose: print(grid[z_min:z_max, y-1:y+2, x-1:x+2], grid[z,y,x])\n",
    "    # we minus the point itself as its not a neighbour to itself\n",
    "    return grid[z_min:z_max, y-1:y+2, x-1:x+2].sum() - grid[z,y,x]\n",
    "    \n",
    "count_neighbours(point=(51,50,1), verbose=True)"
   ]
  },
  {
   "cell_type": "code",
   "execution_count": 133,
   "metadata": {},
   "outputs": [
    {
     "name": "stdout",
     "output_type": "stream",
     "text": [
      "[(0, 50, 50), (0, 50, 51), (0, 50, 52), (0, 51, 50), (0, 51, 51), (0, 51, 52), (0, 52, 50), (0, 52, 51), (0, 52, 52), (1, 50, 50), (1, 50, 51), (1, 50, 52), (1, 51, 50), (1, 51, 52), (1, 52, 50), (1, 52, 51), (1, 52, 52), (2, 50, 50), (2, 50, 51), (2, 50, 52), (2, 51, 50), (2, 51, 51), (2, 51, 52), (2, 52, 50), (2, 52, 51), (2, 52, 52)]\n"
     ]
    }
   ],
   "source": [
    "def get_neighbours(point):\n",
    "    x, y, z = point\n",
    "    return [(x2, y2 , z2) for \n",
    "            x2 in range(x-1, x+2) for \n",
    "            y2 in range(y-1, y+2) for\n",
    "            z2 in range(z-1, z+2) if (x2, y2, z2) != point]\n",
    "\n",
    "neighbours = get_neighbours(point=(1,51,51))\n",
    "\n",
    "print(neighbours)"
   ]
  },
  {
   "cell_type": "code",
   "execution_count": 7,
   "metadata": {},
   "outputs": [],
   "source": [
    "def parse_6(inp=test6, verbose=False):\n",
    "    return [n for n in inp.splitlines()]\n",
    "\n",
    "data = parse_6()"
   ]
  },
  {
   "cell_type": "code",
   "execution_count": 9,
   "metadata": {},
   "outputs": [],
   "source": [
    "def solve_6(inp=test6):\n",
    "    pass\n",
    "    \n",
    "assert solve_6() == None\n",
    "solve_6(inp6)"
   ]
  },
  {
   "cell_type": "markdown",
   "metadata": {},
   "source": [
    "## Part 2\n",
    "\n"
   ]
  },
  {
   "cell_type": "markdown",
   "metadata": {},
   "source": [
    "So that should be straightforward:"
   ]
  },
  {
   "cell_type": "code",
   "execution_count": 4,
   "metadata": {},
   "outputs": [],
   "source": [
    "def solve_6b(inp=test6):\n",
    "    pass\n",
    "    \n",
    "#assert solve_6b() == 6\n",
    "solve_6b()"
   ]
  },
  {
   "cell_type": "code",
   "execution_count": null,
   "metadata": {},
   "outputs": [],
   "source": []
  }
 ],
 "metadata": {
  "kernelspec": {
   "display_name": "Python [conda env:root] *",
   "language": "python",
   "name": "conda-root-py"
  },
  "language_info": {
   "codemirror_mode": {
    "name": "ipython",
    "version": 3
   },
   "file_extension": ".py",
   "mimetype": "text/x-python",
   "name": "python",
   "nbconvert_exporter": "python",
   "pygments_lexer": "ipython3",
   "version": "3.8.3"
  }
 },
 "nbformat": 4,
 "nbformat_minor": 4
}

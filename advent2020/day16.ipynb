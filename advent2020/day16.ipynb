{
 "cells": [
  {
   "cell_type": "code",
   "execution_count": 2,
   "metadata": {},
   "outputs": [],
   "source": [
    "import utils\n",
    "import math\n",
    "import re\n",
    "import itertools\n",
    "from typing import NamedTuple\n",
    "from collections import defaultdict, deque\n",
    "import itertools\n",
    "\n",
    "import matplotlib.pyplot as plt"
   ]
  },
  {
   "cell_type": "markdown",
   "metadata": {},
   "source": [
    "## Day 16: Ticket Translation\n",
    "\n",
    "[#](https://adventofcode.com/2020/day/16).  "
   ]
  },
  {
   "cell_type": "code",
   "execution_count": 4,
   "metadata": {},
   "outputs": [
    {
     "data": {
      "text/plain": [
       "'class: 1-3 or 5-7\\nrow: 6-11 or 33-44\\nseat: 13-40 or 45-50\\n\\nyour ticket:\\n7,1,14\\n\\nnearby tickets:\\n7,3,47\\n40,4,50\\n55,2,20\\n38,6,12'"
      ]
     },
     "execution_count": 4,
     "metadata": {},
     "output_type": "execute_result"
    }
   ],
   "source": [
    "test16 = \"\"\"class: 1-3 or 5-7\n",
    "row: 6-11 or 33-44\n",
    "seat: 13-40 or 45-50\n",
    "\n",
    "your ticket:\n",
    "7,1,14\n",
    "\n",
    "nearby tickets:\n",
    "7,3,47\n",
    "40,4,50\n",
    "55,2,20\n",
    "38,6,12\"\"\"\n",
    "\n",
    "inp16 = utils.get_input(16, splitlines=False)\n",
    "\n",
    "test16"
   ]
  },
  {
   "cell_type": "markdown",
   "metadata": {},
   "source": [
    "First up, a simple function to parse an individual bag:"
   ]
  },
  {
   "cell_type": "code",
   "execution_count": 31,
   "metadata": {},
   "outputs": [
    {
     "name": "stdout",
     "output_type": "stream",
     "text": [
      "{'class': [1, 3, 5, 7], 'row': [6, 11, 33, 44], 'seat': [13, 40, 45, 50]}\n",
      "[7, 1, 14]\n",
      "[[7, 3, 47], [40, 4, 50], [55, 2, 20], [38, 6, 12]]\n"
     ]
    }
   ],
   "source": [
    "def parse_16(inp=test16, verbose=False):\n",
    "    notes = dict()\n",
    "    nearby_tickets = []\n",
    "\n",
    "    _notes, _ticket, _nearby_tickets = inp.split(\"\\n\\n\")\n",
    "\n",
    "    for note in _notes.splitlines():\n",
    "        name, vals = note.split(\": \")\n",
    "        notes[name] = [int(n) for n in re.findall(r\"\\d+\", vals)]\n",
    "    if verbose: print(notes)\n",
    "\n",
    "    ticket = [int(i) for i in _ticket.splitlines()[1].split(\",\")]\n",
    "    if verbose: print(ticket)\n",
    "\n",
    "    for line in _nearby_tickets.splitlines()[1:]:\n",
    "        nearby_tickets.append([int(i) for i in line.split(\",\")])\n",
    "    if verbose: print(nearby_tickets)\n",
    "    \n",
    "    return notes, ticket, nearby_tickets\n",
    "\n",
    "notes, ticket, nearby_tickets = parse_16(verbose=True)"
   ]
  },
  {
   "cell_type": "code",
   "execution_count": 39,
   "metadata": {},
   "outputs": [
    {
     "data": {
      "text/plain": [
       "{'class': [1, 3, 5, 7], 'row': [6, 11, 33, 44], 'seat': [13, 40, 45, 50]}"
      ]
     },
     "execution_count": 39,
     "metadata": {},
     "output_type": "execute_result"
    }
   ],
   "source": [
    "notes"
   ]
  },
  {
   "cell_type": "code",
   "execution_count": 79,
   "metadata": {},
   "outputs": [
    {
     "data": {
      "text/plain": [
       "71"
      ]
     },
     "execution_count": 79,
     "metadata": {},
     "output_type": "execute_result"
    }
   ],
   "source": [
    "def check_field(num):\n",
    "    valid = []\n",
    "    for key, check_ranges in notes.items():\n",
    "        a, b, x, y = check_ranges\n",
    "        valid.append(a <= num <= b or x <= num <= y)\n",
    "    \n",
    "    if any(valid):\n",
    "        pass\n",
    "    else:\n",
    "        return num\n",
    "\n",
    "errors = []\n",
    "for t in nearby_tickets:\n",
    "    for n in t:\n",
    "        if err := check_field(n):\n",
    "            errors.append(err)\n",
    "            \n",
    "sum(errors)"
   ]
  },
  {
   "cell_type": "code",
   "execution_count": 50,
   "metadata": {},
   "outputs": [],
   "source": [
    "notes, ticket, nearby_tickets = parse_16(inp16)"
   ]
  },
  {
   "cell_type": "markdown",
   "metadata": {},
   "source": [
    "## Part 2\n",
    "\n",
    "Now we're discarding invalid tickets, and using the remaining tickets to figure out which field is what.\n"
   ]
  },
  {
   "cell_type": "code",
   "execution_count": 52,
   "metadata": {},
   "outputs": [],
   "source": [
    "test16b = \"\"\"class: 0-1 or 4-19\n",
    "row: 0-5 or 8-19\n",
    "seat: 0-13 or 16-19\n",
    "\n",
    "your ticket:\n",
    "11,12,13\n",
    "\n",
    "nearby tickets:\n",
    "3,9,18\n",
    "15,1,5\n",
    "5,14,9\"\"\""
   ]
  },
  {
   "cell_type": "code",
   "execution_count": 82,
   "metadata": {},
   "outputs": [
    {
     "name": "stdout",
     "output_type": "stream",
     "text": [
      "{'class': [0, 1, 4, 19], 'row': [0, 5, 8, 19], 'seat': [0, 13, 16, 19]}\n",
      "[11, 12, 13]\n",
      "[[3, 9, 18], [15, 1, 5], [5, 14, 9]]\n"
     ]
    }
   ],
   "source": [
    "notes, ticket, nearby_tickets = parse_16(test16b, True)"
   ]
  },
  {
   "cell_type": "code",
   "execution_count": 83,
   "metadata": {},
   "outputs": [
    {
     "name": "stdout",
     "output_type": "stream",
     "text": [
      "[3, 9, 18] True\n",
      "[15, 1, 5] True\n",
      "[5, 14, 9] True\n"
     ]
    }
   ],
   "source": [
    "def valid_ticket(ticket):\n",
    "    return not any([check_field(n) for n in ticket])\n",
    "\n",
    "for t in nearby_tickets:\n",
    "    print(t, valid_ticket(t))"
   ]
  },
  {
   "cell_type": "code",
   "execution_count": 85,
   "metadata": {},
   "outputs": [],
   "source": [
    "def a(num):\n",
    "    valid = []\n",
    "    for key, check_ranges in notes.items():\n",
    "        a, b, x, y = check_ranges\n",
    "        valid.append(a <= num <= b or x <= num <= y)\n",
    "    \n",
    "    return valid"
   ]
  },
  {
   "cell_type": "code",
   "execution_count": 87,
   "metadata": {},
   "outputs": [
    {
     "name": "stdout",
     "output_type": "stream",
     "text": [
      "[True, True, True]\n",
      "[True, True, False]\n",
      "[True, True, True]\n"
     ]
    }
   ],
   "source": [
    "for num in t:\n",
    "    print(a(num))"
   ]
  },
  {
   "cell_type": "code",
   "execution_count": null,
   "metadata": {},
   "outputs": [],
   "source": []
  }
 ],
 "metadata": {
  "kernelspec": {
   "display_name": "Python [conda env:root] *",
   "language": "python",
   "name": "conda-root-py"
  },
  "language_info": {
   "codemirror_mode": {
    "name": "ipython",
    "version": 3
   },
   "file_extension": ".py",
   "mimetype": "text/x-python",
   "name": "python",
   "nbconvert_exporter": "python",
   "pygments_lexer": "ipython3",
   "version": "3.8.3"
  }
 },
 "nbformat": 4,
 "nbformat_minor": 4
}

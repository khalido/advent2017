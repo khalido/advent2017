{
 "cells": [
  {
   "cell_type": "code",
   "execution_count": 1,
   "metadata": {},
   "outputs": [],
   "source": [
    "import utils\n",
    "import math\n",
    "import re\n",
    "import itertools\n",
    "from typing import NamedTuple\n",
    "from collections import defaultdict, deque\n",
    "import itertools\n",
    "\n",
    "import matplotlib.pyplot as plt"
   ]
  },
  {
   "cell_type": "markdown",
   "metadata": {},
   "source": [
    "## Day 16: Ticket Translation\n",
    "\n",
    "[#](https://adventofcode.com/2020/day/16).  "
   ]
  },
  {
   "cell_type": "code",
   "execution_count": 2,
   "metadata": {},
   "outputs": [],
   "source": [
    "test16 = \"\"\"class: 1-3 or 5-7\n",
    "row: 6-11 or 33-44\n",
    "seat: 13-40 or 45-50\n",
    "\n",
    "your ticket:\n",
    "7,1,14\n",
    "\n",
    "nearby tickets:\n",
    "7,3,47\n",
    "40,4,50\n",
    "55,2,20\n",
    "38,6,12\"\"\"\n",
    "\n",
    "inp16 = utils.get_input(16, splitlines=False)"
   ]
  },
  {
   "cell_type": "markdown",
   "metadata": {},
   "source": [
    "Parsing the input:"
   ]
  },
  {
   "cell_type": "code",
   "execution_count": 3,
   "metadata": {},
   "outputs": [
    {
     "name": "stdout",
     "output_type": "stream",
     "text": [
      "{'class': [1, 3, 5, 7], 'row': [6, 11, 33, 44], 'seat': [13, 40, 45, 50]}\n",
      "[7, 1, 14]\n",
      "[[7, 3, 47], [40, 4, 50], [55, 2, 20], [38, 6, 12]]\n"
     ]
    }
   ],
   "source": [
    "def parse_16(inp=test16, verbose=False):\n",
    "    notes = dict()\n",
    "    nearby_tickets = []\n",
    "\n",
    "    _notes, _ticket, _nearby_tickets = inp.split(\"\\n\\n\")\n",
    "\n",
    "    for note in _notes.splitlines():\n",
    "        name, vals = note.split(\": \")\n",
    "        notes[name] = [int(n) for n in re.findall(r\"\\d+\", vals)]\n",
    "    if verbose: print(notes)\n",
    "\n",
    "    ticket = [int(i) for i in _ticket.splitlines()[1].split(\",\")]\n",
    "    if verbose: print(ticket)\n",
    "\n",
    "    for line in _nearby_tickets.splitlines()[1:]:\n",
    "        nearby_tickets.append([int(i) for i in line.split(\",\")])\n",
    "    if verbose: print(nearby_tickets)\n",
    "    \n",
    "    return notes, ticket, nearby_tickets\n",
    "\n",
    "notes, ticket, nearby_tickets = parse_16(verbose=True)"
   ]
  },
  {
   "cell_type": "code",
   "execution_count": 12,
   "metadata": {},
   "outputs": [
    {
     "data": {
      "text/plain": [
       "23122"
      ]
     },
     "execution_count": 12,
     "metadata": {},
     "output_type": "execute_result"
    }
   ],
   "source": [
    "def solve_16(inp=test16):\n",
    "    notes, ticket, nearby_tickets = parse_16(inp)\n",
    "    errors = []\n",
    "    \n",
    "    def check_field(num):\n",
    "        valid = []\n",
    "        for key, check_ranges in notes.items():\n",
    "            a, b, x, y = check_ranges\n",
    "            valid.append(a <= num <= b or x <= num <= y)\n",
    "\n",
    "        if any(valid):\n",
    "            return None\n",
    "        else:\n",
    "            return num\n",
    "    \n",
    "    for t in nearby_tickets:\n",
    "        for n in t:\n",
    "            if err := check_field(n):\n",
    "                errors.append(err)\n",
    "\n",
    "    return sum(errors)\n",
    "\n",
    "assert(solve_16() == 71)\n",
    "solve_16(inp16)"
   ]
  },
  {
   "cell_type": "markdown",
   "metadata": {},
   "source": [
    "## Part 2\n",
    "\n",
    "Now we're discarding invalid tickets, and using the remaining tickets to figure out which field is what.\n"
   ]
  },
  {
   "cell_type": "code",
   "execution_count": 15,
   "metadata": {},
   "outputs": [],
   "source": [
    "test16b = \"\"\"class: 0-1 or 4-19\n",
    "row: 0-5 or 8-19\n",
    "seat: 0-13 or 16-19\n",
    "\n",
    "your ticket:\n",
    "11,12,13\n",
    "\n",
    "nearby tickets:\n",
    "3,9,18\n",
    "15,1,5\n",
    "5,14,9\"\"\""
   ]
  },
  {
   "cell_type": "code",
   "execution_count": 22,
   "metadata": {},
   "outputs": [
    {
     "name": "stdout",
     "output_type": "stream",
     "text": [
      "{'class': [0, 1, 4, 19], 'row': [0, 5, 8, 19], 'seat': [0, 13, 16, 19]}\n",
      "[11, 12, 13]\n",
      "[[3, 9, 18], [15, 1, 5], [5, 14, 9]]\n"
     ]
    }
   ],
   "source": [
    "notes, ticket, nearby_tickets = parse_16(test16b, True)"
   ]
  },
  {
   "cell_type": "code",
   "execution_count": 23,
   "metadata": {},
   "outputs": [
    {
     "name": "stdout",
     "output_type": "stream",
     "text": [
      "[3, 9, 18] True\n",
      "[15, 1, 5] True\n",
      "[5, 14, 9] True\n"
     ]
    }
   ],
   "source": [
    "def valid_ticket(ticket):\n",
    "    \n",
    "    def check_field(num):\n",
    "        valid = []\n",
    "        for key, check_ranges in notes.items():\n",
    "            a, b, x, y = check_ranges\n",
    "            valid.append(a <= num <= b or x <= num <= y)\n",
    "\n",
    "        if any(valid):\n",
    "            return None\n",
    "        else:\n",
    "            return num\n",
    "        \n",
    "    return not any([check_field(n) for n in ticket])\n",
    "\n",
    "for t in nearby_tickets:\n",
    "    print(t, valid_ticket(t))"
   ]
  },
  {
   "cell_type": "code",
   "execution_count": 24,
   "metadata": {},
   "outputs": [],
   "source": [
    "def a(num):\n",
    "    valid = []\n",
    "    for key, check_ranges in notes.items():\n",
    "        a, b, x, y = check_ranges\n",
    "        valid.append(a <= num <= b or x <= num <= y)\n",
    "    \n",
    "    return valid"
   ]
  },
  {
   "cell_type": "code",
   "execution_count": 25,
   "metadata": {},
   "outputs": [
    {
     "name": "stdout",
     "output_type": "stream",
     "text": [
      "[True, True, True]\n",
      "[True, True, False]\n",
      "[True, True, True]\n"
     ]
    }
   ],
   "source": [
    "for num in t:\n",
    "    print(a(num))"
   ]
  },
  {
   "cell_type": "code",
   "execution_count": 48,
   "metadata": {},
   "outputs": [],
   "source": [
    "import pandas as pd\n",
    "import numpy as np"
   ]
  },
  {
   "cell_type": "code",
   "execution_count": 30,
   "metadata": {},
   "outputs": [],
   "source": [
    "all_tickets = [ticket] + nearby_tickets"
   ]
  },
  {
   "cell_type": "code",
   "execution_count": 32,
   "metadata": {},
   "outputs": [],
   "source": [
    "check = defaultdict(list)\n",
    "\n",
    "for tick in all_tickets:\n",
    "    for i, num in enumerate(tick):\n",
    "        check[i].append(a(num))"
   ]
  },
  {
   "cell_type": "code",
   "execution_count": 51,
   "metadata": {},
   "outputs": [
    {
     "data": {
      "text/html": [
       "<div>\n",
       "<style scoped>\n",
       "    .dataframe tbody tr th:only-of-type {\n",
       "        vertical-align: middle;\n",
       "    }\n",
       "\n",
       "    .dataframe tbody tr th {\n",
       "        vertical-align: top;\n",
       "    }\n",
       "\n",
       "    .dataframe thead th {\n",
       "        text-align: right;\n",
       "    }\n",
       "</style>\n",
       "<table border=\"1\" class=\"dataframe\">\n",
       "  <thead>\n",
       "    <tr style=\"text-align: right;\">\n",
       "      <th></th>\n",
       "      <th>0</th>\n",
       "      <th>1</th>\n",
       "      <th>2</th>\n",
       "    </tr>\n",
       "  </thead>\n",
       "  <tbody>\n",
       "    <tr>\n",
       "      <th>0</th>\n",
       "      <td>True</td>\n",
       "      <td>True</td>\n",
       "      <td>True</td>\n",
       "    </tr>\n",
       "    <tr>\n",
       "      <th>1</th>\n",
       "      <td>False</td>\n",
       "      <td>True</td>\n",
       "      <td>True</td>\n",
       "    </tr>\n",
       "    <tr>\n",
       "      <th>2</th>\n",
       "      <td>True</td>\n",
       "      <td>True</td>\n",
       "      <td>False</td>\n",
       "    </tr>\n",
       "    <tr>\n",
       "      <th>3</th>\n",
       "      <td>True</td>\n",
       "      <td>True</td>\n",
       "      <td>True</td>\n",
       "    </tr>\n",
       "  </tbody>\n",
       "</table>\n",
       "</div>"
      ],
      "text/plain": [
       "       0     1      2\n",
       "0   True  True   True\n",
       "1  False  True   True\n",
       "2   True  True  False\n",
       "3   True  True   True"
      ]
     },
     "execution_count": 51,
     "metadata": {},
     "output_type": "execute_result"
    }
   ],
   "source": [
    "df = pd.DataFrame(check[0])\n",
    "df"
   ]
  },
  {
   "cell_type": "code",
   "execution_count": 60,
   "metadata": {},
   "outputs": [
    {
     "data": {
      "text/html": [
       "<div>\n",
       "<style scoped>\n",
       "    .dataframe tbody tr th:only-of-type {\n",
       "        vertical-align: middle;\n",
       "    }\n",
       "\n",
       "    .dataframe tbody tr th {\n",
       "        vertical-align: top;\n",
       "    }\n",
       "\n",
       "    .dataframe thead th {\n",
       "        text-align: right;\n",
       "    }\n",
       "</style>\n",
       "<table border=\"1\" class=\"dataframe\">\n",
       "  <thead>\n",
       "    <tr style=\"text-align: right;\">\n",
       "      <th></th>\n",
       "      <th>0</th>\n",
       "      <th>1</th>\n",
       "      <th>2</th>\n",
       "    </tr>\n",
       "  </thead>\n",
       "  <tbody>\n",
       "    <tr>\n",
       "      <th>0</th>\n",
       "      <td>True</td>\n",
       "      <td>True</td>\n",
       "      <td>True</td>\n",
       "    </tr>\n",
       "    <tr>\n",
       "      <th>1</th>\n",
       "      <td>False</td>\n",
       "      <td>True</td>\n",
       "      <td>True</td>\n",
       "    </tr>\n",
       "    <tr>\n",
       "      <th>2</th>\n",
       "      <td>True</td>\n",
       "      <td>True</td>\n",
       "      <td>False</td>\n",
       "    </tr>\n",
       "    <tr>\n",
       "      <th>3</th>\n",
       "      <td>True</td>\n",
       "      <td>True</td>\n",
       "      <td>True</td>\n",
       "    </tr>\n",
       "  </tbody>\n",
       "</table>\n",
       "</div>"
      ],
      "text/plain": [
       "       0     1      2\n",
       "0   True  True   True\n",
       "1  False  True   True\n",
       "2   True  True  False\n",
       "3   True  True   True"
      ]
     },
     "execution_count": 60,
     "metadata": {},
     "output_type": "execute_result"
    }
   ],
   "source": [
    "df"
   ]
  },
  {
   "cell_type": "code",
   "execution_count": 55,
   "metadata": {},
   "outputs": [
    {
     "name": "stdout",
     "output_type": "stream",
     "text": [
      "0 3\n",
      "1 4\n",
      "2 3\n"
     ]
    }
   ],
   "source": [
    "for i, t in enumerate(df.sum(axis=0)):\n",
    "    print(i, t)"
   ]
  },
  {
   "cell_type": "code",
   "execution_count": null,
   "metadata": {},
   "outputs": [],
   "source": []
  }
 ],
 "metadata": {
  "kernelspec": {
   "display_name": "Python [conda env:root] *",
   "language": "python",
   "name": "conda-root-py"
  },
  "language_info": {
   "codemirror_mode": {
    "name": "ipython",
    "version": 3
   },
   "file_extension": ".py",
   "mimetype": "text/x-python",
   "name": "python",
   "nbconvert_exporter": "python",
   "pygments_lexer": "ipython3",
   "version": "3.8.3"
  }
 },
 "nbformat": 4,
 "nbformat_minor": 4
}

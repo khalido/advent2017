{
 "cells": [
  {
   "cell_type": "code",
   "execution_count": 3,
   "metadata": {},
   "outputs": [],
   "source": [
    "import utils\n",
    "import math\n",
    "import re\n",
    "import itertools\n",
    "from typing import NamedTuple\n",
    "from collections import defaultdict, deque\n",
    "import itertools\n",
    "\n",
    "import matplotlib.pyplot as plt"
   ]
  },
  {
   "cell_type": "markdown",
   "metadata": {},
   "source": [
    "## Day 5: Binary Boarding\n",
    "\n",
    "[#](https://adventofcode.com/2020/day/5) We need to parse a string representation in the form `FBFBBFFRLR` of a boarding pass to figure out its actual seat number.\n",
    "\n",
    "The first 7 chars are `F` of `B` and binary partition the **128** rows on a plane, numbered `0-127` and the last chars `R` or `L` partition the **8** columns."
   ]
  },
  {
   "cell_type": "code",
   "execution_count": 97,
   "metadata": {},
   "outputs": [],
   "source": [
    "test5 = [\"FBFBBFFRLR\", \"BFFFBBFRRR\", \"FFFBBBFRRR\", \"BBFFBBFRLL\"]\n",
    "\n",
    "inp5 = utils.get_input(5, splitlines=True)"
   ]
  },
  {
   "cell_type": "markdown",
   "metadata": {},
   "source": [
    "Two functions which take in a boarding string and return the row and col respectively:"
   ]
  },
  {
   "cell_type": "code",
   "execution_count": 86,
   "metadata": {},
   "outputs": [
    {
     "name": "stdout",
     "output_type": "stream",
     "text": [
      "44\n",
      "70\n",
      "14\n",
      "102\n"
     ]
    }
   ],
   "source": [
    "def get_row(inp, lo=0, hi=127, verbose=False):\n",
    "\n",
    "    for char in inp[:7]:\n",
    "        if char == \"F\":\n",
    "            hi = -1 + (lo + hi+1) // 2\n",
    "        elif char == \"B\":\n",
    "            lo = (lo+1 + hi) // 2\n",
    "        if verbose: print(char, (lo, hi))\n",
    "    \n",
    "    return lo if char == \"F\" else hi\n",
    "\n",
    "for inp in test5:\n",
    "    print(get_row(inp))"
   ]
  },
  {
   "cell_type": "code",
   "execution_count": 87,
   "metadata": {},
   "outputs": [
    {
     "name": "stdout",
     "output_type": "stream",
     "text": [
      "5\n",
      "7\n",
      "7\n",
      "4\n"
     ]
    }
   ],
   "source": [
    "def get_col(inp, lo=0, hi=7, verbose=False):\n",
    "\n",
    "    for char in inp[-3:]:\n",
    "        if char == \"L\":\n",
    "            hi = -1 + (lo + hi+1) // 2\n",
    "        elif char == \"R\":\n",
    "            lo = (lo+1 + hi) // 2\n",
    "        if verbose: print(char, (lo, hi))\n",
    "    \n",
    "    return lo if char == \"L\" else hi\n",
    "\n",
    "for inp in test5:\n",
    "    print(get_col(inp, 0, 7, verbose=False))"
   ]
  },
  {
   "cell_type": "code",
   "execution_count": 103,
   "metadata": {},
   "outputs": [
    {
     "name": "stdout",
     "output_type": "stream",
     "text": [
      "357\n",
      "567\n",
      "119\n",
      "820\n"
     ]
    }
   ],
   "source": [
    "def get_seat_id(inp):\n",
    "    row = get_row(inp)\n",
    "    col = get_col(inp)\n",
    "    return row * 8 + col\n",
    "    \n",
    "for inp in test5:\n",
    "    print(get_seat_id(inp)) # 357, 567, 119, 820"
   ]
  },
  {
   "cell_type": "code",
   "execution_count": 104,
   "metadata": {},
   "outputs": [
    {
     "data": {
      "text/plain": [
       "922"
      ]
     },
     "execution_count": 104,
     "metadata": {},
     "output_type": "execute_result"
    }
   ],
   "source": [
    "max([get_seat_id(inp) for inp in inp5]) "
   ]
  },
  {
   "cell_type": "markdown",
   "metadata": {},
   "source": [
    "## Part 2\n",
    "\n",
    "The flight is full besides your seat, but some of the very front and back seats don't exist.\n",
    "\n",
    "Seats with IDs +1 and -1 from mine should be in the list."
   ]
  },
  {
   "cell_type": "code",
   "execution_count": 105,
   "metadata": {},
   "outputs": [
    {
     "data": {
      "text/plain": [
       "874"
      ]
     },
     "execution_count": 105,
     "metadata": {},
     "output_type": "execute_result"
    }
   ],
   "source": [
    "seats = [get_seat_id(inp) for inp in inp5]\n",
    "len(seats)"
   ]
  },
  {
   "cell_type": "code",
   "execution_count": 111,
   "metadata": {},
   "outputs": [
    {
     "name": "stdout",
     "output_type": "stream",
     "text": [
      "698 747\n"
     ]
    }
   ],
   "source": [
    "sorted_seats = sorted(seats)\n",
    "for i, n in enumerate(sorted_seats[:-1]):\n",
    "    if sorted_seats[i+1] - n == 2:\n",
    "        print(i, n+1)"
   ]
  },
  {
   "cell_type": "code",
   "execution_count": 114,
   "metadata": {},
   "outputs": [
    {
     "data": {
      "text/plain": [
       "[743, 744, 745, 746, 748, 749]"
      ]
     },
     "execution_count": 114,
     "metadata": {},
     "output_type": "execute_result"
    }
   ],
   "source": [
    "sorted_seats[695:701]"
   ]
  },
  {
   "cell_type": "code",
   "execution_count": null,
   "metadata": {},
   "outputs": [],
   "source": []
  }
 ],
 "metadata": {
  "kernelspec": {
   "display_name": "Python [conda env:root] *",
   "language": "python",
   "name": "conda-root-py"
  },
  "language_info": {
   "codemirror_mode": {
    "name": "ipython",
    "version": 3
   },
   "file_extension": ".py",
   "mimetype": "text/x-python",
   "name": "python",
   "nbconvert_exporter": "python",
   "pygments_lexer": "ipython3",
   "version": "3.8.3"
  }
 },
 "nbformat": 4,
 "nbformat_minor": 4
}

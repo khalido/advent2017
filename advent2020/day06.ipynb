{
 "cells": [
  {
   "cell_type": "code",
   "execution_count": 7,
   "metadata": {},
   "outputs": [],
   "source": [
    "import utils\n",
    "import math\n",
    "import re\n",
    "import itertools\n",
    "import matplotlib.pyplot as plt\n",
    "from typing import NamedTuple\n",
    "from collections import defaultdict, deque\n",
    "import itertools"
   ]
  },
  {
   "cell_type": "markdown",
   "metadata": {},
   "source": [
    "## Day 6: Custom Customs\n",
    "\n",
    "[#](https://adventofcode.com/2020/day/6). "
   ]
  },
  {
   "cell_type": "code",
   "execution_count": 112,
   "metadata": {},
   "outputs": [
    {
     "data": {
      "text/plain": [
       "'abc\\n\\na\\nb\\nc\\n\\nab\\nac\\n\\na\\na\\na\\na\\n\\nb'"
      ]
     },
     "execution_count": 112,
     "metadata": {},
     "output_type": "execute_result"
    }
   ],
   "source": [
    "test6 = \"\"\"abc\n",
    "\n",
    "a\n",
    "b\n",
    "c\n",
    "\n",
    "ab\n",
    "ac\n",
    "\n",
    "a\n",
    "a\n",
    "a\n",
    "a\n",
    "\n",
    "b\"\"\"\n",
    "\n",
    "inp6 = utils.get_input(6, splitlines=False)\n",
    "\n",
    "test6"
   ]
  },
  {
   "cell_type": "markdown",
   "metadata": {},
   "source": [
    "First up, a simple function to parse an individual bag:"
   ]
  },
  {
   "cell_type": "code",
   "execution_count": 117,
   "metadata": {},
   "outputs": [
    {
     "name": "stdout",
     "output_type": "stream",
     "text": [
      "[['abc'], ['a', 'b', 'c'], ['ab', 'ac'], ['a', 'a', 'a', 'a'], ['b']]\n"
     ]
    }
   ],
   "source": [
    "def parse_6(inp=test6, verbose=False):\n",
    "    return [n.splitlines() for n in inp.split(\"\\n\\n\")]\n",
    "\n",
    "groups = parse_6()\n",
    "print(groups)"
   ]
  },
  {
   "cell_type": "code",
   "execution_count": 133,
   "metadata": {},
   "outputs": [
    {
     "data": {
      "text/plain": [
       "6768"
      ]
     },
     "execution_count": 133,
     "metadata": {},
     "output_type": "execute_result"
    }
   ],
   "source": [
    "def solve_6(inp=test6):\n",
    "    total = 0\n",
    "\n",
    "    for group in parse_6(inp): \n",
    "        ans = [set(g) for g in group]\n",
    "        total += len(set.union(*ans))\n",
    "    return total\n",
    "    \n",
    "assert solve_6() == 11\n",
    "solve_6(inp6)"
   ]
  },
  {
   "cell_type": "code",
   "execution_count": 131,
   "metadata": {},
   "outputs": [
    {
     "data": {
      "text/plain": [
       "6768"
      ]
     },
     "execution_count": 131,
     "metadata": {},
     "output_type": "execute_result"
    }
   ],
   "source": [
    "def solve_6(inp=test6):\n",
    "    total = 0\n",
    "\n",
    "    for grp in parse_6(inp):\n",
    "        ans = set()\n",
    "        for g in grp:\n",
    "            ans.update(g)\n",
    "        total += len(ans)\n",
    "    return total\n",
    "    \n",
    "assert solve_6() == 11\n",
    "solve_6(inp6)"
   ]
  },
  {
   "cell_type": "markdown",
   "metadata": {},
   "source": [
    "## Part 2\n",
    "\n",
    "Change the above to identify questions where everyone answered yes. So this should be a simple set intersection problem.\n",
    "\n",
    "First up, seeing what python does if I pass [set](https://docs.python.org/3/tutorial/datastructures.html#sets) a string:"
   ]
  },
  {
   "cell_type": "code",
   "execution_count": 123,
   "metadata": {},
   "outputs": [
    {
     "data": {
      "text/plain": [
       "{'a', 'b', 'c'}"
      ]
     },
     "execution_count": 123,
     "metadata": {},
     "output_type": "execute_result"
    }
   ],
   "source": [
    "set(\"abc\")"
   ]
  },
  {
   "cell_type": "markdown",
   "metadata": {},
   "source": [
    "So that should be straightforward:"
   ]
  },
  {
   "cell_type": "code",
   "execution_count": 129,
   "metadata": {},
   "outputs": [
    {
     "data": {
      "text/plain": [
       "3489"
      ]
     },
     "execution_count": 129,
     "metadata": {},
     "output_type": "execute_result"
    }
   ],
   "source": [
    "def solve_6b(inp=test6):\n",
    "    total = 0\n",
    "\n",
    "    for group in parse_6(inp):\n",
    "        answers = [set(g) for g in group]\n",
    "        total += len(set.intersection(*answers))\n",
    "    \n",
    "    return total\n",
    "    \n",
    "assert solve_6b() == 6\n",
    "solve_6b(inp6)"
   ]
  }
 ],
 "metadata": {
  "kernelspec": {
   "display_name": "Python [conda env:root] *",
   "language": "python",
   "name": "conda-root-py"
  },
  "language_info": {
   "codemirror_mode": {
    "name": "ipython",
    "version": 3
   },
   "file_extension": ".py",
   "mimetype": "text/x-python",
   "name": "python",
   "nbconvert_exporter": "python",
   "pygments_lexer": "ipython3",
   "version": "3.8.3"
  }
 },
 "nbformat": 4,
 "nbformat_minor": 4
}

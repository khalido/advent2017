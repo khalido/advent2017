{
 "cells": [
  {
   "cell_type": "code",
   "execution_count": 1,
   "metadata": {},
   "outputs": [],
   "source": [
    "import utils\n",
    "import math\n",
    "import re\n",
    "import itertools\n",
    "import matplotlib.pyplot as plt\n",
    "from typing import NamedTuple\n",
    "from collections import defaultdict, deque\n",
    "import itertools"
   ]
  },
  {
   "cell_type": "markdown",
   "metadata": {},
   "source": [
    "## Day 9: Encoding Error \n",
    "\n",
    "[#](https://adventofcode.com/2020/day/9). We get 25 numbers, all the numbers after should be the sum of two of the previous 25 numbers. Find the first number which doesn't have this property."
   ]
  },
  {
   "cell_type": "code",
   "execution_count": 2,
   "metadata": {},
   "outputs": [],
   "source": [
    "test9 = \"\"\"35\n",
    "20\n",
    "15\n",
    "25\n",
    "47\n",
    "40\n",
    "62\n",
    "55\n",
    "65\n",
    "95\n",
    "102\n",
    "117\n",
    "150\n",
    "182\n",
    "127\n",
    "219\n",
    "299\n",
    "277\n",
    "309\n",
    "576\"\"\".splitlines()\n",
    "\n",
    "inp9 = utils.get_input(9, splitlines=True)"
   ]
  },
  {
   "cell_type": "markdown",
   "metadata": {},
   "source": [
    "First up, a simple function to parse an individual bag:"
   ]
  },
  {
   "cell_type": "code",
   "execution_count": 3,
   "metadata": {},
   "outputs": [
    {
     "name": "stdout",
     "output_type": "stream",
     "text": [
      "[35, 20, 15, 25, 47, 40, 62, 55, 65, 95, 102, 117, 150, 182, 127, 219, 299, 277, 309, 576]\n"
     ]
    }
   ],
   "source": [
    "def parse_9(inp=test9, verbose=False):\n",
    "    return [int(i) for i in inp]\n",
    "\n",
    "nums = parse_9()\n",
    "print(nums)"
   ]
  },
  {
   "cell_type": "code",
   "execution_count": 4,
   "metadata": {},
   "outputs": [
    {
     "data": {
      "text/plain": [
       "1398413738"
      ]
     },
     "execution_count": 4,
     "metadata": {},
     "output_type": "execute_result"
    }
   ],
   "source": [
    "def solve_9(inp=test9, N=5):\n",
    "    nums = parse_9(inp)\n",
    "\n",
    "    for i, n in enumerate(nums[N:]):\n",
    "        sums = [a + b for (a,b) in itertools.combinations(nums[i:i+N], 2)]\n",
    "        if n not in sums:\n",
    "            return n\n",
    "\n",
    "assert solve_9() == 127\n",
    "solve_9(inp9, N=25)"
   ]
  },
  {
   "cell_type": "markdown",
   "metadata": {},
   "source": [
    "## Part 2\n",
    "\n",
    "Find a continous set of two or more numbers which sum up the number from part 1. This reuses the answer from part 1."
   ]
  },
  {
   "cell_type": "code",
   "execution_count": 5,
   "metadata": {},
   "outputs": [
    {
     "name": "stdout",
     "output_type": "stream",
     "text": [
      "looking for 1,398,413,738 in a list of 1,000 numbers\n",
      "adding 17 nums, min: 60,622,973 max: 108,898,078\n"
     ]
    },
    {
     "data": {
      "text/plain": [
       "169521051"
      ]
     },
     "execution_count": 5,
     "metadata": {},
     "output_type": "execute_result"
    }
   ],
   "source": [
    "def solve_9b(inp=test9, N=5, verbose=False):\n",
    "    nums = parse_9(inp) # list of nums \n",
    "    FIND = solve_9(inp, N) # the ans from part 1\n",
    "    if verbose:\n",
    "        print(f\"looking for {FIND:,} in a list of {len(nums):,} numbers\")\n",
    "    \n",
    "    for a in range(2,len(nums)-2): # number of consecutive nums to add\n",
    "        for i in range(len(nums)):\n",
    "            nums_c = nums[i:i+a]\n",
    "            if sum(nums_c) == FIND:\n",
    "                if verbose:\n",
    "                    print(f\"adding {a} nums, min: {min(nums_c):,} max: {max(nums_c):,}\")\n",
    "                return min(nums_c) + max(nums_c)\n",
    "\n",
    "assert solve_9b() == 62\n",
    "solve_9b(inp9, 25, verbose=True)"
   ]
  }
 ],
 "metadata": {
  "kernelspec": {
   "display_name": "Python [conda env:root] *",
   "language": "python",
   "name": "conda-root-py"
  },
  "language_info": {
   "codemirror_mode": {
    "name": "ipython",
    "version": 3
   },
   "file_extension": ".py",
   "mimetype": "text/x-python",
   "name": "python",
   "nbconvert_exporter": "python",
   "pygments_lexer": "ipython3",
   "version": "3.8.3"
  }
 },
 "nbformat": 4,
 "nbformat_minor": 4
}

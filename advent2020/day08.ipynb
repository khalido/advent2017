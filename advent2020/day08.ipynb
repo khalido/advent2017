{
 "cells": [
  {
   "cell_type": "code",
   "execution_count": 1,
   "metadata": {},
   "outputs": [],
   "source": [
    "import utils"
   ]
  },
  {
   "cell_type": "markdown",
   "metadata": {},
   "source": [
    "## Day 8: Handheld Halting\n",
    "\n",
    "[#](https://adventofcode.com/2020/day/8). We make a mini computer which can process instructions in the form `acc +4` \n",
    "\n",
    "- `acc` adds to a global value.\n",
    "- `jmp` jumps to a new instruction relative to itself. `jmp +2` skips 1 instruction, `jmp +` goes to the next.\n",
    "- `nop` does nothing."
   ]
  },
  {
   "cell_type": "code",
   "execution_count": 2,
   "metadata": {},
   "outputs": [],
   "source": [
    "test8 = \"\"\"\n",
    "nop +0\n",
    "acc +1\n",
    "jmp +4\n",
    "acc +3\n",
    "jmp -3\n",
    "acc -99\n",
    "acc +1\n",
    "jmp -4\n",
    "acc +6\n",
    "\"\"\".strip().splitlines()\n",
    "\n",
    "inp8 = utils.get_input(8, splitlines=True)"
   ]
  },
  {
   "cell_type": "markdown",
   "metadata": {},
   "source": [
    "I first wrote this as a func, but using a class here made more sense, as a computer is an object with state, so its nicer to have all its stuff contained inside a class."
   ]
  },
  {
   "cell_type": "code",
   "execution_count": 3,
   "metadata": {},
   "outputs": [
    {
     "name": "stdout",
     "output_type": "stream",
     "text": [
      "idx:  1 acc: 5 - acc +1\n",
      "idx: 469 acc:1859 - jmp -159\n"
     ]
    },
    {
     "data": {
      "text/plain": [
       "1859"
      ]
     },
     "execution_count": 3,
     "metadata": {},
     "output_type": "execute_result"
    }
   ],
   "source": [
    "class Computer:\n",
    "    def __init__(self, inp):\n",
    "        self.accumulator = 0\n",
    "        self.idx = 0\n",
    "        self.instructions = inp\n",
    "        self.terminate = len(inp)\n",
    "        \n",
    "    def __str__(self):\n",
    "        return f\"idx: {self.idx:2} acc:{self.accumulator:2} - {self.instructions[self.idx]}\"\n",
    "    \n",
    "    def get_ins(self):\n",
    "        ins, val = self.instructions[self.idx].split(\" \")\n",
    "        val = int(val)\n",
    "        return ins, val\n",
    "    \n",
    "    def step(self):\n",
    "        \"\"\"performs 1 step\"\"\"\n",
    "        ins, val = self.get_ins()\n",
    "        #print(self)\n",
    "        if ins == \"acc\":\n",
    "            self.accumulator += val\n",
    "            self.idx += 1\n",
    "        elif ins == \"jmp\":\n",
    "            self.idx += val\n",
    "        elif ins == \"nop\":\n",
    "            self.idx += 1\n",
    "            \n",
    "    def run_once(self):\n",
    "        seen = []\n",
    "        while self.idx not in seen:\n",
    "            seen.append(self.idx)\n",
    "            self.step()\n",
    "        print(self)\n",
    "        return self.accumulator\n",
    "        \n",
    "comp = Computer(inp=test8)\n",
    "assert comp.run_once() == 5\n",
    "\n",
    "comp = Computer(inp=inp8)\n",
    "comp.run_once()"
   ]
  },
  {
   "cell_type": "markdown",
   "metadata": {},
   "source": [
    "## Part 2\n",
    "\n",
    "We have a corrupted instruction somewhere causing a infinite loop.\n",
    "\n",
    "Either a `jmp` should be a `nop` or vice versa. The program should terminate when it tries to execute an instruction after the last one.\n",
    "\n",
    "I updated the computer class above to have a self.terminate - if the computer reaches that then it should terminate. The fix instructions is outside the class, since I am making a new computer for each set of new instructions.\n",
    "\n",
    "The below brute forces the solution, though there must be a more elegant way of doing this."
   ]
  },
  {
   "cell_type": "code",
   "execution_count": 5,
   "metadata": {},
   "outputs": [
    {
     "data": {
      "text/plain": [
       "1235"
      ]
     },
     "execution_count": 5,
     "metadata": {},
     "output_type": "execute_result"
    }
   ],
   "source": [
    "def fix_instructions(inp=test8):\n",
    "    for i, line in enumerate(inp):\n",
    "        \n",
    "        # flip the bad instructions here\n",
    "        if line[:3] == \"jmp\":\n",
    "            line = \"nop\" + line[3:]\n",
    "        elif line[:3] == \"nop\":\n",
    "            line = \"jmp\" + line[3:]\n",
    "        \n",
    "        # make a new set of changed instructions\n",
    "        new_instructions = inp[:]\n",
    "        new_instructions[i] = line\n",
    "        \n",
    "        comp = Computer(new_instructions)\n",
    "        \n",
    "        # run the comp till it excecutes 3x or reaches the terminator\n",
    "        for _ in range(len(inp)*3): # randomly choose 3\n",
    "            comp.step()\n",
    "            if comp.idx == comp.terminate:\n",
    "                return comp.accumulator\n",
    "\n",
    "assert fix_instructions(test8) == 8\n",
    "fix_instructions(inp8)"
   ]
  }
 ],
 "metadata": {
  "kernelspec": {
   "display_name": "Python [conda env:root] *",
   "language": "python",
   "name": "conda-root-py"
  },
  "language_info": {
   "codemirror_mode": {
    "name": "ipython",
    "version": 3
   },
   "file_extension": ".py",
   "mimetype": "text/x-python",
   "name": "python",
   "nbconvert_exporter": "python",
   "pygments_lexer": "ipython3",
   "version": "3.8.3"
  }
 },
 "nbformat": 4,
 "nbformat_minor": 4
}

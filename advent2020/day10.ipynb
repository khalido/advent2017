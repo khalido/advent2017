{
 "cells": [
  {
   "cell_type": "code",
   "execution_count": 2,
   "metadata": {},
   "outputs": [],
   "source": [
    "import utils\n",
    "import math\n",
    "import re\n",
    "import itertools\n",
    "from typing import NamedTuple\n",
    "from collections import defaultdict, deque\n",
    "import itertools\n",
    "\n",
    "import matplotlib.pyplot as plt"
   ]
  },
  {
   "cell_type": "markdown",
   "metadata": {},
   "source": [
    "## Day 10: Adaptor Array\n",
    "\n",
    "[#](https://adventofcode.com/2020/day/10). We need to charge our device, but the charging port has the wrong number of jolts. We have a bunch of joltage adaptors which can handle an input 1,2 or 3 jolts lower than its rating (the puzzle input).\n",
    "\n",
    "The device can handle up to 3 jolts higher than the highest rated adaptor."
   ]
  },
  {
   "cell_type": "code",
   "execution_count": 6,
   "metadata": {},
   "outputs": [
    {
     "data": {
      "text/plain": [
       "'16\\n10\\n15\\n5\\n1\\n11\\n7\\n19\\n6\\n12\\n4'"
      ]
     },
     "execution_count": 6,
     "metadata": {},
     "output_type": "execute_result"
    }
   ],
   "source": [
    "test10 = \"\"\"16\n",
    "10\n",
    "15\n",
    "5\n",
    "1\n",
    "11\n",
    "7\n",
    "19\n",
    "6\n",
    "12\n",
    "4\"\"\"\n",
    "\n",
    "inp10 = utils.get_input(10, splitlines=False)\n",
    "\n",
    "test10"
   ]
  },
  {
   "cell_type": "markdown",
   "metadata": {},
   "source": [
    "First up, a simple function to parse an individual bag:"
   ]
  },
  {
   "cell_type": "code",
   "execution_count": 17,
   "metadata": {},
   "outputs": [
    {
     "data": {
      "text/plain": [
       "[1, 4, 5, 6, 7, 10, 11, 12, 15, 16, 19, 22]"
      ]
     },
     "execution_count": 17,
     "metadata": {},
     "output_type": "execute_result"
    }
   ],
   "source": [
    "def parse_10(inp=test10, verbose=False):\n",
    "    adaptors = sorted([int(n) for n in inp.splitlines()])\n",
    "    return adaptors + [adaptors[-1] + 3]\n",
    "\n",
    "inp = parse_10()\n",
    "inp"
   ]
  },
  {
   "cell_type": "code",
   "execution_count": 33,
   "metadata": {},
   "outputs": [
    {
     "data": {
      "text/plain": [
       "2432"
      ]
     },
     "execution_count": 33,
     "metadata": {},
     "output_type": "execute_result"
    }
   ],
   "source": [
    "def solve_10(inp=test10, charge=0):\n",
    "    \n",
    "    inp = parse_10(inp)\n",
    "    \n",
    "    choosen = [charge]\n",
    "    \n",
    "    # choose the possible adaptors\n",
    "    for i in inp:\n",
    "        if 1 <= (i - choosen[-1]) <= 3:\n",
    "            choosen.append(i)\n",
    "    \n",
    "    # do the solution\n",
    "        ones, threes = 0, 0\n",
    "    for (a,b) in zip(choosen[:], choosen[1:]):\n",
    "        if b - a == 1:\n",
    "            ones += 1\n",
    "        elif b-a == 3:\n",
    "            threes += 1\n",
    "\n",
    "    return ones * threes\n",
    "    \n",
    "assert solve_10(test10) == 35\n",
    "solve_10(inp10)"
   ]
  },
  {
   "cell_type": "markdown",
   "metadata": {},
   "source": [
    "## Part 2\n",
    "\n",
    "Now we want to figure out all possible arrangements. This sounds like a graph problem. Sadly I didn't solve part 1 using graphs! Dang it."
   ]
  },
  {
   "cell_type": "code",
   "execution_count": 82,
   "metadata": {},
   "outputs": [
    {
     "data": {
      "text/plain": [
       "([(1, 4),\n",
       "  (4, 5),\n",
       "  (4, 6),\n",
       "  (4, 7),\n",
       "  (5, 6),\n",
       "  (5, 7),\n",
       "  (6, 7),\n",
       "  (7, 10),\n",
       "  (10, 11),\n",
       "  (10, 12),\n",
       "  (11, 12),\n",
       "  (12, 15),\n",
       "  (15, 16),\n",
       "  (16, 19),\n",
       "  (19, 22)],\n",
       " {1: [4],\n",
       "  4: [5, 6, 7],\n",
       "  5: [6, 7],\n",
       "  6: [7],\n",
       "  7: [10],\n",
       "  10: [11, 12],\n",
       "  11: [12],\n",
       "  12: [15],\n",
       "  15: [16],\n",
       "  16: [19],\n",
       "  19: [22],\n",
       "  22: []})"
      ]
     },
     "execution_count": 82,
     "metadata": {},
     "output_type": "execute_result"
    }
   ],
   "source": [
    "def solve_10b(inp=test10):\n",
    "    inp = parse_10(inp)\n",
    "    graph = {}\n",
    "    edges = []\n",
    "    \n",
    "    for adaptor in inp:\n",
    "        fits = [i for i in inp if  (1 <= (i - adaptor) <= 3)]\n",
    "        graph[adaptor] = fits\n",
    "        if len(fits) >=1 :\n",
    "            for f in fits:\n",
    "                edges.append((adaptor, f))\n",
    "\n",
    "    return edges, graph\n",
    "\n",
    "edges, graph = solve_10b()\n",
    "edges, graph"
   ]
  },
  {
   "cell_type": "code",
   "execution_count": 83,
   "metadata": {},
   "outputs": [
    {
     "data": {
      "text/plain": [
       "NodeView((1, 4, 5, 6, 7, 10, 11, 12, 15, 16, 19, 22))"
      ]
     },
     "execution_count": 83,
     "metadata": {},
     "output_type": "execute_result"
    }
   ],
   "source": [
    "import networkx as nx\n",
    "G = nx.DiGraph()\n",
    "G.add_edges_from(edges)\n",
    "G.nodes"
   ]
  },
  {
   "cell_type": "code",
   "execution_count": null,
   "metadata": {},
   "outputs": [],
   "source": []
  }
 ],
 "metadata": {
  "kernelspec": {
   "display_name": "Python [conda env:root] *",
   "language": "python",
   "name": "conda-root-py"
  },
  "language_info": {
   "codemirror_mode": {
    "name": "ipython",
    "version": 3
   },
   "file_extension": ".py",
   "mimetype": "text/x-python",
   "name": "python",
   "nbconvert_exporter": "python",
   "pygments_lexer": "ipython3",
   "version": "3.8.3"
  }
 },
 "nbformat": 4,
 "nbformat_minor": 4
}

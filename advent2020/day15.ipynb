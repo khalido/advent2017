{
 "cells": [
  {
   "cell_type": "code",
   "execution_count": 189,
   "metadata": {},
   "outputs": [],
   "source": [
    "import utils\n",
    "import math\n",
    "import re\n",
    "import itertools\n",
    "from typing import NamedTuple\n",
    "from collections import defaultdict, deque\n",
    "import itertools\n",
    "\n",
    "import matplotlib.pyplot as plt"
   ]
  },
  {
   "cell_type": "markdown",
   "metadata": {},
   "source": [
    "## Day 15: Rambunctious Recitation\n",
    "\n",
    "[#](https://adventofcode.com/2020/day/15). A memory game reciting numbers. Read the starting list of numbers, then:\n",
    "\n",
    "- consider the last spoken number. if its the first time it has been spoken, say 0.\n",
    "- else, say how many turns ago was it spoken."
   ]
  },
  {
   "cell_type": "code",
   "execution_count": 190,
   "metadata": {},
   "outputs": [
    {
     "data": {
      "text/plain": [
       "[0, 3, 6]"
      ]
     },
     "execution_count": 190,
     "metadata": {},
     "output_type": "execute_result"
    }
   ],
   "source": [
    "test15 = \"\"\"0,3,6\"\"\"\n",
    "\n",
    "inp15 = \"8,11,0,19,1,2\"\n",
    "\n",
    "def parse_15(inp=test15):\n",
    "    return [int(n) for n in inp.split(\",\")]\n",
    "\n",
    "parse_15()"
   ]
  },
  {
   "cell_type": "code",
   "execution_count": 197,
   "metadata": {},
   "outputs": [],
   "source": [
    "ans = [0, 3, 6, 0, 3, 3, 1, 0, 4, 0]"
   ]
  },
  {
   "cell_type": "code",
   "execution_count": null,
   "metadata": {},
   "outputs": [],
   "source": [
    "numbers = parse_15(test15)\n",
    "\n",
    "seen = dict()\n",
    "\n",
    "for i, num in enumerate(numbers):\n",
    "    seen[num] = i\n",
    "\n",
    "print(f\"{seen=}, {numbers=}\")\n",
    "\n",
    "steps = 2020 #30000000\n",
    "for i in range(len(numbers), steps):\n",
    "    last_num = numbers[-1]\n",
    "    \n",
    "    l = seen[last_num] # index of when that number was seen\n",
    "    \n",
    "    # number hasnt been seen\n",
    "    if len(l) <= 1:\n",
    "        numbers.append(0)\n",
    "        seen[numbers[-1]].append(len(numbers)-1)\n",
    "    else:\n",
    "        gap = seen[last_num][-1] - seen[last_num][-2]\n",
    "        numbers.append(gap)\n",
    "        \n",
    "        if len(l) < 2:\n",
    "            seen[numbers[-1]].append(len(numbers)-1)\n",
    "        else: \n",
    "            seen[numbers[-1]][0] = seen[numbers[-1]][1]\n",
    "            seen[numbers[-1]][1] = len(numbers)-1\n",
    "        \n",
    "numbers[-1]"
   ]
  },
  {
   "cell_type": "code",
   "execution_count": 206,
   "metadata": {},
   "outputs": [
    {
     "name": "stdout",
     "output_type": "stream",
     "text": [
      "seen=defaultdict(<class 'list'>, {8: [0], 11: [1], 0: [2], 19: [3], 1: [4], 2: [5]}), numbers=[8, 11, 0, 19, 1, 2]\n"
     ]
    },
    {
     "ename": "IndexError",
     "evalue": "list index out of range",
     "output_type": "error",
     "traceback": [
      "\u001b[0;31m---------------------------------------------------------------------------\u001b[0m",
      "\u001b[0;31mIndexError\u001b[0m                                Traceback (most recent call last)",
      "\u001b[0;32m<ipython-input-206-6b05a98a30c7>\u001b[0m in \u001b[0;36m<module>\u001b[0;34m\u001b[0m\n\u001b[1;32m     25\u001b[0m             \u001b[0mseen\u001b[0m\u001b[0;34m[\u001b[0m\u001b[0mnumbers\u001b[0m\u001b[0;34m[\u001b[0m\u001b[0;34m-\u001b[0m\u001b[0;36m1\u001b[0m\u001b[0;34m]\u001b[0m\u001b[0;34m]\u001b[0m\u001b[0;34m.\u001b[0m\u001b[0mappend\u001b[0m\u001b[0;34m(\u001b[0m\u001b[0mlen\u001b[0m\u001b[0;34m(\u001b[0m\u001b[0mnumbers\u001b[0m\u001b[0;34m)\u001b[0m\u001b[0;34m-\u001b[0m\u001b[0;36m1\u001b[0m\u001b[0;34m)\u001b[0m\u001b[0;34m\u001b[0m\u001b[0;34m\u001b[0m\u001b[0m\n\u001b[1;32m     26\u001b[0m         \u001b[0;32melse\u001b[0m\u001b[0;34m:\u001b[0m\u001b[0;34m\u001b[0m\u001b[0;34m\u001b[0m\u001b[0m\n\u001b[0;32m---> 27\u001b[0;31m             \u001b[0mseen\u001b[0m\u001b[0;34m[\u001b[0m\u001b[0mnumbers\u001b[0m\u001b[0;34m[\u001b[0m\u001b[0;34m-\u001b[0m\u001b[0;36m1\u001b[0m\u001b[0;34m]\u001b[0m\u001b[0;34m]\u001b[0m\u001b[0;34m[\u001b[0m\u001b[0;36m0\u001b[0m\u001b[0;34m]\u001b[0m \u001b[0;34m=\u001b[0m \u001b[0mseen\u001b[0m\u001b[0;34m[\u001b[0m\u001b[0mnumbers\u001b[0m\u001b[0;34m[\u001b[0m\u001b[0;34m-\u001b[0m\u001b[0;36m1\u001b[0m\u001b[0;34m]\u001b[0m\u001b[0;34m]\u001b[0m\u001b[0;34m[\u001b[0m\u001b[0;36m1\u001b[0m\u001b[0;34m]\u001b[0m\u001b[0;34m\u001b[0m\u001b[0;34m\u001b[0m\u001b[0m\n\u001b[0m\u001b[1;32m     28\u001b[0m             \u001b[0mseen\u001b[0m\u001b[0;34m[\u001b[0m\u001b[0mnumbers\u001b[0m\u001b[0;34m[\u001b[0m\u001b[0;34m-\u001b[0m\u001b[0;36m1\u001b[0m\u001b[0;34m]\u001b[0m\u001b[0;34m]\u001b[0m\u001b[0;34m[\u001b[0m\u001b[0;36m1\u001b[0m\u001b[0;34m]\u001b[0m \u001b[0;34m=\u001b[0m \u001b[0mlen\u001b[0m\u001b[0;34m(\u001b[0m\u001b[0mnumbers\u001b[0m\u001b[0;34m)\u001b[0m\u001b[0;34m-\u001b[0m\u001b[0;36m1\u001b[0m\u001b[0;34m\u001b[0m\u001b[0;34m\u001b[0m\u001b[0m\n\u001b[1;32m     29\u001b[0m \u001b[0;34m\u001b[0m\u001b[0m\n",
      "\u001b[0;31mIndexError\u001b[0m: list index out of range"
     ]
    }
   ],
   "source": [
    "numbers = parse_15(inp15)\n",
    "\n",
    "seen = defaultdict(list)\n",
    "\n",
    "for i, num in enumerate(numbers):\n",
    "    seen[num].append(i)\n",
    "\n",
    "print(f\"{seen=}, {numbers=}\")\n",
    "\n",
    "steps = 2020 #30000000\n",
    "for i in range(len(numbers), steps):\n",
    "    last_num = numbers[-1]\n",
    "    \n",
    "    l = seen[last_num] # list of when that number was seen\n",
    "    \n",
    "    # number hasnt been seen\n",
    "    if len(l) <= 1:\n",
    "        numbers.append(0)\n",
    "        seen[numbers[-1]].append(len(numbers)-1)\n",
    "    else:\n",
    "        gap = seen[last_num][-1] - seen[last_num][-2]\n",
    "        numbers.append(gap)\n",
    "        \n",
    "        if len(l) < 2:\n",
    "            seen[numbers[-1]].append(len(numbers)-1)\n",
    "        else: \n",
    "            seen[numbers[-1]][0] = seen[numbers[-1]][1]\n",
    "            seen[numbers[-1]][1] = len(numbers)-1\n",
    "        \n",
    "numbers[-1]"
   ]
  },
  {
   "cell_type": "markdown",
   "metadata": {},
   "source": [
    "## Part 2\n",
    "\n",
    "Its the same as above, except we have a much longer step to get to. Which implies the solution has to be somewhat efficent. \n",
    "\n",
    "ans is `11721679`"
   ]
  },
  {
   "cell_type": "markdown",
   "metadata": {},
   "source": [
    "So that should be straightforward:"
   ]
  },
  {
   "cell_type": "code",
   "execution_count": 4,
   "metadata": {},
   "outputs": [],
   "source": [
    "def solve_6b(inp=test6):\n",
    "    pass\n",
    "    \n",
    "#assert solve_6b() == 6\n",
    "solve_6b()"
   ]
  },
  {
   "cell_type": "code",
   "execution_count": null,
   "metadata": {},
   "outputs": [],
   "source": []
  }
 ],
 "metadata": {
  "kernelspec": {
   "display_name": "Python [conda env:root] *",
   "language": "python",
   "name": "conda-root-py"
  },
  "language_info": {
   "codemirror_mode": {
    "name": "ipython",
    "version": 3
   },
   "file_extension": ".py",
   "mimetype": "text/x-python",
   "name": "python",
   "nbconvert_exporter": "python",
   "pygments_lexer": "ipython3",
   "version": "3.8.3"
  }
 },
 "nbformat": 4,
 "nbformat_minor": 4
}

{
 "cells": [
  {
   "cell_type": "code",
   "execution_count": 6,
   "metadata": {},
   "outputs": [],
   "source": [
    "import utils\n",
    "import math\n",
    "import itertools\n",
    "import matplotlib.pyplot as plt\n",
    "from collections import namedtuple\n",
    "import pandas as pd\n",
    "import numpy as np"
   ]
  },
  {
   "cell_type": "markdown",
   "metadata": {},
   "source": [
    "## Day 3: Toboggan Trajectory\n",
    "\n",
    "[#](https://adventofcode.com/2020/day/3). We have open squares `.` and trees `#`, which repeat infinetly on the right.\n",
    "\n",
    "We start at the top left and have to reach the bottom. We can move right 3, down 1 only. Following this trajectory, who many trees do we encounter?"
   ]
  },
  {
   "cell_type": "code",
   "execution_count": 114,
   "metadata": {},
   "outputs": [],
   "source": [
    "test3 = \"\"\"..##.......\n",
    "#...#...#..\n",
    ".#....#..#.\n",
    "..#.#...#.#\n",
    ".#...##..#.\n",
    "..#.##.....\n",
    ".#.#.#....#\n",
    ".#........#\n",
    "#.##...#...\n",
    "#...##....#\n",
    ".#..#...#.#\"\"\".splitlines()\n",
    "\n",
    "inp3 = utils.get_input(3)"
   ]
  },
  {
   "cell_type": "code",
   "execution_count": 115,
   "metadata": {},
   "outputs": [
    {
     "data": {
      "text/plain": [
       "['..##.......',\n",
       " '#...#...#..',\n",
       " '.#....#..#.',\n",
       " '..#.#...#.#',\n",
       " '.#...##..#.',\n",
       " '..#.##.....',\n",
       " '.#.#.#....#',\n",
       " '.#........#',\n",
       " '#.##...#...',\n",
       " '#...##....#',\n",
       " '.#..#...#.#']"
      ]
     },
     "execution_count": 115,
     "metadata": {},
     "output_type": "execute_result"
    }
   ],
   "source": [
    "test3"
   ]
  },
  {
   "cell_type": "code",
   "execution_count": 116,
   "metadata": {},
   "outputs": [
    {
     "name": "stdout",
     "output_type": "stream",
     "text": [
      "#...#...#.. 3 1 2\n",
      ".#....#..#. 6 2 5\n",
      "..#.#...#.# 9 3 8\n",
      ".#...##..#. 12 4 0\n",
      "..#.##..... 15 5 3\n",
      ".#.#.#....# 18 6 6\n",
      ".#........# 21 7 9\n",
      "#.##...#... 24 8 1\n",
      "#...##....# 27 9 4\n",
      ".#..#...#.# 30 10 7\n"
     ]
    },
    {
     "data": {
      "text/plain": [
       "7"
      ]
     },
     "execution_count": 116,
     "metadata": {},
     "output_type": "execute_result"
    }
   ],
   "source": [
    "grid = test3\n",
    "X, Y = 3, 1 # moves by\n",
    "x, y = 0, 0 # postion\n",
    "\n",
    "positions = []\n",
    "\n",
    "for i in range(len(grid)-1):\n",
    "    x += X\n",
    "    y += Y\n",
    "    positions.append((x,y))\n",
    "\n",
    "\n",
    "trees = 0\n",
    "l = len(grid[0])\n",
    "\n",
    "for x, y in positions:\n",
    "    print(grid[y], x, y, (x % l-1))\n",
    "    if grid[y][x % (l)] == \"#\":\n",
    "        trees += 1\n",
    "trees"
   ]
  },
  {
   "cell_type": "code",
   "execution_count": 117,
   "metadata": {},
   "outputs": [
    {
     "data": {
      "text/plain": [
       "272"
      ]
     },
     "execution_count": 117,
     "metadata": {},
     "output_type": "execute_result"
    }
   ],
   "source": [
    "grid = inp3\n",
    "X, Y = 3, 1 # moves by\n",
    "x, y = 0, 0 # postion\n",
    "\n",
    "positions = []\n",
    "\n",
    "for i in range(len(grid)-1):\n",
    "    x += X\n",
    "    y += Y\n",
    "    positions.append((x,y))\n",
    "\n",
    "\n",
    "trees = 0\n",
    "l = len(grid[0])\n",
    "\n",
    "for x, y in positions:\n",
    "    if grid[y][x%l] == \"#\":\n",
    "        trees += 1\n",
    "trees"
   ]
  },
  {
   "cell_type": "code",
   "execution_count": 169,
   "metadata": {},
   "outputs": [
    {
     "data": {
      "image/png": "[encoded data removed]",
      "text/plain": [
       "<Figure size 432x432 with 1 Axes>"
      ]
     },
     "metadata": {
      "needs_background": "light"
     },
     "output_type": "display_data"
    }
   ],
   "source": [
    "def plot_grid(grid=test3, positions=positions):\n",
    "    binary_grid = [[c==\"#\" for c in row] for row in [row for row in grid]]\n",
    "    fig = plt.figure(figsize=(6,6))\n",
    "    plt.imshow(binary_grid, alpha=0.3)\n",
    "    plt.axis('off')\n",
    "    \n",
    "    # plot asteroids\n",
    "    yy, xx = zip(*positions)\n",
    "    plt.scatter(xx, yy, marker=\"x\", s=500, alpha=0.8)\n",
    "    \n",
    "    # highlight positions\n",
    "    for x, y in zip(xx,yy):\n",
    "        plt.annotate(f\"({x},{y})\", (x-0.25,y))\n",
    "    \n",
    "    plt.show()\n",
    "\n",
    "plot_grid(positions=[(1,3), (4,5)])"
   ]
  },
  {
   "cell_type": "markdown",
   "metadata": {},
   "source": [
    "## Part 2 \n",
    "\n",
    "get slopes for\n",
    "\n",
    "```\n",
    "Right 1, down 1.\n",
    "Right 3, down 1. (This is the slope you already checked.)\n",
    "Right 5, down 1.\n",
    "Right 7, down 1.\n",
    "Right 1, down 2.\n",
    "```"
   ]
  },
  {
   "cell_type": "markdown",
   "metadata": {},
   "source": [
    "We need a general func to get the numb of trees given a slope"
   ]
  },
  {
   "cell_type": "code",
   "execution_count": 109,
   "metadata": {},
   "outputs": [
    {
     "data": {
      "text/plain": [
       "272"
      ]
     },
     "execution_count": 109,
     "metadata": {},
     "output_type": "execute_result"
    }
   ],
   "source": [
    "def get_trees(grid=test3, slope=(3,1), start_pos=(0,0)):\n",
    "    \"\"\"returns a number of trees encountered on a given slope/grid/start_pos\"\"\"\n",
    "    x,y = start_pos\n",
    "    X,Y = slope\n",
    "    \n",
    "    # get positions our tobaggan travels through\n",
    "    positions = []\n",
    "    for i in range(len(grid)-1):\n",
    "        x += X\n",
    "        y += Y\n",
    "        if y <= len(grid):\n",
    "            positions.append((x,y))\n",
    "            \n",
    "    # count trees\n",
    "    trees = 0\n",
    "    l = len(grid[0])\n",
    "    for x, y in positions:\n",
    "        if grid[y][x%l] == \"#\":\n",
    "            trees += 1\n",
    "            \n",
    "    return trees\n",
    "\n",
    "assert get_trees(test3) == 7\n",
    "get_trees(inp3)"
   ]
  },
  {
   "cell_type": "code",
   "execution_count": 112,
   "metadata": {},
   "outputs": [
    {
     "data": {
      "text/plain": [
       "3898725600"
      ]
     },
     "execution_count": 112,
     "metadata": {},
     "output_type": "execute_result"
    }
   ],
   "source": [
    "slopes = [(1, 1), (3,1), (5,1), (7,1), (1,2)]\n",
    "\n",
    "num_trees = []\n",
    "\n",
    "for slope in slopes:\n",
    "    trees = get_trees(inp3, slope=slope)\n",
    "    num_trees.append(trees)\n",
    "    \n",
    "math.prod(num_trees)"
   ]
  },
  {
   "cell_type": "code",
   "execution_count": null,
   "metadata": {},
   "outputs": [],
   "source": []
  }
 ],
 "metadata": {
  "kernelspec": {
   "display_name": "Python [conda env:py38]",
   "language": "python",
   "name": "conda-env-py38-py"
  },
  "language_info": {
   "codemirror_mode": {
    "name": "ipython",
    "version": 3
   },
   "file_extension": ".py",
   "mimetype": "text/x-python",
   "name": "python",
   "nbconvert_exporter": "python",
   "pygments_lexer": "ipython3",
   "version": "3.8.5"
  }
 },
 "nbformat": 4,
 "nbformat_minor": 4
}

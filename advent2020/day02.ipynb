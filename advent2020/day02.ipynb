{
 "cells": [
  {
   "cell_type": "code",
   "execution_count": 67,
   "metadata": {},
   "outputs": [],
   "source": [
    "import utils\n",
    "import math\n",
    "import itertools\n",
    "import matplotlib.pyplot as plt\n",
    "from collections import namedtuple"
   ]
  },
  {
   "cell_type": "markdown",
   "metadata": {},
   "source": [
    "## Day 2: \n",
    "\n",
    "[#](https://adventofcode.com/2020/day/2). We have a list of passwords in the form: `password policy: password`"
   ]
  },
  {
   "cell_type": "code",
   "execution_count": 68,
   "metadata": {},
   "outputs": [],
   "source": [
    "test1 = \"\"\"1-3 a: abcde\n",
    "1-3 b: cdefg\n",
    "2-9 c: ccccccccc\"\"\".splitlines()\n",
    "\n",
    "inp2 = utils.get_input(2)\n",
    "\n",
    "Policy = namedtuple(\"Policy\", [\"lo\", \"hi\", \"letter\", \"password\"])\n",
    "\n",
    "data = []\n",
    "\n",
    "for a in [i.split() for i in inp_txt]:\n",
    "    lo, hi = map(int, a[0].split(\"-\"))\n",
    "    letter = a[1].strip(\":\")\n",
    "    password = a[2]\n",
    "    p = Policy(lo, hi, letter, password)\n",
    "    data.append(p)"
   ]
  },
  {
   "cell_type": "code",
   "execution_count": 72,
   "metadata": {},
   "outputs": [
    {
     "data": {
      "text/plain": [
       "[Policy(lo=15, hi=16, letter='l', password='klfbblslvjclmlnqklvg'),\n",
       " Policy(lo=6, hi=13, letter='h', password='pghjchdxhnjhjd'),\n",
       " Policy(lo=4, hi=13, letter='n', password='nnznntzznqnzbtzj'),\n",
       " Policy(lo=10, hi=16, letter='r', password='nrrrrkrjtxwrrrwx'),\n",
       " Policy(lo=1, hi=6, letter='t', password='rttftttttttttmdttttt'),\n",
       " Policy(lo=4, hi=12, letter='l', password='zhllfxlmvqtnhx'),\n",
       " Policy(lo=6, hi=8, letter='d', password='wxpwgdbjtffddkb'),\n",
       " Policy(lo=7, hi=9, letter='q', password='rqcqxjqhsm'),\n",
       " Policy(lo=6, hi=8, letter='x', password='xxxfxdxxx'),\n",
       " Policy(lo=5, hi=9, letter='d', password='dwnwnbsddfmc')]"
      ]
     },
     "execution_count": 72,
     "metadata": {},
     "output_type": "execute_result"
    }
   ],
   "source": [
    "data[:10]"
   ]
  },
  {
   "cell_type": "code",
   "execution_count": 74,
   "metadata": {},
   "outputs": [
    {
     "data": {
      "text/plain": [
       "424"
      ]
     },
     "execution_count": 74,
     "metadata": {},
     "output_type": "execute_result"
    }
   ],
   "source": [
    "total = []\n",
    "for p in data:\n",
    "    count = p.password.count(p.letter)\n",
    "    total.append(p.lo <= count <= p.hi)\n",
    "      \n",
    "sum(total)"
   ]
  },
  {
   "cell_type": "markdown",
   "metadata": {},
   "source": [
    "## Part 2 \n",
    "\n",
    "Now the two nums in the beginning are positions, starting from 1. (no zero index). Only one of those positions can have the given letter."
   ]
  },
  {
   "cell_type": "code",
   "execution_count": 71,
   "metadata": {},
   "outputs": [
    {
     "data": {
      "text/plain": [
       "747"
      ]
     },
     "execution_count": 71,
     "metadata": {},
     "output_type": "execute_result"
    }
   ],
   "source": [
    "count = 0\n",
    "for p in data:\n",
    "    char1 = p.password[p.lo-1]\n",
    "    char2 = p.password[p.hi-1]\n",
    "    v = p.letter == char1\n",
    "    valid = (p.letter == char1) != (p.letter == char2)\n",
    "    if valid:\n",
    "        count += 1\n",
    "    \n",
    "count"
   ]
  },
  {
   "cell_type": "code",
   "execution_count": null,
   "metadata": {},
   "outputs": [],
   "source": []
  }
 ],
 "metadata": {
  "kernelspec": {
   "display_name": "Python [conda env:py38]",
   "language": "python",
   "name": "conda-env-py38-py"
  },
  "language_info": {
   "codemirror_mode": {
    "name": "ipython",
    "version": 3
   },
   "file_extension": ".py",
   "mimetype": "text/x-python",
   "name": "python",
   "nbconvert_exporter": "python",
   "pygments_lexer": "ipython3",
   "version": "3.8.5"
  }
 },
 "nbformat": 4,
 "nbformat_minor": 4
}

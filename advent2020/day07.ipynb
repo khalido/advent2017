{
 "cells": [
  {
   "cell_type": "code",
   "execution_count": 2,
   "metadata": {},
   "outputs": [],
   "source": [
    "import utils\n",
    "import math\n",
    "import re\n",
    "import itertools\n",
    "import matplotlib.pyplot as plt\n",
    "from typing import NamedTuple\n",
    "from collections import defaultdict, deque"
   ]
  },
  {
   "cell_type": "markdown",
   "metadata": {},
   "source": [
    "## Day 7: Handy Haversacks \n",
    "\n",
    "[#](https://adventofcode.com/2020/day/7). We a list of rules laying out what color bags and their number can be in a particular colored bag.\n",
    "\n",
    "We want to know how many colors can a `shiny gold` bag be in. Now this can be a bag within a bag within a bag... so it looks like a recursion or some such problem?"
   ]
  },
  {
   "cell_type": "code",
   "execution_count": 3,
   "metadata": {},
   "outputs": [],
   "source": [
    "test7 = \"\"\"light red bags contain 1 bright white bag, 2 muted yellow bags.\n",
    "dark orange bags contain 3 bright white bags, 4 muted yellow bags.\n",
    "bright white bags contain 1 shiny gold bag.\n",
    "muted yellow bags contain 2 shiny gold bags, 9 faded blue bags.\n",
    "shiny gold bags contain 1 dark olive bag, 2 vibrant plum bags.\n",
    "dark olive bags contain 3 faded blue bags, 4 dotted black bags.\n",
    "vibrant plum bags contain 5 faded blue bags, 6 dotted black bags.\n",
    "faded blue bags contain no other bags.\n",
    "dotted black bags contain no other bags.\"\"\".splitlines()\n",
    "\n",
    "inp7 = utils.get_input(7, splitlines=True)"
   ]
  },
  {
   "cell_type": "markdown",
   "metadata": {},
   "source": [
    "First up, a simple function to parse an individual bag:"
   ]
  },
  {
   "cell_type": "code",
   "execution_count": 4,
   "metadata": {},
   "outputs": [
    {
     "data": {
      "text/plain": [
       "(('muted yellow', 2), ('FULL', 0))"
      ]
     },
     "execution_count": 4,
     "metadata": {},
     "output_type": "execute_result"
    }
   ],
   "source": [
    "def parse_bag(txt):\n",
    "    if txt == \"no other bags\":\n",
    "        return \"FULL\", 0\n",
    "    num, col1, col2, _ = txt.split(\" \")\n",
    "    return f\"{col1} {col2}\", int(num)\n",
    "\n",
    "parse_bag('2 muted yellow bags'), parse_bag(\"no other bags\")"
   ]
  },
  {
   "cell_type": "code",
   "execution_count": 5,
   "metadata": {},
   "outputs": [
    {
     "data": {
      "text/plain": [
       "{'light red': {'bright white': 1, 'muted yellow': 2},\n",
       " 'dark orange': {'bright white': 3, 'muted yellow': 4},\n",
       " 'bright white': {'shiny gold': 1},\n",
       " 'muted yellow': {'shiny gold': 2, 'faded blue': 9},\n",
       " 'shiny gold': {'dark olive': 1, 'vibrant plum': 2},\n",
       " 'dark olive': {'faded blue': 3, 'dotted black': 4},\n",
       " 'vibrant plum': {'faded blue': 5, 'dotted black': 6},\n",
       " 'faded blue': {'FULL': 0},\n",
       " 'dotted black': {'FULL': 0}}"
      ]
     },
     "execution_count": 5,
     "metadata": {},
     "output_type": "execute_result"
    }
   ],
   "source": [
    "def parse_7(inp=test7, verbose=False):\n",
    "\n",
    "    bags = {}\n",
    "\n",
    "    for line in inp:\n",
    "        color, rr = line.split(\" bags contain \")\n",
    "        bag_rules = rr.strip(\".\").split(\", \")\n",
    "        \n",
    "        rules_dict = {}\n",
    "        for bag_rule in bag_rules:\n",
    "            col, num = parse_bag(bag_rule)\n",
    "            rules_dict[col] = num\n",
    "\n",
    "        if verbose:\n",
    "            print(bag_rules)\n",
    "            print(rules_dict)\n",
    "            print(\"----\")\n",
    "        bags[color] = rules_dict\n",
    "        \n",
    "    return bags\n",
    "\n",
    "rules = parse_7()\n",
    "rules"
   ]
  },
  {
   "cell_type": "code",
   "execution_count": 18,
   "metadata": {},
   "outputs": [
    {
     "name": "stdout",
     "output_type": "stream",
     "text": [
      "['dark olive', 'vibrant plum']\n",
      "dark olive ['faded blue', 'dotted black']\n",
      "vibrant plum ['faded blue', 'dotted black']\n"
     ]
    },
    {
     "ename": "TypeError",
     "evalue": "unhashable type: 'list'",
     "output_type": "error",
     "traceback": [
      "\u001b[0;31m---------------------------------------------------------------------------\u001b[0m",
      "\u001b[0;31mTypeError\u001b[0m                                 Traceback (most recent call last)",
      "\u001b[0;32m<ipython-input-18-4c721be63689>\u001b[0m in \u001b[0;36m<module>\u001b[0;34m\u001b[0m\n\u001b[1;32m      5\u001b[0m \u001b[0;34m\u001b[0m\u001b[0m\n\u001b[1;32m      6\u001b[0m \u001b[0;32mfor\u001b[0m \u001b[0mcol\u001b[0m \u001b[0;32min\u001b[0m \u001b[0mstack\u001b[0m\u001b[0;34m:\u001b[0m\u001b[0;34m\u001b[0m\u001b[0;34m\u001b[0m\u001b[0m\n\u001b[0;32m----> 7\u001b[0;31m     \u001b[0;32mif\u001b[0m \u001b[0mcc\u001b[0m \u001b[0;34m:=\u001b[0m \u001b[0mlist\u001b[0m\u001b[0;34m(\u001b[0m\u001b[0mrules\u001b[0m\u001b[0;34m[\u001b[0m\u001b[0mcol\u001b[0m\u001b[0;34m]\u001b[0m\u001b[0;34m.\u001b[0m\u001b[0mkeys\u001b[0m\u001b[0;34m(\u001b[0m\u001b[0;34m)\u001b[0m\u001b[0;34m)\u001b[0m\u001b[0;34m:\u001b[0m\u001b[0;34m\u001b[0m\u001b[0;34m\u001b[0m\u001b[0m\n\u001b[0m\u001b[1;32m      8\u001b[0m         \u001b[0mprint\u001b[0m\u001b[0;34m(\u001b[0m\u001b[0mcol\u001b[0m\u001b[0;34m,\u001b[0m \u001b[0mcc\u001b[0m\u001b[0;34m)\u001b[0m\u001b[0;34m\u001b[0m\u001b[0;34m\u001b[0m\u001b[0m\n\u001b[1;32m      9\u001b[0m         \u001b[0mcolors\u001b[0m\u001b[0;34m.\u001b[0m\u001b[0mappend\u001b[0m\u001b[0;34m(\u001b[0m\u001b[0mcc\u001b[0m\u001b[0;34m)\u001b[0m\u001b[0;34m\u001b[0m\u001b[0;34m\u001b[0m\u001b[0m\n",
      "\u001b[0;31mTypeError\u001b[0m: unhashable type: 'list'"
     ]
    }
   ],
   "source": [
    "find = \"shiny gold\"\n",
    "stack = list(rules[find].keys()) # first level bags\n",
    "colors = stack[:]\n",
    "print(colors)\n",
    "\n",
    "for col in stack:\n",
    "    if cc := list(rules[col].keys()):\n",
    "        print(col, cc)\n",
    "        colors.append(cc)\n",
    "        for c in cc:\n",
    "            stack.append(cc)\n",
    "        stack = stack[1:]"
   ]
  },
  {
   "cell_type": "code",
   "execution_count": 17,
   "metadata": {},
   "outputs": [
    {
     "data": {
      "text/plain": [
       "['dark olive',\n",
       " 'vibrant plum',\n",
       " dict_keys(['faded blue', 'dotted black']),\n",
       " dict_keys(['faded blue', 'dotted black'])]"
      ]
     },
     "execution_count": 17,
     "metadata": {},
     "output_type": "execute_result"
    }
   ],
   "source": [
    "colors"
   ]
  },
  {
   "cell_type": "code",
   "execution_count": null,
   "metadata": {},
   "outputs": [],
   "source": [
    "find=\"shiny gold\"\n",
    "ans = list(rules[find].keys())\n",
    "\n",
    "def rr(col):\n",
    "    ans = list(rules[find].keys())\n",
    "    \n",
    "    "
   ]
  },
  {
   "cell_type": "code",
   "execution_count": 121,
   "metadata": {},
   "outputs": [
    {
     "name": "stdout",
     "output_type": "stream",
     "text": [
      "{'light red': {'bright white': 1, 'muted yellow': 2}, 'dark orange': {'bright white': 3, 'muted yellow': 4}, 'bright white': {'shiny gold': 1}, 'muted yellow': {'shiny gold': 2, 'faded blue': 9}, 'shiny gold': {'dark olive': 1, 'vibrant plum': 2}, 'dark olive': {'faded blue': 3, 'dotted black': 4}, 'vibrant plum': {'faded blue': 5, 'dotted black': 6}, 'faded blue': {'FULL': 0}, 'dotted black': {'FULL': 0}}\n"
     ]
    }
   ],
   "source": [
    "def solve_7(find=\"shiny gold\", inp=test7):\n",
    "    rules = parse_7(inp)\n",
    "    \n",
    "solve_7()"
   ]
  },
  {
   "cell_type": "markdown",
   "metadata": {},
   "source": [
    "## Part 2\n",
    "\n",
    "Now we need to validate data ranges. We already have a list of passports so I'll reuse that.\n",
    "\n",
    "First up writing some helper functions to validate specific passport fields:"
   ]
  }
 ],
 "metadata": {
  "kernelspec": {
   "display_name": "Python [conda env:root] *",
   "language": "python",
   "name": "conda-root-py"
  },
  "language_info": {
   "codemirror_mode": {
    "name": "ipython",
    "version": 3
   },
   "file_extension": ".py",
   "mimetype": "text/x-python",
   "name": "python",
   "nbconvert_exporter": "python",
   "pygments_lexer": "ipython3",
   "version": "3.8.3"
  }
 },
 "nbformat": 4,
 "nbformat_minor": 4
}

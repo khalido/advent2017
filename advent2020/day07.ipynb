{
 "cells": [
  {
   "cell_type": "code",
   "execution_count": 1,
   "metadata": {},
   "outputs": [],
   "source": [
    "import utils\n",
    "import math\n",
    "import re\n",
    "import itertools\n",
    "import matplotlib.pyplot as plt\n",
    "from typing import NamedTuple\n",
    "from collections import defaultdict, deque"
   ]
  },
  {
   "cell_type": "markdown",
   "metadata": {},
   "source": [
    "## Day 7: Handy Haversacks \n",
    "\n",
    "[#](https://adventofcode.com/2020/day/7). We a list of rules laying out what color bags and their number can be in a particular colored bag.\n",
    "\n",
    "We want to know how many colors can a `shiny gold` bag be in. Now this can be a bag within a bag within a bag... so it looks like a recursion or some such problem?"
   ]
  },
  {
   "cell_type": "code",
   "execution_count": 7,
   "metadata": {},
   "outputs": [],
   "source": [
    "test7 = \"\"\"light red bags contain 1 bright white bag, 2 muted yellow bags.\n",
    "dark orange bags contain 3 bright white bags, 4 muted yellow bags.\n",
    "bright white bags contain 1 shiny gold bag.\n",
    "muted yellow bags contain 2 shiny gold bags, 9 faded blue bags.\n",
    "shiny gold bags contain 1 dark olive bag, 2 vibrant plum bags.\n",
    "dark olive bags contain 3 faded blue bags, 4 dotted black bags.\n",
    "vibrant plum bags contain 5 faded blue bags, 6 dotted black bags.\n",
    "faded blue bags contain no other bags.\n",
    "dotted black bags contain no other bags.\"\"\".splitlines()\n",
    "\n",
    "inp7 = utils.get_input(7, splitlines=True)"
   ]
  },
  {
   "cell_type": "markdown",
   "metadata": {},
   "source": [
    "First up, a simple function to parse an individual bag:"
   ]
  },
  {
   "cell_type": "code",
   "execution_count": 87,
   "metadata": {},
   "outputs": [
    {
     "data": {
      "text/plain": [
       "(('muted yellow', 2), ('FULL', 0))"
      ]
     },
     "execution_count": 87,
     "metadata": {},
     "output_type": "execute_result"
    }
   ],
   "source": [
    "def parse_bag(txt):\n",
    "    if txt == \"no other bags\":\n",
    "        return \"FULL\", 0\n",
    "    num, col1, col2, _ = txt.split(\" \")\n",
    "    return f\"{col1} {col2}\", int(num)\n",
    "\n",
    "parse_bag('2 muted yellow bags'), parse_bag(\"no other bags\")"
   ]
  },
  {
   "cell_type": "code",
   "execution_count": 104,
   "metadata": {},
   "outputs": [
    {
     "data": {
      "text/plain": [
       "{'light red': {'bright white': 1, 'muted yellow': 2},\n",
       " 'dark orange': {'bright white': 3, 'muted yellow': 4},\n",
       " 'bright white': {'shiny gold': 1},\n",
       " 'muted yellow': {'shiny gold': 2, 'faded blue': 9},\n",
       " 'shiny gold': {'dark olive': 1, 'vibrant plum': 2},\n",
       " 'dark olive': {'faded blue': 3, 'dotted black': 4},\n",
       " 'vibrant plum': {'faded blue': 5, 'dotted black': 6},\n",
       " 'faded blue': {'FULL': 0},\n",
       " 'dotted black': {'FULL': 0}}"
      ]
     },
     "execution_count": 104,
     "metadata": {},
     "output_type": "execute_result"
    }
   ],
   "source": [
    "def parse_7(inp=test7, verbose=False):\n",
    "\n",
    "    bags = {}\n",
    "\n",
    "    for line in inp:\n",
    "        color, rr = line.split(\" bags contain \")\n",
    "        bag_rules = rr.strip(\".\").split(\", \")\n",
    "        \n",
    "        rules_dict = {}\n",
    "        for bag_rule in bag_rules:\n",
    "            col, num = parse_bag(bag_rule)\n",
    "            rules_dict[col] = num\n",
    "\n",
    "        if verbose:\n",
    "            print(bag_rules)\n",
    "            print(rules_dict)\n",
    "            print(\"----\")\n",
    "        bags[color] = rules_dict\n",
    "        \n",
    "    return bags\n",
    "\n",
    "rules = parse_7()\n",
    "rules"
   ]
  },
  {
   "cell_type": "code",
   "execution_count": 118,
   "metadata": {},
   "outputs": [
    {
     "name": "stdout",
     "output_type": "stream",
     "text": [
      "dark olive ['faded blue', 'dotted black']\n",
      "vibrant plum ['faded blue', 'dotted black']\n"
     ]
    }
   ],
   "source": [
    "find = \"shiny gold\"\n",
    "stack = deque(rules[find].keys()) # first level bags\n",
    "colors = []\n",
    "\n",
    "for col in stack:\n",
    "    if cc := list(rules[col].keys()):\n",
    "        print(col, cc)\n",
    "        colors.append(cc)"
   ]
  },
  {
   "cell_type": "code",
   "execution_count": 126,
   "metadata": {},
   "outputs": [
    {
     "data": {
      "text/plain": [
       "{'dark olive', 'vibrant plum'}"
      ]
     },
     "execution_count": 126,
     "metadata": {},
     "output_type": "execute_result"
    }
   ],
   "source": [
    "ans = set(rules[find].keys())"
   ]
  },
  {
   "cell_type": "code",
   "execution_count": null,
   "metadata": {},
   "outputs": [],
   "source": [
    "find=\"shiny gold\"\n",
    "ans = list(rules[find].keys())\n",
    "\n",
    "def rr(col):\n",
    "    ans = list(rules[find].keys())\n",
    "    \n",
    "    "
   ]
  },
  {
   "cell_type": "code",
   "execution_count": 121,
   "metadata": {},
   "outputs": [
    {
     "name": "stdout",
     "output_type": "stream",
     "text": [
      "{'light red': {'bright white': 1, 'muted yellow': 2}, 'dark orange': {'bright white': 3, 'muted yellow': 4}, 'bright white': {'shiny gold': 1}, 'muted yellow': {'shiny gold': 2, 'faded blue': 9}, 'shiny gold': {'dark olive': 1, 'vibrant plum': 2}, 'dark olive': {'faded blue': 3, 'dotted black': 4}, 'vibrant plum': {'faded blue': 5, 'dotted black': 6}, 'faded blue': {'FULL': 0}, 'dotted black': {'FULL': 0}}\n"
     ]
    }
   ],
   "source": [
    "def solve_7(find=\"shiny gold\", inp=test7):\n",
    "    rules = parse_7(inp)\n",
    "    \n",
    "solve_7()"
   ]
  },
  {
   "cell_type": "markdown",
   "metadata": {},
   "source": [
    "## Part 2\n",
    "\n",
    "Now we need to validate data ranges. We already have a list of passports so I'll reuse that.\n",
    "\n",
    "First up writing some helper functions to validate specific passport fields:"
   ]
  }
 ],
 "metadata": {
  "kernelspec": {
   "display_name": "Python [conda env:root] *",
   "language": "python",
   "name": "conda-root-py"
  },
  "language_info": {
   "codemirror_mode": {
    "name": "ipython",
    "version": 3
   },
   "file_extension": ".py",
   "mimetype": "text/x-python",
   "name": "python",
   "nbconvert_exporter": "python",
   "pygments_lexer": "ipython3",
   "version": "3.8.3"
  }
 },
 "nbformat": 4,
 "nbformat_minor": 4
}

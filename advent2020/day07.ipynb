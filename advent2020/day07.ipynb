{
 "cells": [
  {
   "cell_type": "code",
   "execution_count": 1,
   "metadata": {},
   "outputs": [],
   "source": [
    "import utils\n",
    "from typing import NamedTuple, Dict"
   ]
  },
  {
   "cell_type": "markdown",
   "metadata": {},
   "source": [
    "## Day 7: Handy Haversacks \n",
    "\n",
    "[#](https://adventofcode.com/2020/day/7). We a list of rules laying out what color bags and their number can be in a particular colored bag.\n",
    "\n",
    "We want to know how many colors can a `shiny gold` bag be in. Now this can be a bag within a bag within a bag... so it looks like a recursion or some such problem?"
   ]
  },
  {
   "cell_type": "code",
   "execution_count": 2,
   "metadata": {},
   "outputs": [],
   "source": [
    "test7 = \"\"\"light red bags contain 1 bright white bag, 2 muted yellow bags.\n",
    "dark orange bags contain 3 bright white bags, 4 muted yellow bags.\n",
    "bright white bags contain 1 shiny gold bag.\n",
    "muted yellow bags contain 2 shiny gold bags, 9 faded blue bags.\n",
    "shiny gold bags contain 1 dark olive bag, 2 vibrant plum bags.\n",
    "dark olive bags contain 3 faded blue bags, 4 dotted black bags.\n",
    "vibrant plum bags contain 5 faded blue bags, 6 dotted black bags.\n",
    "faded blue bags contain no other bags.\n",
    "dotted black bags contain no other bags.\"\"\".splitlines()\n",
    "\n",
    "inp7 = utils.get_input(7, splitlines=True)"
   ]
  },
  {
   "cell_type": "markdown",
   "metadata": {},
   "source": [
    "First up, a simple function to parse an individual bag:"
   ]
  },
  {
   "cell_type": "code",
   "execution_count": 3,
   "metadata": {},
   "outputs": [
    {
     "output_type": "execute_result",
     "data": {
      "text/plain": [
       "(('muted yellow', 2), ('EMPTY', 0))"
      ]
     },
     "metadata": {},
     "execution_count": 3
    }
   ],
   "source": [
    "def parse_bag(txt):\n",
    "    \"\"\"parses an individual bag\"\"\"\n",
    "    if txt == \"no other bags\":\n",
    "        return \"EMPTY\", 0\n",
    "    num, col1, col2, _ = txt.split(\" \")\n",
    "    return f\"{col1} {col2}\", int(num)\n",
    "\n",
    "parse_bag('2 muted yellow bags'), parse_bag(\"no other bags\")"
   ]
  },
  {
   "cell_type": "code",
   "execution_count": 4,
   "metadata": {},
   "outputs": [
    {
     "output_type": "execute_result",
     "data": {
      "text/plain": [
       "{'light red': {'bright white': 1, 'muted yellow': 2},\n",
       " 'dark orange': {'bright white': 3, 'muted yellow': 4},\n",
       " 'bright white': {'shiny gold': 1},\n",
       " 'muted yellow': {'shiny gold': 2, 'faded blue': 9},\n",
       " 'shiny gold': {'dark olive': 1, 'vibrant plum': 2},\n",
       " 'dark olive': {'faded blue': 3, 'dotted black': 4},\n",
       " 'vibrant plum': {'faded blue': 5, 'dotted black': 6},\n",
       " 'faded blue': {'EMPTY': 0},\n",
       " 'dotted black': {'EMPTY': 0}}"
      ]
     },
     "metadata": {},
     "execution_count": 4
    }
   ],
   "source": [
    "def parse_7(inp=test7) -> Dict[str, int]:\n",
    "    \"\"\"returns a dict of colors: dict of color and how many bags it can contain.\n",
    "    add check to see if a bag is repeated if needed\"\"\"\n",
    "\n",
    "    bags = {}\n",
    "\n",
    "    for line in inp:\n",
    "        color, rr = line.split(\" bags contain \")\n",
    "        bag_rules = rr.strip(\".\").split(\", \")\n",
    "        \n",
    "        rules_dict = {}\n",
    "        for bag_rule in bag_rules:\n",
    "            col, num = parse_bag(bag_rule)\n",
    "            rules_dict[col] = num\n",
    "\n",
    "        bags[color] = rules_dict\n",
    "        \n",
    "    return bags\n",
    "\n",
    "rules = parse_7()\n",
    "rules"
   ]
  },
  {
   "source": [
    "[Grokking Algos](https://www.manning.com/books/grokking-algorithms) which I read ages ago has a nice chapter on recursion, and the most important thing is that you need a base case which returns something, else it calls a itself with a simpler version of the problem (hopefully everything is trending to the base case so stuff gets returned finally.)"
   ],
   "cell_type": "markdown",
   "metadata": {}
  },
  {
   "cell_type": "code",
   "execution_count": 5,
   "metadata": {},
   "outputs": [
    {
     "output_type": "execute_result",
     "data": {
      "text/plain": [
       "True"
      ]
     },
     "metadata": {},
     "execution_count": 5
    }
   ],
   "source": [
    "def contains_bag(bag, target=\"shiny gold\", rules=rules):\n",
    "    \"\"\"returns True if given bag can contain the given bag\"\"\"\n",
    "    \n",
    "    # the base case - bag contains target directly so no need to investigate further\n",
    "    if target in rules[bag]:\n",
    "        return True\n",
    "    \n",
    "    # else see if the bags inside the given bag can contain the target\n",
    "    return any([contains_bag(bag, target, rules) for bag in rules[bag] if bag != \"EMPTY\"])\n",
    "    \n",
    "\n",
    "contains_bag(\"bright white\", \"shiny gold\", parse_7(test7))\n",
    "contains_bag(\"dark orange\", \"shiny gold\", parse_7(test7))\n"
   ]
  },
  {
   "cell_type": "code",
   "execution_count": 6,
   "metadata": {},
   "outputs": [
    {
     "output_type": "execute_result",
     "data": {
      "text/plain": [
       "246"
      ]
     },
     "metadata": {},
     "execution_count": 6
    }
   ],
   "source": [
    "def solve_7(inp=test7, target=\"shiny gold\"):\n",
    "    rules = parse_7(inp)\n",
    "    return sum(contains_bag(bag, target, rules) for bag in rules)\n",
    "\n",
    "assert solve_7() == 4\n",
    "solve_7(inp7)"
   ]
  },
  {
   "cell_type": "markdown",
   "metadata": {},
   "source": [
    "## Part 2\n",
    "\n",
    "Now we need to count the total number of bags inside a given bag as per the rules. This is a modification of the above to count bags contained instead of looking for a particular bag."
   ]
  },
  {
   "cell_type": "code",
   "execution_count": 7,
   "metadata": {},
   "outputs": [],
   "source": [
    "def contains_num_bags(bag=\"shiny gold\", rules=rules):\n",
    "    \"\"\"returns the number of bags a bag holds, calculated recursively\"\"\"\n",
    "    \n",
    "    # count the bags recursively, with empty bags excluded \n",
    "    # n is the num of that bag it contains, added to n times the num of bags within that\n",
    "    return sum([n + n*contains_num_bags(bag, rules) for bag, n in rules[bag].items() if bag != \"EMPTY\"])\n",
    "    \n",
    "\n",
    "assert contains_num_bags(\"shiny gold\", rules=parse_7(test7)) == 32\n"
   ]
  },
  {
   "cell_type": "code",
   "execution_count": 8,
   "metadata": {},
   "outputs": [
    {
     "output_type": "execute_result",
     "data": {
      "text/plain": [
       "2976"
      ]
     },
     "metadata": {},
     "execution_count": 8
    }
   ],
   "source": [
    "def solve_7b(inp=test7, bag=\"shiny gold\"):\n",
    "    rules = parse_7(inp)\n",
    "    return contains_num_bags(bag, rules)\n",
    "\n",
    "solve_7b(inp7)"
   ]
  },
  {
   "source": [
    "**Notes**\n",
    "\n",
    "- Recursion always does my head in, do more of it.\n",
    "- figure out how to write better text parsers"
   ],
   "cell_type": "markdown",
   "metadata": {}
  }
 ],
 "metadata": {
  "kernelspec": {
   "name": "python3",
   "display_name": "Python 3.8.3 64-bit ('base': conda)",
   "metadata": {
    "interpreter": {
     "hash": "efcc86ea4a39a2642e38ee81392295025844417aa5c1c3d1f32da5a521641db4"
    }
   }
  },
  "language_info": {
   "codemirror_mode": {
    "name": "ipython",
    "version": 3
   },
   "file_extension": ".py",
   "mimetype": "text/x-python",
   "name": "python",
   "nbconvert_exporter": "python",
   "pygments_lexer": "ipython3",
   "version": "3.8.3-final"
  }
 },
 "nbformat": 4,
 "nbformat_minor": 4
}
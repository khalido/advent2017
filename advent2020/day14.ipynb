{
 "cells": [
  {
   "cell_type": "code",
   "execution_count": 4,
   "metadata": {},
   "outputs": [],
   "source": [
    "import utils\n",
    "import math\n",
    "import re\n",
    "import itertools\n",
    "from typing import NamedTuple\n",
    "from collections import defaultdict, deque\n",
    "import itertools\n",
    "\n",
    "import matplotlib.pyplot as plt"
   ]
  },
  {
   "cell_type": "markdown",
   "metadata": {},
   "source": [
    "## Day 14: Docking Data\n",
    "\n",
    "[#](https://adventofcode.com/2020/day/14). We are getting a bunch on instructions to write ints to memory addresses, the ints with to be encoded with a bitmask of 36 digits before being written.\n",
    "\n",
    "- `X` leaves val alone\n",
    "- `1` or `0` over writes the val"
   ]
  },
  {
   "cell_type": "code",
   "execution_count": 73,
   "metadata": {},
   "outputs": [
    {
     "data": {
      "text/plain": [
       "['mask = XXXXXXXXXXXXXXXXXXXXXXXXXXXXX1XXXX0X',\n",
       " 'mem[8] = 11',\n",
       " 'mem[7] = 101',\n",
       " 'mem[8] = 0']"
      ]
     },
     "execution_count": 73,
     "metadata": {},
     "output_type": "execute_result"
    }
   ],
   "source": [
    "test14 = \"\"\"mask = XXXXXXXXXXXXXXXXXXXXXXXXXXXXX1XXXX0X\n",
    "mem[8] = 11\n",
    "mem[7] = 101\n",
    "mem[8] = 0\"\"\".splitlines()\n",
    "inp14 = utils.get_input(14, splitlines=True)\n",
    "\n",
    "test14"
   ]
  },
  {
   "cell_type": "markdown",
   "metadata": {},
   "source": [
    "First up, a func to encode numbers. I'm doing this in a very non-optimal way, as ideally there should be a much faster way to do a binary shift or something."
   ]
  },
  {
   "cell_type": "code",
   "execution_count": 82,
   "metadata": {},
   "outputs": [],
   "source": [
    "def encode_num(num, mask):\n",
    "    num = bin(num)[2:]\n",
    "    num = num.zfill(len(mask))\n",
    "    \n",
    "    encoded_num = \"\"\n",
    "    for n, m in zip(num, mask):\n",
    "        if m == \"X\":\n",
    "            encoded_num += n\n",
    "        elif m == \"1\":\n",
    "            encoded_num += \"1\"\n",
    "        elif m == \"0\":\n",
    "            encoded_num += \"0\"\n",
    "        else:\n",
    "            print(\"FAILD\")\n",
    "            \n",
    "    return int(encoded_num, 2)\n",
    "      \n",
    "mask = \"XXXXXXXXXXXXXXXXXXXXXXXXXXXXX1XXXX0X\"    \n",
    "assert encode_num(11, mask) == 73\n",
    "assert encode_num(101, mask) == 101\n",
    "assert encode_num(0, mask) == 64"
   ]
  },
  {
   "cell_type": "code",
   "execution_count": 85,
   "metadata": {},
   "outputs": [
    {
     "data": {
      "text/plain": [
       "4886706177792"
      ]
     },
     "execution_count": 85,
     "metadata": {},
     "output_type": "execute_result"
    }
   ],
   "source": [
    "def solve_14(inp=test14):\n",
    "    \"\"\"parses and solves part 1 in one fell swoop\"\"\"\n",
    "    memory = dict()\n",
    "    \n",
    "    for line in inp:\n",
    "        if line.startswith(\"mask\"):\n",
    "            mask = line.split(\" = \")[1]\n",
    "        else:\n",
    "            addr, num = [int(n) for n in re.findall(r'\\d+', line)]\n",
    "            memory[addr] = encode_num(num, mask) \n",
    "            \n",
    "    return sum(memory.values())\n",
    "        \n",
    "assert parse_14() == 165\n",
    "parse_14(inp14)"
   ]
  },
  {
   "cell_type": "markdown",
   "metadata": {},
   "source": [
    "## Part 2\n",
    "\n"
   ]
  },
  {
   "cell_type": "markdown",
   "metadata": {},
   "source": [
    "So that should be straightforward:"
   ]
  },
  {
   "cell_type": "code",
   "execution_count": 4,
   "metadata": {},
   "outputs": [],
   "source": [
    "def solve_6b(inp=test6):\n",
    "    pass\n",
    "    \n",
    "#assert solve_6b() == 6\n",
    "solve_6b()"
   ]
  },
  {
   "cell_type": "code",
   "execution_count": null,
   "metadata": {},
   "outputs": [],
   "source": []
  }
 ],
 "metadata": {
  "kernelspec": {
   "display_name": "Python [conda env:root] *",
   "language": "python",
   "name": "conda-root-py"
  },
  "language_info": {
   "codemirror_mode": {
    "name": "ipython",
    "version": 3
   },
   "file_extension": ".py",
   "mimetype": "text/x-python",
   "name": "python",
   "nbconvert_exporter": "python",
   "pygments_lexer": "ipython3",
   "version": "3.8.3"
  }
 },
 "nbformat": 4,
 "nbformat_minor": 4
}

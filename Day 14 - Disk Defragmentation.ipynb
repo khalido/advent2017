{
 "cells": [
  {
   "cell_type": "markdown",
   "metadata": {},
   "source": [
    "# [--- Day 14: Disk Defragmentation ---](http://adventofcode.com/2017/day/14)\n",
    "\n",
    "Suddenly, a scheduled job activates the system's disk defragmenter. Were the situation different, you might sit and watch it for a while, but today, you just don't have that kind of time. It's soaking up valuable system resources that are needed elsewhere, and so the only option is to help it finish its task as soon as possible.\n",
    "\n",
    "The disk in question consists of a 128x128 grid; each square of the grid is either free or used. On this disk, the state of the grid is tracked by the bits in a sequence of knot hashes.\n",
    "\n",
    "A total of 128 knot hashes are calculated, each corresponding to a single row in the grid; each hash contains 128 bits which correspond to individual grid squares. Each bit of a hash indicates whether that square is free (0) or used (1).\n",
    "\n",
    "The hash inputs are a key string (your puzzle input), a dash, and a number from 0 to 127 corresponding to the row. For example, if your key string were flqrgnkx, then the first row would be given by the bits of the knot hash of flqrgnkx-0, the second row from the bits of the knot hash of flqrgnkx-1, and so on until the last row, flqrgnkx-127.\n",
    "\n",
    "The output of a knot hash is traditionally represented by 32 hexadecimal digits; each of these digits correspond to 4 bits, for a total of 4 * 32 = 128 bits. To convert to bits, turn each hexadecimal digit to its equivalent binary value, high-bit first: 0 becomes 0000, 1 becomes 0001, e becomes 1110, f becomes 1111, and so on; a hash that begins with a0c2017... in hexadecimal would begin with 10100000110000100000000101110000... in binary.\n",
    "\n",
    "Continuing this process, the first 8 rows and columns for key flqrgnkx appear as follows, using # to denote used squares, and . to denote free ones:\n",
    "\n",
    "```\n",
    "##.#.#..-->\n",
    ".#.#.#.#   \n",
    "....#.#.   \n",
    "#.#.##.#   \n",
    ".##.#...   \n",
    "##..#..#   \n",
    ".#...#..   \n",
    "##.#.##.-->\n",
    "|      |   \n",
    "V      V   \n",
    "```\n",
    "\n",
    "In this example, 8108 squares are used across the entire 128x128 grid.\n",
    "\n",
    "**Given your actual key string, how many squares are used?**\n",
    "\n",
    "Your puzzle input is `ugkiagan`."
   ]
  },
  {
   "cell_type": "markdown",
   "metadata": {},
   "source": [
    "First up, since we need to make 128 knot hashes from the puzzle input:"
   ]
  },
  {
   "cell_type": "code",
   "execution_count": 173,
   "metadata": {},
   "outputs": [
    {
     "data": {
      "text/plain": [
       "(['ugkiagan-0', 'ugkiagan-1', 'ugkiagan-2', 'ugkiagan-3', 'ugkiagan-4'],\n",
       " ['ugkiagan-124', 'ugkiagan-125', 'ugkiagan-126', 'ugkiagan-127'])"
      ]
     },
     "execution_count": 173,
     "metadata": {},
     "output_type": "execute_result"
    }
   ],
   "source": [
    "puzzle_input = [\"ugkiagan-\" + str(i) for i in range(128)]\n",
    "puzzle_input[:5], puzzle_input[-4:]"
   ]
  },
  {
   "cell_type": "markdown",
   "metadata": {},
   "source": [
    "Now to actually knot dem hashes, so putting my somewhat messy code [from day 10](https://github.com/khalido/advent2017/blob/master/Day%2010%20-%20Knot%20Hash.ipynb) into one function:"
   ]
  },
  {
   "cell_type": "code",
   "execution_count": 69,
   "metadata": {},
   "outputs": [],
   "source": [
    "from functools import reduce\n",
    "import operator\n",
    "import numpy as np\n",
    "\n",
    "def knot_hash(key):\n",
    "    \"\"\"takes in a key and returns the hash \"\"\"\n",
    "    suffix = [int(i) for i in \"17,31,73,47,23\".split(\",\")]\n",
    "    key_bytes = [ord(c) for c in key] + suffix\n",
    "\n",
    "    string = [i for i in range(256)]\n",
    "\n",
    "    skip_size = 0\n",
    "    cur_pos = 0\n",
    "    \n",
    "    def make_substring_and_reverse(start_idx, length):\n",
    "        \"\"\"makes substring, reverses it, then returns full string\"\"\"\n",
    "        if length > len(string):\n",
    "            print(\"too long!\")\n",
    "\n",
    "        end_idx = start_idx + length\n",
    "        if end_idx < len(string):\n",
    "            return string[:start_idx] + string[start_idx:end_idx][::-1] + string[end_idx:]\n",
    "        else:\n",
    "            firstbit = string[start_idx:]\n",
    "\n",
    "            wrap_pos = end_idx % len(string)\n",
    "            secondbit = string[:(length-len(firstbit))]\n",
    "\n",
    "            reverseString = (firstbit+secondbit)[::-1]\n",
    "\n",
    "            # now to update the actual string\n",
    "            temp_pos = cur_pos\n",
    "\n",
    "            for char in reverseString:\n",
    "                if temp_pos >= len(string):\n",
    "                    temp_pos = 0\n",
    "                string[temp_pos] = char\n",
    "                temp_pos += 1\n",
    "\n",
    "            return string\n",
    "    \n",
    "    for _ in range(64):\n",
    "        for num in key_bytes:\n",
    "            string = make_substring_and_reverse(cur_pos, num)\n",
    "            # make cur_pos circular\n",
    "            cur_pos += (num + skip_size)\n",
    "            if cur_pos > len(string):\n",
    "                cur_pos = cur_pos % len(string)\n",
    "            skip_size += 1\n",
    "    \n",
    "    hash = []\n",
    "    for i in range(0,256,16):\n",
    "        h = reduce(operator.xor, string[i:i+16])\n",
    "        hash.append(h)\n",
    "    \n",
    "    final_hash = [f\"{c:02x}\" for c in hash]\n",
    "    final_hash = \"\".join(final_hash)\n",
    "    return final_hash\n",
    "    \n",
    "    \n",
    "assert knot_hash(\"\") == \"a2582a3a0e66e6e86e3812dcb672a272\"\n",
    "assert knot_hash(\"AoC 2017\") == \"33efeb34ea91902bb2f59c9920caa6cd\"\n",
    "assert knot_hash(\"1,2,3\") == \"3efbe78a8d82f29979031a4aa0b16a9d\"\n",
    "assert knot_hash(\"1,2,4\") == \"63960835bcdc130f0b66d7ff4f6a5a8e\"\n",
    "assert knot_hash(\"129,154,49,198,200,133,97,254,41,6,2,1,255,0,191,108\") == \"62e2204d2ca4f4924f6e7a80f1288786\""
   ]
  },
  {
   "cell_type": "code",
   "execution_count": 164,
   "metadata": {},
   "outputs": [
    {
     "data": {
      "text/plain": [
       "'0b111111101000100111011010101111010111111111110110100111111111010110111100101110000110110100011001111010001011010111001010000101'"
      ]
     },
     "execution_count": 164,
     "metadata": {},
     "output_type": "execute_result"
    }
   ],
   "source": [
    "def binary_hash(key):\n",
    "    return bin(int(knot_hash(key), 16))\n",
    "\n",
    "binary_hash(\"ugkiagan-0\")"
   ]
  },
  {
   "cell_type": "markdown",
   "metadata": {},
   "source": [
    "now to test this:"
   ]
  },
  {
   "cell_type": "code",
   "execution_count": 89,
   "metadata": {},
   "outputs": [
    {
     "data": {
      "text/plain": [
       "(['flqrgnkx-0', 'flqrgnkx-1', 'flqrgnkx-2', 'flqrgnkx-3', 'flqrgnkx-4'],\n",
       " ['ugkiagan-124', 'ugkiagan-125', 'ugkiagan-126', 'ugkiagan-127'])"
      ]
     },
     "execution_count": 89,
     "metadata": {},
     "output_type": "execute_result"
    }
   ],
   "source": [
    "test_input = [\"flqrgnkx-\" + str(i) for i in range(128)]\n",
    "test_input[:5], puzzle_input[-4:]"
   ]
  },
  {
   "cell_type": "markdown",
   "metadata": {},
   "source": [
    "I'm just counting the ones in the simplest possible manner, though there has to be a much faster numpy way of doing this:"
   ]
  },
  {
   "cell_type": "code",
   "execution_count": 169,
   "metadata": {},
   "outputs": [
    {
     "name": "stdout",
     "output_type": "stream",
     "text": [
      "8108\n"
     ]
    },
    {
     "data": {
      "text/plain": [
       "8292"
      ]
     },
     "execution_count": 169,
     "metadata": {},
     "output_type": "execute_result"
    }
   ],
   "source": [
    "def squares_used(key_string):\n",
    "    grid = [binary_hash(k) for k in key_string]\n",
    "    used = 0\n",
    "    for h in grid:\n",
    "        used += h.count(\"1\")\n",
    "    return used\n",
    "\n",
    "print(squares_used(test_input))\n",
    "squares_used(puzzle_input)"
   ]
  },
  {
   "cell_type": "markdown",
   "metadata": {},
   "source": [
    "# --- Part Two ---\n",
    "\n",
    "Now, all the defragmenter needs to know is the number of regions. A region is a group of used squares that are all adjacent, not including diagonals. Every used square is in exactly one region: lone used squares form their own isolated regions, while several adjacent squares all count as a single region.\n",
    "\n",
    "In the example above, the following nine regions are visible, each marked with a distinct digit:\n",
    "\n",
    "```\n",
    "11.2.3..-->\n",
    ".1.2.3.4   \n",
    "....5.6.   \n",
    "7.8.55.9   \n",
    ".88.5...   \n",
    "88..5..8   \n",
    ".8...8..   \n",
    "88.8.88.-->\n",
    "|      |   \n",
    "V      V   \n",
    "```\n",
    "\n",
    "Of particular interest is the region marked 8; while it does not appear contiguous in this small view, all of the squares marked 8 are connected when considering the whole 128x128 grid. In total, in this example, 1242 regions are present.\n",
    "\n",
    "**How many regions are present given your key string?**"
   ]
  },
  {
   "cell_type": "code",
   "execution_count": 174,
   "metadata": {},
   "outputs": [
    {
     "data": {
      "text/plain": [
       "[1, 1, 1, 1, 1, 1, 1, 0, 1, 0, 0, 0, 1, 0, 0, 1]"
      ]
     },
     "execution_count": 174,
     "metadata": {},
     "output_type": "execute_result"
    }
   ],
   "source": [
    "# the viz stuff\n",
    "%matplotlib inline\n",
    "import matplotlib.pyplot as plt # mpl is the base of all python plotting angst\n",
    "import seaborn as sns # put some trainer wheels & lipstick on mpl\n",
    "\n",
    "def visualize_squares_used(key_string):\n",
    "    grid = [[int(i) for i in binary_hash(k)[2:]] for k in key_string]\n",
    "    return grid\n",
    "\n",
    "disk = visualize_squares_used(puzzle_input)\n",
    "disk[0][:16]"
   ]
  },
  {
   "cell_type": "code",
   "execution_count": 175,
   "metadata": {},
   "outputs": [
    {
     "data": {
      "text/plain": [
       "(128, 126)"
      ]
     },
     "execution_count": 175,
     "metadata": {},
     "output_type": "execute_result"
    }
   ],
   "source": [
    "len(disk),len(disk[0])"
   ]
  },
  {
   "cell_type": "markdown",
   "metadata": {},
   "source": [
    "So that gives us the disk, now to visualize it:"
   ]
  },
  {
   "cell_type": "code",
   "execution_count": 180,
   "metadata": {},
   "outputs": [
    {
     "data": {
      "text/plain": [
       "[<matplotlib.lines.Line2D at 0x7f3065d7ce10>]"
      ]
     },
     "execution_count": 180,
     "metadata": {},
     "output_type": "execute_result"
    },
    {
     "data": {
      "image/png": "[encoded data removed]",
      "text/plain": [
       "<matplotlib.figure.Figure at 0x7f3065b95d30>"
      ]
     },
     "metadata": {},
     "output_type": "display_data"
    }
   ],
   "source": [
    "#plt.imshow(disk, cmap='hot', interpolation='nearest')\n",
    "plt.plot(disk[0])\n",
    "plt.plot(2*np.array(disk[1]), )"
   ]
  },
  {
   "cell_type": "code",
   "execution_count": 184,
   "metadata": {},
   "outputs": [
    {
     "data": {
      "image/png": "[encoded data removed]",
      "text/plain": [
       "<matplotlib.figure.Figure at 0x7f306603eac8>"
      ]
     },
     "metadata": {},
     "output_type": "display_data"
    }
   ],
   "source": [
    "def plot_array(disk):\n",
    "    for i, row in enumerate(disk):\n",
    "        plt.scatter(row, [i for _ in range(len(disk[i]))])\n",
    "\n",
    "plot_array(disk[:3])"
   ]
  },
  {
   "cell_type": "code",
   "execution_count": 187,
   "metadata": {},
   "outputs": [
    {
     "ename": "ZeroDivisionError",
     "evalue": "division by zero",
     "output_type": "error",
     "traceback": [
      "\u001b[0;31m---------------------------------------------------------------------------\u001b[0m",
      "\u001b[0;31mZeroDivisionError\u001b[0m                         Traceback (most recent call last)",
      "\u001b[0;32m<ipython-input-187-8d7f639a05a0>\u001b[0m in \u001b[0;36m<module>\u001b[0;34m()\u001b[0m\n\u001b[0;32m----> 1\u001b[0;31m \u001b[0mnp\u001b[0m\u001b[0;34m.\u001b[0m\u001b[0marange\u001b[0m\u001b[0;34m(\u001b[0m\u001b[0;36m1\u001b[0m\u001b[0;34m,\u001b[0m\u001b[0mstep\u001b[0m\u001b[0;34m=\u001b[0m\u001b[0;36m0\u001b[0m\u001b[0;34m)\u001b[0m\u001b[0;34m\u001b[0m\u001b[0m\n\u001b[0m",
      "\u001b[0;31mZeroDivisionError\u001b[0m: division by zero"
     ]
    }
   ],
   "source": [
    "np.arange(1,step=0)"
   ]
  },
  {
   "cell_type": "code",
   "execution_count": null,
   "metadata": {
    "collapsed": true
   },
   "outputs": [],
   "source": []
  }
 ],
 "metadata": {
  "kernelspec": {
   "display_name": "Python 3",
   "language": "python",
   "name": "python3"
  },
  "language_info": {
   "codemirror_mode": {
    "name": "ipython",
    "version": 3
   },
   "file_extension": ".py",
   "mimetype": "text/x-python",
   "name": "python",
   "nbconvert_exporter": "python",
   "pygments_lexer": "ipython3",
   "version": "3.6.3"
  }
 },
 "nbformat": 4,
 "nbformat_minor": 2
}
